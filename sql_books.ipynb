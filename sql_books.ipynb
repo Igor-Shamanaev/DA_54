{
 "cells": [
  {
   "cell_type": "markdown",
   "id": "c0175b28",
   "metadata": {},
   "source": [
    "# SQL"
   ]
  },
  {
   "cell_type": "markdown",
   "id": "0fe4a6c1",
   "metadata": {},
   "source": [
    "Компания купила крупный сервис для чтения книг по подписке. Моя первая задача как аналитика — проанализировать базу данных.\n",
    "В ней — информация о книгах, издательствах, авторах, а также пользовательские обзоры книг. Эти данные помогут сформулировать ценностное предложение для нового продукта."
   ]
  },
  {
   "cell_type": "markdown",
   "id": "44d1284c",
   "metadata": {},
   "source": [
    "## Цель"
   ]
  },
  {
   "cell_type": "markdown",
   "id": "c485fe6d",
   "metadata": {},
   "source": [
    "Целью исследования является анализ данных о книжном рынке, содержащихся в предлагаемой базе данных, проведенный анализ должен помочь сформулировать ценностное предложение для нового продукта."
   ]
  },
  {
   "cell_type": "markdown",
   "id": "c6e4211e",
   "metadata": {},
   "source": [
    "В нашем распоряжении информация о книгах, издательствах, авторах, а также пользовательские обзоры книг. \n",
    "База данных, содержащая таблицы `books`, `authors`, `publishers`, `ratings` и `reviews`."
   ]
  },
  {
   "cell_type": "markdown",
   "id": "e7d33c4c",
   "metadata": {},
   "source": [
    "## Исследование таблиц"
   ]
  },
  {
   "cell_type": "code",
   "execution_count": 1,
   "id": "8f2f7890",
   "metadata": {},
   "outputs": [],
   "source": [
    "# импортируем библиотеки\n",
    "import pandas as pd \n",
    "from sqlalchemy import create_engine"
   ]
  },
  {
   "cell_type": "code",
   "execution_count": 2,
   "id": "e86da5a3",
   "metadata": {},
   "outputs": [],
   "source": [
    "# устанавливаем параметры\n",
    "db_config = {'user': 'praktikum_student', # имя пользователя\n",
    "'pwd': 'Sdf4$2;d-d30pp', # пароль\n",
    "'host': 'rc1b-wcoijxj3yxfsf3fs.mdb.yandexcloud.net', \n",
    "'port': 6432, # порт подключения\n",
    "'db': 'data-analyst-final-project-db'} # название базы данных\n",
    "connection_string = 'postgresql://{}:{}@{}:{}/{}'.format(db_config['user'], \n",
    " db_config['pwd'], \n",
    " db_config['host'], \n",
    " db_config['port'], \n",
    " db_config['db']) \n",
    "# сохраняем коннектор\n",
    "engine = create_engine(connection_string, connect_args={'sslmode':'require'})"
   ]
  },
  {
   "cell_type": "code",
   "execution_count": 3,
   "id": "4a98b5de",
   "metadata": {},
   "outputs": [],
   "source": [
    "def query(sql):\n",
    "    return pd.io.sql.read_sql(sql, con = engine)"
   ]
  },
  {
   "cell_type": "markdown",
   "id": "5242d659",
   "metadata": {},
   "source": [
    "Исследуем таблицы, выведем первые строки - узнаем содержание колонок, узнаем объем данных."
   ]
  },
  {
   "cell_type": "markdown",
   "id": "a6d0c1cc",
   "metadata": {},
   "source": [
    "### Таблица `books`"
   ]
  },
  {
   "cell_type": "code",
   "execution_count": 4,
   "id": "f2186335",
   "metadata": {},
   "outputs": [
    {
     "data": {
      "text/html": [
       "<div>\n",
       "<style scoped>\n",
       "    .dataframe tbody tr th:only-of-type {\n",
       "        vertical-align: middle;\n",
       "    }\n",
       "\n",
       "    .dataframe tbody tr th {\n",
       "        vertical-align: top;\n",
       "    }\n",
       "\n",
       "    .dataframe thead th {\n",
       "        text-align: right;\n",
       "    }\n",
       "</style>\n",
       "<table border=\"1\" class=\"dataframe\">\n",
       "  <thead>\n",
       "    <tr style=\"text-align: right;\">\n",
       "      <th></th>\n",
       "      <th>book_id</th>\n",
       "      <th>author_id</th>\n",
       "      <th>title</th>\n",
       "      <th>num_pages</th>\n",
       "      <th>publication_date</th>\n",
       "      <th>publisher_id</th>\n",
       "    </tr>\n",
       "  </thead>\n",
       "  <tbody>\n",
       "    <tr>\n",
       "      <th>0</th>\n",
       "      <td>1</td>\n",
       "      <td>546</td>\n",
       "      <td>'Salem's Lot</td>\n",
       "      <td>594</td>\n",
       "      <td>2005-11-01</td>\n",
       "      <td>93</td>\n",
       "    </tr>\n",
       "    <tr>\n",
       "      <th>1</th>\n",
       "      <td>2</td>\n",
       "      <td>465</td>\n",
       "      <td>1 000 Places to See Before You Die</td>\n",
       "      <td>992</td>\n",
       "      <td>2003-05-22</td>\n",
       "      <td>336</td>\n",
       "    </tr>\n",
       "    <tr>\n",
       "      <th>2</th>\n",
       "      <td>3</td>\n",
       "      <td>407</td>\n",
       "      <td>13 Little Blue Envelopes (Little Blue Envelope...</td>\n",
       "      <td>322</td>\n",
       "      <td>2010-12-21</td>\n",
       "      <td>135</td>\n",
       "    </tr>\n",
       "  </tbody>\n",
       "</table>\n",
       "</div>"
      ],
      "text/plain": [
       "   book_id  author_id                                              title  \\\n",
       "0        1        546                                       'Salem's Lot   \n",
       "1        2        465                 1 000 Places to See Before You Die   \n",
       "2        3        407  13 Little Blue Envelopes (Little Blue Envelope...   \n",
       "\n",
       "   num_pages publication_date  publisher_id  \n",
       "0        594       2005-11-01            93  \n",
       "1        992       2003-05-22           336  \n",
       "2        322       2010-12-21           135  "
      ]
     },
     "execution_count": 4,
     "metadata": {},
     "output_type": "execute_result"
    }
   ],
   "source": [
    "sql='''\n",
    "SELECT *\n",
    "FROM books b\n",
    "LIMIT 3\n",
    "'''\n",
    "query(sql)"
   ]
  },
  {
   "cell_type": "markdown",
   "id": "26e62b31",
   "metadata": {},
   "source": [
    "В таблице `books` представлены идентификаторы книг и авторов, названия книг, количество страниц, дату издания, а также идентификатор издательства."
   ]
  },
  {
   "cell_type": "code",
   "execution_count": 5,
   "id": "50c71d3a",
   "metadata": {},
   "outputs": [
    {
     "name": "stdout",
     "output_type": "stream",
     "text": [
      "Таблица `books` содержит 1000 строк.\n"
     ]
    }
   ],
   "source": [
    "sql='''\n",
    "SELECT count(b.book_id) AS cnt\n",
    "FROM books b\n",
    "'''\n",
    "query(sql)\n",
    "print(f'Таблица `books` содержит {pd.io.sql.read_sql(sql, con = engine).iloc[0,0]} строк.')"
   ]
  },
  {
   "cell_type": "markdown",
   "id": "4c1e19c2",
   "metadata": {},
   "source": [
    "### Таблица `authors`"
   ]
  },
  {
   "cell_type": "code",
   "execution_count": 6,
   "id": "cdb42620",
   "metadata": {},
   "outputs": [
    {
     "data": {
      "text/html": [
       "<div>\n",
       "<style scoped>\n",
       "    .dataframe tbody tr th:only-of-type {\n",
       "        vertical-align: middle;\n",
       "    }\n",
       "\n",
       "    .dataframe tbody tr th {\n",
       "        vertical-align: top;\n",
       "    }\n",
       "\n",
       "    .dataframe thead th {\n",
       "        text-align: right;\n",
       "    }\n",
       "</style>\n",
       "<table border=\"1\" class=\"dataframe\">\n",
       "  <thead>\n",
       "    <tr style=\"text-align: right;\">\n",
       "      <th></th>\n",
       "      <th>author_id</th>\n",
       "      <th>author</th>\n",
       "    </tr>\n",
       "  </thead>\n",
       "  <tbody>\n",
       "    <tr>\n",
       "      <th>0</th>\n",
       "      <td>1</td>\n",
       "      <td>A.S. Byatt</td>\n",
       "    </tr>\n",
       "    <tr>\n",
       "      <th>1</th>\n",
       "      <td>2</td>\n",
       "      <td>Aesop/Laura Harris/Laura Gibbs</td>\n",
       "    </tr>\n",
       "    <tr>\n",
       "      <th>2</th>\n",
       "      <td>3</td>\n",
       "      <td>Agatha Christie</td>\n",
       "    </tr>\n",
       "  </tbody>\n",
       "</table>\n",
       "</div>"
      ],
      "text/plain": [
       "   author_id                          author\n",
       "0          1                      A.S. Byatt\n",
       "1          2  Aesop/Laura Harris/Laura Gibbs\n",
       "2          3                 Agatha Christie"
      ]
     },
     "execution_count": 6,
     "metadata": {},
     "output_type": "execute_result"
    }
   ],
   "source": [
    "sql='''\n",
    "SELECT *\n",
    "FROM authors a\n",
    "LIMIT 3\n",
    "'''\n",
    "query(sql)"
   ]
  },
  {
   "cell_type": "markdown",
   "id": "2b0c637c",
   "metadata": {},
   "source": [
    "Таблица `authors` содержит идентификаторы авторов и имена."
   ]
  },
  {
   "cell_type": "code",
   "execution_count": 7,
   "id": "f350b44c",
   "metadata": {},
   "outputs": [
    {
     "name": "stdout",
     "output_type": "stream",
     "text": [
      "Таблица `authors` содержит 636 строк.\n"
     ]
    }
   ],
   "source": [
    "sql='''\n",
    "SELECT count(a.author_id) AS cnt\n",
    "FROM authors a\n",
    "'''\n",
    "query(sql)\n",
    "print(f'Таблица `authors` содержит {pd.io.sql.read_sql(sql, con = engine).iloc[0,0]} строк.')"
   ]
  },
  {
   "cell_type": "markdown",
   "id": "05d08c34",
   "metadata": {},
   "source": [
    "### Таблица `publishers`"
   ]
  },
  {
   "cell_type": "code",
   "execution_count": 8,
   "id": "12eb8af6",
   "metadata": {},
   "outputs": [
    {
     "data": {
      "text/html": [
       "<div>\n",
       "<style scoped>\n",
       "    .dataframe tbody tr th:only-of-type {\n",
       "        vertical-align: middle;\n",
       "    }\n",
       "\n",
       "    .dataframe tbody tr th {\n",
       "        vertical-align: top;\n",
       "    }\n",
       "\n",
       "    .dataframe thead th {\n",
       "        text-align: right;\n",
       "    }\n",
       "</style>\n",
       "<table border=\"1\" class=\"dataframe\">\n",
       "  <thead>\n",
       "    <tr style=\"text-align: right;\">\n",
       "      <th></th>\n",
       "      <th>publisher_id</th>\n",
       "      <th>publisher</th>\n",
       "    </tr>\n",
       "  </thead>\n",
       "  <tbody>\n",
       "    <tr>\n",
       "      <th>0</th>\n",
       "      <td>1</td>\n",
       "      <td>Ace</td>\n",
       "    </tr>\n",
       "    <tr>\n",
       "      <th>1</th>\n",
       "      <td>2</td>\n",
       "      <td>Ace Book</td>\n",
       "    </tr>\n",
       "    <tr>\n",
       "      <th>2</th>\n",
       "      <td>3</td>\n",
       "      <td>Ace Books</td>\n",
       "    </tr>\n",
       "  </tbody>\n",
       "</table>\n",
       "</div>"
      ],
      "text/plain": [
       "   publisher_id  publisher\n",
       "0             1        Ace\n",
       "1             2   Ace Book\n",
       "2             3  Ace Books"
      ]
     },
     "execution_count": 8,
     "metadata": {},
     "output_type": "execute_result"
    }
   ],
   "source": [
    "sql='''\n",
    "SELECT *\n",
    "FROM publishers p\n",
    "LIMIT 3\n",
    "'''\n",
    "query(sql)"
   ]
  },
  {
   "cell_type": "markdown",
   "id": "c4acdd77",
   "metadata": {},
   "source": [
    "Таблица `publishers` содержит информацию об идентификаторах и названиях издательств."
   ]
  },
  {
   "cell_type": "code",
   "execution_count": 9,
   "id": "f95bc6bf",
   "metadata": {},
   "outputs": [
    {
     "name": "stdout",
     "output_type": "stream",
     "text": [
      "Таблица `publishers` содержит 340 строк.\n"
     ]
    }
   ],
   "source": [
    "sql='''\n",
    "SELECT count(p.publisher_id) AS cnt\n",
    "FROM publishers p\n",
    "'''\n",
    "query(sql)\n",
    "print(f'Таблица `publishers` содержит {pd.io.sql.read_sql(sql, con = engine).iloc[0,0]} строк.')"
   ]
  },
  {
   "cell_type": "markdown",
   "id": "1ebd1951",
   "metadata": {},
   "source": [
    "### Таблица `ratings`"
   ]
  },
  {
   "cell_type": "code",
   "execution_count": 10,
   "id": "bb61e8a3",
   "metadata": {},
   "outputs": [
    {
     "data": {
      "text/html": [
       "<div>\n",
       "<style scoped>\n",
       "    .dataframe tbody tr th:only-of-type {\n",
       "        vertical-align: middle;\n",
       "    }\n",
       "\n",
       "    .dataframe tbody tr th {\n",
       "        vertical-align: top;\n",
       "    }\n",
       "\n",
       "    .dataframe thead th {\n",
       "        text-align: right;\n",
       "    }\n",
       "</style>\n",
       "<table border=\"1\" class=\"dataframe\">\n",
       "  <thead>\n",
       "    <tr style=\"text-align: right;\">\n",
       "      <th></th>\n",
       "      <th>rating_id</th>\n",
       "      <th>book_id</th>\n",
       "      <th>username</th>\n",
       "      <th>rating</th>\n",
       "    </tr>\n",
       "  </thead>\n",
       "  <tbody>\n",
       "    <tr>\n",
       "      <th>0</th>\n",
       "      <td>1</td>\n",
       "      <td>1</td>\n",
       "      <td>ryanfranco</td>\n",
       "      <td>4</td>\n",
       "    </tr>\n",
       "    <tr>\n",
       "      <th>1</th>\n",
       "      <td>2</td>\n",
       "      <td>1</td>\n",
       "      <td>grantpatricia</td>\n",
       "      <td>2</td>\n",
       "    </tr>\n",
       "    <tr>\n",
       "      <th>2</th>\n",
       "      <td>3</td>\n",
       "      <td>1</td>\n",
       "      <td>brandtandrea</td>\n",
       "      <td>5</td>\n",
       "    </tr>\n",
       "  </tbody>\n",
       "</table>\n",
       "</div>"
      ],
      "text/plain": [
       "   rating_id  book_id       username  rating\n",
       "0          1        1     ryanfranco       4\n",
       "1          2        1  grantpatricia       2\n",
       "2          3        1   brandtandrea       5"
      ]
     },
     "execution_count": 10,
     "metadata": {},
     "output_type": "execute_result"
    }
   ],
   "source": [
    "sql='''\n",
    "SELECT *\n",
    "FROM ratings r\n",
    "LIMIT 3\n",
    "'''\n",
    "query(sql)"
   ]
  },
  {
   "cell_type": "markdown",
   "id": "6e4530b8",
   "metadata": {},
   "source": [
    "Таблица `ratings` содержит информацию об идентификаторах оценок книг, а также имя пользователя и поставленная этим пользователем оценка."
   ]
  },
  {
   "cell_type": "code",
   "execution_count": 11,
   "id": "3fb8919f",
   "metadata": {},
   "outputs": [
    {
     "name": "stdout",
     "output_type": "stream",
     "text": [
      "Таблица `ratings` оценок содержит 6456 строк.\n"
     ]
    }
   ],
   "source": [
    "sql='''\n",
    "SELECT count(r.rating_id) AS cnt\n",
    "FROM ratings r\n",
    "'''\n",
    "query(sql)\n",
    "print(f'Таблица `ratings` оценок содержит {pd.io.sql.read_sql(sql, con = engine).iloc[0,0]} строк.')"
   ]
  },
  {
   "cell_type": "markdown",
   "id": "78d9c64f",
   "metadata": {},
   "source": [
    "### Таблица `reviews`"
   ]
  },
  {
   "cell_type": "code",
   "execution_count": 12,
   "id": "5eac87b3",
   "metadata": {},
   "outputs": [
    {
     "data": {
      "text/html": [
       "<div>\n",
       "<style scoped>\n",
       "    .dataframe tbody tr th:only-of-type {\n",
       "        vertical-align: middle;\n",
       "    }\n",
       "\n",
       "    .dataframe tbody tr th {\n",
       "        vertical-align: top;\n",
       "    }\n",
       "\n",
       "    .dataframe thead th {\n",
       "        text-align: right;\n",
       "    }\n",
       "</style>\n",
       "<table border=\"1\" class=\"dataframe\">\n",
       "  <thead>\n",
       "    <tr style=\"text-align: right;\">\n",
       "      <th></th>\n",
       "      <th>review_id</th>\n",
       "      <th>book_id</th>\n",
       "      <th>username</th>\n",
       "      <th>text</th>\n",
       "    </tr>\n",
       "  </thead>\n",
       "  <tbody>\n",
       "    <tr>\n",
       "      <th>0</th>\n",
       "      <td>1</td>\n",
       "      <td>1</td>\n",
       "      <td>brandtandrea</td>\n",
       "      <td>Mention society tell send professor analysis. ...</td>\n",
       "    </tr>\n",
       "    <tr>\n",
       "      <th>1</th>\n",
       "      <td>2</td>\n",
       "      <td>1</td>\n",
       "      <td>ryanfranco</td>\n",
       "      <td>Foot glass pretty audience hit themselves. Amo...</td>\n",
       "    </tr>\n",
       "    <tr>\n",
       "      <th>2</th>\n",
       "      <td>3</td>\n",
       "      <td>2</td>\n",
       "      <td>lorichen</td>\n",
       "      <td>Listen treat keep worry. Miss husband tax but ...</td>\n",
       "    </tr>\n",
       "  </tbody>\n",
       "</table>\n",
       "</div>"
      ],
      "text/plain": [
       "   review_id  book_id      username  \\\n",
       "0          1        1  brandtandrea   \n",
       "1          2        1    ryanfranco   \n",
       "2          3        2      lorichen   \n",
       "\n",
       "                                                text  \n",
       "0  Mention society tell send professor analysis. ...  \n",
       "1  Foot glass pretty audience hit themselves. Amo...  \n",
       "2  Listen treat keep worry. Miss husband tax but ...  "
      ]
     },
     "execution_count": 12,
     "metadata": {},
     "output_type": "execute_result"
    }
   ],
   "source": [
    "sql='''\n",
    "SELECT *\n",
    "FROM reviews rev\n",
    "LIMIT 3\n",
    "'''\n",
    "query(sql)"
   ]
  },
  {
   "cell_type": "markdown",
   "id": "8c65e10e",
   "metadata": {},
   "source": [
    "Таблица `reviews` содержит информацию об идентификаторах обзоров и книг, а также имя пользователя и текст обзора."
   ]
  },
  {
   "cell_type": "code",
   "execution_count": 13,
   "id": "3ebc1f0f",
   "metadata": {},
   "outputs": [
    {
     "name": "stdout",
     "output_type": "stream",
     "text": [
      "Таблица `reviews` содержит 2793 строк.\n"
     ]
    }
   ],
   "source": [
    "sql='''\n",
    "SELECT count(rev.review_id) AS cnt\n",
    "FROM reviews rev\n",
    "'''\n",
    "query(sql)\n",
    "print(f'Таблица `reviews` содержит {pd.io.sql.read_sql(sql, con = engine).iloc[0,0]} строк.')"
   ]
  },
  {
   "cell_type": "markdown",
   "id": "c67c9d17",
   "metadata": {},
   "source": [
    "## Задания"
   ]
  },
  {
   "cell_type": "markdown",
   "id": "0d28f8d7",
   "metadata": {},
   "source": [
    "### Посчитайте, сколько книг вышло после 1 января 2000 года"
   ]
  },
  {
   "cell_type": "code",
   "execution_count": 14,
   "id": "cca02657",
   "metadata": {},
   "outputs": [
    {
     "name": "stdout",
     "output_type": "stream",
     "text": [
      "После 1 января 2000 года вышло 819 книг\n"
     ]
    }
   ],
   "source": [
    "sql = '''SELECT COUNT(*) \n",
    "FROM books\n",
    "WHERE publication_date > '2000-01-01';\n",
    "'''\n",
    "query(sql)\n",
    "\n",
    "print(f'После 1 января 2000 года вышло {pd.io.sql.read_sql(sql, con = engine).iloc[0,0]} книг')"
   ]
  },
  {
   "cell_type": "markdown",
   "id": "071dc49a",
   "metadata": {},
   "source": [
    "### Для каждой книги посчитайте количество обзоров и среднюю оценку"
   ]
  },
  {
   "cell_type": "code",
   "execution_count": 15,
   "id": "e9c62eba",
   "metadata": {},
   "outputs": [
    {
     "data": {
      "text/html": [
       "<div>\n",
       "<style scoped>\n",
       "    .dataframe tbody tr th:only-of-type {\n",
       "        vertical-align: middle;\n",
       "    }\n",
       "\n",
       "    .dataframe tbody tr th {\n",
       "        vertical-align: top;\n",
       "    }\n",
       "\n",
       "    .dataframe thead th {\n",
       "        text-align: right;\n",
       "    }\n",
       "</style>\n",
       "<table border=\"1\" class=\"dataframe\">\n",
       "  <thead>\n",
       "    <tr style=\"text-align: right;\">\n",
       "      <th></th>\n",
       "      <th>book_id</th>\n",
       "      <th>title</th>\n",
       "      <th>count_reviews</th>\n",
       "      <th>average_rating</th>\n",
       "    </tr>\n",
       "  </thead>\n",
       "  <tbody>\n",
       "    <tr>\n",
       "      <th>0</th>\n",
       "      <td>17</td>\n",
       "      <td>A Dirty Job (Grim Reaper  #1)</td>\n",
       "      <td>4</td>\n",
       "      <td>5.0</td>\n",
       "    </tr>\n",
       "    <tr>\n",
       "      <th>1</th>\n",
       "      <td>20</td>\n",
       "      <td>A Fistful of Charms (The Hollows  #4)</td>\n",
       "      <td>2</td>\n",
       "      <td>5.0</td>\n",
       "    </tr>\n",
       "    <tr>\n",
       "      <th>2</th>\n",
       "      <td>55</td>\n",
       "      <td>A Woman of Substance (Emma Harte Saga #1)</td>\n",
       "      <td>2</td>\n",
       "      <td>5.0</td>\n",
       "    </tr>\n",
       "  </tbody>\n",
       "</table>\n",
       "</div>"
      ],
      "text/plain": [
       "   book_id                                      title  count_reviews  \\\n",
       "0       17              A Dirty Job (Grim Reaper  #1)              4   \n",
       "1       20      A Fistful of Charms (The Hollows  #4)              2   \n",
       "2       55  A Woman of Substance (Emma Harte Saga #1)              2   \n",
       "\n",
       "   average_rating  \n",
       "0             5.0  \n",
       "1             5.0  \n",
       "2             5.0  "
      ]
     },
     "execution_count": 15,
     "metadata": {},
     "output_type": "execute_result"
    }
   ],
   "source": [
    "sql = '''WITH average_rating AS\n",
    "  (SELECT b.book_id,\n",
    "          title,\n",
    "          avg(r.rating) AS average_rating\n",
    "   FROM books b\n",
    "   LEFT JOIN ratings r ON r.book_id = b.book_id\n",
    "   GROUP BY b.book_id),\n",
    "     count_reviews AS\n",
    "  (SELECT b.book_id,\n",
    "          title,\n",
    "          count(rev.review_id) AS count_reviews\n",
    "   FROM books b\n",
    "   LEFT JOIN reviews rev ON rev.book_id = b.book_id\n",
    "   GROUP BY b.book_id)\n",
    "SELECT a.book_id,\n",
    "       a.title, \n",
    "       c.count_reviews,\n",
    "       a.average_rating\n",
    "FROM average_rating a\n",
    "JOIN count_reviews c ON a.book_id = c.book_id\n",
    "ORDER BY a.average_rating DESC\n",
    "LIMIT 3\n",
    "'''\n",
    "query(sql)"
   ]
  },
  {
   "cell_type": "markdown",
   "id": "a044d0da",
   "metadata": {},
   "source": [
    "Для каждой книги определены количество обзоров и среднюя оценка.\n",
    "Отсортировав данные можно видеть, что максимальной оценкой является 5, а минимальной - 1.5."
   ]
  },
  {
   "cell_type": "markdown",
   "id": "54d9196b",
   "metadata": {},
   "source": [
    "### Определите издательство, которое выпустило наибольшее число книг толще 50 страниц — так вы исключите из анализа брошюры"
   ]
  },
  {
   "cell_type": "code",
   "execution_count": 16,
   "id": "f007ed88",
   "metadata": {},
   "outputs": [
    {
     "data": {
      "text/html": [
       "<div>\n",
       "<style scoped>\n",
       "    .dataframe tbody tr th:only-of-type {\n",
       "        vertical-align: middle;\n",
       "    }\n",
       "\n",
       "    .dataframe tbody tr th {\n",
       "        vertical-align: top;\n",
       "    }\n",
       "\n",
       "    .dataframe thead th {\n",
       "        text-align: right;\n",
       "    }\n",
       "</style>\n",
       "<table border=\"1\" class=\"dataframe\">\n",
       "  <thead>\n",
       "    <tr style=\"text-align: right;\">\n",
       "      <th></th>\n",
       "      <th>publisher_id</th>\n",
       "      <th>publisher</th>\n",
       "      <th>cnt</th>\n",
       "    </tr>\n",
       "  </thead>\n",
       "  <tbody>\n",
       "    <tr>\n",
       "      <th>0</th>\n",
       "      <td>212</td>\n",
       "      <td>Penguin Books</td>\n",
       "      <td>42</td>\n",
       "    </tr>\n",
       "  </tbody>\n",
       "</table>\n",
       "</div>"
      ],
      "text/plain": [
       "   publisher_id      publisher  cnt\n",
       "0           212  Penguin Books   42"
      ]
     },
     "execution_count": 16,
     "metadata": {},
     "output_type": "execute_result"
    }
   ],
   "source": [
    "sql = '''SELECT p.publisher_id,\n",
    "       p.publisher,\n",
    "       count(book_id) AS cnt\n",
    "FROM books b\n",
    "JOIN publishers p ON p.publisher_id = b.publisher_id\n",
    "WHERE num_pages > 50\n",
    "GROUP BY p.publisher_id,\n",
    "         p.publisher\n",
    "HAVING count(book_id) =\n",
    "  (SELECT max(cnt)\n",
    "   FROM\n",
    "     (SELECT count(book_id) AS cnt\n",
    "      FROM books b\n",
    "      WHERE num_pages > 50\n",
    "      GROUP BY b.publisher_id) AS t)\n",
    "'''\n",
    "query(sql)"
   ]
  },
  {
   "cell_type": "markdown",
   "id": "598642ce",
   "metadata": {},
   "source": [
    "Наибольшее число книг толще 50 страниц (42 штуки) выпустило издательство Penguin Books."
   ]
  },
  {
   "cell_type": "markdown",
   "id": "baadf60c",
   "metadata": {},
   "source": [
    "### Определите автора с самой высокой средней оценкой книг — учитывайте только книги с 50 и более оценками"
   ]
  },
  {
   "cell_type": "code",
   "execution_count": 17,
   "id": "5946d320",
   "metadata": {},
   "outputs": [
    {
     "data": {
      "text/html": [
       "<div>\n",
       "<style scoped>\n",
       "    .dataframe tbody tr th:only-of-type {\n",
       "        vertical-align: middle;\n",
       "    }\n",
       "\n",
       "    .dataframe tbody tr th {\n",
       "        vertical-align: top;\n",
       "    }\n",
       "\n",
       "    .dataframe thead th {\n",
       "        text-align: right;\n",
       "    }\n",
       "</style>\n",
       "<table border=\"1\" class=\"dataframe\">\n",
       "  <thead>\n",
       "    <tr style=\"text-align: right;\">\n",
       "      <th></th>\n",
       "      <th>author_id</th>\n",
       "      <th>author</th>\n",
       "      <th>rating_avg</th>\n",
       "    </tr>\n",
       "  </thead>\n",
       "  <tbody>\n",
       "    <tr>\n",
       "      <th>0</th>\n",
       "      <td>236</td>\n",
       "      <td>J.K. Rowling/Mary GrandPré</td>\n",
       "      <td>4.28</td>\n",
       "    </tr>\n",
       "  </tbody>\n",
       "</table>\n",
       "</div>"
      ],
      "text/plain": [
       "   author_id                      author  rating_avg\n",
       "0        236  J.K. Rowling/Mary GrandPré        4.28"
      ]
     },
     "execution_count": 17,
     "metadata": {},
     "output_type": "execute_result"
    }
   ],
   "source": [
    "sql = '''SELECT b.author_id, a.author, ROUND(AVG(r.rating_avg), 2) AS rating_avg\n",
    "  FROM books b RIGHT JOIN (SELECT book_id, AVG(rating) AS rating_avg\n",
    "          FROM ratings\n",
    "          GROUP BY book_id\n",
    "          HAVING COUNT(rating_id) >= 50) r\n",
    "          ON b.book_id = r.book_id\n",
    "        LEFT JOIN authors a ON b.author_id = a.author_id\n",
    "GROUP BY b.author_id, a.author\n",
    "ORDER BY AVG(r.rating_avg)DESC\n",
    "LIMIT 1\n",
    "'''\n",
    "query(sql)"
   ]
  },
  {
   "cell_type": "markdown",
   "id": "ea433f71",
   "metadata": {},
   "source": [
    "Автором с самой высокой средней оценкой книг (которые имеют больше 50 оценок) является Joanne Rowling."
   ]
  },
  {
   "cell_type": "markdown",
   "id": "e1d704c1",
   "metadata": {},
   "source": [
    "### Посчитайте среднее количество обзоров от пользователей, которые поставили больше 50 оценок"
   ]
  },
  {
   "cell_type": "code",
   "execution_count": 18,
   "id": "2f9b9638",
   "metadata": {},
   "outputs": [
    {
     "name": "stdout",
     "output_type": "stream",
     "text": [
      "Среднее количество обзоров пользователей, поставивших более 50 оценок равно 24.333333333333332 обзора.\n"
     ]
    }
   ],
   "source": [
    "sql = '''WITH users_more_50 AS\n",
    "  (SELECT r.username\n",
    "   FROM ratings r\n",
    "   GROUP BY r.username\n",
    "   HAVING (count(r.rating_id) > 50))\n",
    "SELECT avg(t.cnt) AS avg_review\n",
    "FROM\n",
    "  (SELECT count(rev.review_id) AS cnt\n",
    "   FROM reviews rev\n",
    "   WHERE rev.username in\n",
    "       (SELECT *\n",
    "        FROM users_more_50)\n",
    "   GROUP BY rev.username) AS t\n",
    "'''\n",
    "query(sql)\n",
    "print(f'Среднее количество обзоров пользователей, поставивших более 50 оценок равно {pd.io.sql.read_sql(sql, con = engine).iloc[0,0]} обзора.')"
   ]
  },
  {
   "cell_type": "markdown",
   "id": "66e6f9a2",
   "metadata": {},
   "source": [
    "## Выводы"
   ]
  },
  {
   "cell_type": "markdown",
   "id": "d5c476e6",
   "metadata": {},
   "source": [
    "В ходе исследования базы данных были изучены таблицы, содержащие информацию о книгах: об авторах, издательствах, оценках и обзорах. При анализе данных были определены следующие факты:\n",
    "\n",
    "- в базе данных хранится информация о 1000 книг, 636 авторах, 340 издательствах, 6456 пользовтельских оценках и о 2793 пользовательских обзорах на книги;\n",
    "- 819 книг из 1000 были изданы после 1 января 2000 года;\n",
    "- для каждой книги посчитано количество обзоров и средняя оценка;\n",
    "- наибольшее количество книг толще 50 страниц выпустило издательство Penguin Books;\n",
    "- автором с самой высокой оценкой книг (из книг с 50 и более оценками) является Diana Gabaldon;\n",
    "- пользователи, поставившие более 50 оценок, в среднем делают по 24 обзора."
   ]
  },
  {
   "cell_type": "code",
   "execution_count": null,
   "metadata": {},
   "outputs": [],
   "source": []
  }
 ],
 "metadata": {
  "ExecuteTimeLog": [
   {
    "duration": 512,
    "start_time": "2023-01-27T12:46:55.996Z"
   },
   {
    "duration": 5701,
    "start_time": "2023-01-27T12:46:56.510Z"
   },
   {
    "duration": 3,
    "start_time": "2023-01-27T12:47:02.212Z"
   },
   {
    "duration": 101,
    "start_time": "2023-01-27T12:47:02.216Z"
   },
   {
    "duration": 43,
    "start_time": "2023-01-27T12:47:02.320Z"
   },
   {
    "duration": 22,
    "start_time": "2023-01-27T12:47:02.365Z"
   },
   {
    "duration": 19,
    "start_time": "2023-01-27T12:47:02.389Z"
   },
   {
    "duration": 49,
    "start_time": "2023-01-27T12:47:02.410Z"
   },
   {
    "duration": 27,
    "start_time": "2023-01-27T12:47:02.461Z"
   },
   {
    "duration": 23,
    "start_time": "2023-01-27T12:47:02.490Z"
   },
   {
    "duration": 19,
    "start_time": "2023-01-27T12:47:02.514Z"
   },
   {
    "duration": 41,
    "start_time": "2023-01-27T12:47:02.535Z"
   },
   {
    "duration": 27,
    "start_time": "2023-01-27T12:47:02.578Z"
   },
   {
    "duration": 69,
    "start_time": "2023-01-27T12:47:02.607Z"
   },
   {
    "duration": 61,
    "start_time": "2023-01-27T12:47:02.678Z"
   },
   {
    "duration": 43,
    "start_time": "2023-01-27T12:47:02.740Z"
   },
   {
    "duration": 30,
    "start_time": "2023-01-27T12:47:02.785Z"
   },
   {
    "duration": 50,
    "start_time": "2023-01-27T12:47:02.817Z"
   },
   {
    "duration": 126,
    "start_time": "2023-01-27T13:39:49.685Z"
   },
   {
    "duration": 61,
    "start_time": "2023-01-27T14:25:45.547Z"
   },
   {
    "duration": 458,
    "start_time": "2023-01-27T14:25:52.012Z"
   },
   {
    "duration": 13801,
    "start_time": "2023-01-27T14:25:52.472Z"
   },
   {
    "duration": 3,
    "start_time": "2023-01-27T14:26:06.275Z"
   },
   {
    "duration": 287,
    "start_time": "2023-01-27T14:26:06.280Z"
   },
   {
    "duration": 141,
    "start_time": "2023-01-27T14:26:06.568Z"
   },
   {
    "duration": 76,
    "start_time": "2023-01-27T14:26:06.711Z"
   },
   {
    "duration": 140,
    "start_time": "2023-01-27T14:26:06.788Z"
   },
   {
    "duration": 74,
    "start_time": "2023-01-27T14:26:06.929Z"
   },
   {
    "duration": 140,
    "start_time": "2023-01-27T14:26:07.005Z"
   },
   {
    "duration": 76,
    "start_time": "2023-01-27T14:26:07.148Z"
   },
   {
    "duration": 142,
    "start_time": "2023-01-27T14:26:07.226Z"
   },
   {
    "duration": 77,
    "start_time": "2023-01-27T14:26:07.370Z"
   },
   {
    "duration": 141,
    "start_time": "2023-01-27T14:26:07.449Z"
   },
   {
    "duration": 140,
    "start_time": "2023-01-27T14:26:07.592Z"
   },
   {
    "duration": 84,
    "start_time": "2023-01-27T14:26:07.734Z"
   },
   {
    "duration": 78,
    "start_time": "2023-01-27T14:26:07.820Z"
   },
   {
    "duration": 85,
    "start_time": "2023-01-27T14:26:07.900Z"
   },
   {
    "duration": 143,
    "start_time": "2023-01-27T14:26:07.987Z"
   },
   {
    "duration": 456,
    "start_time": "2023-01-27T14:29:30.524Z"
   },
   {
    "duration": 11847,
    "start_time": "2023-01-27T14:29:30.982Z"
   },
   {
    "duration": 2,
    "start_time": "2023-01-27T14:29:42.831Z"
   },
   {
    "duration": 265,
    "start_time": "2023-01-27T14:29:42.836Z"
   },
   {
    "duration": 138,
    "start_time": "2023-01-27T14:29:43.103Z"
   },
   {
    "duration": 74,
    "start_time": "2023-01-27T14:29:43.243Z"
   },
   {
    "duration": 140,
    "start_time": "2023-01-27T14:29:43.319Z"
   },
   {
    "duration": 74,
    "start_time": "2023-01-27T14:29:43.461Z"
   },
   {
    "duration": 141,
    "start_time": "2023-01-27T14:29:43.537Z"
   },
   {
    "duration": 76,
    "start_time": "2023-01-27T14:29:43.680Z"
   },
   {
    "duration": 143,
    "start_time": "2023-01-27T14:29:43.757Z"
   },
   {
    "duration": 76,
    "start_time": "2023-01-27T14:29:43.902Z"
   },
   {
    "duration": 141,
    "start_time": "2023-01-27T14:29:43.981Z"
   },
   {
    "duration": 138,
    "start_time": "2023-01-27T14:29:44.124Z"
   },
   {
    "duration": 83,
    "start_time": "2023-01-27T14:29:44.264Z"
   },
   {
    "duration": 79,
    "start_time": "2023-01-27T14:29:44.348Z"
   },
   {
    "duration": 81,
    "start_time": "2023-01-27T14:29:44.428Z"
   },
   {
    "duration": 145,
    "start_time": "2023-01-27T14:29:44.511Z"
   },
   {
    "duration": 496,
    "start_time": "2023-01-27T14:45:42.331Z"
   },
   {
    "duration": 11014,
    "start_time": "2023-01-27T14:45:42.829Z"
   },
   {
    "duration": 4,
    "start_time": "2023-01-27T14:45:53.845Z"
   },
   {
    "duration": 270,
    "start_time": "2023-01-27T14:45:53.850Z"
   },
   {
    "duration": 147,
    "start_time": "2023-01-27T14:45:54.122Z"
   },
   {
    "duration": 86,
    "start_time": "2023-01-27T14:45:54.270Z"
   },
   {
    "duration": 145,
    "start_time": "2023-01-27T14:45:54.358Z"
   },
   {
    "duration": 77,
    "start_time": "2023-01-27T14:45:54.505Z"
   },
   {
    "duration": 157,
    "start_time": "2023-01-27T14:45:54.584Z"
   },
   {
    "duration": 75,
    "start_time": "2023-01-27T14:45:54.742Z"
   },
   {
    "duration": 148,
    "start_time": "2023-01-27T14:45:54.819Z"
   },
   {
    "duration": 86,
    "start_time": "2023-01-27T14:45:54.969Z"
   },
   {
    "duration": 146,
    "start_time": "2023-01-27T14:45:55.057Z"
   },
   {
    "duration": 146,
    "start_time": "2023-01-27T14:45:55.206Z"
   },
   {
    "duration": 82,
    "start_time": "2023-01-27T14:45:55.354Z"
   },
   {
    "duration": 76,
    "start_time": "2023-01-27T14:45:55.438Z"
   },
   {
    "duration": 87,
    "start_time": "2023-01-27T14:45:55.516Z"
   },
   {
    "duration": 156,
    "start_time": "2023-01-27T14:45:55.605Z"
   },
   {
    "duration": 78,
    "start_time": "2023-01-27T16:59:07.382Z"
   },
   {
    "duration": 571,
    "start_time": "2023-01-27T16:59:27.465Z"
   },
   {
    "duration": 8233,
    "start_time": "2023-01-27T16:59:28.039Z"
   },
   {
    "duration": 3,
    "start_time": "2023-01-27T16:59:36.273Z"
   },
   {
    "duration": 288,
    "start_time": "2023-01-27T16:59:36.279Z"
   },
   {
    "duration": 139,
    "start_time": "2023-01-27T16:59:36.569Z"
   },
   {
    "duration": 74,
    "start_time": "2023-01-27T16:59:36.710Z"
   },
   {
    "duration": 138,
    "start_time": "2023-01-27T16:59:36.786Z"
   },
   {
    "duration": 82,
    "start_time": "2023-01-27T16:59:36.926Z"
   },
   {
    "duration": 141,
    "start_time": "2023-01-27T16:59:37.009Z"
   },
   {
    "duration": 72,
    "start_time": "2023-01-27T16:59:37.152Z"
   },
   {
    "duration": 147,
    "start_time": "2023-01-27T16:59:37.226Z"
   },
   {
    "duration": 79,
    "start_time": "2023-01-27T16:59:37.375Z"
   },
   {
    "duration": 140,
    "start_time": "2023-01-27T16:59:37.456Z"
   },
   {
    "duration": 145,
    "start_time": "2023-01-27T16:59:37.597Z"
   },
   {
    "duration": 82,
    "start_time": "2023-01-27T16:59:37.747Z"
   },
   {
    "duration": 82,
    "start_time": "2023-01-27T16:59:37.830Z"
   },
   {
    "duration": 273,
    "start_time": "2023-01-27T16:59:37.914Z"
   },
   {
    "duration": 0,
    "start_time": "2023-01-27T16:59:38.189Z"
   },
   {
    "duration": 83,
    "start_time": "2023-01-27T17:01:08.522Z"
   },
   {
    "duration": 563,
    "start_time": "2023-01-27T17:03:27.388Z"
   },
   {
    "duration": 8308,
    "start_time": "2023-01-27T17:03:27.953Z"
   },
   {
    "duration": 2,
    "start_time": "2023-01-27T17:03:36.263Z"
   },
   {
    "duration": 266,
    "start_time": "2023-01-27T17:03:36.268Z"
   },
   {
    "duration": 145,
    "start_time": "2023-01-27T17:03:36.536Z"
   },
   {
    "duration": 70,
    "start_time": "2023-01-27T17:03:36.683Z"
   },
   {
    "duration": 142,
    "start_time": "2023-01-27T17:03:36.755Z"
   },
   {
    "duration": 74,
    "start_time": "2023-01-27T17:03:36.899Z"
   },
   {
    "duration": 138,
    "start_time": "2023-01-27T17:03:36.975Z"
   },
   {
    "duration": 78,
    "start_time": "2023-01-27T17:03:37.116Z"
   },
   {
    "duration": 141,
    "start_time": "2023-01-27T17:03:37.196Z"
   },
   {
    "duration": 76,
    "start_time": "2023-01-27T17:03:37.348Z"
   },
   {
    "duration": 145,
    "start_time": "2023-01-27T17:03:37.426Z"
   },
   {
    "duration": 141,
    "start_time": "2023-01-27T17:03:37.573Z"
   },
   {
    "duration": 88,
    "start_time": "2023-01-27T17:03:37.716Z"
   },
   {
    "duration": 79,
    "start_time": "2023-01-27T17:03:37.806Z"
   },
   {
    "duration": 80,
    "start_time": "2023-01-27T17:03:37.887Z"
   },
   {
    "duration": 147,
    "start_time": "2023-01-27T17:03:37.969Z"
   },
   {
    "duration": 561,
    "start_time": "2023-02-05T04:50:31.874Z"
   },
   {
    "duration": 8210,
    "start_time": "2023-02-05T04:50:32.440Z"
   },
   {
    "duration": 2,
    "start_time": "2023-02-05T04:50:40.652Z"
   },
   {
    "duration": 269,
    "start_time": "2023-02-05T04:50:40.656Z"
   },
   {
    "duration": 137,
    "start_time": "2023-02-05T04:50:40.927Z"
   },
   {
    "duration": 73,
    "start_time": "2023-02-05T04:50:41.066Z"
   },
   {
    "duration": 132,
    "start_time": "2023-02-05T04:50:41.141Z"
   },
   {
    "duration": 74,
    "start_time": "2023-02-05T04:50:41.276Z"
   },
   {
    "duration": 134,
    "start_time": "2023-02-05T04:50:41.352Z"
   },
   {
    "duration": 73,
    "start_time": "2023-02-05T04:50:41.488Z"
   },
   {
    "duration": 132,
    "start_time": "2023-02-05T04:50:41.563Z"
   },
   {
    "duration": 72,
    "start_time": "2023-02-05T04:50:41.697Z"
   },
   {
    "duration": 133,
    "start_time": "2023-02-05T04:50:41.770Z"
   },
   {
    "duration": 138,
    "start_time": "2023-02-05T04:50:41.907Z"
   },
   {
    "duration": 78,
    "start_time": "2023-02-05T04:50:42.047Z"
   },
   {
    "duration": 74,
    "start_time": "2023-02-05T04:50:42.127Z"
   },
   {
    "duration": 74,
    "start_time": "2023-02-05T04:50:42.202Z"
   },
   {
    "duration": 140,
    "start_time": "2023-02-05T04:50:42.278Z"
   }
  ],
  "kernelspec": {
   "display_name": "Python 3 (ipykernel)",
   "language": "python",
   "name": "python3"
  },
  "language_info": {
   "codemirror_mode": {
    "name": "ipython",
    "version": 3
   },
   "file_extension": ".py",
   "mimetype": "text/x-python",
   "name": "python",
   "nbconvert_exporter": "python",
   "pygments_lexer": "ipython3",
   "version": "3.9.5"
  },
  "toc": {
   "base_numbering": 1,
   "nav_menu": {},
   "number_sections": true,
   "sideBar": true,
   "skip_h1_title": true,
   "title_cell": "Table of Contents",
   "title_sidebar": "Contents",
   "toc_cell": false,
   "toc_position": {
    "height": "calc(100% - 180px)",
    "left": "10px",
    "top": "150px",
    "width": "165px"
   },
   "toc_section_display": true,
   "toc_window_display": true
  }
 },
 "nbformat": 4,
 "nbformat_minor": 2
}
