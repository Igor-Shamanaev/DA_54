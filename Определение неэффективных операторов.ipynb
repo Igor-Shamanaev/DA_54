{
 "cells": [
  {
   "cell_type": "markdown",
   "id": "0359023a",
   "metadata": {},
   "source": [
    "# Определение неэффективных операторов"
   ]
  },
  {
   "cell_type": "markdown",
   "id": "a5d7d1c5",
   "metadata": {},
   "source": [
    "<div id='0'/>\n",
    "\n",
    "# Материалы:\n",
    "\n",
    "\n",
    "[Дашборд](https://public.tableau.com/views/Telecom_16743841392220/Dashboard1?:language=en-US&:display_count=n&:origin=viz_share_link)"
   ]
  },
  {
   "cell_type": "markdown",
   "id": "863a7676",
   "metadata": {},
   "source": [
    "Телеком провайдер «Нупозвони» обратился с просьбой помочь им найти неэффективных операторов, и предложить новый сервис для регулярного мониторинга.\n",
    "\n",
    "Заказчик предоставил датасеты `telecom_clients.csv` и `telecom_dataset.csv` которые описывают использование услуг провайдера виртуальный телефонии «Нупозвони» его клиентами — колл-центрами, которые распределяют входящие вызовы на операторов и совершают исходящие вызовы силами операторов. Операторы также могут делать внутренние вызовы —  вызовы друг между другом внутри сети виртуальной телефонии.\n",
    "\n",
    "Заказчик ставит задачу определить неэффективных операторов.\n",
    "В перспективе - предложить новый сервис для регулярного мониторинга.\n",
    "\n",
    "Признаки низкой эффективности операторов:\n",
    "- много пропущенных входящих вызовов,\n",
    "- долгое ожидания ответа при входящих внешних вызовах,\n",
    "- мало исходящих вывозов — в случае тех колл-центров, что специализируются на обзвонах, а не обработке входящих звонков.\n",
    "\n",
    "По итогам исследования необходимо подготовить презентацию в формате *.pdf и дашборд, содержащий:\n",
    "- диаграмму количества вызовов по дням;\n",
    "- круговую диаграмму, отображающую соотношение кол-ва входящих и исходящих вызовов;\n",
    "- фильтр дашборда по типу вызова (внешний или внутренний)."
   ]
  },
  {
   "cell_type": "markdown",
   "id": "6db79216",
   "metadata": {},
   "source": [
    "# Содержание\n",
    "- [Материалы](#0)\n",
    "- [Загрузка и предобработка данных](#1)\n",
    "- [Исследовательский анализ данных](#2)\n",
    "- [Решение основных вопросов заказчика](#3)\n",
    "- [Проверка статистических гипотез](#4)\n",
    "- [Выводы и рекомендации](#5)"
   ]
  },
  {
   "cell_type": "markdown",
   "id": "35673626",
   "metadata": {},
   "source": [
    "<div id='1'/>\n",
    "\n",
    "## Загрузка и предобработка данных"
   ]
  },
  {
   "cell_type": "code",
   "execution_count": 1,
   "id": "cf4bdb36",
   "metadata": {},
   "outputs": [],
   "source": [
    "import pandas as pd\n",
    "import numpy as np\n",
    "import matplotlib.pyplot as plt\n",
    "import seaborn as sns\n",
    "import scipy.stats as stats\n",
    "from statsmodels.stats.weightstats import ztest as ztest\n",
    "import warnings\n",
    "warnings.filterwarnings('ignore')"
   ]
  },
  {
   "cell_type": "code",
   "execution_count": 2,
   "id": "07032559",
   "metadata": {},
   "outputs": [
    {
     "data": {
      "text/html": [
       "<div>\n",
       "<style scoped>\n",
       "    .dataframe tbody tr th:only-of-type {\n",
       "        vertical-align: middle;\n",
       "    }\n",
       "\n",
       "    .dataframe tbody tr th {\n",
       "        vertical-align: top;\n",
       "    }\n",
       "\n",
       "    .dataframe thead th {\n",
       "        text-align: right;\n",
       "    }\n",
       "</style>\n",
       "<table border=\"1\" class=\"dataframe\">\n",
       "  <thead>\n",
       "    <tr style=\"text-align: right;\">\n",
       "      <th></th>\n",
       "      <th>user_id</th>\n",
       "      <th>tariff_plan</th>\n",
       "      <th>date_start</th>\n",
       "    </tr>\n",
       "  </thead>\n",
       "  <tbody>\n",
       "    <tr>\n",
       "      <th>0</th>\n",
       "      <td>166713</td>\n",
       "      <td>A</td>\n",
       "      <td>2019-08-15</td>\n",
       "    </tr>\n",
       "    <tr>\n",
       "      <th>1</th>\n",
       "      <td>166901</td>\n",
       "      <td>A</td>\n",
       "      <td>2019-08-23</td>\n",
       "    </tr>\n",
       "    <tr>\n",
       "      <th>2</th>\n",
       "      <td>168527</td>\n",
       "      <td>A</td>\n",
       "      <td>2019-10-29</td>\n",
       "    </tr>\n",
       "    <tr>\n",
       "      <th>3</th>\n",
       "      <td>167097</td>\n",
       "      <td>A</td>\n",
       "      <td>2019-09-01</td>\n",
       "    </tr>\n",
       "    <tr>\n",
       "      <th>4</th>\n",
       "      <td>168193</td>\n",
       "      <td>A</td>\n",
       "      <td>2019-10-16</td>\n",
       "    </tr>\n",
       "    <tr>\n",
       "      <th>...</th>\n",
       "      <td>...</td>\n",
       "      <td>...</td>\n",
       "      <td>...</td>\n",
       "    </tr>\n",
       "    <tr>\n",
       "      <th>727</th>\n",
       "      <td>166554</td>\n",
       "      <td>B</td>\n",
       "      <td>2019-08-08</td>\n",
       "    </tr>\n",
       "    <tr>\n",
       "      <th>728</th>\n",
       "      <td>166911</td>\n",
       "      <td>B</td>\n",
       "      <td>2019-08-23</td>\n",
       "    </tr>\n",
       "    <tr>\n",
       "      <th>729</th>\n",
       "      <td>167012</td>\n",
       "      <td>B</td>\n",
       "      <td>2019-08-28</td>\n",
       "    </tr>\n",
       "    <tr>\n",
       "      <th>730</th>\n",
       "      <td>166867</td>\n",
       "      <td>B</td>\n",
       "      <td>2019-08-22</td>\n",
       "    </tr>\n",
       "    <tr>\n",
       "      <th>731</th>\n",
       "      <td>166565</td>\n",
       "      <td>B</td>\n",
       "      <td>2019-08-08</td>\n",
       "    </tr>\n",
       "  </tbody>\n",
       "</table>\n",
       "<p>732 rows × 3 columns</p>\n",
       "</div>"
      ],
      "text/plain": [
       "     user_id tariff_plan  date_start\n",
       "0     166713           A  2019-08-15\n",
       "1     166901           A  2019-08-23\n",
       "2     168527           A  2019-10-29\n",
       "3     167097           A  2019-09-01\n",
       "4     168193           A  2019-10-16\n",
       "..       ...         ...         ...\n",
       "727   166554           B  2019-08-08\n",
       "728   166911           B  2019-08-23\n",
       "729   167012           B  2019-08-28\n",
       "730   166867           B  2019-08-22\n",
       "731   166565           B  2019-08-08\n",
       "\n",
       "[732 rows x 3 columns]"
      ]
     },
     "execution_count": 2,
     "metadata": {},
     "output_type": "execute_result"
    }
   ],
   "source": [
    "clients = pd.read_csv('/datasets/telecom_clients.csv')\n",
    "clients"
   ]
  },
  {
   "cell_type": "code",
   "execution_count": 3,
   "id": "a305a808",
   "metadata": {},
   "outputs": [
    {
     "name": "stdout",
     "output_type": "stream",
     "text": [
      "Количество дубликатов: 0\n",
      "Количество пропусков: user_id        0\n",
      "tariff_plan    0\n",
      "date_start     0\n",
      "dtype: int64\n",
      "Количество тарифных планов: 3\n"
     ]
    }
   ],
   "source": [
    "# Общая информация о датафрейме\n",
    "print('Количество дубликатов:', clients.duplicated().sum())\n",
    "print('Количество пропусков:', clients.isna().sum())\n",
    "print('Количество тарифных планов:', clients.tariff_plan.nunique())"
   ]
  },
  {
   "cell_type": "code",
   "execution_count": 4,
   "id": "e712f165",
   "metadata": {},
   "outputs": [],
   "source": [
    "clients['date_start'] = pd.to_datetime(clients['date_start'])"
   ]
  },
  {
   "cell_type": "code",
   "execution_count": 5,
   "id": "b8bed873",
   "metadata": {},
   "outputs": [
    {
     "data": {
      "text/html": [
       "<div>\n",
       "<style scoped>\n",
       "    .dataframe tbody tr th:only-of-type {\n",
       "        vertical-align: middle;\n",
       "    }\n",
       "\n",
       "    .dataframe tbody tr th {\n",
       "        vertical-align: top;\n",
       "    }\n",
       "\n",
       "    .dataframe thead th {\n",
       "        text-align: right;\n",
       "    }\n",
       "</style>\n",
       "<table border=\"1\" class=\"dataframe\">\n",
       "  <thead>\n",
       "    <tr style=\"text-align: right;\">\n",
       "      <th></th>\n",
       "      <th>user_id</th>\n",
       "      <th>date</th>\n",
       "      <th>direction</th>\n",
       "      <th>internal</th>\n",
       "      <th>operator_id</th>\n",
       "      <th>is_missed_call</th>\n",
       "      <th>calls_count</th>\n",
       "      <th>call_duration</th>\n",
       "      <th>total_call_duration</th>\n",
       "    </tr>\n",
       "  </thead>\n",
       "  <tbody>\n",
       "    <tr>\n",
       "      <th>0</th>\n",
       "      <td>166377</td>\n",
       "      <td>2019-08-04 00:00:00+03:00</td>\n",
       "      <td>in</td>\n",
       "      <td>False</td>\n",
       "      <td>NaN</td>\n",
       "      <td>True</td>\n",
       "      <td>2</td>\n",
       "      <td>0</td>\n",
       "      <td>4</td>\n",
       "    </tr>\n",
       "    <tr>\n",
       "      <th>1</th>\n",
       "      <td>166377</td>\n",
       "      <td>2019-08-05 00:00:00+03:00</td>\n",
       "      <td>out</td>\n",
       "      <td>True</td>\n",
       "      <td>880022.0</td>\n",
       "      <td>True</td>\n",
       "      <td>3</td>\n",
       "      <td>0</td>\n",
       "      <td>5</td>\n",
       "    </tr>\n",
       "    <tr>\n",
       "      <th>2</th>\n",
       "      <td>166377</td>\n",
       "      <td>2019-08-05 00:00:00+03:00</td>\n",
       "      <td>out</td>\n",
       "      <td>True</td>\n",
       "      <td>880020.0</td>\n",
       "      <td>True</td>\n",
       "      <td>1</td>\n",
       "      <td>0</td>\n",
       "      <td>1</td>\n",
       "    </tr>\n",
       "    <tr>\n",
       "      <th>3</th>\n",
       "      <td>166377</td>\n",
       "      <td>2019-08-05 00:00:00+03:00</td>\n",
       "      <td>out</td>\n",
       "      <td>True</td>\n",
       "      <td>880020.0</td>\n",
       "      <td>False</td>\n",
       "      <td>1</td>\n",
       "      <td>10</td>\n",
       "      <td>18</td>\n",
       "    </tr>\n",
       "    <tr>\n",
       "      <th>4</th>\n",
       "      <td>166377</td>\n",
       "      <td>2019-08-05 00:00:00+03:00</td>\n",
       "      <td>out</td>\n",
       "      <td>False</td>\n",
       "      <td>880022.0</td>\n",
       "      <td>True</td>\n",
       "      <td>3</td>\n",
       "      <td>0</td>\n",
       "      <td>25</td>\n",
       "    </tr>\n",
       "    <tr>\n",
       "      <th>...</th>\n",
       "      <td>...</td>\n",
       "      <td>...</td>\n",
       "      <td>...</td>\n",
       "      <td>...</td>\n",
       "      <td>...</td>\n",
       "      <td>...</td>\n",
       "      <td>...</td>\n",
       "      <td>...</td>\n",
       "      <td>...</td>\n",
       "    </tr>\n",
       "    <tr>\n",
       "      <th>53897</th>\n",
       "      <td>168606</td>\n",
       "      <td>2019-11-10 00:00:00+03:00</td>\n",
       "      <td>out</td>\n",
       "      <td>True</td>\n",
       "      <td>957922.0</td>\n",
       "      <td>True</td>\n",
       "      <td>1</td>\n",
       "      <td>0</td>\n",
       "      <td>38</td>\n",
       "    </tr>\n",
       "    <tr>\n",
       "      <th>53898</th>\n",
       "      <td>168606</td>\n",
       "      <td>2019-11-11 00:00:00+03:00</td>\n",
       "      <td>out</td>\n",
       "      <td>True</td>\n",
       "      <td>957922.0</td>\n",
       "      <td>False</td>\n",
       "      <td>2</td>\n",
       "      <td>479</td>\n",
       "      <td>501</td>\n",
       "    </tr>\n",
       "    <tr>\n",
       "      <th>53899</th>\n",
       "      <td>168606</td>\n",
       "      <td>2019-11-15 00:00:00+03:00</td>\n",
       "      <td>out</td>\n",
       "      <td>True</td>\n",
       "      <td>957922.0</td>\n",
       "      <td>False</td>\n",
       "      <td>4</td>\n",
       "      <td>3130</td>\n",
       "      <td>3190</td>\n",
       "    </tr>\n",
       "    <tr>\n",
       "      <th>53900</th>\n",
       "      <td>168606</td>\n",
       "      <td>2019-11-15 00:00:00+03:00</td>\n",
       "      <td>out</td>\n",
       "      <td>True</td>\n",
       "      <td>957922.0</td>\n",
       "      <td>False</td>\n",
       "      <td>4</td>\n",
       "      <td>3130</td>\n",
       "      <td>3190</td>\n",
       "    </tr>\n",
       "    <tr>\n",
       "      <th>53901</th>\n",
       "      <td>168606</td>\n",
       "      <td>2019-11-19 00:00:00+03:00</td>\n",
       "      <td>in</td>\n",
       "      <td>False</td>\n",
       "      <td>NaN</td>\n",
       "      <td>True</td>\n",
       "      <td>2</td>\n",
       "      <td>0</td>\n",
       "      <td>64</td>\n",
       "    </tr>\n",
       "  </tbody>\n",
       "</table>\n",
       "<p>53902 rows × 9 columns</p>\n",
       "</div>"
      ],
      "text/plain": [
       "       user_id                       date direction internal  operator_id  \\\n",
       "0       166377  2019-08-04 00:00:00+03:00        in    False          NaN   \n",
       "1       166377  2019-08-05 00:00:00+03:00       out     True     880022.0   \n",
       "2       166377  2019-08-05 00:00:00+03:00       out     True     880020.0   \n",
       "3       166377  2019-08-05 00:00:00+03:00       out     True     880020.0   \n",
       "4       166377  2019-08-05 00:00:00+03:00       out    False     880022.0   \n",
       "...        ...                        ...       ...      ...          ...   \n",
       "53897   168606  2019-11-10 00:00:00+03:00       out     True     957922.0   \n",
       "53898   168606  2019-11-11 00:00:00+03:00       out     True     957922.0   \n",
       "53899   168606  2019-11-15 00:00:00+03:00       out     True     957922.0   \n",
       "53900   168606  2019-11-15 00:00:00+03:00       out     True     957922.0   \n",
       "53901   168606  2019-11-19 00:00:00+03:00        in    False          NaN   \n",
       "\n",
       "       is_missed_call  calls_count  call_duration  total_call_duration  \n",
       "0                True            2              0                    4  \n",
       "1                True            3              0                    5  \n",
       "2                True            1              0                    1  \n",
       "3               False            1             10                   18  \n",
       "4                True            3              0                   25  \n",
       "...               ...          ...            ...                  ...  \n",
       "53897            True            1              0                   38  \n",
       "53898           False            2            479                  501  \n",
       "53899           False            4           3130                 3190  \n",
       "53900           False            4           3130                 3190  \n",
       "53901            True            2              0                   64  \n",
       "\n",
       "[53902 rows x 9 columns]"
      ]
     },
     "execution_count": 5,
     "metadata": {},
     "output_type": "execute_result"
    }
   ],
   "source": [
    "dataset = pd.read_csv('/datasets/telecom_dataset.csv')\n",
    "dataset"
   ]
  },
  {
   "cell_type": "code",
   "execution_count": 6,
   "id": "8e7c57d7",
   "metadata": {
    "scrolled": false
   },
   "outputs": [
    {
     "name": "stdout",
     "output_type": "stream",
     "text": [
      "<class 'pandas.core.frame.DataFrame'>\n",
      "RangeIndex: 53902 entries, 0 to 53901\n",
      "Data columns (total 9 columns):\n",
      " #   Column               Non-Null Count  Dtype  \n",
      "---  ------               --------------  -----  \n",
      " 0   user_id              53902 non-null  int64  \n",
      " 1   date                 53902 non-null  object \n",
      " 2   direction            53902 non-null  object \n",
      " 3   internal             53785 non-null  object \n",
      " 4   operator_id          45730 non-null  float64\n",
      " 5   is_missed_call       53902 non-null  bool   \n",
      " 6   calls_count          53902 non-null  int64  \n",
      " 7   call_duration        53902 non-null  int64  \n",
      " 8   total_call_duration  53902 non-null  int64  \n",
      "dtypes: bool(1), float64(1), int64(4), object(3)\n",
      "memory usage: 3.3+ MB\n",
      "Количество дубликатов: 4900\n",
      "Количество пропусков: user_id                   0\n",
      "date                      0\n",
      "direction                 0\n",
      "internal                117\n",
      "operator_id            8172\n",
      "is_missed_call            0\n",
      "calls_count               0\n",
      "call_duration             0\n",
      "total_call_duration       0\n",
      "dtype: int64\n"
     ]
    }
   ],
   "source": [
    "dataset.info()\n",
    "print('Количество дубликатов:', dataset.duplicated().sum())\n",
    "print('Количество пропусков:', dataset.isna().sum())"
   ]
  },
  {
   "cell_type": "code",
   "execution_count": 7,
   "id": "c723df75",
   "metadata": {},
   "outputs": [],
   "source": [
    "# Уберем повторяющиеся строки\n",
    "dataset = dataset.drop_duplicates()"
   ]
  },
  {
   "cell_type": "markdown",
   "id": "0d7bd075",
   "metadata": {},
   "source": [
    "Есть пропуски в колонке operator_id - возможно, это звонки, которые не дождались назначения на оператора и остались неотвеченными. Проверим это."
   ]
  },
  {
   "cell_type": "code",
   "execution_count": 8,
   "id": "3acde712",
   "metadata": {},
   "outputs": [
    {
     "data": {
      "text/plain": [
       "array([ True, False])"
      ]
     },
     "execution_count": 8,
     "metadata": {},
     "output_type": "execute_result"
    }
   ],
   "source": [
    "dataset[dataset['operator_id'].isna()]['is_missed_call'].unique()"
   ]
  },
  {
   "cell_type": "code",
   "execution_count": 9,
   "id": "df3308c0",
   "metadata": {},
   "outputs": [],
   "source": [
    "# Существуют принятые звонки без оператора, значит предположение не подтвердилось\n",
    "# Это могут быть ошибки в данных, уберем их\n",
    "dataset = dataset.dropna(axis=0, how='any')"
   ]
  },
  {
   "cell_type": "code",
   "execution_count": 10,
   "id": "d00d627f",
   "metadata": {
    "scrolled": true
   },
   "outputs": [
    {
     "data": {
      "text/plain": [
       "array(['2019-08-05 00:00:00+03:00', '2019-08-06 00:00:00+03:00',\n",
       "       '2019-08-07 00:00:00+03:00', '2019-08-08 00:00:00+03:00',\n",
       "       '2019-08-09 00:00:00+03:00', '2019-08-12 00:00:00+03:00',\n",
       "       '2019-08-13 00:00:00+03:00', '2019-08-14 00:00:00+03:00',\n",
       "       '2019-08-15 00:00:00+03:00', '2019-08-16 00:00:00+03:00',\n",
       "       '2019-08-19 00:00:00+03:00', '2019-08-20 00:00:00+03:00',\n",
       "       '2019-08-21 00:00:00+03:00', '2019-08-22 00:00:00+03:00',\n",
       "       '2019-08-23 00:00:00+03:00', '2019-08-26 00:00:00+03:00',\n",
       "       '2019-08-27 00:00:00+03:00', '2019-08-28 00:00:00+03:00',\n",
       "       '2019-08-29 00:00:00+03:00', '2019-08-30 00:00:00+03:00',\n",
       "       '2019-09-02 00:00:00+03:00', '2019-09-03 00:00:00+03:00',\n",
       "       '2019-09-04 00:00:00+03:00', '2019-09-05 00:00:00+03:00',\n",
       "       '2019-09-06 00:00:00+03:00', '2019-09-09 00:00:00+03:00',\n",
       "       '2019-09-10 00:00:00+03:00', '2019-09-11 00:00:00+03:00',\n",
       "       '2019-09-12 00:00:00+03:00', '2019-09-13 00:00:00+03:00',\n",
       "       '2019-09-16 00:00:00+03:00', '2019-09-17 00:00:00+03:00',\n",
       "       '2019-09-18 00:00:00+03:00', '2019-09-19 00:00:00+03:00',\n",
       "       '2019-09-20 00:00:00+03:00', '2019-09-23 00:00:00+03:00',\n",
       "       '2019-09-24 00:00:00+03:00', '2019-09-25 00:00:00+03:00',\n",
       "       '2019-09-26 00:00:00+03:00', '2019-09-27 00:00:00+03:00',\n",
       "       '2019-09-30 00:00:00+03:00', '2019-10-01 00:00:00+03:00',\n",
       "       '2019-10-02 00:00:00+03:00', '2019-10-03 00:00:00+03:00',\n",
       "       '2019-10-04 00:00:00+03:00', '2019-10-07 00:00:00+03:00',\n",
       "       '2019-10-08 00:00:00+03:00', '2019-10-09 00:00:00+03:00',\n",
       "       '2019-10-10 00:00:00+03:00', '2019-10-11 00:00:00+03:00',\n",
       "       '2019-10-14 00:00:00+03:00', '2019-10-15 00:00:00+03:00',\n",
       "       '2019-10-16 00:00:00+03:00', '2019-10-17 00:00:00+03:00',\n",
       "       '2019-10-18 00:00:00+03:00', '2019-10-21 00:00:00+03:00',\n",
       "       '2019-10-22 00:00:00+03:00', '2019-10-23 00:00:00+03:00',\n",
       "       '2019-10-24 00:00:00+03:00', '2019-10-25 00:00:00+03:00',\n",
       "       '2019-10-28 00:00:00+03:00', '2019-10-29 00:00:00+03:00',\n",
       "       '2019-10-30 00:00:00+03:00', '2019-10-31 00:00:00+03:00',\n",
       "       '2019-11-01 00:00:00+03:00', '2019-11-05 00:00:00+03:00',\n",
       "       '2019-11-06 00:00:00+03:00', '2019-11-07 00:00:00+03:00',\n",
       "       '2019-11-08 00:00:00+03:00', '2019-11-11 00:00:00+03:00',\n",
       "       '2019-11-12 00:00:00+03:00', '2019-11-13 00:00:00+03:00',\n",
       "       '2019-11-14 00:00:00+03:00', '2019-11-15 00:00:00+03:00',\n",
       "       '2019-11-18 00:00:00+03:00', '2019-11-19 00:00:00+03:00',\n",
       "       '2019-11-20 00:00:00+03:00', '2019-11-21 00:00:00+03:00',\n",
       "       '2019-11-22 00:00:00+03:00', '2019-11-25 00:00:00+03:00',\n",
       "       '2019-11-26 00:00:00+03:00', '2019-11-27 00:00:00+03:00',\n",
       "       '2019-11-28 00:00:00+03:00', '2019-08-17 00:00:00+03:00',\n",
       "       '2019-08-18 00:00:00+03:00', '2019-08-24 00:00:00+03:00',\n",
       "       '2019-08-25 00:00:00+03:00', '2019-08-31 00:00:00+03:00',\n",
       "       '2019-09-01 00:00:00+03:00', '2019-09-07 00:00:00+03:00',\n",
       "       '2019-09-08 00:00:00+03:00', '2019-09-14 00:00:00+03:00',\n",
       "       '2019-09-15 00:00:00+03:00', '2019-09-21 00:00:00+03:00',\n",
       "       '2019-09-22 00:00:00+03:00', '2019-09-28 00:00:00+03:00',\n",
       "       '2019-10-05 00:00:00+03:00', '2019-10-27 00:00:00+03:00',\n",
       "       '2019-11-04 00:00:00+03:00', '2019-11-09 00:00:00+03:00',\n",
       "       '2019-11-10 00:00:00+03:00', '2019-11-16 00:00:00+03:00',\n",
       "       '2019-11-23 00:00:00+03:00', '2019-11-24 00:00:00+03:00',\n",
       "       '2019-08-02 00:00:00+03:00', '2019-08-03 00:00:00+03:00',\n",
       "       '2019-08-04 00:00:00+03:00', '2019-08-10 00:00:00+03:00',\n",
       "       '2019-10-06 00:00:00+03:00', '2019-10-19 00:00:00+03:00',\n",
       "       '2019-10-20 00:00:00+03:00', '2019-10-12 00:00:00+03:00',\n",
       "       '2019-11-02 00:00:00+03:00', '2019-11-17 00:00:00+03:00',\n",
       "       '2019-10-13 00:00:00+03:00', '2019-10-26 00:00:00+03:00',\n",
       "       '2019-11-03 00:00:00+03:00', '2019-09-29 00:00:00+03:00'],\n",
       "      dtype=object)"
      ]
     },
     "execution_count": 10,
     "metadata": {},
     "output_type": "execute_result"
    }
   ],
   "source": [
    "# Посмотрим на даты в массиве\n",
    "dataset['date'].unique()"
   ]
  },
  {
   "cell_type": "code",
   "execution_count": 11,
   "id": "256c0697",
   "metadata": {},
   "outputs": [
    {
     "data": {
      "text/html": [
       "<div>\n",
       "<style scoped>\n",
       "    .dataframe tbody tr th:only-of-type {\n",
       "        vertical-align: middle;\n",
       "    }\n",
       "\n",
       "    .dataframe tbody tr th {\n",
       "        vertical-align: top;\n",
       "    }\n",
       "\n",
       "    .dataframe thead th {\n",
       "        text-align: right;\n",
       "    }\n",
       "</style>\n",
       "<table border=\"1\" class=\"dataframe\">\n",
       "  <thead>\n",
       "    <tr style=\"text-align: right;\">\n",
       "      <th></th>\n",
       "      <th>user_id</th>\n",
       "      <th>date</th>\n",
       "      <th>direction</th>\n",
       "      <th>internal</th>\n",
       "      <th>operator_id</th>\n",
       "      <th>is_missed_call</th>\n",
       "      <th>calls_count</th>\n",
       "      <th>call_duration</th>\n",
       "      <th>total_call_duration</th>\n",
       "    </tr>\n",
       "  </thead>\n",
       "  <tbody>\n",
       "    <tr>\n",
       "      <th>1</th>\n",
       "      <td>166377</td>\n",
       "      <td>2019-08-05</td>\n",
       "      <td>out</td>\n",
       "      <td>True</td>\n",
       "      <td>880022.0</td>\n",
       "      <td>True</td>\n",
       "      <td>3</td>\n",
       "      <td>0</td>\n",
       "      <td>5</td>\n",
       "    </tr>\n",
       "    <tr>\n",
       "      <th>2</th>\n",
       "      <td>166377</td>\n",
       "      <td>2019-08-05</td>\n",
       "      <td>out</td>\n",
       "      <td>True</td>\n",
       "      <td>880020.0</td>\n",
       "      <td>True</td>\n",
       "      <td>1</td>\n",
       "      <td>0</td>\n",
       "      <td>1</td>\n",
       "    </tr>\n",
       "    <tr>\n",
       "      <th>3</th>\n",
       "      <td>166377</td>\n",
       "      <td>2019-08-05</td>\n",
       "      <td>out</td>\n",
       "      <td>True</td>\n",
       "      <td>880020.0</td>\n",
       "      <td>False</td>\n",
       "      <td>1</td>\n",
       "      <td>10</td>\n",
       "      <td>18</td>\n",
       "    </tr>\n",
       "    <tr>\n",
       "      <th>4</th>\n",
       "      <td>166377</td>\n",
       "      <td>2019-08-05</td>\n",
       "      <td>out</td>\n",
       "      <td>False</td>\n",
       "      <td>880022.0</td>\n",
       "      <td>True</td>\n",
       "      <td>3</td>\n",
       "      <td>0</td>\n",
       "      <td>25</td>\n",
       "    </tr>\n",
       "    <tr>\n",
       "      <th>5</th>\n",
       "      <td>166377</td>\n",
       "      <td>2019-08-05</td>\n",
       "      <td>out</td>\n",
       "      <td>False</td>\n",
       "      <td>880020.0</td>\n",
       "      <td>False</td>\n",
       "      <td>2</td>\n",
       "      <td>3</td>\n",
       "      <td>29</td>\n",
       "    </tr>\n",
       "    <tr>\n",
       "      <th>...</th>\n",
       "      <td>...</td>\n",
       "      <td>...</td>\n",
       "      <td>...</td>\n",
       "      <td>...</td>\n",
       "      <td>...</td>\n",
       "      <td>...</td>\n",
       "      <td>...</td>\n",
       "      <td>...</td>\n",
       "      <td>...</td>\n",
       "    </tr>\n",
       "    <tr>\n",
       "      <th>53895</th>\n",
       "      <td>168606</td>\n",
       "      <td>2019-11-09</td>\n",
       "      <td>out</td>\n",
       "      <td>False</td>\n",
       "      <td>957922.0</td>\n",
       "      <td>False</td>\n",
       "      <td>4</td>\n",
       "      <td>551</td>\n",
       "      <td>593</td>\n",
       "    </tr>\n",
       "    <tr>\n",
       "      <th>53896</th>\n",
       "      <td>168606</td>\n",
       "      <td>2019-11-10</td>\n",
       "      <td>out</td>\n",
       "      <td>True</td>\n",
       "      <td>957922.0</td>\n",
       "      <td>False</td>\n",
       "      <td>1</td>\n",
       "      <td>0</td>\n",
       "      <td>25</td>\n",
       "    </tr>\n",
       "    <tr>\n",
       "      <th>53897</th>\n",
       "      <td>168606</td>\n",
       "      <td>2019-11-10</td>\n",
       "      <td>out</td>\n",
       "      <td>True</td>\n",
       "      <td>957922.0</td>\n",
       "      <td>True</td>\n",
       "      <td>1</td>\n",
       "      <td>0</td>\n",
       "      <td>38</td>\n",
       "    </tr>\n",
       "    <tr>\n",
       "      <th>53898</th>\n",
       "      <td>168606</td>\n",
       "      <td>2019-11-11</td>\n",
       "      <td>out</td>\n",
       "      <td>True</td>\n",
       "      <td>957922.0</td>\n",
       "      <td>False</td>\n",
       "      <td>2</td>\n",
       "      <td>479</td>\n",
       "      <td>501</td>\n",
       "    </tr>\n",
       "    <tr>\n",
       "      <th>53899</th>\n",
       "      <td>168606</td>\n",
       "      <td>2019-11-15</td>\n",
       "      <td>out</td>\n",
       "      <td>True</td>\n",
       "      <td>957922.0</td>\n",
       "      <td>False</td>\n",
       "      <td>4</td>\n",
       "      <td>3130</td>\n",
       "      <td>3190</td>\n",
       "    </tr>\n",
       "  </tbody>\n",
       "</table>\n",
       "<p>41491 rows × 9 columns</p>\n",
       "</div>"
      ],
      "text/plain": [
       "       user_id        date direction internal  operator_id  is_missed_call  \\\n",
       "1       166377  2019-08-05       out     True     880022.0            True   \n",
       "2       166377  2019-08-05       out     True     880020.0            True   \n",
       "3       166377  2019-08-05       out     True     880020.0           False   \n",
       "4       166377  2019-08-05       out    False     880022.0            True   \n",
       "5       166377  2019-08-05       out    False     880020.0           False   \n",
       "...        ...         ...       ...      ...          ...             ...   \n",
       "53895   168606  2019-11-09       out    False     957922.0           False   \n",
       "53896   168606  2019-11-10       out     True     957922.0           False   \n",
       "53897   168606  2019-11-10       out     True     957922.0            True   \n",
       "53898   168606  2019-11-11       out     True     957922.0           False   \n",
       "53899   168606  2019-11-15       out     True     957922.0           False   \n",
       "\n",
       "       calls_count  call_duration  total_call_duration  \n",
       "1                3              0                    5  \n",
       "2                1              0                    1  \n",
       "3                1             10                   18  \n",
       "4                3              0                   25  \n",
       "5                2              3                   29  \n",
       "...            ...            ...                  ...  \n",
       "53895            4            551                  593  \n",
       "53896            1              0                   25  \n",
       "53897            1              0                   38  \n",
       "53898            2            479                  501  \n",
       "53899            4           3130                 3190  \n",
       "\n",
       "[41491 rows x 9 columns]"
      ]
     },
     "execution_count": 11,
     "metadata": {},
     "output_type": "execute_result"
    }
   ],
   "source": [
    "# Тут только дни, приведем к нормальному виду (без времени)\n",
    "dataset['date'] = pd.to_datetime(dataset['date']).dt.date\n",
    "dataset"
   ]
  },
  {
   "cell_type": "code",
   "execution_count": 12,
   "id": "e4037300",
   "metadata": {},
   "outputs": [
    {
     "data": {
      "text/html": [
       "<div>\n",
       "<style scoped>\n",
       "    .dataframe tbody tr th:only-of-type {\n",
       "        vertical-align: middle;\n",
       "    }\n",
       "\n",
       "    .dataframe tbody tr th {\n",
       "        vertical-align: top;\n",
       "    }\n",
       "\n",
       "    .dataframe thead th {\n",
       "        text-align: right;\n",
       "    }\n",
       "</style>\n",
       "<table border=\"1\" class=\"dataframe\">\n",
       "  <thead>\n",
       "    <tr style=\"text-align: right;\">\n",
       "      <th></th>\n",
       "      <th>user_id</th>\n",
       "      <th>date</th>\n",
       "      <th>direction</th>\n",
       "      <th>internal</th>\n",
       "      <th>operator_id</th>\n",
       "      <th>is_missed_call</th>\n",
       "      <th>calls_count</th>\n",
       "      <th>call_duration</th>\n",
       "      <th>total_call_duration</th>\n",
       "      <th>tariff_plan</th>\n",
       "      <th>date_start</th>\n",
       "    </tr>\n",
       "  </thead>\n",
       "  <tbody>\n",
       "    <tr>\n",
       "      <th>0</th>\n",
       "      <td>166377</td>\n",
       "      <td>2019-08-05</td>\n",
       "      <td>out</td>\n",
       "      <td>True</td>\n",
       "      <td>880022.0</td>\n",
       "      <td>True</td>\n",
       "      <td>3</td>\n",
       "      <td>0</td>\n",
       "      <td>5</td>\n",
       "      <td>B</td>\n",
       "      <td>2019-08-01</td>\n",
       "    </tr>\n",
       "    <tr>\n",
       "      <th>1</th>\n",
       "      <td>166377</td>\n",
       "      <td>2019-08-05</td>\n",
       "      <td>out</td>\n",
       "      <td>True</td>\n",
       "      <td>880020.0</td>\n",
       "      <td>True</td>\n",
       "      <td>1</td>\n",
       "      <td>0</td>\n",
       "      <td>1</td>\n",
       "      <td>B</td>\n",
       "      <td>2019-08-01</td>\n",
       "    </tr>\n",
       "    <tr>\n",
       "      <th>2</th>\n",
       "      <td>166377</td>\n",
       "      <td>2019-08-05</td>\n",
       "      <td>out</td>\n",
       "      <td>True</td>\n",
       "      <td>880020.0</td>\n",
       "      <td>False</td>\n",
       "      <td>1</td>\n",
       "      <td>10</td>\n",
       "      <td>18</td>\n",
       "      <td>B</td>\n",
       "      <td>2019-08-01</td>\n",
       "    </tr>\n",
       "    <tr>\n",
       "      <th>3</th>\n",
       "      <td>166377</td>\n",
       "      <td>2019-08-05</td>\n",
       "      <td>out</td>\n",
       "      <td>False</td>\n",
       "      <td>880022.0</td>\n",
       "      <td>True</td>\n",
       "      <td>3</td>\n",
       "      <td>0</td>\n",
       "      <td>25</td>\n",
       "      <td>B</td>\n",
       "      <td>2019-08-01</td>\n",
       "    </tr>\n",
       "    <tr>\n",
       "      <th>4</th>\n",
       "      <td>166377</td>\n",
       "      <td>2019-08-05</td>\n",
       "      <td>out</td>\n",
       "      <td>False</td>\n",
       "      <td>880020.0</td>\n",
       "      <td>False</td>\n",
       "      <td>2</td>\n",
       "      <td>3</td>\n",
       "      <td>29</td>\n",
       "      <td>B</td>\n",
       "      <td>2019-08-01</td>\n",
       "    </tr>\n",
       "    <tr>\n",
       "      <th>...</th>\n",
       "      <td>...</td>\n",
       "      <td>...</td>\n",
       "      <td>...</td>\n",
       "      <td>...</td>\n",
       "      <td>...</td>\n",
       "      <td>...</td>\n",
       "      <td>...</td>\n",
       "      <td>...</td>\n",
       "      <td>...</td>\n",
       "      <td>...</td>\n",
       "      <td>...</td>\n",
       "    </tr>\n",
       "    <tr>\n",
       "      <th>41486</th>\n",
       "      <td>168606</td>\n",
       "      <td>2019-11-09</td>\n",
       "      <td>out</td>\n",
       "      <td>False</td>\n",
       "      <td>957922.0</td>\n",
       "      <td>False</td>\n",
       "      <td>4</td>\n",
       "      <td>551</td>\n",
       "      <td>593</td>\n",
       "      <td>C</td>\n",
       "      <td>2019-10-31</td>\n",
       "    </tr>\n",
       "    <tr>\n",
       "      <th>41487</th>\n",
       "      <td>168606</td>\n",
       "      <td>2019-11-10</td>\n",
       "      <td>out</td>\n",
       "      <td>True</td>\n",
       "      <td>957922.0</td>\n",
       "      <td>False</td>\n",
       "      <td>1</td>\n",
       "      <td>0</td>\n",
       "      <td>25</td>\n",
       "      <td>C</td>\n",
       "      <td>2019-10-31</td>\n",
       "    </tr>\n",
       "    <tr>\n",
       "      <th>41488</th>\n",
       "      <td>168606</td>\n",
       "      <td>2019-11-10</td>\n",
       "      <td>out</td>\n",
       "      <td>True</td>\n",
       "      <td>957922.0</td>\n",
       "      <td>True</td>\n",
       "      <td>1</td>\n",
       "      <td>0</td>\n",
       "      <td>38</td>\n",
       "      <td>C</td>\n",
       "      <td>2019-10-31</td>\n",
       "    </tr>\n",
       "    <tr>\n",
       "      <th>41489</th>\n",
       "      <td>168606</td>\n",
       "      <td>2019-11-11</td>\n",
       "      <td>out</td>\n",
       "      <td>True</td>\n",
       "      <td>957922.0</td>\n",
       "      <td>False</td>\n",
       "      <td>2</td>\n",
       "      <td>479</td>\n",
       "      <td>501</td>\n",
       "      <td>C</td>\n",
       "      <td>2019-10-31</td>\n",
       "    </tr>\n",
       "    <tr>\n",
       "      <th>41490</th>\n",
       "      <td>168606</td>\n",
       "      <td>2019-11-15</td>\n",
       "      <td>out</td>\n",
       "      <td>True</td>\n",
       "      <td>957922.0</td>\n",
       "      <td>False</td>\n",
       "      <td>4</td>\n",
       "      <td>3130</td>\n",
       "      <td>3190</td>\n",
       "      <td>C</td>\n",
       "      <td>2019-10-31</td>\n",
       "    </tr>\n",
       "  </tbody>\n",
       "</table>\n",
       "<p>41491 rows × 11 columns</p>\n",
       "</div>"
      ],
      "text/plain": [
       "       user_id        date direction internal  operator_id  is_missed_call  \\\n",
       "0       166377  2019-08-05       out     True     880022.0            True   \n",
       "1       166377  2019-08-05       out     True     880020.0            True   \n",
       "2       166377  2019-08-05       out     True     880020.0           False   \n",
       "3       166377  2019-08-05       out    False     880022.0            True   \n",
       "4       166377  2019-08-05       out    False     880020.0           False   \n",
       "...        ...         ...       ...      ...          ...             ...   \n",
       "41486   168606  2019-11-09       out    False     957922.0           False   \n",
       "41487   168606  2019-11-10       out     True     957922.0           False   \n",
       "41488   168606  2019-11-10       out     True     957922.0            True   \n",
       "41489   168606  2019-11-11       out     True     957922.0           False   \n",
       "41490   168606  2019-11-15       out     True     957922.0           False   \n",
       "\n",
       "       calls_count  call_duration  total_call_duration tariff_plan date_start  \n",
       "0                3              0                    5           B 2019-08-01  \n",
       "1                1              0                    1           B 2019-08-01  \n",
       "2                1             10                   18           B 2019-08-01  \n",
       "3                3              0                   25           B 2019-08-01  \n",
       "4                2              3                   29           B 2019-08-01  \n",
       "...            ...            ...                  ...         ...        ...  \n",
       "41486            4            551                  593           C 2019-10-31  \n",
       "41487            1              0                   25           C 2019-10-31  \n",
       "41488            1              0                   38           C 2019-10-31  \n",
       "41489            2            479                  501           C 2019-10-31  \n",
       "41490            4           3130                 3190           C 2019-10-31  \n",
       "\n",
       "[41491 rows x 11 columns]"
      ]
     },
     "execution_count": 12,
     "metadata": {},
     "output_type": "execute_result"
    }
   ],
   "source": [
    "# Объединим два датасета (основной и тарифы)\n",
    "data = dataset.merge(clients, how = 'left', on = 'user_id')\n",
    "data"
   ]
  },
  {
   "cell_type": "code",
   "execution_count": 13,
   "id": "c8fa451b",
   "metadata": {},
   "outputs": [
    {
     "data": {
      "text/html": [
       "<div>\n",
       "<style scoped>\n",
       "    .dataframe tbody tr th:only-of-type {\n",
       "        vertical-align: middle;\n",
       "    }\n",
       "\n",
       "    .dataframe tbody tr th {\n",
       "        vertical-align: top;\n",
       "    }\n",
       "\n",
       "    .dataframe thead th {\n",
       "        text-align: right;\n",
       "    }\n",
       "</style>\n",
       "<table border=\"1\" class=\"dataframe\">\n",
       "  <thead>\n",
       "    <tr style=\"text-align: right;\">\n",
       "      <th></th>\n",
       "      <th>user_id</th>\n",
       "      <th>date</th>\n",
       "      <th>direction</th>\n",
       "      <th>internal</th>\n",
       "      <th>operator_id</th>\n",
       "      <th>is_missed_call</th>\n",
       "      <th>calls_count</th>\n",
       "      <th>call_duration</th>\n",
       "      <th>total_call_duration</th>\n",
       "      <th>tariff_plan</th>\n",
       "      <th>date_start</th>\n",
       "    </tr>\n",
       "  </thead>\n",
       "  <tbody>\n",
       "  </tbody>\n",
       "</table>\n",
       "</div>"
      ],
      "text/plain": [
       "Empty DataFrame\n",
       "Columns: [user_id, date, direction, internal, operator_id, is_missed_call, calls_count, call_duration, total_call_duration, tariff_plan, date_start]\n",
       "Index: []"
      ]
     },
     "execution_count": 13,
     "metadata": {},
     "output_type": "execute_result"
    }
   ],
   "source": [
    "# Пропусков в данных нет\n",
    "data[data['tariff_plan'].isna()]"
   ]
  },
  {
   "cell_type": "code",
   "execution_count": 14,
   "id": "4ae0e4d9",
   "metadata": {},
   "outputs": [
    {
     "data": {
      "text/html": [
       "<div>\n",
       "<style scoped>\n",
       "    .dataframe tbody tr th:only-of-type {\n",
       "        vertical-align: middle;\n",
       "    }\n",
       "\n",
       "    .dataframe tbody tr th {\n",
       "        vertical-align: top;\n",
       "    }\n",
       "\n",
       "    .dataframe thead th {\n",
       "        text-align: right;\n",
       "    }\n",
       "</style>\n",
       "<table border=\"1\" class=\"dataframe\">\n",
       "  <thead>\n",
       "    <tr style=\"text-align: right;\">\n",
       "      <th></th>\n",
       "      <th>user_id</th>\n",
       "      <th>date</th>\n",
       "      <th>direction</th>\n",
       "      <th>internal</th>\n",
       "      <th>operator_id</th>\n",
       "      <th>is_missed_call</th>\n",
       "      <th>calls_count</th>\n",
       "      <th>call_duration</th>\n",
       "      <th>total_call_duration</th>\n",
       "      <th>tariff_plan</th>\n",
       "      <th>date_start</th>\n",
       "    </tr>\n",
       "  </thead>\n",
       "  <tbody>\n",
       "  </tbody>\n",
       "</table>\n",
       "</div>"
      ],
      "text/plain": [
       "Empty DataFrame\n",
       "Columns: [user_id, date, direction, internal, operator_id, is_missed_call, calls_count, call_duration, total_call_duration, tariff_plan, date_start]\n",
       "Index: []"
      ]
     },
     "execution_count": 14,
     "metadata": {},
     "output_type": "execute_result"
    }
   ],
   "source": [
    "# Статистики, собранной по датам до регистрации компании - нет (иначе было бы похоже на ошибку в данных)\n",
    "data[data['date']<data['date_start']]"
   ]
  },
  {
   "cell_type": "markdown",
   "metadata": {},
   "source": [
    "Оценим единицы измерения времени в колонках call_duration и total_call_duration. Возьмем среднее значение длительности одного звонка на принятых вызовах."
   ]
  },
  {
   "cell_type": "code",
   "execution_count": 15,
   "metadata": {},
   "outputs": [
    {
     "data": {
      "text/plain": [
       "116.65129903184517"
      ]
     },
     "execution_count": 15,
     "metadata": {},
     "output_type": "execute_result"
    }
   ],
   "source": [
    "(data[data['is_missed_call']==False]['call_duration']/data[data['is_missed_call']==False]['calls_count']).mean()"
   ]
  },
  {
   "cell_type": "markdown",
   "id": "9522914e",
   "metadata": {},
   "source": [
    "Длительность звонков явно в **секундах** - у принятых звонков очень большая длительность, если бы это были минуты.\n",
    "В сутках 86400 секунд, если суммарная длительность звонков за сутки больше - либо это ошибка. Проверим это."
   ]
  },
  {
   "cell_type": "code",
   "execution_count": 16,
   "id": "50efc0d0",
   "metadata": {
    "scrolled": true
   },
   "outputs": [
    {
     "data": {
      "text/html": [
       "<div>\n",
       "<style scoped>\n",
       "    .dataframe tbody tr th:only-of-type {\n",
       "        vertical-align: middle;\n",
       "    }\n",
       "\n",
       "    .dataframe tbody tr th {\n",
       "        vertical-align: top;\n",
       "    }\n",
       "\n",
       "    .dataframe thead th {\n",
       "        text-align: right;\n",
       "    }\n",
       "</style>\n",
       "<table border=\"1\" class=\"dataframe\">\n",
       "  <thead>\n",
       "    <tr style=\"text-align: right;\">\n",
       "      <th></th>\n",
       "      <th>user_id</th>\n",
       "      <th>date</th>\n",
       "      <th>direction</th>\n",
       "      <th>internal</th>\n",
       "      <th>operator_id</th>\n",
       "      <th>is_missed_call</th>\n",
       "      <th>calls_count</th>\n",
       "      <th>call_duration</th>\n",
       "      <th>total_call_duration</th>\n",
       "      <th>tariff_plan</th>\n",
       "      <th>date_start</th>\n",
       "    </tr>\n",
       "  </thead>\n",
       "  <tbody>\n",
       "    <tr>\n",
       "      <th>5197</th>\n",
       "      <td>166582</td>\n",
       "      <td>2019-09-02</td>\n",
       "      <td>out</td>\n",
       "      <td>False</td>\n",
       "      <td>885876.0</td>\n",
       "      <td>False</td>\n",
       "      <td>1018</td>\n",
       "      <td>90095</td>\n",
       "      <td>108665</td>\n",
       "      <td>A</td>\n",
       "      <td>2019-08-09</td>\n",
       "    </tr>\n",
       "    <tr>\n",
       "      <th>5204</th>\n",
       "      <td>166582</td>\n",
       "      <td>2019-09-03</td>\n",
       "      <td>out</td>\n",
       "      <td>False</td>\n",
       "      <td>885876.0</td>\n",
       "      <td>False</td>\n",
       "      <td>1137</td>\n",
       "      <td>87700</td>\n",
       "      <td>109600</td>\n",
       "      <td>A</td>\n",
       "      <td>2019-08-09</td>\n",
       "    </tr>\n",
       "    <tr>\n",
       "      <th>5210</th>\n",
       "      <td>166582</td>\n",
       "      <td>2019-09-04</td>\n",
       "      <td>out</td>\n",
       "      <td>False</td>\n",
       "      <td>885876.0</td>\n",
       "      <td>False</td>\n",
       "      <td>863</td>\n",
       "      <td>91813</td>\n",
       "      <td>107524</td>\n",
       "      <td>A</td>\n",
       "      <td>2019-08-09</td>\n",
       "    </tr>\n",
       "    <tr>\n",
       "      <th>5216</th>\n",
       "      <td>166582</td>\n",
       "      <td>2019-09-05</td>\n",
       "      <td>out</td>\n",
       "      <td>False</td>\n",
       "      <td>885876.0</td>\n",
       "      <td>False</td>\n",
       "      <td>602</td>\n",
       "      <td>109032</td>\n",
       "      <td>120064</td>\n",
       "      <td>A</td>\n",
       "      <td>2019-08-09</td>\n",
       "    </tr>\n",
       "    <tr>\n",
       "      <th>5230</th>\n",
       "      <td>166582</td>\n",
       "      <td>2019-09-06</td>\n",
       "      <td>out</td>\n",
       "      <td>False</td>\n",
       "      <td>885876.0</td>\n",
       "      <td>False</td>\n",
       "      <td>584</td>\n",
       "      <td>87556</td>\n",
       "      <td>98711</td>\n",
       "      <td>A</td>\n",
       "      <td>2019-08-09</td>\n",
       "    </tr>\n",
       "    <tr>\n",
       "      <th>5246</th>\n",
       "      <td>166582</td>\n",
       "      <td>2019-09-09</td>\n",
       "      <td>out</td>\n",
       "      <td>False</td>\n",
       "      <td>885876.0</td>\n",
       "      <td>False</td>\n",
       "      <td>1138</td>\n",
       "      <td>121093</td>\n",
       "      <td>141930</td>\n",
       "      <td>A</td>\n",
       "      <td>2019-08-09</td>\n",
       "    </tr>\n",
       "    <tr>\n",
       "      <th>5253</th>\n",
       "      <td>166582</td>\n",
       "      <td>2019-09-10</td>\n",
       "      <td>out</td>\n",
       "      <td>False</td>\n",
       "      <td>885876.0</td>\n",
       "      <td>False</td>\n",
       "      <td>1053</td>\n",
       "      <td>80782</td>\n",
       "      <td>100139</td>\n",
       "      <td>A</td>\n",
       "      <td>2019-08-09</td>\n",
       "    </tr>\n",
       "    <tr>\n",
       "      <th>5260</th>\n",
       "      <td>166582</td>\n",
       "      <td>2019-09-11</td>\n",
       "      <td>out</td>\n",
       "      <td>False</td>\n",
       "      <td>885876.0</td>\n",
       "      <td>False</td>\n",
       "      <td>946</td>\n",
       "      <td>115057</td>\n",
       "      <td>132708</td>\n",
       "      <td>A</td>\n",
       "      <td>2019-08-09</td>\n",
       "    </tr>\n",
       "    <tr>\n",
       "      <th>5267</th>\n",
       "      <td>166582</td>\n",
       "      <td>2019-09-12</td>\n",
       "      <td>out</td>\n",
       "      <td>False</td>\n",
       "      <td>885876.0</td>\n",
       "      <td>False</td>\n",
       "      <td>696</td>\n",
       "      <td>125286</td>\n",
       "      <td>138643</td>\n",
       "      <td>A</td>\n",
       "      <td>2019-08-09</td>\n",
       "    </tr>\n",
       "    <tr>\n",
       "      <th>5276</th>\n",
       "      <td>166582</td>\n",
       "      <td>2019-09-13</td>\n",
       "      <td>out</td>\n",
       "      <td>False</td>\n",
       "      <td>885876.0</td>\n",
       "      <td>False</td>\n",
       "      <td>652</td>\n",
       "      <td>98748</td>\n",
       "      <td>111703</td>\n",
       "      <td>A</td>\n",
       "      <td>2019-08-09</td>\n",
       "    </tr>\n",
       "    <tr>\n",
       "      <th>5294</th>\n",
       "      <td>166582</td>\n",
       "      <td>2019-09-16</td>\n",
       "      <td>out</td>\n",
       "      <td>False</td>\n",
       "      <td>885876.0</td>\n",
       "      <td>False</td>\n",
       "      <td>878</td>\n",
       "      <td>71910</td>\n",
       "      <td>87712</td>\n",
       "      <td>A</td>\n",
       "      <td>2019-08-09</td>\n",
       "    </tr>\n",
       "    <tr>\n",
       "      <th>5298</th>\n",
       "      <td>166582</td>\n",
       "      <td>2019-09-17</td>\n",
       "      <td>out</td>\n",
       "      <td>False</td>\n",
       "      <td>885876.0</td>\n",
       "      <td>False</td>\n",
       "      <td>1375</td>\n",
       "      <td>100454</td>\n",
       "      <td>124787</td>\n",
       "      <td>A</td>\n",
       "      <td>2019-08-09</td>\n",
       "    </tr>\n",
       "    <tr>\n",
       "      <th>5310</th>\n",
       "      <td>166582</td>\n",
       "      <td>2019-09-18</td>\n",
       "      <td>out</td>\n",
       "      <td>False</td>\n",
       "      <td>885876.0</td>\n",
       "      <td>False</td>\n",
       "      <td>1013</td>\n",
       "      <td>121664</td>\n",
       "      <td>140050</td>\n",
       "      <td>A</td>\n",
       "      <td>2019-08-09</td>\n",
       "    </tr>\n",
       "    <tr>\n",
       "      <th>5311</th>\n",
       "      <td>166582</td>\n",
       "      <td>2019-09-19</td>\n",
       "      <td>out</td>\n",
       "      <td>False</td>\n",
       "      <td>885876.0</td>\n",
       "      <td>False</td>\n",
       "      <td>673</td>\n",
       "      <td>108207</td>\n",
       "      <td>120596</td>\n",
       "      <td>A</td>\n",
       "      <td>2019-08-09</td>\n",
       "    </tr>\n",
       "    <tr>\n",
       "      <th>5320</th>\n",
       "      <td>166582</td>\n",
       "      <td>2019-09-20</td>\n",
       "      <td>out</td>\n",
       "      <td>False</td>\n",
       "      <td>885876.0</td>\n",
       "      <td>False</td>\n",
       "      <td>737</td>\n",
       "      <td>114463</td>\n",
       "      <td>127868</td>\n",
       "      <td>A</td>\n",
       "      <td>2019-08-09</td>\n",
       "    </tr>\n",
       "    <tr>\n",
       "      <th>5337</th>\n",
       "      <td>166582</td>\n",
       "      <td>2019-09-23</td>\n",
       "      <td>out</td>\n",
       "      <td>False</td>\n",
       "      <td>885876.0</td>\n",
       "      <td>False</td>\n",
       "      <td>1436</td>\n",
       "      <td>103526</td>\n",
       "      <td>129484</td>\n",
       "      <td>A</td>\n",
       "      <td>2019-08-09</td>\n",
       "    </tr>\n",
       "    <tr>\n",
       "      <th>5355</th>\n",
       "      <td>166582</td>\n",
       "      <td>2019-09-25</td>\n",
       "      <td>out</td>\n",
       "      <td>False</td>\n",
       "      <td>885876.0</td>\n",
       "      <td>False</td>\n",
       "      <td>1230</td>\n",
       "      <td>144395</td>\n",
       "      <td>166155</td>\n",
       "      <td>A</td>\n",
       "      <td>2019-08-09</td>\n",
       "    </tr>\n",
       "    <tr>\n",
       "      <th>5359</th>\n",
       "      <td>166582</td>\n",
       "      <td>2019-09-26</td>\n",
       "      <td>out</td>\n",
       "      <td>False</td>\n",
       "      <td>885876.0</td>\n",
       "      <td>False</td>\n",
       "      <td>843</td>\n",
       "      <td>132206</td>\n",
       "      <td>146903</td>\n",
       "      <td>A</td>\n",
       "      <td>2019-08-09</td>\n",
       "    </tr>\n",
       "    <tr>\n",
       "      <th>5364</th>\n",
       "      <td>166582</td>\n",
       "      <td>2019-09-27</td>\n",
       "      <td>out</td>\n",
       "      <td>False</td>\n",
       "      <td>885876.0</td>\n",
       "      <td>False</td>\n",
       "      <td>754</td>\n",
       "      <td>114325</td>\n",
       "      <td>127751</td>\n",
       "      <td>A</td>\n",
       "      <td>2019-08-09</td>\n",
       "    </tr>\n",
       "    <tr>\n",
       "      <th>5379</th>\n",
       "      <td>166582</td>\n",
       "      <td>2019-09-30</td>\n",
       "      <td>out</td>\n",
       "      <td>False</td>\n",
       "      <td>885876.0</td>\n",
       "      <td>False</td>\n",
       "      <td>1063</td>\n",
       "      <td>93800</td>\n",
       "      <td>112572</td>\n",
       "      <td>A</td>\n",
       "      <td>2019-08-09</td>\n",
       "    </tr>\n",
       "    <tr>\n",
       "      <th>5384</th>\n",
       "      <td>166582</td>\n",
       "      <td>2019-10-01</td>\n",
       "      <td>out</td>\n",
       "      <td>False</td>\n",
       "      <td>885876.0</td>\n",
       "      <td>False</td>\n",
       "      <td>1480</td>\n",
       "      <td>86910</td>\n",
       "      <td>113843</td>\n",
       "      <td>A</td>\n",
       "      <td>2019-08-09</td>\n",
       "    </tr>\n",
       "    <tr>\n",
       "      <th>5396</th>\n",
       "      <td>166582</td>\n",
       "      <td>2019-10-02</td>\n",
       "      <td>out</td>\n",
       "      <td>False</td>\n",
       "      <td>885876.0</td>\n",
       "      <td>False</td>\n",
       "      <td>995</td>\n",
       "      <td>120175</td>\n",
       "      <td>137324</td>\n",
       "      <td>A</td>\n",
       "      <td>2019-08-09</td>\n",
       "    </tr>\n",
       "    <tr>\n",
       "      <th>5404</th>\n",
       "      <td>166582</td>\n",
       "      <td>2019-10-03</td>\n",
       "      <td>out</td>\n",
       "      <td>False</td>\n",
       "      <td>885876.0</td>\n",
       "      <td>False</td>\n",
       "      <td>314</td>\n",
       "      <td>94237</td>\n",
       "      <td>99839</td>\n",
       "      <td>A</td>\n",
       "      <td>2019-08-09</td>\n",
       "    </tr>\n",
       "    <tr>\n",
       "      <th>5416</th>\n",
       "      <td>166582</td>\n",
       "      <td>2019-10-04</td>\n",
       "      <td>out</td>\n",
       "      <td>False</td>\n",
       "      <td>885876.0</td>\n",
       "      <td>False</td>\n",
       "      <td>277</td>\n",
       "      <td>83560</td>\n",
       "      <td>87883</td>\n",
       "      <td>A</td>\n",
       "      <td>2019-08-09</td>\n",
       "    </tr>\n",
       "    <tr>\n",
       "      <th>5456</th>\n",
       "      <td>166582</td>\n",
       "      <td>2019-10-09</td>\n",
       "      <td>out</td>\n",
       "      <td>False</td>\n",
       "      <td>885876.0</td>\n",
       "      <td>False</td>\n",
       "      <td>696</td>\n",
       "      <td>117177</td>\n",
       "      <td>129395</td>\n",
       "      <td>A</td>\n",
       "      <td>2019-08-09</td>\n",
       "    </tr>\n",
       "    <tr>\n",
       "      <th>5474</th>\n",
       "      <td>166582</td>\n",
       "      <td>2019-10-10</td>\n",
       "      <td>out</td>\n",
       "      <td>False</td>\n",
       "      <td>885876.0</td>\n",
       "      <td>False</td>\n",
       "      <td>348</td>\n",
       "      <td>89576</td>\n",
       "      <td>95440</td>\n",
       "      <td>A</td>\n",
       "      <td>2019-08-09</td>\n",
       "    </tr>\n",
       "  </tbody>\n",
       "</table>\n",
       "</div>"
      ],
      "text/plain": [
       "      user_id        date direction internal  operator_id  is_missed_call  \\\n",
       "5197   166582  2019-09-02       out    False     885876.0           False   \n",
       "5204   166582  2019-09-03       out    False     885876.0           False   \n",
       "5210   166582  2019-09-04       out    False     885876.0           False   \n",
       "5216   166582  2019-09-05       out    False     885876.0           False   \n",
       "5230   166582  2019-09-06       out    False     885876.0           False   \n",
       "5246   166582  2019-09-09       out    False     885876.0           False   \n",
       "5253   166582  2019-09-10       out    False     885876.0           False   \n",
       "5260   166582  2019-09-11       out    False     885876.0           False   \n",
       "5267   166582  2019-09-12       out    False     885876.0           False   \n",
       "5276   166582  2019-09-13       out    False     885876.0           False   \n",
       "5294   166582  2019-09-16       out    False     885876.0           False   \n",
       "5298   166582  2019-09-17       out    False     885876.0           False   \n",
       "5310   166582  2019-09-18       out    False     885876.0           False   \n",
       "5311   166582  2019-09-19       out    False     885876.0           False   \n",
       "5320   166582  2019-09-20       out    False     885876.0           False   \n",
       "5337   166582  2019-09-23       out    False     885876.0           False   \n",
       "5355   166582  2019-09-25       out    False     885876.0           False   \n",
       "5359   166582  2019-09-26       out    False     885876.0           False   \n",
       "5364   166582  2019-09-27       out    False     885876.0           False   \n",
       "5379   166582  2019-09-30       out    False     885876.0           False   \n",
       "5384   166582  2019-10-01       out    False     885876.0           False   \n",
       "5396   166582  2019-10-02       out    False     885876.0           False   \n",
       "5404   166582  2019-10-03       out    False     885876.0           False   \n",
       "5416   166582  2019-10-04       out    False     885876.0           False   \n",
       "5456   166582  2019-10-09       out    False     885876.0           False   \n",
       "5474   166582  2019-10-10       out    False     885876.0           False   \n",
       "\n",
       "      calls_count  call_duration  total_call_duration tariff_plan date_start  \n",
       "5197         1018          90095               108665           A 2019-08-09  \n",
       "5204         1137          87700               109600           A 2019-08-09  \n",
       "5210          863          91813               107524           A 2019-08-09  \n",
       "5216          602         109032               120064           A 2019-08-09  \n",
       "5230          584          87556                98711           A 2019-08-09  \n",
       "5246         1138         121093               141930           A 2019-08-09  \n",
       "5253         1053          80782               100139           A 2019-08-09  \n",
       "5260          946         115057               132708           A 2019-08-09  \n",
       "5267          696         125286               138643           A 2019-08-09  \n",
       "5276          652          98748               111703           A 2019-08-09  \n",
       "5294          878          71910                87712           A 2019-08-09  \n",
       "5298         1375         100454               124787           A 2019-08-09  \n",
       "5310         1013         121664               140050           A 2019-08-09  \n",
       "5311          673         108207               120596           A 2019-08-09  \n",
       "5320          737         114463               127868           A 2019-08-09  \n",
       "5337         1436         103526               129484           A 2019-08-09  \n",
       "5355         1230         144395               166155           A 2019-08-09  \n",
       "5359          843         132206               146903           A 2019-08-09  \n",
       "5364          754         114325               127751           A 2019-08-09  \n",
       "5379         1063          93800               112572           A 2019-08-09  \n",
       "5384         1480          86910               113843           A 2019-08-09  \n",
       "5396          995         120175               137324           A 2019-08-09  \n",
       "5404          314          94237                99839           A 2019-08-09  \n",
       "5416          277          83560                87883           A 2019-08-09  \n",
       "5456          696         117177               129395           A 2019-08-09  \n",
       "5474          348          89576                95440           A 2019-08-09  "
      ]
     },
     "execution_count": 16,
     "metadata": {},
     "output_type": "execute_result"
    }
   ],
   "source": [
    "data[data['total_call_duration']>86400]"
   ]
  },
  {
   "cell_type": "code",
   "execution_count": 17,
   "id": "dfacc65f",
   "metadata": {},
   "outputs": [
    {
     "data": {
      "text/html": [
       "<div>\n",
       "<style scoped>\n",
       "    .dataframe tbody tr th:only-of-type {\n",
       "        vertical-align: middle;\n",
       "    }\n",
       "\n",
       "    .dataframe tbody tr th {\n",
       "        vertical-align: top;\n",
       "    }\n",
       "\n",
       "    .dataframe thead th {\n",
       "        text-align: right;\n",
       "    }\n",
       "</style>\n",
       "<table border=\"1\" class=\"dataframe\">\n",
       "  <thead>\n",
       "    <tr style=\"text-align: right;\">\n",
       "      <th></th>\n",
       "      <th>user_id</th>\n",
       "      <th>date</th>\n",
       "      <th>direction</th>\n",
       "      <th>internal</th>\n",
       "      <th>operator_id</th>\n",
       "      <th>is_missed_call</th>\n",
       "      <th>calls_count</th>\n",
       "      <th>call_duration</th>\n",
       "      <th>total_call_duration</th>\n",
       "      <th>tariff_plan</th>\n",
       "      <th>date_start</th>\n",
       "    </tr>\n",
       "  </thead>\n",
       "  <tbody>\n",
       "    <tr>\n",
       "      <th>0</th>\n",
       "      <td>166377</td>\n",
       "      <td>2019-08-05</td>\n",
       "      <td>out</td>\n",
       "      <td>True</td>\n",
       "      <td>880022.0</td>\n",
       "      <td>True</td>\n",
       "      <td>3</td>\n",
       "      <td>0</td>\n",
       "      <td>5</td>\n",
       "      <td>B</td>\n",
       "      <td>2019-08-01</td>\n",
       "    </tr>\n",
       "    <tr>\n",
       "      <th>1</th>\n",
       "      <td>166377</td>\n",
       "      <td>2019-08-05</td>\n",
       "      <td>out</td>\n",
       "      <td>True</td>\n",
       "      <td>880020.0</td>\n",
       "      <td>True</td>\n",
       "      <td>1</td>\n",
       "      <td>0</td>\n",
       "      <td>1</td>\n",
       "      <td>B</td>\n",
       "      <td>2019-08-01</td>\n",
       "    </tr>\n",
       "    <tr>\n",
       "      <th>2</th>\n",
       "      <td>166377</td>\n",
       "      <td>2019-08-05</td>\n",
       "      <td>out</td>\n",
       "      <td>True</td>\n",
       "      <td>880020.0</td>\n",
       "      <td>False</td>\n",
       "      <td>1</td>\n",
       "      <td>10</td>\n",
       "      <td>18</td>\n",
       "      <td>B</td>\n",
       "      <td>2019-08-01</td>\n",
       "    </tr>\n",
       "    <tr>\n",
       "      <th>3</th>\n",
       "      <td>166377</td>\n",
       "      <td>2019-08-05</td>\n",
       "      <td>out</td>\n",
       "      <td>False</td>\n",
       "      <td>880022.0</td>\n",
       "      <td>True</td>\n",
       "      <td>3</td>\n",
       "      <td>0</td>\n",
       "      <td>25</td>\n",
       "      <td>B</td>\n",
       "      <td>2019-08-01</td>\n",
       "    </tr>\n",
       "    <tr>\n",
       "      <th>4</th>\n",
       "      <td>166377</td>\n",
       "      <td>2019-08-05</td>\n",
       "      <td>out</td>\n",
       "      <td>False</td>\n",
       "      <td>880020.0</td>\n",
       "      <td>False</td>\n",
       "      <td>2</td>\n",
       "      <td>3</td>\n",
       "      <td>29</td>\n",
       "      <td>B</td>\n",
       "      <td>2019-08-01</td>\n",
       "    </tr>\n",
       "    <tr>\n",
       "      <th>...</th>\n",
       "      <td>...</td>\n",
       "      <td>...</td>\n",
       "      <td>...</td>\n",
       "      <td>...</td>\n",
       "      <td>...</td>\n",
       "      <td>...</td>\n",
       "      <td>...</td>\n",
       "      <td>...</td>\n",
       "      <td>...</td>\n",
       "      <td>...</td>\n",
       "      <td>...</td>\n",
       "    </tr>\n",
       "    <tr>\n",
       "      <th>41486</th>\n",
       "      <td>168606</td>\n",
       "      <td>2019-11-09</td>\n",
       "      <td>out</td>\n",
       "      <td>False</td>\n",
       "      <td>957922.0</td>\n",
       "      <td>False</td>\n",
       "      <td>4</td>\n",
       "      <td>551</td>\n",
       "      <td>593</td>\n",
       "      <td>C</td>\n",
       "      <td>2019-10-31</td>\n",
       "    </tr>\n",
       "    <tr>\n",
       "      <th>41487</th>\n",
       "      <td>168606</td>\n",
       "      <td>2019-11-10</td>\n",
       "      <td>out</td>\n",
       "      <td>True</td>\n",
       "      <td>957922.0</td>\n",
       "      <td>False</td>\n",
       "      <td>1</td>\n",
       "      <td>0</td>\n",
       "      <td>25</td>\n",
       "      <td>C</td>\n",
       "      <td>2019-10-31</td>\n",
       "    </tr>\n",
       "    <tr>\n",
       "      <th>41488</th>\n",
       "      <td>168606</td>\n",
       "      <td>2019-11-10</td>\n",
       "      <td>out</td>\n",
       "      <td>True</td>\n",
       "      <td>957922.0</td>\n",
       "      <td>True</td>\n",
       "      <td>1</td>\n",
       "      <td>0</td>\n",
       "      <td>38</td>\n",
       "      <td>C</td>\n",
       "      <td>2019-10-31</td>\n",
       "    </tr>\n",
       "    <tr>\n",
       "      <th>41489</th>\n",
       "      <td>168606</td>\n",
       "      <td>2019-11-11</td>\n",
       "      <td>out</td>\n",
       "      <td>True</td>\n",
       "      <td>957922.0</td>\n",
       "      <td>False</td>\n",
       "      <td>2</td>\n",
       "      <td>479</td>\n",
       "      <td>501</td>\n",
       "      <td>C</td>\n",
       "      <td>2019-10-31</td>\n",
       "    </tr>\n",
       "    <tr>\n",
       "      <th>41490</th>\n",
       "      <td>168606</td>\n",
       "      <td>2019-11-15</td>\n",
       "      <td>out</td>\n",
       "      <td>True</td>\n",
       "      <td>957922.0</td>\n",
       "      <td>False</td>\n",
       "      <td>4</td>\n",
       "      <td>3130</td>\n",
       "      <td>3190</td>\n",
       "      <td>C</td>\n",
       "      <td>2019-10-31</td>\n",
       "    </tr>\n",
       "  </tbody>\n",
       "</table>\n",
       "<p>41208 rows × 11 columns</p>\n",
       "</div>"
      ],
      "text/plain": [
       "       user_id        date direction internal  operator_id  is_missed_call  \\\n",
       "0       166377  2019-08-05       out     True     880022.0            True   \n",
       "1       166377  2019-08-05       out     True     880020.0            True   \n",
       "2       166377  2019-08-05       out     True     880020.0           False   \n",
       "3       166377  2019-08-05       out    False     880022.0            True   \n",
       "4       166377  2019-08-05       out    False     880020.0           False   \n",
       "...        ...         ...       ...      ...          ...             ...   \n",
       "41486   168606  2019-11-09       out    False     957922.0           False   \n",
       "41487   168606  2019-11-10       out     True     957922.0           False   \n",
       "41488   168606  2019-11-10       out     True     957922.0            True   \n",
       "41489   168606  2019-11-11       out     True     957922.0           False   \n",
       "41490   168606  2019-11-15       out     True     957922.0           False   \n",
       "\n",
       "       calls_count  call_duration  total_call_duration tariff_plan date_start  \n",
       "0                3              0                    5           B 2019-08-01  \n",
       "1                1              0                    1           B 2019-08-01  \n",
       "2                1             10                   18           B 2019-08-01  \n",
       "3                3              0                   25           B 2019-08-01  \n",
       "4                2              3                   29           B 2019-08-01  \n",
       "...            ...            ...                  ...         ...        ...  \n",
       "41486            4            551                  593           C 2019-10-31  \n",
       "41487            1              0                   25           C 2019-10-31  \n",
       "41488            1              0                   38           C 2019-10-31  \n",
       "41489            2            479                  501           C 2019-10-31  \n",
       "41490            4           3130                 3190           C 2019-10-31  \n",
       "\n",
       "[41208 rows x 11 columns]"
      ]
     },
     "execution_count": 17,
     "metadata": {},
     "output_type": "execute_result"
    }
   ],
   "source": [
    "# Все случаи с аномальной длительностью вызовов на одном операторе, уберем его вообще из выборки\n",
    "data = data[data['operator_id']!=885876.0]\n",
    "data"
   ]
  },
  {
   "cell_type": "code",
   "execution_count": 18,
   "id": "576ea490",
   "metadata": {},
   "outputs": [
    {
     "data": {
      "text/html": [
       "<div>\n",
       "<style scoped>\n",
       "    .dataframe tbody tr th:only-of-type {\n",
       "        vertical-align: middle;\n",
       "    }\n",
       "\n",
       "    .dataframe tbody tr th {\n",
       "        vertical-align: top;\n",
       "    }\n",
       "\n",
       "    .dataframe thead th {\n",
       "        text-align: right;\n",
       "    }\n",
       "</style>\n",
       "<table border=\"1\" class=\"dataframe\">\n",
       "  <thead>\n",
       "    <tr style=\"text-align: right;\">\n",
       "      <th></th>\n",
       "      <th>user_id</th>\n",
       "      <th>date</th>\n",
       "      <th>direction</th>\n",
       "      <th>internal</th>\n",
       "      <th>operator_id</th>\n",
       "      <th>is_missed_call</th>\n",
       "      <th>calls_count</th>\n",
       "      <th>call_duration</th>\n",
       "      <th>total_call_duration</th>\n",
       "      <th>tariff_plan</th>\n",
       "      <th>date_start</th>\n",
       "    </tr>\n",
       "  </thead>\n",
       "  <tbody>\n",
       "    <tr>\n",
       "      <th>1261</th>\n",
       "      <td>166405</td>\n",
       "      <td>2019-11-19</td>\n",
       "      <td>in</td>\n",
       "      <td>False</td>\n",
       "      <td>939478.0</td>\n",
       "      <td>True</td>\n",
       "      <td>1</td>\n",
       "      <td>165</td>\n",
       "      <td>173</td>\n",
       "      <td>B</td>\n",
       "      <td>2019-08-02</td>\n",
       "    </tr>\n",
       "    <tr>\n",
       "      <th>1287</th>\n",
       "      <td>166405</td>\n",
       "      <td>2019-11-21</td>\n",
       "      <td>in</td>\n",
       "      <td>False</td>\n",
       "      <td>882686.0</td>\n",
       "      <td>True</td>\n",
       "      <td>1</td>\n",
       "      <td>1</td>\n",
       "      <td>5</td>\n",
       "      <td>B</td>\n",
       "      <td>2019-08-02</td>\n",
       "    </tr>\n",
       "    <tr>\n",
       "      <th>1306</th>\n",
       "      <td>166405</td>\n",
       "      <td>2019-11-22</td>\n",
       "      <td>in</td>\n",
       "      <td>False</td>\n",
       "      <td>882686.0</td>\n",
       "      <td>True</td>\n",
       "      <td>1</td>\n",
       "      <td>1</td>\n",
       "      <td>5</td>\n",
       "      <td>B</td>\n",
       "      <td>2019-08-02</td>\n",
       "    </tr>\n",
       "    <tr>\n",
       "      <th>1802</th>\n",
       "      <td>166407</td>\n",
       "      <td>2019-09-23</td>\n",
       "      <td>in</td>\n",
       "      <td>False</td>\n",
       "      <td>888534.0</td>\n",
       "      <td>True</td>\n",
       "      <td>1</td>\n",
       "      <td>133</td>\n",
       "      <td>156</td>\n",
       "      <td>A</td>\n",
       "      <td>2019-08-02</td>\n",
       "    </tr>\n",
       "    <tr>\n",
       "      <th>2234</th>\n",
       "      <td>166482</td>\n",
       "      <td>2019-11-05</td>\n",
       "      <td>in</td>\n",
       "      <td>False</td>\n",
       "      <td>934074.0</td>\n",
       "      <td>True</td>\n",
       "      <td>1</td>\n",
       "      <td>1</td>\n",
       "      <td>15</td>\n",
       "      <td>C</td>\n",
       "      <td>2019-08-05</td>\n",
       "    </tr>\n",
       "    <tr>\n",
       "      <th>...</th>\n",
       "      <td>...</td>\n",
       "      <td>...</td>\n",
       "      <td>...</td>\n",
       "      <td>...</td>\n",
       "      <td>...</td>\n",
       "      <td>...</td>\n",
       "      <td>...</td>\n",
       "      <td>...</td>\n",
       "      <td>...</td>\n",
       "      <td>...</td>\n",
       "      <td>...</td>\n",
       "    </tr>\n",
       "    <tr>\n",
       "      <th>39725</th>\n",
       "      <td>168336</td>\n",
       "      <td>2019-11-01</td>\n",
       "      <td>in</td>\n",
       "      <td>False</td>\n",
       "      <td>947304.0</td>\n",
       "      <td>True</td>\n",
       "      <td>1</td>\n",
       "      <td>1</td>\n",
       "      <td>20</td>\n",
       "      <td>C</td>\n",
       "      <td>2019-10-22</td>\n",
       "    </tr>\n",
       "    <tr>\n",
       "      <th>39775</th>\n",
       "      <td>168336</td>\n",
       "      <td>2019-11-12</td>\n",
       "      <td>in</td>\n",
       "      <td>False</td>\n",
       "      <td>947304.0</td>\n",
       "      <td>True</td>\n",
       "      <td>1</td>\n",
       "      <td>69</td>\n",
       "      <td>72</td>\n",
       "      <td>C</td>\n",
       "      <td>2019-10-22</td>\n",
       "    </tr>\n",
       "    <tr>\n",
       "      <th>39797</th>\n",
       "      <td>168336</td>\n",
       "      <td>2019-11-15</td>\n",
       "      <td>in</td>\n",
       "      <td>False</td>\n",
       "      <td>947304.0</td>\n",
       "      <td>True</td>\n",
       "      <td>1</td>\n",
       "      <td>46</td>\n",
       "      <td>49</td>\n",
       "      <td>C</td>\n",
       "      <td>2019-10-22</td>\n",
       "    </tr>\n",
       "    <tr>\n",
       "      <th>39926</th>\n",
       "      <td>168336</td>\n",
       "      <td>2019-11-27</td>\n",
       "      <td>in</td>\n",
       "      <td>False</td>\n",
       "      <td>958416.0</td>\n",
       "      <td>True</td>\n",
       "      <td>1</td>\n",
       "      <td>40</td>\n",
       "      <td>65</td>\n",
       "      <td>C</td>\n",
       "      <td>2019-10-22</td>\n",
       "    </tr>\n",
       "    <tr>\n",
       "      <th>41053</th>\n",
       "      <td>168412</td>\n",
       "      <td>2019-11-05</td>\n",
       "      <td>in</td>\n",
       "      <td>False</td>\n",
       "      <td>953464.0</td>\n",
       "      <td>True</td>\n",
       "      <td>1</td>\n",
       "      <td>1</td>\n",
       "      <td>7</td>\n",
       "      <td>C</td>\n",
       "      <td>2019-10-24</td>\n",
       "    </tr>\n",
       "  </tbody>\n",
       "</table>\n",
       "<p>290 rows × 11 columns</p>\n",
       "</div>"
      ],
      "text/plain": [
       "       user_id        date direction internal  operator_id  is_missed_call  \\\n",
       "1261    166405  2019-11-19        in    False     939478.0            True   \n",
       "1287    166405  2019-11-21        in    False     882686.0            True   \n",
       "1306    166405  2019-11-22        in    False     882686.0            True   \n",
       "1802    166407  2019-09-23        in    False     888534.0            True   \n",
       "2234    166482  2019-11-05        in    False     934074.0            True   \n",
       "...        ...         ...       ...      ...          ...             ...   \n",
       "39725   168336  2019-11-01        in    False     947304.0            True   \n",
       "39775   168336  2019-11-12        in    False     947304.0            True   \n",
       "39797   168336  2019-11-15        in    False     947304.0            True   \n",
       "39926   168336  2019-11-27        in    False     958416.0            True   \n",
       "41053   168412  2019-11-05        in    False     953464.0            True   \n",
       "\n",
       "       calls_count  call_duration  total_call_duration tariff_plan date_start  \n",
       "1261             1            165                  173           B 2019-08-02  \n",
       "1287             1              1                    5           B 2019-08-02  \n",
       "1306             1              1                    5           B 2019-08-02  \n",
       "1802             1            133                  156           A 2019-08-02  \n",
       "2234             1              1                   15           C 2019-08-05  \n",
       "...            ...            ...                  ...         ...        ...  \n",
       "39725            1              1                   20           C 2019-10-22  \n",
       "39775            1             69                   72           C 2019-10-22  \n",
       "39797            1             46                   49           C 2019-10-22  \n",
       "39926            1             40                   65           C 2019-10-22  \n",
       "41053            1              1                    7           C 2019-10-24  \n",
       "\n",
       "[290 rows x 11 columns]"
      ]
     },
     "execution_count": 18,
     "metadata": {},
     "output_type": "execute_result"
    }
   ],
   "source": [
    "# Если звонок пропущен, то его длительность должна быть равна 0, проверим данные\n",
    "data[(data['is_missed_call']==True) & (data['call_duration']!=0)]"
   ]
  },
  {
   "cell_type": "code",
   "execution_count": 19,
   "id": "7a951db4",
   "metadata": {},
   "outputs": [
    {
     "data": {
      "text/html": [
       "<div>\n",
       "<style scoped>\n",
       "    .dataframe tbody tr th:only-of-type {\n",
       "        vertical-align: middle;\n",
       "    }\n",
       "\n",
       "    .dataframe tbody tr th {\n",
       "        vertical-align: top;\n",
       "    }\n",
       "\n",
       "    .dataframe thead th {\n",
       "        text-align: right;\n",
       "    }\n",
       "</style>\n",
       "<table border=\"1\" class=\"dataframe\">\n",
       "  <thead>\n",
       "    <tr style=\"text-align: right;\">\n",
       "      <th></th>\n",
       "      <th>user_id</th>\n",
       "      <th>date</th>\n",
       "      <th>direction</th>\n",
       "      <th>internal</th>\n",
       "      <th>operator_id</th>\n",
       "      <th>is_missed_call</th>\n",
       "      <th>calls_count</th>\n",
       "      <th>call_duration</th>\n",
       "      <th>total_call_duration</th>\n",
       "      <th>tariff_plan</th>\n",
       "      <th>date_start</th>\n",
       "    </tr>\n",
       "  </thead>\n",
       "  <tbody>\n",
       "    <tr>\n",
       "      <th>0</th>\n",
       "      <td>166377</td>\n",
       "      <td>2019-08-05</td>\n",
       "      <td>out</td>\n",
       "      <td>True</td>\n",
       "      <td>880022.0</td>\n",
       "      <td>True</td>\n",
       "      <td>3</td>\n",
       "      <td>0</td>\n",
       "      <td>5</td>\n",
       "      <td>B</td>\n",
       "      <td>2019-08-01</td>\n",
       "    </tr>\n",
       "    <tr>\n",
       "      <th>1</th>\n",
       "      <td>166377</td>\n",
       "      <td>2019-08-05</td>\n",
       "      <td>out</td>\n",
       "      <td>True</td>\n",
       "      <td>880020.0</td>\n",
       "      <td>True</td>\n",
       "      <td>1</td>\n",
       "      <td>0</td>\n",
       "      <td>1</td>\n",
       "      <td>B</td>\n",
       "      <td>2019-08-01</td>\n",
       "    </tr>\n",
       "    <tr>\n",
       "      <th>2</th>\n",
       "      <td>166377</td>\n",
       "      <td>2019-08-05</td>\n",
       "      <td>out</td>\n",
       "      <td>True</td>\n",
       "      <td>880020.0</td>\n",
       "      <td>False</td>\n",
       "      <td>1</td>\n",
       "      <td>10</td>\n",
       "      <td>18</td>\n",
       "      <td>B</td>\n",
       "      <td>2019-08-01</td>\n",
       "    </tr>\n",
       "    <tr>\n",
       "      <th>3</th>\n",
       "      <td>166377</td>\n",
       "      <td>2019-08-05</td>\n",
       "      <td>out</td>\n",
       "      <td>False</td>\n",
       "      <td>880022.0</td>\n",
       "      <td>True</td>\n",
       "      <td>3</td>\n",
       "      <td>0</td>\n",
       "      <td>25</td>\n",
       "      <td>B</td>\n",
       "      <td>2019-08-01</td>\n",
       "    </tr>\n",
       "    <tr>\n",
       "      <th>4</th>\n",
       "      <td>166377</td>\n",
       "      <td>2019-08-05</td>\n",
       "      <td>out</td>\n",
       "      <td>False</td>\n",
       "      <td>880020.0</td>\n",
       "      <td>False</td>\n",
       "      <td>2</td>\n",
       "      <td>3</td>\n",
       "      <td>29</td>\n",
       "      <td>B</td>\n",
       "      <td>2019-08-01</td>\n",
       "    </tr>\n",
       "    <tr>\n",
       "      <th>...</th>\n",
       "      <td>...</td>\n",
       "      <td>...</td>\n",
       "      <td>...</td>\n",
       "      <td>...</td>\n",
       "      <td>...</td>\n",
       "      <td>...</td>\n",
       "      <td>...</td>\n",
       "      <td>...</td>\n",
       "      <td>...</td>\n",
       "      <td>...</td>\n",
       "      <td>...</td>\n",
       "    </tr>\n",
       "    <tr>\n",
       "      <th>41486</th>\n",
       "      <td>168606</td>\n",
       "      <td>2019-11-09</td>\n",
       "      <td>out</td>\n",
       "      <td>False</td>\n",
       "      <td>957922.0</td>\n",
       "      <td>False</td>\n",
       "      <td>4</td>\n",
       "      <td>551</td>\n",
       "      <td>593</td>\n",
       "      <td>C</td>\n",
       "      <td>2019-10-31</td>\n",
       "    </tr>\n",
       "    <tr>\n",
       "      <th>41487</th>\n",
       "      <td>168606</td>\n",
       "      <td>2019-11-10</td>\n",
       "      <td>out</td>\n",
       "      <td>True</td>\n",
       "      <td>957922.0</td>\n",
       "      <td>False</td>\n",
       "      <td>1</td>\n",
       "      <td>0</td>\n",
       "      <td>25</td>\n",
       "      <td>C</td>\n",
       "      <td>2019-10-31</td>\n",
       "    </tr>\n",
       "    <tr>\n",
       "      <th>41488</th>\n",
       "      <td>168606</td>\n",
       "      <td>2019-11-10</td>\n",
       "      <td>out</td>\n",
       "      <td>True</td>\n",
       "      <td>957922.0</td>\n",
       "      <td>True</td>\n",
       "      <td>1</td>\n",
       "      <td>0</td>\n",
       "      <td>38</td>\n",
       "      <td>C</td>\n",
       "      <td>2019-10-31</td>\n",
       "    </tr>\n",
       "    <tr>\n",
       "      <th>41489</th>\n",
       "      <td>168606</td>\n",
       "      <td>2019-11-11</td>\n",
       "      <td>out</td>\n",
       "      <td>True</td>\n",
       "      <td>957922.0</td>\n",
       "      <td>False</td>\n",
       "      <td>2</td>\n",
       "      <td>479</td>\n",
       "      <td>501</td>\n",
       "      <td>C</td>\n",
       "      <td>2019-10-31</td>\n",
       "    </tr>\n",
       "    <tr>\n",
       "      <th>41490</th>\n",
       "      <td>168606</td>\n",
       "      <td>2019-11-15</td>\n",
       "      <td>out</td>\n",
       "      <td>True</td>\n",
       "      <td>957922.0</td>\n",
       "      <td>False</td>\n",
       "      <td>4</td>\n",
       "      <td>3130</td>\n",
       "      <td>3190</td>\n",
       "      <td>C</td>\n",
       "      <td>2019-10-31</td>\n",
       "    </tr>\n",
       "  </tbody>\n",
       "</table>\n",
       "<p>40918 rows × 11 columns</p>\n",
       "</div>"
      ],
      "text/plain": [
       "       user_id        date direction internal  operator_id  is_missed_call  \\\n",
       "0       166377  2019-08-05       out     True     880022.0            True   \n",
       "1       166377  2019-08-05       out     True     880020.0            True   \n",
       "2       166377  2019-08-05       out     True     880020.0           False   \n",
       "3       166377  2019-08-05       out    False     880022.0            True   \n",
       "4       166377  2019-08-05       out    False     880020.0           False   \n",
       "...        ...         ...       ...      ...          ...             ...   \n",
       "41486   168606  2019-11-09       out    False     957922.0           False   \n",
       "41487   168606  2019-11-10       out     True     957922.0           False   \n",
       "41488   168606  2019-11-10       out     True     957922.0            True   \n",
       "41489   168606  2019-11-11       out     True     957922.0           False   \n",
       "41490   168606  2019-11-15       out     True     957922.0           False   \n",
       "\n",
       "       calls_count  call_duration  total_call_duration tariff_plan date_start  \n",
       "0                3              0                    5           B 2019-08-01  \n",
       "1                1              0                    1           B 2019-08-01  \n",
       "2                1             10                   18           B 2019-08-01  \n",
       "3                3              0                   25           B 2019-08-01  \n",
       "4                2              3                   29           B 2019-08-01  \n",
       "...            ...            ...                  ...         ...        ...  \n",
       "41486            4            551                  593           C 2019-10-31  \n",
       "41487            1              0                   25           C 2019-10-31  \n",
       "41488            1              0                   38           C 2019-10-31  \n",
       "41489            2            479                  501           C 2019-10-31  \n",
       "41490            4           3130                 3190           C 2019-10-31  \n",
       "\n",
       "[40918 rows x 11 columns]"
      ]
     },
     "execution_count": 19,
     "metadata": {},
     "output_type": "execute_result"
    }
   ],
   "source": [
    "# Уберем такие строки\n",
    "data = data[~((data['is_missed_call']==True) & (data['call_duration']!=0))]\n",
    "data"
   ]
  },
  {
   "cell_type": "markdown",
   "id": "8650bd18",
   "metadata": {},
   "source": [
    "Данные готовы."
   ]
  },
  {
   "cell_type": "markdown",
   "metadata": {},
   "source": [
    "### Промежуточный вывод\n",
    "Исходные данные содержали явно ошибочные значения и значения не имеющие ценности в рамках исследования.\n",
    "Мы очистили датасет от таких данных. Таблица из 53 тысяч строк сократилась до 41 тысячи."
   ]
  },
  {
   "cell_type": "markdown",
   "id": "f9d7eb4a",
   "metadata": {},
   "source": [
    "<div id='2'/>\n",
    "\n",
    "## Исследовательский анализ данных"
   ]
  },
  {
   "cell_type": "markdown",
   "id": "9ee2b76f",
   "metadata": {},
   "source": [
    "### Общая характеристика данных\n",
    "Анализ количества клиентов - колл-центров и операторов в них"
   ]
  },
  {
   "cell_type": "code",
   "execution_count": 20,
   "id": "4a50d59e",
   "metadata": {},
   "outputs": [
    {
     "name": "stdout",
     "output_type": "stream",
     "text": [
      "Всего операторов: 1091\n",
      "Всего клиентов (колл-центров): 290\n"
     ]
    }
   ],
   "source": [
    "print('Всего операторов:', data['operator_id'].nunique())\n",
    "print('Всего клиентов (колл-центров):', data['user_id'].nunique())"
   ]
  },
  {
   "cell_type": "markdown",
   "metadata": {},
   "source": [
    "Посмотрим на распределение количества операторов по колл-центрам."
   ]
  },
  {
   "cell_type": "code",
   "execution_count": 21,
   "metadata": {},
   "outputs": [
    {
     "data": {
      "text/html": [
       "<div>\n",
       "<style scoped>\n",
       "    .dataframe tbody tr th:only-of-type {\n",
       "        vertical-align: middle;\n",
       "    }\n",
       "\n",
       "    .dataframe tbody tr th {\n",
       "        vertical-align: top;\n",
       "    }\n",
       "\n",
       "    .dataframe thead th {\n",
       "        text-align: right;\n",
       "    }\n",
       "</style>\n",
       "<table border=\"1\" class=\"dataframe\">\n",
       "  <thead>\n",
       "    <tr style=\"text-align: right;\">\n",
       "      <th></th>\n",
       "      <th>user_id</th>\n",
       "      <th>operator_id</th>\n",
       "    </tr>\n",
       "  </thead>\n",
       "  <tbody>\n",
       "    <tr>\n",
       "      <th>0</th>\n",
       "      <td>166377</td>\n",
       "      <td>5</td>\n",
       "    </tr>\n",
       "    <tr>\n",
       "      <th>1</th>\n",
       "      <td>166391</td>\n",
       "      <td>2</td>\n",
       "    </tr>\n",
       "    <tr>\n",
       "      <th>2</th>\n",
       "      <td>166392</td>\n",
       "      <td>3</td>\n",
       "    </tr>\n",
       "    <tr>\n",
       "      <th>3</th>\n",
       "      <td>166399</td>\n",
       "      <td>1</td>\n",
       "    </tr>\n",
       "    <tr>\n",
       "      <th>4</th>\n",
       "      <td>166405</td>\n",
       "      <td>10</td>\n",
       "    </tr>\n",
       "    <tr>\n",
       "      <th>...</th>\n",
       "      <td>...</td>\n",
       "      <td>...</td>\n",
       "    </tr>\n",
       "    <tr>\n",
       "      <th>285</th>\n",
       "      <td>168583</td>\n",
       "      <td>2</td>\n",
       "    </tr>\n",
       "    <tr>\n",
       "      <th>286</th>\n",
       "      <td>168598</td>\n",
       "      <td>1</td>\n",
       "    </tr>\n",
       "    <tr>\n",
       "      <th>287</th>\n",
       "      <td>168601</td>\n",
       "      <td>2</td>\n",
       "    </tr>\n",
       "    <tr>\n",
       "      <th>288</th>\n",
       "      <td>168603</td>\n",
       "      <td>1</td>\n",
       "    </tr>\n",
       "    <tr>\n",
       "      <th>289</th>\n",
       "      <td>168606</td>\n",
       "      <td>1</td>\n",
       "    </tr>\n",
       "  </tbody>\n",
       "</table>\n",
       "<p>290 rows × 2 columns</p>\n",
       "</div>"
      ],
      "text/plain": [
       "     user_id  operator_id\n",
       "0     166377            5\n",
       "1     166391            2\n",
       "2     166392            3\n",
       "3     166399            1\n",
       "4     166405           10\n",
       "..       ...          ...\n",
       "285   168583            2\n",
       "286   168598            1\n",
       "287   168601            2\n",
       "288   168603            1\n",
       "289   168606            1\n",
       "\n",
       "[290 rows x 2 columns]"
      ]
     },
     "execution_count": 21,
     "metadata": {},
     "output_type": "execute_result"
    }
   ],
   "source": [
    "company = data[['user_id', 'operator_id']].drop_duplicates()\n",
    "company = company.groupby(by='user_id').count().reset_index()\n",
    "company"
   ]
  },
  {
   "cell_type": "code",
   "execution_count": 22,
   "metadata": {},
   "outputs": [
    {
     "data": {
      "text/plain": [
       "1     107\n",
       "2      64\n",
       "3      33\n",
       "4      26\n",
       "5      17\n",
       "6      10\n",
       "7       7\n",
       "8       5\n",
       "15      3\n",
       "16      2\n",
       "9       2\n",
       "11      2\n",
       "27      2\n",
       "30      1\n",
       "48      1\n",
       "21      1\n",
       "28      1\n",
       "12      1\n",
       "18      1\n",
       "17      1\n",
       "14      1\n",
       "10      1\n",
       "50      1\n",
       "Name: operator_id, dtype: int64"
      ]
     },
     "execution_count": 22,
     "metadata": {},
     "output_type": "execute_result"
    }
   ],
   "source": [
    "company['operator_id'].value_counts()"
   ]
  },
  {
   "cell_type": "markdown",
   "id": "1e517325",
   "metadata": {},
   "source": [
    "Анализ различных типов звонков"
   ]
  },
  {
   "cell_type": "code",
   "execution_count": 23,
   "id": "613622ec",
   "metadata": {},
   "outputs": [
    {
     "name": "stdout",
     "output_type": "stream",
     "text": [
      "Входящие внешние: 91683\n",
      "Входящие внутренние: 675\n",
      "Исходящие внешние: 536935\n",
      "Исходящие внутренние: 12892\n"
     ]
    }
   ],
   "source": [
    "print('Входящие внешние:', data[(data['direction']=='in') & (data['internal']==False)]['calls_count'].sum())\n",
    "print('Входящие внутренние:', data[(data['direction']=='in') & (data['internal']==True)]['calls_count'].sum())\n",
    "print('Исходящие внешние:', data[(data['direction']=='out') & (data['internal']==False)]['calls_count'].sum())\n",
    "print('Исходящие внутренние:', data[(data['direction']=='out') & (data['internal']==True)]['calls_count'].sum())"
   ]
  },
  {
   "cell_type": "markdown",
   "id": "d76891d7",
   "metadata": {},
   "source": [
    "Сравнение пропущенных и принятых звонков"
   ]
  },
  {
   "cell_type": "code",
   "execution_count": 24,
   "id": "e1a5519e",
   "metadata": {},
   "outputs": [
    {
     "name": "stdout",
     "output_type": "stream",
     "text": [
      "Принятые входящие звонки: 91845\n",
      "Непринятые входящие звонки: 513\n",
      "Принятые исходящие звонки: 301823\n",
      "Неринятые исходящие звонки: 248004\n"
     ]
    }
   ],
   "source": [
    "print('Принятые входящие звонки:', data[(data['is_missed_call']==False) & (data['direction']=='in')]['calls_count'].sum())\n",
    "print('Непринятые входящие звонки:', data[(data['is_missed_call']==True) & (data['direction']=='in')]['calls_count'].sum())\n",
    "print('Принятые исходящие звонки:', data[(data['is_missed_call']==False) & (data['direction']=='out')]['calls_count'].sum())\n",
    "print('Неринятые исходящие звонки:', data[(data['is_missed_call']==True) & (data['direction']=='out')]['calls_count'].sum())"
   ]
  },
  {
   "cell_type": "markdown",
   "metadata": {},
   "source": [
    "Посмотрим на тарифы, какую информацию несут эти данные. Возможно, они показывают, на каком типе звонков специализируется компания. Дополнительная информация по тарифу представлена в разделе проверки гипотез."
   ]
  },
  {
   "cell_type": "code",
   "execution_count": 25,
   "metadata": {},
   "outputs": [
    {
     "data": {
      "text/html": [
       "<div>\n",
       "<style scoped>\n",
       "    .dataframe tbody tr th:only-of-type {\n",
       "        vertical-align: middle;\n",
       "    }\n",
       "\n",
       "    .dataframe tbody tr th {\n",
       "        vertical-align: top;\n",
       "    }\n",
       "\n",
       "    .dataframe thead th {\n",
       "        text-align: right;\n",
       "    }\n",
       "</style>\n",
       "<table border=\"1\" class=\"dataframe\">\n",
       "  <thead>\n",
       "    <tr style=\"text-align: right;\">\n",
       "      <th></th>\n",
       "      <th>tariff_plan</th>\n",
       "      <th>in</th>\n",
       "      <th>out</th>\n",
       "      <th>in_percent</th>\n",
       "    </tr>\n",
       "  </thead>\n",
       "  <tbody>\n",
       "    <tr>\n",
       "      <th>0</th>\n",
       "      <td>A</td>\n",
       "      <td>30593</td>\n",
       "      <td>289961</td>\n",
       "      <td>9.543790</td>\n",
       "    </tr>\n",
       "    <tr>\n",
       "      <th>1</th>\n",
       "      <td>B</td>\n",
       "      <td>28069</td>\n",
       "      <td>110492</td>\n",
       "      <td>20.257504</td>\n",
       "    </tr>\n",
       "    <tr>\n",
       "      <th>2</th>\n",
       "      <td>C</td>\n",
       "      <td>33696</td>\n",
       "      <td>149374</td>\n",
       "      <td>18.406074</td>\n",
       "    </tr>\n",
       "  </tbody>\n",
       "</table>\n",
       "</div>"
      ],
      "text/plain": [
       "  tariff_plan     in     out  in_percent\n",
       "0           A  30593  289961    9.543790\n",
       "1           B  28069  110492   20.257504\n",
       "2           C  33696  149374   18.406074"
      ]
     },
     "execution_count": 25,
     "metadata": {},
     "output_type": "execute_result"
    }
   ],
   "source": [
    "tariff = data[['tariff_plan', 'direction', 'calls_count']]\n",
    "tariff = tariff.groupby(by = ['tariff_plan', 'direction']).sum().reset_index()[['tariff_plan', 'direction', 'calls_count']]\n",
    "tariff = pd.pivot_table(tariff,\n",
    "               index='tariff_plan',\n",
    "               columns='direction',\n",
    "               values='calls_count',\n",
    "               aggfunc='sum').rename_axis(None, axis=1).reset_index().fillna(0)\n",
    "tariff['in_percent'] = tariff['in']/(tariff['in']+tariff['out'])*100\n",
    "tariff"
   ]
  },
  {
   "cell_type": "markdown",
   "metadata": {},
   "source": [
    "### Промежуточный вывод\n",
    "Практически треть компаний, которые есть в исходных данных, имеют у себя в штате только одного оператора. Если для выходящих вызовов, их можно будет сравнивать, то с случае с исходящими, надо будет подумать о какой-то классификации компаний, если это возможно.\n",
    "\n",
    "Входящие внутренние звонки составляют небольшую часть от общего объема входящих. А вот количество исходящих внутренних одного порядка с входящими внешними, надо будет это учесть при определении неэффективных операторов - нет ли тех, кто очень много звонит.\n",
    "\n",
    "Количество непринятых выходящих в 100 раз меньше количества принятых. Значит, это не массовая проблема, тогда, возможно определить неэффективных сотрудников по данному критерию.\n",
    "\n",
    "Количество принятых и непринятых исходящих довольно близко, что понятно - разные типы звонков и разные типы клиентов.\n",
    "\n",
    "По данным нет возможности сделать вывод, на что конкретно влияет тариф. Дополнительная информация по тарифу представлена в разделе проверки гипотез."
   ]
  },
  {
   "cell_type": "markdown",
   "id": "c8c341a2",
   "metadata": {},
   "source": [
    "<div id='3'/>\n",
    "\n",
    "## Решение основных вопросов заказчика"
   ]
  },
  {
   "cell_type": "markdown",
   "metadata": {},
   "source": [
    "### Определение типа компании по основному направлению вызовов"
   ]
  },
  {
   "cell_type": "markdown",
   "metadata": {},
   "source": [
    "В качестве клиентов могут быть колл-центры, которые обрабатывают входящие вызовы, а могут быть те, кто занимаются холодными и горячими обзвонами. Определим списки этих колл-центром и будем по ним применять различные критерии эффективности."
   ]
  },
  {
   "cell_type": "code",
   "execution_count": 26,
   "metadata": {},
   "outputs": [
    {
     "data": {
      "text/html": [
       "<div>\n",
       "<style scoped>\n",
       "    .dataframe tbody tr th:only-of-type {\n",
       "        vertical-align: middle;\n",
       "    }\n",
       "\n",
       "    .dataframe tbody tr th {\n",
       "        vertical-align: top;\n",
       "    }\n",
       "\n",
       "    .dataframe thead th {\n",
       "        text-align: right;\n",
       "    }\n",
       "</style>\n",
       "<table border=\"1\" class=\"dataframe\">\n",
       "  <thead>\n",
       "    <tr style=\"text-align: right;\">\n",
       "      <th></th>\n",
       "      <th>user_id</th>\n",
       "      <th>in</th>\n",
       "      <th>out</th>\n",
       "      <th>in_percent</th>\n",
       "    </tr>\n",
       "  </thead>\n",
       "  <tbody>\n",
       "    <tr>\n",
       "      <th>0</th>\n",
       "      <td>166377</td>\n",
       "      <td>102.0</td>\n",
       "      <td>4897.0</td>\n",
       "      <td>2.040408</td>\n",
       "    </tr>\n",
       "    <tr>\n",
       "      <th>1</th>\n",
       "      <td>166391</td>\n",
       "      <td>4.0</td>\n",
       "      <td>0.0</td>\n",
       "      <td>100.000000</td>\n",
       "    </tr>\n",
       "    <tr>\n",
       "      <th>2</th>\n",
       "      <td>166392</td>\n",
       "      <td>102.0</td>\n",
       "      <td>0.0</td>\n",
       "      <td>100.000000</td>\n",
       "    </tr>\n",
       "    <tr>\n",
       "      <th>3</th>\n",
       "      <td>166399</td>\n",
       "      <td>11.0</td>\n",
       "      <td>0.0</td>\n",
       "      <td>100.000000</td>\n",
       "    </tr>\n",
       "    <tr>\n",
       "      <th>4</th>\n",
       "      <td>166405</td>\n",
       "      <td>2188.0</td>\n",
       "      <td>9789.0</td>\n",
       "      <td>18.268348</td>\n",
       "    </tr>\n",
       "    <tr>\n",
       "      <th>...</th>\n",
       "      <td>...</td>\n",
       "      <td>...</td>\n",
       "      <td>...</td>\n",
       "      <td>...</td>\n",
       "    </tr>\n",
       "    <tr>\n",
       "      <th>285</th>\n",
       "      <td>168583</td>\n",
       "      <td>22.0</td>\n",
       "      <td>0.0</td>\n",
       "      <td>100.000000</td>\n",
       "    </tr>\n",
       "    <tr>\n",
       "      <th>286</th>\n",
       "      <td>168598</td>\n",
       "      <td>21.0</td>\n",
       "      <td>0.0</td>\n",
       "      <td>100.000000</td>\n",
       "    </tr>\n",
       "    <tr>\n",
       "      <th>287</th>\n",
       "      <td>168601</td>\n",
       "      <td>79.0</td>\n",
       "      <td>586.0</td>\n",
       "      <td>11.879699</td>\n",
       "    </tr>\n",
       "    <tr>\n",
       "      <th>288</th>\n",
       "      <td>168603</td>\n",
       "      <td>0.0</td>\n",
       "      <td>14.0</td>\n",
       "      <td>0.000000</td>\n",
       "    </tr>\n",
       "    <tr>\n",
       "      <th>289</th>\n",
       "      <td>168606</td>\n",
       "      <td>3.0</td>\n",
       "      <td>8.0</td>\n",
       "      <td>27.272727</td>\n",
       "    </tr>\n",
       "  </tbody>\n",
       "</table>\n",
       "<p>290 rows × 4 columns</p>\n",
       "</div>"
      ],
      "text/plain": [
       "     user_id      in     out  in_percent\n",
       "0     166377   102.0  4897.0    2.040408\n",
       "1     166391     4.0     0.0  100.000000\n",
       "2     166392   102.0     0.0  100.000000\n",
       "3     166399    11.0     0.0  100.000000\n",
       "4     166405  2188.0  9789.0   18.268348\n",
       "..       ...     ...     ...         ...\n",
       "285   168583    22.0     0.0  100.000000\n",
       "286   168598    21.0     0.0  100.000000\n",
       "287   168601    79.0   586.0   11.879699\n",
       "288   168603     0.0    14.0    0.000000\n",
       "289   168606     3.0     8.0   27.272727\n",
       "\n",
       "[290 rows x 4 columns]"
      ]
     },
     "execution_count": 26,
     "metadata": {},
     "output_type": "execute_result"
    }
   ],
   "source": [
    "# Внутренние вызовы тут не нужны\n",
    "d = data[data['internal']==False].groupby(by = ['user_id', 'direction']).sum().reset_index()[['user_id', 'direction', 'calls_count']]\n",
    "d = pd.pivot_table(d,\n",
    "               index='user_id',\n",
    "               columns='direction',\n",
    "               values='calls_count',\n",
    "               aggfunc='sum').rename_axis(None, axis=1).reset_index().fillna(0)\n",
    "d['in_percent'] = d['in']/(d['in']+d['out'])*100\n",
    "d"
   ]
  },
  {
   "cell_type": "code",
   "execution_count": 27,
   "metadata": {},
   "outputs": [
    {
     "data": {
      "image/png": "[encoded data removed]",
      "text/plain": [
       "<Figure size 360x360 with 1 Axes>"
      ]
     },
     "metadata": {
      "needs_background": "light"
     },
     "output_type": "display_data"
    }
   ],
   "source": [
    "d_graph = sns.displot(x='in_percent', data=d)\n",
    "d_graph.set(xlabel='Процент входящих звонков, %', ylabel='Кол-во компаний')\n",
    "d_graph.fig.suptitle('Распределение компаний по типу звонков')\n",
    "plt.show()"
   ]
  },
  {
   "cell_type": "markdown",
   "metadata": {},
   "source": [
    "Построим график распределения процента входящих звонков по компаниям, чтобы понять, насколько четкая граница разделения.\n",
    "Есть достаточно большое количество компаний, в которых явно преобладает какой-либо тип звонков. Но при этом, в части компаний, зачастую в равной степени, представлены оба типа звонков. Посмотрим на них подробнее."
   ]
  },
  {
   "cell_type": "code",
   "execution_count": 28,
   "metadata": {},
   "outputs": [
    {
     "data": {
      "text/plain": [
       "array([166717, 166732, 166813, 166916, 166946, 167016, 167113, 167235,\n",
       "       167246, 167263, 167397, 167445, 167466, 167543, 167630, 167650,\n",
       "       167742, 167799, 167829, 167969, 167977, 168008, 168180, 168185,\n",
       "       168271, 168275])"
      ]
     },
     "execution_count": 28,
     "metadata": {},
     "output_type": "execute_result"
    }
   ],
   "source": [
    "mixed_list = d[(d['in_percent']>40) & (d['in_percent']<60)]['user_id'].unique()\n",
    "mixed_list"
   ]
  },
  {
   "cell_type": "code",
   "execution_count": 29,
   "metadata": {},
   "outputs": [
    {
     "data": {
      "text/html": [
       "<div>\n",
       "<style scoped>\n",
       "    .dataframe tbody tr th:only-of-type {\n",
       "        vertical-align: middle;\n",
       "    }\n",
       "\n",
       "    .dataframe tbody tr th {\n",
       "        vertical-align: top;\n",
       "    }\n",
       "\n",
       "    .dataframe thead th {\n",
       "        text-align: right;\n",
       "    }\n",
       "</style>\n",
       "<table border=\"1\" class=\"dataframe\">\n",
       "  <thead>\n",
       "    <tr style=\"text-align: right;\">\n",
       "      <th></th>\n",
       "      <th>user_id</th>\n",
       "      <th>calls_count</th>\n",
       "    </tr>\n",
       "  </thead>\n",
       "  <tbody>\n",
       "    <tr>\n",
       "      <th>0</th>\n",
       "      <td>166717</td>\n",
       "      <td>888</td>\n",
       "    </tr>\n",
       "    <tr>\n",
       "      <th>1</th>\n",
       "      <td>166732</td>\n",
       "      <td>109</td>\n",
       "    </tr>\n",
       "    <tr>\n",
       "      <th>2</th>\n",
       "      <td>166813</td>\n",
       "      <td>74</td>\n",
       "    </tr>\n",
       "    <tr>\n",
       "      <th>3</th>\n",
       "      <td>166916</td>\n",
       "      <td>5750</td>\n",
       "    </tr>\n",
       "    <tr>\n",
       "      <th>4</th>\n",
       "      <td>166946</td>\n",
       "      <td>112</td>\n",
       "    </tr>\n",
       "    <tr>\n",
       "      <th>5</th>\n",
       "      <td>167016</td>\n",
       "      <td>1820</td>\n",
       "    </tr>\n",
       "    <tr>\n",
       "      <th>6</th>\n",
       "      <td>167113</td>\n",
       "      <td>2</td>\n",
       "    </tr>\n",
       "    <tr>\n",
       "      <th>7</th>\n",
       "      <td>167235</td>\n",
       "      <td>1756</td>\n",
       "    </tr>\n",
       "    <tr>\n",
       "      <th>8</th>\n",
       "      <td>167246</td>\n",
       "      <td>150</td>\n",
       "    </tr>\n",
       "    <tr>\n",
       "      <th>9</th>\n",
       "      <td>167263</td>\n",
       "      <td>16</td>\n",
       "    </tr>\n",
       "    <tr>\n",
       "      <th>10</th>\n",
       "      <td>167397</td>\n",
       "      <td>7</td>\n",
       "    </tr>\n",
       "    <tr>\n",
       "      <th>11</th>\n",
       "      <td>167445</td>\n",
       "      <td>2351</td>\n",
       "    </tr>\n",
       "    <tr>\n",
       "      <th>12</th>\n",
       "      <td>167466</td>\n",
       "      <td>3995</td>\n",
       "    </tr>\n",
       "    <tr>\n",
       "      <th>13</th>\n",
       "      <td>167543</td>\n",
       "      <td>18</td>\n",
       "    </tr>\n",
       "    <tr>\n",
       "      <th>14</th>\n",
       "      <td>167630</td>\n",
       "      <td>442</td>\n",
       "    </tr>\n",
       "    <tr>\n",
       "      <th>15</th>\n",
       "      <td>167650</td>\n",
       "      <td>10602</td>\n",
       "    </tr>\n",
       "    <tr>\n",
       "      <th>16</th>\n",
       "      <td>167742</td>\n",
       "      <td>91</td>\n",
       "    </tr>\n",
       "    <tr>\n",
       "      <th>17</th>\n",
       "      <td>167799</td>\n",
       "      <td>2056</td>\n",
       "    </tr>\n",
       "    <tr>\n",
       "      <th>18</th>\n",
       "      <td>167829</td>\n",
       "      <td>381</td>\n",
       "    </tr>\n",
       "    <tr>\n",
       "      <th>19</th>\n",
       "      <td>167969</td>\n",
       "      <td>105</td>\n",
       "    </tr>\n",
       "    <tr>\n",
       "      <th>20</th>\n",
       "      <td>167977</td>\n",
       "      <td>2063</td>\n",
       "    </tr>\n",
       "    <tr>\n",
       "      <th>21</th>\n",
       "      <td>168008</td>\n",
       "      <td>12</td>\n",
       "    </tr>\n",
       "    <tr>\n",
       "      <th>22</th>\n",
       "      <td>168180</td>\n",
       "      <td>21</td>\n",
       "    </tr>\n",
       "    <tr>\n",
       "      <th>23</th>\n",
       "      <td>168185</td>\n",
       "      <td>17</td>\n",
       "    </tr>\n",
       "    <tr>\n",
       "      <th>24</th>\n",
       "      <td>168271</td>\n",
       "      <td>2198</td>\n",
       "    </tr>\n",
       "    <tr>\n",
       "      <th>25</th>\n",
       "      <td>168275</td>\n",
       "      <td>251</td>\n",
       "    </tr>\n",
       "  </tbody>\n",
       "</table>\n",
       "</div>"
      ],
      "text/plain": [
       "    user_id  calls_count\n",
       "0    166717          888\n",
       "1    166732          109\n",
       "2    166813           74\n",
       "3    166916         5750\n",
       "4    166946          112\n",
       "5    167016         1820\n",
       "6    167113            2\n",
       "7    167235         1756\n",
       "8    167246          150\n",
       "9    167263           16\n",
       "10   167397            7\n",
       "11   167445         2351\n",
       "12   167466         3995\n",
       "13   167543           18\n",
       "14   167630          442\n",
       "15   167650        10602\n",
       "16   167742           91\n",
       "17   167799         2056\n",
       "18   167829          381\n",
       "19   167969          105\n",
       "20   167977         2063\n",
       "21   168008           12\n",
       "22   168180           21\n",
       "23   168185           17\n",
       "24   168271         2198\n",
       "25   168275          251"
      ]
     },
     "execution_count": 29,
     "metadata": {},
     "output_type": "execute_result"
    }
   ],
   "source": [
    "data[data['user_id'].isin(mixed_list)].groupby(by = 'user_id').sum().reset_index()[['user_id', 'calls_count']]"
   ]
  },
  {
   "cell_type": "markdown",
   "metadata": {},
   "source": [
    "У части таких компаний довольно много звонков.\n",
    "Определим границу деления компаний - по 50% типов звонков."
   ]
  },
  {
   "cell_type": "code",
   "execution_count": 30,
   "metadata": {},
   "outputs": [],
   "source": [
    "in_list = d[(d['in_percent']>50)]['user_id'].unique()\n",
    "out_list = d[(d['in_percent']<50)]['user_id'].unique()"
   ]
  },
  {
   "cell_type": "markdown",
   "id": "549a2e1d",
   "metadata": {},
   "source": [
    "### Определение неэффективных операторов на входящих вызовах"
   ]
  },
  {
   "cell_type": "markdown",
   "id": "4dee111a",
   "metadata": {},
   "source": [
    "Сначала посмотрим, сколько вообще входящих вызовов было у операторов в целом. Будем смотреть и на внешние, и на внутренние, потому что операторы должны хорошо отвечать и на вопросы коллег. Ненужные столбцы столбцы удалим."
   ]
  },
  {
   "cell_type": "code",
   "execution_count": 31,
   "id": "951bfb2d",
   "metadata": {},
   "outputs": [
    {
     "data": {
      "text/html": [
       "<div>\n",
       "<style scoped>\n",
       "    .dataframe tbody tr th:only-of-type {\n",
       "        vertical-align: middle;\n",
       "    }\n",
       "\n",
       "    .dataframe tbody tr th {\n",
       "        vertical-align: top;\n",
       "    }\n",
       "\n",
       "    .dataframe thead th {\n",
       "        text-align: right;\n",
       "    }\n",
       "</style>\n",
       "<table border=\"1\" class=\"dataframe\">\n",
       "  <thead>\n",
       "    <tr style=\"text-align: right;\">\n",
       "      <th></th>\n",
       "      <th>user_id</th>\n",
       "      <th>date</th>\n",
       "      <th>operator_id</th>\n",
       "      <th>is_missed_call</th>\n",
       "      <th>calls_count</th>\n",
       "      <th>call_duration</th>\n",
       "      <th>total_call_duration</th>\n",
       "    </tr>\n",
       "  </thead>\n",
       "  <tbody>\n",
       "    <tr>\n",
       "      <th>482</th>\n",
       "      <td>166391</td>\n",
       "      <td>2019-08-06</td>\n",
       "      <td>882476.0</td>\n",
       "      <td>False</td>\n",
       "      <td>1</td>\n",
       "      <td>175</td>\n",
       "      <td>186</td>\n",
       "    </tr>\n",
       "    <tr>\n",
       "      <th>483</th>\n",
       "      <td>166391</td>\n",
       "      <td>2019-08-07</td>\n",
       "      <td>882478.0</td>\n",
       "      <td>False</td>\n",
       "      <td>2</td>\n",
       "      <td>11</td>\n",
       "      <td>74</td>\n",
       "    </tr>\n",
       "    <tr>\n",
       "      <th>484</th>\n",
       "      <td>166391</td>\n",
       "      <td>2019-08-07</td>\n",
       "      <td>882478.0</td>\n",
       "      <td>False</td>\n",
       "      <td>1</td>\n",
       "      <td>57</td>\n",
       "      <td>70</td>\n",
       "    </tr>\n",
       "    <tr>\n",
       "      <th>486</th>\n",
       "      <td>166391</td>\n",
       "      <td>2019-09-23</td>\n",
       "      <td>882476.0</td>\n",
       "      <td>False</td>\n",
       "      <td>1</td>\n",
       "      <td>4</td>\n",
       "      <td>24</td>\n",
       "    </tr>\n",
       "    <tr>\n",
       "      <th>487</th>\n",
       "      <td>166391</td>\n",
       "      <td>2019-11-22</td>\n",
       "      <td>882476.0</td>\n",
       "      <td>False</td>\n",
       "      <td>1</td>\n",
       "      <td>13</td>\n",
       "      <td>77</td>\n",
       "    </tr>\n",
       "    <tr>\n",
       "      <th>...</th>\n",
       "      <td>...</td>\n",
       "      <td>...</td>\n",
       "      <td>...</td>\n",
       "      <td>...</td>\n",
       "      <td>...</td>\n",
       "      <td>...</td>\n",
       "      <td>...</td>\n",
       "    </tr>\n",
       "    <tr>\n",
       "      <th>41417</th>\n",
       "      <td>168598</td>\n",
       "      <td>2019-11-20</td>\n",
       "      <td>958394.0</td>\n",
       "      <td>False</td>\n",
       "      <td>1</td>\n",
       "      <td>16</td>\n",
       "      <td>21</td>\n",
       "    </tr>\n",
       "    <tr>\n",
       "      <th>41418</th>\n",
       "      <td>168598</td>\n",
       "      <td>2019-11-21</td>\n",
       "      <td>958394.0</td>\n",
       "      <td>False</td>\n",
       "      <td>1</td>\n",
       "      <td>15</td>\n",
       "      <td>22</td>\n",
       "    </tr>\n",
       "    <tr>\n",
       "      <th>41419</th>\n",
       "      <td>168598</td>\n",
       "      <td>2019-11-25</td>\n",
       "      <td>958394.0</td>\n",
       "      <td>False</td>\n",
       "      <td>4</td>\n",
       "      <td>2108</td>\n",
       "      <td>2134</td>\n",
       "    </tr>\n",
       "    <tr>\n",
       "      <th>41420</th>\n",
       "      <td>168598</td>\n",
       "      <td>2019-11-27</td>\n",
       "      <td>958394.0</td>\n",
       "      <td>False</td>\n",
       "      <td>2</td>\n",
       "      <td>89</td>\n",
       "      <td>100</td>\n",
       "    </tr>\n",
       "    <tr>\n",
       "      <th>41421</th>\n",
       "      <td>168598</td>\n",
       "      <td>2019-11-28</td>\n",
       "      <td>958394.0</td>\n",
       "      <td>False</td>\n",
       "      <td>7</td>\n",
       "      <td>1316</td>\n",
       "      <td>1359</td>\n",
       "    </tr>\n",
       "  </tbody>\n",
       "</table>\n",
       "<p>4433 rows × 7 columns</p>\n",
       "</div>"
      ],
      "text/plain": [
       "       user_id        date  operator_id  is_missed_call  calls_count  \\\n",
       "482     166391  2019-08-06     882476.0           False            1   \n",
       "483     166391  2019-08-07     882478.0           False            2   \n",
       "484     166391  2019-08-07     882478.0           False            1   \n",
       "486     166391  2019-09-23     882476.0           False            1   \n",
       "487     166391  2019-11-22     882476.0           False            1   \n",
       "...        ...         ...          ...             ...          ...   \n",
       "41417   168598  2019-11-20     958394.0           False            1   \n",
       "41418   168598  2019-11-21     958394.0           False            1   \n",
       "41419   168598  2019-11-25     958394.0           False            4   \n",
       "41420   168598  2019-11-27     958394.0           False            2   \n",
       "41421   168598  2019-11-28     958394.0           False            7   \n",
       "\n",
       "       call_duration  total_call_duration  \n",
       "482              175                  186  \n",
       "483               11                   74  \n",
       "484               57                   70  \n",
       "486                4                   24  \n",
       "487               13                   77  \n",
       "...              ...                  ...  \n",
       "41417             16                   21  \n",
       "41418             15                   22  \n",
       "41419           2108                 2134  \n",
       "41420             89                  100  \n",
       "41421           1316                 1359  \n",
       "\n",
       "[4433 rows x 7 columns]"
      ]
     },
     "execution_count": 31,
     "metadata": {},
     "output_type": "execute_result"
    }
   ],
   "source": [
    "incoming = data[(data['direction']=='in') & (data['user_id'].isin(in_list))][['user_id', 'date', 'operator_id', 'is_missed_call', 'calls_count', 'call_duration', 'total_call_duration']]\n",
    "incoming"
   ]
  },
  {
   "cell_type": "code",
   "execution_count": 32,
   "id": "2fc2fc14",
   "metadata": {},
   "outputs": [
    {
     "data": {
      "text/html": [
       "<div>\n",
       "<style scoped>\n",
       "    .dataframe tbody tr th:only-of-type {\n",
       "        vertical-align: middle;\n",
       "    }\n",
       "\n",
       "    .dataframe tbody tr th {\n",
       "        vertical-align: top;\n",
       "    }\n",
       "\n",
       "    .dataframe thead th {\n",
       "        text-align: right;\n",
       "    }\n",
       "</style>\n",
       "<table border=\"1\" class=\"dataframe\">\n",
       "  <thead>\n",
       "    <tr style=\"text-align: right;\">\n",
       "      <th></th>\n",
       "      <th>operator_id</th>\n",
       "      <th>calls_count</th>\n",
       "    </tr>\n",
       "  </thead>\n",
       "  <tbody>\n",
       "    <tr>\n",
       "      <th>66</th>\n",
       "      <td>904344.0</td>\n",
       "      <td>1</td>\n",
       "    </tr>\n",
       "    <tr>\n",
       "      <th>126</th>\n",
       "      <td>913886.0</td>\n",
       "      <td>1</td>\n",
       "    </tr>\n",
       "    <tr>\n",
       "      <th>220</th>\n",
       "      <td>945710.0</td>\n",
       "      <td>1</td>\n",
       "    </tr>\n",
       "    <tr>\n",
       "      <th>221</th>\n",
       "      <td>946468.0</td>\n",
       "      <td>1</td>\n",
       "    </tr>\n",
       "    <tr>\n",
       "      <th>115</th>\n",
       "      <td>911104.0</td>\n",
       "      <td>1</td>\n",
       "    </tr>\n",
       "    <tr>\n",
       "      <th>...</th>\n",
       "      <td>...</td>\n",
       "      <td>...</td>\n",
       "    </tr>\n",
       "    <tr>\n",
       "      <th>134</th>\n",
       "      <td>919554.0</td>\n",
       "      <td>1170</td>\n",
       "    </tr>\n",
       "    <tr>\n",
       "      <th>135</th>\n",
       "      <td>919790.0</td>\n",
       "      <td>1576</td>\n",
       "    </tr>\n",
       "    <tr>\n",
       "      <th>128</th>\n",
       "      <td>913942.0</td>\n",
       "      <td>2426</td>\n",
       "    </tr>\n",
       "    <tr>\n",
       "      <th>244</th>\n",
       "      <td>952948.0</td>\n",
       "      <td>3540</td>\n",
       "    </tr>\n",
       "    <tr>\n",
       "      <th>127</th>\n",
       "      <td>913938.0</td>\n",
       "      <td>4765</td>\n",
       "    </tr>\n",
       "  </tbody>\n",
       "</table>\n",
       "<p>276 rows × 2 columns</p>\n",
       "</div>"
      ],
      "text/plain": [
       "     operator_id  calls_count\n",
       "66      904344.0            1\n",
       "126     913886.0            1\n",
       "220     945710.0            1\n",
       "221     946468.0            1\n",
       "115     911104.0            1\n",
       "..           ...          ...\n",
       "134     919554.0         1170\n",
       "135     919790.0         1576\n",
       "128     913942.0         2426\n",
       "244     952948.0         3540\n",
       "127     913938.0         4765\n",
       "\n",
       "[276 rows x 2 columns]"
      ]
     },
     "execution_count": 32,
     "metadata": {},
     "output_type": "execute_result"
    }
   ],
   "source": [
    "# Суммарное число звонков на оператора\n",
    "sum_inc = incoming.groupby(by=['operator_id']).sum().reset_index()[['operator_id', 'calls_count']].sort_values(by='calls_count')\n",
    "sum_inc"
   ]
  },
  {
   "cell_type": "markdown",
   "id": "c8cc09f2",
   "metadata": {},
   "source": [
    "У некоторых операторов довольно мало звонков - они могут только начинать работать или же их основная работа на исходящих звонках. \n",
    "Интересно посмотреть на то, есть ли зависимость между кол-вом звонков и метрикой эффективности, например, числом пропущенных вызовов."
   ]
  },
  {
   "cell_type": "markdown",
   "id": "6ba12ad2",
   "metadata": {},
   "source": [
    "#### Определяем неэффективных по числу пропущенных вызовов"
   ]
  },
  {
   "cell_type": "code",
   "execution_count": 33,
   "id": "8ab45ddb",
   "metadata": {},
   "outputs": [
    {
     "data": {
      "text/html": [
       "<div>\n",
       "<style scoped>\n",
       "    .dataframe tbody tr th:only-of-type {\n",
       "        vertical-align: middle;\n",
       "    }\n",
       "\n",
       "    .dataframe tbody tr th {\n",
       "        vertical-align: top;\n",
       "    }\n",
       "\n",
       "    .dataframe thead th {\n",
       "        text-align: right;\n",
       "    }\n",
       "</style>\n",
       "<table border=\"1\" class=\"dataframe\">\n",
       "  <thead>\n",
       "    <tr style=\"text-align: right;\">\n",
       "      <th></th>\n",
       "      <th>operator_id</th>\n",
       "      <th>is_missed_call</th>\n",
       "      <th>calls_count</th>\n",
       "    </tr>\n",
       "  </thead>\n",
       "  <tbody>\n",
       "    <tr>\n",
       "      <th>482</th>\n",
       "      <td>882476.0</td>\n",
       "      <td>False</td>\n",
       "      <td>1</td>\n",
       "    </tr>\n",
       "    <tr>\n",
       "      <th>483</th>\n",
       "      <td>882478.0</td>\n",
       "      <td>False</td>\n",
       "      <td>2</td>\n",
       "    </tr>\n",
       "    <tr>\n",
       "      <th>484</th>\n",
       "      <td>882478.0</td>\n",
       "      <td>False</td>\n",
       "      <td>1</td>\n",
       "    </tr>\n",
       "    <tr>\n",
       "      <th>486</th>\n",
       "      <td>882476.0</td>\n",
       "      <td>False</td>\n",
       "      <td>1</td>\n",
       "    </tr>\n",
       "    <tr>\n",
       "      <th>487</th>\n",
       "      <td>882476.0</td>\n",
       "      <td>False</td>\n",
       "      <td>1</td>\n",
       "    </tr>\n",
       "    <tr>\n",
       "      <th>...</th>\n",
       "      <td>...</td>\n",
       "      <td>...</td>\n",
       "      <td>...</td>\n",
       "    </tr>\n",
       "    <tr>\n",
       "      <th>41417</th>\n",
       "      <td>958394.0</td>\n",
       "      <td>False</td>\n",
       "      <td>1</td>\n",
       "    </tr>\n",
       "    <tr>\n",
       "      <th>41418</th>\n",
       "      <td>958394.0</td>\n",
       "      <td>False</td>\n",
       "      <td>1</td>\n",
       "    </tr>\n",
       "    <tr>\n",
       "      <th>41419</th>\n",
       "      <td>958394.0</td>\n",
       "      <td>False</td>\n",
       "      <td>4</td>\n",
       "    </tr>\n",
       "    <tr>\n",
       "      <th>41420</th>\n",
       "      <td>958394.0</td>\n",
       "      <td>False</td>\n",
       "      <td>2</td>\n",
       "    </tr>\n",
       "    <tr>\n",
       "      <th>41421</th>\n",
       "      <td>958394.0</td>\n",
       "      <td>False</td>\n",
       "      <td>7</td>\n",
       "    </tr>\n",
       "  </tbody>\n",
       "</table>\n",
       "<p>4433 rows × 3 columns</p>\n",
       "</div>"
      ],
      "text/plain": [
       "       operator_id  is_missed_call  calls_count\n",
       "482       882476.0           False            1\n",
       "483       882478.0           False            2\n",
       "484       882478.0           False            1\n",
       "486       882476.0           False            1\n",
       "487       882476.0           False            1\n",
       "...            ...             ...          ...\n",
       "41417     958394.0           False            1\n",
       "41418     958394.0           False            1\n",
       "41419     958394.0           False            4\n",
       "41420     958394.0           False            2\n",
       "41421     958394.0           False            7\n",
       "\n",
       "[4433 rows x 3 columns]"
      ]
     },
     "execution_count": 33,
     "metadata": {},
     "output_type": "execute_result"
    }
   ],
   "source": [
    "incoming_amount = incoming[['operator_id', 'is_missed_call', 'calls_count']]\n",
    "incoming_amount"
   ]
  },
  {
   "cell_type": "markdown",
   "id": "af137724",
   "metadata": {},
   "source": [
    "Посчитаем процент непринятых звонков"
   ]
  },
  {
   "cell_type": "code",
   "execution_count": 34,
   "id": "b74aca3c",
   "metadata": {},
   "outputs": [
    {
     "data": {
      "text/html": [
       "<div>\n",
       "<style scoped>\n",
       "    .dataframe tbody tr th:only-of-type {\n",
       "        vertical-align: middle;\n",
       "    }\n",
       "\n",
       "    .dataframe tbody tr th {\n",
       "        vertical-align: top;\n",
       "    }\n",
       "\n",
       "    .dataframe thead th {\n",
       "        text-align: right;\n",
       "    }\n",
       "</style>\n",
       "<table border=\"1\" class=\"dataframe\">\n",
       "  <thead>\n",
       "    <tr style=\"text-align: right;\">\n",
       "      <th></th>\n",
       "      <th>operator_id</th>\n",
       "      <th>not_missed</th>\n",
       "      <th>missed</th>\n",
       "      <th>sum</th>\n",
       "      <th>missed_percent</th>\n",
       "    </tr>\n",
       "  </thead>\n",
       "  <tbody>\n",
       "    <tr>\n",
       "      <th>0</th>\n",
       "      <td>882476.0</td>\n",
       "      <td>3.0</td>\n",
       "      <td>0.0</td>\n",
       "      <td>3.0</td>\n",
       "      <td>0.000000</td>\n",
       "    </tr>\n",
       "    <tr>\n",
       "      <th>1</th>\n",
       "      <td>882478.0</td>\n",
       "      <td>3.0</td>\n",
       "      <td>0.0</td>\n",
       "      <td>3.0</td>\n",
       "      <td>0.000000</td>\n",
       "    </tr>\n",
       "    <tr>\n",
       "      <th>2</th>\n",
       "      <td>882680.0</td>\n",
       "      <td>96.0</td>\n",
       "      <td>3.0</td>\n",
       "      <td>99.0</td>\n",
       "      <td>3.030303</td>\n",
       "    </tr>\n",
       "    <tr>\n",
       "      <th>3</th>\n",
       "      <td>884294.0</td>\n",
       "      <td>1.0</td>\n",
       "      <td>0.0</td>\n",
       "      <td>1.0</td>\n",
       "      <td>0.000000</td>\n",
       "    </tr>\n",
       "    <tr>\n",
       "      <th>4</th>\n",
       "      <td>886674.0</td>\n",
       "      <td>11.0</td>\n",
       "      <td>0.0</td>\n",
       "      <td>11.0</td>\n",
       "      <td>0.000000</td>\n",
       "    </tr>\n",
       "    <tr>\n",
       "      <th>...</th>\n",
       "      <td>...</td>\n",
       "      <td>...</td>\n",
       "      <td>...</td>\n",
       "      <td>...</td>\n",
       "      <td>...</td>\n",
       "    </tr>\n",
       "    <tr>\n",
       "      <th>271</th>\n",
       "      <td>969294.0</td>\n",
       "      <td>84.0</td>\n",
       "      <td>0.0</td>\n",
       "      <td>84.0</td>\n",
       "      <td>0.000000</td>\n",
       "    </tr>\n",
       "    <tr>\n",
       "      <th>272</th>\n",
       "      <td>971100.0</td>\n",
       "      <td>3.0</td>\n",
       "      <td>0.0</td>\n",
       "      <td>3.0</td>\n",
       "      <td>0.000000</td>\n",
       "    </tr>\n",
       "    <tr>\n",
       "      <th>273</th>\n",
       "      <td>971102.0</td>\n",
       "      <td>76.0</td>\n",
       "      <td>0.0</td>\n",
       "      <td>76.0</td>\n",
       "      <td>0.000000</td>\n",
       "    </tr>\n",
       "    <tr>\n",
       "      <th>274</th>\n",
       "      <td>971354.0</td>\n",
       "      <td>6.0</td>\n",
       "      <td>0.0</td>\n",
       "      <td>6.0</td>\n",
       "      <td>0.000000</td>\n",
       "    </tr>\n",
       "    <tr>\n",
       "      <th>275</th>\n",
       "      <td>973286.0</td>\n",
       "      <td>2.0</td>\n",
       "      <td>0.0</td>\n",
       "      <td>2.0</td>\n",
       "      <td>0.000000</td>\n",
       "    </tr>\n",
       "  </tbody>\n",
       "</table>\n",
       "<p>276 rows × 5 columns</p>\n",
       "</div>"
      ],
      "text/plain": [
       "     operator_id  not_missed  missed   sum  missed_percent\n",
       "0       882476.0         3.0     0.0   3.0        0.000000\n",
       "1       882478.0         3.0     0.0   3.0        0.000000\n",
       "2       882680.0        96.0     3.0  99.0        3.030303\n",
       "3       884294.0         1.0     0.0   1.0        0.000000\n",
       "4       886674.0        11.0     0.0  11.0        0.000000\n",
       "..           ...         ...     ...   ...             ...\n",
       "271     969294.0        84.0     0.0  84.0        0.000000\n",
       "272     971100.0         3.0     0.0   3.0        0.000000\n",
       "273     971102.0        76.0     0.0  76.0        0.000000\n",
       "274     971354.0         6.0     0.0   6.0        0.000000\n",
       "275     973286.0         2.0     0.0   2.0        0.000000\n",
       "\n",
       "[276 rows x 5 columns]"
      ]
     },
     "execution_count": 34,
     "metadata": {},
     "output_type": "execute_result"
    }
   ],
   "source": [
    "# Делаем сводную таблицу по суммарному числу пропущенных и принятых вызовов на человека\n",
    "part_miss = pd.pivot_table(incoming_amount,\n",
    "               index='operator_id',\n",
    "               columns='is_missed_call',\n",
    "               values='calls_count',\n",
    "               aggfunc='sum').rename_axis(None, axis=1).reset_index().fillna(0).rename(columns = {0: 'not_missed', 1: 'missed'})\n",
    "part_miss['sum'] = part_miss['not_missed']+part_miss['missed']\n",
    "part_miss['missed_percent'] = part_miss['missed']/part_miss['sum']*100\n",
    "part_miss"
   ]
  },
  {
   "cell_type": "code",
   "execution_count": 35,
   "id": "878ef17c",
   "metadata": {},
   "outputs": [
    {
     "data": {
      "text/plain": [
       "count    276.000000\n",
       "mean       0.980709\n",
       "std        3.640836\n",
       "min        0.000000\n",
       "25%        0.000000\n",
       "50%        0.000000\n",
       "75%        0.000000\n",
       "max       33.333333\n",
       "Name: missed_percent, dtype: float64"
      ]
     },
     "execution_count": 35,
     "metadata": {},
     "output_type": "execute_result"
    }
   ],
   "source": [
    "part_miss['missed_percent'].describe()"
   ]
  },
  {
   "cell_type": "code",
   "execution_count": 36,
   "metadata": {},
   "outputs": [
    {
     "data": {
      "image/png": "[encoded data removed]",
      "text/plain": [
       "<Figure size 360x360 with 1 Axes>"
      ]
     },
     "metadata": {
      "needs_background": "light"
     },
     "output_type": "display_data"
    }
   ],
   "source": [
    "d_graph = sns.displot(x='missed_percent', data=part_miss[part_miss['missed_percent']>0])\n",
    "d_graph.set(xlabel='Процент пропущенных звонков, %', ylabel='Кол-во операторов')\n",
    "d_graph.fig.suptitle('Распределение операторов по проценту пропущенных звонков')\n",
    "plt.show()"
   ]
  },
  {
   "cell_type": "markdown",
   "id": "dd879cc4",
   "metadata": {},
   "source": [
    "Большая часть операторов отвечает на все или практически на все звонки, которые им приходят. Поставим границу в 7% непринятых звонков - будем считать, что в эти 7% будут входить технические проблемы и случаи, когда человек позвонил и сразу же сбросил трубку."
   ]
  },
  {
   "cell_type": "code",
   "execution_count": 37,
   "id": "e9a95ea7",
   "metadata": {},
   "outputs": [
    {
     "data": {
      "text/plain": [
       "array([888406., 896538., 905300., 905862., 911102., 911142., 918888.,\n",
       "       926872., 930242., 934076., 934098., 944216., 944222., 944226.])"
      ]
     },
     "execution_count": 37,
     "metadata": {},
     "output_type": "execute_result"
    }
   ],
   "source": [
    "bad_list = part_miss[part_miss['missed_percent']>=7]['operator_id'].unique()\n",
    "bad_list"
   ]
  },
  {
   "cell_type": "markdown",
   "id": "c4dfe6b3",
   "metadata": {},
   "source": [
    "#### Определяем неэффективных по времени ответа"
   ]
  },
  {
   "cell_type": "markdown",
   "id": "65ce51ac",
   "metadata": {},
   "source": [
    "Время ожидания можно понимать двумя способами:\n",
    "1. Время от начала звонка клиента до ответа оператора, которое включает в себя то время, когда все операторы были заняты и не могли ответить физически.\n",
    "2. Время от назначения звонка на конкретного оператора, когда он уже освободился, до ответа.\n",
    "\n",
    "В первом случае возможна ситуация, когда звонков сильно больше, чем операторов, которые могут ответить на них и тогда измерять эффективность сотрудников по времени ожидания бесполезно - клиент просто будет долго ждать ответа и не получит его, а вины сотрудника в этом нет.\n",
    "Во втором же случае можно анализировать.\n",
    "\n",
    "Скорее всего, мы имеем дело со вторым случаем, потому что если звонок только поступил и нет свободных операторов, он вряд ли будет назначаться на какого-то конкретного человека, пока кто-то не освободится. \n",
    "Про звонки без операторов был разбор выше, их тут нет."
   ]
  },
  {
   "cell_type": "code",
   "execution_count": 38,
   "id": "6780dea4",
   "metadata": {},
   "outputs": [
    {
     "data": {
      "text/html": [
       "<div>\n",
       "<style scoped>\n",
       "    .dataframe tbody tr th:only-of-type {\n",
       "        vertical-align: middle;\n",
       "    }\n",
       "\n",
       "    .dataframe tbody tr th {\n",
       "        vertical-align: top;\n",
       "    }\n",
       "\n",
       "    .dataframe thead th {\n",
       "        text-align: right;\n",
       "    }\n",
       "</style>\n",
       "<table border=\"1\" class=\"dataframe\">\n",
       "  <thead>\n",
       "    <tr style=\"text-align: right;\">\n",
       "      <th></th>\n",
       "      <th>user_id</th>\n",
       "      <th>date</th>\n",
       "      <th>operator_id</th>\n",
       "      <th>is_missed_call</th>\n",
       "      <th>calls_count</th>\n",
       "      <th>call_duration</th>\n",
       "      <th>total_call_duration</th>\n",
       "      <th>waiting_time</th>\n",
       "    </tr>\n",
       "  </thead>\n",
       "  <tbody>\n",
       "    <tr>\n",
       "      <th>482</th>\n",
       "      <td>166391</td>\n",
       "      <td>2019-08-06</td>\n",
       "      <td>882476.0</td>\n",
       "      <td>False</td>\n",
       "      <td>1</td>\n",
       "      <td>175</td>\n",
       "      <td>186</td>\n",
       "      <td>11</td>\n",
       "    </tr>\n",
       "    <tr>\n",
       "      <th>483</th>\n",
       "      <td>166391</td>\n",
       "      <td>2019-08-07</td>\n",
       "      <td>882478.0</td>\n",
       "      <td>False</td>\n",
       "      <td>2</td>\n",
       "      <td>11</td>\n",
       "      <td>74</td>\n",
       "      <td>63</td>\n",
       "    </tr>\n",
       "    <tr>\n",
       "      <th>484</th>\n",
       "      <td>166391</td>\n",
       "      <td>2019-08-07</td>\n",
       "      <td>882478.0</td>\n",
       "      <td>False</td>\n",
       "      <td>1</td>\n",
       "      <td>57</td>\n",
       "      <td>70</td>\n",
       "      <td>13</td>\n",
       "    </tr>\n",
       "    <tr>\n",
       "      <th>486</th>\n",
       "      <td>166391</td>\n",
       "      <td>2019-09-23</td>\n",
       "      <td>882476.0</td>\n",
       "      <td>False</td>\n",
       "      <td>1</td>\n",
       "      <td>4</td>\n",
       "      <td>24</td>\n",
       "      <td>20</td>\n",
       "    </tr>\n",
       "    <tr>\n",
       "      <th>487</th>\n",
       "      <td>166391</td>\n",
       "      <td>2019-11-22</td>\n",
       "      <td>882476.0</td>\n",
       "      <td>False</td>\n",
       "      <td>1</td>\n",
       "      <td>13</td>\n",
       "      <td>77</td>\n",
       "      <td>64</td>\n",
       "    </tr>\n",
       "    <tr>\n",
       "      <th>...</th>\n",
       "      <td>...</td>\n",
       "      <td>...</td>\n",
       "      <td>...</td>\n",
       "      <td>...</td>\n",
       "      <td>...</td>\n",
       "      <td>...</td>\n",
       "      <td>...</td>\n",
       "      <td>...</td>\n",
       "    </tr>\n",
       "    <tr>\n",
       "      <th>41417</th>\n",
       "      <td>168598</td>\n",
       "      <td>2019-11-20</td>\n",
       "      <td>958394.0</td>\n",
       "      <td>False</td>\n",
       "      <td>1</td>\n",
       "      <td>16</td>\n",
       "      <td>21</td>\n",
       "      <td>5</td>\n",
       "    </tr>\n",
       "    <tr>\n",
       "      <th>41418</th>\n",
       "      <td>168598</td>\n",
       "      <td>2019-11-21</td>\n",
       "      <td>958394.0</td>\n",
       "      <td>False</td>\n",
       "      <td>1</td>\n",
       "      <td>15</td>\n",
       "      <td>22</td>\n",
       "      <td>7</td>\n",
       "    </tr>\n",
       "    <tr>\n",
       "      <th>41419</th>\n",
       "      <td>168598</td>\n",
       "      <td>2019-11-25</td>\n",
       "      <td>958394.0</td>\n",
       "      <td>False</td>\n",
       "      <td>4</td>\n",
       "      <td>2108</td>\n",
       "      <td>2134</td>\n",
       "      <td>26</td>\n",
       "    </tr>\n",
       "    <tr>\n",
       "      <th>41420</th>\n",
       "      <td>168598</td>\n",
       "      <td>2019-11-27</td>\n",
       "      <td>958394.0</td>\n",
       "      <td>False</td>\n",
       "      <td>2</td>\n",
       "      <td>89</td>\n",
       "      <td>100</td>\n",
       "      <td>11</td>\n",
       "    </tr>\n",
       "    <tr>\n",
       "      <th>41421</th>\n",
       "      <td>168598</td>\n",
       "      <td>2019-11-28</td>\n",
       "      <td>958394.0</td>\n",
       "      <td>False</td>\n",
       "      <td>7</td>\n",
       "      <td>1316</td>\n",
       "      <td>1359</td>\n",
       "      <td>43</td>\n",
       "    </tr>\n",
       "  </tbody>\n",
       "</table>\n",
       "<p>4433 rows × 8 columns</p>\n",
       "</div>"
      ],
      "text/plain": [
       "       user_id        date  operator_id  is_missed_call  calls_count  \\\n",
       "482     166391  2019-08-06     882476.0           False            1   \n",
       "483     166391  2019-08-07     882478.0           False            2   \n",
       "484     166391  2019-08-07     882478.0           False            1   \n",
       "486     166391  2019-09-23     882476.0           False            1   \n",
       "487     166391  2019-11-22     882476.0           False            1   \n",
       "...        ...         ...          ...             ...          ...   \n",
       "41417   168598  2019-11-20     958394.0           False            1   \n",
       "41418   168598  2019-11-21     958394.0           False            1   \n",
       "41419   168598  2019-11-25     958394.0           False            4   \n",
       "41420   168598  2019-11-27     958394.0           False            2   \n",
       "41421   168598  2019-11-28     958394.0           False            7   \n",
       "\n",
       "       call_duration  total_call_duration  waiting_time  \n",
       "482              175                  186            11  \n",
       "483               11                   74            63  \n",
       "484               57                   70            13  \n",
       "486                4                   24            20  \n",
       "487               13                   77            64  \n",
       "...              ...                  ...           ...  \n",
       "41417             16                   21             5  \n",
       "41418             15                   22             7  \n",
       "41419           2108                 2134            26  \n",
       "41420             89                  100            11  \n",
       "41421           1316                 1359            43  \n",
       "\n",
       "[4433 rows x 8 columns]"
      ]
     },
     "execution_count": 38,
     "metadata": {},
     "output_type": "execute_result"
    }
   ],
   "source": [
    "# Вводим время ожидания\n",
    "incoming['waiting_time'] = incoming['total_call_duration'] - incoming['call_duration']\n",
    "incoming"
   ]
  },
  {
   "cell_type": "markdown",
   "id": "bedc7a75",
   "metadata": {},
   "source": [
    "В этом датафрейме операторы, у которых есть 10 и более вызовов. Посчитаем среднее время ожидания на 1 вызов."
   ]
  },
  {
   "cell_type": "code",
   "execution_count": 39,
   "id": "35a71d47",
   "metadata": {},
   "outputs": [
    {
     "data": {
      "text/html": [
       "<div>\n",
       "<style scoped>\n",
       "    .dataframe tbody tr th:only-of-type {\n",
       "        vertical-align: middle;\n",
       "    }\n",
       "\n",
       "    .dataframe tbody tr th {\n",
       "        vertical-align: top;\n",
       "    }\n",
       "\n",
       "    .dataframe thead th {\n",
       "        text-align: right;\n",
       "    }\n",
       "</style>\n",
       "<table border=\"1\" class=\"dataframe\">\n",
       "  <thead>\n",
       "    <tr style=\"text-align: right;\">\n",
       "      <th></th>\n",
       "      <th>operator_id</th>\n",
       "      <th>calls_count</th>\n",
       "      <th>waiting_time</th>\n",
       "      <th>mean_waiting_time</th>\n",
       "    </tr>\n",
       "  </thead>\n",
       "  <tbody>\n",
       "    <tr>\n",
       "      <th>0</th>\n",
       "      <td>882476.0</td>\n",
       "      <td>3</td>\n",
       "      <td>95</td>\n",
       "      <td>31.666667</td>\n",
       "    </tr>\n",
       "    <tr>\n",
       "      <th>1</th>\n",
       "      <td>882478.0</td>\n",
       "      <td>3</td>\n",
       "      <td>76</td>\n",
       "      <td>25.333333</td>\n",
       "    </tr>\n",
       "    <tr>\n",
       "      <th>2</th>\n",
       "      <td>882680.0</td>\n",
       "      <td>99</td>\n",
       "      <td>1591</td>\n",
       "      <td>16.070707</td>\n",
       "    </tr>\n",
       "    <tr>\n",
       "      <th>3</th>\n",
       "      <td>884294.0</td>\n",
       "      <td>1</td>\n",
       "      <td>6</td>\n",
       "      <td>6.000000</td>\n",
       "    </tr>\n",
       "    <tr>\n",
       "      <th>4</th>\n",
       "      <td>886674.0</td>\n",
       "      <td>11</td>\n",
       "      <td>168</td>\n",
       "      <td>15.272727</td>\n",
       "    </tr>\n",
       "    <tr>\n",
       "      <th>...</th>\n",
       "      <td>...</td>\n",
       "      <td>...</td>\n",
       "      <td>...</td>\n",
       "      <td>...</td>\n",
       "    </tr>\n",
       "    <tr>\n",
       "      <th>271</th>\n",
       "      <td>969294.0</td>\n",
       "      <td>84</td>\n",
       "      <td>710</td>\n",
       "      <td>8.452381</td>\n",
       "    </tr>\n",
       "    <tr>\n",
       "      <th>272</th>\n",
       "      <td>971100.0</td>\n",
       "      <td>3</td>\n",
       "      <td>26</td>\n",
       "      <td>8.666667</td>\n",
       "    </tr>\n",
       "    <tr>\n",
       "      <th>273</th>\n",
       "      <td>971102.0</td>\n",
       "      <td>76</td>\n",
       "      <td>1352</td>\n",
       "      <td>17.789474</td>\n",
       "    </tr>\n",
       "    <tr>\n",
       "      <th>274</th>\n",
       "      <td>971354.0</td>\n",
       "      <td>6</td>\n",
       "      <td>84</td>\n",
       "      <td>14.000000</td>\n",
       "    </tr>\n",
       "    <tr>\n",
       "      <th>275</th>\n",
       "      <td>973286.0</td>\n",
       "      <td>2</td>\n",
       "      <td>88</td>\n",
       "      <td>44.000000</td>\n",
       "    </tr>\n",
       "  </tbody>\n",
       "</table>\n",
       "<p>276 rows × 4 columns</p>\n",
       "</div>"
      ],
      "text/plain": [
       "     operator_id  calls_count  waiting_time  mean_waiting_time\n",
       "0       882476.0            3            95          31.666667\n",
       "1       882478.0            3            76          25.333333\n",
       "2       882680.0           99          1591          16.070707\n",
       "3       884294.0            1             6           6.000000\n",
       "4       886674.0           11           168          15.272727\n",
       "..           ...          ...           ...                ...\n",
       "271     969294.0           84           710           8.452381\n",
       "272     971100.0            3            26           8.666667\n",
       "273     971102.0           76          1352          17.789474\n",
       "274     971354.0            6            84          14.000000\n",
       "275     973286.0            2            88          44.000000\n",
       "\n",
       "[276 rows x 4 columns]"
      ]
     },
     "execution_count": 39,
     "metadata": {},
     "output_type": "execute_result"
    }
   ],
   "source": [
    "part_long = incoming.groupby(by='operator_id').sum().reset_index()[['operator_id', 'calls_count', 'waiting_time']]\n",
    "part_long['mean_waiting_time'] = part_long['waiting_time']/part_long['calls_count']\n",
    "part_long"
   ]
  },
  {
   "cell_type": "code",
   "execution_count": 40,
   "id": "5a084402",
   "metadata": {},
   "outputs": [
    {
     "data": {
      "text/plain": [
       "count    276.000000\n",
       "mean      18.899320\n",
       "std       10.807540\n",
       "min        0.791667\n",
       "25%       11.980627\n",
       "50%       16.650000\n",
       "75%       25.083333\n",
       "max       58.000000\n",
       "Name: mean_waiting_time, dtype: float64"
      ]
     },
     "execution_count": 40,
     "metadata": {},
     "output_type": "execute_result"
    }
   ],
   "source": [
    "part_long['mean_waiting_time'].describe()"
   ]
  },
  {
   "cell_type": "code",
   "execution_count": 41,
   "id": "f81f4431",
   "metadata": {},
   "outputs": [
    {
     "data": {
      "image/png": "[encoded data removed]",
      "text/plain": [
       "<Figure size 360x360 with 1 Axes>"
      ]
     },
     "metadata": {
      "needs_background": "light"
     },
     "output_type": "display_data"
    }
   ],
   "source": [
    "d_graph = sns.displot(x='mean_waiting_time', data=part_long)\n",
    "d_graph.set(xlabel='Среднее время ожидания ответа, сек', ylabel='Кол-во операторов')\n",
    "d_graph.fig.suptitle('Распределение операторов по времени ответа на звонки')\n",
    "plt.show()"
   ]
  },
  {
   "cell_type": "markdown",
   "id": "6e8228fa",
   "metadata": {},
   "source": [
    "Фактически клиенты уже ждут какое-то время до назначения на оператора (при правильном планировании численности операторов, это не должно быть большое время), и этого времени нет данных. Потом ждут ответа оператора и время на работу системы (дадим на него 5 сек). Обычно колл-центры стремятся отвечать за 20-30 секунд, так что отведем на время ответа оператора и работу системы 25 сек.\n",
    "\n",
    "График распределения времени ожидания показывает, что большинство операторов уже подходят под эти нормы."
   ]
  },
  {
   "cell_type": "code",
   "execution_count": 42,
   "id": "36f4f556",
   "metadata": {},
   "outputs": [
    {
     "data": {
      "text/plain": [
       "array([882476., 882478., 886892., 888406., 891900., 891906., 891918.,\n",
       "       896018., 896538., 898558., 898560., 899892., 899898., 899900.,\n",
       "       900792., 901350., 901498., 902910., 903512., 905478., 906070.,\n",
       "       906076., 906394., 906396., 906400., 906402., 906404., 906406.,\n",
       "       906408., 906410., 908834., 908958., 909768., 910958., 911102.,\n",
       "       911140., 911142., 912684., 919552., 919554., 919790., 919792.,\n",
       "       919794., 920874., 920982., 922356., 927070., 929340., 933832.,\n",
       "       933996., 934076., 934098., 934424., 934430., 934432., 944210.,\n",
       "       944216., 944218., 944220., 944222., 944226., 944228., 944246.,\n",
       "       944474., 946468., 951118., 951332., 952292., 952678., 955164.,\n",
       "       969288., 973286.])"
      ]
     },
     "execution_count": 42,
     "metadata": {},
     "output_type": "execute_result"
    }
   ],
   "source": [
    "# Определим тех, у кого 25 сек среднее время ожидания и более, как неэффективных и внесем в список\n",
    "bad_list1 = part_long[part_long['mean_waiting_time']>=25]['operator_id'].unique()\n",
    "bad_list1"
   ]
  },
  {
   "cell_type": "markdown",
   "id": "18a32962",
   "metadata": {},
   "source": [
    "### Определяем неэффективных по соотношению принятых и переадресованных звонков"
   ]
  },
  {
   "cell_type": "markdown",
   "id": "85039ae9",
   "metadata": {},
   "source": [
    "Если сотрудник переадресует значительную чатсь звонков, либо по знаичтельной части звонков обращается за помозью к коллегам, его можно считать неэффективным. Проверим таких сотрудников."
   ]
  },
  {
   "cell_type": "code",
   "execution_count": 43,
   "id": "1e1f82f0",
   "metadata": {},
   "outputs": [
    {
     "data": {
      "text/html": [
       "<div>\n",
       "<style scoped>\n",
       "    .dataframe tbody tr th:only-of-type {\n",
       "        vertical-align: middle;\n",
       "    }\n",
       "\n",
       "    .dataframe tbody tr th {\n",
       "        vertical-align: top;\n",
       "    }\n",
       "\n",
       "    .dataframe thead th {\n",
       "        text-align: right;\n",
       "    }\n",
       "</style>\n",
       "<table border=\"1\" class=\"dataframe\">\n",
       "  <thead>\n",
       "    <tr style=\"text-align: right;\">\n",
       "      <th></th>\n",
       "      <th>operator_id</th>\n",
       "      <th>direction</th>\n",
       "      <th>calls_count</th>\n",
       "    </tr>\n",
       "  </thead>\n",
       "  <tbody>\n",
       "    <tr>\n",
       "      <th>317</th>\n",
       "      <td>913886.0</td>\n",
       "      <td>in</td>\n",
       "      <td>1</td>\n",
       "    </tr>\n",
       "    <tr>\n",
       "      <th>109</th>\n",
       "      <td>896430.0</td>\n",
       "      <td>in</td>\n",
       "      <td>1</td>\n",
       "    </tr>\n",
       "    <tr>\n",
       "      <th>200</th>\n",
       "      <td>905472.0</td>\n",
       "      <td>in</td>\n",
       "      <td>1</td>\n",
       "    </tr>\n",
       "    <tr>\n",
       "      <th>202</th>\n",
       "      <td>905478.0</td>\n",
       "      <td>in</td>\n",
       "      <td>1</td>\n",
       "    </tr>\n",
       "    <tr>\n",
       "      <th>718</th>\n",
       "      <td>955086.0</td>\n",
       "      <td>out</td>\n",
       "      <td>1</td>\n",
       "    </tr>\n",
       "    <tr>\n",
       "      <th>...</th>\n",
       "      <td>...</td>\n",
       "      <td>...</td>\n",
       "      <td>...</td>\n",
       "    </tr>\n",
       "    <tr>\n",
       "      <th>392</th>\n",
       "      <td>921318.0</td>\n",
       "      <td>in</td>\n",
       "      <td>2312</td>\n",
       "    </tr>\n",
       "    <tr>\n",
       "      <th>320</th>\n",
       "      <td>913942.0</td>\n",
       "      <td>in</td>\n",
       "      <td>2415</td>\n",
       "    </tr>\n",
       "    <tr>\n",
       "      <th>80</th>\n",
       "      <td>893804.0</td>\n",
       "      <td>in</td>\n",
       "      <td>2417</td>\n",
       "    </tr>\n",
       "    <tr>\n",
       "      <th>701</th>\n",
       "      <td>952948.0</td>\n",
       "      <td>in</td>\n",
       "      <td>3532</td>\n",
       "    </tr>\n",
       "    <tr>\n",
       "      <th>318</th>\n",
       "      <td>913938.0</td>\n",
       "      <td>in</td>\n",
       "      <td>4752</td>\n",
       "    </tr>\n",
       "  </tbody>\n",
       "</table>\n",
       "<p>787 rows × 3 columns</p>\n",
       "</div>"
      ],
      "text/plain": [
       "     operator_id direction  calls_count\n",
       "317     913886.0        in            1\n",
       "109     896430.0        in            1\n",
       "200     905472.0        in            1\n",
       "202     905478.0        in            1\n",
       "718     955086.0       out            1\n",
       "..           ...       ...          ...\n",
       "392     921318.0        in         2312\n",
       "320     913942.0        in         2415\n",
       "80      893804.0        in         2417\n",
       "701     952948.0        in         3532\n",
       "318     913938.0        in         4752\n",
       "\n",
       "[787 rows x 3 columns]"
      ]
     },
     "execution_count": 43,
     "metadata": {},
     "output_type": "execute_result"
    }
   ],
   "source": [
    "transfer = data[((data['direction']=='in') & (data['is_missed_call']==False) & (data['internal'] == False)) |\\\n",
    "               ((data['direction']=='out') & (data['is_missed_call']==False) & (data['internal'] == True)) & (data['user_id'].isin(in_list))][['operator_id', 'direction', 'calls_count']]\n",
    "transfer = transfer.groupby(by=['operator_id', 'direction']).sum().reset_index().sort_values(by='calls_count')\n",
    "transfer"
   ]
  },
  {
   "cell_type": "code",
   "execution_count": 44,
   "id": "2625aa63",
   "metadata": {},
   "outputs": [
    {
     "data": {
      "text/html": [
       "<div>\n",
       "<style scoped>\n",
       "    .dataframe tbody tr th:only-of-type {\n",
       "        vertical-align: middle;\n",
       "    }\n",
       "\n",
       "    .dataframe tbody tr th {\n",
       "        vertical-align: top;\n",
       "    }\n",
       "\n",
       "    .dataframe thead th {\n",
       "        text-align: right;\n",
       "    }\n",
       "</style>\n",
       "<table border=\"1\" class=\"dataframe\">\n",
       "  <thead>\n",
       "    <tr style=\"text-align: right;\">\n",
       "      <th></th>\n",
       "      <th>operator_id</th>\n",
       "      <th>in</th>\n",
       "      <th>out</th>\n",
       "      <th>over</th>\n",
       "    </tr>\n",
       "  </thead>\n",
       "  <tbody>\n",
       "    <tr>\n",
       "      <th>0</th>\n",
       "      <td>879896.0</td>\n",
       "      <td>58.0</td>\n",
       "      <td>0.0</td>\n",
       "      <td>0.000000</td>\n",
       "    </tr>\n",
       "    <tr>\n",
       "      <th>485</th>\n",
       "      <td>936382.0</td>\n",
       "      <td>1.0</td>\n",
       "      <td>0.0</td>\n",
       "      <td>0.000000</td>\n",
       "    </tr>\n",
       "    <tr>\n",
       "      <th>486</th>\n",
       "      <td>936514.0</td>\n",
       "      <td>74.0</td>\n",
       "      <td>0.0</td>\n",
       "      <td>0.000000</td>\n",
       "    </tr>\n",
       "    <tr>\n",
       "      <th>487</th>\n",
       "      <td>936984.0</td>\n",
       "      <td>70.0</td>\n",
       "      <td>0.0</td>\n",
       "      <td>0.000000</td>\n",
       "    </tr>\n",
       "    <tr>\n",
       "      <th>488</th>\n",
       "      <td>937362.0</td>\n",
       "      <td>5.0</td>\n",
       "      <td>0.0</td>\n",
       "      <td>0.000000</td>\n",
       "    </tr>\n",
       "    <tr>\n",
       "      <th>...</th>\n",
       "      <td>...</td>\n",
       "      <td>...</td>\n",
       "      <td>...</td>\n",
       "      <td>...</td>\n",
       "    </tr>\n",
       "    <tr>\n",
       "      <th>234</th>\n",
       "      <td>907970.0</td>\n",
       "      <td>16.0</td>\n",
       "      <td>134.0</td>\n",
       "      <td>8.375000</td>\n",
       "    </tr>\n",
       "    <tr>\n",
       "      <th>210</th>\n",
       "      <td>906394.0</td>\n",
       "      <td>30.0</td>\n",
       "      <td>282.0</td>\n",
       "      <td>9.400000</td>\n",
       "    </tr>\n",
       "    <tr>\n",
       "      <th>219</th>\n",
       "      <td>906412.0</td>\n",
       "      <td>19.0</td>\n",
       "      <td>182.0</td>\n",
       "      <td>9.578947</td>\n",
       "    </tr>\n",
       "    <tr>\n",
       "      <th>220</th>\n",
       "      <td>906416.0</td>\n",
       "      <td>5.0</td>\n",
       "      <td>51.0</td>\n",
       "      <td>10.200000</td>\n",
       "    </tr>\n",
       "    <tr>\n",
       "      <th>238</th>\n",
       "      <td>907986.0</td>\n",
       "      <td>1.0</td>\n",
       "      <td>393.0</td>\n",
       "      <td>393.000000</td>\n",
       "    </tr>\n",
       "  </tbody>\n",
       "</table>\n",
       "<p>736 rows × 4 columns</p>\n",
       "</div>"
      ],
      "text/plain": [
       "     operator_id    in    out        over\n",
       "0       879896.0  58.0    0.0    0.000000\n",
       "485     936382.0   1.0    0.0    0.000000\n",
       "486     936514.0  74.0    0.0    0.000000\n",
       "487     936984.0  70.0    0.0    0.000000\n",
       "488     937362.0   5.0    0.0    0.000000\n",
       "..           ...   ...    ...         ...\n",
       "234     907970.0  16.0  134.0    8.375000\n",
       "210     906394.0  30.0  282.0    9.400000\n",
       "219     906412.0  19.0  182.0    9.578947\n",
       "220     906416.0   5.0   51.0   10.200000\n",
       "238     907986.0   1.0  393.0  393.000000\n",
       "\n",
       "[736 rows x 4 columns]"
      ]
     },
     "execution_count": 44,
     "metadata": {},
     "output_type": "execute_result"
    }
   ],
   "source": [
    "# Делаем сводную таблицу по суммарному числу принятых и переадресованных\n",
    "part_transfer = pd.pivot_table(transfer,\n",
    "               index='operator_id',\n",
    "               columns='direction',\n",
    "               values='calls_count',\n",
    "               aggfunc='sum').rename_axis(None, axis=1).reset_index().fillna(0)\n",
    "part_transfer['over'] = part_transfer['out']/part_transfer['in']\n",
    "# Уберем то, где есть исходящие внутренние, но нет входящих внешних - это что-то непонятное\n",
    "part_transfer = part_transfer[part_transfer['over']!=np.inf]\n",
    "part_transfer.sort_values(by='over')"
   ]
  },
  {
   "cell_type": "code",
   "execution_count": 45,
   "id": "8b06e614",
   "metadata": {},
   "outputs": [
    {
     "data": {
      "text/plain": [
       "count    736.000000\n",
       "mean       0.620972\n",
       "std       14.501931\n",
       "min        0.000000\n",
       "25%        0.000000\n",
       "50%        0.000000\n",
       "75%        0.000000\n",
       "max      393.000000\n",
       "Name: over, dtype: float64"
      ]
     },
     "execution_count": 45,
     "metadata": {},
     "output_type": "execute_result"
    }
   ],
   "source": [
    "part_transfer['over'].describe()"
   ]
  },
  {
   "cell_type": "markdown",
   "id": "3f1195d8",
   "metadata": {},
   "source": [
    "Очень мало тех, у кого количество внутренних исходящих звонков сравнимо с входящими, но есть и те, у кого их даже больше. \n",
    "Внесем в список тех, у кого число внутренних составляет 50% от внешних - то есть в половине случаев идет переадресация или консультация."
   ]
  },
  {
   "cell_type": "code",
   "execution_count": 46,
   "id": "d2806441",
   "metadata": {
    "scrolled": true
   },
   "outputs": [
    {
     "data": {
      "text/plain": [
       "array([893400., 905472., 906394., 906396., 906400., 906402., 906412.,\n",
       "       906416., 906420., 907504., 907952., 907964., 907970., 907982.,\n",
       "       907986., 907994., 921104., 952196.])"
      ]
     },
     "execution_count": 46,
     "metadata": {},
     "output_type": "execute_result"
    }
   ],
   "source": [
    "bad_list2 = part_transfer[part_transfer['over']>=0.5]['operator_id'].unique()\n",
    "bad_list2"
   ]
  },
  {
   "cell_type": "markdown",
   "id": "ae07d8c2",
   "metadata": {},
   "source": [
    "### Определение неэффективных операторов на исходящих вызовах"
   ]
  },
  {
   "cell_type": "markdown",
   "id": "14c534bd",
   "metadata": {},
   "source": [
    "Нужно определить тех, кто совершает мало исходящих вывозов — в случае тех колл-центров, что специализируются на обзвонах, а не обработке входящих звонков.\n",
    "\n",
    "Внутри разных компаний может быть разное кол-во исходящих вызовов за день. Посмотрим, насколько сильно они отличаются."
   ]
  },
  {
   "cell_type": "code",
   "execution_count": 47,
   "id": "8b416bcd",
   "metadata": {},
   "outputs": [
    {
     "data": {
      "text/html": [
       "<div>\n",
       "<style scoped>\n",
       "    .dataframe tbody tr th:only-of-type {\n",
       "        vertical-align: middle;\n",
       "    }\n",
       "\n",
       "    .dataframe tbody tr th {\n",
       "        vertical-align: top;\n",
       "    }\n",
       "\n",
       "    .dataframe thead th {\n",
       "        text-align: right;\n",
       "    }\n",
       "</style>\n",
       "<table border=\"1\" class=\"dataframe\">\n",
       "  <thead>\n",
       "    <tr style=\"text-align: right;\">\n",
       "      <th></th>\n",
       "      <th>user_id</th>\n",
       "      <th>date</th>\n",
       "      <th>operator_id</th>\n",
       "      <th>calls_count</th>\n",
       "    </tr>\n",
       "  </thead>\n",
       "  <tbody>\n",
       "    <tr>\n",
       "      <th>0</th>\n",
       "      <td>166377</td>\n",
       "      <td>2019-08-05</td>\n",
       "      <td>880020.0</td>\n",
       "      <td>10</td>\n",
       "    </tr>\n",
       "    <tr>\n",
       "      <th>1</th>\n",
       "      <td>166377</td>\n",
       "      <td>2019-08-05</td>\n",
       "      <td>880022.0</td>\n",
       "      <td>3</td>\n",
       "    </tr>\n",
       "    <tr>\n",
       "      <th>2</th>\n",
       "      <td>166377</td>\n",
       "      <td>2019-08-06</td>\n",
       "      <td>880020.0</td>\n",
       "      <td>10</td>\n",
       "    </tr>\n",
       "    <tr>\n",
       "      <th>3</th>\n",
       "      <td>166377</td>\n",
       "      <td>2019-08-06</td>\n",
       "      <td>881278.0</td>\n",
       "      <td>3</td>\n",
       "    </tr>\n",
       "    <tr>\n",
       "      <th>4</th>\n",
       "      <td>166377</td>\n",
       "      <td>2019-08-07</td>\n",
       "      <td>880020.0</td>\n",
       "      <td>2</td>\n",
       "    </tr>\n",
       "    <tr>\n",
       "      <th>...</th>\n",
       "      <td>...</td>\n",
       "      <td>...</td>\n",
       "      <td>...</td>\n",
       "      <td>...</td>\n",
       "    </tr>\n",
       "    <tr>\n",
       "      <th>12351</th>\n",
       "      <td>168603</td>\n",
       "      <td>2019-11-20</td>\n",
       "      <td>959118.0</td>\n",
       "      <td>6</td>\n",
       "    </tr>\n",
       "    <tr>\n",
       "      <th>12352</th>\n",
       "      <td>168603</td>\n",
       "      <td>2019-11-21</td>\n",
       "      <td>959118.0</td>\n",
       "      <td>6</td>\n",
       "    </tr>\n",
       "    <tr>\n",
       "      <th>12353</th>\n",
       "      <td>168603</td>\n",
       "      <td>2019-11-27</td>\n",
       "      <td>959118.0</td>\n",
       "      <td>1</td>\n",
       "    </tr>\n",
       "    <tr>\n",
       "      <th>12354</th>\n",
       "      <td>168606</td>\n",
       "      <td>2019-11-08</td>\n",
       "      <td>957922.0</td>\n",
       "      <td>4</td>\n",
       "    </tr>\n",
       "    <tr>\n",
       "      <th>12355</th>\n",
       "      <td>168606</td>\n",
       "      <td>2019-11-09</td>\n",
       "      <td>957922.0</td>\n",
       "      <td>4</td>\n",
       "    </tr>\n",
       "  </tbody>\n",
       "</table>\n",
       "<p>12356 rows × 4 columns</p>\n",
       "</div>"
      ],
      "text/plain": [
       "       user_id        date  operator_id  calls_count\n",
       "0       166377  2019-08-05     880020.0           10\n",
       "1       166377  2019-08-05     880022.0            3\n",
       "2       166377  2019-08-06     880020.0           10\n",
       "3       166377  2019-08-06     881278.0            3\n",
       "4       166377  2019-08-07     880020.0            2\n",
       "...        ...         ...          ...          ...\n",
       "12351   168603  2019-11-20     959118.0            6\n",
       "12352   168603  2019-11-21     959118.0            6\n",
       "12353   168603  2019-11-27     959118.0            1\n",
       "12354   168606  2019-11-08     957922.0            4\n",
       "12355   168606  2019-11-09     957922.0            4\n",
       "\n",
       "[12356 rows x 4 columns]"
      ]
     },
     "execution_count": 47,
     "metadata": {},
     "output_type": "execute_result"
    }
   ],
   "source": [
    "# Нас не интересует совершение внутренних звонков, не интересует ответили ли на звонок и сколько он длился\n",
    "outcoming = data[(data['direction']=='out') & (data['internal']==False) & (data['user_id'].isin(out_list))][['user_id', 'date', 'operator_id', 'calls_count']]\n",
    "outcoming = outcoming.groupby(by=['user_id', 'date', 'operator_id']).sum().reset_index()\n",
    "outcoming"
   ]
  },
  {
   "cell_type": "code",
   "execution_count": 48,
   "id": "656c66f3",
   "metadata": {},
   "outputs": [
    {
     "data": {
      "text/html": [
       "<div>\n",
       "<style scoped>\n",
       "    .dataframe tbody tr th:only-of-type {\n",
       "        vertical-align: middle;\n",
       "    }\n",
       "\n",
       "    .dataframe tbody tr th {\n",
       "        vertical-align: top;\n",
       "    }\n",
       "\n",
       "    .dataframe thead th {\n",
       "        text-align: right;\n",
       "    }\n",
       "</style>\n",
       "<table border=\"1\" class=\"dataframe\">\n",
       "  <thead>\n",
       "    <tr style=\"text-align: right;\">\n",
       "      <th></th>\n",
       "      <th>user_id</th>\n",
       "      <th>calls_count</th>\n",
       "    </tr>\n",
       "  </thead>\n",
       "  <tbody>\n",
       "    <tr>\n",
       "      <th>81</th>\n",
       "      <td>167364</td>\n",
       "      <td>1.000000</td>\n",
       "    </tr>\n",
       "    <tr>\n",
       "      <th>8</th>\n",
       "      <td>166507</td>\n",
       "      <td>1.500000</td>\n",
       "    </tr>\n",
       "    <tr>\n",
       "      <th>32</th>\n",
       "      <td>166813</td>\n",
       "      <td>1.629630</td>\n",
       "    </tr>\n",
       "    <tr>\n",
       "      <th>78</th>\n",
       "      <td>167288</td>\n",
       "      <td>2.000000</td>\n",
       "    </tr>\n",
       "    <tr>\n",
       "      <th>52</th>\n",
       "      <td>167012</td>\n",
       "      <td>2.000000</td>\n",
       "    </tr>\n",
       "    <tr>\n",
       "      <th>...</th>\n",
       "      <td>...</td>\n",
       "      <td>...</td>\n",
       "    </tr>\n",
       "    <tr>\n",
       "      <th>129</th>\n",
       "      <td>168025</td>\n",
       "      <td>131.531250</td>\n",
       "    </tr>\n",
       "    <tr>\n",
       "      <th>126</th>\n",
       "      <td>168018</td>\n",
       "      <td>176.057143</td>\n",
       "    </tr>\n",
       "    <tr>\n",
       "      <th>114</th>\n",
       "      <td>167827</td>\n",
       "      <td>363.598131</td>\n",
       "    </tr>\n",
       "    <tr>\n",
       "      <th>77</th>\n",
       "      <td>167285</td>\n",
       "      <td>749.157895</td>\n",
       "    </tr>\n",
       "    <tr>\n",
       "      <th>13</th>\n",
       "      <td>166582</td>\n",
       "      <td>755.576923</td>\n",
       "    </tr>\n",
       "  </tbody>\n",
       "</table>\n",
       "<p>159 rows × 2 columns</p>\n",
       "</div>"
      ],
      "text/plain": [
       "     user_id  calls_count\n",
       "81    167364     1.000000\n",
       "8     166507     1.500000\n",
       "32    166813     1.629630\n",
       "78    167288     2.000000\n",
       "52    167012     2.000000\n",
       "..       ...          ...\n",
       "129   168025   131.531250\n",
       "126   168018   176.057143\n",
       "114   167827   363.598131\n",
       "77    167285   749.157895\n",
       "13    166582   755.576923\n",
       "\n",
       "[159 rows x 2 columns]"
      ]
     },
     "execution_count": 48,
     "metadata": {},
     "output_type": "execute_result"
    }
   ],
   "source": [
    "mean_out = outcoming.groupby(by=['user_id']).mean().reset_index().sort_values(by='calls_count')[['user_id', 'calls_count']]\n",
    "mean_out"
   ]
  },
  {
   "cell_type": "code",
   "execution_count": 49,
   "id": "6a3ed786",
   "metadata": {},
   "outputs": [
    {
     "data": {
      "image/png": "[encoded data removed]",
      "text/plain": [
       "<Figure size 360x360 with 1 Axes>"
      ]
     },
     "metadata": {
      "needs_background": "light"
     },
     "output_type": "display_data"
    }
   ],
   "source": [
    "d_graph = sns.displot(x='calls_count', data=mean_out)\n",
    "d_graph.set(xlabel='Кол-во исходящих звонков в день', ylabel='Кол-во колл-центров')\n",
    "d_graph.fig.suptitle('Распределение исходящих колл-центров по количеству звонков в день')\n",
    "plt.show()"
   ]
  },
  {
   "cell_type": "markdown",
   "metadata": {},
   "source": [
    "Компании совершают различное число исходящих звонков, а значит сравнивать сотрудников между компаниями - неправильно, надо сравнивать внутри одной компании. Берем среднее число звонков в день (если один сотрудник работал больше дней, чем другой, то у него будет и больше звонков, но это не значит, что он более эффективный).\n",
    "\n",
    "Надо понять, какое число звонков считать нормой. Это параметр, который устанавливает сама компания. Если мы просто возьмем какой-то перцентиль, то таким образом получим топ худших сотрудников, но не обязательно самых неэффективных.\n",
    "\n",
    "Можно взять медианное значение и поделить его на 2 - тогда мы сразу увидим тех, кто очень сильно выделяется по сравнению с остальными."
   ]
  },
  {
   "cell_type": "code",
   "execution_count": 50,
   "id": "b62dd561",
   "metadata": {},
   "outputs": [
    {
     "data": {
      "text/html": [
       "<div>\n",
       "<style scoped>\n",
       "    .dataframe tbody tr th:only-of-type {\n",
       "        vertical-align: middle;\n",
       "    }\n",
       "\n",
       "    .dataframe tbody tr th {\n",
       "        vertical-align: top;\n",
       "    }\n",
       "\n",
       "    .dataframe thead th {\n",
       "        text-align: right;\n",
       "    }\n",
       "</style>\n",
       "<table border=\"1\" class=\"dataframe\">\n",
       "  <thead>\n",
       "    <tr style=\"text-align: right;\">\n",
       "      <th></th>\n",
       "      <th>user_id</th>\n",
       "      <th>operator_id</th>\n",
       "      <th>calls_count</th>\n",
       "    </tr>\n",
       "  </thead>\n",
       "  <tbody>\n",
       "    <tr>\n",
       "      <th>4</th>\n",
       "      <td>166377</td>\n",
       "      <td>881278.0</td>\n",
       "      <td>2.400000</td>\n",
       "    </tr>\n",
       "    <tr>\n",
       "      <th>1</th>\n",
       "      <td>166377</td>\n",
       "      <td>880022.0</td>\n",
       "      <td>4.833333</td>\n",
       "    </tr>\n",
       "    <tr>\n",
       "      <th>0</th>\n",
       "      <td>166377</td>\n",
       "      <td>880020.0</td>\n",
       "      <td>4.857143</td>\n",
       "    </tr>\n",
       "    <tr>\n",
       "      <th>2</th>\n",
       "      <td>166377</td>\n",
       "      <td>880026.0</td>\n",
       "      <td>28.415584</td>\n",
       "    </tr>\n",
       "    <tr>\n",
       "      <th>3</th>\n",
       "      <td>166377</td>\n",
       "      <td>880028.0</td>\n",
       "      <td>31.910256</td>\n",
       "    </tr>\n",
       "    <tr>\n",
       "      <th>...</th>\n",
       "      <td>...</td>\n",
       "      <td>...</td>\n",
       "      <td>...</td>\n",
       "    </tr>\n",
       "    <tr>\n",
       "      <th>699</th>\n",
       "      <td>168481</td>\n",
       "      <td>959596.0</td>\n",
       "      <td>9.000000</td>\n",
       "    </tr>\n",
       "    <tr>\n",
       "      <th>701</th>\n",
       "      <td>168601</td>\n",
       "      <td>952916.0</td>\n",
       "      <td>1.750000</td>\n",
       "    </tr>\n",
       "    <tr>\n",
       "      <th>700</th>\n",
       "      <td>168601</td>\n",
       "      <td>952914.0</td>\n",
       "      <td>30.473684</td>\n",
       "    </tr>\n",
       "    <tr>\n",
       "      <th>702</th>\n",
       "      <td>168603</td>\n",
       "      <td>959118.0</td>\n",
       "      <td>3.500000</td>\n",
       "    </tr>\n",
       "    <tr>\n",
       "      <th>703</th>\n",
       "      <td>168606</td>\n",
       "      <td>957922.0</td>\n",
       "      <td>4.000000</td>\n",
       "    </tr>\n",
       "  </tbody>\n",
       "</table>\n",
       "<p>704 rows × 3 columns</p>\n",
       "</div>"
      ],
      "text/plain": [
       "     user_id  operator_id  calls_count\n",
       "4     166377     881278.0     2.400000\n",
       "1     166377     880022.0     4.833333\n",
       "0     166377     880020.0     4.857143\n",
       "2     166377     880026.0    28.415584\n",
       "3     166377     880028.0    31.910256\n",
       "..       ...          ...          ...\n",
       "699   168481     959596.0     9.000000\n",
       "701   168601     952916.0     1.750000\n",
       "700   168601     952914.0    30.473684\n",
       "702   168603     959118.0     3.500000\n",
       "703   168606     957922.0     4.000000\n",
       "\n",
       "[704 rows x 3 columns]"
      ]
     },
     "execution_count": 50,
     "metadata": {},
     "output_type": "execute_result"
    }
   ],
   "source": [
    "part_out = outcoming.groupby(by=['user_id', 'operator_id']).mean().reset_index()[['user_id', 'operator_id', 'calls_count']]\n",
    "part_out = part_out.sort_values(by=['user_id', 'calls_count'])\n",
    "part_out"
   ]
  },
  {
   "cell_type": "code",
   "execution_count": 51,
   "id": "6c5a3716",
   "metadata": {},
   "outputs": [
    {
     "data": {
      "text/html": [
       "<div>\n",
       "<style scoped>\n",
       "    .dataframe tbody tr th:only-of-type {\n",
       "        vertical-align: middle;\n",
       "    }\n",
       "\n",
       "    .dataframe tbody tr th {\n",
       "        vertical-align: top;\n",
       "    }\n",
       "\n",
       "    .dataframe thead th {\n",
       "        text-align: right;\n",
       "    }\n",
       "</style>\n",
       "<table border=\"1\" class=\"dataframe\">\n",
       "  <thead>\n",
       "    <tr style=\"text-align: right;\">\n",
       "      <th></th>\n",
       "      <th>user_id</th>\n",
       "      <th>threshold</th>\n",
       "    </tr>\n",
       "  </thead>\n",
       "  <tbody>\n",
       "    <tr>\n",
       "      <th>0</th>\n",
       "      <td>166377</td>\n",
       "      <td>13.00</td>\n",
       "    </tr>\n",
       "    <tr>\n",
       "      <th>1</th>\n",
       "      <td>166405</td>\n",
       "      <td>8.50</td>\n",
       "    </tr>\n",
       "    <tr>\n",
       "      <th>2</th>\n",
       "      <td>166406</td>\n",
       "      <td>26.00</td>\n",
       "    </tr>\n",
       "    <tr>\n",
       "      <th>3</th>\n",
       "      <td>166407</td>\n",
       "      <td>1.00</td>\n",
       "    </tr>\n",
       "    <tr>\n",
       "      <th>4</th>\n",
       "      <td>166485</td>\n",
       "      <td>8.00</td>\n",
       "    </tr>\n",
       "    <tr>\n",
       "      <th>...</th>\n",
       "      <td>...</td>\n",
       "      <td>...</td>\n",
       "    </tr>\n",
       "    <tr>\n",
       "      <th>154</th>\n",
       "      <td>168473</td>\n",
       "      <td>4.00</td>\n",
       "    </tr>\n",
       "    <tr>\n",
       "      <th>155</th>\n",
       "      <td>168481</td>\n",
       "      <td>2.25</td>\n",
       "    </tr>\n",
       "    <tr>\n",
       "      <th>156</th>\n",
       "      <td>168601</td>\n",
       "      <td>9.00</td>\n",
       "    </tr>\n",
       "    <tr>\n",
       "      <th>157</th>\n",
       "      <td>168603</td>\n",
       "      <td>1.75</td>\n",
       "    </tr>\n",
       "    <tr>\n",
       "      <th>158</th>\n",
       "      <td>168606</td>\n",
       "      <td>2.00</td>\n",
       "    </tr>\n",
       "  </tbody>\n",
       "</table>\n",
       "<p>159 rows × 2 columns</p>\n",
       "</div>"
      ],
      "text/plain": [
       "     user_id  threshold\n",
       "0     166377      13.00\n",
       "1     166405       8.50\n",
       "2     166406      26.00\n",
       "3     166407       1.00\n",
       "4     166485       8.00\n",
       "..       ...        ...\n",
       "154   168473       4.00\n",
       "155   168481       2.25\n",
       "156   168601       9.00\n",
       "157   168603       1.75\n",
       "158   168606       2.00\n",
       "\n",
       "[159 rows x 2 columns]"
      ]
     },
     "execution_count": 51,
     "metadata": {},
     "output_type": "execute_result"
    }
   ],
   "source": [
    "part_out1 = outcoming.groupby(by=['user_id']).quantile(.5).reset_index()[['user_id', 'calls_count']].rename(columns={'calls_count': 'threshold'})\n",
    "part_out1['threshold'] = part_out1['threshold']/2\n",
    "part_out1"
   ]
  },
  {
   "cell_type": "code",
   "execution_count": 52,
   "id": "fb22d22f",
   "metadata": {},
   "outputs": [
    {
     "data": {
      "text/html": [
       "<div>\n",
       "<style scoped>\n",
       "    .dataframe tbody tr th:only-of-type {\n",
       "        vertical-align: middle;\n",
       "    }\n",
       "\n",
       "    .dataframe tbody tr th {\n",
       "        vertical-align: top;\n",
       "    }\n",
       "\n",
       "    .dataframe thead th {\n",
       "        text-align: right;\n",
       "    }\n",
       "</style>\n",
       "<table border=\"1\" class=\"dataframe\">\n",
       "  <thead>\n",
       "    <tr style=\"text-align: right;\">\n",
       "      <th></th>\n",
       "      <th>user_id</th>\n",
       "      <th>operator_id</th>\n",
       "      <th>calls_count</th>\n",
       "      <th>threshold</th>\n",
       "    </tr>\n",
       "  </thead>\n",
       "  <tbody>\n",
       "    <tr>\n",
       "      <th>0</th>\n",
       "      <td>166377</td>\n",
       "      <td>881278.0</td>\n",
       "      <td>2.400000</td>\n",
       "      <td>13.00</td>\n",
       "    </tr>\n",
       "    <tr>\n",
       "      <th>1</th>\n",
       "      <td>166377</td>\n",
       "      <td>880022.0</td>\n",
       "      <td>4.833333</td>\n",
       "      <td>13.00</td>\n",
       "    </tr>\n",
       "    <tr>\n",
       "      <th>2</th>\n",
       "      <td>166377</td>\n",
       "      <td>880020.0</td>\n",
       "      <td>4.857143</td>\n",
       "      <td>13.00</td>\n",
       "    </tr>\n",
       "    <tr>\n",
       "      <th>3</th>\n",
       "      <td>166377</td>\n",
       "      <td>880026.0</td>\n",
       "      <td>28.415584</td>\n",
       "      <td>13.00</td>\n",
       "    </tr>\n",
       "    <tr>\n",
       "      <th>4</th>\n",
       "      <td>166377</td>\n",
       "      <td>880028.0</td>\n",
       "      <td>31.910256</td>\n",
       "      <td>13.00</td>\n",
       "    </tr>\n",
       "    <tr>\n",
       "      <th>...</th>\n",
       "      <td>...</td>\n",
       "      <td>...</td>\n",
       "      <td>...</td>\n",
       "      <td>...</td>\n",
       "    </tr>\n",
       "    <tr>\n",
       "      <th>699</th>\n",
       "      <td>168481</td>\n",
       "      <td>959596.0</td>\n",
       "      <td>9.000000</td>\n",
       "      <td>2.25</td>\n",
       "    </tr>\n",
       "    <tr>\n",
       "      <th>700</th>\n",
       "      <td>168601</td>\n",
       "      <td>952916.0</td>\n",
       "      <td>1.750000</td>\n",
       "      <td>9.00</td>\n",
       "    </tr>\n",
       "    <tr>\n",
       "      <th>701</th>\n",
       "      <td>168601</td>\n",
       "      <td>952914.0</td>\n",
       "      <td>30.473684</td>\n",
       "      <td>9.00</td>\n",
       "    </tr>\n",
       "    <tr>\n",
       "      <th>702</th>\n",
       "      <td>168603</td>\n",
       "      <td>959118.0</td>\n",
       "      <td>3.500000</td>\n",
       "      <td>1.75</td>\n",
       "    </tr>\n",
       "    <tr>\n",
       "      <th>703</th>\n",
       "      <td>168606</td>\n",
       "      <td>957922.0</td>\n",
       "      <td>4.000000</td>\n",
       "      <td>2.00</td>\n",
       "    </tr>\n",
       "  </tbody>\n",
       "</table>\n",
       "<p>704 rows × 4 columns</p>\n",
       "</div>"
      ],
      "text/plain": [
       "     user_id  operator_id  calls_count  threshold\n",
       "0     166377     881278.0     2.400000      13.00\n",
       "1     166377     880022.0     4.833333      13.00\n",
       "2     166377     880020.0     4.857143      13.00\n",
       "3     166377     880026.0    28.415584      13.00\n",
       "4     166377     880028.0    31.910256      13.00\n",
       "..       ...          ...          ...        ...\n",
       "699   168481     959596.0     9.000000       2.25\n",
       "700   168601     952916.0     1.750000       9.00\n",
       "701   168601     952914.0    30.473684       9.00\n",
       "702   168603     959118.0     3.500000       1.75\n",
       "703   168606     957922.0     4.000000       2.00\n",
       "\n",
       "[704 rows x 4 columns]"
      ]
     },
     "execution_count": 52,
     "metadata": {},
     "output_type": "execute_result"
    }
   ],
   "source": [
    "part_out = part_out.merge(part_out1, on = 'user_id')\n",
    "part_out"
   ]
  },
  {
   "cell_type": "code",
   "execution_count": 53,
   "id": "7d5548e5",
   "metadata": {
    "scrolled": true
   },
   "outputs": [
    {
     "data": {
      "text/plain": [
       "array([881278., 880022., 880020., 939478., 880240., 879896., 887280.,\n",
       "       887278., 884402., 891416., 885682., 890234., 891192., 930510.,\n",
       "       947480., 939236., 910902., 890232., 923254., 930524., 910926.,\n",
       "       897894., 900192., 900194., 891156., 891166., 891158., 891162.,\n",
       "       891152., 891744., 919418., 950444., 932088., 972408., 915614.,\n",
       "       908984., 891746., 916596., 891250., 895266., 917890., 894662.,\n",
       "       914626., 909134., 903312., 898902., 899972., 930910., 930908.,\n",
       "       933452., 942174., 951650., 901996., 905570., 905574., 905840.,\n",
       "       905934., 932246., 914348., 957022., 913984., 919536., 924370.,\n",
       "       914256., 914272., 914266., 961552., 935956., 921814., 944648.,\n",
       "       952656., 914240., 918958., 924932., 924928., 919214., 937362.,\n",
       "       937366., 937368., 960670., 956298., 919206., 919164., 919204.,\n",
       "       919166., 928228., 919910., 919190., 925134., 921320., 921306.,\n",
       "       918988., 922486., 940436., 940440., 929884., 929876., 930186.,\n",
       "       945898., 938022., 947596., 947610., 951506., 951508., 951492.,\n",
       "       947612., 947590., 947636., 947600., 947644., 947598., 958440.,\n",
       "       958444., 958672., 958470., 958472., 958460., 935246., 937716.,\n",
       "       937742., 937770., 937772., 937778., 937872., 937956., 946072.,\n",
       "       937782., 937856., 937984., 937900., 937870., 937786., 937750.,\n",
       "       937678., 937762., 937812., 937732., 939736., 940610., 939716.,\n",
       "       940782., 940802., 940814., 940848., 939718., 940568., 940828.,\n",
       "       940588., 940630., 969286., 969268., 966158., 945274., 945074.,\n",
       "       952462., 953460., 952460., 953458., 956292., 952916.])"
      ]
     },
     "execution_count": 53,
     "metadata": {},
     "output_type": "execute_result"
    }
   ],
   "source": [
    "bad_list3 = part_out[part_out['calls_count']<part_out['threshold']]['operator_id'].unique()\n",
    "bad_list3"
   ]
  },
  {
   "cell_type": "markdown",
   "id": "4ced222e",
   "metadata": {},
   "source": [
    "### Сотрудники с долгим ожиданием на исходящих звонках"
   ]
  },
  {
   "cell_type": "markdown",
   "id": "4139106d",
   "metadata": {},
   "source": [
    "Возможный способ обмана системы - это включить исходящий вызов и держать его долгое время, без ответа клиента, а в это время не работать. Проверим такие случаи.\n",
    "\n",
    "Слишком быстрый сброс при исходящем звонке тоже можно было бы считать неэффективностью, но возможны случаи, когда исходящий номер оказался в ЧС или когда настроена какая-то переадресация, поэтому их рассматривать не будем.\n",
    "\n",
    "Поставим фильтр is_missed_call==True - тогда в суммарном времени диалога будет только ожидание."
   ]
  },
  {
   "cell_type": "code",
   "execution_count": 54,
   "id": "4270a97e",
   "metadata": {},
   "outputs": [
    {
     "data": {
      "text/html": [
       "<div>\n",
       "<style scoped>\n",
       "    .dataframe tbody tr th:only-of-type {\n",
       "        vertical-align: middle;\n",
       "    }\n",
       "\n",
       "    .dataframe tbody tr th {\n",
       "        vertical-align: top;\n",
       "    }\n",
       "\n",
       "    .dataframe thead th {\n",
       "        text-align: right;\n",
       "    }\n",
       "</style>\n",
       "<table border=\"1\" class=\"dataframe\">\n",
       "  <thead>\n",
       "    <tr style=\"text-align: right;\">\n",
       "      <th></th>\n",
       "      <th>operator_id</th>\n",
       "      <th>calls_count</th>\n",
       "      <th>total_call_duration</th>\n",
       "    </tr>\n",
       "  </thead>\n",
       "  <tbody>\n",
       "    <tr>\n",
       "      <th>0</th>\n",
       "      <td>879896.0</td>\n",
       "      <td>220</td>\n",
       "      <td>5626</td>\n",
       "    </tr>\n",
       "    <tr>\n",
       "      <th>1</th>\n",
       "      <td>879898.0</td>\n",
       "      <td>2345</td>\n",
       "      <td>49701</td>\n",
       "    </tr>\n",
       "    <tr>\n",
       "      <th>2</th>\n",
       "      <td>880020.0</td>\n",
       "      <td>19</td>\n",
       "      <td>135</td>\n",
       "    </tr>\n",
       "    <tr>\n",
       "      <th>3</th>\n",
       "      <td>880022.0</td>\n",
       "      <td>90</td>\n",
       "      <td>3102</td>\n",
       "    </tr>\n",
       "    <tr>\n",
       "      <th>4</th>\n",
       "      <td>880026.0</td>\n",
       "      <td>628</td>\n",
       "      <td>12239</td>\n",
       "    </tr>\n",
       "    <tr>\n",
       "      <th>...</th>\n",
       "      <td>...</td>\n",
       "      <td>...</td>\n",
       "      <td>...</td>\n",
       "    </tr>\n",
       "    <tr>\n",
       "      <th>767</th>\n",
       "      <td>972408.0</td>\n",
       "      <td>2</td>\n",
       "      <td>30</td>\n",
       "    </tr>\n",
       "    <tr>\n",
       "      <th>768</th>\n",
       "      <td>972410.0</td>\n",
       "      <td>37</td>\n",
       "      <td>1042</td>\n",
       "    </tr>\n",
       "    <tr>\n",
       "      <th>769</th>\n",
       "      <td>972412.0</td>\n",
       "      <td>25</td>\n",
       "      <td>582</td>\n",
       "    </tr>\n",
       "    <tr>\n",
       "      <th>770</th>\n",
       "      <td>972460.0</td>\n",
       "      <td>26</td>\n",
       "      <td>346</td>\n",
       "    </tr>\n",
       "    <tr>\n",
       "      <th>771</th>\n",
       "      <td>973120.0</td>\n",
       "      <td>2</td>\n",
       "      <td>1</td>\n",
       "    </tr>\n",
       "  </tbody>\n",
       "</table>\n",
       "<p>772 rows × 3 columns</p>\n",
       "</div>"
      ],
      "text/plain": [
       "     operator_id  calls_count  total_call_duration\n",
       "0       879896.0          220                 5626\n",
       "1       879898.0         2345                49701\n",
       "2       880020.0           19                  135\n",
       "3       880022.0           90                 3102\n",
       "4       880026.0          628                12239\n",
       "..           ...          ...                  ...\n",
       "767     972408.0            2                   30\n",
       "768     972410.0           37                 1042\n",
       "769     972412.0           25                  582\n",
       "770     972460.0           26                  346\n",
       "771     973120.0            2                    1\n",
       "\n",
       "[772 rows x 3 columns]"
      ]
     },
     "execution_count": 54,
     "metadata": {},
     "output_type": "execute_result"
    }
   ],
   "source": [
    "long_outcoming = data[(data['direction']=='out') & (data['internal']==False) & (data['is_missed_call']==True)][['operator_id', 'calls_count', 'total_call_duration']]\n",
    "long_outcoming = long_outcoming.groupby(by=['operator_id']).sum().reset_index()\n",
    "long_outcoming"
   ]
  },
  {
   "cell_type": "markdown",
   "id": "20279abe",
   "metadata": {},
   "source": [
    "Возьмем тех, у кого больше 10 вызовов и посчитаем среднюю длительность."
   ]
  },
  {
   "cell_type": "code",
   "execution_count": 55,
   "id": "5cde9bb3",
   "metadata": {},
   "outputs": [
    {
     "data": {
      "text/html": [
       "<div>\n",
       "<style scoped>\n",
       "    .dataframe tbody tr th:only-of-type {\n",
       "        vertical-align: middle;\n",
       "    }\n",
       "\n",
       "    .dataframe tbody tr th {\n",
       "        vertical-align: top;\n",
       "    }\n",
       "\n",
       "    .dataframe thead th {\n",
       "        text-align: right;\n",
       "    }\n",
       "</style>\n",
       "<table border=\"1\" class=\"dataframe\">\n",
       "  <thead>\n",
       "    <tr style=\"text-align: right;\">\n",
       "      <th></th>\n",
       "      <th>operator_id</th>\n",
       "      <th>calls_count</th>\n",
       "      <th>total_call_duration</th>\n",
       "      <th>mean_wait</th>\n",
       "    </tr>\n",
       "  </thead>\n",
       "  <tbody>\n",
       "    <tr>\n",
       "      <th>631</th>\n",
       "      <td>946454.0</td>\n",
       "      <td>13</td>\n",
       "      <td>0</td>\n",
       "      <td>0.000000</td>\n",
       "    </tr>\n",
       "    <tr>\n",
       "      <th>381</th>\n",
       "      <td>924614.0</td>\n",
       "      <td>16</td>\n",
       "      <td>16</td>\n",
       "      <td>1.000000</td>\n",
       "    </tr>\n",
       "    <tr>\n",
       "      <th>106</th>\n",
       "      <td>898422.0</td>\n",
       "      <td>11</td>\n",
       "      <td>46</td>\n",
       "      <td>4.181818</td>\n",
       "    </tr>\n",
       "    <tr>\n",
       "      <th>255</th>\n",
       "      <td>914238.0</td>\n",
       "      <td>15</td>\n",
       "      <td>66</td>\n",
       "      <td>4.400000</td>\n",
       "    </tr>\n",
       "    <tr>\n",
       "      <th>519</th>\n",
       "      <td>938414.0</td>\n",
       "      <td>27</td>\n",
       "      <td>130</td>\n",
       "      <td>4.814815</td>\n",
       "    </tr>\n",
       "    <tr>\n",
       "      <th>...</th>\n",
       "      <td>...</td>\n",
       "      <td>...</td>\n",
       "      <td>...</td>\n",
       "      <td>...</td>\n",
       "    </tr>\n",
       "    <tr>\n",
       "      <th>489</th>\n",
       "      <td>937782.0</td>\n",
       "      <td>14</td>\n",
       "      <td>498</td>\n",
       "      <td>35.571429</td>\n",
       "    </tr>\n",
       "    <tr>\n",
       "      <th>400</th>\n",
       "      <td>926312.0</td>\n",
       "      <td>76</td>\n",
       "      <td>2844</td>\n",
       "      <td>37.421053</td>\n",
       "    </tr>\n",
       "    <tr>\n",
       "      <th>123</th>\n",
       "      <td>900194.0</td>\n",
       "      <td>19</td>\n",
       "      <td>785</td>\n",
       "      <td>41.315789</td>\n",
       "    </tr>\n",
       "    <tr>\n",
       "      <th>483</th>\n",
       "      <td>937762.0</td>\n",
       "      <td>75</td>\n",
       "      <td>3106</td>\n",
       "      <td>41.413333</td>\n",
       "    </tr>\n",
       "    <tr>\n",
       "      <th>59</th>\n",
       "      <td>891746.0</td>\n",
       "      <td>13</td>\n",
       "      <td>576</td>\n",
       "      <td>44.307692</td>\n",
       "    </tr>\n",
       "  </tbody>\n",
       "</table>\n",
       "<p>529 rows × 4 columns</p>\n",
       "</div>"
      ],
      "text/plain": [
       "     operator_id  calls_count  total_call_duration  mean_wait\n",
       "631     946454.0           13                    0   0.000000\n",
       "381     924614.0           16                   16   1.000000\n",
       "106     898422.0           11                   46   4.181818\n",
       "255     914238.0           15                   66   4.400000\n",
       "519     938414.0           27                  130   4.814815\n",
       "..           ...          ...                  ...        ...\n",
       "489     937782.0           14                  498  35.571429\n",
       "400     926312.0           76                 2844  37.421053\n",
       "123     900194.0           19                  785  41.315789\n",
       "483     937762.0           75                 3106  41.413333\n",
       "59      891746.0           13                  576  44.307692\n",
       "\n",
       "[529 rows x 4 columns]"
      ]
     },
     "execution_count": 55,
     "metadata": {},
     "output_type": "execute_result"
    }
   ],
   "source": [
    "long_outcoming = long_outcoming[long_outcoming['calls_count']>10]\n",
    "long_outcoming['mean_wait'] = long_outcoming['total_call_duration']/long_outcoming['calls_count']\n",
    "long_outcoming.sort_values(by='mean_wait')"
   ]
  },
  {
   "cell_type": "markdown",
   "id": "1523a766",
   "metadata": {},
   "source": [
    "Самое большое среднее время ожидания - 44 секунды, не выглядит как что-то ненормальное. В данной таблице неэффективных сотрудников по такому параметру нет, но проверку можно оставить на будущее."
   ]
  },
  {
   "cell_type": "markdown",
   "id": "be7be021",
   "metadata": {},
   "source": [
    "### Итоговый лист неэффективных сотрудников"
   ]
  },
  {
   "cell_type": "code",
   "execution_count": 56,
   "id": "9f9aa8e7",
   "metadata": {},
   "outputs": [
    {
     "data": {
      "text/plain": [
       "array([879896., 880020., 880022., 880240., 881278., 882476., 882478.,\n",
       "       884402., 885682., 886892., 887278., 887280., 888406., 890232.,\n",
       "       890234., 891152., 891156., 891158., 891162., 891166., 891192.,\n",
       "       891250., 891416., 891744., 891746., 891900., 891906., 891918.,\n",
       "       893400., 894662., 895266., 896018., 896538., 897894., 898558.,\n",
       "       898560., 898902., 899892., 899898., 899900., 899972., 900192.,\n",
       "       900194., 900792., 901350., 901498., 901996., 902910., 903312.,\n",
       "       903512., 905300., 905472., 905478., 905570., 905574., 905840.,\n",
       "       905862., 905934., 906070., 906076., 906394., 906396., 906400.,\n",
       "       906402., 906404., 906406., 906408., 906410., 906412., 906416.,\n",
       "       906420., 907504., 907952., 907964., 907970., 907982., 907986.,\n",
       "       907994., 908834., 908958., 908984., 909134., 909768., 910902.,\n",
       "       910926., 910958., 911102., 911140., 911142., 912684., 913984.,\n",
       "       914240., 914256., 914266., 914272., 914348., 914626., 915614.,\n",
       "       916596., 917890., 918888., 918958., 918988., 919164., 919166.,\n",
       "       919190., 919204., 919206., 919214., 919418., 919536., 919552.,\n",
       "       919554., 919790., 919792., 919794., 919910., 920874., 920982.,\n",
       "       921104., 921306., 921320., 921814., 922356., 922486., 923254.,\n",
       "       924370., 924928., 924932., 925134., 926872., 927070., 928228.,\n",
       "       929340., 929876., 929884., 930186., 930242., 930510., 930524.,\n",
       "       930908., 930910., 932088., 932246., 933452., 933832., 933996.,\n",
       "       934076., 934098., 934424., 934430., 934432., 935246., 935956.,\n",
       "       937362., 937366., 937368., 937678., 937716., 937732., 937742.,\n",
       "       937750., 937762., 937770., 937772., 937778., 937782., 937786.,\n",
       "       937812., 937856., 937870., 937872., 937900., 937956., 937984.,\n",
       "       938022., 939236., 939478., 939716., 939718., 939736., 940436.,\n",
       "       940440., 940568., 940588., 940610., 940630., 940782., 940802.,\n",
       "       940814., 940828., 940848., 942174., 944210., 944216., 944218.,\n",
       "       944220., 944222., 944226., 944228., 944246., 944474., 944648.,\n",
       "       945074., 945274., 945898., 946072., 946468., 947480., 947590.,\n",
       "       947596., 947598., 947600., 947610., 947612., 947636., 947644.,\n",
       "       950444., 951118., 951332., 951492., 951506., 951508., 951650.,\n",
       "       952196., 952292., 952460., 952462., 952656., 952678., 952916.,\n",
       "       953458., 953460., 955164., 956292., 956298., 957022., 958440.,\n",
       "       958444., 958460., 958470., 958472., 958672., 960670., 961552.,\n",
       "       966158., 969268., 969286., 969288., 972408., 973286.])"
      ]
     },
     "execution_count": 56,
     "metadata": {},
     "output_type": "execute_result"
    }
   ],
   "source": [
    "bad_list_final = np.append(bad_list, bad_list1)\n",
    "bad_list_final = np.append(bad_list_final, bad_list2)\n",
    "bad_list_final = np.append(bad_list_final, bad_list3)\n",
    "# Наверняка в списках по разным критериям попали одни и те же люди - удалим повторы\n",
    "bad_list_final = np.unique(bad_list_final)\n",
    "bad_list_final"
   ]
  },
  {
   "cell_type": "code",
   "execution_count": 57,
   "id": "f0732957",
   "metadata": {},
   "outputs": [
    {
     "name": "stdout",
     "output_type": "stream",
     "text": [
      "Всего операторов: 1091\n",
      "Неэффективных операторов: 251\n",
      "Процент неэффективных операторов: 23.006416131989003\n"
     ]
    }
   ],
   "source": [
    "print('Всего операторов:', data['operator_id'].nunique())\n",
    "print('Неэффективных операторов:', len(bad_list_final))\n",
    "print('Процент неэффективных операторов:', len(bad_list_final)/data['operator_id'].nunique()*100)"
   ]
  },
  {
   "cell_type": "markdown",
   "id": "667fec95",
   "metadata": {},
   "source": [
    "Посмотрим в разрезе колл-центров"
   ]
  },
  {
   "cell_type": "code",
   "execution_count": 58,
   "id": "74039d82",
   "metadata": {},
   "outputs": [
    {
     "data": {
      "text/html": [
       "<div>\n",
       "<style scoped>\n",
       "    .dataframe tbody tr th:only-of-type {\n",
       "        vertical-align: middle;\n",
       "    }\n",
       "\n",
       "    .dataframe tbody tr th {\n",
       "        vertical-align: top;\n",
       "    }\n",
       "\n",
       "    .dataframe thead th {\n",
       "        text-align: right;\n",
       "    }\n",
       "</style>\n",
       "<table border=\"1\" class=\"dataframe\">\n",
       "  <thead>\n",
       "    <tr style=\"text-align: right;\">\n",
       "      <th></th>\n",
       "      <th>user_id</th>\n",
       "      <th>operator_id</th>\n",
       "    </tr>\n",
       "  </thead>\n",
       "  <tbody>\n",
       "    <tr>\n",
       "      <th>0</th>\n",
       "      <td>166377</td>\n",
       "      <td>880022.0</td>\n",
       "    </tr>\n",
       "    <tr>\n",
       "      <th>1</th>\n",
       "      <td>166377</td>\n",
       "      <td>880020.0</td>\n",
       "    </tr>\n",
       "    <tr>\n",
       "      <th>6</th>\n",
       "      <td>166377</td>\n",
       "      <td>881278.0</td>\n",
       "    </tr>\n",
       "    <tr>\n",
       "      <th>482</th>\n",
       "      <td>166391</td>\n",
       "      <td>882476.0</td>\n",
       "    </tr>\n",
       "    <tr>\n",
       "      <th>483</th>\n",
       "      <td>166391</td>\n",
       "      <td>882478.0</td>\n",
       "    </tr>\n",
       "    <tr>\n",
       "      <th>...</th>\n",
       "      <td>...</td>\n",
       "      <td>...</td>\n",
       "    </tr>\n",
       "    <tr>\n",
       "      <th>41060</th>\n",
       "      <td>168412</td>\n",
       "      <td>953460.0</td>\n",
       "    </tr>\n",
       "    <tr>\n",
       "      <th>41365</th>\n",
       "      <td>168481</td>\n",
       "      <td>956292.0</td>\n",
       "    </tr>\n",
       "    <tr>\n",
       "      <th>41374</th>\n",
       "      <td>168500</td>\n",
       "      <td>952196.0</td>\n",
       "    </tr>\n",
       "    <tr>\n",
       "      <th>41399</th>\n",
       "      <td>168579</td>\n",
       "      <td>973286.0</td>\n",
       "    </tr>\n",
       "    <tr>\n",
       "      <th>41425</th>\n",
       "      <td>168601</td>\n",
       "      <td>952916.0</td>\n",
       "    </tr>\n",
       "  </tbody>\n",
       "</table>\n",
       "<p>251 rows × 2 columns</p>\n",
       "</div>"
      ],
      "text/plain": [
       "       user_id  operator_id\n",
       "0       166377     880022.0\n",
       "1       166377     880020.0\n",
       "6       166377     881278.0\n",
       "482     166391     882476.0\n",
       "483     166391     882478.0\n",
       "...        ...          ...\n",
       "41060   168412     953460.0\n",
       "41365   168481     956292.0\n",
       "41374   168500     952196.0\n",
       "41399   168579     973286.0\n",
       "41425   168601     952916.0\n",
       "\n",
       "[251 rows x 2 columns]"
      ]
     },
     "execution_count": 58,
     "metadata": {},
     "output_type": "execute_result"
    }
   ],
   "source": [
    "company = data[['user_id', 'operator_id']].drop_duplicates()\n",
    "company = company[company['operator_id'].isin(bad_list_final)]\n",
    "company"
   ]
  },
  {
   "cell_type": "code",
   "execution_count": 59,
   "id": "7d863616",
   "metadata": {},
   "outputs": [
    {
     "name": "stdout",
     "output_type": "stream",
     "text": [
      "Всего компаний: 290\n",
      "Всего компаний с неэффективными сотрудниками: 103\n",
      "Процент компаний с неэффективными сотрудниками: 35.51724137931034\n"
     ]
    }
   ],
   "source": [
    "print('Всего компаний:', data['user_id'].nunique())\n",
    "print('Всего компаний с неэффективными сотрудниками:', company['user_id'].nunique())\n",
    "print('Процент компаний с неэффективными сотрудниками:', company['user_id'].nunique()/data['user_id'].nunique()*100)"
   ]
  },
  {
   "cell_type": "code",
   "execution_count": 60,
   "id": "d8dd955e",
   "metadata": {},
   "outputs": [
    {
     "data": {
      "text/plain": [
       "168187    19\n",
       "166520    12\n",
       "168062    11\n",
       "166916    11\n",
       "168252    11\n",
       "          ..\n",
       "167009     1\n",
       "167286     1\n",
       "167003     1\n",
       "168025     1\n",
       "167275     1\n",
       "Name: user_id, Length: 103, dtype: int64"
      ]
     },
     "execution_count": 60,
     "metadata": {},
     "output_type": "execute_result"
    }
   ],
   "source": [
    "# В каких компаниях наибольшее количество неэффективных сотрудников\n",
    "company['user_id'].value_counts()"
   ]
  },
  {
   "cell_type": "code",
   "execution_count": 61,
   "id": "94ef5cc1",
   "metadata": {},
   "outputs": [
    {
     "data": {
      "text/html": [
       "<div>\n",
       "<style scoped>\n",
       "    .dataframe tbody tr th:only-of-type {\n",
       "        vertical-align: middle;\n",
       "    }\n",
       "\n",
       "    .dataframe tbody tr th {\n",
       "        vertical-align: top;\n",
       "    }\n",
       "\n",
       "    .dataframe thead th {\n",
       "        text-align: right;\n",
       "    }\n",
       "</style>\n",
       "<table border=\"1\" class=\"dataframe\">\n",
       "  <thead>\n",
       "    <tr style=\"text-align: right;\">\n",
       "      <th></th>\n",
       "      <th>user_id</th>\n",
       "      <th>operator_id</th>\n",
       "    </tr>\n",
       "  </thead>\n",
       "  <tbody>\n",
       "    <tr>\n",
       "      <th>0</th>\n",
       "      <td>166377</td>\n",
       "      <td>880022.0</td>\n",
       "    </tr>\n",
       "    <tr>\n",
       "      <th>1</th>\n",
       "      <td>166377</td>\n",
       "      <td>880020.0</td>\n",
       "    </tr>\n",
       "    <tr>\n",
       "      <th>6</th>\n",
       "      <td>166377</td>\n",
       "      <td>881278.0</td>\n",
       "    </tr>\n",
       "    <tr>\n",
       "      <th>10</th>\n",
       "      <td>166377</td>\n",
       "      <td>880028.0</td>\n",
       "    </tr>\n",
       "    <tr>\n",
       "      <th>11</th>\n",
       "      <td>166377</td>\n",
       "      <td>880026.0</td>\n",
       "    </tr>\n",
       "    <tr>\n",
       "      <th>...</th>\n",
       "      <td>...</td>\n",
       "      <td>...</td>\n",
       "    </tr>\n",
       "    <tr>\n",
       "      <th>41374</th>\n",
       "      <td>168500</td>\n",
       "      <td>952196.0</td>\n",
       "    </tr>\n",
       "    <tr>\n",
       "      <th>41388</th>\n",
       "      <td>168579</td>\n",
       "      <td>954810.0</td>\n",
       "    </tr>\n",
       "    <tr>\n",
       "      <th>41399</th>\n",
       "      <td>168579</td>\n",
       "      <td>973286.0</td>\n",
       "    </tr>\n",
       "    <tr>\n",
       "      <th>41422</th>\n",
       "      <td>168601</td>\n",
       "      <td>952914.0</td>\n",
       "    </tr>\n",
       "    <tr>\n",
       "      <th>41425</th>\n",
       "      <td>168601</td>\n",
       "      <td>952916.0</td>\n",
       "    </tr>\n",
       "  </tbody>\n",
       "</table>\n",
       "<p>692 rows × 2 columns</p>\n",
       "</div>"
      ],
      "text/plain": [
       "       user_id  operator_id\n",
       "0       166377     880022.0\n",
       "1       166377     880020.0\n",
       "6       166377     881278.0\n",
       "10      166377     880028.0\n",
       "11      166377     880026.0\n",
       "...        ...          ...\n",
       "41374   168500     952196.0\n",
       "41388   168579     954810.0\n",
       "41399   168579     973286.0\n",
       "41422   168601     952914.0\n",
       "41425   168601     952916.0\n",
       "\n",
       "[692 rows x 2 columns]"
      ]
     },
     "execution_count": 61,
     "metadata": {},
     "output_type": "execute_result"
    }
   ],
   "source": [
    "# Сколько всего сотрудников в тех компаниях, где есть неэффективные сотрудники\n",
    "data[data['user_id'].isin(company['user_id'].unique())][['user_id', 'operator_id']].drop_duplicates()"
   ]
  },
  {
   "cell_type": "markdown",
   "metadata": {},
   "source": [
    "### Промежуточный вывод\n",
    "По тем числовым границам, которые мы определили, был найден 251 неэффективный сотрудник, что составляет 23% от суммарного штата операторов у клиентов. \n",
    "Больше трети клиентов имеют в своем штате неэффективных сотрудников."
   ]
  },
  {
   "cell_type": "markdown",
   "id": "f4154694",
   "metadata": {},
   "source": [
    "<div id='4'/>\n",
    "\n",
    "## Проверка статистических гипотез"
   ]
  },
  {
   "cell_type": "markdown",
   "metadata": {},
   "source": [
    "### Сравнение тарифов"
   ]
  },
  {
   "cell_type": "markdown",
   "id": "246ae58f",
   "metadata": {},
   "source": [
    "В ходе определения эффективности сотрудников по времени ответа, было предположение, что все компании стремятся к максимально быстрым ответам на звонки.  Проверим, существет ли разница в среднем времени ожидания ответа в колл-центрах на трех тарифах, которые представленны в данных.\n",
    "\n",
    "\n",
    "H_0: Различий в среднем времени ответа между компаниями на 3 тарифах нет\n",
    "\n",
    "H_1: Различия в среднем времени ответа между компаниями на 3 тарифах есть"
   ]
  },
  {
   "cell_type": "code",
   "execution_count": 62,
   "id": "c3345ffe",
   "metadata": {},
   "outputs": [
    {
     "data": {
      "text/html": [
       "<div>\n",
       "<style scoped>\n",
       "    .dataframe tbody tr th:only-of-type {\n",
       "        vertical-align: middle;\n",
       "    }\n",
       "\n",
       "    .dataframe tbody tr th {\n",
       "        vertical-align: top;\n",
       "    }\n",
       "\n",
       "    .dataframe thead th {\n",
       "        text-align: right;\n",
       "    }\n",
       "</style>\n",
       "<table border=\"1\" class=\"dataframe\">\n",
       "  <thead>\n",
       "    <tr style=\"text-align: right;\">\n",
       "      <th></th>\n",
       "      <th>user_id</th>\n",
       "      <th>calls_count</th>\n",
       "      <th>waiting_time</th>\n",
       "      <th>tariff_plan</th>\n",
       "    </tr>\n",
       "  </thead>\n",
       "  <tbody>\n",
       "    <tr>\n",
       "      <th>0</th>\n",
       "      <td>166391</td>\n",
       "      <td>1</td>\n",
       "      <td>11</td>\n",
       "      <td>C</td>\n",
       "    </tr>\n",
       "    <tr>\n",
       "      <th>1</th>\n",
       "      <td>166391</td>\n",
       "      <td>2</td>\n",
       "      <td>63</td>\n",
       "      <td>C</td>\n",
       "    </tr>\n",
       "    <tr>\n",
       "      <th>2</th>\n",
       "      <td>166391</td>\n",
       "      <td>1</td>\n",
       "      <td>13</td>\n",
       "      <td>C</td>\n",
       "    </tr>\n",
       "    <tr>\n",
       "      <th>3</th>\n",
       "      <td>166391</td>\n",
       "      <td>1</td>\n",
       "      <td>20</td>\n",
       "      <td>C</td>\n",
       "    </tr>\n",
       "    <tr>\n",
       "      <th>4</th>\n",
       "      <td>166391</td>\n",
       "      <td>1</td>\n",
       "      <td>64</td>\n",
       "      <td>C</td>\n",
       "    </tr>\n",
       "    <tr>\n",
       "      <th>...</th>\n",
       "      <td>...</td>\n",
       "      <td>...</td>\n",
       "      <td>...</td>\n",
       "      <td>...</td>\n",
       "    </tr>\n",
       "    <tr>\n",
       "      <th>4428</th>\n",
       "      <td>168598</td>\n",
       "      <td>1</td>\n",
       "      <td>5</td>\n",
       "      <td>C</td>\n",
       "    </tr>\n",
       "    <tr>\n",
       "      <th>4429</th>\n",
       "      <td>168598</td>\n",
       "      <td>1</td>\n",
       "      <td>7</td>\n",
       "      <td>C</td>\n",
       "    </tr>\n",
       "    <tr>\n",
       "      <th>4430</th>\n",
       "      <td>168598</td>\n",
       "      <td>4</td>\n",
       "      <td>26</td>\n",
       "      <td>C</td>\n",
       "    </tr>\n",
       "    <tr>\n",
       "      <th>4431</th>\n",
       "      <td>168598</td>\n",
       "      <td>2</td>\n",
       "      <td>11</td>\n",
       "      <td>C</td>\n",
       "    </tr>\n",
       "    <tr>\n",
       "      <th>4432</th>\n",
       "      <td>168598</td>\n",
       "      <td>7</td>\n",
       "      <td>43</td>\n",
       "      <td>C</td>\n",
       "    </tr>\n",
       "  </tbody>\n",
       "</table>\n",
       "<p>4433 rows × 4 columns</p>\n",
       "</div>"
      ],
      "text/plain": [
       "      user_id  calls_count  waiting_time tariff_plan\n",
       "0      166391            1            11           C\n",
       "1      166391            2            63           C\n",
       "2      166391            1            13           C\n",
       "3      166391            1            20           C\n",
       "4      166391            1            64           C\n",
       "...       ...          ...           ...         ...\n",
       "4428   168598            1             5           C\n",
       "4429   168598            1             7           C\n",
       "4430   168598            4            26           C\n",
       "4431   168598            2            11           C\n",
       "4432   168598            7            43           C\n",
       "\n",
       "[4433 rows x 4 columns]"
      ]
     },
     "execution_count": 62,
     "metadata": {},
     "output_type": "execute_result"
    }
   ],
   "source": [
    "# Датафрейм с входящими вызовами\n",
    "incoming_test = incoming.copy().merge(clients, how = 'left', on = 'user_id')[['user_id', 'calls_count', 'waiting_time', 'tariff_plan']]\n",
    "incoming_test"
   ]
  },
  {
   "cell_type": "code",
   "execution_count": 63,
   "id": "bbce2d0e",
   "metadata": {},
   "outputs": [
    {
     "data": {
      "text/html": [
       "<div>\n",
       "<style scoped>\n",
       "    .dataframe tbody tr th:only-of-type {\n",
       "        vertical-align: middle;\n",
       "    }\n",
       "\n",
       "    .dataframe tbody tr th {\n",
       "        vertical-align: top;\n",
       "    }\n",
       "\n",
       "    .dataframe thead th {\n",
       "        text-align: right;\n",
       "    }\n",
       "</style>\n",
       "<table border=\"1\" class=\"dataframe\">\n",
       "  <thead>\n",
       "    <tr style=\"text-align: right;\">\n",
       "      <th></th>\n",
       "      <th>user_id</th>\n",
       "      <th>tariff_plan</th>\n",
       "      <th>calls_count</th>\n",
       "      <th>waiting_time</th>\n",
       "      <th>mean_wait</th>\n",
       "    </tr>\n",
       "  </thead>\n",
       "  <tbody>\n",
       "    <tr>\n",
       "      <th>0</th>\n",
       "      <td>166391</td>\n",
       "      <td>C</td>\n",
       "      <td>6</td>\n",
       "      <td>171</td>\n",
       "      <td>28.500000</td>\n",
       "    </tr>\n",
       "    <tr>\n",
       "      <th>1</th>\n",
       "      <td>166392</td>\n",
       "      <td>C</td>\n",
       "      <td>102</td>\n",
       "      <td>3080</td>\n",
       "      <td>30.196078</td>\n",
       "    </tr>\n",
       "    <tr>\n",
       "      <th>2</th>\n",
       "      <td>166399</td>\n",
       "      <td>C</td>\n",
       "      <td>11</td>\n",
       "      <td>168</td>\n",
       "      <td>15.272727</td>\n",
       "    </tr>\n",
       "    <tr>\n",
       "      <th>3</th>\n",
       "      <td>166428</td>\n",
       "      <td>B</td>\n",
       "      <td>126</td>\n",
       "      <td>1978</td>\n",
       "      <td>15.698413</td>\n",
       "    </tr>\n",
       "    <tr>\n",
       "      <th>4</th>\n",
       "      <td>166481</td>\n",
       "      <td>A</td>\n",
       "      <td>1</td>\n",
       "      <td>6</td>\n",
       "      <td>6.000000</td>\n",
       "    </tr>\n",
       "    <tr>\n",
       "      <th>...</th>\n",
       "      <td>...</td>\n",
       "      <td>...</td>\n",
       "      <td>...</td>\n",
       "      <td>...</td>\n",
       "      <td>...</td>\n",
       "    </tr>\n",
       "    <tr>\n",
       "      <th>122</th>\n",
       "      <td>168562</td>\n",
       "      <td>B</td>\n",
       "      <td>6</td>\n",
       "      <td>101</td>\n",
       "      <td>16.833333</td>\n",
       "    </tr>\n",
       "    <tr>\n",
       "      <th>123</th>\n",
       "      <td>168575</td>\n",
       "      <td>C</td>\n",
       "      <td>8</td>\n",
       "      <td>100</td>\n",
       "      <td>12.500000</td>\n",
       "    </tr>\n",
       "    <tr>\n",
       "      <th>124</th>\n",
       "      <td>168579</td>\n",
       "      <td>B</td>\n",
       "      <td>39</td>\n",
       "      <td>424</td>\n",
       "      <td>10.871795</td>\n",
       "    </tr>\n",
       "    <tr>\n",
       "      <th>125</th>\n",
       "      <td>168583</td>\n",
       "      <td>B</td>\n",
       "      <td>22</td>\n",
       "      <td>305</td>\n",
       "      <td>13.863636</td>\n",
       "    </tr>\n",
       "    <tr>\n",
       "      <th>126</th>\n",
       "      <td>168598</td>\n",
       "      <td>C</td>\n",
       "      <td>21</td>\n",
       "      <td>151</td>\n",
       "      <td>7.190476</td>\n",
       "    </tr>\n",
       "  </tbody>\n",
       "</table>\n",
       "<p>127 rows × 5 columns</p>\n",
       "</div>"
      ],
      "text/plain": [
       "     user_id tariff_plan  calls_count  waiting_time  mean_wait\n",
       "0     166391           C            6           171  28.500000\n",
       "1     166392           C          102          3080  30.196078\n",
       "2     166399           C           11           168  15.272727\n",
       "3     166428           B          126          1978  15.698413\n",
       "4     166481           A            1             6   6.000000\n",
       "..       ...         ...          ...           ...        ...\n",
       "122   168562           B            6           101  16.833333\n",
       "123   168575           C            8           100  12.500000\n",
       "124   168579           B           39           424  10.871795\n",
       "125   168583           B           22           305  13.863636\n",
       "126   168598           C           21           151   7.190476\n",
       "\n",
       "[127 rows x 5 columns]"
      ]
     },
     "execution_count": 63,
     "metadata": {},
     "output_type": "execute_result"
    }
   ],
   "source": [
    "incoming_test = incoming_test.groupby(by=['user_id', 'tariff_plan']).sum().reset_index()\n",
    "incoming_test['mean_wait'] = incoming_test['waiting_time']/incoming_test['calls_count']\n",
    "incoming_test"
   ]
  },
  {
   "cell_type": "code",
   "execution_count": 64,
   "id": "605fbea1",
   "metadata": {},
   "outputs": [],
   "source": [
    "A = incoming_test[incoming_test['tariff_plan']=='A']['mean_wait']\n",
    "B = incoming_test[incoming_test['tariff_plan']=='B']['mean_wait']\n",
    "C = incoming_test[incoming_test['tariff_plan']=='C']['mean_wait']"
   ]
  },
  {
   "cell_type": "markdown",
   "metadata": {},
   "source": [
    "Для проверки гипотезы, можно сделать три попарных проверки гипотез следующего типа:\n",
    "\n",
    "H_0: Различий в среднем времени ответа между компаниями на 2 тарифах нет\n",
    "\n",
    "H_1: Различия в среднем времени ответа между компаниями на 2 тарифах есть\n",
    "\n",
    "Если все три нулевых гипотез не получится опровергнуть, то не получится опревергнуть и основную.\n",
    "Если хотя бы одну нулевую гипотезу получится опровергнуть, то опровергнется и основная."
   ]
  },
  {
   "cell_type": "markdown",
   "id": "645b9145",
   "metadata": {},
   "source": [
    "Выборка меньше чем из 100 элементов - возьмем уровень значимости 0.05 и применим z-тест"
   ]
  },
  {
   "cell_type": "code",
   "execution_count": 65,
   "id": "2d11c2df",
   "metadata": {},
   "outputs": [
    {
     "name": "stdout",
     "output_type": "stream",
     "text": [
      "(-0.4775495311257629, 0.6329708592311722)\n",
      "(-0.24157441179212108, 0.8091099513353294)\n",
      "(0.6812309051751039, 0.495725395497311)\n"
     ]
    }
   ],
   "source": [
    "print(ztest(A, B, value=0.05))\n",
    "print(ztest(B, C, value=0.05))\n",
    "print(ztest(C, A, value=0.05))"
   ]
  },
  {
   "cell_type": "markdown",
   "id": "11b76793",
   "metadata": {},
   "source": [
    "Значение pvalue во всех трех случаях значительно превосходит 0.05.\n",
    "\n",
    "Не получилось отвергнуть нулевую гипотезу, - различий в среднем времени ответа между компаниями на тарифах A, B и C нет."
   ]
  },
  {
   "cell_type": "markdown",
   "metadata": {},
   "source": [
    "### Связь количества звонков с процентом пропущенных звонков"
   ]
  },
  {
   "cell_type": "markdown",
   "metadata": {},
   "source": [
    "Важно понять, есть ли связь между количеством входящих звонков в целом и количеством пропущенных звонков.\n",
    "Если она есть, то имеет смысл установить некоторый барьер по количеству звонков на оператора, чтобы критерии эффективности были более правильными.\n",
    "Если связи нет, то такой барьер ставить не надо.\n",
    "\n",
    "\n",
    "H_0: Между количеством пропущенных вызовов и количеством входящих вызовов в целом нет зависимости\n",
    "\n",
    "H_1: Между количеством пропущенных вызовов и количеством входящих вызовов в целом есть зависимость"
   ]
  },
  {
   "cell_type": "code",
   "execution_count": 66,
   "metadata": {},
   "outputs": [
    {
     "data": {
      "text/html": [
       "<div>\n",
       "<style scoped>\n",
       "    .dataframe tbody tr th:only-of-type {\n",
       "        vertical-align: middle;\n",
       "    }\n",
       "\n",
       "    .dataframe tbody tr th {\n",
       "        vertical-align: top;\n",
       "    }\n",
       "\n",
       "    .dataframe thead th {\n",
       "        text-align: right;\n",
       "    }\n",
       "</style>\n",
       "<table border=\"1\" class=\"dataframe\">\n",
       "  <thead>\n",
       "    <tr style=\"text-align: right;\">\n",
       "      <th></th>\n",
       "      <th>operator_id</th>\n",
       "      <th>not_missed</th>\n",
       "      <th>missed</th>\n",
       "      <th>sum</th>\n",
       "      <th>missed_percent</th>\n",
       "    </tr>\n",
       "  </thead>\n",
       "  <tbody>\n",
       "    <tr>\n",
       "      <th>0</th>\n",
       "      <td>882476.0</td>\n",
       "      <td>3.0</td>\n",
       "      <td>0.0</td>\n",
       "      <td>3.0</td>\n",
       "      <td>0.000000</td>\n",
       "    </tr>\n",
       "    <tr>\n",
       "      <th>1</th>\n",
       "      <td>882478.0</td>\n",
       "      <td>3.0</td>\n",
       "      <td>0.0</td>\n",
       "      <td>3.0</td>\n",
       "      <td>0.000000</td>\n",
       "    </tr>\n",
       "    <tr>\n",
       "      <th>2</th>\n",
       "      <td>882680.0</td>\n",
       "      <td>96.0</td>\n",
       "      <td>3.0</td>\n",
       "      <td>99.0</td>\n",
       "      <td>3.030303</td>\n",
       "    </tr>\n",
       "    <tr>\n",
       "      <th>3</th>\n",
       "      <td>884294.0</td>\n",
       "      <td>1.0</td>\n",
       "      <td>0.0</td>\n",
       "      <td>1.0</td>\n",
       "      <td>0.000000</td>\n",
       "    </tr>\n",
       "    <tr>\n",
       "      <th>4</th>\n",
       "      <td>886674.0</td>\n",
       "      <td>11.0</td>\n",
       "      <td>0.0</td>\n",
       "      <td>11.0</td>\n",
       "      <td>0.000000</td>\n",
       "    </tr>\n",
       "    <tr>\n",
       "      <th>...</th>\n",
       "      <td>...</td>\n",
       "      <td>...</td>\n",
       "      <td>...</td>\n",
       "      <td>...</td>\n",
       "      <td>...</td>\n",
       "    </tr>\n",
       "    <tr>\n",
       "      <th>271</th>\n",
       "      <td>969294.0</td>\n",
       "      <td>84.0</td>\n",
       "      <td>0.0</td>\n",
       "      <td>84.0</td>\n",
       "      <td>0.000000</td>\n",
       "    </tr>\n",
       "    <tr>\n",
       "      <th>272</th>\n",
       "      <td>971100.0</td>\n",
       "      <td>3.0</td>\n",
       "      <td>0.0</td>\n",
       "      <td>3.0</td>\n",
       "      <td>0.000000</td>\n",
       "    </tr>\n",
       "    <tr>\n",
       "      <th>273</th>\n",
       "      <td>971102.0</td>\n",
       "      <td>76.0</td>\n",
       "      <td>0.0</td>\n",
       "      <td>76.0</td>\n",
       "      <td>0.000000</td>\n",
       "    </tr>\n",
       "    <tr>\n",
       "      <th>274</th>\n",
       "      <td>971354.0</td>\n",
       "      <td>6.0</td>\n",
       "      <td>0.0</td>\n",
       "      <td>6.0</td>\n",
       "      <td>0.000000</td>\n",
       "    </tr>\n",
       "    <tr>\n",
       "      <th>275</th>\n",
       "      <td>973286.0</td>\n",
       "      <td>2.0</td>\n",
       "      <td>0.0</td>\n",
       "      <td>2.0</td>\n",
       "      <td>0.000000</td>\n",
       "    </tr>\n",
       "  </tbody>\n",
       "</table>\n",
       "<p>276 rows × 5 columns</p>\n",
       "</div>"
      ],
      "text/plain": [
       "     operator_id  not_missed  missed   sum  missed_percent\n",
       "0       882476.0         3.0     0.0   3.0        0.000000\n",
       "1       882478.0         3.0     0.0   3.0        0.000000\n",
       "2       882680.0        96.0     3.0  99.0        3.030303\n",
       "3       884294.0         1.0     0.0   1.0        0.000000\n",
       "4       886674.0        11.0     0.0  11.0        0.000000\n",
       "..           ...         ...     ...   ...             ...\n",
       "271     969294.0        84.0     0.0  84.0        0.000000\n",
       "272     971100.0         3.0     0.0   3.0        0.000000\n",
       "273     971102.0        76.0     0.0  76.0        0.000000\n",
       "274     971354.0         6.0     0.0   6.0        0.000000\n",
       "275     973286.0         2.0     0.0   2.0        0.000000\n",
       "\n",
       "[276 rows x 5 columns]"
      ]
     },
     "execution_count": 66,
     "metadata": {},
     "output_type": "execute_result"
    }
   ],
   "source": [
    "part_miss"
   ]
  },
  {
   "cell_type": "markdown",
   "metadata": {},
   "source": [
    "Выборка из 276 операторов, посчитаем корреляцию Пирсона с уровнем значимости 0.01"
   ]
  },
  {
   "cell_type": "code",
   "execution_count": 67,
   "metadata": {},
   "outputs": [
    {
     "data": {
      "text/plain": [
       "PearsonRResult(statistic=-0.02281045518884566, pvalue=0.7059618419737279)"
      ]
     },
     "execution_count": 67,
     "metadata": {},
     "output_type": "execute_result"
    }
   ],
   "source": [
    "stats.pearsonr(part_miss['sum'], part_miss['missed_percent'])"
   ]
  },
  {
   "cell_type": "markdown",
   "metadata": {},
   "source": [
    "Значение pvalue значительно превосходит 0.01.\n",
    "\n",
    "Не получилось отвергнуть нулевую гипотезу, - Между количеством пропущенных вызовов и количеством входящих вызовов в целом нет зависимости.\n",
    "Следовательно нет необходимости вводить ограничения на количество вызовов на оператора."
   ]
  },
  {
   "cell_type": "markdown",
   "id": "9ec8c0d0",
   "metadata": {},
   "source": [
    "<div id='5'/>\n",
    "\n",
    "## Выводы и рекомендации"
   ]
  },
  {
   "cell_type": "markdown",
   "id": "f823c0ad",
   "metadata": {},
   "source": [
    "В результате данного исследования, было определено 5 критериев, по которым можно определять эффективность сотрудников колл-центра. 3 из них относятся к входящей линии, 2 к исходящей.\n",
    "\n",
    "По тем числовым границам, которые мы определили, был найден 251 неэффективный сотрудник, что составляет 23% от суммарного штата операторов у клиентов. \n",
    "Больше трети клиентов имеют в своем штате неэффективных сотрудников.\n",
    "\n",
    "Исходя из этого, можно сделать вывод, что система мониторинга операторов может быть интересна клиентам, поскольку уже на данном этапе указывает на значительную часть неэффективных сотрудников.\n",
    "\n",
    "В целом, численные критерии эффективности будут подходить любому колл-центру, но более правильным будет дать возможность клиентам самим устанавливать границы (например, по времени ответа). Несмотря на то, что большинство клиентов имеет примерно одинаковые показатели, в частных случаях могут быть изменения.\n",
    "Например, крупной компании с большим штатом операторов может быть важно установить более качественный уровень обслуживания, то есть поставить более строгие критерии для сотрудников, а значит данная система будет еще более актуальна и востребована."
   ]
  },
  {
   "cell_type": "code",
   "execution_count": null,
   "metadata": {},
   "outputs": [],
   "source": []
  }
 ],
 "metadata": {
  "ExecuteTimeLog": [
   {
    "duration": 411,
    "start_time": "2023-01-11T13:50:58.460Z"
   },
   {
    "duration": 133,
    "start_time": "2023-01-11T13:50:58.873Z"
   },
   {
    "duration": 40,
    "start_time": "2023-01-11T13:50:59.008Z"
   },
   {
    "duration": 28,
    "start_time": "2023-01-11T13:50:59.050Z"
   },
   {
    "duration": 20,
    "start_time": "2023-01-11T13:50:59.080Z"
   },
   {
    "duration": 93,
    "start_time": "2023-01-11T13:50:59.101Z"
   },
   {
    "duration": 13,
    "start_time": "2023-01-11T13:50:59.195Z"
   },
   {
    "duration": 23,
    "start_time": "2023-01-11T13:50:59.210Z"
   },
   {
    "duration": 6,
    "start_time": "2023-01-11T13:58:41.103Z"
   },
   {
    "duration": 5,
    "start_time": "2023-01-11T14:01:09.492Z"
   },
   {
    "duration": 50,
    "start_time": "2023-01-11T14:09:45.469Z"
   },
   {
    "duration": 96,
    "start_time": "2023-01-11T14:10:53.135Z"
   },
   {
    "duration": 14,
    "start_time": "2023-01-11T14:11:38.685Z"
   },
   {
    "duration": 13,
    "start_time": "2023-01-11T14:12:18.318Z"
   },
   {
    "duration": 5,
    "start_time": "2023-01-11T14:15:42.178Z"
   },
   {
    "duration": 7,
    "start_time": "2023-01-11T14:16:37.739Z"
   },
   {
    "duration": 9,
    "start_time": "2023-01-11T14:16:56.369Z"
   },
   {
    "duration": 12,
    "start_time": "2023-01-11T14:17:23.938Z"
   },
   {
    "duration": 10,
    "start_time": "2023-01-11T14:17:54.420Z"
   },
   {
    "duration": 14,
    "start_time": "2023-01-11T14:18:08.266Z"
   },
   {
    "duration": 14,
    "start_time": "2023-01-11T14:26:28.435Z"
   },
   {
    "duration": 15,
    "start_time": "2023-01-11T14:38:52.425Z"
   },
   {
    "duration": 15,
    "start_time": "2023-01-11T14:40:02.559Z"
   },
   {
    "duration": 12,
    "start_time": "2023-01-11T14:43:52.007Z"
   },
   {
    "duration": 13,
    "start_time": "2023-01-11T14:44:35.582Z"
   },
   {
    "duration": 462,
    "start_time": "2023-01-11T17:14:21.094Z"
   },
   {
    "duration": 71,
    "start_time": "2023-01-11T17:14:21.559Z"
   },
   {
    "duration": 46,
    "start_time": "2023-01-11T17:14:21.632Z"
   },
   {
    "duration": 21,
    "start_time": "2023-01-11T17:14:21.680Z"
   },
   {
    "duration": 18,
    "start_time": "2023-01-11T17:14:21.703Z"
   },
   {
    "duration": 26,
    "start_time": "2023-01-11T17:14:21.735Z"
   },
   {
    "duration": 14,
    "start_time": "2023-01-11T17:14:21.762Z"
   },
   {
    "duration": 9,
    "start_time": "2023-01-11T17:14:21.778Z"
   },
   {
    "duration": 12,
    "start_time": "2023-01-11T17:14:21.788Z"
   },
   {
    "duration": 5,
    "start_time": "2023-01-11T17:14:21.802Z"
   },
   {
    "duration": 14,
    "start_time": "2023-01-11T17:14:21.809Z"
   },
   {
    "duration": 12,
    "start_time": "2023-01-11T17:14:21.835Z"
   },
   {
    "duration": 387,
    "start_time": "2023-01-11T17:15:30.288Z"
   },
   {
    "duration": 72,
    "start_time": "2023-01-11T17:15:30.677Z"
   },
   {
    "duration": 45,
    "start_time": "2023-01-11T17:15:30.750Z"
   },
   {
    "duration": 38,
    "start_time": "2023-01-11T17:15:30.797Z"
   },
   {
    "duration": 32,
    "start_time": "2023-01-11T17:15:30.838Z"
   },
   {
    "duration": 30,
    "start_time": "2023-01-11T17:15:30.872Z"
   },
   {
    "duration": 38,
    "start_time": "2023-01-11T17:15:30.904Z"
   },
   {
    "duration": 26,
    "start_time": "2023-01-11T17:15:30.943Z"
   },
   {
    "duration": 38,
    "start_time": "2023-01-11T17:15:30.971Z"
   },
   {
    "duration": 21,
    "start_time": "2023-01-11T17:15:31.011Z"
   },
   {
    "duration": 26,
    "start_time": "2023-01-11T17:15:31.033Z"
   },
   {
    "duration": 18,
    "start_time": "2023-01-11T17:15:31.060Z"
   },
   {
    "duration": 450,
    "start_time": "2023-01-11T17:32:37.695Z"
   },
   {
    "duration": 37,
    "start_time": "2023-01-11T17:32:38.147Z"
   },
   {
    "duration": 15,
    "start_time": "2023-01-11T17:32:38.186Z"
   },
   {
    "duration": 41,
    "start_time": "2023-01-11T17:32:38.204Z"
   },
   {
    "duration": 14,
    "start_time": "2023-01-11T17:32:38.247Z"
   },
   {
    "duration": 81,
    "start_time": "2023-01-11T17:32:38.263Z"
   },
   {
    "duration": 44,
    "start_time": "2023-01-11T17:32:38.346Z"
   },
   {
    "duration": 25,
    "start_time": "2023-01-11T17:32:38.393Z"
   },
   {
    "duration": 14,
    "start_time": "2023-01-11T17:32:38.436Z"
   },
   {
    "duration": 18,
    "start_time": "2023-01-11T17:32:38.453Z"
   },
   {
    "duration": 20,
    "start_time": "2023-01-11T17:32:38.473Z"
   },
   {
    "duration": 16,
    "start_time": "2023-01-11T17:32:38.494Z"
   },
   {
    "duration": 14,
    "start_time": "2023-01-11T17:32:38.512Z"
   },
   {
    "duration": 8,
    "start_time": "2023-01-11T17:33:03.879Z"
   },
   {
    "duration": 11,
    "start_time": "2023-01-11T17:33:20.112Z"
   },
   {
    "duration": 8,
    "start_time": "2023-01-11T17:34:39.860Z"
   },
   {
    "duration": 4,
    "start_time": "2023-01-11T17:37:56.953Z"
   },
   {
    "duration": 4027,
    "start_time": "2023-01-11T17:37:58.757Z"
   },
   {
    "duration": 13,
    "start_time": "2023-01-11T17:38:02.787Z"
   },
   {
    "duration": 428,
    "start_time": "2023-01-11T17:40:40.212Z"
   },
   {
    "duration": 36,
    "start_time": "2023-01-11T17:40:40.641Z"
   },
   {
    "duration": 15,
    "start_time": "2023-01-11T17:40:40.679Z"
   },
   {
    "duration": 15,
    "start_time": "2023-01-11T17:40:40.697Z"
   },
   {
    "duration": 10,
    "start_time": "2023-01-11T17:40:40.713Z"
   },
   {
    "duration": 68,
    "start_time": "2023-01-11T17:40:40.725Z"
   },
   {
    "duration": 47,
    "start_time": "2023-01-11T17:40:40.795Z"
   },
   {
    "duration": 23,
    "start_time": "2023-01-11T17:40:40.843Z"
   },
   {
    "duration": 3,
    "start_time": "2023-01-11T17:40:40.867Z"
   },
   {
    "duration": 12,
    "start_time": "2023-01-11T17:40:40.874Z"
   },
   {
    "duration": 15,
    "start_time": "2023-01-11T17:40:40.888Z"
   },
   {
    "duration": 31,
    "start_time": "2023-01-11T17:40:40.905Z"
   },
   {
    "duration": 5,
    "start_time": "2023-01-11T17:40:40.939Z"
   },
   {
    "duration": 8,
    "start_time": "2023-01-11T17:40:40.946Z"
   },
   {
    "duration": 23,
    "start_time": "2023-01-11T17:40:40.955Z"
   },
   {
    "duration": 15,
    "start_time": "2023-01-11T17:40:40.980Z"
   },
   {
    "duration": 48,
    "start_time": "2023-01-11T17:41:54.757Z"
   },
   {
    "duration": 19,
    "start_time": "2023-01-11T17:41:56.698Z"
   },
   {
    "duration": 381,
    "start_time": "2023-01-11T17:43:01.478Z"
   },
   {
    "duration": 37,
    "start_time": "2023-01-11T17:43:01.861Z"
   },
   {
    "duration": 35,
    "start_time": "2023-01-11T17:43:01.899Z"
   },
   {
    "duration": 29,
    "start_time": "2023-01-11T17:43:01.936Z"
   },
   {
    "duration": 41,
    "start_time": "2023-01-11T17:43:01.967Z"
   },
   {
    "duration": 108,
    "start_time": "2023-01-11T17:43:02.010Z"
   },
   {
    "duration": 45,
    "start_time": "2023-01-11T17:43:02.120Z"
   },
   {
    "duration": 23,
    "start_time": "2023-01-11T17:43:02.167Z"
   },
   {
    "duration": 11,
    "start_time": "2023-01-11T17:43:02.191Z"
   },
   {
    "duration": 4375,
    "start_time": "2023-01-11T17:43:02.203Z"
   },
   {
    "duration": 14,
    "start_time": "2023-01-11T17:43:06.580Z"
   },
   {
    "duration": 23,
    "start_time": "2023-01-11T17:43:06.596Z"
   },
   {
    "duration": 14,
    "start_time": "2023-01-11T17:43:06.620Z"
   },
   {
    "duration": 34,
    "start_time": "2023-01-11T17:43:06.636Z"
   },
   {
    "duration": 16,
    "start_time": "2023-01-11T17:43:06.672Z"
   },
   {
    "duration": 16,
    "start_time": "2023-01-11T17:46:17.058Z"
   },
   {
    "duration": 14,
    "start_time": "2023-01-11T17:46:20.364Z"
   },
   {
    "duration": 4,
    "start_time": "2023-01-11T17:47:14.124Z"
   },
   {
    "duration": 12,
    "start_time": "2023-01-11T17:47:17.797Z"
   },
   {
    "duration": 10,
    "start_time": "2023-01-11T17:48:59.176Z"
   },
   {
    "duration": 7,
    "start_time": "2023-01-11T17:49:13.365Z"
   },
   {
    "duration": 5,
    "start_time": "2023-01-11T17:53:52.627Z"
   },
   {
    "duration": 11,
    "start_time": "2023-01-11T17:53:54.264Z"
   },
   {
    "duration": 4,
    "start_time": "2023-01-11T17:54:18.764Z"
   },
   {
    "duration": 411,
    "start_time": "2023-01-11T17:55:51.460Z"
   },
   {
    "duration": 38,
    "start_time": "2023-01-11T17:55:51.873Z"
   },
   {
    "duration": 17,
    "start_time": "2023-01-11T17:55:51.913Z"
   },
   {
    "duration": 11,
    "start_time": "2023-01-11T17:55:51.932Z"
   },
   {
    "duration": 20,
    "start_time": "2023-01-11T17:55:51.945Z"
   },
   {
    "duration": 88,
    "start_time": "2023-01-11T17:55:51.967Z"
   },
   {
    "duration": 51,
    "start_time": "2023-01-11T17:55:52.057Z"
   },
   {
    "duration": 51,
    "start_time": "2023-01-11T17:55:52.110Z"
   },
   {
    "duration": 5,
    "start_time": "2023-01-11T17:55:52.163Z"
   },
   {
    "duration": 4472,
    "start_time": "2023-01-11T17:55:52.169Z"
   },
   {
    "duration": 16,
    "start_time": "2023-01-11T17:55:56.643Z"
   },
   {
    "duration": 32,
    "start_time": "2023-01-11T17:55:56.661Z"
   },
   {
    "duration": 29,
    "start_time": "2023-01-11T17:55:56.695Z"
   },
   {
    "duration": 30,
    "start_time": "2023-01-11T17:55:56.727Z"
   },
   {
    "duration": 40,
    "start_time": "2023-01-11T17:55:56.759Z"
   },
   {
    "duration": 12,
    "start_time": "2023-01-11T17:55:56.801Z"
   },
   {
    "duration": 36,
    "start_time": "2023-01-11T17:55:56.815Z"
   },
   {
    "duration": 27,
    "start_time": "2023-01-11T17:55:56.853Z"
   },
   {
    "duration": 385,
    "start_time": "2023-01-11T17:58:14.861Z"
   },
   {
    "duration": 36,
    "start_time": "2023-01-11T17:58:15.248Z"
   },
   {
    "duration": 15,
    "start_time": "2023-01-11T17:58:15.286Z"
   },
   {
    "duration": 27,
    "start_time": "2023-01-11T17:58:15.303Z"
   },
   {
    "duration": 49,
    "start_time": "2023-01-11T17:58:15.332Z"
   },
   {
    "duration": 74,
    "start_time": "2023-01-11T17:58:15.383Z"
   },
   {
    "duration": 47,
    "start_time": "2023-01-11T17:58:15.459Z"
   },
   {
    "duration": 45,
    "start_time": "2023-01-11T17:58:15.507Z"
   },
   {
    "duration": 3,
    "start_time": "2023-01-11T17:58:15.554Z"
   },
   {
    "duration": 4507,
    "start_time": "2023-01-11T17:58:15.560Z"
   },
   {
    "duration": 18,
    "start_time": "2023-01-11T17:58:20.069Z"
   },
   {
    "duration": 24,
    "start_time": "2023-01-11T17:58:20.089Z"
   },
   {
    "duration": 52,
    "start_time": "2023-01-11T17:58:20.115Z"
   },
   {
    "duration": 57,
    "start_time": "2023-01-11T17:58:20.169Z"
   },
   {
    "duration": 28,
    "start_time": "2023-01-11T17:58:20.228Z"
   },
   {
    "duration": 53,
    "start_time": "2023-01-11T17:58:20.258Z"
   },
   {
    "duration": 50,
    "start_time": "2023-01-11T17:58:20.313Z"
   },
   {
    "duration": 46,
    "start_time": "2023-01-11T17:58:20.365Z"
   },
   {
    "duration": 45,
    "start_time": "2023-01-12T04:17:04.239Z"
   },
   {
    "duration": 414,
    "start_time": "2023-01-12T04:17:09.785Z"
   },
   {
    "duration": 91,
    "start_time": "2023-01-12T04:17:10.201Z"
   },
   {
    "duration": 14,
    "start_time": "2023-01-12T04:17:10.294Z"
   },
   {
    "duration": 7,
    "start_time": "2023-01-12T04:17:10.310Z"
   },
   {
    "duration": 16,
    "start_time": "2023-01-12T04:17:10.319Z"
   },
   {
    "duration": 115,
    "start_time": "2023-01-12T04:17:10.337Z"
   },
   {
    "duration": 40,
    "start_time": "2023-01-12T04:17:10.454Z"
   },
   {
    "duration": 23,
    "start_time": "2023-01-12T04:17:10.497Z"
   },
   {
    "duration": 4,
    "start_time": "2023-01-12T04:17:10.521Z"
   },
   {
    "duration": 3895,
    "start_time": "2023-01-12T04:17:10.527Z"
   },
   {
    "duration": 13,
    "start_time": "2023-01-12T04:17:14.423Z"
   },
   {
    "duration": 3,
    "start_time": "2023-01-12T04:17:14.437Z"
   },
   {
    "duration": 7,
    "start_time": "2023-01-12T04:17:14.441Z"
   },
   {
    "duration": 10,
    "start_time": "2023-01-12T04:17:14.451Z"
   },
   {
    "duration": 52,
    "start_time": "2023-01-12T04:17:14.463Z"
   },
   {
    "duration": 4,
    "start_time": "2023-01-12T04:17:14.516Z"
   },
   {
    "duration": 6,
    "start_time": "2023-01-12T04:17:14.522Z"
   },
   {
    "duration": 16,
    "start_time": "2023-01-12T04:17:14.530Z"
   },
   {
    "duration": 11,
    "start_time": "2023-01-12T04:17:14.547Z"
   },
   {
    "duration": 12,
    "start_time": "2023-01-12T04:24:26.477Z"
   },
   {
    "duration": 371,
    "start_time": "2023-01-12T04:26:21.009Z"
   },
   {
    "duration": 36,
    "start_time": "2023-01-12T04:26:21.382Z"
   },
   {
    "duration": 16,
    "start_time": "2023-01-12T04:26:21.420Z"
   },
   {
    "duration": 6,
    "start_time": "2023-01-12T04:26:21.438Z"
   },
   {
    "duration": 18,
    "start_time": "2023-01-12T04:26:21.446Z"
   },
   {
    "duration": 59,
    "start_time": "2023-01-12T04:26:21.465Z"
   },
   {
    "duration": 38,
    "start_time": "2023-01-12T04:26:21.525Z"
   },
   {
    "duration": 33,
    "start_time": "2023-01-12T04:26:21.564Z"
   },
   {
    "duration": 4,
    "start_time": "2023-01-12T04:26:21.598Z"
   },
   {
    "duration": 4002,
    "start_time": "2023-01-12T04:26:21.603Z"
   },
   {
    "duration": 13,
    "start_time": "2023-01-12T04:26:25.607Z"
   },
   {
    "duration": 8,
    "start_time": "2023-01-12T04:26:25.621Z"
   },
   {
    "duration": 22,
    "start_time": "2023-01-12T04:26:25.631Z"
   },
   {
    "duration": 17,
    "start_time": "2023-01-12T04:26:25.657Z"
   },
   {
    "duration": 48,
    "start_time": "2023-01-12T04:26:25.676Z"
   },
   {
    "duration": 4,
    "start_time": "2023-01-12T04:26:25.726Z"
   },
   {
    "duration": 18,
    "start_time": "2023-01-12T04:26:25.732Z"
   },
   {
    "duration": 26,
    "start_time": "2023-01-12T04:26:25.751Z"
   },
   {
    "duration": 11,
    "start_time": "2023-01-12T04:26:25.779Z"
   },
   {
    "duration": 394,
    "start_time": "2023-01-12T04:33:25.217Z"
   },
   {
    "duration": 39,
    "start_time": "2023-01-12T04:33:25.613Z"
   },
   {
    "duration": 15,
    "start_time": "2023-01-12T04:33:25.653Z"
   },
   {
    "duration": 5,
    "start_time": "2023-01-12T04:33:25.669Z"
   },
   {
    "duration": 15,
    "start_time": "2023-01-12T04:33:25.676Z"
   },
   {
    "duration": 66,
    "start_time": "2023-01-12T04:33:25.692Z"
   },
   {
    "duration": 46,
    "start_time": "2023-01-12T04:33:25.760Z"
   },
   {
    "duration": 34,
    "start_time": "2023-01-12T04:33:25.807Z"
   },
   {
    "duration": 3,
    "start_time": "2023-01-12T04:33:25.843Z"
   },
   {
    "duration": 4620,
    "start_time": "2023-01-12T04:33:25.847Z"
   },
   {
    "duration": 12,
    "start_time": "2023-01-12T04:33:30.469Z"
   },
   {
    "duration": 56,
    "start_time": "2023-01-12T04:33:30.483Z"
   },
   {
    "duration": 38,
    "start_time": "2023-01-12T04:33:30.541Z"
   },
   {
    "duration": 44,
    "start_time": "2023-01-12T04:33:30.582Z"
   },
   {
    "duration": 53,
    "start_time": "2023-01-12T04:33:30.628Z"
   },
   {
    "duration": 12,
    "start_time": "2023-01-12T04:33:30.683Z"
   },
   {
    "duration": 29,
    "start_time": "2023-01-12T04:33:30.697Z"
   },
   {
    "duration": 36,
    "start_time": "2023-01-12T04:33:30.727Z"
   },
   {
    "duration": 29,
    "start_time": "2023-01-12T04:33:30.764Z"
   },
   {
    "duration": 5,
    "start_time": "2023-01-12T04:54:06.349Z"
   },
   {
    "duration": 16,
    "start_time": "2023-01-12T04:55:04.227Z"
   },
   {
    "duration": 105,
    "start_time": "2023-01-12T04:55:25.119Z"
   },
   {
    "duration": 17,
    "start_time": "2023-01-12T04:56:17.793Z"
   },
   {
    "duration": 764,
    "start_time": "2023-01-12T04:57:44.957Z"
   },
   {
    "duration": 203,
    "start_time": "2023-01-12T04:58:27.133Z"
   },
   {
    "duration": 643,
    "start_time": "2023-01-12T05:00:03.800Z"
   },
   {
    "duration": 38,
    "start_time": "2023-01-12T05:00:04.445Z"
   },
   {
    "duration": 17,
    "start_time": "2023-01-12T05:00:04.485Z"
   },
   {
    "duration": 14,
    "start_time": "2023-01-12T05:00:04.511Z"
   },
   {
    "duration": 28,
    "start_time": "2023-01-12T05:00:04.528Z"
   },
   {
    "duration": 86,
    "start_time": "2023-01-12T05:00:04.557Z"
   },
   {
    "duration": 41,
    "start_time": "2023-01-12T05:00:04.645Z"
   },
   {
    "duration": 41,
    "start_time": "2023-01-12T05:00:04.687Z"
   },
   {
    "duration": 4,
    "start_time": "2023-01-12T05:00:04.729Z"
   },
   {
    "duration": 4575,
    "start_time": "2023-01-12T05:00:04.734Z"
   },
   {
    "duration": 12,
    "start_time": "2023-01-12T05:00:09.311Z"
   },
   {
    "duration": 4,
    "start_time": "2023-01-12T05:00:09.325Z"
   },
   {
    "duration": 6,
    "start_time": "2023-01-12T05:00:09.331Z"
   },
   {
    "duration": 10,
    "start_time": "2023-01-12T05:00:09.339Z"
   },
   {
    "duration": 48,
    "start_time": "2023-01-12T05:00:09.350Z"
   },
   {
    "duration": 5,
    "start_time": "2023-01-12T05:00:09.409Z"
   },
   {
    "duration": 6,
    "start_time": "2023-01-12T05:00:09.416Z"
   },
   {
    "duration": 18,
    "start_time": "2023-01-12T05:00:09.423Z"
   },
   {
    "duration": 321,
    "start_time": "2023-01-12T05:00:09.442Z"
   },
   {
    "duration": 13,
    "start_time": "2023-01-12T05:00:09.765Z"
   },
   {
    "duration": 215,
    "start_time": "2023-01-12T05:01:28.393Z"
   },
   {
    "duration": 220,
    "start_time": "2023-01-12T05:05:00.758Z"
   },
   {
    "duration": 11,
    "start_time": "2023-01-12T05:08:22.180Z"
   },
   {
    "duration": 12,
    "start_time": "2023-01-12T05:09:06.443Z"
   },
   {
    "duration": 18,
    "start_time": "2023-01-12T05:09:25.072Z"
   },
   {
    "duration": 11,
    "start_time": "2023-01-12T05:14:55.863Z"
   },
   {
    "duration": 9,
    "start_time": "2023-01-12T05:15:51.846Z"
   },
   {
    "duration": 7,
    "start_time": "2023-01-12T05:16:24.662Z"
   },
   {
    "duration": 52,
    "start_time": "2023-01-12T05:17:37.410Z"
   },
   {
    "duration": 51,
    "start_time": "2023-01-12T05:17:54.153Z"
   },
   {
    "duration": 65,
    "start_time": "2023-01-12T05:18:28.657Z"
   },
   {
    "duration": 74,
    "start_time": "2023-01-12T05:18:56.184Z"
   },
   {
    "duration": 8,
    "start_time": "2023-01-12T05:19:10.808Z"
   },
   {
    "duration": 11,
    "start_time": "2023-01-12T05:19:15.643Z"
   },
   {
    "duration": 3,
    "start_time": "2023-01-12T05:20:22.541Z"
   },
   {
    "duration": 13,
    "start_time": "2023-01-12T05:20:34.546Z"
   },
   {
    "duration": 14,
    "start_time": "2023-01-12T05:20:51.013Z"
   },
   {
    "duration": 655,
    "start_time": "2023-01-12T05:21:07.515Z"
   },
   {
    "duration": 39,
    "start_time": "2023-01-12T05:21:08.172Z"
   },
   {
    "duration": 15,
    "start_time": "2023-01-12T05:21:08.215Z"
   },
   {
    "duration": 5,
    "start_time": "2023-01-12T05:21:08.232Z"
   },
   {
    "duration": 16,
    "start_time": "2023-01-12T05:21:08.239Z"
   },
   {
    "duration": 68,
    "start_time": "2023-01-12T05:21:08.256Z"
   },
   {
    "duration": 48,
    "start_time": "2023-01-12T05:21:08.325Z"
   },
   {
    "duration": 43,
    "start_time": "2023-01-12T05:21:08.374Z"
   },
   {
    "duration": 3,
    "start_time": "2023-01-12T05:21:08.419Z"
   },
   {
    "duration": 4392,
    "start_time": "2023-01-12T05:21:08.424Z"
   },
   {
    "duration": 13,
    "start_time": "2023-01-12T05:21:12.819Z"
   },
   {
    "duration": 12,
    "start_time": "2023-01-12T05:21:12.834Z"
   },
   {
    "duration": 12,
    "start_time": "2023-01-12T05:21:12.849Z"
   },
   {
    "duration": 25,
    "start_time": "2023-01-12T05:21:12.862Z"
   },
   {
    "duration": 39,
    "start_time": "2023-01-12T05:21:12.889Z"
   },
   {
    "duration": 4,
    "start_time": "2023-01-12T05:21:12.930Z"
   },
   {
    "duration": 24,
    "start_time": "2023-01-12T05:21:12.935Z"
   },
   {
    "duration": 17,
    "start_time": "2023-01-12T05:21:12.961Z"
   },
   {
    "duration": 288,
    "start_time": "2023-01-12T05:21:12.980Z"
   },
   {
    "duration": 16,
    "start_time": "2023-01-12T05:21:13.270Z"
   },
   {
    "duration": 22,
    "start_time": "2023-01-12T05:21:13.298Z"
   },
   {
    "duration": 38,
    "start_time": "2023-01-12T05:21:13.322Z"
   },
   {
    "duration": 596,
    "start_time": "2023-01-12T05:49:17.159Z"
   },
   {
    "duration": 37,
    "start_time": "2023-01-12T05:49:17.757Z"
   },
   {
    "duration": 15,
    "start_time": "2023-01-12T05:49:17.796Z"
   },
   {
    "duration": 5,
    "start_time": "2023-01-12T05:49:17.814Z"
   },
   {
    "duration": 14,
    "start_time": "2023-01-12T05:49:17.821Z"
   },
   {
    "duration": 70,
    "start_time": "2023-01-12T05:49:17.837Z"
   },
   {
    "duration": 49,
    "start_time": "2023-01-12T05:49:17.910Z"
   },
   {
    "duration": 38,
    "start_time": "2023-01-12T05:49:17.960Z"
   },
   {
    "duration": 4,
    "start_time": "2023-01-12T05:49:18.000Z"
   },
   {
    "duration": 4090,
    "start_time": "2023-01-12T05:49:18.006Z"
   },
   {
    "duration": 13,
    "start_time": "2023-01-12T05:49:22.098Z"
   },
   {
    "duration": 3,
    "start_time": "2023-01-12T05:49:22.112Z"
   },
   {
    "duration": 6,
    "start_time": "2023-01-12T05:49:22.117Z"
   },
   {
    "duration": 14,
    "start_time": "2023-01-12T05:49:22.125Z"
   },
   {
    "duration": 33,
    "start_time": "2023-01-12T05:49:22.140Z"
   },
   {
    "duration": 5,
    "start_time": "2023-01-12T05:49:22.196Z"
   },
   {
    "duration": 10,
    "start_time": "2023-01-12T05:49:22.202Z"
   },
   {
    "duration": 21,
    "start_time": "2023-01-12T05:49:22.214Z"
   },
   {
    "duration": 319,
    "start_time": "2023-01-12T05:49:22.237Z"
   },
   {
    "duration": 16,
    "start_time": "2023-01-12T05:49:22.558Z"
   },
   {
    "duration": 21,
    "start_time": "2023-01-12T05:49:22.575Z"
   },
   {
    "duration": 14,
    "start_time": "2023-01-12T05:49:22.598Z"
   },
   {
    "duration": 7,
    "start_time": "2023-01-12T05:57:32.273Z"
   },
   {
    "duration": 8,
    "start_time": "2023-01-12T05:59:21.431Z"
   },
   {
    "duration": 13,
    "start_time": "2023-01-12T05:59:41.640Z"
   },
   {
    "duration": 7,
    "start_time": "2023-01-12T06:00:24.419Z"
   },
   {
    "duration": 15,
    "start_time": "2023-01-12T06:00:29.920Z"
   },
   {
    "duration": 14,
    "start_time": "2023-01-12T06:00:53.710Z"
   },
   {
    "duration": 633,
    "start_time": "2023-01-12T06:06:17.257Z"
   },
   {
    "duration": 38,
    "start_time": "2023-01-12T06:06:17.892Z"
   },
   {
    "duration": 16,
    "start_time": "2023-01-12T06:06:17.932Z"
   },
   {
    "duration": 10,
    "start_time": "2023-01-12T06:06:17.950Z"
   },
   {
    "duration": 20,
    "start_time": "2023-01-12T06:06:17.962Z"
   },
   {
    "duration": 68,
    "start_time": "2023-01-12T06:06:17.984Z"
   },
   {
    "duration": 43,
    "start_time": "2023-01-12T06:06:18.054Z"
   },
   {
    "duration": 34,
    "start_time": "2023-01-12T06:06:18.099Z"
   },
   {
    "duration": 4,
    "start_time": "2023-01-12T06:06:18.135Z"
   },
   {
    "duration": 4220,
    "start_time": "2023-01-12T06:06:18.140Z"
   },
   {
    "duration": 12,
    "start_time": "2023-01-12T06:06:22.361Z"
   },
   {
    "duration": 4,
    "start_time": "2023-01-12T06:06:22.375Z"
   },
   {
    "duration": 21,
    "start_time": "2023-01-12T06:06:22.380Z"
   },
   {
    "duration": 22,
    "start_time": "2023-01-12T06:06:22.404Z"
   },
   {
    "duration": 34,
    "start_time": "2023-01-12T06:06:22.428Z"
   },
   {
    "duration": 4,
    "start_time": "2023-01-12T06:06:22.464Z"
   },
   {
    "duration": 8,
    "start_time": "2023-01-12T06:06:22.469Z"
   },
   {
    "duration": 26,
    "start_time": "2023-01-12T06:06:22.479Z"
   },
   {
    "duration": 281,
    "start_time": "2023-01-12T06:06:22.507Z"
   },
   {
    "duration": 24,
    "start_time": "2023-01-12T06:06:22.791Z"
   },
   {
    "duration": 9,
    "start_time": "2023-01-12T06:06:22.817Z"
   },
   {
    "duration": 8,
    "start_time": "2023-01-12T06:06:22.828Z"
   },
   {
    "duration": 994,
    "start_time": "2023-01-12T10:15:36.261Z"
   },
   {
    "duration": 109,
    "start_time": "2023-01-12T10:15:37.258Z"
   },
   {
    "duration": 23,
    "start_time": "2023-01-12T10:15:37.369Z"
   },
   {
    "duration": 50,
    "start_time": "2023-01-12T10:15:37.395Z"
   },
   {
    "duration": 41,
    "start_time": "2023-01-12T10:15:37.447Z"
   },
   {
    "duration": 220,
    "start_time": "2023-01-12T10:15:37.489Z"
   },
   {
    "duration": 65,
    "start_time": "2023-01-12T10:15:37.711Z"
   },
   {
    "duration": 36,
    "start_time": "2023-01-12T10:15:37.778Z"
   },
   {
    "duration": 26,
    "start_time": "2023-01-12T10:15:37.816Z"
   },
   {
    "duration": 5017,
    "start_time": "2023-01-12T10:15:37.846Z"
   },
   {
    "duration": 22,
    "start_time": "2023-01-12T10:15:42.865Z"
   },
   {
    "duration": 16,
    "start_time": "2023-01-12T10:15:42.890Z"
   },
   {
    "duration": 7,
    "start_time": "2023-01-12T10:15:42.908Z"
   },
   {
    "duration": 13,
    "start_time": "2023-01-12T10:15:42.918Z"
   },
   {
    "duration": 45,
    "start_time": "2023-01-12T10:15:42.933Z"
   },
   {
    "duration": 14,
    "start_time": "2023-01-12T10:15:42.980Z"
   },
   {
    "duration": 28,
    "start_time": "2023-01-12T10:15:42.996Z"
   },
   {
    "duration": 23,
    "start_time": "2023-01-12T10:15:43.026Z"
   },
   {
    "duration": 336,
    "start_time": "2023-01-12T10:15:43.051Z"
   },
   {
    "duration": 19,
    "start_time": "2023-01-12T10:15:43.395Z"
   },
   {
    "duration": 9,
    "start_time": "2023-01-12T10:15:43.416Z"
   },
   {
    "duration": 7,
    "start_time": "2023-01-12T10:15:43.427Z"
   },
   {
    "duration": 9,
    "start_time": "2023-01-12T10:18:20.964Z"
   },
   {
    "duration": 18,
    "start_time": "2023-01-12T10:18:31.155Z"
   },
   {
    "duration": 77,
    "start_time": "2023-01-12T10:20:18.574Z"
   },
   {
    "duration": 21,
    "start_time": "2023-01-12T10:28:59.544Z"
   },
   {
    "duration": 3,
    "start_time": "2023-01-12T10:29:25.079Z"
   },
   {
    "duration": 29,
    "start_time": "2023-01-12T10:29:34.499Z"
   },
   {
    "duration": 27,
    "start_time": "2023-01-12T10:30:00.130Z"
   },
   {
    "duration": 23,
    "start_time": "2023-01-12T10:30:59.834Z"
   },
   {
    "duration": 35,
    "start_time": "2023-01-12T10:32:01.840Z"
   },
   {
    "duration": 15,
    "start_time": "2023-01-12T10:33:56.949Z"
   },
   {
    "duration": 18,
    "start_time": "2023-01-12T10:34:12.288Z"
   },
   {
    "duration": 25,
    "start_time": "2023-01-12T10:34:22.897Z"
   },
   {
    "duration": 30,
    "start_time": "2023-01-12T10:34:51.280Z"
   },
   {
    "duration": 35,
    "start_time": "2023-01-12T10:35:02.295Z"
   },
   {
    "duration": 9,
    "start_time": "2023-01-12T10:55:48.433Z"
   },
   {
    "duration": 138,
    "start_time": "2023-01-12T11:10:34.289Z"
   },
   {
    "duration": 12,
    "start_time": "2023-01-12T11:12:31.945Z"
   },
   {
    "duration": 8,
    "start_time": "2023-01-12T11:13:10.332Z"
   },
   {
    "duration": 176,
    "start_time": "2023-01-12T11:13:13.836Z"
   },
   {
    "duration": 209,
    "start_time": "2023-01-12T11:13:40.179Z"
   },
   {
    "duration": 166,
    "start_time": "2023-01-12T11:13:53.444Z"
   },
   {
    "duration": 13,
    "start_time": "2023-01-12T11:15:34.701Z"
   },
   {
    "duration": 12,
    "start_time": "2023-01-12T11:20:40.734Z"
   },
   {
    "duration": 537,
    "start_time": "2023-01-12T11:21:16.070Z"
   },
   {
    "duration": 39,
    "start_time": "2023-01-12T11:21:22.455Z"
   },
   {
    "duration": 21,
    "start_time": "2023-01-12T11:21:47.063Z"
   },
   {
    "duration": 170,
    "start_time": "2023-01-12T11:22:31.938Z"
   },
   {
    "duration": 20,
    "start_time": "2023-01-12T11:23:17.127Z"
   },
   {
    "duration": 163,
    "start_time": "2023-01-12T11:23:22.502Z"
   },
   {
    "duration": 166,
    "start_time": "2023-01-12T11:23:35.440Z"
   },
   {
    "duration": 13,
    "start_time": "2023-01-12T11:23:41.199Z"
   },
   {
    "duration": 159,
    "start_time": "2023-01-12T11:23:50.426Z"
   },
   {
    "duration": 9,
    "start_time": "2023-01-12T11:24:17.825Z"
   },
   {
    "duration": 17,
    "start_time": "2023-01-12T11:24:23.623Z"
   },
   {
    "duration": 16,
    "start_time": "2023-01-12T11:24:39.958Z"
   },
   {
    "duration": 179,
    "start_time": "2023-01-12T11:30:06.561Z"
   },
   {
    "duration": 168,
    "start_time": "2023-01-12T11:30:25.321Z"
   },
   {
    "duration": 173,
    "start_time": "2023-01-12T11:30:31.465Z"
   },
   {
    "duration": 241,
    "start_time": "2023-01-12T11:30:37.073Z"
   },
   {
    "duration": 18,
    "start_time": "2023-01-12T11:34:07.242Z"
   },
   {
    "duration": 782,
    "start_time": "2023-01-12T11:37:13.874Z"
   },
   {
    "duration": 874,
    "start_time": "2023-01-12T11:37:40.986Z"
   },
   {
    "duration": 937,
    "start_time": "2023-01-12T11:38:08.441Z"
   },
   {
    "duration": 959,
    "start_time": "2023-01-12T11:38:52.388Z"
   },
   {
    "duration": 852,
    "start_time": "2023-01-12T11:39:08.883Z"
   },
   {
    "duration": 13,
    "start_time": "2023-01-12T11:39:23.699Z"
   },
   {
    "duration": 12,
    "start_time": "2023-01-12T11:44:15.603Z"
   },
   {
    "duration": 26,
    "start_time": "2023-01-12T11:45:27.876Z"
   },
   {
    "duration": 1225,
    "start_time": "2023-01-12T11:48:31.860Z"
   },
   {
    "duration": 48,
    "start_time": "2023-01-12T11:48:33.087Z"
   },
   {
    "duration": 15,
    "start_time": "2023-01-12T11:48:33.136Z"
   },
   {
    "duration": 21,
    "start_time": "2023-01-12T11:48:33.153Z"
   },
   {
    "duration": 16,
    "start_time": "2023-01-12T11:48:33.176Z"
   },
   {
    "duration": 77,
    "start_time": "2023-01-12T11:48:33.193Z"
   },
   {
    "duration": 45,
    "start_time": "2023-01-12T11:48:33.272Z"
   },
   {
    "duration": 21,
    "start_time": "2023-01-12T11:48:33.318Z"
   },
   {
    "duration": 3,
    "start_time": "2023-01-12T11:48:33.342Z"
   },
   {
    "duration": 4125,
    "start_time": "2023-01-12T11:48:33.347Z"
   },
   {
    "duration": 13,
    "start_time": "2023-01-12T11:48:37.474Z"
   },
   {
    "duration": 4,
    "start_time": "2023-01-12T11:48:37.489Z"
   },
   {
    "duration": 6,
    "start_time": "2023-01-12T11:48:37.494Z"
   },
   {
    "duration": 34,
    "start_time": "2023-01-12T11:48:37.502Z"
   },
   {
    "duration": 43,
    "start_time": "2023-01-12T11:48:37.539Z"
   },
   {
    "duration": 6,
    "start_time": "2023-01-12T11:48:37.584Z"
   },
   {
    "duration": 10,
    "start_time": "2023-01-12T11:48:37.592Z"
   },
   {
    "duration": 20,
    "start_time": "2023-01-12T11:48:37.604Z"
   },
   {
    "duration": 184,
    "start_time": "2023-01-12T11:48:37.626Z"
   },
   {
    "duration": 15,
    "start_time": "2023-01-12T11:48:37.811Z"
   },
   {
    "duration": 6,
    "start_time": "2023-01-12T11:48:37.828Z"
   },
   {
    "duration": 124,
    "start_time": "2023-01-12T11:48:37.835Z"
   },
   {
    "duration": 0,
    "start_time": "2023-01-12T11:48:37.961Z"
   },
   {
    "duration": 52,
    "start_time": "2023-01-13T04:01:52.361Z"
   },
   {
    "duration": 1572,
    "start_time": "2023-01-13T04:01:59.918Z"
   },
   {
    "duration": 71,
    "start_time": "2023-01-13T04:02:01.492Z"
   },
   {
    "duration": 26,
    "start_time": "2023-01-13T04:02:01.565Z"
   },
   {
    "duration": 19,
    "start_time": "2023-01-13T04:02:01.593Z"
   },
   {
    "duration": 18,
    "start_time": "2023-01-13T04:02:01.616Z"
   },
   {
    "duration": 347,
    "start_time": "2023-01-13T04:02:01.636Z"
   },
   {
    "duration": 66,
    "start_time": "2023-01-13T04:02:01.985Z"
   },
   {
    "duration": 31,
    "start_time": "2023-01-13T04:02:02.053Z"
   },
   {
    "duration": 18,
    "start_time": "2023-01-13T04:02:02.086Z"
   },
   {
    "duration": 4215,
    "start_time": "2023-01-13T04:02:02.107Z"
   },
   {
    "duration": 13,
    "start_time": "2023-01-13T04:02:06.323Z"
   },
   {
    "duration": 15,
    "start_time": "2023-01-13T04:02:06.337Z"
   },
   {
    "duration": 4,
    "start_time": "2023-01-13T04:02:06.354Z"
   },
   {
    "duration": 39,
    "start_time": "2023-01-13T04:02:06.360Z"
   },
   {
    "duration": 10,
    "start_time": "2023-01-13T04:02:06.401Z"
   },
   {
    "duration": 18,
    "start_time": "2023-01-13T04:02:06.412Z"
   },
   {
    "duration": 21,
    "start_time": "2023-01-13T04:02:06.432Z"
   },
   {
    "duration": 17,
    "start_time": "2023-01-13T04:02:06.455Z"
   },
   {
    "duration": 178,
    "start_time": "2023-01-13T04:02:06.474Z"
   },
   {
    "duration": 15,
    "start_time": "2023-01-13T04:02:06.654Z"
   },
   {
    "duration": 10,
    "start_time": "2023-01-13T04:02:06.671Z"
   },
   {
    "duration": 114,
    "start_time": "2023-01-13T04:02:06.683Z"
   },
   {
    "duration": 1,
    "start_time": "2023-01-13T04:02:06.799Z"
   },
   {
    "duration": 17,
    "start_time": "2023-01-13T04:10:30.128Z"
   },
   {
    "duration": 52,
    "start_time": "2023-01-13T05:57:03.793Z"
   },
   {
    "duration": 1297,
    "start_time": "2023-01-13T05:57:12.356Z"
   },
   {
    "duration": 70,
    "start_time": "2023-01-13T05:57:13.655Z"
   },
   {
    "duration": 16,
    "start_time": "2023-01-13T05:57:13.727Z"
   },
   {
    "duration": 19,
    "start_time": "2023-01-13T05:57:13.745Z"
   },
   {
    "duration": 31,
    "start_time": "2023-01-13T05:57:13.765Z"
   },
   {
    "duration": 280,
    "start_time": "2023-01-13T05:57:13.797Z"
   },
   {
    "duration": 52,
    "start_time": "2023-01-13T05:57:14.078Z"
   },
   {
    "duration": 31,
    "start_time": "2023-01-13T05:57:14.131Z"
   },
   {
    "duration": 12,
    "start_time": "2023-01-13T05:57:14.164Z"
   },
   {
    "duration": 4033,
    "start_time": "2023-01-13T05:57:14.179Z"
   },
   {
    "duration": 13,
    "start_time": "2023-01-13T05:57:18.214Z"
   },
   {
    "duration": 14,
    "start_time": "2023-01-13T05:57:18.229Z"
   },
   {
    "duration": 18,
    "start_time": "2023-01-13T05:57:18.244Z"
   },
   {
    "duration": 51,
    "start_time": "2023-01-13T05:57:18.265Z"
   },
   {
    "duration": 10,
    "start_time": "2023-01-13T05:57:18.317Z"
   },
   {
    "duration": 17,
    "start_time": "2023-01-13T05:57:18.329Z"
   },
   {
    "duration": 26,
    "start_time": "2023-01-13T05:57:18.348Z"
   },
   {
    "duration": 31,
    "start_time": "2023-01-13T05:57:18.376Z"
   },
   {
    "duration": 189,
    "start_time": "2023-01-13T05:57:18.409Z"
   },
   {
    "duration": 16,
    "start_time": "2023-01-13T05:57:18.600Z"
   },
   {
    "duration": 11,
    "start_time": "2023-01-13T05:57:18.618Z"
   },
   {
    "duration": 115,
    "start_time": "2023-01-13T05:57:18.630Z"
   },
   {
    "duration": 0,
    "start_time": "2023-01-13T05:57:18.748Z"
   },
   {
    "duration": 1312,
    "start_time": "2023-01-15T08:36:30.423Z"
   },
   {
    "duration": 82,
    "start_time": "2023-01-15T08:36:31.737Z"
   },
   {
    "duration": 17,
    "start_time": "2023-01-15T08:36:31.820Z"
   },
   {
    "duration": 5,
    "start_time": "2023-01-15T08:36:31.839Z"
   },
   {
    "duration": 19,
    "start_time": "2023-01-15T08:36:31.845Z"
   },
   {
    "duration": 112,
    "start_time": "2023-01-15T08:36:31.865Z"
   },
   {
    "duration": 40,
    "start_time": "2023-01-15T08:36:31.979Z"
   },
   {
    "duration": 20,
    "start_time": "2023-01-15T08:36:32.020Z"
   },
   {
    "duration": 3,
    "start_time": "2023-01-15T08:36:32.041Z"
   },
   {
    "duration": 3736,
    "start_time": "2023-01-15T08:36:32.047Z"
   },
   {
    "duration": 11,
    "start_time": "2023-01-15T08:36:35.785Z"
   },
   {
    "duration": 14,
    "start_time": "2023-01-15T08:36:35.798Z"
   },
   {
    "duration": 9,
    "start_time": "2023-01-15T08:36:35.813Z"
   },
   {
    "duration": 36,
    "start_time": "2023-01-15T08:36:35.823Z"
   },
   {
    "duration": 10,
    "start_time": "2023-01-15T08:36:35.861Z"
   },
   {
    "duration": 20,
    "start_time": "2023-01-15T08:36:35.872Z"
   },
   {
    "duration": 5,
    "start_time": "2023-01-15T08:36:35.894Z"
   },
   {
    "duration": 22,
    "start_time": "2023-01-15T08:36:35.900Z"
   },
   {
    "duration": 152,
    "start_time": "2023-01-15T08:36:35.923Z"
   },
   {
    "duration": 13,
    "start_time": "2023-01-15T08:36:36.076Z"
   },
   {
    "duration": 15,
    "start_time": "2023-01-15T08:36:36.091Z"
   },
   {
    "duration": 115,
    "start_time": "2023-01-15T08:36:36.107Z"
   },
   {
    "duration": 0,
    "start_time": "2023-01-15T08:36:36.224Z"
   },
   {
    "duration": 9,
    "start_time": "2023-01-15T08:49:02.894Z"
   },
   {
    "duration": 18,
    "start_time": "2023-01-15T08:49:20.651Z"
   },
   {
    "duration": 1358,
    "start_time": "2023-01-15T11:48:52.941Z"
   },
   {
    "duration": 81,
    "start_time": "2023-01-15T11:48:54.301Z"
   },
   {
    "duration": 25,
    "start_time": "2023-01-15T11:48:54.385Z"
   },
   {
    "duration": 10,
    "start_time": "2023-01-15T11:48:54.412Z"
   },
   {
    "duration": 20,
    "start_time": "2023-01-15T11:48:54.424Z"
   },
   {
    "duration": 114,
    "start_time": "2023-01-15T11:48:54.447Z"
   },
   {
    "duration": 47,
    "start_time": "2023-01-15T11:48:54.563Z"
   },
   {
    "duration": 30,
    "start_time": "2023-01-15T11:48:54.612Z"
   },
   {
    "duration": 3,
    "start_time": "2023-01-15T11:48:54.644Z"
   },
   {
    "duration": 4119,
    "start_time": "2023-01-15T11:48:54.649Z"
   },
   {
    "duration": 14,
    "start_time": "2023-01-15T11:48:58.770Z"
   },
   {
    "duration": 8,
    "start_time": "2023-01-15T11:48:58.786Z"
   },
   {
    "duration": 11,
    "start_time": "2023-01-15T11:48:58.795Z"
   },
   {
    "duration": 50,
    "start_time": "2023-01-15T11:48:58.808Z"
   },
   {
    "duration": 11,
    "start_time": "2023-01-15T11:48:58.859Z"
   },
   {
    "duration": 11,
    "start_time": "2023-01-15T11:48:58.872Z"
   },
   {
    "duration": 9,
    "start_time": "2023-01-15T11:48:58.885Z"
   },
   {
    "duration": 26,
    "start_time": "2023-01-15T11:48:58.896Z"
   },
   {
    "duration": 194,
    "start_time": "2023-01-15T11:48:58.924Z"
   },
   {
    "duration": 136,
    "start_time": "2023-01-15T11:48:59.120Z"
   },
   {
    "duration": 0,
    "start_time": "2023-01-15T11:48:59.258Z"
   },
   {
    "duration": 0,
    "start_time": "2023-01-15T11:48:59.260Z"
   },
   {
    "duration": 0,
    "start_time": "2023-01-15T11:48:59.263Z"
   },
   {
    "duration": 0,
    "start_time": "2023-01-15T11:48:59.265Z"
   },
   {
    "duration": 1366,
    "start_time": "2023-01-15T13:39:28.054Z"
   },
   {
    "duration": 93,
    "start_time": "2023-01-15T13:39:29.422Z"
   },
   {
    "duration": 16,
    "start_time": "2023-01-15T13:39:29.516Z"
   },
   {
    "duration": 8,
    "start_time": "2023-01-15T13:39:29.534Z"
   },
   {
    "duration": 15,
    "start_time": "2023-01-15T13:39:29.544Z"
   },
   {
    "duration": 129,
    "start_time": "2023-01-15T13:39:29.560Z"
   },
   {
    "duration": 41,
    "start_time": "2023-01-15T13:39:29.691Z"
   },
   {
    "duration": 21,
    "start_time": "2023-01-15T13:39:29.733Z"
   },
   {
    "duration": 3,
    "start_time": "2023-01-15T13:39:29.755Z"
   },
   {
    "duration": 4377,
    "start_time": "2023-01-15T13:39:29.760Z"
   },
   {
    "duration": 13,
    "start_time": "2023-01-15T13:39:34.138Z"
   },
   {
    "duration": 15,
    "start_time": "2023-01-15T13:39:34.153Z"
   },
   {
    "duration": 35,
    "start_time": "2023-01-15T13:39:34.169Z"
   },
   {
    "duration": 60,
    "start_time": "2023-01-15T13:39:34.206Z"
   },
   {
    "duration": 12,
    "start_time": "2023-01-15T13:39:34.268Z"
   },
   {
    "duration": 27,
    "start_time": "2023-01-15T13:39:34.282Z"
   },
   {
    "duration": 21,
    "start_time": "2023-01-15T13:39:34.311Z"
   },
   {
    "duration": 114,
    "start_time": "2023-01-15T13:39:34.334Z"
   },
   {
    "duration": 0,
    "start_time": "2023-01-15T13:39:34.450Z"
   },
   {
    "duration": 0,
    "start_time": "2023-01-15T13:39:34.452Z"
   },
   {
    "duration": 0,
    "start_time": "2023-01-15T13:39:34.453Z"
   },
   {
    "duration": 0,
    "start_time": "2023-01-15T13:39:34.455Z"
   },
   {
    "duration": 46,
    "start_time": "2023-01-15T13:46:14.308Z"
   },
   {
    "duration": 48,
    "start_time": "2023-01-15T13:46:30.673Z"
   },
   {
    "duration": 18,
    "start_time": "2023-01-15T13:49:50.838Z"
   },
   {
    "duration": 44,
    "start_time": "2023-01-15T13:51:20.795Z"
   },
   {
    "duration": 58,
    "start_time": "2023-01-15T13:51:43.756Z"
   },
   {
    "duration": 55,
    "start_time": "2023-01-15T13:52:34.921Z"
   },
   {
    "duration": 107,
    "start_time": "2023-01-15T13:57:15.224Z"
   },
   {
    "duration": 99,
    "start_time": "2023-01-15T13:58:16.306Z"
   },
   {
    "duration": 13,
    "start_time": "2023-01-15T14:07:37.622Z"
   },
   {
    "duration": 1145,
    "start_time": "2023-01-15T14:12:35.268Z"
   },
   {
    "duration": 40,
    "start_time": "2023-01-15T14:12:36.415Z"
   },
   {
    "duration": 15,
    "start_time": "2023-01-15T14:12:36.456Z"
   },
   {
    "duration": 5,
    "start_time": "2023-01-15T14:12:36.473Z"
   },
   {
    "duration": 34,
    "start_time": "2023-01-15T14:12:36.480Z"
   },
   {
    "duration": 58,
    "start_time": "2023-01-15T14:12:36.516Z"
   },
   {
    "duration": 42,
    "start_time": "2023-01-15T14:12:36.575Z"
   },
   {
    "duration": 19,
    "start_time": "2023-01-15T14:12:36.619Z"
   },
   {
    "duration": 3,
    "start_time": "2023-01-15T14:12:36.639Z"
   },
   {
    "duration": 4124,
    "start_time": "2023-01-15T14:12:36.644Z"
   },
   {
    "duration": 18,
    "start_time": "2023-01-15T14:12:40.770Z"
   },
   {
    "duration": 19,
    "start_time": "2023-01-15T14:12:40.789Z"
   },
   {
    "duration": 7,
    "start_time": "2023-01-15T14:12:40.810Z"
   },
   {
    "duration": 38,
    "start_time": "2023-01-15T14:12:40.818Z"
   },
   {
    "duration": 9,
    "start_time": "2023-01-15T14:12:40.858Z"
   },
   {
    "duration": 16,
    "start_time": "2023-01-15T14:12:40.869Z"
   },
   {
    "duration": 16,
    "start_time": "2023-01-15T14:12:40.887Z"
   },
   {
    "duration": 18,
    "start_time": "2023-01-15T14:12:40.904Z"
   },
   {
    "duration": 8,
    "start_time": "2023-01-15T14:12:40.925Z"
   },
   {
    "duration": 121,
    "start_time": "2023-01-15T14:12:40.934Z"
   },
   {
    "duration": 0,
    "start_time": "2023-01-15T14:12:41.057Z"
   },
   {
    "duration": 20,
    "start_time": "2023-01-15T14:12:53.825Z"
   },
   {
    "duration": 7,
    "start_time": "2023-01-15T14:12:59.249Z"
   },
   {
    "duration": 25,
    "start_time": "2023-01-15T14:13:01.571Z"
   },
   {
    "duration": 12,
    "start_time": "2023-01-15T14:13:34.216Z"
   },
   {
    "duration": 1176,
    "start_time": "2023-01-15T14:13:46.344Z"
   },
   {
    "duration": 41,
    "start_time": "2023-01-15T14:13:47.521Z"
   },
   {
    "duration": 23,
    "start_time": "2023-01-15T14:13:47.563Z"
   },
   {
    "duration": 46,
    "start_time": "2023-01-15T14:13:47.589Z"
   },
   {
    "duration": 68,
    "start_time": "2023-01-15T14:13:47.637Z"
   },
   {
    "duration": 88,
    "start_time": "2023-01-15T14:13:47.707Z"
   },
   {
    "duration": 41,
    "start_time": "2023-01-15T14:13:47.797Z"
   },
   {
    "duration": 28,
    "start_time": "2023-01-15T14:13:47.840Z"
   },
   {
    "duration": 33,
    "start_time": "2023-01-15T14:13:47.877Z"
   },
   {
    "duration": 4426,
    "start_time": "2023-01-15T14:13:47.913Z"
   },
   {
    "duration": 14,
    "start_time": "2023-01-15T14:13:52.341Z"
   },
   {
    "duration": 7,
    "start_time": "2023-01-15T14:13:52.357Z"
   },
   {
    "duration": 22,
    "start_time": "2023-01-15T14:13:52.366Z"
   },
   {
    "duration": 49,
    "start_time": "2023-01-15T14:13:52.390Z"
   },
   {
    "duration": 10,
    "start_time": "2023-01-15T14:13:52.441Z"
   },
   {
    "duration": 13,
    "start_time": "2023-01-15T14:13:52.453Z"
   },
   {
    "duration": 21,
    "start_time": "2023-01-15T14:13:52.468Z"
   },
   {
    "duration": 20,
    "start_time": "2023-01-15T14:13:52.491Z"
   },
   {
    "duration": 19,
    "start_time": "2023-01-15T14:13:52.513Z"
   },
   {
    "duration": 23,
    "start_time": "2023-01-15T14:13:52.534Z"
   },
   {
    "duration": 99,
    "start_time": "2023-01-15T14:15:57.491Z"
   },
   {
    "duration": 1238,
    "start_time": "2023-01-15T14:16:18.172Z"
   },
   {
    "duration": 40,
    "start_time": "2023-01-15T14:16:19.412Z"
   },
   {
    "duration": 16,
    "start_time": "2023-01-15T14:16:19.454Z"
   },
   {
    "duration": 5,
    "start_time": "2023-01-15T14:16:19.471Z"
   },
   {
    "duration": 22,
    "start_time": "2023-01-15T14:16:19.479Z"
   },
   {
    "duration": 64,
    "start_time": "2023-01-15T14:16:19.503Z"
   },
   {
    "duration": 45,
    "start_time": "2023-01-15T14:16:19.568Z"
   },
   {
    "duration": 24,
    "start_time": "2023-01-15T14:16:19.614Z"
   },
   {
    "duration": 3,
    "start_time": "2023-01-15T14:16:19.640Z"
   },
   {
    "duration": 4229,
    "start_time": "2023-01-15T14:16:19.644Z"
   },
   {
    "duration": 16,
    "start_time": "2023-01-15T14:16:23.875Z"
   },
   {
    "duration": 19,
    "start_time": "2023-01-15T14:16:23.893Z"
   },
   {
    "duration": 10,
    "start_time": "2023-01-15T14:16:23.914Z"
   },
   {
    "duration": 108,
    "start_time": "2023-01-15T14:16:23.926Z"
   },
   {
    "duration": 0,
    "start_time": "2023-01-15T14:16:24.035Z"
   },
   {
    "duration": 0,
    "start_time": "2023-01-15T14:16:24.037Z"
   },
   {
    "duration": 0,
    "start_time": "2023-01-15T14:16:24.037Z"
   },
   {
    "duration": 0,
    "start_time": "2023-01-15T14:16:24.039Z"
   },
   {
    "duration": 0,
    "start_time": "2023-01-15T14:16:24.039Z"
   },
   {
    "duration": 0,
    "start_time": "2023-01-15T14:16:24.040Z"
   },
   {
    "duration": 0,
    "start_time": "2023-01-15T14:16:24.041Z"
   },
   {
    "duration": 3,
    "start_time": "2023-01-15T14:17:03.641Z"
   },
   {
    "duration": 36,
    "start_time": "2023-01-15T14:17:07.035Z"
   },
   {
    "duration": 13,
    "start_time": "2023-01-15T14:17:08.399Z"
   },
   {
    "duration": 3,
    "start_time": "2023-01-15T14:17:53.156Z"
   },
   {
    "duration": 35,
    "start_time": "2023-01-15T14:17:58.106Z"
   },
   {
    "duration": 11,
    "start_time": "2023-01-15T14:17:58.956Z"
   },
   {
    "duration": 18,
    "start_time": "2023-01-15T14:19:23.010Z"
   },
   {
    "duration": 20,
    "start_time": "2023-01-15T14:20:26.471Z"
   },
   {
    "duration": 16,
    "start_time": "2023-01-15T14:22:18.228Z"
   },
   {
    "duration": 15,
    "start_time": "2023-01-15T14:25:20.190Z"
   },
   {
    "duration": 2,
    "start_time": "2023-01-15T14:35:26.791Z"
   },
   {
    "duration": 1121,
    "start_time": "2023-01-15T14:35:55.790Z"
   },
   {
    "duration": 39,
    "start_time": "2023-01-15T14:35:56.913Z"
   },
   {
    "duration": 14,
    "start_time": "2023-01-15T14:35:56.953Z"
   },
   {
    "duration": 10,
    "start_time": "2023-01-15T14:35:56.968Z"
   },
   {
    "duration": 18,
    "start_time": "2023-01-15T14:35:56.980Z"
   },
   {
    "duration": 60,
    "start_time": "2023-01-15T14:35:56.999Z"
   },
   {
    "duration": 46,
    "start_time": "2023-01-15T14:35:57.061Z"
   },
   {
    "duration": 19,
    "start_time": "2023-01-15T14:35:57.109Z"
   },
   {
    "duration": 3,
    "start_time": "2023-01-15T14:35:57.130Z"
   },
   {
    "duration": 4340,
    "start_time": "2023-01-15T14:35:57.135Z"
   },
   {
    "duration": 19,
    "start_time": "2023-01-15T14:36:01.477Z"
   },
   {
    "duration": 14,
    "start_time": "2023-01-15T14:36:01.498Z"
   },
   {
    "duration": 20,
    "start_time": "2023-01-15T14:36:01.514Z"
   },
   {
    "duration": 7,
    "start_time": "2023-01-15T14:36:01.537Z"
   },
   {
    "duration": 57,
    "start_time": "2023-01-15T14:36:01.546Z"
   },
   {
    "duration": 13,
    "start_time": "2023-01-15T14:36:01.604Z"
   },
   {
    "duration": 42,
    "start_time": "2023-01-15T14:36:01.619Z"
   },
   {
    "duration": 17,
    "start_time": "2023-01-15T14:36:01.663Z"
   },
   {
    "duration": 94,
    "start_time": "2023-01-15T14:36:01.681Z"
   },
   {
    "duration": 15,
    "start_time": "2023-01-15T14:36:01.777Z"
   },
   {
    "duration": 38,
    "start_time": "2023-01-15T14:36:01.794Z"
   },
   {
    "duration": 9,
    "start_time": "2023-01-15T14:37:11.711Z"
   },
   {
    "duration": 130,
    "start_time": "2023-01-15T14:40:58.296Z"
   },
   {
    "duration": 48,
    "start_time": "2023-01-15T14:50:24.104Z"
   },
   {
    "duration": 50,
    "start_time": "2023-01-15T14:50:34.923Z"
   },
   {
    "duration": 50,
    "start_time": "2023-01-15T14:50:42.026Z"
   },
   {
    "duration": 46,
    "start_time": "2023-01-15T14:50:51.593Z"
   },
   {
    "duration": 51,
    "start_time": "2023-01-15T14:51:26.801Z"
   },
   {
    "duration": 19,
    "start_time": "2023-01-15T14:52:53.476Z"
   },
   {
    "duration": 5,
    "start_time": "2023-01-15T14:52:56.076Z"
   },
   {
    "duration": 54,
    "start_time": "2023-01-15T14:52:57.543Z"
   },
   {
    "duration": 55,
    "start_time": "2023-01-15T14:53:46.774Z"
   },
   {
    "duration": 53,
    "start_time": "2023-01-15T14:53:52.268Z"
   },
   {
    "duration": 3,
    "start_time": "2023-01-15T14:54:01.363Z"
   },
   {
    "duration": 47,
    "start_time": "2023-01-15T14:54:12.202Z"
   },
   {
    "duration": 56,
    "start_time": "2023-01-15T14:54:23.150Z"
   },
   {
    "duration": 48,
    "start_time": "2023-01-15T14:54:56.726Z"
   },
   {
    "duration": 40,
    "start_time": "2023-01-15T14:55:08.739Z"
   },
   {
    "duration": 19,
    "start_time": "2023-01-15T14:55:28.425Z"
   },
   {
    "duration": 21,
    "start_time": "2023-01-15T14:57:45.707Z"
   },
   {
    "duration": 26,
    "start_time": "2023-01-15T15:01:41.075Z"
   },
   {
    "duration": 18,
    "start_time": "2023-01-15T15:01:51.266Z"
   },
   {
    "duration": 1392,
    "start_time": "2023-01-16T13:22:27.607Z"
   },
   {
    "duration": 94,
    "start_time": "2023-01-16T13:22:29.002Z"
   },
   {
    "duration": 15,
    "start_time": "2023-01-16T13:22:29.098Z"
   },
   {
    "duration": 32,
    "start_time": "2023-01-16T13:22:29.115Z"
   },
   {
    "duration": 13,
    "start_time": "2023-01-16T13:22:29.149Z"
   },
   {
    "duration": 302,
    "start_time": "2023-01-16T13:22:29.163Z"
   },
   {
    "duration": 49,
    "start_time": "2023-01-16T13:22:29.467Z"
   },
   {
    "duration": 28,
    "start_time": "2023-01-16T13:22:29.517Z"
   },
   {
    "duration": 3,
    "start_time": "2023-01-16T13:22:29.546Z"
   },
   {
    "duration": 3719,
    "start_time": "2023-01-16T13:22:29.551Z"
   },
   {
    "duration": 14,
    "start_time": "2023-01-16T13:22:33.272Z"
   },
   {
    "duration": 4,
    "start_time": "2023-01-16T13:22:33.297Z"
   },
   {
    "duration": 140,
    "start_time": "2023-01-16T13:22:33.302Z"
   },
   {
    "duration": 0,
    "start_time": "2023-01-16T13:22:33.444Z"
   },
   {
    "duration": 0,
    "start_time": "2023-01-16T13:22:33.445Z"
   },
   {
    "duration": 0,
    "start_time": "2023-01-16T13:22:33.447Z"
   },
   {
    "duration": 0,
    "start_time": "2023-01-16T13:22:33.447Z"
   },
   {
    "duration": 0,
    "start_time": "2023-01-16T13:22:33.449Z"
   },
   {
    "duration": 0,
    "start_time": "2023-01-16T13:22:33.450Z"
   },
   {
    "duration": 0,
    "start_time": "2023-01-16T13:22:33.451Z"
   },
   {
    "duration": 0,
    "start_time": "2023-01-16T13:22:33.451Z"
   },
   {
    "duration": 0,
    "start_time": "2023-01-16T13:22:33.452Z"
   },
   {
    "duration": 0,
    "start_time": "2023-01-16T13:22:33.453Z"
   },
   {
    "duration": 0,
    "start_time": "2023-01-16T13:22:33.454Z"
   },
   {
    "duration": 1048,
    "start_time": "2023-01-16T13:23:07.029Z"
   },
   {
    "duration": 46,
    "start_time": "2023-01-16T13:23:08.079Z"
   },
   {
    "duration": 14,
    "start_time": "2023-01-16T13:23:08.126Z"
   },
   {
    "duration": 74,
    "start_time": "2023-01-16T13:23:08.143Z"
   },
   {
    "duration": 44,
    "start_time": "2023-01-16T13:23:08.219Z"
   },
   {
    "duration": 94,
    "start_time": "2023-01-16T13:23:08.265Z"
   },
   {
    "duration": 41,
    "start_time": "2023-01-16T13:23:08.361Z"
   },
   {
    "duration": 21,
    "start_time": "2023-01-16T13:23:08.404Z"
   },
   {
    "duration": 21,
    "start_time": "2023-01-16T13:23:08.426Z"
   },
   {
    "duration": 3746,
    "start_time": "2023-01-16T13:23:08.450Z"
   },
   {
    "duration": 13,
    "start_time": "2023-01-16T13:23:12.198Z"
   },
   {
    "duration": 14,
    "start_time": "2023-01-16T13:23:12.213Z"
   },
   {
    "duration": 11,
    "start_time": "2023-01-16T13:23:12.228Z"
   },
   {
    "duration": 35,
    "start_time": "2023-01-16T13:23:12.241Z"
   },
   {
    "duration": 10,
    "start_time": "2023-01-16T13:23:12.278Z"
   },
   {
    "duration": 10,
    "start_time": "2023-01-16T13:23:12.290Z"
   },
   {
    "duration": 20,
    "start_time": "2023-01-16T13:23:12.301Z"
   },
   {
    "duration": 112,
    "start_time": "2023-01-16T13:23:12.322Z"
   },
   {
    "duration": 0,
    "start_time": "2023-01-16T13:23:12.436Z"
   },
   {
    "duration": 0,
    "start_time": "2023-01-16T13:23:12.437Z"
   },
   {
    "duration": 0,
    "start_time": "2023-01-16T13:23:12.438Z"
   },
   {
    "duration": 0,
    "start_time": "2023-01-16T13:23:12.439Z"
   },
   {
    "duration": 29,
    "start_time": "2023-01-16T13:23:27.405Z"
   },
   {
    "duration": 28,
    "start_time": "2023-01-16T13:24:30.239Z"
   },
   {
    "duration": 3,
    "start_time": "2023-01-16T13:31:02.873Z"
   },
   {
    "duration": 20,
    "start_time": "2023-01-16T13:31:15.417Z"
   },
   {
    "duration": 32,
    "start_time": "2023-01-16T13:35:23.516Z"
   },
   {
    "duration": 24,
    "start_time": "2023-01-16T13:35:50.602Z"
   },
   {
    "duration": 29,
    "start_time": "2023-01-16T13:35:55.239Z"
   },
   {
    "duration": 28,
    "start_time": "2023-01-16T13:36:44.458Z"
   },
   {
    "duration": 26,
    "start_time": "2023-01-16T13:37:37.893Z"
   },
   {
    "duration": 28,
    "start_time": "2023-01-16T13:49:33.169Z"
   },
   {
    "duration": 14,
    "start_time": "2023-01-16T13:50:43.636Z"
   },
   {
    "duration": 27,
    "start_time": "2023-01-16T13:50:54.449Z"
   },
   {
    "duration": 12,
    "start_time": "2023-01-16T13:52:49.068Z"
   },
   {
    "duration": 9,
    "start_time": "2023-01-16T13:53:54.285Z"
   },
   {
    "duration": 9,
    "start_time": "2023-01-16T13:54:48.468Z"
   },
   {
    "duration": 4,
    "start_time": "2023-01-16T14:06:50.447Z"
   },
   {
    "duration": 3,
    "start_time": "2023-01-16T14:06:52.515Z"
   },
   {
    "duration": 16751,
    "start_time": "2023-01-16T14:06:53.715Z"
   },
   {
    "duration": 4,
    "start_time": "2023-01-16T14:13:10.786Z"
   },
   {
    "duration": 3,
    "start_time": "2023-01-16T14:13:11.829Z"
   },
   {
    "duration": 18466,
    "start_time": "2023-01-16T14:13:15.147Z"
   },
   {
    "duration": 4,
    "start_time": "2023-01-16T14:14:11.749Z"
   },
   {
    "duration": 419,
    "start_time": "2023-01-16T14:15:38.880Z"
   },
   {
    "duration": 726,
    "start_time": "2023-01-16T14:16:12.693Z"
   },
   {
    "duration": 1058,
    "start_time": "2023-01-16T14:24:50.838Z"
   },
   {
    "duration": 28,
    "start_time": "2023-01-16T14:24:51.901Z"
   },
   {
    "duration": 14,
    "start_time": "2023-01-16T14:24:51.931Z"
   },
   {
    "duration": 12,
    "start_time": "2023-01-16T14:24:51.947Z"
   },
   {
    "duration": 48,
    "start_time": "2023-01-16T14:24:51.961Z"
   },
   {
    "duration": 78,
    "start_time": "2023-01-16T14:24:52.011Z"
   },
   {
    "duration": 45,
    "start_time": "2023-01-16T14:24:52.090Z"
   },
   {
    "duration": 18,
    "start_time": "2023-01-16T14:24:52.137Z"
   },
   {
    "duration": 3,
    "start_time": "2023-01-16T14:24:52.157Z"
   },
   {
    "duration": 4046,
    "start_time": "2023-01-16T14:24:52.163Z"
   },
   {
    "duration": 14,
    "start_time": "2023-01-16T14:24:56.211Z"
   },
   {
    "duration": 9,
    "start_time": "2023-01-16T14:24:56.227Z"
   },
   {
    "duration": 22,
    "start_time": "2023-01-16T14:24:56.238Z"
   },
   {
    "duration": 42,
    "start_time": "2023-01-16T14:24:56.261Z"
   },
   {
    "duration": 12,
    "start_time": "2023-01-16T14:24:56.305Z"
   },
   {
    "duration": 14,
    "start_time": "2023-01-16T14:24:56.319Z"
   },
   {
    "duration": 34,
    "start_time": "2023-01-16T14:24:56.335Z"
   },
   {
    "duration": 40,
    "start_time": "2023-01-16T14:24:56.371Z"
   },
   {
    "duration": 21,
    "start_time": "2023-01-16T14:24:56.413Z"
   },
   {
    "duration": 18,
    "start_time": "2023-01-16T14:24:56.436Z"
   },
   {
    "duration": 11,
    "start_time": "2023-01-16T14:27:47.025Z"
   },
   {
    "duration": 8,
    "start_time": "2023-01-16T14:32:37.552Z"
   },
   {
    "duration": 7,
    "start_time": "2023-01-16T14:32:42.743Z"
   },
   {
    "duration": 11,
    "start_time": "2023-01-16T14:32:54.636Z"
   },
   {
    "duration": 8,
    "start_time": "2023-01-16T14:34:14.944Z"
   },
   {
    "duration": 9,
    "start_time": "2023-01-16T14:34:17.628Z"
   },
   {
    "duration": 11,
    "start_time": "2023-01-16T14:34:18.301Z"
   },
   {
    "duration": 9,
    "start_time": "2023-01-16T15:21:10.148Z"
   },
   {
    "duration": 4,
    "start_time": "2023-01-16T15:27:03.240Z"
   },
   {
    "duration": 38,
    "start_time": "2023-01-16T15:27:09.309Z"
   },
   {
    "duration": 10,
    "start_time": "2023-01-16T15:27:10.544Z"
   },
   {
    "duration": 1018,
    "start_time": "2023-01-16T15:30:57.456Z"
   },
   {
    "duration": 35,
    "start_time": "2023-01-16T15:30:58.476Z"
   },
   {
    "duration": 14,
    "start_time": "2023-01-16T15:30:58.513Z"
   },
   {
    "duration": 4,
    "start_time": "2023-01-16T15:30:58.528Z"
   },
   {
    "duration": 15,
    "start_time": "2023-01-16T15:30:58.534Z"
   },
   {
    "duration": 57,
    "start_time": "2023-01-16T15:30:58.550Z"
   },
   {
    "duration": 38,
    "start_time": "2023-01-16T15:30:58.608Z"
   },
   {
    "duration": 18,
    "start_time": "2023-01-16T15:30:58.648Z"
   },
   {
    "duration": 3,
    "start_time": "2023-01-16T15:30:58.667Z"
   },
   {
    "duration": 4187,
    "start_time": "2023-01-16T15:30:58.671Z"
   },
   {
    "duration": 13,
    "start_time": "2023-01-16T15:31:02.860Z"
   },
   {
    "duration": 16,
    "start_time": "2023-01-16T15:31:02.875Z"
   },
   {
    "duration": 23,
    "start_time": "2023-01-16T15:31:02.893Z"
   },
   {
    "duration": 9,
    "start_time": "2023-01-16T15:31:02.919Z"
   },
   {
    "duration": 40,
    "start_time": "2023-01-16T15:31:02.930Z"
   },
   {
    "duration": 88,
    "start_time": "2023-01-16T15:31:02.972Z"
   },
   {
    "duration": 21,
    "start_time": "2023-01-16T15:31:03.061Z"
   },
   {
    "duration": 27,
    "start_time": "2023-01-16T15:31:03.084Z"
   },
   {
    "duration": 14,
    "start_time": "2023-01-16T15:31:03.113Z"
   },
   {
    "duration": 18,
    "start_time": "2023-01-16T15:31:03.129Z"
   },
   {
    "duration": 16,
    "start_time": "2023-01-16T15:31:03.149Z"
   },
   {
    "duration": 13,
    "start_time": "2023-01-16T15:31:03.167Z"
   },
   {
    "duration": 35,
    "start_time": "2023-01-16T15:31:03.182Z"
   },
   {
    "duration": 16,
    "start_time": "2023-01-16T15:31:03.219Z"
   },
   {
    "duration": 3,
    "start_time": "2023-01-16T15:31:03.237Z"
   },
   {
    "duration": 5,
    "start_time": "2023-01-16T15:31:49.354Z"
   },
   {
    "duration": 35,
    "start_time": "2023-01-16T15:31:56.335Z"
   },
   {
    "duration": 11,
    "start_time": "2023-01-16T15:31:57.403Z"
   },
   {
    "duration": 1102,
    "start_time": "2023-01-16T15:32:30.184Z"
   },
   {
    "duration": 47,
    "start_time": "2023-01-16T15:32:31.288Z"
   },
   {
    "duration": 14,
    "start_time": "2023-01-16T15:32:31.336Z"
   },
   {
    "duration": 12,
    "start_time": "2023-01-16T15:32:31.352Z"
   },
   {
    "duration": 25,
    "start_time": "2023-01-16T15:32:31.365Z"
   },
   {
    "duration": 61,
    "start_time": "2023-01-16T15:32:31.392Z"
   },
   {
    "duration": 37,
    "start_time": "2023-01-16T15:32:31.455Z"
   },
   {
    "duration": 20,
    "start_time": "2023-01-16T15:32:31.494Z"
   },
   {
    "duration": 8,
    "start_time": "2023-01-16T15:32:31.515Z"
   },
   {
    "duration": 3831,
    "start_time": "2023-01-16T15:32:31.525Z"
   },
   {
    "duration": 13,
    "start_time": "2023-01-16T15:32:35.358Z"
   },
   {
    "duration": 5,
    "start_time": "2023-01-16T15:32:35.372Z"
   },
   {
    "duration": 18,
    "start_time": "2023-01-16T15:32:35.379Z"
   },
   {
    "duration": 8,
    "start_time": "2023-01-16T15:32:35.399Z"
   },
   {
    "duration": 10,
    "start_time": "2023-01-16T15:32:35.408Z"
   },
   {
    "duration": 39,
    "start_time": "2023-01-16T15:32:35.420Z"
   },
   {
    "duration": 11,
    "start_time": "2023-01-16T15:32:35.460Z"
   },
   {
    "duration": 10,
    "start_time": "2023-01-16T15:32:35.472Z"
   },
   {
    "duration": 4,
    "start_time": "2023-01-16T15:32:35.497Z"
   },
   {
    "duration": 16,
    "start_time": "2023-01-16T15:32:35.502Z"
   },
   {
    "duration": 32,
    "start_time": "2023-01-16T15:32:35.520Z"
   },
   {
    "duration": 23,
    "start_time": "2023-01-16T15:32:35.554Z"
   },
   {
    "duration": 32,
    "start_time": "2023-01-16T15:32:35.579Z"
   },
   {
    "duration": 16,
    "start_time": "2023-01-16T15:32:35.612Z"
   },
   {
    "duration": 31,
    "start_time": "2023-01-16T15:32:35.630Z"
   },
   {
    "duration": 41,
    "start_time": "2023-01-16T15:38:24.466Z"
   },
   {
    "duration": 7,
    "start_time": "2023-01-16T15:39:12.160Z"
   },
   {
    "duration": 1114,
    "start_time": "2023-01-16T15:46:08.102Z"
   },
   {
    "duration": 35,
    "start_time": "2023-01-16T15:46:09.218Z"
   },
   {
    "duration": 15,
    "start_time": "2023-01-16T15:46:09.254Z"
   },
   {
    "duration": 6,
    "start_time": "2023-01-16T15:46:09.271Z"
   },
   {
    "duration": 12,
    "start_time": "2023-01-16T15:46:09.279Z"
   },
   {
    "duration": 57,
    "start_time": "2023-01-16T15:46:09.292Z"
   },
   {
    "duration": 40,
    "start_time": "2023-01-16T15:46:09.350Z"
   },
   {
    "duration": 18,
    "start_time": "2023-01-16T15:46:09.392Z"
   },
   {
    "duration": 3,
    "start_time": "2023-01-16T15:46:09.411Z"
   },
   {
    "duration": 3725,
    "start_time": "2023-01-16T15:46:09.415Z"
   },
   {
    "duration": 12,
    "start_time": "2023-01-16T15:46:13.142Z"
   },
   {
    "duration": 4,
    "start_time": "2023-01-16T15:46:13.155Z"
   },
   {
    "duration": 8,
    "start_time": "2023-01-16T15:46:13.160Z"
   },
   {
    "duration": 46,
    "start_time": "2023-01-16T15:46:13.170Z"
   },
   {
    "duration": 9,
    "start_time": "2023-01-16T15:46:13.218Z"
   },
   {
    "duration": 6,
    "start_time": "2023-01-16T15:46:13.228Z"
   },
   {
    "duration": 5,
    "start_time": "2023-01-16T15:46:13.236Z"
   },
   {
    "duration": 10,
    "start_time": "2023-01-16T15:46:13.242Z"
   },
   {
    "duration": 7,
    "start_time": "2023-01-16T15:46:13.253Z"
   },
   {
    "duration": 44,
    "start_time": "2023-01-16T15:46:13.261Z"
   },
   {
    "duration": 11,
    "start_time": "2023-01-16T15:46:13.306Z"
   },
   {
    "duration": 3,
    "start_time": "2023-01-16T15:46:13.318Z"
   },
   {
    "duration": 6,
    "start_time": "2023-01-16T15:47:48.059Z"
   },
   {
    "duration": 5,
    "start_time": "2023-01-16T15:48:05.159Z"
   },
   {
    "duration": 824,
    "start_time": "2023-01-16T15:51:59.322Z"
   },
   {
    "duration": 17,
    "start_time": "2023-01-16T15:52:11.243Z"
   },
   {
    "duration": 23,
    "start_time": "2023-01-16T15:56:45.895Z"
   },
   {
    "duration": 16,
    "start_time": "2023-01-16T16:00:09.436Z"
   },
   {
    "duration": 27,
    "start_time": "2023-01-16T16:00:46.283Z"
   },
   {
    "duration": 10,
    "start_time": "2023-01-16T16:02:16.360Z"
   },
   {
    "duration": 8,
    "start_time": "2023-01-16T16:02:25.891Z"
   },
   {
    "duration": 44,
    "start_time": "2023-01-16T16:03:10.135Z"
   },
   {
    "duration": 61,
    "start_time": "2023-01-16T16:03:21.991Z"
   },
   {
    "duration": 44,
    "start_time": "2023-01-16T16:03:41.525Z"
   },
   {
    "duration": 48,
    "start_time": "2023-01-16T16:03:59.062Z"
   },
   {
    "duration": 27,
    "start_time": "2023-01-16T16:06:01.503Z"
   },
   {
    "duration": 13,
    "start_time": "2023-01-16T16:06:40.318Z"
   },
   {
    "duration": 1210,
    "start_time": "2023-01-16T16:11:34.367Z"
   },
   {
    "duration": 37,
    "start_time": "2023-01-16T16:11:35.579Z"
   },
   {
    "duration": 14,
    "start_time": "2023-01-16T16:11:35.619Z"
   },
   {
    "duration": 20,
    "start_time": "2023-01-16T16:11:35.635Z"
   },
   {
    "duration": 20,
    "start_time": "2023-01-16T16:11:35.658Z"
   },
   {
    "duration": 76,
    "start_time": "2023-01-16T16:11:35.680Z"
   },
   {
    "duration": 38,
    "start_time": "2023-01-16T16:11:35.758Z"
   },
   {
    "duration": 33,
    "start_time": "2023-01-16T16:11:35.797Z"
   },
   {
    "duration": 5,
    "start_time": "2023-01-16T16:11:35.832Z"
   },
   {
    "duration": 3744,
    "start_time": "2023-01-16T16:11:35.838Z"
   },
   {
    "duration": 18,
    "start_time": "2023-01-16T16:11:39.584Z"
   },
   {
    "duration": 4,
    "start_time": "2023-01-16T16:11:39.605Z"
   },
   {
    "duration": 5,
    "start_time": "2023-01-16T16:11:39.611Z"
   },
   {
    "duration": 40,
    "start_time": "2023-01-16T16:11:39.620Z"
   },
   {
    "duration": 11,
    "start_time": "2023-01-16T16:11:39.662Z"
   },
   {
    "duration": 5,
    "start_time": "2023-01-16T16:11:39.698Z"
   },
   {
    "duration": 7,
    "start_time": "2023-01-16T16:11:39.705Z"
   },
   {
    "duration": 40,
    "start_time": "2023-01-16T16:11:39.714Z"
   },
   {
    "duration": 43,
    "start_time": "2023-01-16T16:11:39.756Z"
   },
   {
    "duration": 17,
    "start_time": "2023-01-16T16:11:39.800Z"
   },
   {
    "duration": 11,
    "start_time": "2023-01-16T16:11:39.818Z"
   },
   {
    "duration": 16,
    "start_time": "2023-01-16T16:11:39.831Z"
   },
   {
    "duration": 1186,
    "start_time": "2023-01-16T16:12:42.994Z"
   },
   {
    "duration": 36,
    "start_time": "2023-01-16T16:12:44.181Z"
   },
   {
    "duration": 13,
    "start_time": "2023-01-16T16:12:44.219Z"
   },
   {
    "duration": 4,
    "start_time": "2023-01-16T16:12:44.235Z"
   },
   {
    "duration": 13,
    "start_time": "2023-01-16T16:12:44.240Z"
   },
   {
    "duration": 61,
    "start_time": "2023-01-16T16:12:44.254Z"
   },
   {
    "duration": 44,
    "start_time": "2023-01-16T16:12:44.317Z"
   },
   {
    "duration": 35,
    "start_time": "2023-01-16T16:12:44.363Z"
   },
   {
    "duration": 4,
    "start_time": "2023-01-16T16:12:44.400Z"
   },
   {
    "duration": 3921,
    "start_time": "2023-01-16T16:12:44.406Z"
   },
   {
    "duration": 12,
    "start_time": "2023-01-16T16:12:48.328Z"
   },
   {
    "duration": 4,
    "start_time": "2023-01-16T16:12:48.342Z"
   },
   {
    "duration": 6,
    "start_time": "2023-01-16T16:12:48.347Z"
   },
   {
    "duration": 51,
    "start_time": "2023-01-16T16:12:48.354Z"
   },
   {
    "duration": 11,
    "start_time": "2023-01-16T16:12:48.406Z"
   },
   {
    "duration": 17,
    "start_time": "2023-01-16T16:12:48.418Z"
   },
   {
    "duration": 14,
    "start_time": "2023-01-16T16:12:48.436Z"
   },
   {
    "duration": 34,
    "start_time": "2023-01-16T16:12:48.451Z"
   },
   {
    "duration": 12,
    "start_time": "2023-01-16T16:12:48.487Z"
   },
   {
    "duration": 12,
    "start_time": "2023-01-16T16:12:48.500Z"
   },
   {
    "duration": 10,
    "start_time": "2023-01-16T16:12:48.513Z"
   },
   {
    "duration": 2,
    "start_time": "2023-01-16T16:12:48.525Z"
   },
   {
    "duration": 43,
    "start_time": "2023-01-17T04:38:47.177Z"
   },
   {
    "duration": 6,
    "start_time": "2023-01-17T04:38:54.752Z"
   },
   {
    "duration": 1283,
    "start_time": "2023-01-17T04:39:00.228Z"
   },
   {
    "duration": 65,
    "start_time": "2023-01-17T04:39:01.513Z"
   },
   {
    "duration": 16,
    "start_time": "2023-01-17T04:39:01.580Z"
   },
   {
    "duration": 41,
    "start_time": "2023-01-17T04:39:01.598Z"
   },
   {
    "duration": 50,
    "start_time": "2023-01-17T04:39:01.641Z"
   },
   {
    "duration": 159,
    "start_time": "2023-01-17T04:39:01.692Z"
   },
   {
    "duration": 36,
    "start_time": "2023-01-17T04:39:01.853Z"
   },
   {
    "duration": 18,
    "start_time": "2023-01-17T04:39:01.891Z"
   },
   {
    "duration": 5,
    "start_time": "2023-01-17T04:39:01.911Z"
   },
   {
    "duration": 4055,
    "start_time": "2023-01-17T04:39:01.917Z"
   },
   {
    "duration": 12,
    "start_time": "2023-01-17T04:39:05.977Z"
   },
   {
    "duration": 9,
    "start_time": "2023-01-17T04:39:05.991Z"
   },
   {
    "duration": 8,
    "start_time": "2023-01-17T04:39:06.001Z"
   },
   {
    "duration": 12,
    "start_time": "2023-01-17T04:39:06.011Z"
   },
   {
    "duration": 33,
    "start_time": "2023-01-17T04:39:06.025Z"
   },
   {
    "duration": 25,
    "start_time": "2023-01-17T04:39:06.060Z"
   },
   {
    "duration": 7,
    "start_time": "2023-01-17T04:39:06.087Z"
   },
   {
    "duration": 6,
    "start_time": "2023-01-17T04:39:06.096Z"
   },
   {
    "duration": 34,
    "start_time": "2023-01-17T04:39:06.103Z"
   },
   {
    "duration": 14,
    "start_time": "2023-01-17T04:39:06.139Z"
   },
   {
    "duration": 33,
    "start_time": "2023-01-17T04:39:06.155Z"
   },
   {
    "duration": 12,
    "start_time": "2023-01-17T04:39:06.190Z"
   },
   {
    "duration": 4,
    "start_time": "2023-01-17T04:39:06.204Z"
   },
   {
    "duration": 9,
    "start_time": "2023-01-17T04:39:42.343Z"
   },
   {
    "duration": 47,
    "start_time": "2023-01-17T11:06:29.035Z"
   },
   {
    "duration": 1312,
    "start_time": "2023-01-17T11:06:34.715Z"
   },
   {
    "duration": 92,
    "start_time": "2023-01-17T11:06:36.030Z"
   },
   {
    "duration": 22,
    "start_time": "2023-01-17T11:06:36.124Z"
   },
   {
    "duration": 9,
    "start_time": "2023-01-17T11:06:36.148Z"
   },
   {
    "duration": 21,
    "start_time": "2023-01-17T11:06:36.159Z"
   },
   {
    "duration": 285,
    "start_time": "2023-01-17T11:06:36.182Z"
   },
   {
    "duration": 45,
    "start_time": "2023-01-17T11:06:36.469Z"
   },
   {
    "duration": 26,
    "start_time": "2023-01-17T11:06:36.516Z"
   },
   {
    "duration": 3,
    "start_time": "2023-01-17T11:06:36.544Z"
   },
   {
    "duration": 4217,
    "start_time": "2023-01-17T11:06:36.550Z"
   },
   {
    "duration": 12,
    "start_time": "2023-01-17T11:06:40.769Z"
   },
   {
    "duration": 4,
    "start_time": "2023-01-17T11:06:40.791Z"
   },
   {
    "duration": 14,
    "start_time": "2023-01-17T11:06:40.796Z"
   },
   {
    "duration": 11,
    "start_time": "2023-01-17T11:06:40.812Z"
   },
   {
    "duration": 8,
    "start_time": "2023-01-17T11:06:40.825Z"
   },
   {
    "duration": 32,
    "start_time": "2023-01-17T11:06:40.835Z"
   },
   {
    "duration": 31,
    "start_time": "2023-01-17T11:06:40.868Z"
   },
   {
    "duration": 25,
    "start_time": "2023-01-17T11:06:40.901Z"
   },
   {
    "duration": 62,
    "start_time": "2023-01-17T11:06:40.927Z"
   },
   {
    "duration": 39,
    "start_time": "2023-01-17T11:06:40.990Z"
   },
   {
    "duration": 31,
    "start_time": "2023-01-17T11:06:41.030Z"
   },
   {
    "duration": 17,
    "start_time": "2023-01-17T11:06:41.062Z"
   },
   {
    "duration": 19,
    "start_time": "2023-01-17T11:06:41.081Z"
   },
   {
    "duration": 141,
    "start_time": "2023-01-17T11:06:41.102Z"
   },
   {
    "duration": 0,
    "start_time": "2023-01-17T11:06:41.245Z"
   },
   {
    "duration": 27,
    "start_time": "2023-01-17T11:14:38.203Z"
   },
   {
    "duration": 26,
    "start_time": "2023-01-17T11:15:00.036Z"
   },
   {
    "duration": 1072,
    "start_time": "2023-01-17T11:15:40.526Z"
   },
   {
    "duration": 37,
    "start_time": "2023-01-17T11:15:41.600Z"
   },
   {
    "duration": 15,
    "start_time": "2023-01-17T11:15:41.641Z"
   },
   {
    "duration": 13,
    "start_time": "2023-01-17T11:15:41.658Z"
   },
   {
    "duration": 15,
    "start_time": "2023-01-17T11:15:41.673Z"
   },
   {
    "duration": 119,
    "start_time": "2023-01-17T11:15:41.690Z"
   },
   {
    "duration": 41,
    "start_time": "2023-01-17T11:15:41.810Z"
   },
   {
    "duration": 21,
    "start_time": "2023-01-17T11:15:41.853Z"
   },
   {
    "duration": 4,
    "start_time": "2023-01-17T11:15:41.891Z"
   },
   {
    "duration": 4037,
    "start_time": "2023-01-17T11:15:41.896Z"
   },
   {
    "duration": 13,
    "start_time": "2023-01-17T11:15:45.935Z"
   },
   {
    "duration": 5,
    "start_time": "2023-01-17T11:15:45.949Z"
   },
   {
    "duration": 7,
    "start_time": "2023-01-17T11:15:45.955Z"
   },
   {
    "duration": 28,
    "start_time": "2023-01-17T11:15:45.965Z"
   },
   {
    "duration": 10,
    "start_time": "2023-01-17T11:15:45.994Z"
   },
   {
    "duration": 35,
    "start_time": "2023-01-17T11:15:46.005Z"
   },
   {
    "duration": 11,
    "start_time": "2023-01-17T11:15:46.042Z"
   },
   {
    "duration": 23,
    "start_time": "2023-01-17T11:15:46.055Z"
   },
   {
    "duration": 4,
    "start_time": "2023-01-17T11:15:46.092Z"
   },
   {
    "duration": 24,
    "start_time": "2023-01-17T11:15:46.097Z"
   },
   {
    "duration": 13,
    "start_time": "2023-01-17T11:15:46.123Z"
   },
   {
    "duration": 54,
    "start_time": "2023-01-17T11:15:46.138Z"
   },
   {
    "duration": 18,
    "start_time": "2023-01-17T11:15:46.194Z"
   },
   {
    "duration": 16,
    "start_time": "2023-01-17T11:15:46.215Z"
   },
   {
    "duration": 165,
    "start_time": "2023-01-17T11:15:46.233Z"
   },
   {
    "duration": 0,
    "start_time": "2023-01-17T11:15:46.400Z"
   },
   {
    "duration": 14,
    "start_time": "2023-01-17T11:16:29.765Z"
   },
   {
    "duration": 3,
    "start_time": "2023-01-17T11:29:39.323Z"
   },
   {
    "duration": 10,
    "start_time": "2023-01-17T11:29:48.952Z"
   },
   {
    "duration": 11,
    "start_time": "2023-01-17T11:30:09.651Z"
   },
   {
    "duration": 92,
    "start_time": "2023-01-17T11:31:26.124Z"
   },
   {
    "duration": 71,
    "start_time": "2023-01-17T11:32:01.427Z"
   },
   {
    "duration": 842,
    "start_time": "2023-01-17T11:42:45.764Z"
   },
   {
    "duration": 200,
    "start_time": "2023-01-17T11:43:30.394Z"
   },
   {
    "duration": 223,
    "start_time": "2023-01-17T11:44:35.670Z"
   },
   {
    "duration": 147,
    "start_time": "2023-01-17T11:44:59.420Z"
   },
   {
    "duration": 59,
    "start_time": "2023-01-17T11:46:25.289Z"
   },
   {
    "duration": 9,
    "start_time": "2023-01-17T11:49:28.853Z"
   },
   {
    "duration": 15,
    "start_time": "2023-01-17T11:55:39.009Z"
   },
   {
    "duration": 11,
    "start_time": "2023-01-17T11:55:54.984Z"
   },
   {
    "duration": 63,
    "start_time": "2023-01-17T11:59:24.336Z"
   },
   {
    "duration": 48,
    "start_time": "2023-01-17T12:00:12.205Z"
   },
   {
    "duration": 1107,
    "start_time": "2023-01-17T14:05:39.806Z"
   },
   {
    "duration": 37,
    "start_time": "2023-01-17T14:05:40.916Z"
   },
   {
    "duration": 15,
    "start_time": "2023-01-17T14:05:40.955Z"
   },
   {
    "duration": 12,
    "start_time": "2023-01-17T14:05:40.972Z"
   },
   {
    "duration": 16,
    "start_time": "2023-01-17T14:05:40.986Z"
   },
   {
    "duration": 60,
    "start_time": "2023-01-17T14:05:41.004Z"
   },
   {
    "duration": 38,
    "start_time": "2023-01-17T14:05:41.065Z"
   },
   {
    "duration": 19,
    "start_time": "2023-01-17T14:05:41.105Z"
   },
   {
    "duration": 3,
    "start_time": "2023-01-17T14:05:41.126Z"
   },
   {
    "duration": 4115,
    "start_time": "2023-01-17T14:05:41.132Z"
   },
   {
    "duration": 13,
    "start_time": "2023-01-17T14:05:45.249Z"
   },
   {
    "duration": 30,
    "start_time": "2023-01-17T14:05:45.264Z"
   },
   {
    "duration": 18,
    "start_time": "2023-01-17T14:05:45.296Z"
   },
   {
    "duration": 15,
    "start_time": "2023-01-17T14:05:45.316Z"
   },
   {
    "duration": 11,
    "start_time": "2023-01-17T14:05:45.333Z"
   },
   {
    "duration": 40,
    "start_time": "2023-01-17T14:05:45.346Z"
   },
   {
    "duration": 16,
    "start_time": "2023-01-17T14:05:45.388Z"
   },
   {
    "duration": 14,
    "start_time": "2023-01-17T14:05:45.406Z"
   },
   {
    "duration": 5,
    "start_time": "2023-01-17T14:05:45.422Z"
   },
   {
    "duration": 24,
    "start_time": "2023-01-17T14:05:45.429Z"
   },
   {
    "duration": 14,
    "start_time": "2023-01-17T14:05:45.455Z"
   },
   {
    "duration": 45,
    "start_time": "2023-01-17T14:05:45.470Z"
   },
   {
    "duration": 13,
    "start_time": "2023-01-17T14:05:45.517Z"
   },
   {
    "duration": 16,
    "start_time": "2023-01-17T14:05:45.532Z"
   },
   {
    "duration": 11,
    "start_time": "2023-01-17T14:05:45.550Z"
   },
   {
    "duration": 171,
    "start_time": "2023-01-17T14:05:45.592Z"
   },
   {
    "duration": 172,
    "start_time": "2023-01-17T14:05:45.764Z"
   },
   {
    "duration": 130,
    "start_time": "2023-01-17T14:05:45.939Z"
   },
   {
    "duration": 44,
    "start_time": "2023-01-17T14:05:46.071Z"
   },
   {
    "duration": 0,
    "start_time": "2023-01-17T14:05:46.117Z"
   },
   {
    "duration": 0,
    "start_time": "2023-01-17T14:05:46.118Z"
   },
   {
    "duration": 10,
    "start_time": "2023-01-17T14:26:01.533Z"
   },
   {
    "duration": 15,
    "start_time": "2023-01-17T14:26:14.530Z"
   },
   {
    "duration": 15,
    "start_time": "2023-01-17T14:26:56.280Z"
   },
   {
    "duration": 12,
    "start_time": "2023-01-17T14:28:28.965Z"
   },
   {
    "duration": 1174,
    "start_time": "2023-01-17T14:28:39.147Z"
   },
   {
    "duration": 37,
    "start_time": "2023-01-17T14:28:40.323Z"
   },
   {
    "duration": 16,
    "start_time": "2023-01-17T14:28:40.362Z"
   },
   {
    "duration": 10,
    "start_time": "2023-01-17T14:28:40.379Z"
   },
   {
    "duration": 14,
    "start_time": "2023-01-17T14:28:40.392Z"
   },
   {
    "duration": 61,
    "start_time": "2023-01-17T14:28:40.408Z"
   },
   {
    "duration": 45,
    "start_time": "2023-01-17T14:28:40.471Z"
   },
   {
    "duration": 21,
    "start_time": "2023-01-17T14:28:40.518Z"
   },
   {
    "duration": 3,
    "start_time": "2023-01-17T14:28:40.541Z"
   },
   {
    "duration": 4314,
    "start_time": "2023-01-17T14:28:40.545Z"
   },
   {
    "duration": 13,
    "start_time": "2023-01-17T14:28:44.861Z"
   },
   {
    "duration": 18,
    "start_time": "2023-01-17T14:28:44.876Z"
   },
   {
    "duration": 8,
    "start_time": "2023-01-17T14:28:44.896Z"
   },
   {
    "duration": 19,
    "start_time": "2023-01-17T14:28:44.907Z"
   },
   {
    "duration": 10,
    "start_time": "2023-01-17T14:28:44.928Z"
   },
   {
    "duration": 60,
    "start_time": "2023-01-17T14:28:44.939Z"
   },
   {
    "duration": 12,
    "start_time": "2023-01-17T14:28:45.002Z"
   },
   {
    "duration": 48,
    "start_time": "2023-01-17T14:28:45.016Z"
   },
   {
    "duration": 52,
    "start_time": "2023-01-17T14:28:45.066Z"
   },
   {
    "duration": 40,
    "start_time": "2023-01-17T14:28:45.120Z"
   },
   {
    "duration": 56,
    "start_time": "2023-01-17T14:28:45.162Z"
   },
   {
    "duration": 84,
    "start_time": "2023-01-17T14:28:45.220Z"
   },
   {
    "duration": 27,
    "start_time": "2023-01-17T14:28:45.306Z"
   },
   {
    "duration": 23,
    "start_time": "2023-01-17T14:28:45.334Z"
   },
   {
    "duration": 16,
    "start_time": "2023-01-17T14:28:45.358Z"
   },
   {
    "duration": 28,
    "start_time": "2023-01-17T14:28:45.376Z"
   },
   {
    "duration": 188,
    "start_time": "2023-01-17T14:28:45.406Z"
   },
   {
    "duration": 175,
    "start_time": "2023-01-17T14:28:45.596Z"
   },
   {
    "duration": 135,
    "start_time": "2023-01-17T14:28:45.773Z"
   },
   {
    "duration": 64,
    "start_time": "2023-01-17T14:28:45.910Z"
   },
   {
    "duration": 0,
    "start_time": "2023-01-17T14:28:45.977Z"
   },
   {
    "duration": 0,
    "start_time": "2023-01-17T14:28:45.978Z"
   },
   {
    "duration": 26,
    "start_time": "2023-01-17T14:30:16.117Z"
   },
   {
    "duration": 24,
    "start_time": "2023-01-17T14:34:50.373Z"
   },
   {
    "duration": 18,
    "start_time": "2023-01-17T14:35:05.901Z"
   },
   {
    "duration": 1158,
    "start_time": "2023-01-17T14:47:08.559Z"
   },
   {
    "duration": 37,
    "start_time": "2023-01-17T14:47:09.719Z"
   },
   {
    "duration": 16,
    "start_time": "2023-01-17T14:47:09.758Z"
   },
   {
    "duration": 5,
    "start_time": "2023-01-17T14:47:09.777Z"
   },
   {
    "duration": 15,
    "start_time": "2023-01-17T14:47:09.783Z"
   },
   {
    "duration": 63,
    "start_time": "2023-01-17T14:47:09.800Z"
   },
   {
    "duration": 41,
    "start_time": "2023-01-17T14:47:09.865Z"
   },
   {
    "duration": 21,
    "start_time": "2023-01-17T14:47:09.908Z"
   },
   {
    "duration": 3,
    "start_time": "2023-01-17T14:47:09.931Z"
   },
   {
    "duration": 4111,
    "start_time": "2023-01-17T14:47:09.936Z"
   },
   {
    "duration": 14,
    "start_time": "2023-01-17T14:47:14.048Z"
   },
   {
    "duration": 4,
    "start_time": "2023-01-17T14:47:14.064Z"
   },
   {
    "duration": 22,
    "start_time": "2023-01-17T14:47:14.070Z"
   },
   {
    "duration": 9,
    "start_time": "2023-01-17T14:47:14.094Z"
   },
   {
    "duration": 10,
    "start_time": "2023-01-17T14:47:14.105Z"
   },
   {
    "duration": 33,
    "start_time": "2023-01-17T14:47:14.116Z"
   },
   {
    "duration": 11,
    "start_time": "2023-01-17T14:47:14.150Z"
   },
   {
    "duration": 32,
    "start_time": "2023-01-17T14:47:14.163Z"
   },
   {
    "duration": 11,
    "start_time": "2023-01-17T14:47:14.197Z"
   },
   {
    "duration": 26,
    "start_time": "2023-01-17T14:47:14.209Z"
   },
   {
    "duration": 13,
    "start_time": "2023-01-17T14:47:14.237Z"
   },
   {
    "duration": 48,
    "start_time": "2023-01-17T14:47:14.252Z"
   },
   {
    "duration": 16,
    "start_time": "2023-01-17T14:47:14.302Z"
   },
   {
    "duration": 20,
    "start_time": "2023-01-17T14:47:14.320Z"
   },
   {
    "duration": 15,
    "start_time": "2023-01-17T14:47:14.342Z"
   },
   {
    "duration": 43,
    "start_time": "2023-01-17T14:47:14.359Z"
   },
   {
    "duration": 190,
    "start_time": "2023-01-17T14:47:14.404Z"
   },
   {
    "duration": 182,
    "start_time": "2023-01-17T14:47:14.598Z"
   },
   {
    "duration": 138,
    "start_time": "2023-01-17T14:47:14.783Z"
   },
   {
    "duration": 74,
    "start_time": "2023-01-17T14:47:14.923Z"
   },
   {
    "duration": 0,
    "start_time": "2023-01-17T14:47:14.999Z"
   },
   {
    "duration": 0,
    "start_time": "2023-01-17T14:47:15.000Z"
   },
   {
    "duration": 18,
    "start_time": "2023-01-17T14:51:00.751Z"
   },
   {
    "duration": 17,
    "start_time": "2023-01-17T14:51:09.933Z"
   },
   {
    "duration": 25,
    "start_time": "2023-01-17T14:53:06.985Z"
   },
   {
    "duration": 21,
    "start_time": "2023-01-17T14:54:51.168Z"
   },
   {
    "duration": 1115,
    "start_time": "2023-01-17T14:57:57.489Z"
   },
   {
    "duration": 37,
    "start_time": "2023-01-17T14:57:58.606Z"
   },
   {
    "duration": 15,
    "start_time": "2023-01-17T14:57:58.645Z"
   },
   {
    "duration": 6,
    "start_time": "2023-01-17T14:57:58.661Z"
   },
   {
    "duration": 23,
    "start_time": "2023-01-17T14:57:58.669Z"
   },
   {
    "duration": 68,
    "start_time": "2023-01-17T14:57:58.694Z"
   },
   {
    "duration": 41,
    "start_time": "2023-01-17T14:57:58.764Z"
   },
   {
    "duration": 19,
    "start_time": "2023-01-17T14:57:58.807Z"
   },
   {
    "duration": 3,
    "start_time": "2023-01-17T14:57:58.828Z"
   },
   {
    "duration": 4212,
    "start_time": "2023-01-17T14:57:58.833Z"
   },
   {
    "duration": 12,
    "start_time": "2023-01-17T14:58:03.047Z"
   },
   {
    "duration": 21,
    "start_time": "2023-01-17T14:58:03.061Z"
   },
   {
    "duration": 7,
    "start_time": "2023-01-17T14:58:03.084Z"
   },
   {
    "duration": 15,
    "start_time": "2023-01-17T14:58:03.093Z"
   },
   {
    "duration": 9,
    "start_time": "2023-01-17T14:58:03.109Z"
   },
   {
    "duration": 33,
    "start_time": "2023-01-17T14:58:03.119Z"
   },
   {
    "duration": 10,
    "start_time": "2023-01-17T14:58:03.154Z"
   },
   {
    "duration": 29,
    "start_time": "2023-01-17T14:58:03.166Z"
   },
   {
    "duration": 9,
    "start_time": "2023-01-17T14:58:03.197Z"
   },
   {
    "duration": 43,
    "start_time": "2023-01-17T14:58:03.208Z"
   },
   {
    "duration": 15,
    "start_time": "2023-01-17T14:58:03.253Z"
   },
   {
    "duration": 43,
    "start_time": "2023-01-17T14:58:03.270Z"
   },
   {
    "duration": 15,
    "start_time": "2023-01-17T14:58:03.314Z"
   },
   {
    "duration": 87,
    "start_time": "2023-01-17T14:58:03.330Z"
   },
   {
    "duration": 15,
    "start_time": "2023-01-17T14:58:03.419Z"
   },
   {
    "duration": 12,
    "start_time": "2023-01-17T14:58:03.436Z"
   },
   {
    "duration": 200,
    "start_time": "2023-01-17T14:58:03.450Z"
   },
   {
    "duration": 268,
    "start_time": "2023-01-17T14:58:03.653Z"
   },
   {
    "duration": 26,
    "start_time": "2023-01-17T14:58:03.923Z"
   },
   {
    "duration": 69,
    "start_time": "2023-01-17T14:58:03.951Z"
   },
   {
    "duration": 0,
    "start_time": "2023-01-17T14:58:04.022Z"
   },
   {
    "duration": 0,
    "start_time": "2023-01-17T14:58:04.023Z"
   },
   {
    "duration": 24,
    "start_time": "2023-01-17T15:00:25.709Z"
   },
   {
    "duration": 28,
    "start_time": "2023-01-17T15:04:45.835Z"
   },
   {
    "duration": 33,
    "start_time": "2023-01-17T15:05:07.469Z"
   },
   {
    "duration": 21,
    "start_time": "2023-01-17T15:05:34.770Z"
   },
   {
    "duration": 1310,
    "start_time": "2023-01-17T15:06:56.130Z"
   },
   {
    "duration": 28,
    "start_time": "2023-01-17T15:07:20.851Z"
   },
   {
    "duration": 15,
    "start_time": "2023-01-17T15:07:45.468Z"
   },
   {
    "duration": 22,
    "start_time": "2023-01-17T15:08:46.139Z"
   },
   {
    "duration": 19,
    "start_time": "2023-01-17T15:11:25.288Z"
   },
   {
    "duration": 11,
    "start_time": "2023-01-17T15:13:08.042Z"
   },
   {
    "duration": 33,
    "start_time": "2023-01-17T15:14:43.084Z"
   },
   {
    "duration": 81,
    "start_time": "2023-01-17T15:15:10.317Z"
   },
   {
    "duration": 15,
    "start_time": "2023-01-17T15:16:04.383Z"
   },
   {
    "duration": 14,
    "start_time": "2023-01-17T15:16:21.696Z"
   },
   {
    "duration": 14,
    "start_time": "2023-01-17T15:16:46.755Z"
   },
   {
    "duration": 13,
    "start_time": "2023-01-17T15:17:07.666Z"
   },
   {
    "duration": 16,
    "start_time": "2023-01-17T15:17:50.265Z"
   },
   {
    "duration": 12,
    "start_time": "2023-01-17T15:18:04.016Z"
   },
   {
    "duration": 23,
    "start_time": "2023-01-17T15:20:32.201Z"
   },
   {
    "duration": 23,
    "start_time": "2023-01-17T15:20:46.832Z"
   },
   {
    "duration": 19,
    "start_time": "2023-01-17T15:21:37.183Z"
   },
   {
    "duration": 4,
    "start_time": "2023-01-17T15:22:18.355Z"
   },
   {
    "duration": 16,
    "start_time": "2023-01-17T15:22:30.197Z"
   },
   {
    "duration": 22,
    "start_time": "2023-01-17T15:22:54.466Z"
   },
   {
    "duration": 15,
    "start_time": "2023-01-17T15:23:00.567Z"
   },
   {
    "duration": 14,
    "start_time": "2023-01-17T15:23:53.104Z"
   },
   {
    "duration": 15,
    "start_time": "2023-01-17T15:24:02.732Z"
   },
   {
    "duration": 14,
    "start_time": "2023-01-17T15:24:10.047Z"
   },
   {
    "duration": 14,
    "start_time": "2023-01-17T15:25:33.303Z"
   },
   {
    "duration": 14,
    "start_time": "2023-01-17T15:25:47.482Z"
   },
   {
    "duration": 15,
    "start_time": "2023-01-17T15:26:31.899Z"
   },
   {
    "duration": 70,
    "start_time": "2023-01-17T15:29:39.033Z"
   },
   {
    "duration": 46,
    "start_time": "2023-01-17T15:29:56.332Z"
   },
   {
    "duration": 820,
    "start_time": "2023-01-17T15:30:09.563Z"
   },
   {
    "duration": 1584,
    "start_time": "2023-01-17T15:31:02.366Z"
   },
   {
    "duration": 1233,
    "start_time": "2023-01-17T15:39:50.659Z"
   },
   {
    "duration": 36,
    "start_time": "2023-01-17T15:39:51.894Z"
   },
   {
    "duration": 16,
    "start_time": "2023-01-17T15:39:51.932Z"
   },
   {
    "duration": 15,
    "start_time": "2023-01-17T15:39:51.949Z"
   },
   {
    "duration": 18,
    "start_time": "2023-01-17T15:39:51.966Z"
   },
   {
    "duration": 70,
    "start_time": "2023-01-17T15:39:51.986Z"
   },
   {
    "duration": 41,
    "start_time": "2023-01-17T15:39:52.058Z"
   },
   {
    "duration": 19,
    "start_time": "2023-01-17T15:39:52.101Z"
   },
   {
    "duration": 8,
    "start_time": "2023-01-17T15:39:52.122Z"
   },
   {
    "duration": 4116,
    "start_time": "2023-01-17T15:39:52.131Z"
   },
   {
    "duration": 20,
    "start_time": "2023-01-17T15:39:56.249Z"
   },
   {
    "duration": 4,
    "start_time": "2023-01-17T15:39:56.270Z"
   },
   {
    "duration": 18,
    "start_time": "2023-01-17T15:39:56.275Z"
   },
   {
    "duration": 14,
    "start_time": "2023-01-17T15:39:56.295Z"
   },
   {
    "duration": 9,
    "start_time": "2023-01-17T15:39:56.310Z"
   },
   {
    "duration": 33,
    "start_time": "2023-01-17T15:39:56.320Z"
   },
   {
    "duration": 39,
    "start_time": "2023-01-17T15:39:56.355Z"
   },
   {
    "duration": 19,
    "start_time": "2023-01-17T15:39:56.398Z"
   },
   {
    "duration": 22,
    "start_time": "2023-01-17T15:39:56.419Z"
   },
   {
    "duration": 75,
    "start_time": "2023-01-17T15:39:56.444Z"
   },
   {
    "duration": 34,
    "start_time": "2023-01-17T15:39:56.522Z"
   },
   {
    "duration": 36,
    "start_time": "2023-01-17T15:39:56.559Z"
   },
   {
    "duration": 33,
    "start_time": "2023-01-17T15:39:56.597Z"
   },
   {
    "duration": 18,
    "start_time": "2023-01-17T15:39:56.632Z"
   },
   {
    "duration": 47,
    "start_time": "2023-01-17T15:39:56.652Z"
   },
   {
    "duration": 11,
    "start_time": "2023-01-17T15:39:56.701Z"
   },
   {
    "duration": 46,
    "start_time": "2023-01-17T15:39:56.715Z"
   },
   {
    "duration": 22,
    "start_time": "2023-01-17T15:39:56.763Z"
   },
   {
    "duration": 182,
    "start_time": "2023-01-17T15:39:56.788Z"
   },
   {
    "duration": 258,
    "start_time": "2023-01-17T15:39:56.972Z"
   },
   {
    "duration": 29,
    "start_time": "2023-01-17T15:39:57.232Z"
   },
   {
    "duration": 67,
    "start_time": "2023-01-17T15:39:57.263Z"
   },
   {
    "duration": 0,
    "start_time": "2023-01-17T15:39:57.332Z"
   },
   {
    "duration": 0,
    "start_time": "2023-01-17T15:39:57.334Z"
   },
   {
    "duration": 12,
    "start_time": "2023-01-17T15:40:24.595Z"
   },
   {
    "duration": 13,
    "start_time": "2023-01-17T15:41:04.649Z"
   },
   {
    "duration": 11,
    "start_time": "2023-01-17T15:41:26.029Z"
   },
   {
    "duration": 11,
    "start_time": "2023-01-17T15:41:35.014Z"
   },
   {
    "duration": 23,
    "start_time": "2023-01-17T15:42:42.783Z"
   },
   {
    "duration": 20,
    "start_time": "2023-01-17T15:43:12.647Z"
   },
   {
    "duration": 18,
    "start_time": "2023-01-17T15:44:09.529Z"
   },
   {
    "duration": 20,
    "start_time": "2023-01-17T15:44:34.068Z"
   },
   {
    "duration": 23,
    "start_time": "2023-01-17T15:46:12.829Z"
   },
   {
    "duration": 13,
    "start_time": "2023-01-17T15:47:38.764Z"
   },
   {
    "duration": 13,
    "start_time": "2023-01-17T15:47:49.679Z"
   },
   {
    "duration": 1196,
    "start_time": "2023-01-17T15:48:16.407Z"
   },
   {
    "duration": 37,
    "start_time": "2023-01-17T15:48:17.605Z"
   },
   {
    "duration": 15,
    "start_time": "2023-01-17T15:48:17.644Z"
   },
   {
    "duration": 19,
    "start_time": "2023-01-17T15:48:17.661Z"
   },
   {
    "duration": 14,
    "start_time": "2023-01-17T15:48:17.681Z"
   },
   {
    "duration": 62,
    "start_time": "2023-01-17T15:48:17.697Z"
   },
   {
    "duration": 39,
    "start_time": "2023-01-17T15:48:17.761Z"
   },
   {
    "duration": 21,
    "start_time": "2023-01-17T15:48:17.801Z"
   },
   {
    "duration": 3,
    "start_time": "2023-01-17T15:48:17.824Z"
   },
   {
    "duration": 4211,
    "start_time": "2023-01-17T15:48:17.829Z"
   },
   {
    "duration": 14,
    "start_time": "2023-01-17T15:48:22.042Z"
   },
   {
    "duration": 55,
    "start_time": "2023-01-17T15:48:22.058Z"
   },
   {
    "duration": 19,
    "start_time": "2023-01-17T15:48:22.115Z"
   },
   {
    "duration": 15,
    "start_time": "2023-01-17T15:48:22.137Z"
   },
   {
    "duration": 11,
    "start_time": "2023-01-17T15:48:22.154Z"
   },
   {
    "duration": 54,
    "start_time": "2023-01-17T15:48:22.167Z"
   },
   {
    "duration": 12,
    "start_time": "2023-01-17T15:48:22.223Z"
   },
   {
    "duration": 5,
    "start_time": "2023-01-17T15:48:22.236Z"
   },
   {
    "duration": 8,
    "start_time": "2023-01-17T15:48:22.243Z"
   },
   {
    "duration": 73,
    "start_time": "2023-01-17T15:48:22.253Z"
   },
   {
    "duration": 24,
    "start_time": "2023-01-17T15:48:22.328Z"
   },
   {
    "duration": 15,
    "start_time": "2023-01-17T15:48:22.354Z"
   },
   {
    "duration": 45,
    "start_time": "2023-01-17T15:48:22.370Z"
   },
   {
    "duration": 15,
    "start_time": "2023-01-17T15:48:22.417Z"
   },
   {
    "duration": 17,
    "start_time": "2023-01-17T15:48:22.434Z"
   },
   {
    "duration": 50,
    "start_time": "2023-01-17T15:48:22.453Z"
   },
   {
    "duration": 14,
    "start_time": "2023-01-17T15:48:22.505Z"
   },
   {
    "duration": 11,
    "start_time": "2023-01-17T15:48:22.522Z"
   },
   {
    "duration": 196,
    "start_time": "2023-01-17T15:48:22.535Z"
   },
   {
    "duration": 234,
    "start_time": "2023-01-17T15:48:22.733Z"
   },
   {
    "duration": 32,
    "start_time": "2023-01-17T15:48:22.968Z"
   },
   {
    "duration": 51,
    "start_time": "2023-01-17T15:48:23.001Z"
   },
   {
    "duration": 0,
    "start_time": "2023-01-17T15:48:23.054Z"
   },
   {
    "duration": 0,
    "start_time": "2023-01-17T15:48:23.055Z"
   },
   {
    "duration": 53,
    "start_time": "2023-01-17T15:51:10.823Z"
   },
   {
    "duration": 46,
    "start_time": "2023-01-17T15:51:18.838Z"
   },
   {
    "duration": 45,
    "start_time": "2023-01-17T15:51:30.100Z"
   },
   {
    "duration": 27,
    "start_time": "2023-01-17T15:51:48.367Z"
   },
   {
    "duration": 35,
    "start_time": "2023-01-17T15:52:09.500Z"
   },
   {
    "duration": 49,
    "start_time": "2023-01-17T15:52:38.716Z"
   },
   {
    "duration": 30,
    "start_time": "2023-01-17T15:53:20.449Z"
   },
   {
    "duration": 124,
    "start_time": "2023-01-17T15:53:57.300Z"
   },
   {
    "duration": 28,
    "start_time": "2023-01-17T15:54:16.728Z"
   },
   {
    "duration": 30,
    "start_time": "2023-01-17T15:54:49.516Z"
   },
   {
    "duration": 30,
    "start_time": "2023-01-17T15:55:19.020Z"
   },
   {
    "duration": 17,
    "start_time": "2023-01-17T15:58:07.265Z"
   },
   {
    "duration": 12,
    "start_time": "2023-01-17T15:59:13.383Z"
   },
   {
    "duration": 6,
    "start_time": "2023-01-17T15:59:21.247Z"
   },
   {
    "duration": 8,
    "start_time": "2023-01-17T15:59:38.598Z"
   },
   {
    "duration": 16,
    "start_time": "2023-01-17T16:00:00.182Z"
   },
   {
    "duration": 6,
    "start_time": "2023-01-17T16:00:06.549Z"
   },
   {
    "duration": 17,
    "start_time": "2023-01-17T16:00:14.501Z"
   },
   {
    "duration": 19,
    "start_time": "2023-01-17T16:10:32.889Z"
   },
   {
    "duration": 16,
    "start_time": "2023-01-17T16:10:49.701Z"
   },
   {
    "duration": 7,
    "start_time": "2023-01-17T16:11:59.785Z"
   },
   {
    "duration": 22,
    "start_time": "2023-01-17T16:13:33.435Z"
   },
   {
    "duration": 21,
    "start_time": "2023-01-17T16:14:29.634Z"
   },
   {
    "duration": 1216,
    "start_time": "2023-01-17T16:15:53.685Z"
   },
   {
    "duration": 37,
    "start_time": "2023-01-17T16:15:54.903Z"
   },
   {
    "duration": 20,
    "start_time": "2023-01-17T16:15:54.942Z"
   },
   {
    "duration": 10,
    "start_time": "2023-01-17T16:15:54.963Z"
   },
   {
    "duration": 13,
    "start_time": "2023-01-17T16:15:54.976Z"
   },
   {
    "duration": 64,
    "start_time": "2023-01-17T16:15:54.991Z"
   },
   {
    "duration": 62,
    "start_time": "2023-01-17T16:15:55.057Z"
   },
   {
    "duration": 22,
    "start_time": "2023-01-17T16:15:55.121Z"
   },
   {
    "duration": 3,
    "start_time": "2023-01-17T16:15:55.145Z"
   },
   {
    "duration": 4251,
    "start_time": "2023-01-17T16:15:55.149Z"
   },
   {
    "duration": 13,
    "start_time": "2023-01-17T16:15:59.402Z"
   },
   {
    "duration": 7,
    "start_time": "2023-01-17T16:15:59.417Z"
   },
   {
    "duration": 6,
    "start_time": "2023-01-17T16:15:59.425Z"
   },
   {
    "duration": 11,
    "start_time": "2023-01-17T16:15:59.434Z"
   },
   {
    "duration": 9,
    "start_time": "2023-01-17T16:15:59.446Z"
   },
   {
    "duration": 65,
    "start_time": "2023-01-17T16:15:59.458Z"
   },
   {
    "duration": 18,
    "start_time": "2023-01-17T16:15:59.525Z"
   },
   {
    "duration": 4,
    "start_time": "2023-01-17T16:15:59.545Z"
   },
   {
    "duration": 5,
    "start_time": "2023-01-17T16:15:59.552Z"
   },
   {
    "duration": 48,
    "start_time": "2023-01-17T16:15:59.591Z"
   },
   {
    "duration": 9,
    "start_time": "2023-01-17T16:15:59.640Z"
   },
   {
    "duration": 46,
    "start_time": "2023-01-17T16:15:59.650Z"
   },
   {
    "duration": 17,
    "start_time": "2023-01-17T16:15:59.698Z"
   },
   {
    "duration": 17,
    "start_time": "2023-01-17T16:15:59.717Z"
   },
   {
    "duration": 12,
    "start_time": "2023-01-17T16:15:59.736Z"
   },
   {
    "duration": 135,
    "start_time": "2023-01-17T16:15:59.751Z"
   },
   {
    "duration": 0,
    "start_time": "2023-01-17T16:15:59.891Z"
   },
   {
    "duration": 0,
    "start_time": "2023-01-17T16:15:59.893Z"
   },
   {
    "duration": 0,
    "start_time": "2023-01-17T16:15:59.894Z"
   },
   {
    "duration": 0,
    "start_time": "2023-01-17T16:15:59.895Z"
   },
   {
    "duration": 0,
    "start_time": "2023-01-17T16:15:59.896Z"
   },
   {
    "duration": 20,
    "start_time": "2023-01-17T16:17:23.802Z"
   },
   {
    "duration": 20,
    "start_time": "2023-01-17T16:18:22.183Z"
   },
   {
    "duration": 18,
    "start_time": "2023-01-17T16:19:06.651Z"
   },
   {
    "duration": 7,
    "start_time": "2023-01-17T16:19:53.387Z"
   },
   {
    "duration": 23,
    "start_time": "2023-01-17T16:19:55.085Z"
   },
   {
    "duration": 17,
    "start_time": "2023-01-17T16:23:05.082Z"
   },
   {
    "duration": 10,
    "start_time": "2023-01-17T16:23:32.052Z"
   },
   {
    "duration": 12,
    "start_time": "2023-01-17T16:23:42.683Z"
   },
   {
    "duration": 18,
    "start_time": "2023-01-17T16:24:05.401Z"
   },
   {
    "duration": 16,
    "start_time": "2023-01-17T16:24:53.099Z"
   },
   {
    "duration": 19,
    "start_time": "2023-01-17T16:26:22.903Z"
   },
   {
    "duration": 1148,
    "start_time": "2023-01-17T16:26:41.053Z"
   },
   {
    "duration": 39,
    "start_time": "2023-01-17T16:26:42.203Z"
   },
   {
    "duration": 15,
    "start_time": "2023-01-17T16:26:42.244Z"
   },
   {
    "duration": 5,
    "start_time": "2023-01-17T16:26:42.261Z"
   },
   {
    "duration": 12,
    "start_time": "2023-01-17T16:26:42.268Z"
   },
   {
    "duration": 64,
    "start_time": "2023-01-17T16:26:42.282Z"
   },
   {
    "duration": 42,
    "start_time": "2023-01-17T16:26:42.348Z"
   },
   {
    "duration": 29,
    "start_time": "2023-01-17T16:26:42.394Z"
   },
   {
    "duration": 3,
    "start_time": "2023-01-17T16:26:42.425Z"
   },
   {
    "duration": 4384,
    "start_time": "2023-01-17T16:26:42.430Z"
   },
   {
    "duration": 14,
    "start_time": "2023-01-17T16:26:46.816Z"
   },
   {
    "duration": 4,
    "start_time": "2023-01-17T16:26:46.831Z"
   },
   {
    "duration": 43,
    "start_time": "2023-01-17T16:26:46.836Z"
   },
   {
    "duration": 35,
    "start_time": "2023-01-17T16:26:46.882Z"
   },
   {
    "duration": 9,
    "start_time": "2023-01-17T16:26:46.919Z"
   },
   {
    "duration": 35,
    "start_time": "2023-01-17T16:26:46.929Z"
   },
   {
    "duration": 12,
    "start_time": "2023-01-17T16:26:46.966Z"
   },
   {
    "duration": 18,
    "start_time": "2023-01-17T16:26:46.979Z"
   },
   {
    "duration": 14,
    "start_time": "2023-01-17T16:26:47.004Z"
   },
   {
    "duration": 52,
    "start_time": "2023-01-17T16:26:47.020Z"
   },
   {
    "duration": 21,
    "start_time": "2023-01-17T16:26:47.074Z"
   },
   {
    "duration": 18,
    "start_time": "2023-01-17T16:26:47.096Z"
   },
   {
    "duration": 21,
    "start_time": "2023-01-17T16:26:47.116Z"
   },
   {
    "duration": 16,
    "start_time": "2023-01-17T16:26:47.139Z"
   },
   {
    "duration": 45,
    "start_time": "2023-01-17T16:26:47.158Z"
   },
   {
    "duration": 22,
    "start_time": "2023-01-17T16:26:47.205Z"
   },
   {
    "duration": 114,
    "start_time": "2023-01-17T16:26:47.229Z"
   },
   {
    "duration": 0,
    "start_time": "2023-01-17T16:26:47.344Z"
   },
   {
    "duration": 0,
    "start_time": "2023-01-17T16:26:47.345Z"
   },
   {
    "duration": 0,
    "start_time": "2023-01-17T16:26:47.346Z"
   },
   {
    "duration": 0,
    "start_time": "2023-01-17T16:26:47.347Z"
   },
   {
    "duration": 0,
    "start_time": "2023-01-17T16:26:47.348Z"
   },
   {
    "duration": 19,
    "start_time": "2023-01-17T16:27:19.250Z"
   },
   {
    "duration": 18,
    "start_time": "2023-01-17T16:27:32.083Z"
   },
   {
    "duration": 15,
    "start_time": "2023-01-17T16:28:04.233Z"
   },
   {
    "duration": 14,
    "start_time": "2023-01-17T16:28:16.514Z"
   },
   {
    "duration": 16,
    "start_time": "2023-01-17T16:28:24.132Z"
   },
   {
    "duration": 15,
    "start_time": "2023-01-17T16:28:27.431Z"
   },
   {
    "duration": 1111,
    "start_time": "2023-01-17T16:29:02.296Z"
   },
   {
    "duration": 38,
    "start_time": "2023-01-17T16:29:03.409Z"
   },
   {
    "duration": 15,
    "start_time": "2023-01-17T16:29:03.449Z"
   },
   {
    "duration": 5,
    "start_time": "2023-01-17T16:29:03.466Z"
   },
   {
    "duration": 21,
    "start_time": "2023-01-17T16:29:03.473Z"
   },
   {
    "duration": 69,
    "start_time": "2023-01-17T16:29:03.496Z"
   },
   {
    "duration": 43,
    "start_time": "2023-01-17T16:29:03.566Z"
   },
   {
    "duration": 23,
    "start_time": "2023-01-17T16:29:03.610Z"
   },
   {
    "duration": 3,
    "start_time": "2023-01-17T16:29:03.635Z"
   },
   {
    "duration": 4097,
    "start_time": "2023-01-17T16:29:03.639Z"
   },
   {
    "duration": 13,
    "start_time": "2023-01-17T16:29:07.737Z"
   },
   {
    "duration": 4,
    "start_time": "2023-01-17T16:29:07.751Z"
   },
   {
    "duration": 23,
    "start_time": "2023-01-17T16:29:07.756Z"
   },
   {
    "duration": 15,
    "start_time": "2023-01-17T16:29:07.782Z"
   },
   {
    "duration": 28,
    "start_time": "2023-01-17T16:29:07.798Z"
   },
   {
    "duration": 10,
    "start_time": "2023-01-17T16:29:07.827Z"
   },
   {
    "duration": 4,
    "start_time": "2023-01-17T16:29:07.839Z"
   },
   {
    "duration": 6,
    "start_time": "2023-01-17T16:29:07.844Z"
   },
   {
    "duration": 76,
    "start_time": "2023-01-17T16:29:07.851Z"
   },
   {
    "duration": 15,
    "start_time": "2023-01-17T16:29:07.928Z"
   },
   {
    "duration": 13,
    "start_time": "2023-01-17T16:29:07.944Z"
   },
   {
    "duration": 38,
    "start_time": "2023-01-17T16:29:07.958Z"
   },
   {
    "duration": 14,
    "start_time": "2023-01-17T16:29:07.997Z"
   },
   {
    "duration": 16,
    "start_time": "2023-01-17T16:29:08.012Z"
   },
   {
    "duration": 10,
    "start_time": "2023-01-17T16:29:08.030Z"
   },
   {
    "duration": 120,
    "start_time": "2023-01-17T16:29:08.042Z"
   },
   {
    "duration": 0,
    "start_time": "2023-01-17T16:29:08.164Z"
   },
   {
    "duration": 0,
    "start_time": "2023-01-17T16:29:08.165Z"
   },
   {
    "duration": 0,
    "start_time": "2023-01-17T16:29:08.166Z"
   },
   {
    "duration": 0,
    "start_time": "2023-01-17T16:29:08.167Z"
   },
   {
    "duration": 0,
    "start_time": "2023-01-17T16:29:08.169Z"
   },
   {
    "duration": 11,
    "start_time": "2023-01-17T16:33:02.049Z"
   },
   {
    "duration": 1241,
    "start_time": "2023-01-17T16:33:45.103Z"
   },
   {
    "duration": 38,
    "start_time": "2023-01-17T16:33:46.346Z"
   },
   {
    "duration": 15,
    "start_time": "2023-01-17T16:33:46.386Z"
   },
   {
    "duration": 7,
    "start_time": "2023-01-17T16:33:46.402Z"
   },
   {
    "duration": 18,
    "start_time": "2023-01-17T16:33:46.411Z"
   },
   {
    "duration": 66,
    "start_time": "2023-01-17T16:33:46.432Z"
   },
   {
    "duration": 45,
    "start_time": "2023-01-17T16:33:46.500Z"
   },
   {
    "duration": 22,
    "start_time": "2023-01-17T16:33:46.547Z"
   },
   {
    "duration": 24,
    "start_time": "2023-01-17T16:33:46.570Z"
   },
   {
    "duration": 4001,
    "start_time": "2023-01-17T16:33:46.596Z"
   },
   {
    "duration": 12,
    "start_time": "2023-01-17T16:33:50.599Z"
   },
   {
    "duration": 4,
    "start_time": "2023-01-17T16:33:50.613Z"
   },
   {
    "duration": 11,
    "start_time": "2023-01-17T16:33:50.619Z"
   },
   {
    "duration": 9,
    "start_time": "2023-01-17T16:33:50.633Z"
   },
   {
    "duration": 56,
    "start_time": "2023-01-17T16:33:50.643Z"
   },
   {
    "duration": 11,
    "start_time": "2023-01-17T16:33:50.701Z"
   },
   {
    "duration": 5,
    "start_time": "2023-01-17T16:33:50.714Z"
   },
   {
    "duration": 5,
    "start_time": "2023-01-17T16:33:50.721Z"
   },
   {
    "duration": 78,
    "start_time": "2023-01-17T16:33:50.728Z"
   },
   {
    "duration": 15,
    "start_time": "2023-01-17T16:33:50.808Z"
   },
   {
    "duration": 22,
    "start_time": "2023-01-17T16:33:50.824Z"
   },
   {
    "duration": 15,
    "start_time": "2023-01-17T16:33:50.847Z"
   },
   {
    "duration": 39,
    "start_time": "2023-01-17T16:33:50.864Z"
   },
   {
    "duration": 11,
    "start_time": "2023-01-17T16:33:50.905Z"
   },
   {
    "duration": 114,
    "start_time": "2023-01-17T16:33:50.918Z"
   },
   {
    "duration": 0,
    "start_time": "2023-01-17T16:33:51.034Z"
   },
   {
    "duration": 0,
    "start_time": "2023-01-17T16:33:51.035Z"
   },
   {
    "duration": 0,
    "start_time": "2023-01-17T16:33:51.036Z"
   },
   {
    "duration": 0,
    "start_time": "2023-01-17T16:33:51.037Z"
   },
   {
    "duration": 0,
    "start_time": "2023-01-17T16:33:51.038Z"
   },
   {
    "duration": 15,
    "start_time": "2023-01-17T16:34:15.066Z"
   },
   {
    "duration": 20,
    "start_time": "2023-01-17T16:34:34.348Z"
   },
   {
    "duration": 18,
    "start_time": "2023-01-17T16:36:12.764Z"
   },
   {
    "duration": 5,
    "start_time": "2023-01-17T16:39:18.854Z"
   },
   {
    "duration": 5,
    "start_time": "2023-01-17T16:40:03.122Z"
   },
   {
    "duration": 47,
    "start_time": "2023-01-17T16:40:52.685Z"
   },
   {
    "duration": 9,
    "start_time": "2023-01-17T16:40:59.621Z"
   },
   {
    "duration": 42,
    "start_time": "2023-01-17T16:41:22.018Z"
   },
   {
    "duration": 8,
    "start_time": "2023-01-17T16:41:28.879Z"
   },
   {
    "duration": 1128,
    "start_time": "2023-01-17T16:42:14.279Z"
   },
   {
    "duration": 38,
    "start_time": "2023-01-17T16:42:15.409Z"
   },
   {
    "duration": 14,
    "start_time": "2023-01-17T16:42:15.448Z"
   },
   {
    "duration": 13,
    "start_time": "2023-01-17T16:42:15.464Z"
   },
   {
    "duration": 19,
    "start_time": "2023-01-17T16:42:15.478Z"
   },
   {
    "duration": 61,
    "start_time": "2023-01-17T16:42:15.498Z"
   },
   {
    "duration": 43,
    "start_time": "2023-01-17T16:42:15.561Z"
   },
   {
    "duration": 21,
    "start_time": "2023-01-17T16:42:15.605Z"
   },
   {
    "duration": 3,
    "start_time": "2023-01-17T16:42:15.627Z"
   },
   {
    "duration": 4134,
    "start_time": "2023-01-17T16:42:15.632Z"
   },
   {
    "duration": 13,
    "start_time": "2023-01-17T16:42:19.768Z"
   },
   {
    "duration": 4,
    "start_time": "2023-01-17T16:42:19.791Z"
   },
   {
    "duration": 14,
    "start_time": "2023-01-17T16:42:19.796Z"
   },
   {
    "duration": 9,
    "start_time": "2023-01-17T16:42:19.811Z"
   },
   {
    "duration": 58,
    "start_time": "2023-01-17T16:42:19.821Z"
   },
   {
    "duration": 11,
    "start_time": "2023-01-17T16:42:19.882Z"
   },
   {
    "duration": 14,
    "start_time": "2023-01-17T16:42:19.895Z"
   },
   {
    "duration": 5,
    "start_time": "2023-01-17T16:42:19.911Z"
   },
   {
    "duration": 10,
    "start_time": "2023-01-17T16:42:19.918Z"
   },
   {
    "duration": 70,
    "start_time": "2023-01-17T16:42:19.929Z"
   },
   {
    "duration": 22,
    "start_time": "2023-01-17T16:42:20.000Z"
   },
   {
    "duration": 23,
    "start_time": "2023-01-17T16:42:20.024Z"
   },
   {
    "duration": 13,
    "start_time": "2023-01-17T16:42:20.049Z"
   },
   {
    "duration": 38,
    "start_time": "2023-01-17T16:42:20.064Z"
   },
   {
    "duration": 102,
    "start_time": "2023-01-17T16:42:20.104Z"
   },
   {
    "duration": 0,
    "start_time": "2023-01-17T16:42:20.208Z"
   },
   {
    "duration": 0,
    "start_time": "2023-01-17T16:42:20.209Z"
   },
   {
    "duration": 0,
    "start_time": "2023-01-17T16:42:20.210Z"
   },
   {
    "duration": 0,
    "start_time": "2023-01-17T16:42:20.211Z"
   },
   {
    "duration": 0,
    "start_time": "2023-01-17T16:42:20.212Z"
   },
   {
    "duration": 1154,
    "start_time": "2023-01-17T16:45:52.959Z"
   },
   {
    "duration": 38,
    "start_time": "2023-01-17T16:45:54.115Z"
   },
   {
    "duration": 15,
    "start_time": "2023-01-17T16:45:54.155Z"
   },
   {
    "duration": 6,
    "start_time": "2023-01-17T16:45:54.172Z"
   },
   {
    "duration": 14,
    "start_time": "2023-01-17T16:45:54.179Z"
   },
   {
    "duration": 59,
    "start_time": "2023-01-17T16:45:54.195Z"
   },
   {
    "duration": 46,
    "start_time": "2023-01-17T16:45:54.256Z"
   },
   {
    "duration": 21,
    "start_time": "2023-01-17T16:45:54.304Z"
   },
   {
    "duration": 11,
    "start_time": "2023-01-17T16:45:54.326Z"
   },
   {
    "duration": 12,
    "start_time": "2023-01-17T16:45:54.340Z"
   },
   {
    "duration": 3,
    "start_time": "2023-01-17T16:45:54.354Z"
   },
   {
    "duration": 37,
    "start_time": "2023-01-17T16:45:54.359Z"
   },
   {
    "duration": 8,
    "start_time": "2023-01-17T16:45:54.397Z"
   },
   {
    "duration": 28,
    "start_time": "2023-01-17T16:45:54.407Z"
   },
   {
    "duration": 12,
    "start_time": "2023-01-17T16:45:54.437Z"
   },
   {
    "duration": 43,
    "start_time": "2023-01-17T16:45:54.450Z"
   },
   {
    "duration": 6,
    "start_time": "2023-01-17T16:45:54.495Z"
   },
   {
    "duration": 6,
    "start_time": "2023-01-17T16:45:54.503Z"
   },
   {
    "duration": 58,
    "start_time": "2023-01-17T16:45:54.510Z"
   },
   {
    "duration": 35,
    "start_time": "2023-01-17T16:45:54.569Z"
   },
   {
    "duration": 19,
    "start_time": "2023-01-17T16:45:54.606Z"
   },
   {
    "duration": 15,
    "start_time": "2023-01-17T16:45:54.627Z"
   },
   {
    "duration": 11,
    "start_time": "2023-01-17T16:45:54.643Z"
   },
   {
    "duration": 127,
    "start_time": "2023-01-17T16:45:54.655Z"
   },
   {
    "duration": 0,
    "start_time": "2023-01-17T16:45:54.784Z"
   },
   {
    "duration": 0,
    "start_time": "2023-01-17T16:45:54.792Z"
   },
   {
    "duration": 0,
    "start_time": "2023-01-17T16:45:54.793Z"
   },
   {
    "duration": 0,
    "start_time": "2023-01-17T16:45:54.794Z"
   },
   {
    "duration": 0,
    "start_time": "2023-01-17T16:45:54.795Z"
   },
   {
    "duration": 1071,
    "start_time": "2023-01-17T16:47:54.817Z"
   },
   {
    "duration": 37,
    "start_time": "2023-01-17T16:47:55.890Z"
   },
   {
    "duration": 15,
    "start_time": "2023-01-17T16:47:55.928Z"
   },
   {
    "duration": 8,
    "start_time": "2023-01-17T16:47:55.944Z"
   },
   {
    "duration": 13,
    "start_time": "2023-01-17T16:47:55.954Z"
   },
   {
    "duration": 67,
    "start_time": "2023-01-17T16:47:55.968Z"
   },
   {
    "duration": 45,
    "start_time": "2023-01-17T16:47:56.036Z"
   },
   {
    "duration": 31,
    "start_time": "2023-01-17T16:47:56.082Z"
   },
   {
    "duration": 4,
    "start_time": "2023-01-17T16:47:56.115Z"
   },
   {
    "duration": 4156,
    "start_time": "2023-01-17T16:47:56.121Z"
   },
   {
    "duration": 16,
    "start_time": "2023-01-17T16:48:00.279Z"
   },
   {
    "duration": 40,
    "start_time": "2023-01-17T16:48:00.297Z"
   },
   {
    "duration": 41,
    "start_time": "2023-01-17T16:48:00.339Z"
   },
   {
    "duration": 13,
    "start_time": "2023-01-17T16:48:00.383Z"
   },
   {
    "duration": 41,
    "start_time": "2023-01-17T16:48:00.398Z"
   },
   {
    "duration": 17,
    "start_time": "2023-01-17T16:48:00.441Z"
   },
   {
    "duration": 9,
    "start_time": "2023-01-17T16:48:00.459Z"
   },
   {
    "duration": 21,
    "start_time": "2023-01-17T16:48:00.470Z"
   },
   {
    "duration": 18,
    "start_time": "2023-01-17T16:48:00.493Z"
   },
   {
    "duration": 63,
    "start_time": "2023-01-17T16:48:00.513Z"
   },
   {
    "duration": 16,
    "start_time": "2023-01-17T16:48:00.578Z"
   },
   {
    "duration": 23,
    "start_time": "2023-01-17T16:48:00.596Z"
   },
   {
    "duration": 15,
    "start_time": "2023-01-17T16:48:00.620Z"
   },
   {
    "duration": 39,
    "start_time": "2023-01-17T16:48:00.636Z"
   },
   {
    "duration": 131,
    "start_time": "2023-01-17T16:48:00.676Z"
   },
   {
    "duration": 0,
    "start_time": "2023-01-17T16:48:00.810Z"
   },
   {
    "duration": 0,
    "start_time": "2023-01-17T16:48:00.811Z"
   },
   {
    "duration": 0,
    "start_time": "2023-01-17T16:48:00.813Z"
   },
   {
    "duration": 0,
    "start_time": "2023-01-17T16:48:00.814Z"
   },
   {
    "duration": 0,
    "start_time": "2023-01-17T16:48:00.816Z"
   },
   {
    "duration": 5,
    "start_time": "2023-01-17T16:49:06.265Z"
   },
   {
    "duration": 5,
    "start_time": "2023-01-17T16:49:18.105Z"
   },
   {
    "duration": 5,
    "start_time": "2023-01-17T16:49:19.921Z"
   },
   {
    "duration": 5,
    "start_time": "2023-01-17T16:49:20.882Z"
   },
   {
    "duration": 12,
    "start_time": "2023-01-17T16:51:08.856Z"
   },
   {
    "duration": 17,
    "start_time": "2023-01-17T16:51:57.740Z"
   },
   {
    "duration": 18,
    "start_time": "2023-01-17T16:52:30.188Z"
   },
   {
    "duration": 32,
    "start_time": "2023-01-17T16:59:44.006Z"
   },
   {
    "duration": 15,
    "start_time": "2023-01-17T17:00:09.775Z"
   },
   {
    "duration": 8,
    "start_time": "2023-01-17T17:02:07.973Z"
   },
   {
    "duration": 9,
    "start_time": "2023-01-17T17:03:04.158Z"
   },
   {
    "duration": 9,
    "start_time": "2023-01-17T17:03:17.284Z"
   },
   {
    "duration": 10,
    "start_time": "2023-01-17T17:04:19.926Z"
   },
   {
    "duration": 10,
    "start_time": "2023-01-17T17:04:44.834Z"
   },
   {
    "duration": 10,
    "start_time": "2023-01-17T17:05:25.666Z"
   },
   {
    "duration": 30,
    "start_time": "2023-01-17T17:05:45.684Z"
   },
   {
    "duration": 11,
    "start_time": "2023-01-17T17:05:56.039Z"
   },
   {
    "duration": 11,
    "start_time": "2023-01-17T17:06:05.539Z"
   },
   {
    "duration": 10,
    "start_time": "2023-01-17T17:06:14.422Z"
   },
   {
    "duration": 11,
    "start_time": "2023-01-17T17:07:00.353Z"
   },
   {
    "duration": 11,
    "start_time": "2023-01-17T17:07:15.439Z"
   },
   {
    "duration": 12,
    "start_time": "2023-01-17T17:07:29.310Z"
   },
   {
    "duration": 12,
    "start_time": "2023-01-17T17:08:53.424Z"
   },
   {
    "duration": 14,
    "start_time": "2023-01-17T17:09:12.076Z"
   },
   {
    "duration": 20,
    "start_time": "2023-01-17T17:09:51.635Z"
   },
   {
    "duration": 14,
    "start_time": "2023-01-17T17:09:57.051Z"
   },
   {
    "duration": 17,
    "start_time": "2023-01-17T17:11:17.085Z"
   },
   {
    "duration": 16,
    "start_time": "2023-01-17T17:11:35.911Z"
   },
   {
    "duration": 22,
    "start_time": "2023-01-17T17:12:55.189Z"
   },
   {
    "duration": 26,
    "start_time": "2023-01-17T17:13:35.589Z"
   },
   {
    "duration": 30,
    "start_time": "2023-01-17T17:14:31.299Z"
   },
   {
    "duration": 15,
    "start_time": "2023-01-17T17:14:37.951Z"
   },
   {
    "duration": 1241,
    "start_time": "2023-01-17T17:15:16.104Z"
   },
   {
    "duration": 36,
    "start_time": "2023-01-17T17:15:17.347Z"
   },
   {
    "duration": 17,
    "start_time": "2023-01-17T17:15:17.385Z"
   },
   {
    "duration": 10,
    "start_time": "2023-01-17T17:15:17.404Z"
   },
   {
    "duration": 12,
    "start_time": "2023-01-17T17:15:17.417Z"
   },
   {
    "duration": 62,
    "start_time": "2023-01-17T17:15:17.430Z"
   },
   {
    "duration": 53,
    "start_time": "2023-01-17T17:15:17.494Z"
   },
   {
    "duration": 19,
    "start_time": "2023-01-17T17:15:17.549Z"
   },
   {
    "duration": 23,
    "start_time": "2023-01-17T17:15:17.569Z"
   },
   {
    "duration": 4468,
    "start_time": "2023-01-17T17:15:17.595Z"
   },
   {
    "duration": 12,
    "start_time": "2023-01-17T17:15:22.064Z"
   },
   {
    "duration": 3,
    "start_time": "2023-01-17T17:15:22.078Z"
   },
   {
    "duration": 12,
    "start_time": "2023-01-17T17:15:22.092Z"
   },
   {
    "duration": 17,
    "start_time": "2023-01-17T17:15:22.109Z"
   },
   {
    "duration": 30,
    "start_time": "2023-01-17T17:15:22.127Z"
   },
   {
    "duration": 10,
    "start_time": "2023-01-17T17:15:22.159Z"
   },
   {
    "duration": 10,
    "start_time": "2023-01-17T17:15:22.195Z"
   },
   {
    "duration": 10,
    "start_time": "2023-01-17T17:15:22.207Z"
   },
   {
    "duration": 12,
    "start_time": "2023-01-17T17:15:22.218Z"
   },
   {
    "duration": 13,
    "start_time": "2023-01-17T17:15:22.232Z"
   },
   {
    "duration": 14,
    "start_time": "2023-01-17T17:15:22.247Z"
   },
   {
    "duration": 50,
    "start_time": "2023-01-17T17:15:22.263Z"
   },
   {
    "duration": 15,
    "start_time": "2023-01-17T17:15:22.315Z"
   },
   {
    "duration": 15,
    "start_time": "2023-01-17T17:15:22.332Z"
   },
   {
    "duration": 10,
    "start_time": "2023-01-17T17:15:22.349Z"
   },
   {
    "duration": 122,
    "start_time": "2023-01-17T17:15:22.360Z"
   },
   {
    "duration": 0,
    "start_time": "2023-01-17T17:15:22.483Z"
   },
   {
    "duration": 0,
    "start_time": "2023-01-17T17:15:22.484Z"
   },
   {
    "duration": 0,
    "start_time": "2023-01-17T17:15:22.485Z"
   },
   {
    "duration": 0,
    "start_time": "2023-01-17T17:15:22.492Z"
   },
   {
    "duration": 0,
    "start_time": "2023-01-17T17:15:22.494Z"
   },
   {
    "duration": 1145,
    "start_time": "2023-01-17T17:15:56.853Z"
   },
   {
    "duration": 36,
    "start_time": "2023-01-17T17:15:58.001Z"
   },
   {
    "duration": 15,
    "start_time": "2023-01-17T17:15:58.039Z"
   },
   {
    "duration": 6,
    "start_time": "2023-01-17T17:15:58.056Z"
   },
   {
    "duration": 22,
    "start_time": "2023-01-17T17:15:58.065Z"
   },
   {
    "duration": 63,
    "start_time": "2023-01-17T17:15:58.089Z"
   },
   {
    "duration": 47,
    "start_time": "2023-01-17T17:15:58.153Z"
   },
   {
    "duration": 25,
    "start_time": "2023-01-17T17:15:58.203Z"
   },
   {
    "duration": 3,
    "start_time": "2023-01-17T17:15:58.230Z"
   },
   {
    "duration": 4303,
    "start_time": "2023-01-17T17:15:58.235Z"
   },
   {
    "duration": 12,
    "start_time": "2023-01-17T17:16:02.540Z"
   },
   {
    "duration": 4,
    "start_time": "2023-01-17T17:16:02.554Z"
   },
   {
    "duration": 12,
    "start_time": "2023-01-17T17:16:02.559Z"
   },
   {
    "duration": 31,
    "start_time": "2023-01-17T17:16:02.574Z"
   },
   {
    "duration": 34,
    "start_time": "2023-01-17T17:16:02.608Z"
   },
   {
    "duration": 11,
    "start_time": "2023-01-17T17:16:02.644Z"
   },
   {
    "duration": 39,
    "start_time": "2023-01-17T17:16:02.657Z"
   },
   {
    "duration": 5,
    "start_time": "2023-01-17T17:16:02.698Z"
   },
   {
    "duration": 10,
    "start_time": "2023-01-17T17:16:02.706Z"
   },
   {
    "duration": 17,
    "start_time": "2023-01-17T17:16:02.718Z"
   },
   {
    "duration": 21,
    "start_time": "2023-01-17T17:16:02.737Z"
   },
   {
    "duration": 33,
    "start_time": "2023-01-17T17:16:02.794Z"
   },
   {
    "duration": 15,
    "start_time": "2023-01-17T17:16:02.829Z"
   },
   {
    "duration": 15,
    "start_time": "2023-01-17T17:16:02.845Z"
   },
   {
    "duration": 53,
    "start_time": "2023-01-17T17:16:02.862Z"
   },
   {
    "duration": 125,
    "start_time": "2023-01-17T17:16:02.917Z"
   },
   {
    "duration": 0,
    "start_time": "2023-01-17T17:16:03.043Z"
   },
   {
    "duration": 1,
    "start_time": "2023-01-17T17:16:03.044Z"
   },
   {
    "duration": 0,
    "start_time": "2023-01-17T17:16:03.045Z"
   },
   {
    "duration": 0,
    "start_time": "2023-01-17T17:16:03.046Z"
   },
   {
    "duration": 0,
    "start_time": "2023-01-17T17:16:03.048Z"
   },
   {
    "duration": 1169,
    "start_time": "2023-01-17T17:17:43.123Z"
   },
   {
    "duration": 37,
    "start_time": "2023-01-17T17:17:44.294Z"
   },
   {
    "duration": 15,
    "start_time": "2023-01-17T17:17:44.333Z"
   },
   {
    "duration": 5,
    "start_time": "2023-01-17T17:17:44.350Z"
   },
   {
    "duration": 11,
    "start_time": "2023-01-17T17:17:44.357Z"
   },
   {
    "duration": 72,
    "start_time": "2023-01-17T17:17:44.370Z"
   },
   {
    "duration": 48,
    "start_time": "2023-01-17T17:17:44.444Z"
   },
   {
    "duration": 32,
    "start_time": "2023-01-17T17:17:44.494Z"
   },
   {
    "duration": 3,
    "start_time": "2023-01-17T17:17:44.527Z"
   },
   {
    "duration": 4870,
    "start_time": "2023-01-17T17:17:44.532Z"
   },
   {
    "duration": 19,
    "start_time": "2023-01-17T17:17:49.404Z"
   },
   {
    "duration": 30,
    "start_time": "2023-01-17T17:17:49.425Z"
   },
   {
    "duration": 11,
    "start_time": "2023-01-17T17:17:49.456Z"
   },
   {
    "duration": 8,
    "start_time": "2023-01-17T17:17:49.470Z"
   },
   {
    "duration": 45,
    "start_time": "2023-01-17T17:17:49.479Z"
   },
   {
    "duration": 12,
    "start_time": "2023-01-17T17:17:49.525Z"
   },
   {
    "duration": 4,
    "start_time": "2023-01-17T17:17:49.539Z"
   },
   {
    "duration": 9,
    "start_time": "2023-01-17T17:17:49.545Z"
   },
   {
    "duration": 9,
    "start_time": "2023-01-17T17:17:49.556Z"
   },
   {
    "duration": 34,
    "start_time": "2023-01-17T17:17:49.567Z"
   },
   {
    "duration": 20,
    "start_time": "2023-01-17T17:17:49.604Z"
   },
   {
    "duration": 18,
    "start_time": "2023-01-17T17:17:49.626Z"
   },
   {
    "duration": 49,
    "start_time": "2023-01-17T17:17:49.645Z"
   },
   {
    "duration": 25,
    "start_time": "2023-01-17T17:17:49.697Z"
   },
   {
    "duration": 11,
    "start_time": "2023-01-17T17:17:49.724Z"
   },
   {
    "duration": 3,
    "start_time": "2023-01-17T17:17:49.736Z"
   },
   {
    "duration": 1346,
    "start_time": "2023-01-18T04:17:24.839Z"
   },
   {
    "duration": 77,
    "start_time": "2023-01-18T04:17:26.187Z"
   },
   {
    "duration": 17,
    "start_time": "2023-01-18T04:17:26.266Z"
   },
   {
    "duration": 49,
    "start_time": "2023-01-18T04:17:26.284Z"
   },
   {
    "duration": 27,
    "start_time": "2023-01-18T04:17:26.336Z"
   },
   {
    "duration": 127,
    "start_time": "2023-01-18T04:17:26.365Z"
   },
   {
    "duration": 47,
    "start_time": "2023-01-18T04:17:26.494Z"
   },
   {
    "duration": 21,
    "start_time": "2023-01-18T04:17:26.543Z"
   },
   {
    "duration": 4,
    "start_time": "2023-01-18T04:17:26.566Z"
   },
   {
    "duration": 4548,
    "start_time": "2023-01-18T04:17:26.572Z"
   },
   {
    "duration": 15,
    "start_time": "2023-01-18T04:17:31.122Z"
   },
   {
    "duration": 76,
    "start_time": "2023-01-18T04:17:31.139Z"
   },
   {
    "duration": 63,
    "start_time": "2023-01-18T04:17:31.218Z"
   },
   {
    "duration": 63,
    "start_time": "2023-01-18T04:17:31.286Z"
   },
   {
    "duration": 143,
    "start_time": "2023-01-18T04:17:31.351Z"
   },
   {
    "duration": 105,
    "start_time": "2023-01-18T04:17:31.497Z"
   },
   {
    "duration": 53,
    "start_time": "2023-01-18T04:17:31.604Z"
   },
   {
    "duration": 42,
    "start_time": "2023-01-18T04:17:31.659Z"
   },
   {
    "duration": 57,
    "start_time": "2023-01-18T04:17:31.703Z"
   },
   {
    "duration": 57,
    "start_time": "2023-01-18T04:17:31.762Z"
   },
   {
    "duration": 61,
    "start_time": "2023-01-18T04:17:31.821Z"
   },
   {
    "duration": 54,
    "start_time": "2023-01-18T04:17:31.884Z"
   },
   {
    "duration": 61,
    "start_time": "2023-01-18T04:17:31.940Z"
   },
   {
    "duration": 60,
    "start_time": "2023-01-18T04:17:32.004Z"
   },
   {
    "duration": 36,
    "start_time": "2023-01-18T04:17:32.066Z"
   },
   {
    "duration": 34,
    "start_time": "2023-01-18T04:17:32.104Z"
   },
   {
    "duration": 13,
    "start_time": "2023-01-18T04:20:05.766Z"
   },
   {
    "duration": 13,
    "start_time": "2023-01-18T04:20:49.671Z"
   },
   {
    "duration": 106,
    "start_time": "2023-01-18T04:22:55.402Z"
   },
   {
    "duration": 1170,
    "start_time": "2023-01-18T04:23:31.178Z"
   },
   {
    "duration": 8,
    "start_time": "2023-01-18T04:23:39.773Z"
   },
   {
    "duration": 12,
    "start_time": "2023-01-18T04:23:48.063Z"
   },
   {
    "duration": 9,
    "start_time": "2023-01-18T04:24:09.888Z"
   },
   {
    "duration": 15,
    "start_time": "2023-01-18T04:24:48.004Z"
   },
   {
    "duration": 13,
    "start_time": "2023-01-18T04:25:00.751Z"
   },
   {
    "duration": 18,
    "start_time": "2023-01-18T04:26:07.837Z"
   },
   {
    "duration": 22,
    "start_time": "2023-01-18T04:29:36.952Z"
   },
   {
    "duration": 1256,
    "start_time": "2023-01-18T04:36:44.413Z"
   },
   {
    "duration": 31,
    "start_time": "2023-01-18T04:36:45.671Z"
   },
   {
    "duration": 21,
    "start_time": "2023-01-18T04:36:45.703Z"
   },
   {
    "duration": 19,
    "start_time": "2023-01-18T04:36:45.726Z"
   },
   {
    "duration": 18,
    "start_time": "2023-01-18T04:36:45.747Z"
   },
   {
    "duration": 59,
    "start_time": "2023-01-18T04:36:45.767Z"
   },
   {
    "duration": 40,
    "start_time": "2023-01-18T04:36:45.829Z"
   },
   {
    "duration": 19,
    "start_time": "2023-01-18T04:36:45.871Z"
   },
   {
    "duration": 4,
    "start_time": "2023-01-18T04:36:45.892Z"
   },
   {
    "duration": 4786,
    "start_time": "2023-01-18T04:36:45.916Z"
   },
   {
    "duration": 20,
    "start_time": "2023-01-18T04:36:50.704Z"
   },
   {
    "duration": 12,
    "start_time": "2023-01-18T04:36:50.727Z"
   },
   {
    "duration": 10,
    "start_time": "2023-01-18T04:36:50.741Z"
   },
   {
    "duration": 11,
    "start_time": "2023-01-18T04:36:50.753Z"
   },
   {
    "duration": 78,
    "start_time": "2023-01-18T04:36:50.766Z"
   },
   {
    "duration": 16,
    "start_time": "2023-01-18T04:36:50.846Z"
   },
   {
    "duration": 5,
    "start_time": "2023-01-18T04:36:50.864Z"
   },
   {
    "duration": 7,
    "start_time": "2023-01-18T04:36:50.871Z"
   },
   {
    "duration": 6,
    "start_time": "2023-01-18T04:36:50.879Z"
   },
   {
    "duration": 13,
    "start_time": "2023-01-18T04:36:50.887Z"
   },
   {
    "duration": 35,
    "start_time": "2023-01-18T04:36:50.901Z"
   },
   {
    "duration": 21,
    "start_time": "2023-01-18T04:36:50.938Z"
   },
   {
    "duration": 19,
    "start_time": "2023-01-18T04:36:50.961Z"
   },
   {
    "duration": 16,
    "start_time": "2023-01-18T04:36:50.982Z"
   },
   {
    "duration": 32,
    "start_time": "2023-01-18T04:36:51.000Z"
   },
   {
    "duration": 22,
    "start_time": "2023-01-18T04:36:51.034Z"
   },
   {
    "duration": 3,
    "start_time": "2023-01-18T04:36:51.058Z"
   },
   {
    "duration": 1473,
    "start_time": "2023-01-18T11:56:41.232Z"
   },
   {
    "duration": 100,
    "start_time": "2023-01-18T11:56:42.707Z"
   },
   {
    "duration": 18,
    "start_time": "2023-01-18T11:56:42.809Z"
   },
   {
    "duration": 6,
    "start_time": "2023-01-18T11:56:42.828Z"
   },
   {
    "duration": 30,
    "start_time": "2023-01-18T11:56:42.836Z"
   },
   {
    "duration": 328,
    "start_time": "2023-01-18T11:56:42.868Z"
   },
   {
    "duration": 47,
    "start_time": "2023-01-18T11:56:43.198Z"
   },
   {
    "duration": 23,
    "start_time": "2023-01-18T11:56:43.249Z"
   },
   {
    "duration": 3,
    "start_time": "2023-01-18T11:56:43.274Z"
   },
   {
    "duration": 4597,
    "start_time": "2023-01-18T11:56:43.279Z"
   },
   {
    "duration": 15,
    "start_time": "2023-01-18T11:56:47.878Z"
   },
   {
    "duration": 4,
    "start_time": "2023-01-18T11:56:47.895Z"
   },
   {
    "duration": 13,
    "start_time": "2023-01-18T11:56:47.901Z"
   },
   {
    "duration": 16,
    "start_time": "2023-01-18T11:56:47.935Z"
   },
   {
    "duration": 38,
    "start_time": "2023-01-18T11:56:47.956Z"
   },
   {
    "duration": 15,
    "start_time": "2023-01-18T11:56:47.997Z"
   },
   {
    "duration": 5,
    "start_time": "2023-01-18T11:56:48.015Z"
   },
   {
    "duration": 10,
    "start_time": "2023-01-18T11:56:48.038Z"
   },
   {
    "duration": 10,
    "start_time": "2023-01-18T11:56:48.056Z"
   },
   {
    "duration": 16,
    "start_time": "2023-01-18T11:56:48.068Z"
   },
   {
    "duration": 36,
    "start_time": "2023-01-18T11:56:48.086Z"
   },
   {
    "duration": 30,
    "start_time": "2023-01-18T11:56:48.124Z"
   },
   {
    "duration": 19,
    "start_time": "2023-01-18T11:56:48.157Z"
   },
   {
    "duration": 16,
    "start_time": "2023-01-18T11:56:48.178Z"
   },
   {
    "duration": 27,
    "start_time": "2023-01-18T11:56:48.196Z"
   },
   {
    "duration": 22,
    "start_time": "2023-01-18T11:56:48.237Z"
   },
   {
    "duration": 4,
    "start_time": "2023-01-18T11:56:48.261Z"
   },
   {
    "duration": 20,
    "start_time": "2023-01-18T12:00:38.366Z"
   },
   {
    "duration": 21,
    "start_time": "2023-01-18T12:04:21.976Z"
   },
   {
    "duration": 11,
    "start_time": "2023-01-18T12:04:37.966Z"
   },
   {
    "duration": 19,
    "start_time": "2023-01-18T12:04:52.899Z"
   },
   {
    "duration": 25,
    "start_time": "2023-01-18T12:05:12.531Z"
   },
   {
    "duration": 16,
    "start_time": "2023-01-18T12:06:00.829Z"
   },
   {
    "duration": 22,
    "start_time": "2023-01-18T12:06:02.507Z"
   },
   {
    "duration": 19,
    "start_time": "2023-01-18T12:09:31.990Z"
   },
   {
    "duration": 17,
    "start_time": "2023-01-18T12:09:54.694Z"
   },
   {
    "duration": 13,
    "start_time": "2023-01-18T12:10:08.795Z"
   },
   {
    "duration": 12,
    "start_time": "2023-01-18T12:11:57.517Z"
   },
   {
    "duration": 49,
    "start_time": "2023-01-18T14:32:08.816Z"
   },
   {
    "duration": 1306,
    "start_time": "2023-01-18T14:32:19.314Z"
   },
   {
    "duration": 40,
    "start_time": "2023-01-18T14:32:20.622Z"
   },
   {
    "duration": 19,
    "start_time": "2023-01-18T14:32:20.664Z"
   },
   {
    "duration": 33,
    "start_time": "2023-01-18T14:32:20.686Z"
   },
   {
    "duration": 34,
    "start_time": "2023-01-18T14:32:20.721Z"
   },
   {
    "duration": 76,
    "start_time": "2023-01-18T14:32:20.757Z"
   },
   {
    "duration": 48,
    "start_time": "2023-01-18T14:32:20.835Z"
   },
   {
    "duration": 32,
    "start_time": "2023-01-18T14:32:20.885Z"
   },
   {
    "duration": 23,
    "start_time": "2023-01-18T14:32:20.919Z"
   },
   {
    "duration": 4352,
    "start_time": "2023-01-18T14:32:20.946Z"
   },
   {
    "duration": 14,
    "start_time": "2023-01-18T14:32:25.300Z"
   },
   {
    "duration": 20,
    "start_time": "2023-01-18T14:32:25.316Z"
   },
   {
    "duration": 26,
    "start_time": "2023-01-18T14:32:25.338Z"
   },
   {
    "duration": 36,
    "start_time": "2023-01-18T14:32:25.366Z"
   },
   {
    "duration": 29,
    "start_time": "2023-01-18T14:32:25.403Z"
   },
   {
    "duration": 4,
    "start_time": "2023-01-18T14:32:25.434Z"
   },
   {
    "duration": 26,
    "start_time": "2023-01-18T14:32:25.439Z"
   },
   {
    "duration": 19,
    "start_time": "2023-01-18T14:32:25.467Z"
   },
   {
    "duration": 15,
    "start_time": "2023-01-18T14:32:25.487Z"
   },
   {
    "duration": 26,
    "start_time": "2023-01-18T14:32:25.503Z"
   },
   {
    "duration": 20,
    "start_time": "2023-01-18T14:32:25.531Z"
   },
   {
    "duration": 21,
    "start_time": "2023-01-18T14:32:25.552Z"
   },
   {
    "duration": 16,
    "start_time": "2023-01-18T14:32:25.575Z"
   },
   {
    "duration": 20,
    "start_time": "2023-01-18T14:32:25.593Z"
   },
   {
    "duration": 33,
    "start_time": "2023-01-18T14:32:25.615Z"
   },
   {
    "duration": 26,
    "start_time": "2023-01-18T14:32:25.650Z"
   },
   {
    "duration": 23,
    "start_time": "2023-01-18T14:32:25.678Z"
   },
   {
    "duration": 10,
    "start_time": "2023-01-18T14:32:25.704Z"
   },
   {
    "duration": 18,
    "start_time": "2023-01-18T14:36:22.442Z"
   },
   {
    "duration": 22,
    "start_time": "2023-01-18T14:43:18.885Z"
   },
   {
    "duration": 25,
    "start_time": "2023-01-18T14:47:51.701Z"
   },
   {
    "duration": 12,
    "start_time": "2023-01-18T14:48:50.036Z"
   },
   {
    "duration": 7,
    "start_time": "2023-01-18T14:48:58.374Z"
   },
   {
    "duration": 34,
    "start_time": "2023-01-18T14:50:42.336Z"
   },
   {
    "duration": 98,
    "start_time": "2023-01-18T15:06:03.210Z"
   },
   {
    "duration": 25,
    "start_time": "2023-01-18T15:09:00.805Z"
   },
   {
    "duration": 33,
    "start_time": "2023-01-18T15:14:45.559Z"
   },
   {
    "duration": 1140,
    "start_time": "2023-01-18T15:21:26.098Z"
   },
   {
    "duration": 37,
    "start_time": "2023-01-18T15:21:27.240Z"
   },
   {
    "duration": 14,
    "start_time": "2023-01-18T15:21:27.279Z"
   },
   {
    "duration": 7,
    "start_time": "2023-01-18T15:21:27.295Z"
   },
   {
    "duration": 15,
    "start_time": "2023-01-18T15:21:27.304Z"
   },
   {
    "duration": 80,
    "start_time": "2023-01-18T15:21:27.321Z"
   },
   {
    "duration": 42,
    "start_time": "2023-01-18T15:21:27.403Z"
   },
   {
    "duration": 21,
    "start_time": "2023-01-18T15:21:27.447Z"
   },
   {
    "duration": 3,
    "start_time": "2023-01-18T15:21:27.470Z"
   },
   {
    "duration": 4427,
    "start_time": "2023-01-18T15:21:27.476Z"
   },
   {
    "duration": 11,
    "start_time": "2023-01-18T15:21:31.905Z"
   },
   {
    "duration": 5,
    "start_time": "2023-01-18T15:21:31.918Z"
   },
   {
    "duration": 20,
    "start_time": "2023-01-18T15:21:31.924Z"
   },
   {
    "duration": 9,
    "start_time": "2023-01-18T15:21:31.945Z"
   },
   {
    "duration": 27,
    "start_time": "2023-01-18T15:21:31.955Z"
   },
   {
    "duration": 53,
    "start_time": "2023-01-18T15:21:31.984Z"
   },
   {
    "duration": 28,
    "start_time": "2023-01-18T15:21:32.039Z"
   },
   {
    "duration": 4,
    "start_time": "2023-01-18T15:21:32.069Z"
   },
   {
    "duration": 22,
    "start_time": "2023-01-18T15:21:32.075Z"
   },
   {
    "duration": 132,
    "start_time": "2023-01-18T15:25:37.335Z"
   },
   {
    "duration": 35,
    "start_time": "2023-01-18T15:25:43.912Z"
   },
   {
    "duration": 27,
    "start_time": "2023-01-18T15:49:42.238Z"
   },
   {
    "duration": 34,
    "start_time": "2023-01-18T15:49:52.609Z"
   },
   {
    "duration": 53,
    "start_time": "2023-01-18T15:58:22.930Z"
   },
   {
    "duration": 58,
    "start_time": "2023-01-18T15:58:37.193Z"
   },
   {
    "duration": 45,
    "start_time": "2023-01-18T15:59:04.436Z"
   },
   {
    "duration": 52,
    "start_time": "2023-01-18T15:59:18.268Z"
   },
   {
    "duration": 36,
    "start_time": "2023-01-18T15:59:36.647Z"
   },
   {
    "duration": 6,
    "start_time": "2023-01-18T16:05:51.949Z"
   },
   {
    "duration": 16,
    "start_time": "2023-01-18T16:07:02.961Z"
   },
   {
    "duration": 763,
    "start_time": "2023-01-18T16:08:01.361Z"
   },
   {
    "duration": 34,
    "start_time": "2023-01-18T16:08:18.244Z"
   },
   {
    "duration": 14,
    "start_time": "2023-01-18T16:20:08.521Z"
   },
   {
    "duration": 5,
    "start_time": "2023-01-18T16:21:36.718Z"
   },
   {
    "duration": 22,
    "start_time": "2023-01-18T16:24:27.802Z"
   },
   {
    "duration": 5,
    "start_time": "2023-01-18T16:27:54.707Z"
   },
   {
    "duration": 13,
    "start_time": "2023-01-18T16:27:55.831Z"
   },
   {
    "duration": 4,
    "start_time": "2023-01-18T16:29:42.354Z"
   },
   {
    "duration": 28,
    "start_time": "2023-01-18T16:29:58.528Z"
   },
   {
    "duration": 29,
    "start_time": "2023-01-18T16:30:14.858Z"
   },
   {
    "duration": 25,
    "start_time": "2023-01-18T16:30:37.186Z"
   },
   {
    "duration": 22,
    "start_time": "2023-01-18T16:31:01.113Z"
   },
   {
    "duration": 27,
    "start_time": "2023-01-18T16:32:20.576Z"
   },
   {
    "duration": 29,
    "start_time": "2023-01-18T16:33:53.238Z"
   },
   {
    "duration": 6,
    "start_time": "2023-01-18T17:16:43.762Z"
   },
   {
    "duration": 42,
    "start_time": "2023-01-18T17:17:14.634Z"
   },
   {
    "duration": 37,
    "start_time": "2023-01-18T17:17:27.684Z"
   },
   {
    "duration": 43,
    "start_time": "2023-01-18T17:18:49.063Z"
   },
   {
    "duration": 51,
    "start_time": "2023-01-18T17:19:15.904Z"
   },
   {
    "duration": 49,
    "start_time": "2023-01-18T17:29:22.864Z"
   },
   {
    "duration": 26,
    "start_time": "2023-01-18T17:30:53.677Z"
   },
   {
    "duration": 1263,
    "start_time": "2023-01-18T17:40:10.767Z"
   },
   {
    "duration": 52,
    "start_time": "2023-01-18T17:40:12.033Z"
   },
   {
    "duration": 29,
    "start_time": "2023-01-18T17:40:12.087Z"
   },
   {
    "duration": 37,
    "start_time": "2023-01-18T17:40:12.120Z"
   },
   {
    "duration": 35,
    "start_time": "2023-01-18T17:40:12.164Z"
   },
   {
    "duration": 116,
    "start_time": "2023-01-18T17:40:12.201Z"
   },
   {
    "duration": 55,
    "start_time": "2023-01-18T17:40:12.319Z"
   },
   {
    "duration": 32,
    "start_time": "2023-01-18T17:40:12.376Z"
   },
   {
    "duration": 11,
    "start_time": "2023-01-18T17:40:12.409Z"
   },
   {
    "duration": 4905,
    "start_time": "2023-01-18T17:40:12.422Z"
   },
   {
    "duration": 39,
    "start_time": "2023-01-18T17:40:17.329Z"
   },
   {
    "duration": 22,
    "start_time": "2023-01-18T17:40:17.370Z"
   },
   {
    "duration": 36,
    "start_time": "2023-01-18T17:40:17.394Z"
   },
   {
    "duration": 50,
    "start_time": "2023-01-18T17:40:17.433Z"
   },
   {
    "duration": 40,
    "start_time": "2023-01-18T17:40:17.484Z"
   },
   {
    "duration": 43,
    "start_time": "2023-01-18T17:40:17.526Z"
   },
   {
    "duration": 29,
    "start_time": "2023-01-18T17:40:17.572Z"
   },
   {
    "duration": 22,
    "start_time": "2023-01-18T17:40:17.603Z"
   },
   {
    "duration": 54,
    "start_time": "2023-01-18T17:40:17.627Z"
   },
   {
    "duration": 14,
    "start_time": "2023-01-18T17:40:17.683Z"
   },
   {
    "duration": 1297,
    "start_time": "2023-01-18T18:26:34.731Z"
   },
   {
    "duration": 38,
    "start_time": "2023-01-18T18:26:36.029Z"
   },
   {
    "duration": 17,
    "start_time": "2023-01-18T18:26:36.068Z"
   },
   {
    "duration": 27,
    "start_time": "2023-01-18T18:26:36.088Z"
   },
   {
    "duration": 29,
    "start_time": "2023-01-18T18:26:36.116Z"
   },
   {
    "duration": 71,
    "start_time": "2023-01-18T18:26:36.148Z"
   },
   {
    "duration": 41,
    "start_time": "2023-01-18T18:26:36.221Z"
   },
   {
    "duration": 94,
    "start_time": "2023-01-18T18:26:36.264Z"
   },
   {
    "duration": 10,
    "start_time": "2023-01-18T18:26:36.359Z"
   },
   {
    "duration": 4109,
    "start_time": "2023-01-18T18:26:36.372Z"
   },
   {
    "duration": 14,
    "start_time": "2023-01-18T18:26:40.483Z"
   },
   {
    "duration": 27,
    "start_time": "2023-01-18T18:26:40.499Z"
   },
   {
    "duration": 39,
    "start_time": "2023-01-18T18:26:40.528Z"
   },
   {
    "duration": 19,
    "start_time": "2023-01-18T18:26:40.569Z"
   },
   {
    "duration": 53,
    "start_time": "2023-01-18T18:26:40.590Z"
   },
   {
    "duration": 53,
    "start_time": "2023-01-18T18:26:40.645Z"
   },
   {
    "duration": 23,
    "start_time": "2023-01-18T18:26:40.701Z"
   },
   {
    "duration": 20,
    "start_time": "2023-01-18T18:26:40.726Z"
   },
   {
    "duration": 21,
    "start_time": "2023-01-18T18:26:40.748Z"
   },
   {
    "duration": 36,
    "start_time": "2023-01-18T18:26:40.771Z"
   },
   {
    "duration": 47,
    "start_time": "2023-01-18T18:35:51.755Z"
   },
   {
    "duration": 114,
    "start_time": "2023-01-18T18:36:01.191Z"
   },
   {
    "duration": 666,
    "start_time": "2023-01-18T18:38:06.831Z"
   },
   {
    "duration": 57,
    "start_time": "2023-01-18T18:38:57.996Z"
   },
   {
    "duration": 776,
    "start_time": "2023-01-18T18:39:19.681Z"
   },
   {
    "duration": 27,
    "start_time": "2023-01-18T18:39:43.338Z"
   },
   {
    "duration": 731,
    "start_time": "2023-01-18T18:39:53.375Z"
   },
   {
    "duration": 20,
    "start_time": "2023-01-18T18:54:34.312Z"
   },
   {
    "duration": 783,
    "start_time": "2023-01-18T18:55:25.049Z"
   },
   {
    "duration": 21,
    "start_time": "2023-01-18T18:55:32.716Z"
   },
   {
    "duration": 66,
    "start_time": "2023-01-18T18:57:20.290Z"
   },
   {
    "duration": 22,
    "start_time": "2023-01-18T18:57:47.166Z"
   },
   {
    "duration": 1221,
    "start_time": "2023-01-18T18:58:16.564Z"
   },
   {
    "duration": 38,
    "start_time": "2023-01-18T18:58:17.787Z"
   },
   {
    "duration": 17,
    "start_time": "2023-01-18T18:58:17.827Z"
   },
   {
    "duration": 19,
    "start_time": "2023-01-18T18:58:17.846Z"
   },
   {
    "duration": 17,
    "start_time": "2023-01-18T18:58:17.868Z"
   },
   {
    "duration": 68,
    "start_time": "2023-01-18T18:58:17.888Z"
   },
   {
    "duration": 52,
    "start_time": "2023-01-18T18:58:17.959Z"
   },
   {
    "duration": 39,
    "start_time": "2023-01-18T18:58:18.013Z"
   },
   {
    "duration": 4,
    "start_time": "2023-01-18T18:58:18.053Z"
   },
   {
    "duration": 4853,
    "start_time": "2023-01-18T18:58:18.059Z"
   },
   {
    "duration": 12,
    "start_time": "2023-01-18T18:58:22.914Z"
   },
   {
    "duration": 41,
    "start_time": "2023-01-18T18:58:22.928Z"
   },
   {
    "duration": 34,
    "start_time": "2023-01-18T18:58:22.972Z"
   },
   {
    "duration": 52,
    "start_time": "2023-01-18T18:58:23.008Z"
   },
   {
    "duration": 53,
    "start_time": "2023-01-18T18:58:23.061Z"
   },
   {
    "duration": 45,
    "start_time": "2023-01-18T18:58:23.116Z"
   },
   {
    "duration": 22,
    "start_time": "2023-01-18T18:58:23.162Z"
   },
   {
    "duration": 13,
    "start_time": "2023-01-18T18:58:23.186Z"
   },
   {
    "duration": 70,
    "start_time": "2023-01-18T18:58:23.201Z"
   },
   {
    "duration": 40,
    "start_time": "2023-01-18T18:58:23.273Z"
   },
   {
    "duration": 1277,
    "start_time": "2023-01-19T04:03:36.985Z"
   },
   {
    "duration": 99,
    "start_time": "2023-01-19T04:03:38.264Z"
   },
   {
    "duration": 17,
    "start_time": "2023-01-19T04:03:38.364Z"
   },
   {
    "duration": 5,
    "start_time": "2023-01-19T04:03:38.383Z"
   },
   {
    "duration": 14,
    "start_time": "2023-01-19T04:03:38.389Z"
   },
   {
    "duration": 294,
    "start_time": "2023-01-19T04:03:38.404Z"
   },
   {
    "duration": 36,
    "start_time": "2023-01-19T04:03:38.700Z"
   },
   {
    "duration": 19,
    "start_time": "2023-01-19T04:03:38.737Z"
   },
   {
    "duration": 3,
    "start_time": "2023-01-19T04:03:38.757Z"
   },
   {
    "duration": 3903,
    "start_time": "2023-01-19T04:03:38.762Z"
   },
   {
    "duration": 18,
    "start_time": "2023-01-19T04:03:42.666Z"
   },
   {
    "duration": 4,
    "start_time": "2023-01-19T04:03:42.685Z"
   },
   {
    "duration": 18,
    "start_time": "2023-01-19T04:03:42.690Z"
   },
   {
    "duration": 7,
    "start_time": "2023-01-19T04:03:42.709Z"
   },
   {
    "duration": 25,
    "start_time": "2023-01-19T04:03:42.718Z"
   },
   {
    "duration": 49,
    "start_time": "2023-01-19T04:03:42.745Z"
   },
   {
    "duration": 18,
    "start_time": "2023-01-19T04:03:42.796Z"
   },
   {
    "duration": 3,
    "start_time": "2023-01-19T04:03:42.816Z"
   },
   {
    "duration": 15,
    "start_time": "2023-01-19T04:03:42.821Z"
   },
   {
    "duration": 8,
    "start_time": "2023-01-19T04:03:42.838Z"
   },
   {
    "duration": 1287,
    "start_time": "2023-01-20T13:06:56.895Z"
   },
   {
    "duration": 48,
    "start_time": "2023-01-20T13:06:58.184Z"
   },
   {
    "duration": 12,
    "start_time": "2023-01-20T13:06:58.234Z"
   },
   {
    "duration": 10,
    "start_time": "2023-01-20T13:06:58.248Z"
   },
   {
    "duration": 103,
    "start_time": "2023-01-20T13:06:58.260Z"
   },
   {
    "duration": 43,
    "start_time": "2023-01-20T13:06:58.366Z"
   },
   {
    "duration": 28,
    "start_time": "2023-01-20T13:06:58.428Z"
   },
   {
    "duration": 7,
    "start_time": "2023-01-20T13:06:58.458Z"
   },
   {
    "duration": 17,
    "start_time": "2023-01-20T13:06:58.467Z"
   },
   {
    "duration": 8,
    "start_time": "2023-01-20T13:06:58.486Z"
   },
   {
    "duration": 47,
    "start_time": "2023-01-20T13:06:58.521Z"
   },
   {
    "duration": 26,
    "start_time": "2023-01-20T13:06:58.569Z"
   },
   {
    "duration": 47,
    "start_time": "2023-01-20T13:06:58.597Z"
   },
   {
    "duration": 146,
    "start_time": "2023-01-20T13:06:58.645Z"
   },
   {
    "duration": 16,
    "start_time": "2023-01-20T13:06:58.792Z"
   },
   {
    "duration": 22,
    "start_time": "2023-01-20T13:06:58.821Z"
   },
   {
    "duration": 18,
    "start_time": "2023-01-20T13:06:58.845Z"
   },
   {
    "duration": 24,
    "start_time": "2023-01-20T13:06:58.864Z"
   },
   {
    "duration": 40,
    "start_time": "2023-01-20T13:06:58.890Z"
   },
   {
    "duration": 31,
    "start_time": "2023-01-20T13:06:58.933Z"
   },
   {
    "duration": 10,
    "start_time": "2023-01-20T13:06:58.966Z"
   },
   {
    "duration": 56,
    "start_time": "2023-01-20T13:06:58.978Z"
   },
   {
    "duration": 17,
    "start_time": "2023-01-20T13:06:59.038Z"
   },
   {
    "duration": 917,
    "start_time": "2023-01-20T13:06:59.057Z"
   },
   {
    "duration": 16,
    "start_time": "2023-01-20T13:06:59.976Z"
   },
   {
    "duration": 11,
    "start_time": "2023-01-20T13:06:59.993Z"
   },
   {
    "duration": 47,
    "start_time": "2023-01-20T13:07:00.005Z"
   },
   {
    "duration": 8,
    "start_time": "2023-01-20T13:07:00.056Z"
   },
   {
    "duration": 484,
    "start_time": "2023-01-20T13:07:00.066Z"
   },
   {
    "duration": 6,
    "start_time": "2023-01-20T13:07:00.551Z"
   },
   {
    "duration": 32,
    "start_time": "2023-01-20T13:07:00.559Z"
   },
   {
    "duration": 29,
    "start_time": "2023-01-20T13:07:00.593Z"
   },
   {
    "duration": 13,
    "start_time": "2023-01-20T13:07:00.625Z"
   },
   {
    "duration": 336,
    "start_time": "2023-01-20T13:07:00.640Z"
   },
   {
    "duration": 7,
    "start_time": "2023-01-20T13:07:00.978Z"
   },
   {
    "duration": 48,
    "start_time": "2023-01-20T13:07:00.986Z"
   },
   {
    "duration": 29,
    "start_time": "2023-01-20T13:07:01.036Z"
   },
   {
    "duration": 17,
    "start_time": "2023-01-20T13:07:01.067Z"
   },
   {
    "duration": 38,
    "start_time": "2023-01-20T13:07:01.086Z"
   },
   {
    "duration": 56,
    "start_time": "2023-01-20T13:07:01.127Z"
   },
   {
    "duration": 15,
    "start_time": "2023-01-20T13:07:01.185Z"
   },
   {
    "duration": 494,
    "start_time": "2023-01-20T13:07:01.202Z"
   },
   {
    "duration": 28,
    "start_time": "2023-01-20T13:07:01.698Z"
   },
   {
    "duration": 36,
    "start_time": "2023-01-20T13:07:01.729Z"
   },
   {
    "duration": 30,
    "start_time": "2023-01-20T13:07:01.767Z"
   },
   {
    "duration": 32,
    "start_time": "2023-01-20T13:07:01.799Z"
   },
   {
    "duration": 57,
    "start_time": "2023-01-20T13:07:01.832Z"
   },
   {
    "duration": 41,
    "start_time": "2023-01-20T13:07:01.891Z"
   },
   {
    "duration": 23,
    "start_time": "2023-01-20T13:07:01.934Z"
   },
   {
    "duration": 33,
    "start_time": "2023-01-20T13:07:01.959Z"
   },
   {
    "duration": 12,
    "start_time": "2023-01-20T13:07:01.993Z"
   },
   {
    "duration": 21,
    "start_time": "2023-01-20T13:07:02.007Z"
   },
   {
    "duration": 13,
    "start_time": "2023-01-20T13:07:02.031Z"
   },
   {
    "duration": 6,
    "start_time": "2023-01-20T13:07:02.045Z"
   },
   {
    "duration": 20,
    "start_time": "2023-01-20T13:07:02.053Z"
   },
   {
    "duration": 19,
    "start_time": "2023-01-20T13:07:02.074Z"
   },
   {
    "duration": 49,
    "start_time": "2023-01-20T13:07:02.095Z"
   },
   {
    "duration": 6,
    "start_time": "2023-01-20T13:07:02.146Z"
   },
   {
    "duration": 17,
    "start_time": "2023-01-20T13:07:02.154Z"
   },
   {
    "duration": 1273,
    "start_time": "2023-01-20T13:08:14.233Z"
   },
   {
    "duration": 58,
    "start_time": "2023-01-20T13:08:15.508Z"
   },
   {
    "duration": 9,
    "start_time": "2023-01-20T13:08:15.568Z"
   },
   {
    "duration": 8,
    "start_time": "2023-01-20T13:08:15.579Z"
   },
   {
    "duration": 84,
    "start_time": "2023-01-20T13:08:15.588Z"
   },
   {
    "duration": 51,
    "start_time": "2023-01-20T13:08:15.673Z"
   },
   {
    "duration": 21,
    "start_time": "2023-01-20T13:08:15.726Z"
   },
   {
    "duration": 6,
    "start_time": "2023-01-20T13:08:15.749Z"
   },
   {
    "duration": 20,
    "start_time": "2023-01-20T13:08:15.757Z"
   },
   {
    "duration": 7,
    "start_time": "2023-01-20T13:08:15.780Z"
   },
   {
    "duration": 65,
    "start_time": "2023-01-20T13:08:15.789Z"
   },
   {
    "duration": 30,
    "start_time": "2023-01-20T13:08:15.856Z"
   },
   {
    "duration": 34,
    "start_time": "2023-01-20T13:08:15.888Z"
   },
   {
    "duration": 116,
    "start_time": "2023-01-20T13:08:15.924Z"
   },
   {
    "duration": 18,
    "start_time": "2023-01-20T13:08:16.042Z"
   },
   {
    "duration": 21,
    "start_time": "2023-01-20T13:08:16.062Z"
   },
   {
    "duration": 44,
    "start_time": "2023-01-20T13:08:16.085Z"
   },
   {
    "duration": 23,
    "start_time": "2023-01-20T13:08:16.133Z"
   },
   {
    "duration": 6,
    "start_time": "2023-01-20T13:08:16.158Z"
   },
   {
    "duration": 32,
    "start_time": "2023-01-20T13:08:16.166Z"
   },
   {
    "duration": 11,
    "start_time": "2023-01-20T13:08:16.221Z"
   },
   {
    "duration": 21,
    "start_time": "2023-01-20T13:08:16.234Z"
   },
   {
    "duration": 17,
    "start_time": "2023-01-20T13:08:16.257Z"
   },
   {
    "duration": 834,
    "start_time": "2023-01-20T13:08:16.276Z"
   },
   {
    "duration": 22,
    "start_time": "2023-01-20T13:08:17.112Z"
   },
   {
    "duration": 13,
    "start_time": "2023-01-20T13:08:17.135Z"
   },
   {
    "duration": 28,
    "start_time": "2023-01-20T13:08:17.150Z"
   },
   {
    "duration": 8,
    "start_time": "2023-01-20T13:08:17.182Z"
   },
   {
    "duration": 341,
    "start_time": "2023-01-20T13:08:17.221Z"
   },
   {
    "duration": 6,
    "start_time": "2023-01-20T13:08:17.563Z"
   },
   {
    "duration": 18,
    "start_time": "2023-01-20T13:08:17.572Z"
   },
   {
    "duration": 45,
    "start_time": "2023-01-20T13:08:17.592Z"
   },
   {
    "duration": 8,
    "start_time": "2023-01-20T13:08:17.640Z"
   },
   {
    "duration": 383,
    "start_time": "2023-01-20T13:08:17.650Z"
   },
   {
    "duration": 8,
    "start_time": "2023-01-20T13:08:18.036Z"
   },
   {
    "duration": 38,
    "start_time": "2023-01-20T13:08:18.046Z"
   },
   {
    "duration": 47,
    "start_time": "2023-01-20T13:08:18.085Z"
   },
   {
    "duration": 6,
    "start_time": "2023-01-20T13:08:18.134Z"
   },
   {
    "duration": 8,
    "start_time": "2023-01-20T13:08:18.142Z"
   },
   {
    "duration": 33,
    "start_time": "2023-01-20T13:08:18.151Z"
   },
   {
    "duration": 36,
    "start_time": "2023-01-20T13:08:18.186Z"
   },
   {
    "duration": 476,
    "start_time": "2023-01-20T13:08:18.223Z"
   },
   {
    "duration": 24,
    "start_time": "2023-01-20T13:08:18.700Z"
   },
   {
    "duration": 19,
    "start_time": "2023-01-20T13:08:18.726Z"
   },
   {
    "duration": 16,
    "start_time": "2023-01-20T13:08:18.747Z"
   },
   {
    "duration": 16,
    "start_time": "2023-01-20T13:08:18.765Z"
   },
   {
    "duration": 39,
    "start_time": "2023-01-20T13:08:18.783Z"
   },
   {
    "duration": 23,
    "start_time": "2023-01-20T13:08:18.824Z"
   },
   {
    "duration": 17,
    "start_time": "2023-01-20T13:08:18.849Z"
   },
   {
    "duration": 7,
    "start_time": "2023-01-20T13:08:18.868Z"
   },
   {
    "duration": 18,
    "start_time": "2023-01-20T13:08:18.876Z"
   },
   {
    "duration": 16,
    "start_time": "2023-01-20T13:08:18.920Z"
   },
   {
    "duration": 7,
    "start_time": "2023-01-20T13:08:18.938Z"
   },
   {
    "duration": 7,
    "start_time": "2023-01-20T13:08:18.947Z"
   },
   {
    "duration": 17,
    "start_time": "2023-01-20T13:08:18.956Z"
   },
   {
    "duration": 53,
    "start_time": "2023-01-20T13:08:18.974Z"
   },
   {
    "duration": 20,
    "start_time": "2023-01-20T13:08:19.028Z"
   },
   {
    "duration": 5,
    "start_time": "2023-01-20T13:08:19.050Z"
   },
   {
    "duration": 9,
    "start_time": "2023-01-20T13:08:19.056Z"
   },
   {
    "duration": 1294,
    "start_time": "2023-01-20T13:09:17.315Z"
   },
   {
    "duration": 49,
    "start_time": "2023-01-20T13:09:18.611Z"
   },
   {
    "duration": 11,
    "start_time": "2023-01-20T13:09:18.662Z"
   },
   {
    "duration": 32,
    "start_time": "2023-01-20T13:09:18.675Z"
   },
   {
    "duration": 110,
    "start_time": "2023-01-20T13:09:18.709Z"
   },
   {
    "duration": 59,
    "start_time": "2023-01-20T13:09:18.825Z"
   },
   {
    "duration": 48,
    "start_time": "2023-01-20T13:09:18.885Z"
   },
   {
    "duration": 10,
    "start_time": "2023-01-20T13:09:18.936Z"
   },
   {
    "duration": 19,
    "start_time": "2023-01-20T13:09:18.948Z"
   },
   {
    "duration": 10,
    "start_time": "2023-01-20T13:09:18.971Z"
   },
   {
    "duration": 81,
    "start_time": "2023-01-20T13:09:18.983Z"
   },
   {
    "duration": 30,
    "start_time": "2023-01-20T13:09:19.066Z"
   },
   {
    "duration": 37,
    "start_time": "2023-01-20T13:09:19.098Z"
   },
   {
    "duration": 137,
    "start_time": "2023-01-20T13:09:19.138Z"
   },
   {
    "duration": 20,
    "start_time": "2023-01-20T13:09:19.277Z"
   },
   {
    "duration": 50,
    "start_time": "2023-01-20T13:09:19.299Z"
   },
   {
    "duration": 22,
    "start_time": "2023-01-20T13:09:19.350Z"
   },
   {
    "duration": 63,
    "start_time": "2023-01-20T13:09:19.373Z"
   },
   {
    "duration": 9,
    "start_time": "2023-01-20T13:09:19.439Z"
   },
   {
    "duration": 30,
    "start_time": "2023-01-20T13:09:19.449Z"
   },
   {
    "duration": 10,
    "start_time": "2023-01-20T13:09:19.481Z"
   },
   {
    "duration": 57,
    "start_time": "2023-01-20T13:09:19.493Z"
   },
   {
    "duration": 16,
    "start_time": "2023-01-20T13:09:19.552Z"
   },
   {
    "duration": 941,
    "start_time": "2023-01-20T13:09:19.569Z"
   },
   {
    "duration": 35,
    "start_time": "2023-01-20T13:09:20.512Z"
   },
   {
    "duration": 17,
    "start_time": "2023-01-20T13:09:20.549Z"
   },
   {
    "duration": 36,
    "start_time": "2023-01-20T13:09:20.568Z"
   },
   {
    "duration": 11,
    "start_time": "2023-01-20T13:09:20.623Z"
   },
   {
    "duration": 413,
    "start_time": "2023-01-20T13:09:20.636Z"
   },
   {
    "duration": 7,
    "start_time": "2023-01-20T13:09:21.051Z"
   },
   {
    "duration": 23,
    "start_time": "2023-01-20T13:09:21.059Z"
   },
   {
    "duration": 44,
    "start_time": "2023-01-20T13:09:21.084Z"
   },
   {
    "duration": 14,
    "start_time": "2023-01-20T13:09:21.131Z"
   },
   {
    "duration": 341,
    "start_time": "2023-01-20T13:09:21.146Z"
   },
   {
    "duration": 7,
    "start_time": "2023-01-20T13:09:21.489Z"
   },
   {
    "duration": 57,
    "start_time": "2023-01-20T13:09:21.498Z"
   },
   {
    "duration": 27,
    "start_time": "2023-01-20T13:09:21.557Z"
   },
   {
    "duration": 8,
    "start_time": "2023-01-20T13:09:21.585Z"
   },
   {
    "duration": 34,
    "start_time": "2023-01-20T13:09:21.595Z"
   },
   {
    "duration": 55,
    "start_time": "2023-01-20T13:09:21.631Z"
   },
   {
    "duration": 20,
    "start_time": "2023-01-20T13:09:21.688Z"
   },
   {
    "duration": 512,
    "start_time": "2023-01-20T13:09:21.709Z"
   },
   {
    "duration": 25,
    "start_time": "2023-01-20T13:09:22.224Z"
   },
   {
    "duration": 29,
    "start_time": "2023-01-20T13:09:22.251Z"
   },
   {
    "duration": 17,
    "start_time": "2023-01-20T13:09:22.282Z"
   },
   {
    "duration": 47,
    "start_time": "2023-01-20T13:09:22.300Z"
   },
   {
    "duration": 12,
    "start_time": "2023-01-20T13:09:22.349Z"
   },
   {
    "duration": 36,
    "start_time": "2023-01-20T13:09:22.363Z"
   },
   {
    "duration": 35,
    "start_time": "2023-01-20T13:09:22.401Z"
   },
   {
    "duration": 10,
    "start_time": "2023-01-20T13:09:22.439Z"
   },
   {
    "duration": 8,
    "start_time": "2023-01-20T13:09:22.451Z"
   },
   {
    "duration": 15,
    "start_time": "2023-01-20T13:09:22.460Z"
   },
   {
    "duration": 44,
    "start_time": "2023-01-20T13:09:22.477Z"
   },
   {
    "duration": 9,
    "start_time": "2023-01-20T13:09:22.524Z"
   },
   {
    "duration": 28,
    "start_time": "2023-01-20T13:09:22.535Z"
   },
   {
    "duration": 20,
    "start_time": "2023-01-20T13:09:22.565Z"
   },
   {
    "duration": 58,
    "start_time": "2023-01-20T13:09:22.587Z"
   },
   {
    "duration": 5,
    "start_time": "2023-01-20T13:09:22.647Z"
   },
   {
    "duration": 9,
    "start_time": "2023-01-20T13:09:22.654Z"
   },
   {
    "duration": 1283,
    "start_time": "2023-01-20T13:10:09.236Z"
   },
   {
    "duration": 48,
    "start_time": "2023-01-20T13:10:10.525Z"
   },
   {
    "duration": 10,
    "start_time": "2023-01-20T13:10:10.574Z"
   },
   {
    "duration": 8,
    "start_time": "2023-01-20T13:10:10.586Z"
   },
   {
    "duration": 94,
    "start_time": "2023-01-20T13:10:10.596Z"
   },
   {
    "duration": 70,
    "start_time": "2023-01-20T13:10:10.692Z"
   },
   {
    "duration": 24,
    "start_time": "2023-01-20T13:10:10.764Z"
   },
   {
    "duration": 8,
    "start_time": "2023-01-20T13:10:10.790Z"
   },
   {
    "duration": 39,
    "start_time": "2023-01-20T13:10:10.800Z"
   },
   {
    "duration": 9,
    "start_time": "2023-01-20T13:10:10.843Z"
   },
   {
    "duration": 37,
    "start_time": "2023-01-20T13:10:10.854Z"
   },
   {
    "duration": 65,
    "start_time": "2023-01-20T13:10:10.893Z"
   },
   {
    "duration": 15,
    "start_time": "2023-01-20T13:10:10.960Z"
   },
   {
    "duration": 133,
    "start_time": "2023-01-20T13:10:10.977Z"
   },
   {
    "duration": 24,
    "start_time": "2023-01-20T13:10:11.121Z"
   },
   {
    "duration": 30,
    "start_time": "2023-01-20T13:10:11.147Z"
   },
   {
    "duration": 20,
    "start_time": "2023-01-20T13:10:11.179Z"
   },
   {
    "duration": 25,
    "start_time": "2023-01-20T13:10:11.220Z"
   },
   {
    "duration": 6,
    "start_time": "2023-01-20T13:10:11.247Z"
   },
   {
    "duration": 32,
    "start_time": "2023-01-20T13:10:11.254Z"
   },
   {
    "duration": 13,
    "start_time": "2023-01-20T13:10:11.320Z"
   },
   {
    "duration": 24,
    "start_time": "2023-01-20T13:10:11.335Z"
   },
   {
    "duration": 15,
    "start_time": "2023-01-20T13:10:11.361Z"
   },
   {
    "duration": 905,
    "start_time": "2023-01-20T13:10:11.378Z"
   },
   {
    "duration": 17,
    "start_time": "2023-01-20T13:10:12.285Z"
   },
   {
    "duration": 25,
    "start_time": "2023-01-20T13:10:12.304Z"
   },
   {
    "duration": 57,
    "start_time": "2023-01-20T13:10:12.331Z"
   },
   {
    "duration": 10,
    "start_time": "2023-01-20T13:10:12.393Z"
   },
   {
    "duration": 359,
    "start_time": "2023-01-20T13:10:12.420Z"
   },
   {
    "duration": 6,
    "start_time": "2023-01-20T13:10:12.780Z"
   },
   {
    "duration": 35,
    "start_time": "2023-01-20T13:10:12.788Z"
   },
   {
    "duration": 27,
    "start_time": "2023-01-20T13:10:12.825Z"
   },
   {
    "duration": 10,
    "start_time": "2023-01-20T13:10:12.854Z"
   },
   {
    "duration": 397,
    "start_time": "2023-01-20T13:10:12.866Z"
   },
   {
    "duration": 7,
    "start_time": "2023-01-20T13:10:13.265Z"
   },
   {
    "duration": 54,
    "start_time": "2023-01-20T13:10:13.273Z"
   },
   {
    "duration": 34,
    "start_time": "2023-01-20T13:10:13.329Z"
   },
   {
    "duration": 8,
    "start_time": "2023-01-20T13:10:13.364Z"
   },
   {
    "duration": 12,
    "start_time": "2023-01-20T13:10:13.373Z"
   },
   {
    "duration": 64,
    "start_time": "2023-01-20T13:10:13.387Z"
   },
   {
    "duration": 14,
    "start_time": "2023-01-20T13:10:13.453Z"
   },
   {
    "duration": 506,
    "start_time": "2023-01-20T13:10:13.469Z"
   },
   {
    "duration": 16,
    "start_time": "2023-01-20T13:10:13.977Z"
   },
   {
    "duration": 43,
    "start_time": "2023-01-20T13:10:13.995Z"
   },
   {
    "duration": 19,
    "start_time": "2023-01-20T13:10:14.042Z"
   },
   {
    "duration": 17,
    "start_time": "2023-01-20T13:10:14.064Z"
   },
   {
    "duration": 8,
    "start_time": "2023-01-20T13:10:14.082Z"
   },
   {
    "duration": 61,
    "start_time": "2023-01-20T13:10:14.092Z"
   },
   {
    "duration": 15,
    "start_time": "2023-01-20T13:10:14.155Z"
   },
   {
    "duration": 6,
    "start_time": "2023-01-20T13:10:14.171Z"
   },
   {
    "duration": 8,
    "start_time": "2023-01-20T13:10:14.179Z"
   },
   {
    "duration": 19,
    "start_time": "2023-01-20T13:10:14.220Z"
   },
   {
    "duration": 7,
    "start_time": "2023-01-20T13:10:14.245Z"
   },
   {
    "duration": 7,
    "start_time": "2023-01-20T13:10:14.254Z"
   },
   {
    "duration": 17,
    "start_time": "2023-01-20T13:10:14.262Z"
   },
   {
    "duration": 64,
    "start_time": "2023-01-20T13:10:14.281Z"
   },
   {
    "duration": 20,
    "start_time": "2023-01-20T13:10:14.348Z"
   },
   {
    "duration": 6,
    "start_time": "2023-01-20T13:10:14.370Z"
   },
   {
    "duration": 10,
    "start_time": "2023-01-20T13:10:14.377Z"
   },
   {
    "duration": 106,
    "start_time": "2023-01-20T14:01:32.661Z"
   },
   {
    "duration": 1214,
    "start_time": "2023-01-21T03:37:18.167Z"
   },
   {
    "duration": 99,
    "start_time": "2023-01-21T03:37:19.383Z"
   },
   {
    "duration": 8,
    "start_time": "2023-01-21T03:37:19.483Z"
   },
   {
    "duration": 7,
    "start_time": "2023-01-21T03:37:19.493Z"
   },
   {
    "duration": 304,
    "start_time": "2023-01-21T03:37:19.501Z"
   },
   {
    "duration": 38,
    "start_time": "2023-01-21T03:37:19.807Z"
   },
   {
    "duration": 19,
    "start_time": "2023-01-21T03:37:19.846Z"
   },
   {
    "duration": 6,
    "start_time": "2023-01-21T03:37:19.867Z"
   },
   {
    "duration": 29,
    "start_time": "2023-01-21T03:37:19.874Z"
   },
   {
    "duration": 21,
    "start_time": "2023-01-21T03:37:19.905Z"
   },
   {
    "duration": 51,
    "start_time": "2023-01-21T03:37:19.928Z"
   },
   {
    "duration": 33,
    "start_time": "2023-01-21T03:37:19.981Z"
   },
   {
    "duration": 15,
    "start_time": "2023-01-21T03:37:20.016Z"
   },
   {
    "duration": 107,
    "start_time": "2023-01-21T03:37:20.049Z"
   },
   {
    "duration": 16,
    "start_time": "2023-01-21T03:37:20.158Z"
   },
   {
    "duration": 23,
    "start_time": "2023-01-21T03:37:20.176Z"
   },
   {
    "duration": 17,
    "start_time": "2023-01-21T03:37:20.201Z"
   },
   {
    "duration": 42,
    "start_time": "2023-01-21T03:37:20.220Z"
   },
   {
    "duration": 6,
    "start_time": "2023-01-21T03:37:20.264Z"
   },
   {
    "duration": 29,
    "start_time": "2023-01-21T03:37:20.272Z"
   },
   {
    "duration": 9,
    "start_time": "2023-01-21T03:37:20.303Z"
   },
   {
    "duration": 49,
    "start_time": "2023-01-21T03:37:20.313Z"
   },
   {
    "duration": 14,
    "start_time": "2023-01-21T03:37:20.364Z"
   },
   {
    "duration": 840,
    "start_time": "2023-01-21T03:37:20.380Z"
   },
   {
    "duration": 15,
    "start_time": "2023-01-21T03:37:21.221Z"
   },
   {
    "duration": 16,
    "start_time": "2023-01-21T03:37:21.238Z"
   },
   {
    "duration": 26,
    "start_time": "2023-01-21T03:37:21.256Z"
   },
   {
    "duration": 7,
    "start_time": "2023-01-21T03:37:21.286Z"
   },
   {
    "duration": 348,
    "start_time": "2023-01-21T03:37:21.294Z"
   },
   {
    "duration": 9,
    "start_time": "2023-01-21T03:37:21.643Z"
   },
   {
    "duration": 18,
    "start_time": "2023-01-21T03:37:21.653Z"
   },
   {
    "duration": 16,
    "start_time": "2023-01-21T03:37:21.674Z"
   },
   {
    "duration": 6,
    "start_time": "2023-01-21T03:37:21.692Z"
   },
   {
    "duration": 357,
    "start_time": "2023-01-21T03:37:21.700Z"
   },
   {
    "duration": 6,
    "start_time": "2023-01-21T03:37:22.059Z"
   },
   {
    "duration": 96,
    "start_time": "2023-01-21T03:37:22.067Z"
   },
   {
    "duration": 23,
    "start_time": "2023-01-21T03:37:22.164Z"
   },
   {
    "duration": 7,
    "start_time": "2023-01-21T03:37:22.188Z"
   },
   {
    "duration": 12,
    "start_time": "2023-01-21T03:37:22.197Z"
   },
   {
    "duration": 43,
    "start_time": "2023-01-21T03:37:22.211Z"
   },
   {
    "duration": 13,
    "start_time": "2023-01-21T03:37:22.256Z"
   },
   {
    "duration": 410,
    "start_time": "2023-01-21T03:37:22.271Z"
   },
   {
    "duration": 13,
    "start_time": "2023-01-21T03:37:22.683Z"
   },
   {
    "duration": 15,
    "start_time": "2023-01-21T03:37:22.697Z"
   },
   {
    "duration": 34,
    "start_time": "2023-01-21T03:37:22.714Z"
   },
   {
    "duration": 14,
    "start_time": "2023-01-21T03:37:22.749Z"
   },
   {
    "duration": 17,
    "start_time": "2023-01-21T03:37:22.765Z"
   },
   {
    "duration": 27,
    "start_time": "2023-01-21T03:37:22.785Z"
   },
   {
    "duration": 16,
    "start_time": "2023-01-21T03:37:22.813Z"
   },
   {
    "duration": 20,
    "start_time": "2023-01-21T03:37:22.831Z"
   },
   {
    "duration": 7,
    "start_time": "2023-01-21T03:37:22.853Z"
   },
   {
    "duration": 22,
    "start_time": "2023-01-21T03:37:22.862Z"
   },
   {
    "duration": 6,
    "start_time": "2023-01-21T03:37:22.885Z"
   },
   {
    "duration": 8,
    "start_time": "2023-01-21T03:37:22.893Z"
   },
   {
    "duration": 19,
    "start_time": "2023-01-21T03:37:22.903Z"
   },
   {
    "duration": 39,
    "start_time": "2023-01-21T03:37:22.924Z"
   },
   {
    "duration": 16,
    "start_time": "2023-01-21T03:37:22.965Z"
   },
   {
    "duration": 4,
    "start_time": "2023-01-21T03:37:22.982Z"
   },
   {
    "duration": 11,
    "start_time": "2023-01-21T03:37:22.987Z"
   },
   {
    "duration": 1092,
    "start_time": "2023-01-21T03:46:13.545Z"
   },
   {
    "duration": 44,
    "start_time": "2023-01-21T03:46:14.641Z"
   },
   {
    "duration": 7,
    "start_time": "2023-01-21T03:46:14.687Z"
   },
   {
    "duration": 5,
    "start_time": "2023-01-21T03:46:14.695Z"
   },
   {
    "duration": 70,
    "start_time": "2023-01-21T03:46:14.701Z"
   },
   {
    "duration": 38,
    "start_time": "2023-01-21T03:46:14.772Z"
   },
   {
    "duration": 19,
    "start_time": "2023-01-21T03:46:14.812Z"
   },
   {
    "duration": 21,
    "start_time": "2023-01-21T03:46:14.832Z"
   },
   {
    "duration": 15,
    "start_time": "2023-01-21T03:46:14.854Z"
   },
   {
    "duration": 6,
    "start_time": "2023-01-21T03:46:14.871Z"
   },
   {
    "duration": 29,
    "start_time": "2023-01-21T03:46:14.878Z"
   },
   {
    "duration": 46,
    "start_time": "2023-01-21T03:46:14.909Z"
   },
   {
    "duration": 12,
    "start_time": "2023-01-21T03:46:14.957Z"
   },
   {
    "duration": 113,
    "start_time": "2023-01-21T03:46:14.971Z"
   },
   {
    "duration": 16,
    "start_time": "2023-01-21T03:46:15.086Z"
   },
   {
    "duration": 19,
    "start_time": "2023-01-21T03:46:15.104Z"
   },
   {
    "duration": 32,
    "start_time": "2023-01-21T03:46:15.125Z"
   },
   {
    "duration": 27,
    "start_time": "2023-01-21T03:46:15.159Z"
   },
   {
    "duration": 6,
    "start_time": "2023-01-21T03:46:15.188Z"
   },
   {
    "duration": 54,
    "start_time": "2023-01-21T03:46:15.196Z"
   },
   {
    "duration": 10,
    "start_time": "2023-01-21T03:46:15.251Z"
   },
   {
    "duration": 20,
    "start_time": "2023-01-21T03:46:15.263Z"
   },
   {
    "duration": 16,
    "start_time": "2023-01-21T03:46:15.285Z"
   },
   {
    "duration": 741,
    "start_time": "2023-01-21T03:46:15.303Z"
   },
   {
    "duration": 15,
    "start_time": "2023-01-21T03:46:16.048Z"
   },
   {
    "duration": 17,
    "start_time": "2023-01-21T03:46:16.064Z"
   },
   {
    "duration": 28,
    "start_time": "2023-01-21T03:46:16.082Z"
   },
   {
    "duration": 7,
    "start_time": "2023-01-21T03:46:16.114Z"
   },
   {
    "duration": 320,
    "start_time": "2023-01-21T03:46:16.122Z"
   },
   {
    "duration": 5,
    "start_time": "2023-01-21T03:46:16.448Z"
   },
   {
    "duration": 43,
    "start_time": "2023-01-21T03:46:16.454Z"
   },
   {
    "duration": 17,
    "start_time": "2023-01-21T03:46:16.498Z"
   },
   {
    "duration": 6,
    "start_time": "2023-01-21T03:46:16.517Z"
   },
   {
    "duration": 302,
    "start_time": "2023-01-21T03:46:16.524Z"
   },
   {
    "duration": 5,
    "start_time": "2023-01-21T03:46:16.828Z"
   },
   {
    "duration": 31,
    "start_time": "2023-01-21T03:46:16.848Z"
   },
   {
    "duration": 21,
    "start_time": "2023-01-21T03:46:16.880Z"
   },
   {
    "duration": 11,
    "start_time": "2023-01-21T03:46:16.903Z"
   },
   {
    "duration": 23,
    "start_time": "2023-01-21T03:46:16.916Z"
   },
   {
    "duration": 33,
    "start_time": "2023-01-21T03:46:16.941Z"
   },
   {
    "duration": 13,
    "start_time": "2023-01-21T03:46:16.976Z"
   },
   {
    "duration": 446,
    "start_time": "2023-01-21T03:46:16.990Z"
   },
   {
    "duration": 19,
    "start_time": "2023-01-21T03:46:17.438Z"
   },
   {
    "duration": 30,
    "start_time": "2023-01-21T03:46:17.458Z"
   },
   {
    "duration": 14,
    "start_time": "2023-01-21T03:46:17.489Z"
   },
   {
    "duration": 15,
    "start_time": "2023-01-21T03:46:17.505Z"
   },
   {
    "duration": 11,
    "start_time": "2023-01-21T03:46:17.522Z"
   },
   {
    "duration": 32,
    "start_time": "2023-01-21T03:46:17.534Z"
   },
   {
    "duration": 25,
    "start_time": "2023-01-21T03:46:17.567Z"
   },
   {
    "duration": 7,
    "start_time": "2023-01-21T03:46:17.593Z"
   },
   {
    "duration": 53,
    "start_time": "2023-01-21T03:46:17.601Z"
   },
   {
    "duration": 20,
    "start_time": "2023-01-21T03:46:17.655Z"
   },
   {
    "duration": 7,
    "start_time": "2023-01-21T03:46:17.676Z"
   },
   {
    "duration": 15,
    "start_time": "2023-01-21T03:46:17.684Z"
   },
   {
    "duration": 20,
    "start_time": "2023-01-21T03:46:17.700Z"
   },
   {
    "duration": 14,
    "start_time": "2023-01-21T03:46:17.722Z"
   },
   {
    "duration": 22,
    "start_time": "2023-01-21T03:46:17.738Z"
   },
   {
    "duration": 4,
    "start_time": "2023-01-21T03:46:17.761Z"
   },
   {
    "duration": 10,
    "start_time": "2023-01-21T03:46:17.766Z"
   },
   {
    "duration": 1343,
    "start_time": "2023-01-22T03:50:07.844Z"
   },
   {
    "duration": 100,
    "start_time": "2023-01-22T03:50:09.190Z"
   },
   {
    "duration": 10,
    "start_time": "2023-01-22T03:50:09.292Z"
   },
   {
    "duration": 15,
    "start_time": "2023-01-22T03:50:09.304Z"
   },
   {
    "duration": 348,
    "start_time": "2023-01-22T03:50:09.321Z"
   },
   {
    "duration": 67,
    "start_time": "2023-01-22T03:50:09.671Z"
   },
   {
    "duration": 25,
    "start_time": "2023-01-22T03:50:09.740Z"
   },
   {
    "duration": 6,
    "start_time": "2023-01-22T03:50:09.767Z"
   },
   {
    "duration": 15,
    "start_time": "2023-01-22T03:50:09.775Z"
   },
   {
    "duration": 7,
    "start_time": "2023-01-22T03:50:09.793Z"
   },
   {
    "duration": 67,
    "start_time": "2023-01-22T03:50:09.802Z"
   },
   {
    "duration": 28,
    "start_time": "2023-01-22T03:50:09.871Z"
   },
   {
    "duration": 21,
    "start_time": "2023-01-22T03:50:09.900Z"
   },
   {
    "duration": 126,
    "start_time": "2023-01-22T03:50:09.923Z"
   },
   {
    "duration": 19,
    "start_time": "2023-01-22T03:50:10.051Z"
   },
   {
    "duration": 31,
    "start_time": "2023-01-22T03:50:10.072Z"
   },
   {
    "duration": 26,
    "start_time": "2023-01-22T03:50:10.105Z"
   },
   {
    "duration": 24,
    "start_time": "2023-01-22T03:50:10.147Z"
   },
   {
    "duration": 6,
    "start_time": "2023-01-22T03:50:10.173Z"
   },
   {
    "duration": 32,
    "start_time": "2023-01-22T03:50:10.181Z"
   },
   {
    "duration": 41,
    "start_time": "2023-01-22T03:50:10.215Z"
   },
   {
    "duration": 27,
    "start_time": "2023-01-22T03:50:10.258Z"
   },
   {
    "duration": 17,
    "start_time": "2023-01-22T03:50:10.287Z"
   },
   {
    "duration": 827,
    "start_time": "2023-01-22T03:50:10.305Z"
   },
   {
    "duration": 22,
    "start_time": "2023-01-22T03:50:11.134Z"
   },
   {
    "duration": 33,
    "start_time": "2023-01-22T03:50:11.158Z"
   },
   {
    "duration": 37,
    "start_time": "2023-01-22T03:50:11.193Z"
   },
   {
    "duration": 8,
    "start_time": "2023-01-22T03:50:11.234Z"
   },
   {
    "duration": 305,
    "start_time": "2023-01-22T03:50:11.248Z"
   },
   {
    "duration": 5,
    "start_time": "2023-01-22T03:50:11.555Z"
   },
   {
    "duration": 18,
    "start_time": "2023-01-22T03:50:11.562Z"
   },
   {
    "duration": 19,
    "start_time": "2023-01-22T03:50:11.581Z"
   },
   {
    "duration": 8,
    "start_time": "2023-01-22T03:50:11.601Z"
   },
   {
    "duration": 300,
    "start_time": "2023-01-22T03:50:11.648Z"
   },
   {
    "duration": 8,
    "start_time": "2023-01-22T03:50:11.950Z"
   },
   {
    "duration": 51,
    "start_time": "2023-01-22T03:50:11.960Z"
   },
   {
    "duration": 45,
    "start_time": "2023-01-22T03:50:12.013Z"
   },
   {
    "duration": 8,
    "start_time": "2023-01-22T03:50:12.060Z"
   },
   {
    "duration": 8,
    "start_time": "2023-01-22T03:50:12.070Z"
   },
   {
    "duration": 46,
    "start_time": "2023-01-22T03:50:12.080Z"
   },
   {
    "duration": 39,
    "start_time": "2023-01-22T03:50:12.128Z"
   },
   {
    "duration": 461,
    "start_time": "2023-01-22T03:50:12.169Z"
   },
   {
    "duration": 20,
    "start_time": "2023-01-22T03:50:12.632Z"
   },
   {
    "duration": 18,
    "start_time": "2023-01-22T03:50:12.654Z"
   },
   {
    "duration": 15,
    "start_time": "2023-01-22T03:50:12.674Z"
   },
   {
    "duration": 14,
    "start_time": "2023-01-22T03:50:12.691Z"
   },
   {
    "duration": 7,
    "start_time": "2023-01-22T03:50:12.707Z"
   },
   {
    "duration": 30,
    "start_time": "2023-01-22T03:50:12.749Z"
   },
   {
    "duration": 16,
    "start_time": "2023-01-22T03:50:12.781Z"
   },
   {
    "duration": 8,
    "start_time": "2023-01-22T03:50:12.799Z"
   },
   {
    "duration": 40,
    "start_time": "2023-01-22T03:50:12.809Z"
   },
   {
    "duration": 14,
    "start_time": "2023-01-22T03:50:12.850Z"
   },
   {
    "duration": 8,
    "start_time": "2023-01-22T03:50:12.865Z"
   },
   {
    "duration": 7,
    "start_time": "2023-01-22T03:50:12.875Z"
   },
   {
    "duration": 26,
    "start_time": "2023-01-22T03:50:12.883Z"
   },
   {
    "duration": 52,
    "start_time": "2023-01-22T03:50:12.911Z"
   },
   {
    "duration": 18,
    "start_time": "2023-01-22T03:50:12.966Z"
   },
   {
    "duration": 5,
    "start_time": "2023-01-22T03:50:12.985Z"
   },
   {
    "duration": 10,
    "start_time": "2023-01-22T03:50:12.991Z"
   },
   {
    "duration": 1066,
    "start_time": "2023-01-22T03:52:36.486Z"
   },
   {
    "duration": 45,
    "start_time": "2023-01-22T03:52:37.555Z"
   },
   {
    "duration": 7,
    "start_time": "2023-01-22T03:52:37.602Z"
   },
   {
    "duration": 9,
    "start_time": "2023-01-22T03:52:37.611Z"
   },
   {
    "duration": 76,
    "start_time": "2023-01-22T03:52:37.621Z"
   },
   {
    "duration": 50,
    "start_time": "2023-01-22T03:52:37.698Z"
   },
   {
    "duration": 20,
    "start_time": "2023-01-22T03:52:37.750Z"
   },
   {
    "duration": 5,
    "start_time": "2023-01-22T03:52:37.772Z"
   },
   {
    "duration": 18,
    "start_time": "2023-01-22T03:52:37.779Z"
   },
   {
    "duration": 6,
    "start_time": "2023-01-22T03:52:37.800Z"
   },
   {
    "duration": 53,
    "start_time": "2023-01-22T03:52:37.807Z"
   },
   {
    "duration": 27,
    "start_time": "2023-01-22T03:52:37.862Z"
   },
   {
    "duration": 16,
    "start_time": "2023-01-22T03:52:37.890Z"
   },
   {
    "duration": 140,
    "start_time": "2023-01-22T03:52:37.908Z"
   },
   {
    "duration": 16,
    "start_time": "2023-01-22T03:52:38.049Z"
   },
   {
    "duration": 20,
    "start_time": "2023-01-22T03:52:38.067Z"
   },
   {
    "duration": 17,
    "start_time": "2023-01-22T03:52:38.088Z"
   },
   {
    "duration": 43,
    "start_time": "2023-01-22T03:52:38.107Z"
   },
   {
    "duration": 6,
    "start_time": "2023-01-22T03:52:38.151Z"
   },
   {
    "duration": 31,
    "start_time": "2023-01-22T03:52:38.158Z"
   },
   {
    "duration": 9,
    "start_time": "2023-01-22T03:52:38.190Z"
   },
   {
    "duration": 17,
    "start_time": "2023-01-22T03:52:38.201Z"
   },
   {
    "duration": 42,
    "start_time": "2023-01-22T03:52:38.219Z"
   },
   {
    "duration": 704,
    "start_time": "2023-01-22T03:52:38.263Z"
   },
   {
    "duration": 16,
    "start_time": "2023-01-22T03:52:38.969Z"
   },
   {
    "duration": 12,
    "start_time": "2023-01-22T03:52:38.986Z"
   },
   {
    "duration": 49,
    "start_time": "2023-01-22T03:52:38.999Z"
   },
   {
    "duration": 9,
    "start_time": "2023-01-22T03:52:39.051Z"
   },
   {
    "duration": 294,
    "start_time": "2023-01-22T03:52:39.061Z"
   },
   {
    "duration": 5,
    "start_time": "2023-01-22T03:52:39.357Z"
   },
   {
    "duration": 18,
    "start_time": "2023-01-22T03:52:39.363Z"
   },
   {
    "duration": 18,
    "start_time": "2023-01-22T03:52:39.382Z"
   },
   {
    "duration": 8,
    "start_time": "2023-01-22T03:52:39.401Z"
   },
   {
    "duration": 327,
    "start_time": "2023-01-22T03:52:39.411Z"
   },
   {
    "duration": 14,
    "start_time": "2023-01-22T03:52:39.739Z"
   },
   {
    "duration": 31,
    "start_time": "2023-01-22T03:52:39.754Z"
   },
   {
    "duration": 23,
    "start_time": "2023-01-22T03:52:39.787Z"
   },
   {
    "duration": 8,
    "start_time": "2023-01-22T03:52:39.811Z"
   },
   {
    "duration": 30,
    "start_time": "2023-01-22T03:52:39.820Z"
   },
   {
    "duration": 36,
    "start_time": "2023-01-22T03:52:39.852Z"
   },
   {
    "duration": 15,
    "start_time": "2023-01-22T03:52:39.890Z"
   },
   {
    "duration": 449,
    "start_time": "2023-01-22T03:52:39.907Z"
   },
   {
    "duration": 13,
    "start_time": "2023-01-22T03:52:40.358Z"
   },
   {
    "duration": 16,
    "start_time": "2023-01-22T03:52:40.373Z"
   },
   {
    "duration": 14,
    "start_time": "2023-01-22T03:52:40.391Z"
   },
   {
    "duration": 42,
    "start_time": "2023-01-22T03:52:40.407Z"
   },
   {
    "duration": 6,
    "start_time": "2023-01-22T03:52:40.451Z"
   },
   {
    "duration": 24,
    "start_time": "2023-01-22T03:52:40.458Z"
   },
   {
    "duration": 16,
    "start_time": "2023-01-22T03:52:40.483Z"
   },
   {
    "duration": 7,
    "start_time": "2023-01-22T03:52:40.500Z"
   },
   {
    "duration": 40,
    "start_time": "2023-01-22T03:52:40.508Z"
   },
   {
    "duration": 16,
    "start_time": "2023-01-22T03:52:40.550Z"
   },
   {
    "duration": 8,
    "start_time": "2023-01-22T03:52:40.568Z"
   },
   {
    "duration": 5,
    "start_time": "2023-01-22T03:52:40.578Z"
   },
   {
    "duration": 13,
    "start_time": "2023-01-22T03:52:40.586Z"
   },
   {
    "duration": 51,
    "start_time": "2023-01-22T03:52:40.601Z"
   },
   {
    "duration": 18,
    "start_time": "2023-01-22T03:52:40.654Z"
   },
   {
    "duration": 4,
    "start_time": "2023-01-22T03:52:40.673Z"
   },
   {
    "duration": 11,
    "start_time": "2023-01-22T03:52:40.679Z"
   },
   {
    "duration": 1158,
    "start_time": "2023-01-22T03:57:41.182Z"
   },
   {
    "duration": 47,
    "start_time": "2023-01-22T03:57:42.342Z"
   },
   {
    "duration": 7,
    "start_time": "2023-01-22T03:57:42.391Z"
   },
   {
    "duration": 7,
    "start_time": "2023-01-22T03:57:42.400Z"
   },
   {
    "duration": 72,
    "start_time": "2023-01-22T03:57:42.408Z"
   },
   {
    "duration": 43,
    "start_time": "2023-01-22T03:57:42.481Z"
   },
   {
    "duration": 33,
    "start_time": "2023-01-22T03:57:42.526Z"
   },
   {
    "duration": 6,
    "start_time": "2023-01-22T03:57:42.561Z"
   },
   {
    "duration": 16,
    "start_time": "2023-01-22T03:57:42.568Z"
   },
   {
    "duration": 6,
    "start_time": "2023-01-22T03:57:42.586Z"
   },
   {
    "duration": 55,
    "start_time": "2023-01-22T03:57:42.594Z"
   },
   {
    "duration": 26,
    "start_time": "2023-01-22T03:57:42.650Z"
   },
   {
    "duration": 13,
    "start_time": "2023-01-22T03:57:42.678Z"
   },
   {
    "duration": 127,
    "start_time": "2023-01-22T03:57:42.693Z"
   },
   {
    "duration": 28,
    "start_time": "2023-01-22T03:57:42.822Z"
   },
   {
    "duration": 47,
    "start_time": "2023-01-22T03:57:42.852Z"
   },
   {
    "duration": 18,
    "start_time": "2023-01-22T03:57:42.900Z"
   },
   {
    "duration": 20,
    "start_time": "2023-01-22T03:57:42.920Z"
   },
   {
    "duration": 11,
    "start_time": "2023-01-22T03:57:42.942Z"
   },
   {
    "duration": 36,
    "start_time": "2023-01-22T03:57:42.955Z"
   },
   {
    "duration": 10,
    "start_time": "2023-01-22T03:57:42.992Z"
   },
   {
    "duration": 47,
    "start_time": "2023-01-22T03:57:43.004Z"
   },
   {
    "duration": 20,
    "start_time": "2023-01-22T03:57:43.053Z"
   },
   {
    "duration": 743,
    "start_time": "2023-01-22T03:57:43.075Z"
   },
   {
    "duration": 17,
    "start_time": "2023-01-22T03:57:43.820Z"
   },
   {
    "duration": 14,
    "start_time": "2023-01-22T03:57:43.847Z"
   },
   {
    "duration": 28,
    "start_time": "2023-01-22T03:57:43.863Z"
   },
   {
    "duration": 9,
    "start_time": "2023-01-22T03:57:43.896Z"
   },
   {
    "duration": 370,
    "start_time": "2023-01-22T03:57:43.908Z"
   },
   {
    "duration": 6,
    "start_time": "2023-01-22T03:57:44.279Z"
   },
   {
    "duration": 26,
    "start_time": "2023-01-22T03:57:44.287Z"
   },
   {
    "duration": 17,
    "start_time": "2023-01-22T03:57:44.315Z"
   },
   {
    "duration": 20,
    "start_time": "2023-01-22T03:57:44.334Z"
   },
   {
    "duration": 301,
    "start_time": "2023-01-22T03:57:44.356Z"
   },
   {
    "duration": 6,
    "start_time": "2023-01-22T03:57:44.658Z"
   },
   {
    "duration": 35,
    "start_time": "2023-01-22T03:57:44.666Z"
   },
   {
    "duration": 22,
    "start_time": "2023-01-22T03:57:44.703Z"
   },
   {
    "duration": 27,
    "start_time": "2023-01-22T03:57:44.726Z"
   },
   {
    "duration": 16,
    "start_time": "2023-01-22T03:57:44.755Z"
   },
   {
    "duration": 63,
    "start_time": "2023-01-22T03:57:44.773Z"
   },
   {
    "duration": 18,
    "start_time": "2023-01-22T03:57:44.838Z"
   },
   {
    "duration": 454,
    "start_time": "2023-01-22T03:57:44.857Z"
   },
   {
    "duration": 18,
    "start_time": "2023-01-22T03:57:45.313Z"
   },
   {
    "duration": 32,
    "start_time": "2023-01-22T03:57:45.333Z"
   },
   {
    "duration": 17,
    "start_time": "2023-01-22T03:57:45.367Z"
   },
   {
    "duration": 22,
    "start_time": "2023-01-22T03:57:45.386Z"
   },
   {
    "duration": 13,
    "start_time": "2023-01-22T03:57:45.410Z"
   },
   {
    "duration": 40,
    "start_time": "2023-01-22T03:57:45.424Z"
   },
   {
    "duration": 16,
    "start_time": "2023-01-22T03:57:45.466Z"
   },
   {
    "duration": 20,
    "start_time": "2023-01-22T03:57:45.483Z"
   },
   {
    "duration": 26,
    "start_time": "2023-01-22T03:57:45.505Z"
   },
   {
    "duration": 15,
    "start_time": "2023-01-22T03:57:45.533Z"
   },
   {
    "duration": 19,
    "start_time": "2023-01-22T03:57:45.549Z"
   },
   {
    "duration": 10,
    "start_time": "2023-01-22T03:57:45.569Z"
   },
   {
    "duration": 29,
    "start_time": "2023-01-22T03:57:45.581Z"
   },
   {
    "duration": 19,
    "start_time": "2023-01-22T03:57:45.612Z"
   },
   {
    "duration": 24,
    "start_time": "2023-01-22T03:57:45.632Z"
   },
   {
    "duration": 5,
    "start_time": "2023-01-22T03:57:45.657Z"
   },
   {
    "duration": 11,
    "start_time": "2023-01-22T03:57:45.663Z"
   },
   {
    "duration": 13,
    "start_time": "2023-01-22T04:30:05.781Z"
   },
   {
    "duration": 18,
    "start_time": "2023-01-22T04:33:40.322Z"
   },
   {
    "duration": 1037,
    "start_time": "2023-01-22T04:41:50.597Z"
   },
   {
    "duration": 45,
    "start_time": "2023-01-22T04:41:51.636Z"
   },
   {
    "duration": 8,
    "start_time": "2023-01-22T04:41:51.683Z"
   },
   {
    "duration": 15,
    "start_time": "2023-01-22T04:41:51.693Z"
   },
   {
    "duration": 74,
    "start_time": "2023-01-22T04:41:51.709Z"
   },
   {
    "duration": 43,
    "start_time": "2023-01-22T04:41:51.784Z"
   },
   {
    "duration": 29,
    "start_time": "2023-01-22T04:41:51.828Z"
   },
   {
    "duration": 7,
    "start_time": "2023-01-22T04:41:51.858Z"
   },
   {
    "duration": 29,
    "start_time": "2023-01-22T04:41:51.867Z"
   },
   {
    "duration": 8,
    "start_time": "2023-01-22T04:41:51.899Z"
   },
   {
    "duration": 49,
    "start_time": "2023-01-22T04:41:51.908Z"
   },
   {
    "duration": 25,
    "start_time": "2023-01-22T04:41:51.959Z"
   },
   {
    "duration": 13,
    "start_time": "2023-01-22T04:41:51.986Z"
   },
   {
    "duration": 126,
    "start_time": "2023-01-22T04:41:52.001Z"
   },
   {
    "duration": 20,
    "start_time": "2023-01-22T04:41:52.129Z"
   },
   {
    "duration": 19,
    "start_time": "2023-01-22T04:41:52.151Z"
   },
   {
    "duration": 20,
    "start_time": "2023-01-22T04:41:52.172Z"
   },
   {
    "duration": 17,
    "start_time": "2023-01-22T04:41:52.194Z"
   },
   {
    "duration": 42,
    "start_time": "2023-01-22T04:41:52.212Z"
   },
   {
    "duration": 6,
    "start_time": "2023-01-22T04:41:52.256Z"
   },
   {
    "duration": 29,
    "start_time": "2023-01-22T04:41:52.263Z"
   },
   {
    "duration": 9,
    "start_time": "2023-01-22T04:41:52.294Z"
   },
   {
    "duration": 16,
    "start_time": "2023-01-22T04:41:52.305Z"
   },
   {
    "duration": 14,
    "start_time": "2023-01-22T04:41:52.348Z"
   },
   {
    "duration": 710,
    "start_time": "2023-01-22T04:41:52.364Z"
   },
   {
    "duration": 15,
    "start_time": "2023-01-22T04:41:53.075Z"
   },
   {
    "duration": 11,
    "start_time": "2023-01-22T04:41:53.091Z"
   },
   {
    "duration": 44,
    "start_time": "2023-01-22T04:41:53.105Z"
   },
   {
    "duration": 8,
    "start_time": "2023-01-22T04:41:53.150Z"
   },
   {
    "duration": 302,
    "start_time": "2023-01-22T04:41:53.159Z"
   },
   {
    "duration": 5,
    "start_time": "2023-01-22T04:41:53.463Z"
   },
   {
    "duration": 17,
    "start_time": "2023-01-22T04:41:53.469Z"
   },
   {
    "duration": 16,
    "start_time": "2023-01-22T04:41:53.487Z"
   },
   {
    "duration": 6,
    "start_time": "2023-01-22T04:41:53.505Z"
   },
   {
    "duration": 339,
    "start_time": "2023-01-22T04:41:53.512Z"
   },
   {
    "duration": 6,
    "start_time": "2023-01-22T04:41:53.853Z"
   },
   {
    "duration": 35,
    "start_time": "2023-01-22T04:41:53.860Z"
   },
   {
    "duration": 23,
    "start_time": "2023-01-22T04:41:53.897Z"
   },
   {
    "duration": 26,
    "start_time": "2023-01-22T04:41:53.922Z"
   },
   {
    "duration": 12,
    "start_time": "2023-01-22T04:41:53.949Z"
   },
   {
    "duration": 30,
    "start_time": "2023-01-22T04:41:53.962Z"
   },
   {
    "duration": 12,
    "start_time": "2023-01-22T04:41:53.993Z"
   },
   {
    "duration": 457,
    "start_time": "2023-01-22T04:41:54.007Z"
   },
   {
    "duration": 15,
    "start_time": "2023-01-22T04:41:54.466Z"
   },
   {
    "duration": 23,
    "start_time": "2023-01-22T04:41:54.483Z"
   },
   {
    "duration": 14,
    "start_time": "2023-01-22T04:41:54.508Z"
   },
   {
    "duration": 37,
    "start_time": "2023-01-22T04:41:54.524Z"
   },
   {
    "duration": 9,
    "start_time": "2023-01-22T04:41:54.562Z"
   },
   {
    "duration": 23,
    "start_time": "2023-01-22T04:41:54.573Z"
   },
   {
    "duration": 13,
    "start_time": "2023-01-22T04:41:54.597Z"
   },
   {
    "duration": 36,
    "start_time": "2023-01-22T04:41:54.612Z"
   },
   {
    "duration": 8,
    "start_time": "2023-01-22T04:41:54.650Z"
   },
   {
    "duration": 18,
    "start_time": "2023-01-22T04:41:54.660Z"
   },
   {
    "duration": 8,
    "start_time": "2023-01-22T04:41:54.680Z"
   },
   {
    "duration": 8,
    "start_time": "2023-01-22T04:41:54.689Z"
   },
   {
    "duration": 16,
    "start_time": "2023-01-22T04:41:54.699Z"
   },
   {
    "duration": 45,
    "start_time": "2023-01-22T04:41:54.717Z"
   },
   {
    "duration": 17,
    "start_time": "2023-01-22T04:41:54.764Z"
   },
   {
    "duration": 5,
    "start_time": "2023-01-22T04:41:54.783Z"
   },
   {
    "duration": 7,
    "start_time": "2023-01-22T04:41:54.790Z"
   },
   {
    "duration": 28,
    "start_time": "2023-01-22T04:46:57.781Z"
   },
   {
    "duration": 23,
    "start_time": "2023-01-22T04:47:26.744Z"
   },
   {
    "duration": 26,
    "start_time": "2023-01-22T05:11:09.277Z"
   },
   {
    "duration": 1122,
    "start_time": "2023-01-22T05:11:27.820Z"
   },
   {
    "duration": 46,
    "start_time": "2023-01-22T05:11:28.943Z"
   },
   {
    "duration": 9,
    "start_time": "2023-01-22T05:11:28.991Z"
   },
   {
    "duration": 7,
    "start_time": "2023-01-22T05:11:29.002Z"
   },
   {
    "duration": 75,
    "start_time": "2023-01-22T05:11:29.011Z"
   },
   {
    "duration": 40,
    "start_time": "2023-01-22T05:11:29.088Z"
   },
   {
    "duration": 28,
    "start_time": "2023-01-22T05:11:29.129Z"
   },
   {
    "duration": 6,
    "start_time": "2023-01-22T05:11:29.159Z"
   },
   {
    "duration": 17,
    "start_time": "2023-01-22T05:11:29.167Z"
   },
   {
    "duration": 6,
    "start_time": "2023-01-22T05:11:29.187Z"
   },
   {
    "duration": 54,
    "start_time": "2023-01-22T05:11:29.195Z"
   },
   {
    "duration": 25,
    "start_time": "2023-01-22T05:11:29.251Z"
   },
   {
    "duration": 15,
    "start_time": "2023-01-22T05:11:29.278Z"
   },
   {
    "duration": 124,
    "start_time": "2023-01-22T05:11:29.295Z"
   },
   {
    "duration": 10,
    "start_time": "2023-01-22T05:11:29.420Z"
   },
   {
    "duration": 29,
    "start_time": "2023-01-22T05:11:29.431Z"
   },
   {
    "duration": 26,
    "start_time": "2023-01-22T05:11:29.462Z"
   },
   {
    "duration": 18,
    "start_time": "2023-01-22T05:11:29.490Z"
   },
   {
    "duration": 39,
    "start_time": "2023-01-22T05:11:29.510Z"
   },
   {
    "duration": 6,
    "start_time": "2023-01-22T05:11:29.550Z"
   },
   {
    "duration": 16,
    "start_time": "2023-01-22T05:11:29.557Z"
   },
   {
    "duration": 5,
    "start_time": "2023-01-22T05:11:29.574Z"
   },
   {
    "duration": 36,
    "start_time": "2023-01-22T05:11:29.580Z"
   },
   {
    "duration": 39,
    "start_time": "2023-01-22T05:11:29.618Z"
   },
   {
    "duration": 26,
    "start_time": "2023-01-22T05:11:29.659Z"
   },
   {
    "duration": 37,
    "start_time": "2023-01-22T05:11:29.687Z"
   },
   {
    "duration": 323,
    "start_time": "2023-01-22T05:11:29.725Z"
   },
   {
    "duration": 5,
    "start_time": "2023-01-22T05:11:30.052Z"
   },
   {
    "duration": 17,
    "start_time": "2023-01-22T05:11:30.058Z"
   },
   {
    "duration": 49,
    "start_time": "2023-01-22T05:11:30.076Z"
   },
   {
    "duration": 0,
    "start_time": "2023-01-22T05:11:30.126Z"
   },
   {
    "duration": 0,
    "start_time": "2023-01-22T05:11:30.127Z"
   },
   {
    "duration": 0,
    "start_time": "2023-01-22T05:11:30.129Z"
   },
   {
    "duration": 0,
    "start_time": "2023-01-22T05:11:30.130Z"
   },
   {
    "duration": 0,
    "start_time": "2023-01-22T05:11:30.132Z"
   },
   {
    "duration": 0,
    "start_time": "2023-01-22T05:11:30.133Z"
   },
   {
    "duration": 0,
    "start_time": "2023-01-22T05:11:30.134Z"
   },
   {
    "duration": 0,
    "start_time": "2023-01-22T05:11:30.135Z"
   },
   {
    "duration": 0,
    "start_time": "2023-01-22T05:11:30.137Z"
   },
   {
    "duration": 0,
    "start_time": "2023-01-22T05:11:30.138Z"
   },
   {
    "duration": 0,
    "start_time": "2023-01-22T05:11:30.140Z"
   },
   {
    "duration": 0,
    "start_time": "2023-01-22T05:11:30.141Z"
   },
   {
    "duration": 0,
    "start_time": "2023-01-22T05:11:30.142Z"
   },
   {
    "duration": 0,
    "start_time": "2023-01-22T05:11:30.143Z"
   },
   {
    "duration": 0,
    "start_time": "2023-01-22T05:11:30.144Z"
   },
   {
    "duration": 0,
    "start_time": "2023-01-22T05:11:30.146Z"
   },
   {
    "duration": 0,
    "start_time": "2023-01-22T05:11:30.147Z"
   },
   {
    "duration": 0,
    "start_time": "2023-01-22T05:11:30.148Z"
   },
   {
    "duration": 0,
    "start_time": "2023-01-22T05:11:30.150Z"
   },
   {
    "duration": 0,
    "start_time": "2023-01-22T05:11:30.151Z"
   },
   {
    "duration": 0,
    "start_time": "2023-01-22T05:11:30.153Z"
   },
   {
    "duration": 1,
    "start_time": "2023-01-22T05:11:30.154Z"
   },
   {
    "duration": 0,
    "start_time": "2023-01-22T05:11:30.156Z"
   },
   {
    "duration": 0,
    "start_time": "2023-01-22T05:11:30.157Z"
   },
   {
    "duration": 0,
    "start_time": "2023-01-22T05:11:30.159Z"
   },
   {
    "duration": 0,
    "start_time": "2023-01-22T05:11:30.160Z"
   },
   {
    "duration": 0,
    "start_time": "2023-01-22T05:11:30.161Z"
   },
   {
    "duration": 0,
    "start_time": "2023-01-22T05:11:30.162Z"
   },
   {
    "duration": 0,
    "start_time": "2023-01-22T05:11:30.163Z"
   },
   {
    "duration": 0,
    "start_time": "2023-01-22T05:11:30.164Z"
   },
   {
    "duration": 0,
    "start_time": "2023-01-22T05:11:30.166Z"
   },
   {
    "duration": 0,
    "start_time": "2023-01-22T05:11:30.167Z"
   },
   {
    "duration": 0,
    "start_time": "2023-01-22T05:11:30.168Z"
   },
   {
    "duration": 0,
    "start_time": "2023-01-22T05:11:30.170Z"
   },
   {
    "duration": 0,
    "start_time": "2023-01-22T05:11:30.171Z"
   },
   {
    "duration": 0,
    "start_time": "2023-01-22T05:11:30.173Z"
   },
   {
    "duration": 0,
    "start_time": "2023-01-22T05:11:30.174Z"
   },
   {
    "duration": 1142,
    "start_time": "2023-01-22T05:12:55.717Z"
   },
   {
    "duration": 44,
    "start_time": "2023-01-22T05:12:56.862Z"
   },
   {
    "duration": 6,
    "start_time": "2023-01-22T05:12:56.908Z"
   },
   {
    "duration": 5,
    "start_time": "2023-01-22T05:12:56.916Z"
   },
   {
    "duration": 72,
    "start_time": "2023-01-22T05:12:56.922Z"
   },
   {
    "duration": 40,
    "start_time": "2023-01-22T05:12:56.995Z"
   },
   {
    "duration": 30,
    "start_time": "2023-01-22T05:12:57.036Z"
   },
   {
    "duration": 6,
    "start_time": "2023-01-22T05:12:57.068Z"
   },
   {
    "duration": 23,
    "start_time": "2023-01-22T05:12:57.076Z"
   },
   {
    "duration": 10,
    "start_time": "2023-01-22T05:12:57.101Z"
   },
   {
    "duration": 60,
    "start_time": "2023-01-22T05:12:57.112Z"
   },
   {
    "duration": 26,
    "start_time": "2023-01-22T05:12:57.174Z"
   },
   {
    "duration": 13,
    "start_time": "2023-01-22T05:12:57.202Z"
   },
   {
    "duration": 116,
    "start_time": "2023-01-22T05:12:57.217Z"
   },
   {
    "duration": 21,
    "start_time": "2023-01-22T05:12:57.335Z"
   },
   {
    "duration": 15,
    "start_time": "2023-01-22T05:12:57.358Z"
   },
   {
    "duration": 19,
    "start_time": "2023-01-22T05:12:57.375Z"
   },
   {
    "duration": 17,
    "start_time": "2023-01-22T05:12:57.395Z"
   },
   {
    "duration": 51,
    "start_time": "2023-01-22T05:12:57.413Z"
   },
   {
    "duration": 6,
    "start_time": "2023-01-22T05:12:57.465Z"
   },
   {
    "duration": 13,
    "start_time": "2023-01-22T05:12:57.473Z"
   },
   {
    "duration": 4,
    "start_time": "2023-01-22T05:12:57.488Z"
   },
   {
    "duration": 55,
    "start_time": "2023-01-22T05:12:57.493Z"
   },
   {
    "duration": 20,
    "start_time": "2023-01-22T05:12:57.550Z"
   },
   {
    "duration": 26,
    "start_time": "2023-01-22T05:12:57.571Z"
   },
   {
    "duration": 58,
    "start_time": "2023-01-22T05:12:57.599Z"
   },
   {
    "duration": 299,
    "start_time": "2023-01-22T05:12:57.659Z"
   },
   {
    "duration": 6,
    "start_time": "2023-01-22T05:12:57.961Z"
   },
   {
    "duration": 13,
    "start_time": "2023-01-22T05:12:57.969Z"
   },
   {
    "duration": 3,
    "start_time": "2023-01-22T05:12:57.984Z"
   },
   {
    "duration": 19,
    "start_time": "2023-01-22T05:12:57.989Z"
   },
   {
    "duration": 13,
    "start_time": "2023-01-22T05:12:58.009Z"
   },
   {
    "duration": 35,
    "start_time": "2023-01-22T05:12:58.023Z"
   },
   {
    "duration": 27,
    "start_time": "2023-01-22T05:12:58.059Z"
   },
   {
    "duration": 7,
    "start_time": "2023-01-22T05:12:58.087Z"
   },
   {
    "duration": 324,
    "start_time": "2023-01-22T05:12:58.095Z"
   },
   {
    "duration": 5,
    "start_time": "2023-01-22T05:12:58.420Z"
   },
   {
    "duration": 27,
    "start_time": "2023-01-22T05:12:58.427Z"
   },
   {
    "duration": 16,
    "start_time": "2023-01-22T05:12:58.456Z"
   },
   {
    "duration": 7,
    "start_time": "2023-01-22T05:12:58.473Z"
   },
   {
    "duration": 267,
    "start_time": "2023-01-22T05:12:58.481Z"
   },
   {
    "duration": 6,
    "start_time": "2023-01-22T05:12:58.750Z"
   },
   {
    "duration": 122,
    "start_time": "2023-01-22T05:12:58.757Z"
   },
   {
    "duration": 0,
    "start_time": "2023-01-22T05:12:58.881Z"
   },
   {
    "duration": 0,
    "start_time": "2023-01-22T05:12:58.882Z"
   },
   {
    "duration": 0,
    "start_time": "2023-01-22T05:12:58.883Z"
   },
   {
    "duration": 0,
    "start_time": "2023-01-22T05:12:58.885Z"
   },
   {
    "duration": 0,
    "start_time": "2023-01-22T05:12:58.886Z"
   },
   {
    "duration": 0,
    "start_time": "2023-01-22T05:12:58.887Z"
   },
   {
    "duration": 0,
    "start_time": "2023-01-22T05:12:58.889Z"
   },
   {
    "duration": 0,
    "start_time": "2023-01-22T05:12:58.890Z"
   },
   {
    "duration": 0,
    "start_time": "2023-01-22T05:12:58.892Z"
   },
   {
    "duration": 0,
    "start_time": "2023-01-22T05:12:58.893Z"
   },
   {
    "duration": 0,
    "start_time": "2023-01-22T05:12:58.894Z"
   },
   {
    "duration": 0,
    "start_time": "2023-01-22T05:12:58.895Z"
   },
   {
    "duration": 0,
    "start_time": "2023-01-22T05:12:58.897Z"
   },
   {
    "duration": 0,
    "start_time": "2023-01-22T05:12:58.994Z"
   },
   {
    "duration": 0,
    "start_time": "2023-01-22T05:12:58.996Z"
   },
   {
    "duration": 0,
    "start_time": "2023-01-22T05:12:58.997Z"
   },
   {
    "duration": 0,
    "start_time": "2023-01-22T05:12:58.998Z"
   },
   {
    "duration": 0,
    "start_time": "2023-01-22T05:12:59.000Z"
   },
   {
    "duration": 0,
    "start_time": "2023-01-22T05:12:59.001Z"
   },
   {
    "duration": 0,
    "start_time": "2023-01-22T05:12:59.002Z"
   },
   {
    "duration": 0,
    "start_time": "2023-01-22T05:12:59.004Z"
   },
   {
    "duration": 0,
    "start_time": "2023-01-22T05:12:59.005Z"
   },
   {
    "duration": 0,
    "start_time": "2023-01-22T05:12:59.006Z"
   },
   {
    "duration": 29,
    "start_time": "2023-01-22T05:27:40.574Z"
   },
   {
    "duration": 1065,
    "start_time": "2023-01-22T05:27:52.580Z"
   },
   {
    "duration": 44,
    "start_time": "2023-01-22T05:27:53.647Z"
   },
   {
    "duration": 9,
    "start_time": "2023-01-22T05:27:53.692Z"
   },
   {
    "duration": 5,
    "start_time": "2023-01-22T05:27:53.703Z"
   },
   {
    "duration": 76,
    "start_time": "2023-01-22T05:27:53.710Z"
   },
   {
    "duration": 41,
    "start_time": "2023-01-22T05:27:53.788Z"
   },
   {
    "duration": 35,
    "start_time": "2023-01-22T05:27:53.830Z"
   },
   {
    "duration": 7,
    "start_time": "2023-01-22T05:27:53.867Z"
   },
   {
    "duration": 17,
    "start_time": "2023-01-22T05:27:53.875Z"
   },
   {
    "duration": 9,
    "start_time": "2023-01-22T05:27:53.895Z"
   },
   {
    "duration": 58,
    "start_time": "2023-01-22T05:27:53.906Z"
   },
   {
    "duration": 25,
    "start_time": "2023-01-22T05:27:53.965Z"
   },
   {
    "duration": 13,
    "start_time": "2023-01-22T05:27:53.992Z"
   },
   {
    "duration": 124,
    "start_time": "2023-01-22T05:27:54.007Z"
   },
   {
    "duration": 16,
    "start_time": "2023-01-22T05:27:54.132Z"
   },
   {
    "duration": 20,
    "start_time": "2023-01-22T05:27:54.150Z"
   },
   {
    "duration": 25,
    "start_time": "2023-01-22T05:27:54.172Z"
   },
   {
    "duration": 16,
    "start_time": "2023-01-22T05:27:54.199Z"
   },
   {
    "duration": 44,
    "start_time": "2023-01-22T05:27:54.217Z"
   },
   {
    "duration": 5,
    "start_time": "2023-01-22T05:27:54.262Z"
   },
   {
    "duration": 15,
    "start_time": "2023-01-22T05:27:54.269Z"
   },
   {
    "duration": 14,
    "start_time": "2023-01-22T05:27:54.285Z"
   },
   {
    "duration": 30,
    "start_time": "2023-01-22T05:27:54.301Z"
   },
   {
    "duration": 21,
    "start_time": "2023-01-22T05:27:54.348Z"
   },
   {
    "duration": 32,
    "start_time": "2023-01-22T05:27:54.370Z"
   },
   {
    "duration": 55,
    "start_time": "2023-01-22T05:27:54.403Z"
   },
   {
    "duration": 305,
    "start_time": "2023-01-22T05:27:54.459Z"
   },
   {
    "duration": 6,
    "start_time": "2023-01-22T05:27:54.768Z"
   },
   {
    "duration": 17,
    "start_time": "2023-01-22T05:27:54.776Z"
   },
   {
    "duration": 5,
    "start_time": "2023-01-22T05:27:54.794Z"
   },
   {
    "duration": 19,
    "start_time": "2023-01-22T05:27:54.800Z"
   },
   {
    "duration": 35,
    "start_time": "2023-01-22T05:27:54.820Z"
   },
   {
    "duration": 10,
    "start_time": "2023-01-22T05:27:54.857Z"
   },
   {
    "duration": 27,
    "start_time": "2023-01-22T05:27:54.869Z"
   },
   {
    "duration": 6,
    "start_time": "2023-01-22T05:27:54.897Z"
   },
   {
    "duration": 361,
    "start_time": "2023-01-22T05:27:54.905Z"
   },
   {
    "duration": 7,
    "start_time": "2023-01-22T05:27:55.268Z"
   },
   {
    "duration": 33,
    "start_time": "2023-01-22T05:27:55.277Z"
   },
   {
    "duration": 24,
    "start_time": "2023-01-22T05:27:55.312Z"
   },
   {
    "duration": 16,
    "start_time": "2023-01-22T05:27:55.338Z"
   },
   {
    "duration": 293,
    "start_time": "2023-01-22T05:27:55.355Z"
   },
   {
    "duration": 7,
    "start_time": "2023-01-22T05:27:55.649Z"
   },
   {
    "duration": 31,
    "start_time": "2023-01-22T05:27:55.658Z"
   },
   {
    "duration": 33,
    "start_time": "2023-01-22T05:27:55.691Z"
   },
   {
    "duration": 28,
    "start_time": "2023-01-22T05:27:55.726Z"
   },
   {
    "duration": 5,
    "start_time": "2023-01-22T05:27:55.756Z"
   },
   {
    "duration": 106,
    "start_time": "2023-01-22T05:27:55.763Z"
   },
   {
    "duration": 12,
    "start_time": "2023-01-22T05:27:55.871Z"
   },
   {
    "duration": 426,
    "start_time": "2023-01-22T05:27:55.885Z"
   },
   {
    "duration": 18,
    "start_time": "2023-01-22T05:27:56.313Z"
   },
   {
    "duration": 32,
    "start_time": "2023-01-22T05:27:56.333Z"
   },
   {
    "duration": 18,
    "start_time": "2023-01-22T05:27:56.367Z"
   },
   {
    "duration": 13,
    "start_time": "2023-01-22T05:27:56.386Z"
   },
   {
    "duration": 5,
    "start_time": "2023-01-22T05:27:56.400Z"
   },
   {
    "duration": 44,
    "start_time": "2023-01-22T05:27:56.407Z"
   },
   {
    "duration": 13,
    "start_time": "2023-01-22T05:27:56.453Z"
   },
   {
    "duration": 6,
    "start_time": "2023-01-22T05:27:56.467Z"
   },
   {
    "duration": 8,
    "start_time": "2023-01-22T05:27:56.474Z"
   },
   {
    "duration": 15,
    "start_time": "2023-01-22T05:27:56.483Z"
   },
   {
    "duration": 6,
    "start_time": "2023-01-22T05:27:56.500Z"
   },
   {
    "duration": 5,
    "start_time": "2023-01-22T05:27:56.507Z"
   },
   {
    "duration": 12,
    "start_time": "2023-01-22T05:27:56.548Z"
   },
   {
    "duration": 15,
    "start_time": "2023-01-22T05:27:56.562Z"
   },
   {
    "duration": 15,
    "start_time": "2023-01-22T05:27:56.578Z"
   },
   {
    "duration": 4,
    "start_time": "2023-01-22T05:27:56.595Z"
   },
   {
    "duration": 13,
    "start_time": "2023-01-22T05:27:56.601Z"
   },
   {
    "duration": 9,
    "start_time": "2023-01-22T05:39:44.107Z"
   },
   {
    "duration": 96,
    "start_time": "2023-01-22T05:46:47.566Z"
   },
   {
    "duration": 1133,
    "start_time": "2023-01-22T05:46:57.838Z"
   },
   {
    "duration": 52,
    "start_time": "2023-01-22T05:46:58.973Z"
   },
   {
    "duration": 7,
    "start_time": "2023-01-22T05:46:59.027Z"
   },
   {
    "duration": 4,
    "start_time": "2023-01-22T05:46:59.037Z"
   },
   {
    "duration": 74,
    "start_time": "2023-01-22T05:46:59.043Z"
   },
   {
    "duration": 40,
    "start_time": "2023-01-22T05:46:59.120Z"
   },
   {
    "duration": 19,
    "start_time": "2023-01-22T05:46:59.162Z"
   },
   {
    "duration": 6,
    "start_time": "2023-01-22T05:46:59.183Z"
   },
   {
    "duration": 15,
    "start_time": "2023-01-22T05:46:59.191Z"
   },
   {
    "duration": 6,
    "start_time": "2023-01-22T05:46:59.209Z"
   },
   {
    "duration": 57,
    "start_time": "2023-01-22T05:46:59.217Z"
   },
   {
    "duration": 25,
    "start_time": "2023-01-22T05:46:59.276Z"
   },
   {
    "duration": 14,
    "start_time": "2023-01-22T05:46:59.302Z"
   },
   {
    "duration": 132,
    "start_time": "2023-01-22T05:46:59.318Z"
   },
   {
    "duration": 11,
    "start_time": "2023-01-22T05:46:59.452Z"
   },
   {
    "duration": 16,
    "start_time": "2023-01-22T05:46:59.464Z"
   },
   {
    "duration": 20,
    "start_time": "2023-01-22T05:46:59.482Z"
   },
   {
    "duration": 15,
    "start_time": "2023-01-22T05:46:59.503Z"
   },
   {
    "duration": 47,
    "start_time": "2023-01-22T05:46:59.519Z"
   },
   {
    "duration": 7,
    "start_time": "2023-01-22T05:46:59.568Z"
   },
   {
    "duration": 19,
    "start_time": "2023-01-22T05:46:59.577Z"
   },
   {
    "duration": 5,
    "start_time": "2023-01-22T05:46:59.597Z"
   },
   {
    "duration": 53,
    "start_time": "2023-01-22T05:46:59.604Z"
   },
   {
    "duration": 21,
    "start_time": "2023-01-22T05:46:59.659Z"
   },
   {
    "duration": 27,
    "start_time": "2023-01-22T05:46:59.682Z"
   },
   {
    "duration": 58,
    "start_time": "2023-01-22T05:46:59.710Z"
   },
   {
    "duration": 289,
    "start_time": "2023-01-22T05:46:59.770Z"
   },
   {
    "duration": 6,
    "start_time": "2023-01-22T05:47:00.062Z"
   },
   {
    "duration": 14,
    "start_time": "2023-01-22T05:47:00.070Z"
   },
   {
    "duration": 5,
    "start_time": "2023-01-22T05:47:00.086Z"
   },
   {
    "duration": 20,
    "start_time": "2023-01-22T05:47:00.092Z"
   },
   {
    "duration": 35,
    "start_time": "2023-01-22T05:47:00.114Z"
   },
   {
    "duration": 11,
    "start_time": "2023-01-22T05:47:00.150Z"
   },
   {
    "duration": 24,
    "start_time": "2023-01-22T05:47:00.162Z"
   },
   {
    "duration": 7,
    "start_time": "2023-01-22T05:47:00.187Z"
   },
   {
    "duration": 338,
    "start_time": "2023-01-22T05:47:00.195Z"
   },
   {
    "duration": 14,
    "start_time": "2023-01-22T05:47:00.534Z"
   },
   {
    "duration": 27,
    "start_time": "2023-01-22T05:47:00.549Z"
   },
   {
    "duration": 44,
    "start_time": "2023-01-22T05:47:00.577Z"
   },
   {
    "duration": 9,
    "start_time": "2023-01-22T05:47:00.623Z"
   },
   {
    "duration": 316,
    "start_time": "2023-01-22T05:47:00.634Z"
   },
   {
    "duration": 6,
    "start_time": "2023-01-22T05:47:00.952Z"
   },
   {
    "duration": 47,
    "start_time": "2023-01-22T05:47:00.959Z"
   },
   {
    "duration": 25,
    "start_time": "2023-01-22T05:47:01.008Z"
   },
   {
    "duration": 6,
    "start_time": "2023-01-22T05:47:01.035Z"
   },
   {
    "duration": 9,
    "start_time": "2023-01-22T05:47:01.048Z"
   },
   {
    "duration": 106,
    "start_time": "2023-01-22T05:47:01.059Z"
   },
   {
    "duration": 13,
    "start_time": "2023-01-22T05:47:01.167Z"
   },
   {
    "duration": 396,
    "start_time": "2023-01-22T05:47:01.182Z"
   },
   {
    "duration": 17,
    "start_time": "2023-01-22T05:47:01.580Z"
   },
   {
    "duration": 15,
    "start_time": "2023-01-22T05:47:01.598Z"
   },
   {
    "duration": 35,
    "start_time": "2023-01-22T05:47:01.615Z"
   },
   {
    "duration": 8,
    "start_time": "2023-01-22T05:47:01.651Z"
   },
   {
    "duration": 35,
    "start_time": "2023-01-22T05:47:01.661Z"
   },
   {
    "duration": 20,
    "start_time": "2023-01-22T05:47:01.698Z"
   },
   {
    "duration": 33,
    "start_time": "2023-01-22T05:47:01.720Z"
   },
   {
    "duration": 16,
    "start_time": "2023-01-22T05:47:01.755Z"
   },
   {
    "duration": 19,
    "start_time": "2023-01-22T05:47:01.773Z"
   },
   {
    "duration": 9,
    "start_time": "2023-01-22T05:47:01.794Z"
   },
   {
    "duration": 18,
    "start_time": "2023-01-22T05:47:01.805Z"
   },
   {
    "duration": 24,
    "start_time": "2023-01-22T05:47:01.825Z"
   },
   {
    "duration": 15,
    "start_time": "2023-01-22T05:47:01.851Z"
   },
   {
    "duration": 16,
    "start_time": "2023-01-22T05:47:01.868Z"
   },
   {
    "duration": 36,
    "start_time": "2023-01-22T05:47:01.886Z"
   },
   {
    "duration": 14,
    "start_time": "2023-01-22T05:47:01.924Z"
   },
   {
    "duration": 13,
    "start_time": "2023-01-22T05:51:53.481Z"
   },
   {
    "duration": 1117,
    "start_time": "2023-01-22T05:55:38.818Z"
   },
   {
    "duration": 45,
    "start_time": "2023-01-22T05:55:39.937Z"
   },
   {
    "duration": 8,
    "start_time": "2023-01-22T05:55:39.983Z"
   },
   {
    "duration": 5,
    "start_time": "2023-01-22T05:55:39.992Z"
   },
   {
    "duration": 76,
    "start_time": "2023-01-22T05:55:39.998Z"
   },
   {
    "duration": 40,
    "start_time": "2023-01-22T05:55:40.076Z"
   },
   {
    "duration": 39,
    "start_time": "2023-01-22T05:55:40.118Z"
   },
   {
    "duration": 7,
    "start_time": "2023-01-22T05:55:40.158Z"
   },
   {
    "duration": 17,
    "start_time": "2023-01-22T05:55:40.167Z"
   },
   {
    "duration": 7,
    "start_time": "2023-01-22T05:55:40.188Z"
   },
   {
    "duration": 55,
    "start_time": "2023-01-22T05:55:40.197Z"
   },
   {
    "duration": 26,
    "start_time": "2023-01-22T05:55:40.254Z"
   },
   {
    "duration": 14,
    "start_time": "2023-01-22T05:55:40.282Z"
   },
   {
    "duration": 122,
    "start_time": "2023-01-22T05:55:40.298Z"
   },
   {
    "duration": 22,
    "start_time": "2023-01-22T05:55:40.421Z"
   },
   {
    "duration": 20,
    "start_time": "2023-01-22T05:55:40.444Z"
   },
   {
    "duration": 21,
    "start_time": "2023-01-22T05:55:40.466Z"
   },
   {
    "duration": 16,
    "start_time": "2023-01-22T05:55:40.488Z"
   },
   {
    "duration": 42,
    "start_time": "2023-01-22T05:55:40.506Z"
   },
   {
    "duration": 6,
    "start_time": "2023-01-22T05:55:40.550Z"
   },
   {
    "duration": 14,
    "start_time": "2023-01-22T05:55:40.558Z"
   },
   {
    "duration": 6,
    "start_time": "2023-01-22T05:55:40.573Z"
   },
   {
    "duration": 32,
    "start_time": "2023-01-22T05:55:40.580Z"
   },
   {
    "duration": 44,
    "start_time": "2023-01-22T05:55:40.614Z"
   },
   {
    "duration": 29,
    "start_time": "2023-01-22T05:55:40.660Z"
   },
   {
    "duration": 79,
    "start_time": "2023-01-22T05:55:40.690Z"
   },
   {
    "duration": 292,
    "start_time": "2023-01-22T05:55:40.771Z"
   },
   {
    "duration": 6,
    "start_time": "2023-01-22T05:55:41.067Z"
   },
   {
    "duration": 14,
    "start_time": "2023-01-22T05:55:41.075Z"
   },
   {
    "duration": 4,
    "start_time": "2023-01-22T05:55:41.090Z"
   },
   {
    "duration": 28,
    "start_time": "2023-01-22T05:55:41.096Z"
   },
   {
    "duration": 27,
    "start_time": "2023-01-22T05:55:41.126Z"
   },
   {
    "duration": 11,
    "start_time": "2023-01-22T05:55:41.154Z"
   },
   {
    "duration": 24,
    "start_time": "2023-01-22T05:55:41.166Z"
   },
   {
    "duration": 8,
    "start_time": "2023-01-22T05:55:41.191Z"
   },
   {
    "duration": 336,
    "start_time": "2023-01-22T05:55:41.201Z"
   },
   {
    "duration": 12,
    "start_time": "2023-01-22T05:55:41.539Z"
   },
   {
    "duration": 16,
    "start_time": "2023-01-22T05:55:41.552Z"
   },
   {
    "duration": 19,
    "start_time": "2023-01-22T05:55:41.570Z"
   },
   {
    "duration": 7,
    "start_time": "2023-01-22T05:55:41.591Z"
   },
   {
    "duration": 360,
    "start_time": "2023-01-22T05:55:41.600Z"
   },
   {
    "duration": 7,
    "start_time": "2023-01-22T05:55:41.962Z"
   },
   {
    "duration": 29,
    "start_time": "2023-01-22T05:55:41.971Z"
   },
   {
    "duration": 23,
    "start_time": "2023-01-22T05:55:42.002Z"
   },
   {
    "duration": 26,
    "start_time": "2023-01-22T05:55:42.026Z"
   },
   {
    "duration": 8,
    "start_time": "2023-01-22T05:55:42.053Z"
   },
   {
    "duration": 113,
    "start_time": "2023-01-22T05:55:42.063Z"
   },
   {
    "duration": 15,
    "start_time": "2023-01-22T05:55:42.178Z"
   },
   {
    "duration": 434,
    "start_time": "2023-01-22T05:55:42.194Z"
   },
   {
    "duration": 22,
    "start_time": "2023-01-22T05:55:42.630Z"
   },
   {
    "duration": 15,
    "start_time": "2023-01-22T05:55:42.653Z"
   },
   {
    "duration": 14,
    "start_time": "2023-01-22T05:55:42.669Z"
   },
   {
    "duration": 6,
    "start_time": "2023-01-22T05:55:42.684Z"
   },
   {
    "duration": 19,
    "start_time": "2023-01-22T05:55:42.692Z"
   },
   {
    "duration": 47,
    "start_time": "2023-01-22T05:55:42.713Z"
   },
   {
    "duration": 6,
    "start_time": "2023-01-22T05:55:42.762Z"
   },
   {
    "duration": 7,
    "start_time": "2023-01-22T05:55:42.770Z"
   },
   {
    "duration": 13,
    "start_time": "2023-01-22T05:55:42.778Z"
   },
   {
    "duration": 6,
    "start_time": "2023-01-22T05:55:42.792Z"
   },
   {
    "duration": 5,
    "start_time": "2023-01-22T05:55:42.799Z"
   },
   {
    "duration": 19,
    "start_time": "2023-01-22T05:55:42.848Z"
   },
   {
    "duration": 20,
    "start_time": "2023-01-22T05:55:42.868Z"
   },
   {
    "duration": 18,
    "start_time": "2023-01-22T05:55:42.890Z"
   },
   {
    "duration": 6,
    "start_time": "2023-01-22T05:55:42.909Z"
   },
   {
    "duration": 7,
    "start_time": "2023-01-22T05:55:42.917Z"
   },
   {
    "duration": 38,
    "start_time": "2023-01-22T05:55:42.925Z"
   },
   {
    "duration": 6,
    "start_time": "2023-01-22T05:55:42.964Z"
   },
   {
    "duration": 1074,
    "start_time": "2023-01-22T06:05:50.968Z"
   },
   {
    "duration": 50,
    "start_time": "2023-01-22T06:05:52.044Z"
   },
   {
    "duration": 8,
    "start_time": "2023-01-22T06:05:52.095Z"
   },
   {
    "duration": 4,
    "start_time": "2023-01-22T06:05:52.105Z"
   },
   {
    "duration": 71,
    "start_time": "2023-01-22T06:05:52.111Z"
   },
   {
    "duration": 38,
    "start_time": "2023-01-22T06:05:52.184Z"
   },
   {
    "duration": 31,
    "start_time": "2023-01-22T06:05:52.224Z"
   },
   {
    "duration": 6,
    "start_time": "2023-01-22T06:05:52.257Z"
   },
   {
    "duration": 17,
    "start_time": "2023-01-22T06:05:52.265Z"
   },
   {
    "duration": 7,
    "start_time": "2023-01-22T06:05:52.285Z"
   },
   {
    "duration": 55,
    "start_time": "2023-01-22T06:05:52.294Z"
   },
   {
    "duration": 24,
    "start_time": "2023-01-22T06:05:52.351Z"
   },
   {
    "duration": 13,
    "start_time": "2023-01-22T06:05:52.377Z"
   },
   {
    "duration": 121,
    "start_time": "2023-01-22T06:05:52.392Z"
   },
   {
    "duration": 11,
    "start_time": "2023-01-22T06:05:52.515Z"
   },
   {
    "duration": 35,
    "start_time": "2023-01-22T06:05:52.527Z"
   },
   {
    "duration": 28,
    "start_time": "2023-01-22T06:05:52.564Z"
   },
   {
    "duration": 17,
    "start_time": "2023-01-22T06:05:52.593Z"
   },
   {
    "duration": 20,
    "start_time": "2023-01-22T06:05:52.611Z"
   },
   {
    "duration": 18,
    "start_time": "2023-01-22T06:05:52.633Z"
   },
   {
    "duration": 13,
    "start_time": "2023-01-22T06:05:52.653Z"
   },
   {
    "duration": 5,
    "start_time": "2023-01-22T06:05:52.667Z"
   },
   {
    "duration": 28,
    "start_time": "2023-01-22T06:05:52.673Z"
   },
   {
    "duration": 48,
    "start_time": "2023-01-22T06:05:52.703Z"
   },
   {
    "duration": 27,
    "start_time": "2023-01-22T06:05:52.753Z"
   },
   {
    "duration": 40,
    "start_time": "2023-01-22T06:05:52.782Z"
   },
   {
    "duration": 324,
    "start_time": "2023-01-22T06:05:52.824Z"
   },
   {
    "duration": 6,
    "start_time": "2023-01-22T06:05:53.151Z"
   },
   {
    "duration": 25,
    "start_time": "2023-01-22T06:05:53.158Z"
   },
   {
    "duration": 4,
    "start_time": "2023-01-22T06:05:53.184Z"
   },
   {
    "duration": 18,
    "start_time": "2023-01-22T06:05:53.189Z"
   },
   {
    "duration": 11,
    "start_time": "2023-01-22T06:05:53.209Z"
   },
   {
    "duration": 26,
    "start_time": "2023-01-22T06:05:53.222Z"
   },
   {
    "duration": 30,
    "start_time": "2023-01-22T06:05:53.249Z"
   },
   {
    "duration": 7,
    "start_time": "2023-01-22T06:05:53.280Z"
   },
   {
    "duration": 325,
    "start_time": "2023-01-22T06:05:53.289Z"
   },
   {
    "duration": 5,
    "start_time": "2023-01-22T06:05:53.615Z"
   },
   {
    "duration": 27,
    "start_time": "2023-01-22T06:05:53.621Z"
   },
   {
    "duration": 15,
    "start_time": "2023-01-22T06:05:53.650Z"
   },
   {
    "duration": 7,
    "start_time": "2023-01-22T06:05:53.666Z"
   },
   {
    "duration": 287,
    "start_time": "2023-01-22T06:05:53.674Z"
   },
   {
    "duration": 5,
    "start_time": "2023-01-22T06:05:53.963Z"
   },
   {
    "duration": 33,
    "start_time": "2023-01-22T06:05:53.970Z"
   },
   {
    "duration": 22,
    "start_time": "2023-01-22T06:05:54.005Z"
   },
   {
    "duration": 7,
    "start_time": "2023-01-22T06:05:54.047Z"
   },
   {
    "duration": 9,
    "start_time": "2023-01-22T06:05:54.055Z"
   },
   {
    "duration": 112,
    "start_time": "2023-01-22T06:05:54.065Z"
   },
   {
    "duration": 13,
    "start_time": "2023-01-22T06:05:54.179Z"
   },
   {
    "duration": 400,
    "start_time": "2023-01-22T06:05:54.194Z"
   },
   {
    "duration": 16,
    "start_time": "2023-01-22T06:05:54.595Z"
   },
   {
    "duration": 14,
    "start_time": "2023-01-22T06:05:54.612Z"
   },
   {
    "duration": 26,
    "start_time": "2023-01-22T06:05:54.627Z"
   },
   {
    "duration": 6,
    "start_time": "2023-01-22T06:05:54.655Z"
   },
   {
    "duration": 49,
    "start_time": "2023-01-22T06:05:54.663Z"
   },
   {
    "duration": 13,
    "start_time": "2023-01-22T06:05:54.714Z"
   },
   {
    "duration": 17,
    "start_time": "2023-01-22T06:05:54.729Z"
   },
   {
    "duration": 19,
    "start_time": "2023-01-22T06:05:54.747Z"
   },
   {
    "duration": 39,
    "start_time": "2023-01-22T06:05:54.768Z"
   },
   {
    "duration": 24,
    "start_time": "2023-01-22T06:05:54.809Z"
   },
   {
    "duration": 19,
    "start_time": "2023-01-22T06:05:54.835Z"
   },
   {
    "duration": 37,
    "start_time": "2023-01-22T06:05:54.856Z"
   },
   {
    "duration": 13,
    "start_time": "2023-01-22T06:05:54.895Z"
   },
   {
    "duration": 37,
    "start_time": "2023-01-22T06:05:54.910Z"
   },
   {
    "duration": 5,
    "start_time": "2023-01-22T06:05:54.949Z"
   },
   {
    "duration": 25,
    "start_time": "2023-01-22T06:05:54.955Z"
   },
   {
    "duration": 39,
    "start_time": "2023-01-22T06:05:54.981Z"
   },
   {
    "duration": 20,
    "start_time": "2023-01-22T06:05:55.021Z"
   },
   {
    "duration": 1105,
    "start_time": "2023-01-22T06:13:42.014Z"
   },
   {
    "duration": 44,
    "start_time": "2023-01-22T06:13:43.121Z"
   },
   {
    "duration": 9,
    "start_time": "2023-01-22T06:13:43.167Z"
   },
   {
    "duration": 7,
    "start_time": "2023-01-22T06:13:43.177Z"
   },
   {
    "duration": 74,
    "start_time": "2023-01-22T06:13:43.185Z"
   },
   {
    "duration": 37,
    "start_time": "2023-01-22T06:13:43.260Z"
   },
   {
    "duration": 18,
    "start_time": "2023-01-22T06:13:43.299Z"
   },
   {
    "duration": 5,
    "start_time": "2023-01-22T06:13:43.319Z"
   },
   {
    "duration": 34,
    "start_time": "2023-01-22T06:13:43.326Z"
   },
   {
    "duration": 20,
    "start_time": "2023-01-22T06:13:43.363Z"
   },
   {
    "duration": 30,
    "start_time": "2023-01-22T06:13:43.384Z"
   },
   {
    "duration": 33,
    "start_time": "2023-01-22T06:13:43.416Z"
   },
   {
    "duration": 15,
    "start_time": "2023-01-22T06:13:43.451Z"
   },
   {
    "duration": 115,
    "start_time": "2023-01-22T06:13:43.467Z"
   },
   {
    "duration": 11,
    "start_time": "2023-01-22T06:13:43.584Z"
   },
   {
    "duration": 18,
    "start_time": "2023-01-22T06:13:43.596Z"
   },
   {
    "duration": 41,
    "start_time": "2023-01-22T06:13:43.615Z"
   },
   {
    "duration": 20,
    "start_time": "2023-01-22T06:13:43.657Z"
   },
   {
    "duration": 22,
    "start_time": "2023-01-22T06:13:43.678Z"
   },
   {
    "duration": 7,
    "start_time": "2023-01-22T06:13:43.701Z"
   },
   {
    "duration": 45,
    "start_time": "2023-01-22T06:13:43.709Z"
   },
   {
    "duration": 4,
    "start_time": "2023-01-22T06:13:43.756Z"
   },
   {
    "duration": 29,
    "start_time": "2023-01-22T06:13:43.762Z"
   },
   {
    "duration": 21,
    "start_time": "2023-01-22T06:13:43.792Z"
   },
   {
    "duration": 51,
    "start_time": "2023-01-22T06:13:43.814Z"
   },
   {
    "duration": 40,
    "start_time": "2023-01-22T06:13:43.867Z"
   },
   {
    "duration": 354,
    "start_time": "2023-01-22T06:13:43.909Z"
   },
   {
    "duration": 6,
    "start_time": "2023-01-22T06:13:44.267Z"
   },
   {
    "duration": 13,
    "start_time": "2023-01-22T06:13:44.274Z"
   },
   {
    "duration": 4,
    "start_time": "2023-01-22T06:13:44.289Z"
   },
   {
    "duration": 21,
    "start_time": "2023-01-22T06:13:44.294Z"
   },
   {
    "duration": 33,
    "start_time": "2023-01-22T06:13:44.316Z"
   },
   {
    "duration": 10,
    "start_time": "2023-01-22T06:13:44.350Z"
   },
   {
    "duration": 23,
    "start_time": "2023-01-22T06:13:44.361Z"
   },
   {
    "duration": 7,
    "start_time": "2023-01-22T06:13:44.385Z"
   },
   {
    "duration": 341,
    "start_time": "2023-01-22T06:13:44.393Z"
   },
   {
    "duration": 13,
    "start_time": "2023-01-22T06:13:44.736Z"
   },
   {
    "duration": 17,
    "start_time": "2023-01-22T06:13:44.751Z"
   },
   {
    "duration": 17,
    "start_time": "2023-01-22T06:13:44.770Z"
   },
   {
    "duration": 7,
    "start_time": "2023-01-22T06:13:44.789Z"
   },
   {
    "duration": 325,
    "start_time": "2023-01-22T06:13:44.798Z"
   },
   {
    "duration": 7,
    "start_time": "2023-01-22T06:13:45.125Z"
   },
   {
    "duration": 34,
    "start_time": "2023-01-22T06:13:45.147Z"
   },
   {
    "duration": 27,
    "start_time": "2023-01-22T06:13:45.183Z"
   },
   {
    "duration": 10,
    "start_time": "2023-01-22T06:13:45.212Z"
   },
   {
    "duration": 7,
    "start_time": "2023-01-22T06:13:45.248Z"
   },
   {
    "duration": 118,
    "start_time": "2023-01-22T06:13:45.257Z"
   },
   {
    "duration": 13,
    "start_time": "2023-01-22T06:13:45.376Z"
   },
   {
    "duration": 433,
    "start_time": "2023-01-22T06:13:45.390Z"
   },
   {
    "duration": 25,
    "start_time": "2023-01-22T06:13:45.824Z"
   },
   {
    "duration": 15,
    "start_time": "2023-01-22T06:13:45.851Z"
   },
   {
    "duration": 14,
    "start_time": "2023-01-22T06:13:45.868Z"
   },
   {
    "duration": 25,
    "start_time": "2023-01-22T06:13:45.884Z"
   },
   {
    "duration": 38,
    "start_time": "2023-01-22T06:13:45.911Z"
   },
   {
    "duration": 13,
    "start_time": "2023-01-22T06:13:45.951Z"
   },
   {
    "duration": 7,
    "start_time": "2023-01-22T06:13:45.966Z"
   },
   {
    "duration": 8,
    "start_time": "2023-01-22T06:13:45.974Z"
   },
   {
    "duration": 15,
    "start_time": "2023-01-22T06:13:45.983Z"
   },
   {
    "duration": 6,
    "start_time": "2023-01-22T06:13:46.000Z"
   },
   {
    "duration": 5,
    "start_time": "2023-01-22T06:13:46.008Z"
   },
   {
    "duration": 43,
    "start_time": "2023-01-22T06:13:46.014Z"
   },
   {
    "duration": 14,
    "start_time": "2023-01-22T06:13:46.059Z"
   },
   {
    "duration": 17,
    "start_time": "2023-01-22T06:13:46.074Z"
   },
   {
    "duration": 5,
    "start_time": "2023-01-22T06:13:46.092Z"
   },
   {
    "duration": 7,
    "start_time": "2023-01-22T06:13:46.098Z"
   },
   {
    "duration": 44,
    "start_time": "2023-01-22T06:13:46.106Z"
   },
   {
    "duration": 6,
    "start_time": "2023-01-22T06:13:46.152Z"
   },
   {
    "duration": 1065,
    "start_time": "2023-01-22T06:16:22.974Z"
   },
   {
    "duration": 45,
    "start_time": "2023-01-22T06:16:24.041Z"
   },
   {
    "duration": 8,
    "start_time": "2023-01-22T06:16:24.088Z"
   },
   {
    "duration": 5,
    "start_time": "2023-01-22T06:16:24.098Z"
   },
   {
    "duration": 85,
    "start_time": "2023-01-22T06:16:24.105Z"
   },
   {
    "duration": 41,
    "start_time": "2023-01-22T06:16:24.192Z"
   },
   {
    "duration": 29,
    "start_time": "2023-01-22T06:16:24.235Z"
   },
   {
    "duration": 6,
    "start_time": "2023-01-22T06:16:24.266Z"
   },
   {
    "duration": 16,
    "start_time": "2023-01-22T06:16:24.273Z"
   },
   {
    "duration": 9,
    "start_time": "2023-01-22T06:16:24.292Z"
   },
   {
    "duration": 73,
    "start_time": "2023-01-22T06:16:24.303Z"
   },
   {
    "duration": 24,
    "start_time": "2023-01-22T06:16:24.378Z"
   },
   {
    "duration": 13,
    "start_time": "2023-01-22T06:16:24.404Z"
   },
   {
    "duration": 118,
    "start_time": "2023-01-22T06:16:24.418Z"
   },
   {
    "duration": 20,
    "start_time": "2023-01-22T06:16:24.537Z"
   },
   {
    "duration": 17,
    "start_time": "2023-01-22T06:16:24.559Z"
   },
   {
    "duration": 18,
    "start_time": "2023-01-22T06:16:24.578Z"
   },
   {
    "duration": 16,
    "start_time": "2023-01-22T06:16:24.597Z"
   },
   {
    "duration": 52,
    "start_time": "2023-01-22T06:16:24.615Z"
   },
   {
    "duration": 6,
    "start_time": "2023-01-22T06:16:24.669Z"
   },
   {
    "duration": 19,
    "start_time": "2023-01-22T06:16:24.676Z"
   },
   {
    "duration": 5,
    "start_time": "2023-01-22T06:16:24.696Z"
   },
   {
    "duration": 51,
    "start_time": "2023-01-22T06:16:24.702Z"
   },
   {
    "duration": 21,
    "start_time": "2023-01-22T06:16:24.754Z"
   },
   {
    "duration": 29,
    "start_time": "2023-01-22T06:16:24.777Z"
   },
   {
    "duration": 61,
    "start_time": "2023-01-22T06:16:24.808Z"
   },
   {
    "duration": 306,
    "start_time": "2023-01-22T06:16:24.871Z"
   },
   {
    "duration": 8,
    "start_time": "2023-01-22T06:16:25.182Z"
   },
   {
    "duration": 21,
    "start_time": "2023-01-22T06:16:25.192Z"
   },
   {
    "duration": 5,
    "start_time": "2023-01-22T06:16:25.216Z"
   },
   {
    "duration": 41,
    "start_time": "2023-01-22T06:16:25.223Z"
   },
   {
    "duration": 16,
    "start_time": "2023-01-22T06:16:25.266Z"
   },
   {
    "duration": 18,
    "start_time": "2023-01-22T06:16:25.284Z"
   },
   {
    "duration": 50,
    "start_time": "2023-01-22T06:16:25.304Z"
   },
   {
    "duration": 8,
    "start_time": "2023-01-22T06:16:25.356Z"
   },
   {
    "duration": 294,
    "start_time": "2023-01-22T06:16:25.366Z"
   },
   {
    "duration": 5,
    "start_time": "2023-01-22T06:16:25.661Z"
   },
   {
    "duration": 16,
    "start_time": "2023-01-22T06:16:25.668Z"
   },
   {
    "duration": 17,
    "start_time": "2023-01-22T06:16:25.685Z"
   },
   {
    "duration": 6,
    "start_time": "2023-01-22T06:16:25.704Z"
   },
   {
    "duration": 361,
    "start_time": "2023-01-22T06:16:25.711Z"
   },
   {
    "duration": 6,
    "start_time": "2023-01-22T06:16:26.074Z"
   },
   {
    "duration": 36,
    "start_time": "2023-01-22T06:16:26.081Z"
   },
   {
    "duration": 37,
    "start_time": "2023-01-22T06:16:26.118Z"
   },
   {
    "duration": 7,
    "start_time": "2023-01-22T06:16:26.157Z"
   },
   {
    "duration": 11,
    "start_time": "2023-01-22T06:16:26.165Z"
   },
   {
    "duration": 105,
    "start_time": "2023-01-22T06:16:26.177Z"
   },
   {
    "duration": 12,
    "start_time": "2023-01-22T06:16:26.284Z"
   },
   {
    "duration": 405,
    "start_time": "2023-01-22T06:16:26.297Z"
   },
   {
    "duration": 17,
    "start_time": "2023-01-22T06:16:26.703Z"
   },
   {
    "duration": 27,
    "start_time": "2023-01-22T06:16:26.722Z"
   },
   {
    "duration": 15,
    "start_time": "2023-01-22T06:16:26.750Z"
   },
   {
    "duration": 6,
    "start_time": "2023-01-22T06:16:26.766Z"
   },
   {
    "duration": 20,
    "start_time": "2023-01-22T06:16:26.773Z"
   },
   {
    "duration": 13,
    "start_time": "2023-01-22T06:16:26.795Z"
   },
   {
    "duration": 6,
    "start_time": "2023-01-22T06:16:26.809Z"
   },
   {
    "duration": 38,
    "start_time": "2023-01-22T06:16:26.817Z"
   },
   {
    "duration": 23,
    "start_time": "2023-01-22T06:16:26.857Z"
   },
   {
    "duration": 6,
    "start_time": "2023-01-22T06:16:26.881Z"
   },
   {
    "duration": 5,
    "start_time": "2023-01-22T06:16:26.889Z"
   },
   {
    "duration": 17,
    "start_time": "2023-01-22T06:16:26.895Z"
   },
   {
    "duration": 36,
    "start_time": "2023-01-22T06:16:26.913Z"
   },
   {
    "duration": 16,
    "start_time": "2023-01-22T06:16:26.951Z"
   },
   {
    "duration": 5,
    "start_time": "2023-01-22T06:16:26.968Z"
   },
   {
    "duration": 7,
    "start_time": "2023-01-22T06:16:26.975Z"
   },
   {
    "duration": 15,
    "start_time": "2023-01-22T06:16:26.983Z"
   },
   {
    "duration": 6,
    "start_time": "2023-01-22T06:16:26.999Z"
   },
   {
    "duration": 1179,
    "start_time": "2023-01-22T06:19:12.352Z"
   },
   {
    "duration": 51,
    "start_time": "2023-01-22T06:19:13.533Z"
   },
   {
    "duration": 7,
    "start_time": "2023-01-22T06:19:13.586Z"
   },
   {
    "duration": 5,
    "start_time": "2023-01-22T06:19:13.595Z"
   },
   {
    "duration": 73,
    "start_time": "2023-01-22T06:19:13.601Z"
   },
   {
    "duration": 42,
    "start_time": "2023-01-22T06:19:13.676Z"
   },
   {
    "duration": 42,
    "start_time": "2023-01-22T06:19:13.719Z"
   },
   {
    "duration": 6,
    "start_time": "2023-01-22T06:19:13.762Z"
   },
   {
    "duration": 27,
    "start_time": "2023-01-22T06:19:13.770Z"
   },
   {
    "duration": 7,
    "start_time": "2023-01-22T06:19:13.801Z"
   },
   {
    "duration": 52,
    "start_time": "2023-01-22T06:19:13.810Z"
   },
   {
    "duration": 26,
    "start_time": "2023-01-22T06:19:13.864Z"
   },
   {
    "duration": 15,
    "start_time": "2023-01-22T06:19:13.891Z"
   },
   {
    "duration": 150,
    "start_time": "2023-01-22T06:19:13.907Z"
   },
   {
    "duration": 11,
    "start_time": "2023-01-22T06:19:14.058Z"
   },
   {
    "duration": 16,
    "start_time": "2023-01-22T06:19:14.071Z"
   },
   {
    "duration": 38,
    "start_time": "2023-01-22T06:19:14.088Z"
   },
   {
    "duration": 46,
    "start_time": "2023-01-22T06:19:14.128Z"
   },
   {
    "duration": 32,
    "start_time": "2023-01-22T06:19:14.176Z"
   },
   {
    "duration": 7,
    "start_time": "2023-01-22T06:19:14.249Z"
   },
   {
    "duration": 30,
    "start_time": "2023-01-22T06:19:14.258Z"
   },
   {
    "duration": 6,
    "start_time": "2023-01-22T06:19:14.290Z"
   },
   {
    "duration": 31,
    "start_time": "2023-01-22T06:19:14.298Z"
   },
   {
    "duration": 22,
    "start_time": "2023-01-22T06:19:14.331Z"
   },
   {
    "duration": 29,
    "start_time": "2023-01-22T06:19:14.355Z"
   },
   {
    "duration": 48,
    "start_time": "2023-01-22T06:19:14.385Z"
   },
   {
    "duration": 372,
    "start_time": "2023-01-22T06:19:14.435Z"
   },
   {
    "duration": 7,
    "start_time": "2023-01-22T06:19:14.811Z"
   },
   {
    "duration": 43,
    "start_time": "2023-01-22T06:19:14.819Z"
   },
   {
    "duration": 5,
    "start_time": "2023-01-22T06:19:14.864Z"
   },
   {
    "duration": 30,
    "start_time": "2023-01-22T06:19:14.870Z"
   },
   {
    "duration": 49,
    "start_time": "2023-01-22T06:19:14.902Z"
   },
   {
    "duration": 11,
    "start_time": "2023-01-22T06:19:14.953Z"
   },
   {
    "duration": 30,
    "start_time": "2023-01-22T06:19:14.966Z"
   },
   {
    "duration": 9,
    "start_time": "2023-01-22T06:19:14.998Z"
   },
   {
    "duration": 390,
    "start_time": "2023-01-22T06:19:15.008Z"
   },
   {
    "duration": 9,
    "start_time": "2023-01-22T06:19:15.400Z"
   },
   {
    "duration": 24,
    "start_time": "2023-01-22T06:19:15.411Z"
   },
   {
    "duration": 28,
    "start_time": "2023-01-22T06:19:15.436Z"
   },
   {
    "duration": 7,
    "start_time": "2023-01-22T06:19:15.465Z"
   },
   {
    "duration": 293,
    "start_time": "2023-01-22T06:19:15.474Z"
   },
   {
    "duration": 6,
    "start_time": "2023-01-22T06:19:15.768Z"
   },
   {
    "duration": 32,
    "start_time": "2023-01-22T06:19:15.775Z"
   },
   {
    "duration": 46,
    "start_time": "2023-01-22T06:19:15.808Z"
   },
   {
    "duration": 9,
    "start_time": "2023-01-22T06:19:15.856Z"
   },
   {
    "duration": 8,
    "start_time": "2023-01-22T06:19:15.867Z"
   },
   {
    "duration": 139,
    "start_time": "2023-01-22T06:19:15.877Z"
   },
   {
    "duration": 30,
    "start_time": "2023-01-22T06:19:16.019Z"
   },
   {
    "duration": 416,
    "start_time": "2023-01-22T06:19:16.051Z"
   },
   {
    "duration": 19,
    "start_time": "2023-01-22T06:19:16.469Z"
   },
   {
    "duration": 15,
    "start_time": "2023-01-22T06:19:16.490Z"
   },
   {
    "duration": 13,
    "start_time": "2023-01-22T06:19:16.506Z"
   },
   {
    "duration": 9,
    "start_time": "2023-01-22T06:19:16.548Z"
   },
   {
    "duration": 29,
    "start_time": "2023-01-22T06:19:16.559Z"
   },
   {
    "duration": 18,
    "start_time": "2023-01-22T06:19:16.590Z"
   },
   {
    "duration": 39,
    "start_time": "2023-01-22T06:19:16.610Z"
   },
   {
    "duration": 7,
    "start_time": "2023-01-22T06:19:16.651Z"
   },
   {
    "duration": 16,
    "start_time": "2023-01-22T06:19:16.660Z"
   },
   {
    "duration": 6,
    "start_time": "2023-01-22T06:19:16.678Z"
   },
   {
    "duration": 7,
    "start_time": "2023-01-22T06:19:16.685Z"
   },
   {
    "duration": 18,
    "start_time": "2023-01-22T06:19:16.693Z"
   },
   {
    "duration": 48,
    "start_time": "2023-01-22T06:19:16.712Z"
   },
   {
    "duration": 16,
    "start_time": "2023-01-22T06:19:16.761Z"
   },
   {
    "duration": 11,
    "start_time": "2023-01-22T06:19:16.778Z"
   },
   {
    "duration": 10,
    "start_time": "2023-01-22T06:19:16.792Z"
   },
   {
    "duration": 13,
    "start_time": "2023-01-22T06:19:16.804Z"
   },
   {
    "duration": 30,
    "start_time": "2023-01-22T06:19:16.819Z"
   },
   {
    "duration": 1473,
    "start_time": "2023-02-05T04:44:35.622Z"
   },
   {
    "duration": 102,
    "start_time": "2023-02-05T04:44:37.097Z"
   },
   {
    "duration": 11,
    "start_time": "2023-02-05T04:44:37.201Z"
   },
   {
    "duration": 18,
    "start_time": "2023-02-05T04:44:37.214Z"
   },
   {
    "duration": 326,
    "start_time": "2023-02-05T04:44:37.234Z"
   },
   {
    "duration": 46,
    "start_time": "2023-02-05T04:44:37.562Z"
   },
   {
    "duration": 34,
    "start_time": "2023-02-05T04:44:37.610Z"
   },
   {
    "duration": 9,
    "start_time": "2023-02-05T04:44:37.646Z"
   },
   {
    "duration": 30,
    "start_time": "2023-02-05T04:44:37.657Z"
   },
   {
    "duration": 9,
    "start_time": "2023-02-05T04:44:37.691Z"
   },
   {
    "duration": 55,
    "start_time": "2023-02-05T04:44:37.702Z"
   },
   {
    "duration": 31,
    "start_time": "2023-02-05T04:44:37.759Z"
   },
   {
    "duration": 17,
    "start_time": "2023-02-05T04:44:37.792Z"
   },
   {
    "duration": 147,
    "start_time": "2023-02-05T04:44:37.811Z"
   },
   {
    "duration": 11,
    "start_time": "2023-02-05T04:44:37.960Z"
   },
   {
    "duration": 21,
    "start_time": "2023-02-05T04:44:37.973Z"
   },
   {
    "duration": 43,
    "start_time": "2023-02-05T04:44:37.995Z"
   },
   {
    "duration": 24,
    "start_time": "2023-02-05T04:44:38.040Z"
   },
   {
    "duration": 25,
    "start_time": "2023-02-05T04:44:38.066Z"
   },
   {
    "duration": 7,
    "start_time": "2023-02-05T04:44:38.093Z"
   },
   {
    "duration": 51,
    "start_time": "2023-02-05T04:44:38.102Z"
   },
   {
    "duration": 13,
    "start_time": "2023-02-05T04:44:38.155Z"
   },
   {
    "duration": 57,
    "start_time": "2023-02-05T04:44:38.170Z"
   },
   {
    "duration": 34,
    "start_time": "2023-02-05T04:44:38.229Z"
   },
   {
    "duration": 35,
    "start_time": "2023-02-05T04:44:38.265Z"
   },
   {
    "duration": 71,
    "start_time": "2023-02-05T04:44:38.302Z"
   },
   {
    "duration": 421,
    "start_time": "2023-02-05T04:44:38.375Z"
   },
   {
    "duration": 6,
    "start_time": "2023-02-05T04:44:38.800Z"
   },
   {
    "duration": 19,
    "start_time": "2023-02-05T04:44:38.808Z"
   },
   {
    "duration": 5,
    "start_time": "2023-02-05T04:44:38.838Z"
   },
   {
    "duration": 29,
    "start_time": "2023-02-05T04:44:38.845Z"
   },
   {
    "duration": 15,
    "start_time": "2023-02-05T04:44:38.876Z"
   },
   {
    "duration": 11,
    "start_time": "2023-02-05T04:44:38.893Z"
   },
   {
    "duration": 52,
    "start_time": "2023-02-05T04:44:38.906Z"
   },
   {
    "duration": 9,
    "start_time": "2023-02-05T04:44:38.959Z"
   },
   {
    "duration": 327,
    "start_time": "2023-02-05T04:44:38.969Z"
   },
   {
    "duration": 5,
    "start_time": "2023-02-05T04:44:39.298Z"
   },
   {
    "duration": 21,
    "start_time": "2023-02-05T04:44:39.305Z"
   },
   {
    "duration": 18,
    "start_time": "2023-02-05T04:44:39.338Z"
   },
   {
    "duration": 7,
    "start_time": "2023-02-05T04:44:39.358Z"
   },
   {
    "duration": 339,
    "start_time": "2023-02-05T04:44:39.367Z"
   },
   {
    "duration": 8,
    "start_time": "2023-02-05T04:44:39.709Z"
   },
   {
    "duration": 47,
    "start_time": "2023-02-05T04:44:39.719Z"
   },
   {
    "duration": 26,
    "start_time": "2023-02-05T04:44:39.768Z"
   },
   {
    "duration": 8,
    "start_time": "2023-02-05T04:44:39.796Z"
   },
   {
    "duration": 33,
    "start_time": "2023-02-05T04:44:39.806Z"
   },
   {
    "duration": 110,
    "start_time": "2023-02-05T04:44:39.841Z"
   },
   {
    "duration": 14,
    "start_time": "2023-02-05T04:44:39.953Z"
   },
   {
    "duration": 424,
    "start_time": "2023-02-05T04:44:39.969Z"
   },
   {
    "duration": 19,
    "start_time": "2023-02-05T04:44:40.395Z"
   },
   {
    "duration": 31,
    "start_time": "2023-02-05T04:44:40.416Z"
   },
   {
    "duration": 15,
    "start_time": "2023-02-05T04:44:40.449Z"
   },
   {
    "duration": 8,
    "start_time": "2023-02-05T04:44:40.466Z"
   },
   {
    "duration": 27,
    "start_time": "2023-02-05T04:44:40.476Z"
   },
   {
    "duration": 46,
    "start_time": "2023-02-05T04:44:40.504Z"
   },
   {
    "duration": 7,
    "start_time": "2023-02-05T04:44:40.551Z"
   },
   {
    "duration": 13,
    "start_time": "2023-02-05T04:44:40.560Z"
   },
   {
    "duration": 19,
    "start_time": "2023-02-05T04:44:40.575Z"
   },
   {
    "duration": 18,
    "start_time": "2023-02-05T04:44:40.596Z"
   },
   {
    "duration": 29,
    "start_time": "2023-02-05T04:44:40.615Z"
   },
   {
    "duration": 26,
    "start_time": "2023-02-05T04:44:40.645Z"
   },
   {
    "duration": 15,
    "start_time": "2023-02-05T04:44:40.673Z"
   },
   {
    "duration": 22,
    "start_time": "2023-02-05T04:44:40.690Z"
   },
   {
    "duration": 6,
    "start_time": "2023-02-05T04:44:40.715Z"
   },
   {
    "duration": 6,
    "start_time": "2023-02-05T04:44:40.738Z"
   },
   {
    "duration": 26,
    "start_time": "2023-02-05T04:44:40.746Z"
   },
   {
    "duration": 12,
    "start_time": "2023-02-05T04:44:40.774Z"
   },
   {
    "duration": 1292,
    "start_time": "2023-02-05T04:45:36.959Z"
   },
   {
    "duration": 48,
    "start_time": "2023-02-05T04:45:38.253Z"
   },
   {
    "duration": 10,
    "start_time": "2023-02-05T04:45:38.303Z"
   },
   {
    "duration": 10,
    "start_time": "2023-02-05T04:45:38.315Z"
   },
   {
    "duration": 84,
    "start_time": "2023-02-05T04:45:38.327Z"
   },
   {
    "duration": 45,
    "start_time": "2023-02-05T04:45:38.412Z"
   },
   {
    "duration": 21,
    "start_time": "2023-02-05T04:45:38.459Z"
   },
   {
    "duration": 7,
    "start_time": "2023-02-05T04:45:38.482Z"
   },
   {
    "duration": 20,
    "start_time": "2023-02-05T04:45:38.490Z"
   },
   {
    "duration": 8,
    "start_time": "2023-02-05T04:45:38.537Z"
   },
   {
    "duration": 45,
    "start_time": "2023-02-05T04:45:38.546Z"
   },
   {
    "duration": 46,
    "start_time": "2023-02-05T04:45:38.593Z"
   },
   {
    "duration": 15,
    "start_time": "2023-02-05T04:45:38.641Z"
   },
   {
    "duration": 131,
    "start_time": "2023-02-05T04:45:38.658Z"
   },
   {
    "duration": 12,
    "start_time": "2023-02-05T04:45:38.791Z"
   },
   {
    "duration": 37,
    "start_time": "2023-02-05T04:45:38.806Z"
   },
   {
    "duration": 91,
    "start_time": "2023-02-05T04:45:38.846Z"
   },
   {
    "duration": 32,
    "start_time": "2023-02-05T04:45:38.940Z"
   },
   {
    "duration": 25,
    "start_time": "2023-02-05T04:45:38.975Z"
   },
   {
    "duration": 6,
    "start_time": "2023-02-05T04:45:39.002Z"
   },
   {
    "duration": 33,
    "start_time": "2023-02-05T04:45:39.010Z"
   },
   {
    "duration": 6,
    "start_time": "2023-02-05T04:45:39.045Z"
   },
   {
    "duration": 51,
    "start_time": "2023-02-05T04:45:39.052Z"
   },
   {
    "duration": 34,
    "start_time": "2023-02-05T04:45:39.104Z"
   },
   {
    "duration": 36,
    "start_time": "2023-02-05T04:45:39.139Z"
   },
   {
    "duration": 65,
    "start_time": "2023-02-05T04:45:39.177Z"
   },
   {
    "duration": 318,
    "start_time": "2023-02-05T04:45:39.244Z"
   },
   {
    "duration": 7,
    "start_time": "2023-02-05T04:45:39.568Z"
   },
   {
    "duration": 42,
    "start_time": "2023-02-05T04:45:39.577Z"
   },
   {
    "duration": 15,
    "start_time": "2023-02-05T04:45:39.621Z"
   },
   {
    "duration": 28,
    "start_time": "2023-02-05T04:45:39.638Z"
   },
   {
    "duration": 17,
    "start_time": "2023-02-05T04:45:39.668Z"
   },
   {
    "duration": 13,
    "start_time": "2023-02-05T04:45:39.687Z"
   },
   {
    "duration": 53,
    "start_time": "2023-02-05T04:45:39.702Z"
   },
   {
    "duration": 8,
    "start_time": "2023-02-05T04:45:39.757Z"
   },
   {
    "duration": 351,
    "start_time": "2023-02-05T04:45:39.766Z"
   },
   {
    "duration": 7,
    "start_time": "2023-02-05T04:45:40.119Z"
   },
   {
    "duration": 19,
    "start_time": "2023-02-05T04:45:40.138Z"
   },
   {
    "duration": 23,
    "start_time": "2023-02-05T04:45:40.159Z"
   },
   {
    "duration": 9,
    "start_time": "2023-02-05T04:45:40.184Z"
   },
   {
    "duration": 378,
    "start_time": "2023-02-05T04:45:40.195Z"
   },
   {
    "duration": 7,
    "start_time": "2023-02-05T04:45:40.575Z"
   },
   {
    "duration": 42,
    "start_time": "2023-02-05T04:45:40.584Z"
   },
   {
    "duration": 26,
    "start_time": "2023-02-05T04:45:40.638Z"
   },
   {
    "duration": 10,
    "start_time": "2023-02-05T04:45:40.665Z"
   },
   {
    "duration": 30,
    "start_time": "2023-02-05T04:45:40.677Z"
   },
   {
    "duration": 124,
    "start_time": "2023-02-05T04:45:40.709Z"
   },
   {
    "duration": 16,
    "start_time": "2023-02-05T04:45:40.837Z"
   },
   {
    "duration": 420,
    "start_time": "2023-02-05T04:45:40.855Z"
   },
   {
    "duration": 26,
    "start_time": "2023-02-05T04:45:41.278Z"
   },
   {
    "duration": 39,
    "start_time": "2023-02-05T04:45:41.306Z"
   },
   {
    "duration": 22,
    "start_time": "2023-02-05T04:45:41.347Z"
   },
   {
    "duration": 10,
    "start_time": "2023-02-05T04:45:41.371Z"
   },
   {
    "duration": 35,
    "start_time": "2023-02-05T04:45:41.382Z"
   },
   {
    "duration": 32,
    "start_time": "2023-02-05T04:45:41.419Z"
   },
   {
    "duration": 7,
    "start_time": "2023-02-05T04:45:41.452Z"
   },
   {
    "duration": 14,
    "start_time": "2023-02-05T04:45:41.461Z"
   },
   {
    "duration": 49,
    "start_time": "2023-02-05T04:45:41.476Z"
   },
   {
    "duration": 7,
    "start_time": "2023-02-05T04:45:41.527Z"
   },
   {
    "duration": 19,
    "start_time": "2023-02-05T04:45:41.537Z"
   },
   {
    "duration": 27,
    "start_time": "2023-02-05T04:45:41.557Z"
   },
   {
    "duration": 16,
    "start_time": "2023-02-05T04:45:41.586Z"
   },
   {
    "duration": 19,
    "start_time": "2023-02-05T04:45:41.604Z"
   },
   {
    "duration": 16,
    "start_time": "2023-02-05T04:45:41.626Z"
   },
   {
    "duration": 12,
    "start_time": "2023-02-05T04:45:41.644Z"
   },
   {
    "duration": 25,
    "start_time": "2023-02-05T04:45:41.658Z"
   },
   {
    "duration": 14,
    "start_time": "2023-02-05T04:45:41.685Z"
   },
   {
    "duration": 1260,
    "start_time": "2023-02-05T05:15:28.403Z"
   },
   {
    "duration": 53,
    "start_time": "2023-02-05T05:15:29.666Z"
   },
   {
    "duration": 12,
    "start_time": "2023-02-05T05:15:29.720Z"
   },
   {
    "duration": 19,
    "start_time": "2023-02-05T05:15:29.735Z"
   },
   {
    "duration": 116,
    "start_time": "2023-02-05T05:15:29.756Z"
   },
   {
    "duration": 46,
    "start_time": "2023-02-05T05:15:29.874Z"
   },
   {
    "duration": 41,
    "start_time": "2023-02-05T05:15:29.922Z"
   },
   {
    "duration": 8,
    "start_time": "2023-02-05T05:15:29.965Z"
   },
   {
    "duration": 17,
    "start_time": "2023-02-05T05:15:29.975Z"
   },
   {
    "duration": 10,
    "start_time": "2023-02-05T05:15:29.997Z"
   },
   {
    "duration": 64,
    "start_time": "2023-02-05T05:15:30.009Z"
   },
   {
    "duration": 41,
    "start_time": "2023-02-05T05:15:30.074Z"
   },
   {
    "duration": 27,
    "start_time": "2023-02-05T05:15:30.117Z"
   },
   {
    "duration": 118,
    "start_time": "2023-02-05T05:15:30.146Z"
   },
   {
    "duration": 12,
    "start_time": "2023-02-05T05:15:30.266Z"
   },
   {
    "duration": 56,
    "start_time": "2023-02-05T05:15:30.280Z"
   },
   {
    "duration": 76,
    "start_time": "2023-02-05T05:15:30.339Z"
   },
   {
    "duration": 46,
    "start_time": "2023-02-05T05:15:30.417Z"
   },
   {
    "duration": 65,
    "start_time": "2023-02-05T05:15:30.466Z"
   },
   {
    "duration": 43,
    "start_time": "2023-02-05T05:15:30.534Z"
   },
   {
    "duration": 45,
    "start_time": "2023-02-05T05:15:30.579Z"
   },
   {
    "duration": 45,
    "start_time": "2023-02-05T05:15:30.627Z"
   },
   {
    "duration": 67,
    "start_time": "2023-02-05T05:15:30.674Z"
   },
   {
    "duration": 41,
    "start_time": "2023-02-05T05:15:30.743Z"
   },
   {
    "duration": 74,
    "start_time": "2023-02-05T05:15:30.786Z"
   },
   {
    "duration": 66,
    "start_time": "2023-02-05T05:15:30.863Z"
   },
   {
    "duration": 345,
    "start_time": "2023-02-05T05:15:30.931Z"
   },
   {
    "duration": 7,
    "start_time": "2023-02-05T05:15:31.281Z"
   },
   {
    "duration": 30,
    "start_time": "2023-02-05T05:15:31.289Z"
   },
   {
    "duration": 45,
    "start_time": "2023-02-05T05:15:31.321Z"
   },
   {
    "duration": 53,
    "start_time": "2023-02-05T05:15:31.368Z"
   },
   {
    "duration": 27,
    "start_time": "2023-02-05T05:15:31.423Z"
   },
   {
    "duration": 20,
    "start_time": "2023-02-05T05:15:31.452Z"
   },
   {
    "duration": 42,
    "start_time": "2023-02-05T05:15:31.475Z"
   },
   {
    "duration": 9,
    "start_time": "2023-02-05T05:15:31.519Z"
   },
   {
    "duration": 359,
    "start_time": "2023-02-05T05:15:31.531Z"
   },
   {
    "duration": 6,
    "start_time": "2023-02-05T05:15:31.892Z"
   },
   {
    "duration": 36,
    "start_time": "2023-02-05T05:15:31.900Z"
   },
   {
    "duration": 24,
    "start_time": "2023-02-05T05:15:31.937Z"
   },
   {
    "duration": 9,
    "start_time": "2023-02-05T05:15:31.963Z"
   },
   {
    "duration": 369,
    "start_time": "2023-02-05T05:15:31.974Z"
   },
   {
    "duration": 9,
    "start_time": "2023-02-05T05:15:32.346Z"
   },
   {
    "duration": 49,
    "start_time": "2023-02-05T05:15:32.357Z"
   },
   {
    "duration": 51,
    "start_time": "2023-02-05T05:15:32.408Z"
   },
   {
    "duration": 13,
    "start_time": "2023-02-05T05:15:32.461Z"
   },
   {
    "duration": 29,
    "start_time": "2023-02-05T05:15:32.476Z"
   },
   {
    "duration": 140,
    "start_time": "2023-02-05T05:15:32.507Z"
   },
   {
    "duration": 21,
    "start_time": "2023-02-05T05:15:32.650Z"
   },
   {
    "duration": 509,
    "start_time": "2023-02-05T05:15:32.673Z"
   },
   {
    "duration": 20,
    "start_time": "2023-02-05T05:15:33.184Z"
   },
   {
    "duration": 37,
    "start_time": "2023-02-05T05:15:33.206Z"
   },
   {
    "duration": 19,
    "start_time": "2023-02-05T05:15:33.245Z"
   },
   {
    "duration": 9,
    "start_time": "2023-02-05T05:15:33.266Z"
   },
   {
    "duration": 29,
    "start_time": "2023-02-05T05:15:33.278Z"
   },
   {
    "duration": 45,
    "start_time": "2023-02-05T05:15:33.310Z"
   },
   {
    "duration": 16,
    "start_time": "2023-02-05T05:15:33.357Z"
   },
   {
    "duration": 54,
    "start_time": "2023-02-05T05:15:33.375Z"
   },
   {
    "duration": 33,
    "start_time": "2023-02-05T05:15:33.431Z"
   },
   {
    "duration": 7,
    "start_time": "2023-02-05T05:15:33.466Z"
   },
   {
    "duration": 12,
    "start_time": "2023-02-05T05:15:33.475Z"
   },
   {
    "duration": 24,
    "start_time": "2023-02-05T05:15:33.489Z"
   },
   {
    "duration": 29,
    "start_time": "2023-02-05T05:15:33.515Z"
   },
   {
    "duration": 18,
    "start_time": "2023-02-05T05:15:33.546Z"
   },
   {
    "duration": 8,
    "start_time": "2023-02-05T05:15:33.567Z"
   },
   {
    "duration": 17,
    "start_time": "2023-02-05T05:15:33.578Z"
   },
   {
    "duration": 33,
    "start_time": "2023-02-05T05:15:33.598Z"
   },
   {
    "duration": 22,
    "start_time": "2023-02-05T05:15:33.633Z"
   }
  ],
  "kernelspec": {
   "display_name": "Python 3 (ipykernel)",
   "language": "python",
   "name": "python3"
  },
  "language_info": {
   "codemirror_mode": {
    "name": "ipython",
    "version": 3
   },
   "file_extension": ".py",
   "mimetype": "text/x-python",
   "name": "python",
   "nbconvert_exporter": "python",
   "pygments_lexer": "ipython3",
   "version": "3.9.5"
  },
  "toc": {
   "base_numbering": 1,
   "nav_menu": {},
   "number_sections": true,
   "sideBar": true,
   "skip_h1_title": true,
   "title_cell": "Table of Contents",
   "title_sidebar": "Contents",
   "toc_cell": false,
   "toc_position": {
    "height": "calc(100% - 180px)",
    "left": "10px",
    "top": "150px",
    "width": "216px"
   },
   "toc_section_display": true,
   "toc_window_display": true
  }
 },
 "nbformat": 4,
 "nbformat_minor": 2
}
