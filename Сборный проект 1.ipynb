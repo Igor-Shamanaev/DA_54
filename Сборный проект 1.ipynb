{
 "cells": [
  {
   "cell_type": "markdown",
   "metadata": {},
   "source": [
    "# Сборный проект 1"
   ]
  },
  {
   "cell_type": "markdown",
   "metadata": {},
   "source": [
    "Я работаю в интернет-магазине продающем компьютерные игры. Из открытых источников доступны исторические данные о продажах игр, оценки пользователей и экспертов, жанры и платформы. В наличии данные на декабрь 2016 г. Я планирую кампанию на 2017-й. Нужно отработать принцип работы с данными и выявить определяющие успешность игры закономерности. Это позволит сделать ставку на потенциально популярный продукт и спланировать рекламные кампании."
   ]
  },
  {
   "cell_type": "markdown",
   "metadata": {},
   "source": [
    "## Общая информация"
   ]
  },
  {
   "cell_type": "markdown",
   "metadata": {},
   "source": [
    "### Открыл файл с данными и изучил общую информацию"
   ]
  },
  {
   "cell_type": "code",
   "execution_count": 1,
   "metadata": {},
   "outputs": [],
   "source": [
    "import pandas as pd"
   ]
  },
  {
   "cell_type": "code",
   "execution_count": 2,
   "metadata": {},
   "outputs": [],
   "source": [
    "df = pd.read_csv('/datasets/games.csv')"
   ]
  },
  {
   "cell_type": "code",
   "execution_count": 3,
   "metadata": {
    "scrolled": true
   },
   "outputs": [
    {
     "name": "stdout",
     "output_type": "stream",
     "text": [
      "<class 'pandas.core.frame.DataFrame'>\n",
      "RangeIndex: 16715 entries, 0 to 16714\n",
      "Data columns (total 11 columns):\n",
      " #   Column           Non-Null Count  Dtype  \n",
      "---  ------           --------------  -----  \n",
      " 0   Name             16713 non-null  object \n",
      " 1   Platform         16715 non-null  object \n",
      " 2   Year_of_Release  16446 non-null  float64\n",
      " 3   Genre            16713 non-null  object \n",
      " 4   NA_sales         16715 non-null  float64\n",
      " 5   EU_sales         16715 non-null  float64\n",
      " 6   JP_sales         16715 non-null  float64\n",
      " 7   Other_sales      16715 non-null  float64\n",
      " 8   Critic_Score     8137 non-null   float64\n",
      " 9   User_Score       10014 non-null  object \n",
      " 10  Rating           9949 non-null   object \n",
      "dtypes: float64(6), object(5)\n",
      "memory usage: 1.4+ MB\n"
     ]
    }
   ],
   "source": [
    "df.info()"
   ]
  },
  {
   "cell_type": "code",
   "execution_count": 4,
   "metadata": {},
   "outputs": [
    {
     "name": "stdout",
     "output_type": "stream",
     "text": [
      "<class 'pandas.core.frame.DataFrame'>\n",
      "RangeIndex: 16715 entries, 0 to 16714\n",
      "Data columns (total 11 columns):\n",
      " #   Column           Non-Null Count  Dtype  \n",
      "---  ------           --------------  -----  \n",
      " 0   Name             16713 non-null  object \n",
      " 1   Platform         16715 non-null  object \n",
      " 2   Year_of_Release  16446 non-null  float64\n",
      " 3   Genre            16713 non-null  object \n",
      " 4   NA_sales         16715 non-null  float64\n",
      " 5   EU_sales         16715 non-null  float64\n",
      " 6   JP_sales         16715 non-null  float64\n",
      " 7   Other_sales      16715 non-null  float64\n",
      " 8   Critic_Score     8137 non-null   float64\n",
      " 9   User_Score       10014 non-null  object \n",
      " 10  Rating           9949 non-null   object \n",
      "dtypes: float64(6), object(5)\n",
      "memory usage: 1.4+ MB\n",
      "Количество дубликатов: 0\n",
      "\n"
     ]
    },
    {
     "data": {
      "text/html": [
       "<div>\n",
       "<style scoped>\n",
       "    .dataframe tbody tr th:only-of-type {\n",
       "        vertical-align: middle;\n",
       "    }\n",
       "\n",
       "    .dataframe tbody tr th {\n",
       "        vertical-align: top;\n",
       "    }\n",
       "\n",
       "    .dataframe thead th {\n",
       "        text-align: right;\n",
       "    }\n",
       "</style>\n",
       "<table border=\"1\" class=\"dataframe\">\n",
       "  <thead>\n",
       "    <tr style=\"text-align: right;\">\n",
       "      <th></th>\n",
       "      <th>Year_of_Release</th>\n",
       "      <th>NA_sales</th>\n",
       "      <th>EU_sales</th>\n",
       "      <th>JP_sales</th>\n",
       "      <th>Other_sales</th>\n",
       "      <th>Critic_Score</th>\n",
       "    </tr>\n",
       "  </thead>\n",
       "  <tbody>\n",
       "    <tr>\n",
       "      <th>count</th>\n",
       "      <td>16446.000000</td>\n",
       "      <td>16715.000000</td>\n",
       "      <td>16715.000000</td>\n",
       "      <td>16715.000000</td>\n",
       "      <td>16715.000000</td>\n",
       "      <td>8137.000000</td>\n",
       "    </tr>\n",
       "    <tr>\n",
       "      <th>mean</th>\n",
       "      <td>2006.484616</td>\n",
       "      <td>0.263377</td>\n",
       "      <td>0.145060</td>\n",
       "      <td>0.077617</td>\n",
       "      <td>0.047342</td>\n",
       "      <td>68.967679</td>\n",
       "    </tr>\n",
       "    <tr>\n",
       "      <th>std</th>\n",
       "      <td>5.877050</td>\n",
       "      <td>0.813604</td>\n",
       "      <td>0.503339</td>\n",
       "      <td>0.308853</td>\n",
       "      <td>0.186731</td>\n",
       "      <td>13.938165</td>\n",
       "    </tr>\n",
       "    <tr>\n",
       "      <th>min</th>\n",
       "      <td>1980.000000</td>\n",
       "      <td>0.000000</td>\n",
       "      <td>0.000000</td>\n",
       "      <td>0.000000</td>\n",
       "      <td>0.000000</td>\n",
       "      <td>13.000000</td>\n",
       "    </tr>\n",
       "    <tr>\n",
       "      <th>25%</th>\n",
       "      <td>2003.000000</td>\n",
       "      <td>0.000000</td>\n",
       "      <td>0.000000</td>\n",
       "      <td>0.000000</td>\n",
       "      <td>0.000000</td>\n",
       "      <td>60.000000</td>\n",
       "    </tr>\n",
       "    <tr>\n",
       "      <th>50%</th>\n",
       "      <td>2007.000000</td>\n",
       "      <td>0.080000</td>\n",
       "      <td>0.020000</td>\n",
       "      <td>0.000000</td>\n",
       "      <td>0.010000</td>\n",
       "      <td>71.000000</td>\n",
       "    </tr>\n",
       "    <tr>\n",
       "      <th>75%</th>\n",
       "      <td>2010.000000</td>\n",
       "      <td>0.240000</td>\n",
       "      <td>0.110000</td>\n",
       "      <td>0.040000</td>\n",
       "      <td>0.030000</td>\n",
       "      <td>79.000000</td>\n",
       "    </tr>\n",
       "    <tr>\n",
       "      <th>max</th>\n",
       "      <td>2016.000000</td>\n",
       "      <td>41.360000</td>\n",
       "      <td>28.960000</td>\n",
       "      <td>10.220000</td>\n",
       "      <td>10.570000</td>\n",
       "      <td>98.000000</td>\n",
       "    </tr>\n",
       "  </tbody>\n",
       "</table>\n",
       "</div>"
      ],
      "text/plain": [
       "       Year_of_Release      NA_sales      EU_sales      JP_sales  \\\n",
       "count     16446.000000  16715.000000  16715.000000  16715.000000   \n",
       "mean       2006.484616      0.263377      0.145060      0.077617   \n",
       "std           5.877050      0.813604      0.503339      0.308853   \n",
       "min        1980.000000      0.000000      0.000000      0.000000   \n",
       "25%        2003.000000      0.000000      0.000000      0.000000   \n",
       "50%        2007.000000      0.080000      0.020000      0.000000   \n",
       "75%        2010.000000      0.240000      0.110000      0.040000   \n",
       "max        2016.000000     41.360000     28.960000     10.220000   \n",
       "\n",
       "        Other_sales  Critic_Score  \n",
       "count  16715.000000   8137.000000  \n",
       "mean       0.047342     68.967679  \n",
       "std        0.186731     13.938165  \n",
       "min        0.000000     13.000000  \n",
       "25%        0.000000     60.000000  \n",
       "50%        0.010000     71.000000  \n",
       "75%        0.030000     79.000000  \n",
       "max       10.570000     98.000000  "
      ]
     },
     "metadata": {},
     "output_type": "display_data"
    },
    {
     "data": {
      "image/png": "[encoded data removed]",
      "text/plain": [
       "<Figure size 1044x720 with 6 Axes>"
      ]
     },
     "metadata": {
      "needs_background": "light"
     },
     "output_type": "display_data"
    }
   ],
   "source": [
    "def inform(df):\n",
    "    return df.info(), df.isna().sum(), df.hist(figsize=(14.5, 10)),\\\n",
    "           print('Количество дубликатов:', df.duplicated().sum(), end='\\n\\n'),\\\n",
    "           display(df.describe())\n",
    " \n",
    "inform(df);"
   ]
  },
  {
   "cell_type": "markdown",
   "metadata": {},
   "source": [
    "## Подготовка данных"
   ]
  },
  {
   "cell_type": "markdown",
   "metadata": {},
   "source": [
    "### Заменил названия столбцов (привел к нижнему регистру)"
   ]
  },
  {
   "cell_type": "code",
   "execution_count": 5,
   "metadata": {},
   "outputs": [],
   "source": [
    "df.columns = df.columns.str.lower()"
   ]
  },
  {
   "cell_type": "markdown",
   "metadata": {},
   "source": [
    "### Преобразовал данные в нужные типы, заменил и удалил пропуски проверил на дубликаты"
   ]
  },
  {
   "cell_type": "code",
   "execution_count": 6,
   "metadata": {},
   "outputs": [],
   "source": [
    "df['year_of_release'] = df['year_of_release'].astype('Int64')\n",
    "# Год выпуска изменил на целочисленный, т.к. год это целое число)"
   ]
  },
  {
   "cell_type": "code",
   "execution_count": 7,
   "metadata": {},
   "outputs": [
    {
     "data": {
      "text/plain": [
       "name                  2\n",
       "platform              0\n",
       "year_of_release     269\n",
       "genre                 2\n",
       "na_sales              0\n",
       "eu_sales              0\n",
       "jp_sales              0\n",
       "other_sales           0\n",
       "critic_score       8578\n",
       "user_score         6701\n",
       "rating             6766\n",
       "dtype: int64"
      ]
     },
     "execution_count": 7,
     "metadata": {},
     "output_type": "execute_result"
    }
   ],
   "source": [
    "#Проверил пропуски\n",
    "df.isna().sum()"
   ]
  },
  {
   "cell_type": "code",
   "execution_count": 8,
   "metadata": {},
   "outputs": [],
   "source": [
    "#Удалил пропуски в названии и жанре игры\n",
    "df = df.dropna(subset=['name', 'genre'])"
   ]
  },
  {
   "cell_type": "code",
   "execution_count": 9,
   "metadata": {},
   "outputs": [
    {
     "data": {
      "text/plain": [
       "0.016358550231087326"
      ]
     },
     "execution_count": 9,
     "metadata": {},
     "output_type": "execute_result"
    }
   ],
   "source": [
    "df['year_of_release'].isna().sum() / df['year_of_release'].count()"
   ]
  },
  {
   "cell_type": "code",
   "execution_count": 10,
   "metadata": {},
   "outputs": [],
   "source": [
    "#Удалил пропуски в годе выпуска\n",
    "df = df.dropna(subset=['year_of_release'])"
   ]
  },
  {
   "cell_type": "code",
   "execution_count": 11,
   "metadata": {},
   "outputs": [],
   "source": [
    "#Пропуски в оценке критиков заменил значением -1\n",
    "df['critic_score'] = df['critic_score'].fillna(-1)"
   ]
  },
  {
   "cell_type": "code",
   "execution_count": 12,
   "metadata": {},
   "outputs": [
    {
     "data": {
      "text/plain": [
       "array(['0', '0.2', '0.3', '0.5', '0.6', '0.7', '0.9', '1', '1.1', '1.2',\n",
       "       '1.3', '1.4', '1.5', '1.6', '1.7', '1.8', '1.9', '2', '2.1', '2.2',\n",
       "       '2.3', '2.4', '2.5', '2.6', '2.7', '2.8', '2.9', '3', '3.1', '3.2',\n",
       "       '3.3', '3.4', '3.5', '3.6', '3.7', '3.8', '3.9', '4', '4.1', '4.2',\n",
       "       '4.3', '4.4', '4.5', '4.6', '4.7', '4.8', '4.9', '5', '5.1', '5.2',\n",
       "       '5.3', '5.4', '5.5', '5.6', '5.7', '5.8', '5.9', '6', '6.1', '6.2',\n",
       "       '6.3', '6.4', '6.5', '6.6', '6.7', '6.8', '6.9', '7', '7.1', '7.2',\n",
       "       '7.3', '7.4', '7.5', '7.6', '7.7', '7.8', '7.9', '8', '8.1', '8.2',\n",
       "       '8.3', '8.4', '8.5', '8.6', '8.7', '8.8', '8.9', '9', '9.1', '9.2',\n",
       "       '9.3', '9.4', '9.5', '9.6', '9.7', 'tbd', nan], dtype=object)"
      ]
     },
     "execution_count": 12,
     "metadata": {},
     "output_type": "execute_result"
    }
   ],
   "source": [
    "df['user_score'].sort_values().unique()"
   ]
  },
  {
   "cell_type": "markdown",
   "metadata": {},
   "source": [
    "Обнаружил в оценках критиков 'tbd'. TBD - аббревиатура от английского To Be Determined (будет определено) или To Be Decided (будет решено). Решил заменить эти строки на \"-1\"."
   ]
  },
  {
   "cell_type": "code",
   "execution_count": 13,
   "metadata": {},
   "outputs": [],
   "source": [
    "df.loc[df['user_score'] == 'tbd', 'user_score'] = -1"
   ]
  },
  {
   "cell_type": "code",
   "execution_count": 14,
   "metadata": {},
   "outputs": [],
   "source": [
    "df['user_score'] = df['user_score'].astype('float')\n",
    "# Оценку пользователей изменил на вещественный"
   ]
  },
  {
   "cell_type": "code",
   "execution_count": 15,
   "metadata": {},
   "outputs": [
    {
     "data": {
      "text/plain": [
       "array(['AO', 'E', 'E10+', 'EC', 'K-A', 'M', 'RP', 'T', nan], dtype=object)"
      ]
     },
     "execution_count": 15,
     "metadata": {},
     "output_type": "execute_result"
    }
   ],
   "source": [
    "df['rating'].sort_values().unique()"
   ]
  },
  {
   "cell_type": "code",
   "execution_count": 16,
   "metadata": {},
   "outputs": [],
   "source": [
    "#Пропуски в рейтинге заменил на unknown\n",
    "df['rating'] = df['rating'].fillna('unknown')"
   ]
  },
  {
   "cell_type": "code",
   "execution_count": 17,
   "metadata": {},
   "outputs": [
    {
     "data": {
      "text/plain": [
       "name                  0\n",
       "platform              0\n",
       "year_of_release       0\n",
       "genre                 0\n",
       "na_sales              0\n",
       "eu_sales              0\n",
       "jp_sales              0\n",
       "other_sales           0\n",
       "critic_score          0\n",
       "user_score         6605\n",
       "rating                0\n",
       "dtype: int64"
      ]
     },
     "execution_count": 17,
     "metadata": {},
     "output_type": "execute_result"
    }
   ],
   "source": [
    "#Необоснованных пропусков нет\n",
    "df.isna().sum()"
   ]
  },
  {
   "cell_type": "code",
   "execution_count": 18,
   "metadata": {},
   "outputs": [
    {
     "data": {
      "text/plain": [
       "array(['Action', 'Adventure', 'Fighting', 'Misc', 'Platform', 'Puzzle',\n",
       "       'Racing', 'Role-Playing', 'Shooter', 'Simulation', 'Sports',\n",
       "       'Strategy'], dtype=object)"
      ]
     },
     "execution_count": 18,
     "metadata": {},
     "output_type": "execute_result"
    }
   ],
   "source": [
    "#Проверил неявные дубликаты\n",
    "df['genre'].sort_values().unique()"
   ]
  },
  {
   "cell_type": "markdown",
   "metadata": {},
   "source": [
    "### Посчитал суммарные продажи во всех регионах и записал их в отдельный столбец."
   ]
  },
  {
   "cell_type": "code",
   "execution_count": 19,
   "metadata": {},
   "outputs": [
    {
     "name": "stderr",
     "output_type": "stream",
     "text": [
      "/tmp/ipykernel_79/1846869016.py:2: FutureWarning: Indexing with multiple keys (implicitly converted to a tuple of keys) will be deprecated, use a list instead.\n",
      "  sales = df.groupby('name')['na_sales','eu_sales','jp_sales','other_sales','total_sales'].sum()\n"
     ]
    }
   ],
   "source": [
    "df['total_sales'] = df[['na_sales','eu_sales','jp_sales', 'other_sales']].sum(axis = 1)\n",
    "sales = df.groupby('name')['na_sales','eu_sales','jp_sales','other_sales','total_sales'].sum()"
   ]
  },
  {
   "cell_type": "code",
   "execution_count": 20,
   "metadata": {},
   "outputs": [
    {
     "data": {
      "text/html": [
       "<div>\n",
       "<style scoped>\n",
       "    .dataframe tbody tr th:only-of-type {\n",
       "        vertical-align: middle;\n",
       "    }\n",
       "\n",
       "    .dataframe tbody tr th {\n",
       "        vertical-align: top;\n",
       "    }\n",
       "\n",
       "    .dataframe thead th {\n",
       "        text-align: right;\n",
       "    }\n",
       "</style>\n",
       "<table border=\"1\" class=\"dataframe\">\n",
       "  <thead>\n",
       "    <tr style=\"text-align: right;\">\n",
       "      <th></th>\n",
       "      <th>na_sales</th>\n",
       "      <th>eu_sales</th>\n",
       "      <th>jp_sales</th>\n",
       "      <th>other_sales</th>\n",
       "      <th>total_sales</th>\n",
       "    </tr>\n",
       "    <tr>\n",
       "      <th>name</th>\n",
       "      <th></th>\n",
       "      <th></th>\n",
       "      <th></th>\n",
       "      <th></th>\n",
       "      <th></th>\n",
       "    </tr>\n",
       "  </thead>\n",
       "  <tbody>\n",
       "    <tr>\n",
       "      <th>Beyblade Burst</th>\n",
       "      <td>0.00</td>\n",
       "      <td>0.00</td>\n",
       "      <td>0.03</td>\n",
       "      <td>0.00</td>\n",
       "      <td>0.03</td>\n",
       "    </tr>\n",
       "    <tr>\n",
       "      <th>Fire Emblem Fates</th>\n",
       "      <td>0.81</td>\n",
       "      <td>0.23</td>\n",
       "      <td>0.52</td>\n",
       "      <td>0.11</td>\n",
       "      <td>1.67</td>\n",
       "    </tr>\n",
       "    <tr>\n",
       "      <th>Frozen: Olaf's Quest</th>\n",
       "      <td>0.48</td>\n",
       "      <td>0.53</td>\n",
       "      <td>0.00</td>\n",
       "      <td>0.09</td>\n",
       "      <td>1.10</td>\n",
       "    </tr>\n",
       "    <tr>\n",
       "      <th>Haikyu!! Cross Team Match!</th>\n",
       "      <td>0.00</td>\n",
       "      <td>0.00</td>\n",
       "      <td>0.04</td>\n",
       "      <td>0.00</td>\n",
       "      <td>0.04</td>\n",
       "    </tr>\n",
       "    <tr>\n",
       "      <th>Tales of Xillia 2</th>\n",
       "      <td>0.20</td>\n",
       "      <td>0.12</td>\n",
       "      <td>0.45</td>\n",
       "      <td>0.07</td>\n",
       "      <td>0.84</td>\n",
       "    </tr>\n",
       "    <tr>\n",
       "      <th>'98 Koshien</th>\n",
       "      <td>0.15</td>\n",
       "      <td>0.10</td>\n",
       "      <td>0.12</td>\n",
       "      <td>0.03</td>\n",
       "      <td>0.40</td>\n",
       "    </tr>\n",
       "    <tr>\n",
       "      <th>.hack//G.U. Vol.1//Rebirth</th>\n",
       "      <td>0.00</td>\n",
       "      <td>0.00</td>\n",
       "      <td>0.17</td>\n",
       "      <td>0.00</td>\n",
       "      <td>0.17</td>\n",
       "    </tr>\n",
       "    <tr>\n",
       "      <th>.hack//G.U. Vol.2//Reminisce</th>\n",
       "      <td>0.11</td>\n",
       "      <td>0.09</td>\n",
       "      <td>0.00</td>\n",
       "      <td>0.03</td>\n",
       "      <td>0.23</td>\n",
       "    </tr>\n",
       "    <tr>\n",
       "      <th>.hack//G.U. Vol.2//Reminisce (jp sales)</th>\n",
       "      <td>0.00</td>\n",
       "      <td>0.00</td>\n",
       "      <td>0.16</td>\n",
       "      <td>0.00</td>\n",
       "      <td>0.16</td>\n",
       "    </tr>\n",
       "    <tr>\n",
       "      <th>.hack//G.U. Vol.3//Redemption</th>\n",
       "      <td>0.00</td>\n",
       "      <td>0.00</td>\n",
       "      <td>0.17</td>\n",
       "      <td>0.00</td>\n",
       "      <td>0.17</td>\n",
       "    </tr>\n",
       "  </tbody>\n",
       "</table>\n",
       "</div>"
      ],
      "text/plain": [
       "                                         na_sales  eu_sales  jp_sales  \\\n",
       "name                                                                    \n",
       " Beyblade Burst                              0.00      0.00      0.03   \n",
       " Fire Emblem Fates                           0.81      0.23      0.52   \n",
       " Frozen: Olaf's Quest                        0.48      0.53      0.00   \n",
       " Haikyu!! Cross Team Match!                  0.00      0.00      0.04   \n",
       " Tales of Xillia 2                           0.20      0.12      0.45   \n",
       "'98 Koshien                                  0.15      0.10      0.12   \n",
       ".hack//G.U. Vol.1//Rebirth                   0.00      0.00      0.17   \n",
       ".hack//G.U. Vol.2//Reminisce                 0.11      0.09      0.00   \n",
       ".hack//G.U. Vol.2//Reminisce (jp sales)      0.00      0.00      0.16   \n",
       ".hack//G.U. Vol.3//Redemption                0.00      0.00      0.17   \n",
       "\n",
       "                                         other_sales  total_sales  \n",
       "name                                                               \n",
       " Beyblade Burst                                 0.00         0.03  \n",
       " Fire Emblem Fates                              0.11         1.67  \n",
       " Frozen: Olaf's Quest                           0.09         1.10  \n",
       " Haikyu!! Cross Team Match!                     0.00         0.04  \n",
       " Tales of Xillia 2                              0.07         0.84  \n",
       "'98 Koshien                                     0.03         0.40  \n",
       ".hack//G.U. Vol.1//Rebirth                      0.00         0.17  \n",
       ".hack//G.U. Vol.2//Reminisce                    0.03         0.23  \n",
       ".hack//G.U. Vol.2//Reminisce (jp sales)         0.00         0.16  \n",
       ".hack//G.U. Vol.3//Redemption                   0.00         0.17  "
      ]
     },
     "execution_count": 20,
     "metadata": {},
     "output_type": "execute_result"
    }
   ],
   "source": [
    "sales.head(10)"
   ]
  },
  {
   "cell_type": "markdown",
   "metadata": {},
   "source": [
    "## Исследовательский анализ данных"
   ]
  },
  {
   "cell_type": "markdown",
   "metadata": {},
   "source": [
    "### Следующим этапом, я проверил, сколько игр выпускалось в разные годы."
   ]
  },
  {
   "cell_type": "code",
   "execution_count": 21,
   "metadata": {},
   "outputs": [
    {
     "data": {
      "image/png": "[encoded data removed]",
      "text/plain": [
       "<Figure size 1080x432 with 1 Axes>"
      ]
     },
     "metadata": {
      "needs_background": "light"
     },
     "output_type": "display_data"
    }
   ],
   "source": [
    "import matplotlib.pyplot as plt\n",
    "df.groupby('year_of_release')['name'].count().sort_values(ascending=True).plot(x = 'year_of_release', y = 'name', kind = 'bar', figsize=(15,6), grid=True, title = 'Выход игр по годам')\n",
    "plt.xlabel('год')\n",
    "plt.ylabel('Выпуск игр')\n",
    "plt.show()"
   ]
  },
  {
   "cell_type": "code",
   "execution_count": 22,
   "metadata": {},
   "outputs": [
    {
     "data": {
      "text/plain": [
       "year_of_release\n",
       "1980       9\n",
       "1981      46\n",
       "1982      36\n",
       "1983      17\n",
       "1984      14\n",
       "1985      14\n",
       "1986      21\n",
       "1987      16\n",
       "1988      15\n",
       "1989      17\n",
       "1990      16\n",
       "1991      41\n",
       "1992      43\n",
       "1993      60\n",
       "1994     121\n",
       "1995     219\n",
       "1996     263\n",
       "1997     289\n",
       "1998     379\n",
       "1999     338\n",
       "2000     350\n",
       "2001     482\n",
       "2002     829\n",
       "2003     775\n",
       "2004     762\n",
       "2005     939\n",
       "2006    1006\n",
       "2007    1197\n",
       "2008    1427\n",
       "2009    1426\n",
       "2010    1255\n",
       "2011    1136\n",
       "2012     653\n",
       "2013     544\n",
       "2014     581\n",
       "2015     606\n",
       "2016     502\n",
       "Name: name, dtype: int64"
      ]
     },
     "execution_count": 22,
     "metadata": {},
     "output_type": "execute_result"
    }
   ],
   "source": [
    "df.groupby('year_of_release')['name'].count()"
   ]
  },
  {
   "cell_type": "code",
   "execution_count": 23,
   "metadata": {},
   "outputs": [
    {
     "data": {
      "text/plain": [
       "<AxesSubplot:xlabel='year_of_release', ylabel='total_sales'>"
      ]
     },
     "execution_count": 23,
     "metadata": {},
     "output_type": "execute_result"
    },
    {
     "data": {
      "image/png": "[encoded data removed]",
      "text/plain": [
       "<Figure size 432x288 with 1 Axes>"
      ]
     },
     "metadata": {
      "needs_background": "light"
     },
     "output_type": "display_data"
    }
   ],
   "source": [
    "import seaborn as sns\n",
    "years_total_sales = df.groupby(['platform','year_of_release'], as_index=False)['total_sales'].sum()\n",
    "years_total_sales = years_total_sales.sort_values(by = 'total_sales', ascending=False).head(10)\n",
    "\n",
    "sns.barplot(data=years_total_sales, x='year_of_release', y='total_sales', hue='platform')"
   ]
  },
  {
   "cell_type": "markdown",
   "metadata": {},
   "source": [
    "На графике видно, как менялись продажи по платформам и платформы с наибольшими суммарными продажами. Построил распределение по годам. Если в начале периода, лидером была PS, затем рынок почти на 5 лет захватила PS2, пару лет лидировала новинка Wii, год на X360, и вновь в лидерах PS3."
   ]
  },
  {
   "cell_type": "markdown",
   "metadata": {},
   "source": [
    "### В целях прогнозирования на 2017 год, я выбрал актуальный период 2014-2016 года."
   ]
  },
  {
   "cell_type": "markdown",
   "metadata": {},
   "source": [
    "Для прогноза на 2017 год, достаточно данных за 2014-2016 гг., т.к. это период макисмально приближен к периоду прогноза, та же экономическая и политическая ситуация в мире, актуальный уровень развития технологий."
   ]
  },
  {
   "cell_type": "code",
   "execution_count": 24,
   "metadata": {},
   "outputs": [],
   "source": [
    "df_2014_2016 = df.query('2014 <= year_of_release <= 2016')"
   ]
  },
  {
   "cell_type": "code",
   "execution_count": 25,
   "metadata": {},
   "outputs": [
    {
     "data": {
      "text/plain": [
       "<AxesSubplot:xlabel='year_of_release', ylabel='total_sales'>"
      ]
     },
     "execution_count": 25,
     "metadata": {},
     "output_type": "execute_result"
    },
    {
     "data": {
      "image/png": "[encoded data removed]",
      "text/plain": [
       "<Figure size 432x288 with 1 Axes>"
      ]
     },
     "metadata": {
      "needs_background": "light"
     },
     "output_type": "display_data"
    }
   ],
   "source": [
    "#Составил график за актуальный период\n",
    "years_total_sales_14_16 = df_2014_2016.groupby(['platform','year_of_release'], as_index=False)['total_sales'].sum()\n",
    "years_total_sales_14_16 = years_total_sales_14_16.sort_values(by = 'total_sales', ascending=False).head(10)\n",
    "\n",
    "sns.barplot(data=years_total_sales_14_16, x='year_of_release', y='total_sales', hue='platform')"
   ]
  },
  {
   "cell_type": "code",
   "execution_count": 26,
   "metadata": {},
   "outputs": [
    {
     "data": {
      "text/html": [
       "<div>\n",
       "<style scoped>\n",
       "    .dataframe tbody tr th:only-of-type {\n",
       "        vertical-align: middle;\n",
       "    }\n",
       "\n",
       "    .dataframe tbody tr th {\n",
       "        vertical-align: top;\n",
       "    }\n",
       "\n",
       "    .dataframe thead th {\n",
       "        text-align: right;\n",
       "    }\n",
       "</style>\n",
       "<table border=\"1\" class=\"dataframe\">\n",
       "  <thead>\n",
       "    <tr style=\"text-align: right;\">\n",
       "      <th>platform</th>\n",
       "      <th>3DS</th>\n",
       "      <th>PC</th>\n",
       "      <th>PS3</th>\n",
       "      <th>PS4</th>\n",
       "      <th>PSP</th>\n",
       "      <th>PSV</th>\n",
       "      <th>Wii</th>\n",
       "      <th>WiiU</th>\n",
       "      <th>X360</th>\n",
       "      <th>XOne</th>\n",
       "    </tr>\n",
       "    <tr>\n",
       "      <th>year_of_release</th>\n",
       "      <th></th>\n",
       "      <th></th>\n",
       "      <th></th>\n",
       "      <th></th>\n",
       "      <th></th>\n",
       "      <th></th>\n",
       "      <th></th>\n",
       "      <th></th>\n",
       "      <th></th>\n",
       "      <th></th>\n",
       "    </tr>\n",
       "  </thead>\n",
       "  <tbody>\n",
       "    <tr>\n",
       "      <th>2014</th>\n",
       "      <td>43.76</td>\n",
       "      <td>13.28</td>\n",
       "      <td>47.76</td>\n",
       "      <td>100.00</td>\n",
       "      <td>0.24</td>\n",
       "      <td>11.90</td>\n",
       "      <td>3.75</td>\n",
       "      <td>22.03</td>\n",
       "      <td>34.74</td>\n",
       "      <td>54.07</td>\n",
       "    </tr>\n",
       "    <tr>\n",
       "      <th>2015</th>\n",
       "      <td>27.78</td>\n",
       "      <td>8.52</td>\n",
       "      <td>16.82</td>\n",
       "      <td>118.90</td>\n",
       "      <td>0.12</td>\n",
       "      <td>6.25</td>\n",
       "      <td>1.14</td>\n",
       "      <td>16.35</td>\n",
       "      <td>11.96</td>\n",
       "      <td>60.14</td>\n",
       "    </tr>\n",
       "    <tr>\n",
       "      <th>2016</th>\n",
       "      <td>15.14</td>\n",
       "      <td>5.25</td>\n",
       "      <td>3.60</td>\n",
       "      <td>69.25</td>\n",
       "      <td>NaN</td>\n",
       "      <td>4.25</td>\n",
       "      <td>0.18</td>\n",
       "      <td>4.60</td>\n",
       "      <td>1.52</td>\n",
       "      <td>26.15</td>\n",
       "    </tr>\n",
       "  </tbody>\n",
       "</table>\n",
       "</div>"
      ],
      "text/plain": [
       "platform           3DS     PC    PS3     PS4   PSP    PSV   Wii   WiiU   X360  \\\n",
       "year_of_release                                                                 \n",
       "2014             43.76  13.28  47.76  100.00  0.24  11.90  3.75  22.03  34.74   \n",
       "2015             27.78   8.52  16.82  118.90  0.12   6.25  1.14  16.35  11.96   \n",
       "2016             15.14   5.25   3.60   69.25   NaN   4.25  0.18   4.60   1.52   \n",
       "\n",
       "platform          XOne  \n",
       "year_of_release         \n",
       "2014             54.07  \n",
       "2015             60.14  \n",
       "2016             26.15  "
      ]
     },
     "execution_count": 26,
     "metadata": {},
     "output_type": "execute_result"
    }
   ],
   "source": [
    "df_2014_2016.pivot_table(\n",
    "        index='year_of_release',\n",
    "        columns='platform',\n",
    "        values='total_sales',\n",
    "        aggfunc='sum')"
   ]
  },
  {
   "cell_type": "markdown",
   "metadata": {},
   "source": [
    "### Построил график \"ящик с усами\""
   ]
  },
  {
   "cell_type": "code",
   "execution_count": 27,
   "metadata": {},
   "outputs": [
    {
     "data": {
      "image/png": "[encoded data removed]",
      "text/plain": [
       "<Figure size 936x576 with 1 Axes>"
      ]
     },
     "metadata": {
      "needs_background": "light"
     },
     "output_type": "display_data"
    },
    {
     "data": {
      "image/png": "[encoded data removed]",
      "text/plain": [
       "<Figure size 936x576 with 1 Axes>"
      ]
     },
     "metadata": {
      "needs_background": "light"
     },
     "output_type": "display_data"
    }
   ],
   "source": [
    "import seaborn as sns\n",
    "data_temp, y = df_2014_2016, 'total_sales'\n",
    "plt.figure(figsize=(13, 8))\n",
    "(sns.boxplot(data = data_temp, y = y, x='platform')\n",
    "    .set(title = 'Продажи по перспективным платформам', xlabel = 'Платформы', ylabel = 'Общие продажи'))\n",
    "plt.show()\n",
    "\n",
    "plt.figure(figsize=(13, 8))\n",
    "(sns.boxplot(data = data_temp, y = y, x='platform')\n",
    "    .set(title = 'Продажи по перспективным платформам', xlabel = 'Платформы', ylabel = 'Общие продажи', ylim=(0, 2)))\n",
    "plt.show()"
   ]
  },
  {
   "cell_type": "markdown",
   "metadata": {},
   "source": [
    "### Построил диаграмму рассеяния и посчитал корреляцию между отзывами и продажами"
   ]
  },
  {
   "cell_type": "code",
   "execution_count": 28,
   "metadata": {},
   "outputs": [
    {
     "data": {
      "image/png": "[encoded data removed]",
      "text/plain": [
       "<Figure size 432x288 with 1 Axes>"
      ]
     },
     "metadata": {
      "needs_background": "light"
     },
     "output_type": "display_data"
    },
    {
     "data": {
      "image/png": "[encoded data removed]",
      "text/plain": [
       "<Figure size 432x288 with 1 Axes>"
      ]
     },
     "metadata": {
      "needs_background": "light"
     },
     "output_type": "display_data"
    }
   ],
   "source": [
    "#Диаграмма рассеивания, показывающая отзывы пользователей и продажи по PS4 и XOne\n",
    "df_2014_2016_us = df_2014_2016[df_2014_2016['user_score'] >= 0]\n",
    "df_2014_2016_us[df_2014_2016_us['platform'] =='PS4'].plot(x='user_score', y='total_sales', kind='scatter', title='PS4')\n",
    "df_2014_2016_us[df_2014_2016_us['platform'] =='XOne'].plot(x='user_score', y='total_sales', kind='scatter', title='XOne')\n",
    "plt.show()"
   ]
  },
  {
   "cell_type": "code",
   "execution_count": 29,
   "metadata": {},
   "outputs": [
    {
     "data": {
      "image/png": "[encoded data removed]",
      "text/plain": [
       "<Figure size 432x288 with 1 Axes>"
      ]
     },
     "metadata": {
      "needs_background": "light"
     },
     "output_type": "display_data"
    },
    {
     "data": {
      "image/png": "[encoded data removed]",
      "text/plain": [
       "<Figure size 432x288 with 1 Axes>"
      ]
     },
     "metadata": {
      "needs_background": "light"
     },
     "output_type": "display_data"
    }
   ],
   "source": [
    "#Диаграмма рассеивания, показывающая отзывы критиков и продажи по PS4 и XOne\n",
    "df_2014_2016_cs = df_2014_2016[df_2014_2016['critic_score'] >= 0]\n",
    "df_2014_2016_cs[df_2014_2016_cs['platform'] =='PS4'].plot(x='critic_score', y='total_sales', kind='scatter', title='PS4')\n",
    "df_2014_2016_cs[df_2014_2016_cs['platform'] =='XOne'].plot(x='critic_score', y='total_sales', kind='scatter', title='XOne')\n",
    "plt.show()"
   ]
  },
  {
   "cell_type": "code",
   "execution_count": 30,
   "metadata": {},
   "outputs": [
    {
     "data": {
      "text/html": [
       "<div>\n",
       "<style scoped>\n",
       "    .dataframe tbody tr th:only-of-type {\n",
       "        vertical-align: middle;\n",
       "    }\n",
       "\n",
       "    .dataframe tbody tr th {\n",
       "        vertical-align: top;\n",
       "    }\n",
       "\n",
       "    .dataframe thead th {\n",
       "        text-align: right;\n",
       "    }\n",
       "</style>\n",
       "<table border=\"1\" class=\"dataframe\">\n",
       "  <thead>\n",
       "    <tr style=\"text-align: right;\">\n",
       "      <th></th>\n",
       "      <th>user_score</th>\n",
       "      <th>total_sales</th>\n",
       "    </tr>\n",
       "  </thead>\n",
       "  <tbody>\n",
       "    <tr>\n",
       "      <th>user_score</th>\n",
       "      <td>1.000000</td>\n",
       "      <td>-0.040132</td>\n",
       "    </tr>\n",
       "    <tr>\n",
       "      <th>total_sales</th>\n",
       "      <td>-0.040132</td>\n",
       "      <td>1.000000</td>\n",
       "    </tr>\n",
       "  </tbody>\n",
       "</table>\n",
       "</div>"
      ],
      "text/plain": [
       "             user_score  total_sales\n",
       "user_score     1.000000    -0.040132\n",
       "total_sales   -0.040132     1.000000"
      ]
     },
     "execution_count": 30,
     "metadata": {},
     "output_type": "execute_result"
    }
   ],
   "source": [
    "df_2014_2016_us[df_2014_2016_us['platform'] =='PS4'][['user_score', 'total_sales']].corr()"
   ]
  },
  {
   "cell_type": "code",
   "execution_count": 31,
   "metadata": {},
   "outputs": [
    {
     "data": {
      "text/html": [
       "<div>\n",
       "<style scoped>\n",
       "    .dataframe tbody tr th:only-of-type {\n",
       "        vertical-align: middle;\n",
       "    }\n",
       "\n",
       "    .dataframe tbody tr th {\n",
       "        vertical-align: top;\n",
       "    }\n",
       "\n",
       "    .dataframe thead th {\n",
       "        text-align: right;\n",
       "    }\n",
       "</style>\n",
       "<table border=\"1\" class=\"dataframe\">\n",
       "  <thead>\n",
       "    <tr style=\"text-align: right;\">\n",
       "      <th></th>\n",
       "      <th>user_score</th>\n",
       "      <th>total_sales</th>\n",
       "    </tr>\n",
       "  </thead>\n",
       "  <tbody>\n",
       "    <tr>\n",
       "      <th>user_score</th>\n",
       "      <td>1.000000</td>\n",
       "      <td>-0.070384</td>\n",
       "    </tr>\n",
       "    <tr>\n",
       "      <th>total_sales</th>\n",
       "      <td>-0.070384</td>\n",
       "      <td>1.000000</td>\n",
       "    </tr>\n",
       "  </tbody>\n",
       "</table>\n",
       "</div>"
      ],
      "text/plain": [
       "             user_score  total_sales\n",
       "user_score     1.000000    -0.070384\n",
       "total_sales   -0.070384     1.000000"
      ]
     },
     "execution_count": 31,
     "metadata": {},
     "output_type": "execute_result"
    }
   ],
   "source": [
    "df_2014_2016_us[df_2014_2016_us['platform'] =='XOne'][['user_score', 'total_sales']].corr()"
   ]
  },
  {
   "cell_type": "code",
   "execution_count": 32,
   "metadata": {},
   "outputs": [
    {
     "data": {
      "text/html": [
       "<div>\n",
       "<style scoped>\n",
       "    .dataframe tbody tr th:only-of-type {\n",
       "        vertical-align: middle;\n",
       "    }\n",
       "\n",
       "    .dataframe tbody tr th {\n",
       "        vertical-align: top;\n",
       "    }\n",
       "\n",
       "    .dataframe thead th {\n",
       "        text-align: right;\n",
       "    }\n",
       "</style>\n",
       "<table border=\"1\" class=\"dataframe\">\n",
       "  <thead>\n",
       "    <tr style=\"text-align: right;\">\n",
       "      <th></th>\n",
       "      <th>critic_score</th>\n",
       "      <th>total_sales</th>\n",
       "    </tr>\n",
       "  </thead>\n",
       "  <tbody>\n",
       "    <tr>\n",
       "      <th>critic_score</th>\n",
       "      <td>1.000000</td>\n",
       "      <td>0.402661</td>\n",
       "    </tr>\n",
       "    <tr>\n",
       "      <th>total_sales</th>\n",
       "      <td>0.402661</td>\n",
       "      <td>1.000000</td>\n",
       "    </tr>\n",
       "  </tbody>\n",
       "</table>\n",
       "</div>"
      ],
      "text/plain": [
       "              critic_score  total_sales\n",
       "critic_score      1.000000     0.402661\n",
       "total_sales       0.402661     1.000000"
      ]
     },
     "execution_count": 32,
     "metadata": {},
     "output_type": "execute_result"
    }
   ],
   "source": [
    "df_2014_2016_cs[df_2014_2016_cs['platform'] =='PS4'][['critic_score', 'total_sales']].corr()"
   ]
  },
  {
   "cell_type": "code",
   "execution_count": 33,
   "metadata": {},
   "outputs": [
    {
     "data": {
      "text/html": [
       "<div>\n",
       "<style scoped>\n",
       "    .dataframe tbody tr th:only-of-type {\n",
       "        vertical-align: middle;\n",
       "    }\n",
       "\n",
       "    .dataframe tbody tr th {\n",
       "        vertical-align: top;\n",
       "    }\n",
       "\n",
       "    .dataframe thead th {\n",
       "        text-align: right;\n",
       "    }\n",
       "</style>\n",
       "<table border=\"1\" class=\"dataframe\">\n",
       "  <thead>\n",
       "    <tr style=\"text-align: right;\">\n",
       "      <th></th>\n",
       "      <th>critic_score</th>\n",
       "      <th>total_sales</th>\n",
       "    </tr>\n",
       "  </thead>\n",
       "  <tbody>\n",
       "    <tr>\n",
       "      <th>critic_score</th>\n",
       "      <td>1.000000</td>\n",
       "      <td>0.428677</td>\n",
       "    </tr>\n",
       "    <tr>\n",
       "      <th>total_sales</th>\n",
       "      <td>0.428677</td>\n",
       "      <td>1.000000</td>\n",
       "    </tr>\n",
       "  </tbody>\n",
       "</table>\n",
       "</div>"
      ],
      "text/plain": [
       "              critic_score  total_sales\n",
       "critic_score      1.000000     0.428677\n",
       "total_sales       0.428677     1.000000"
      ]
     },
     "execution_count": 33,
     "metadata": {},
     "output_type": "execute_result"
    }
   ],
   "source": [
    "df_2014_2016_cs[df_2014_2016_cs['platform'] =='XOne'][['critic_score', 'total_sales']].corr()"
   ]
  },
  {
   "cell_type": "markdown",
   "metadata": {},
   "source": [
    "Связь между отзывами пользователей и продажами слабо отрицательная -0,04 по играм на PS4 и - 0,07 по играм на XOne, связь между отзывами критиков и продажами средняя положительная (0,4 PS4 и 0,42 XOne). Принимая во внимание приведенные диаграммы и уровни корреляции, можно сказать, что отзывы пользовтелей очень слабо и обратно влияют на продажи, т.е. игры, которые ругают пользователи неплохо продаются. Отзывы же критиков прямо влияют на продажи."
   ]
  },
  {
   "cell_type": "markdown",
   "metadata": {},
   "source": [
    "Далее исследуем успешность игры в зависимоти от жанра. Рейтинг медианных продаж:"
   ]
  },
  {
   "cell_type": "code",
   "execution_count": 34,
   "metadata": {},
   "outputs": [
    {
     "data": {
      "text/plain": [
       "genre\n",
       "Shooter         0.515\n",
       "Sports          0.180\n",
       "Platform        0.140\n",
       "Fighting        0.125\n",
       "Role-Playing    0.110\n",
       "Simulation      0.100\n",
       "Action          0.090\n",
       "Misc            0.090\n",
       "Racing          0.090\n",
       "Strategy        0.060\n",
       "Puzzle          0.045\n",
       "Adventure       0.030\n",
       "Name: total_sales, dtype: float64"
      ]
     },
     "execution_count": 34,
     "metadata": {},
     "output_type": "execute_result"
    }
   ],
   "source": [
    "df_2014_2016.groupby('genre')['total_sales'].median().sort_values(ascending=False)"
   ]
  },
  {
   "cell_type": "code",
   "execution_count": 35,
   "metadata": {},
   "outputs": [
    {
     "data": {
      "image/png": "[encoded data removed]",
      "text/plain": [
       "<Figure size 864x432 with 1 Axes>"
      ]
     },
     "metadata": {
      "needs_background": "light"
     },
     "output_type": "display_data"
    },
    {
     "data": {
      "text/plain": [
       "count    1689.000000\n",
       "mean        0.431883\n",
       "std         1.056109\n",
       "min         0.010000\n",
       "25%         0.030000\n",
       "50%         0.100000\n",
       "75%         0.350000\n",
       "max        14.630000\n",
       "Name: total_sales, dtype: float64"
      ]
     },
     "execution_count": 35,
     "metadata": {},
     "output_type": "execute_result"
    }
   ],
   "source": [
    "df_2014_2016.boxplot(column=['total_sales'], by=['genre'], figsize=(12, 6))\n",
    "plt.xlim(0, 10)\n",
    "plt.ylim(0, 10)\n",
    "plt.show()\n",
    "df_2014_2016['total_sales'].describe()"
   ]
  },
  {
   "cell_type": "markdown",
   "metadata": {},
   "source": [
    "Самый прибыльный жанр в мире - шутер, далее спортивные симуляторы, смешанный жанр и РПГ."
   ]
  },
  {
   "cell_type": "markdown",
   "metadata": {},
   "source": [
    "## Портрет пользователя каждого региона"
   ]
  },
  {
   "cell_type": "code",
   "execution_count": 36,
   "metadata": {},
   "outputs": [
    {
     "name": "stdout",
     "output_type": "stream",
     "text": [
      "platform\n",
      "PS4     98.61\n",
      "XOne    81.27\n",
      "X360    28.30\n",
      "3DS     22.64\n",
      "PS3     22.05\n",
      "Name: na_sales, dtype: float64\n"
     ]
    },
    {
     "data": {
      "image/png": "[encoded data removed]",
      "text/plain": [
       "<Figure size 720x504 with 1 Axes>"
      ]
     },
     "metadata": {},
     "output_type": "display_data"
    },
    {
     "name": "stdout",
     "output_type": "stream",
     "text": [
      "genre\n",
      "Shooter         79.02\n",
      "Action          72.53\n",
      "Sports          46.13\n",
      "Role-Playing    33.47\n",
      "Misc            15.05\n",
      "Name: na_sales, dtype: float64\n"
     ]
    }
   ],
   "source": [
    "top5_na = df_2014_2016.groupby('platform')['na_sales'].sum().sort_values(ascending=False).head(5)\n",
    "print(top5_na)\n",
    "\n",
    "genre_na = df_2014_2016.groupby('genre')['na_sales'].sum().sort_values(ascending=False).head(5)\n",
    "fig = plt.figure(figsize =(10, 7))\n",
    "plt.pie(genre_na, autopct='%1.2f%%')\n",
    "plt.show()\n",
    "print(genre_na)"
   ]
  },
  {
   "cell_type": "markdown",
   "metadata": {},
   "source": [
    "Самая популярная платформа в Северной Америке, в исследуемом периоде - PS4, далее XOne и X360, замыкает пятерку 3DS и PS3. Самый популярный жанр в Северной Америке, в периоде - шутер, экшн, спортивные игры и симуляторы."
   ]
  },
  {
   "cell_type": "code",
   "execution_count": 37,
   "metadata": {},
   "outputs": [
    {
     "name": "stdout",
     "output_type": "stream",
     "text": [
      "platform\n",
      "PS4     130.04\n",
      "XOne     46.25\n",
      "PS3      25.54\n",
      "PC       17.97\n",
      "3DS      16.12\n",
      "Name: eu_sales, dtype: float64\n"
     ]
    },
    {
     "data": {
      "image/png": "[encoded data removed]",
      "text/plain": [
       "<Figure size 720x504 with 1 Axes>"
      ]
     },
     "metadata": {},
     "output_type": "display_data"
    },
    {
     "name": "stdout",
     "output_type": "stream",
     "text": [
      "genre\n",
      "Action          74.68\n",
      "Shooter         65.52\n",
      "Sports          45.73\n",
      "Role-Playing    28.17\n",
      "Racing          14.13\n",
      "Name: eu_sales, dtype: float64\n"
     ]
    }
   ],
   "source": [
    "top5_eu = df_2014_2016.groupby('platform')['eu_sales'].sum().sort_values(ascending=False).head(5)\n",
    "print(top5_eu)\n",
    "\n",
    "genre_eu = df_2014_2016.groupby('genre')['eu_sales'].sum().sort_values(ascending=False).head(5)\n",
    "fig = plt.figure(figsize =(10, 7))\n",
    "plt.pie(genre_eu, autopct='%1.2f%%')\n",
    "plt.show()\n",
    "print(genre_eu)"
   ]
  },
  {
   "cell_type": "markdown",
   "metadata": {},
   "source": [
    "Самая популярная платформа в Европе, в исследуемом периоде - PS4 и XOne, далее PS3, замыкает пятерку PC и X360.  Самый популярный жанр в Европе, в исследуемом периоде - экшн, шутер, спортивные игры, РПГ и гонки."
   ]
  },
  {
   "cell_type": "code",
   "execution_count": 38,
   "metadata": {},
   "outputs": [
    {
     "name": "stdout",
     "output_type": "stream",
     "text": [
      "platform\n",
      "3DS     44.24\n",
      "PS4     15.02\n",
      "PSV     14.54\n",
      "PS3     11.22\n",
      "WiiU     7.31\n",
      "Name: jp_sales, dtype: float64\n"
     ]
    },
    {
     "data": {
      "image/png": "[encoded data removed]",
      "text/plain": [
       "<Figure size 720x504 with 1 Axes>"
      ]
     },
     "metadata": {},
     "output_type": "display_data"
    },
    {
     "name": "stdout",
     "output_type": "stream",
     "text": [
      "genre\n",
      "Role-Playing    31.16\n",
      "Action          29.58\n",
      "Fighting         6.37\n",
      "Misc             5.61\n",
      "Shooter          4.87\n",
      "Name: jp_sales, dtype: float64\n"
     ]
    }
   ],
   "source": [
    "top5_jp = df_2014_2016.groupby('platform')['jp_sales'].sum().sort_values(ascending=False).head(5)\n",
    "print(top5_jp)\n",
    "\n",
    "genre_jp = df_2014_2016.groupby('genre')['jp_sales'].sum().sort_values(ascending=False).head(5)\n",
    "fig = plt.figure(figsize =(10, 7))\n",
    "plt.pie(genre_jp, autopct='%1.2f%%')\n",
    "plt.show()\n",
    "print(genre_jp)"
   ]
  },
  {
   "cell_type": "markdown",
   "metadata": {},
   "source": [
    "Самая популярная платформа в Японии, в исследуемом периоде - 3DS и PS4, далее WiiU, замыкает пятерку PS3 и PSV. Популярность игровых жанров подчеркивает культурные различия Востока и Запада: в лидерах RPG, затем экшн, шутер, платформеры и файтинг."
   ]
  },
  {
   "cell_type": "markdown",
   "metadata": {},
   "source": [
    "Проанализируем как влияет рейтинг от ESRB на продажи в каждом регионе"
   ]
  },
  {
   "cell_type": "code",
   "execution_count": 39,
   "metadata": {},
   "outputs": [
    {
     "data": {
      "image/png": "[encoded data removed]",
      "text/plain": [
       "<Figure size 720x288 with 1 Axes>"
      ]
     },
     "metadata": {
      "needs_background": "light"
     },
     "output_type": "display_data"
    }
   ],
   "source": [
    "rating_na = df_2014_2016.groupby('rating')['na_sales'].sum().sort_values(ascending=False)\n",
    "rating_na.plot(x = 'rating', y = 'na_sales', kind = 'bar', figsize=(10,4), grid=True, title = 'Северная Америка')\n",
    "plt.xlabel('Рейтинг')\n",
    "plt.ylabel('Продажи')\n",
    "plt.show()"
   ]
  },
  {
   "cell_type": "code",
   "execution_count": 40,
   "metadata": {},
   "outputs": [
    {
     "data": {
      "image/png": "[encoded data removed]",
      "text/plain": [
       "<Figure size 720x288 with 1 Axes>"
      ]
     },
     "metadata": {
      "needs_background": "light"
     },
     "output_type": "display_data"
    }
   ],
   "source": [
    "rating_eu = df_2014_2016.groupby('rating')['eu_sales'].sum().sort_values(ascending=False)\n",
    "rating_eu.plot(x = 'rating', y = 'eu_sales', kind = 'bar', figsize=(10,4), grid=True, title = 'Европа')\n",
    "plt.xlabel('Рейтинг')\n",
    "plt.ylabel('Продажи')\n",
    "plt.show()"
   ]
  },
  {
   "cell_type": "code",
   "execution_count": 41,
   "metadata": {},
   "outputs": [
    {
     "data": {
      "image/png": "[encoded data removed]",
      "text/plain": [
       "<Figure size 720x288 with 1 Axes>"
      ]
     },
     "metadata": {
      "needs_background": "light"
     },
     "output_type": "display_data"
    }
   ],
   "source": [
    "rating_jp = df_2014_2016.groupby('rating')['jp_sales'].sum().sort_values(ascending=False)\n",
    "rating_eu.plot(x = 'rating', y = 'jp_sales', kind = 'bar', figsize=(10,4), grid=True, title = 'Япония')\n",
    "plt.xlabel('Рейтинг')\n",
    "plt.ylabel('Продажи')\n",
    "plt.show()"
   ]
  },
  {
   "cell_type": "markdown",
   "metadata": {},
   "source": [
    "По всем регионам лидирует категория «M» («Mature») — «Для взрослых»: Материалы игры не подходят для подростков младше 17 лет. Проекты с данным рейтингом могут содержать достаточно жестокое насилие, большое количество крови с расчленением, непристойные сексуальные сцены или грубую ненормативную лексику, нежелательную для младшей аудитории."
   ]
  },
  {
   "cell_type": "markdown",
   "metadata": {},
   "source": [
    "## Проверка гипотез"
   ]
  },
  {
   "cell_type": "markdown",
   "metadata": {},
   "source": [
    "### Проверка гипотезы: средние пользовательские рейтинги платформ Xbox One и PC одинаковые. Принимаю порог alpha = 0.05."
   ]
  },
  {
   "cell_type": "markdown",
   "metadata": {},
   "source": [
    "H_0: средний рейтинг платформы Xbox One равен среднему рейтингу платформы PC."
   ]
  },
  {
   "cell_type": "markdown",
   "metadata": {},
   "source": [
    "H_1: средний рейтинг платформы Xbox One не равен среднему рейтингу платформы PC."
   ]
  },
  {
   "cell_type": "code",
   "execution_count": 42,
   "metadata": {},
   "outputs": [],
   "source": [
    "from scipy import stats as st"
   ]
  },
  {
   "cell_type": "code",
   "execution_count": 43,
   "metadata": {},
   "outputs": [
    {
     "name": "stdout",
     "output_type": "stream",
     "text": [
      "p-значение: 0.10450507919348415\n",
      "Не получилось отвергнуть нулевую гипотезу\n"
     ]
    }
   ],
   "source": [
    "results = st.ttest_ind(\n",
    "    df_2014_2016_us[df_2014_2016_us['platform'] == 'XOne']['user_score'],\n",
    "    df_2014_2016_us[df_2014_2016_us['platform'] == 'PC']['user_score'])\n",
    "\n",
    "alpha = .05\n",
    "\n",
    "print('p-значение:', results.pvalue)\n",
    "if results.pvalue < alpha:\n",
    "    print(\"Отвергаем нулевую гипотезу\")\n",
    "else:\n",
    "    print(\"Не получилось отвергнуть нулевую гипотезу\")"
   ]
  },
  {
   "cell_type": "markdown",
   "metadata": {},
   "source": [
    "### Проверка гипотезы: средние пользовательские рейтинги игр жанров Action и Sport разные. Принимаю порог alpha = 0.05."
   ]
  },
  {
   "cell_type": "markdown",
   "metadata": {},
   "source": [
    "H_0: средний рейтинг жанра Action не равен среднему рейтингу жанра Sport."
   ]
  },
  {
   "cell_type": "markdown",
   "metadata": {},
   "source": [
    "H_1: средний рейтинг жанра Action равен среднему рейтингу жанра Sport."
   ]
  },
  {
   "cell_type": "code",
   "execution_count": 44,
   "metadata": {},
   "outputs": [
    {
     "name": "stdout",
     "output_type": "stream",
     "text": [
      "p-значение:  2.8711147985105864e-19\n",
      "Отвергаем нулевую гипотезу\n"
     ]
    }
   ],
   "source": [
    "results = st.ttest_ind(\n",
    "    df_2014_2016_us[df_2014_2016_us['genre'] == 'Action']['user_score'],\n",
    "    df_2014_2016_us[df_2014_2016_us['genre'] == 'Sports']['user_score'])\n",
    "\n",
    "alpha = .05\n",
    "\n",
    "print('p-значение: ', results.pvalue)\n",
    "if results.pvalue < alpha:\n",
    "    print(\"Отвергаем нулевую гипотезу\")\n",
    "else:\n",
    "    print(\"Не получилось отвергнуть нулевую гипотезу\")"
   ]
  },
  {
   "cell_type": "markdown",
   "metadata": {},
   "source": [
    "## Общий вывод"
   ]
  },
  {
   "cell_type": "markdown",
   "metadata": {},
   "source": [
    "В течение данной работы я подготовил и проаналировал данные о продажах игр, оценках пользователей и экспертов, жанрах игр и игровых платформах. По итогам работы можно сделать прогноз на 2017 год в игровой индустрии.\n",
    "\n",
    "Был проанализирован период с 2014 по 2016 год. Самыми популярными платформами на рынке в мире являются - PS4 и Xbox One. В этот период для диагностики у нас были выбраны эти платформы: PS4 и Xbox One, которые на исследуемый момент обладали самыми большими продажами и были в тренде.\n",
    "\n",
    "Наибольшей популярностью у пользователей всего мира пользуются шутеры и игры жанра экшн.\n",
    "Безусловным лидером продаж является категория M от организации ESRB («Для взрослых»: Материалы игры не подходят для подростков младше 17 лет).\n",
    "\n",
    "Как показали исследования, отзывы пользователей пользователей не влияют на продажи игр, в отличие от отзывов критиков, - те имеют прямое влияние на продажи.\n",
    "\n",
    "В конце проекта я проверил две гипотезы: \"средние пользовательские рейтинги платформ Xbox One и PC одинаковые\" и \"средние пользовательские рейтинги жанров Action и Sports разные\".\n",
    "Итог проверки гипотез: средние пользовательские рейтинги платформ Xbox One и PC разные, а средние пользовательские рейтинги игр жанров Action и Sport одинаковые.\n",
    "\n",
    "Таким образом, предлагаю сделать ставку на игры на платформе PS4 и Xbox One, наиболее перспективного жанра шутер и экшн, в категории М (ESRB). Рекламные кампании направить на формирование положительных отзывов у критиков."
   ]
  }
 ],
 "metadata": {
  "ExecuteTimeLog": [
   {
    "duration": 382,
    "start_time": "2022-09-05T08:30:14.632Z"
   },
   {
    "duration": 188,
    "start_time": "2022-09-05T08:33:17.479Z"
   },
   {
    "duration": 13,
    "start_time": "2022-09-05T08:33:46.395Z"
   },
   {
    "duration": 57,
    "start_time": "2022-09-05T08:40:24.574Z"
   },
   {
    "duration": 7,
    "start_time": "2022-09-05T08:50:03.815Z"
   },
   {
    "duration": 9,
    "start_time": "2022-09-05T09:02:22.978Z"
   },
   {
    "duration": 8,
    "start_time": "2022-09-05T09:02:43.523Z"
   },
   {
    "duration": 6,
    "start_time": "2022-09-05T09:21:18.961Z"
   },
   {
    "duration": 6,
    "start_time": "2022-09-05T09:25:16.450Z"
   },
   {
    "duration": 6,
    "start_time": "2022-09-05T09:25:27.192Z"
   },
   {
    "duration": 4537,
    "start_time": "2022-09-05T09:25:37.574Z"
   },
   {
    "duration": 1448,
    "start_time": "2022-09-05T09:26:33.615Z"
   },
   {
    "duration": 1164,
    "start_time": "2022-09-05T09:26:52.962Z"
   },
   {
    "duration": 6,
    "start_time": "2022-09-05T09:27:08.519Z"
   },
   {
    "duration": 6,
    "start_time": "2022-09-05T09:28:06.869Z"
   },
   {
    "duration": 6,
    "start_time": "2022-09-05T09:30:37.810Z"
   },
   {
    "duration": 3,
    "start_time": "2022-09-05T09:39:19.483Z"
   },
   {
    "duration": 12,
    "start_time": "2022-09-05T09:39:22.851Z"
   },
   {
    "duration": 372,
    "start_time": "2022-09-05T09:39:46.371Z"
   },
   {
    "duration": 55,
    "start_time": "2022-09-05T09:39:46.745Z"
   },
   {
    "duration": 14,
    "start_time": "2022-09-05T09:39:46.802Z"
   },
   {
    "duration": 3,
    "start_time": "2022-09-05T09:39:46.817Z"
   },
   {
    "duration": 16,
    "start_time": "2022-09-05T09:39:46.822Z"
   },
   {
    "duration": 4,
    "start_time": "2022-09-05T09:41:31.314Z"
   },
   {
    "duration": 12,
    "start_time": "2022-09-05T09:41:41.784Z"
   },
   {
    "duration": 32,
    "start_time": "2022-09-05T09:45:14.110Z"
   },
   {
    "duration": 16,
    "start_time": "2022-09-05T09:45:27.454Z"
   },
   {
    "duration": 57,
    "start_time": "2022-09-05T09:46:12.578Z"
   },
   {
    "duration": 4,
    "start_time": "2022-09-05T09:46:26.016Z"
   },
   {
    "duration": 12,
    "start_time": "2022-09-05T09:46:28.484Z"
   },
   {
    "duration": 12,
    "start_time": "2022-09-05T09:46:57.917Z"
   },
   {
    "duration": 11,
    "start_time": "2022-09-05T09:47:04.172Z"
   },
   {
    "duration": 89,
    "start_time": "2022-09-05T09:48:11.366Z"
   },
   {
    "duration": 7,
    "start_time": "2022-09-05T09:48:16.519Z"
   },
   {
    "duration": 7,
    "start_time": "2022-09-05T09:48:48.406Z"
   },
   {
    "duration": 8,
    "start_time": "2022-09-05T09:49:08.996Z"
   },
   {
    "duration": 3,
    "start_time": "2022-09-05T09:49:42.259Z"
   },
   {
    "duration": 15,
    "start_time": "2022-09-05T09:49:55.021Z"
   },
   {
    "duration": 11,
    "start_time": "2022-09-05T09:50:27.161Z"
   },
   {
    "duration": 327,
    "start_time": "2022-09-05T10:12:12.904Z"
   },
   {
    "duration": 50,
    "start_time": "2022-09-05T10:12:13.233Z"
   },
   {
    "duration": 13,
    "start_time": "2022-09-05T10:12:13.284Z"
   },
   {
    "duration": 2,
    "start_time": "2022-09-05T10:12:13.299Z"
   },
   {
    "duration": 17,
    "start_time": "2022-09-05T10:12:13.303Z"
   },
   {
    "duration": 3,
    "start_time": "2022-09-05T10:12:13.321Z"
   },
   {
    "duration": 14,
    "start_time": "2022-09-05T10:12:13.326Z"
   },
   {
    "duration": 42,
    "start_time": "2022-09-05T15:01:15.926Z"
   },
   {
    "duration": 399,
    "start_time": "2022-09-05T15:01:29.204Z"
   },
   {
    "duration": 102,
    "start_time": "2022-09-05T15:01:29.605Z"
   },
   {
    "duration": 14,
    "start_time": "2022-09-05T15:01:29.708Z"
   },
   {
    "duration": 3,
    "start_time": "2022-09-05T15:01:29.724Z"
   },
   {
    "duration": 17,
    "start_time": "2022-09-05T15:01:29.728Z"
   },
   {
    "duration": 3,
    "start_time": "2022-09-05T15:01:29.747Z"
   },
   {
    "duration": 18,
    "start_time": "2022-09-05T15:01:29.751Z"
   },
   {
    "duration": 6,
    "start_time": "2022-09-05T15:12:31.380Z"
   },
   {
    "duration": 6,
    "start_time": "2022-09-05T15:12:38.426Z"
   },
   {
    "duration": 961,
    "start_time": "2022-09-05T15:12:44.215Z"
   },
   {
    "duration": 7,
    "start_time": "2022-09-05T15:12:57.814Z"
   },
   {
    "duration": 8,
    "start_time": "2022-09-05T15:13:04.193Z"
   },
   {
    "duration": 17,
    "start_time": "2022-09-05T15:13:18.768Z"
   },
   {
    "duration": 8,
    "start_time": "2022-09-05T15:14:15.713Z"
   },
   {
    "duration": 2,
    "start_time": "2022-09-05T15:14:25.102Z"
   },
   {
    "duration": 407,
    "start_time": "2022-09-05T15:14:39.779Z"
   },
   {
    "duration": 50,
    "start_time": "2022-09-05T15:14:40.188Z"
   },
   {
    "duration": 14,
    "start_time": "2022-09-05T15:14:40.240Z"
   },
   {
    "duration": 16,
    "start_time": "2022-09-05T15:14:40.256Z"
   },
   {
    "duration": 56,
    "start_time": "2022-09-05T15:14:40.274Z"
   },
   {
    "duration": 13,
    "start_time": "2022-09-05T15:14:40.332Z"
   },
   {
    "duration": 24,
    "start_time": "2022-09-05T15:14:40.347Z"
   },
   {
    "duration": 10,
    "start_time": "2022-09-05T15:14:40.373Z"
   },
   {
    "duration": 16,
    "start_time": "2022-09-05T15:14:40.384Z"
   },
   {
    "duration": 17,
    "start_time": "2022-09-05T15:14:40.403Z"
   },
   {
    "duration": 17,
    "start_time": "2022-09-05T15:14:40.422Z"
   },
   {
    "duration": 3,
    "start_time": "2022-09-05T15:14:40.441Z"
   },
   {
    "duration": 405,
    "start_time": "2022-09-05T15:14:56.116Z"
   },
   {
    "duration": 49,
    "start_time": "2022-09-05T15:14:56.524Z"
   },
   {
    "duration": 15,
    "start_time": "2022-09-05T15:14:56.575Z"
   },
   {
    "duration": 6,
    "start_time": "2022-09-05T15:14:56.591Z"
   },
   {
    "duration": 18,
    "start_time": "2022-09-05T15:14:56.599Z"
   },
   {
    "duration": 3,
    "start_time": "2022-09-05T15:14:56.618Z"
   },
   {
    "duration": 18,
    "start_time": "2022-09-05T15:14:56.623Z"
   },
   {
    "duration": 9,
    "start_time": "2022-09-05T15:14:56.642Z"
   },
   {
    "duration": 17,
    "start_time": "2022-09-05T15:14:56.653Z"
   },
   {
    "duration": 17,
    "start_time": "2022-09-05T15:14:56.672Z"
   },
   {
    "duration": 13,
    "start_time": "2022-09-05T15:14:56.691Z"
   },
   {
    "duration": 4,
    "start_time": "2022-09-05T15:14:56.705Z"
   },
   {
    "duration": 10,
    "start_time": "2022-09-05T15:15:46.537Z"
   },
   {
    "duration": 6,
    "start_time": "2022-09-05T15:15:47.874Z"
   },
   {
    "duration": 6,
    "start_time": "2022-09-05T15:15:52.845Z"
   },
   {
    "duration": 6,
    "start_time": "2022-09-05T15:15:54.550Z"
   },
   {
    "duration": 10,
    "start_time": "2022-09-05T15:15:56.253Z"
   },
   {
    "duration": 7,
    "start_time": "2022-09-05T15:16:42.402Z"
   },
   {
    "duration": 47,
    "start_time": "2022-09-06T02:48:58.188Z"
   },
   {
    "duration": 360,
    "start_time": "2022-09-06T02:49:03.869Z"
   },
   {
    "duration": 96,
    "start_time": "2022-09-06T02:49:04.231Z"
   },
   {
    "duration": 17,
    "start_time": "2022-09-06T02:49:04.328Z"
   },
   {
    "duration": 4,
    "start_time": "2022-09-06T02:49:04.347Z"
   },
   {
    "duration": 14,
    "start_time": "2022-09-06T02:49:04.353Z"
   },
   {
    "duration": 2,
    "start_time": "2022-09-06T02:49:04.369Z"
   },
   {
    "duration": 15,
    "start_time": "2022-09-06T02:49:04.373Z"
   },
   {
    "duration": 5,
    "start_time": "2022-09-06T02:49:04.389Z"
   },
   {
    "duration": 5,
    "start_time": "2022-09-06T02:49:04.395Z"
   },
   {
    "duration": 5,
    "start_time": "2022-09-06T02:49:04.402Z"
   },
   {
    "duration": 35,
    "start_time": "2022-09-06T02:49:04.408Z"
   },
   {
    "duration": 5,
    "start_time": "2022-09-06T02:49:04.445Z"
   },
   {
    "duration": 4,
    "start_time": "2022-09-06T02:49:04.452Z"
   },
   {
    "duration": 6,
    "start_time": "2022-09-06T02:49:09.720Z"
   },
   {
    "duration": 5,
    "start_time": "2022-09-06T02:49:11.350Z"
   },
   {
    "duration": 4,
    "start_time": "2022-09-06T02:49:12.117Z"
   },
   {
    "duration": 8,
    "start_time": "2022-09-06T02:49:13.057Z"
   },
   {
    "duration": 64,
    "start_time": "2022-09-06T05:31:12.607Z"
   },
   {
    "duration": 413,
    "start_time": "2022-09-06T05:31:21.333Z"
   },
   {
    "duration": 112,
    "start_time": "2022-09-06T05:31:21.748Z"
   },
   {
    "duration": 26,
    "start_time": "2022-09-06T05:31:21.862Z"
   },
   {
    "duration": 4,
    "start_time": "2022-09-06T05:31:21.891Z"
   },
   {
    "duration": 30,
    "start_time": "2022-09-06T05:31:21.898Z"
   },
   {
    "duration": 8,
    "start_time": "2022-09-06T05:31:21.930Z"
   },
   {
    "duration": 24,
    "start_time": "2022-09-06T05:31:21.941Z"
   },
   {
    "duration": 8,
    "start_time": "2022-09-06T05:31:21.967Z"
   },
   {
    "duration": 31,
    "start_time": "2022-09-06T05:31:21.977Z"
   },
   {
    "duration": 16,
    "start_time": "2022-09-06T05:31:22.012Z"
   },
   {
    "duration": 24,
    "start_time": "2022-09-06T05:31:22.030Z"
   },
   {
    "duration": 22,
    "start_time": "2022-09-06T05:31:22.056Z"
   },
   {
    "duration": 12,
    "start_time": "2022-09-06T05:31:22.081Z"
   },
   {
    "duration": 107,
    "start_time": "2022-09-06T05:33:12.503Z"
   },
   {
    "duration": 10,
    "start_time": "2022-09-06T05:33:21.877Z"
   },
   {
    "duration": 44,
    "start_time": "2022-09-06T05:37:52.723Z"
   },
   {
    "duration": 26,
    "start_time": "2022-09-06T05:38:15.517Z"
   },
   {
    "duration": 16,
    "start_time": "2022-09-06T05:38:30.045Z"
   },
   {
    "duration": 7,
    "start_time": "2022-09-06T05:40:41.167Z"
   },
   {
    "duration": 12,
    "start_time": "2022-09-06T05:40:45.181Z"
   },
   {
    "duration": 34,
    "start_time": "2022-09-06T05:44:14.368Z"
   },
   {
    "duration": 5,
    "start_time": "2022-09-06T05:46:45.033Z"
   },
   {
    "duration": 9,
    "start_time": "2022-09-06T05:46:48.740Z"
   },
   {
    "duration": 661,
    "start_time": "2022-09-06T05:47:53.239Z"
   },
   {
    "duration": 11,
    "start_time": "2022-09-06T05:48:38.897Z"
   },
   {
    "duration": 205,
    "start_time": "2022-09-06T05:48:40.233Z"
   },
   {
    "duration": 16,
    "start_time": "2022-09-06T05:50:02.683Z"
   },
   {
    "duration": 5,
    "start_time": "2022-09-06T05:56:21.907Z"
   },
   {
    "duration": 4,
    "start_time": "2022-09-06T05:58:36.584Z"
   },
   {
    "duration": 3,
    "start_time": "2022-09-06T06:01:28.378Z"
   },
   {
    "duration": 4,
    "start_time": "2022-09-06T06:01:47.630Z"
   },
   {
    "duration": 46,
    "start_time": "2022-09-06T13:44:04.889Z"
   },
   {
    "duration": 7,
    "start_time": "2022-09-06T13:44:24.002Z"
   },
   {
    "duration": 6,
    "start_time": "2022-09-06T13:44:31.929Z"
   },
   {
    "duration": 336,
    "start_time": "2022-09-06T13:44:40.950Z"
   },
   {
    "duration": 179,
    "start_time": "2022-09-06T13:44:41.288Z"
   },
   {
    "duration": 13,
    "start_time": "2022-09-06T13:44:41.469Z"
   },
   {
    "duration": 1072,
    "start_time": "2022-09-06T13:44:41.484Z"
   },
   {
    "duration": 4,
    "start_time": "2022-09-06T13:44:42.558Z"
   },
   {
    "duration": 8,
    "start_time": "2022-09-06T13:44:42.563Z"
   },
   {
    "duration": 15,
    "start_time": "2022-09-06T13:44:42.573Z"
   },
   {
    "duration": 21,
    "start_time": "2022-09-06T13:44:42.589Z"
   },
   {
    "duration": 5,
    "start_time": "2022-09-06T13:44:42.611Z"
   },
   {
    "duration": 235,
    "start_time": "2022-09-06T13:44:42.618Z"
   },
   {
    "duration": 6,
    "start_time": "2022-09-06T13:44:42.854Z"
   },
   {
    "duration": 14,
    "start_time": "2022-09-06T13:44:42.862Z"
   },
   {
    "duration": 6,
    "start_time": "2022-09-06T13:44:42.877Z"
   },
   {
    "duration": 7,
    "start_time": "2022-09-06T13:44:42.884Z"
   },
   {
    "duration": 35,
    "start_time": "2022-09-06T13:44:42.892Z"
   },
   {
    "duration": 4,
    "start_time": "2022-09-06T13:52:04.022Z"
   },
   {
    "duration": 13,
    "start_time": "2022-09-06T13:52:11.420Z"
   },
   {
    "duration": 9,
    "start_time": "2022-09-06T13:52:18.634Z"
   },
   {
    "duration": 82,
    "start_time": "2022-09-06T13:53:39.262Z"
   },
   {
    "duration": 11,
    "start_time": "2022-09-06T13:55:48.650Z"
   },
   {
    "duration": 13,
    "start_time": "2022-09-06T14:03:59.599Z"
   },
   {
    "duration": 3,
    "start_time": "2022-09-06T14:04:54.181Z"
   },
   {
    "duration": 10,
    "start_time": "2022-09-06T14:04:58.059Z"
   },
   {
    "duration": 6,
    "start_time": "2022-09-06T14:05:07.884Z"
   },
   {
    "duration": 10,
    "start_time": "2022-09-06T14:05:09.842Z"
   },
   {
    "duration": 12,
    "start_time": "2022-09-06T14:05:30.525Z"
   },
   {
    "duration": 12,
    "start_time": "2022-09-06T14:05:46.692Z"
   },
   {
    "duration": 420,
    "start_time": "2022-09-06T14:05:53.996Z"
   },
   {
    "duration": 53,
    "start_time": "2022-09-06T14:05:54.418Z"
   },
   {
    "duration": 15,
    "start_time": "2022-09-06T14:05:54.473Z"
   },
   {
    "duration": 3,
    "start_time": "2022-09-06T14:05:54.490Z"
   },
   {
    "duration": 23,
    "start_time": "2022-09-06T14:05:54.494Z"
   },
   {
    "duration": 2,
    "start_time": "2022-09-06T14:05:54.519Z"
   },
   {
    "duration": 19,
    "start_time": "2022-09-06T14:05:54.523Z"
   },
   {
    "duration": 5,
    "start_time": "2022-09-06T14:05:54.544Z"
   },
   {
    "duration": 11,
    "start_time": "2022-09-06T14:05:54.550Z"
   },
   {
    "duration": 8,
    "start_time": "2022-09-06T14:05:54.563Z"
   },
   {
    "duration": 399,
    "start_time": "2022-09-06T14:37:06.992Z"
   },
   {
    "duration": 50,
    "start_time": "2022-09-06T14:37:07.393Z"
   },
   {
    "duration": 14,
    "start_time": "2022-09-06T14:37:07.445Z"
   },
   {
    "duration": 2,
    "start_time": "2022-09-06T14:37:07.461Z"
   },
   {
    "duration": 5,
    "start_time": "2022-09-06T14:37:07.465Z"
   },
   {
    "duration": 17,
    "start_time": "2022-09-06T14:37:07.472Z"
   },
   {
    "duration": 17,
    "start_time": "2022-09-06T14:37:07.490Z"
   },
   {
    "duration": 8,
    "start_time": "2022-09-06T14:37:07.509Z"
   },
   {
    "duration": 9,
    "start_time": "2022-09-06T14:37:07.519Z"
   },
   {
    "duration": 7,
    "start_time": "2022-09-06T14:38:55.305Z"
   },
   {
    "duration": 9,
    "start_time": "2022-09-06T14:39:20.646Z"
   },
   {
    "duration": 81,
    "start_time": "2022-09-06T14:39:53.521Z"
   },
   {
    "duration": 4,
    "start_time": "2022-09-06T14:41:42.855Z"
   },
   {
    "duration": 10,
    "start_time": "2022-09-06T14:41:48.091Z"
   },
   {
    "duration": 3,
    "start_time": "2022-09-06T14:42:44.955Z"
   },
   {
    "duration": 4,
    "start_time": "2022-09-06T14:42:46.618Z"
   },
   {
    "duration": 8,
    "start_time": "2022-09-06T14:42:48.194Z"
   },
   {
    "duration": 14,
    "start_time": "2022-09-06T14:44:19.668Z"
   },
   {
    "duration": 6,
    "start_time": "2022-09-06T14:47:04.220Z"
   },
   {
    "duration": 24,
    "start_time": "2022-09-06T14:49:43.331Z"
   },
   {
    "duration": 13,
    "start_time": "2022-09-06T14:49:57.566Z"
   },
   {
    "duration": 5,
    "start_time": "2022-09-06T14:49:58.792Z"
   },
   {
    "duration": 9,
    "start_time": "2022-09-06T14:50:00.835Z"
   },
   {
    "duration": 9,
    "start_time": "2022-09-06T14:50:06.485Z"
   },
   {
    "duration": 26,
    "start_time": "2022-09-06T14:50:23.885Z"
   },
   {
    "duration": 14,
    "start_time": "2022-09-06T14:50:31.023Z"
   },
   {
    "duration": 6,
    "start_time": "2022-09-06T14:50:35.968Z"
   },
   {
    "duration": 9,
    "start_time": "2022-09-06T14:50:38.600Z"
   },
   {
    "duration": 5,
    "start_time": "2022-09-06T14:51:30.455Z"
   },
   {
    "duration": 13,
    "start_time": "2022-09-06T14:51:35.723Z"
   },
   {
    "duration": 6,
    "start_time": "2022-09-06T14:51:40.534Z"
   },
   {
    "duration": 10,
    "start_time": "2022-09-06T14:51:42.926Z"
   },
   {
    "duration": 351,
    "start_time": "2022-09-06T14:53:46.548Z"
   },
   {
    "duration": 50,
    "start_time": "2022-09-06T14:53:46.901Z"
   },
   {
    "duration": 14,
    "start_time": "2022-09-06T14:53:46.953Z"
   },
   {
    "duration": 5,
    "start_time": "2022-09-06T14:53:46.969Z"
   },
   {
    "duration": 6,
    "start_time": "2022-09-06T14:53:46.975Z"
   },
   {
    "duration": 8,
    "start_time": "2022-09-06T14:53:46.983Z"
   },
   {
    "duration": 15,
    "start_time": "2022-09-06T14:53:46.992Z"
   },
   {
    "duration": 929,
    "start_time": "2022-09-06T14:54:59.440Z"
   },
   {
    "duration": 385,
    "start_time": "2022-09-06T14:57:28.710Z"
   },
   {
    "duration": 49,
    "start_time": "2022-09-06T14:57:29.097Z"
   },
   {
    "duration": 13,
    "start_time": "2022-09-06T14:57:29.147Z"
   },
   {
    "duration": 916,
    "start_time": "2022-09-06T14:57:29.162Z"
   },
   {
    "duration": 3,
    "start_time": "2022-09-06T14:57:30.080Z"
   },
   {
    "duration": 17,
    "start_time": "2022-09-06T14:57:30.085Z"
   },
   {
    "duration": 15,
    "start_time": "2022-09-06T14:57:30.104Z"
   },
   {
    "duration": 11,
    "start_time": "2022-09-06T14:57:30.121Z"
   },
   {
    "duration": 76,
    "start_time": "2022-09-06T15:03:12.670Z"
   },
   {
    "duration": 6,
    "start_time": "2022-09-06T15:03:21.939Z"
   },
   {
    "duration": 8,
    "start_time": "2022-09-06T15:09:06.915Z"
   },
   {
    "duration": 27,
    "start_time": "2022-09-06T15:09:47.869Z"
   },
   {
    "duration": 27,
    "start_time": "2022-09-06T15:10:52.153Z"
   },
   {
    "duration": 16,
    "start_time": "2022-09-06T15:14:35.328Z"
   },
   {
    "duration": 5,
    "start_time": "2022-09-06T15:14:40.145Z"
   },
   {
    "duration": 371,
    "start_time": "2022-09-06T15:15:05.431Z"
   },
   {
    "duration": 50,
    "start_time": "2022-09-06T15:15:05.804Z"
   },
   {
    "duration": 14,
    "start_time": "2022-09-06T15:15:05.856Z"
   },
   {
    "duration": 1043,
    "start_time": "2022-09-06T15:15:05.872Z"
   },
   {
    "duration": 5,
    "start_time": "2022-09-06T15:15:06.916Z"
   },
   {
    "duration": 11,
    "start_time": "2022-09-06T15:15:06.923Z"
   },
   {
    "duration": 12,
    "start_time": "2022-09-06T15:15:06.936Z"
   },
   {
    "duration": 20,
    "start_time": "2022-09-06T15:15:06.949Z"
   },
   {
    "duration": 10,
    "start_time": "2022-09-06T15:15:06.971Z"
   },
   {
    "duration": 17,
    "start_time": "2022-09-06T15:15:06.983Z"
   },
   {
    "duration": 17,
    "start_time": "2022-09-06T15:15:07.002Z"
   },
   {
    "duration": 2207,
    "start_time": "2022-09-06T15:25:10.492Z"
   },
   {
    "duration": 10,
    "start_time": "2022-09-06T15:25:13.054Z"
   },
   {
    "duration": 8,
    "start_time": "2022-09-06T15:25:33.683Z"
   },
   {
    "duration": 9,
    "start_time": "2022-09-06T15:25:39.184Z"
   },
   {
    "duration": 436,
    "start_time": "2022-09-06T15:25:54.193Z"
   },
   {
    "duration": 56,
    "start_time": "2022-09-06T15:25:54.631Z"
   },
   {
    "duration": 15,
    "start_time": "2022-09-06T15:25:54.691Z"
   },
   {
    "duration": 1038,
    "start_time": "2022-09-06T15:25:54.712Z"
   },
   {
    "duration": 3,
    "start_time": "2022-09-06T15:25:55.752Z"
   },
   {
    "duration": 8,
    "start_time": "2022-09-06T15:25:55.757Z"
   },
   {
    "duration": 7,
    "start_time": "2022-09-06T15:25:55.766Z"
   },
   {
    "duration": 11,
    "start_time": "2022-09-06T15:25:55.775Z"
   },
   {
    "duration": 12,
    "start_time": "2022-09-06T15:25:55.815Z"
   },
   {
    "duration": 21,
    "start_time": "2022-09-06T15:25:55.828Z"
   },
   {
    "duration": 6,
    "start_time": "2022-09-06T15:25:55.851Z"
   },
   {
    "duration": 17,
    "start_time": "2022-09-06T15:27:12.145Z"
   },
   {
    "duration": 10,
    "start_time": "2022-09-06T15:27:14.999Z"
   },
   {
    "duration": 4,
    "start_time": "2022-09-06T15:27:26.855Z"
   },
   {
    "duration": 6,
    "start_time": "2022-09-06T15:33:58.496Z"
   },
   {
    "duration": 16,
    "start_time": "2022-09-06T15:35:53.042Z"
   },
   {
    "duration": 17,
    "start_time": "2022-09-06T15:36:07.353Z"
   },
   {
    "duration": 8,
    "start_time": "2022-09-06T15:36:30.037Z"
   },
   {
    "duration": 400,
    "start_time": "2022-09-06T15:37:08.719Z"
   },
   {
    "duration": 52,
    "start_time": "2022-09-06T15:37:09.121Z"
   },
   {
    "duration": 15,
    "start_time": "2022-09-06T15:37:09.175Z"
   },
   {
    "duration": 1037,
    "start_time": "2022-09-06T15:37:09.192Z"
   },
   {
    "duration": 4,
    "start_time": "2022-09-06T15:37:10.231Z"
   },
   {
    "duration": 6,
    "start_time": "2022-09-06T15:37:10.237Z"
   },
   {
    "duration": 8,
    "start_time": "2022-09-06T15:37:10.245Z"
   },
   {
    "duration": 11,
    "start_time": "2022-09-06T15:37:10.255Z"
   },
   {
    "duration": 11,
    "start_time": "2022-09-06T15:37:10.267Z"
   },
   {
    "duration": 40,
    "start_time": "2022-09-06T15:37:10.280Z"
   },
   {
    "duration": 7,
    "start_time": "2022-09-06T15:37:10.322Z"
   },
   {
    "duration": 12,
    "start_time": "2022-09-06T15:37:10.330Z"
   },
   {
    "duration": 16,
    "start_time": "2022-09-06T15:38:15.356Z"
   },
   {
    "duration": 9,
    "start_time": "2022-09-06T15:38:16.916Z"
   },
   {
    "duration": 9,
    "start_time": "2022-09-06T15:38:18.520Z"
   },
   {
    "duration": 23,
    "start_time": "2022-09-06T15:40:39.211Z"
   },
   {
    "duration": 10,
    "start_time": "2022-09-06T15:40:42.064Z"
   },
   {
    "duration": 17,
    "start_time": "2022-09-06T15:44:08.988Z"
   },
   {
    "duration": 7,
    "start_time": "2022-09-06T15:44:39.593Z"
   },
   {
    "duration": 88,
    "start_time": "2022-09-06T15:48:26.078Z"
   },
   {
    "duration": 12,
    "start_time": "2022-09-06T15:48:46.625Z"
   },
   {
    "duration": 74,
    "start_time": "2022-09-06T15:51:13.848Z"
   },
   {
    "duration": 14,
    "start_time": "2022-09-06T15:52:08.554Z"
   },
   {
    "duration": 756,
    "start_time": "2022-09-06T15:55:07.633Z"
   },
   {
    "duration": 428,
    "start_time": "2022-09-06T15:55:31.780Z"
   },
   {
    "duration": 51,
    "start_time": "2022-09-06T15:55:32.210Z"
   },
   {
    "duration": 15,
    "start_time": "2022-09-06T15:55:32.263Z"
   },
   {
    "duration": 941,
    "start_time": "2022-09-06T15:55:32.279Z"
   },
   {
    "duration": 3,
    "start_time": "2022-09-06T15:55:33.222Z"
   },
   {
    "duration": 11,
    "start_time": "2022-09-06T15:55:33.226Z"
   },
   {
    "duration": 7,
    "start_time": "2022-09-06T15:55:33.239Z"
   },
   {
    "duration": 6,
    "start_time": "2022-09-06T15:55:33.248Z"
   },
   {
    "duration": 18,
    "start_time": "2022-09-06T15:55:33.256Z"
   },
   {
    "duration": 40,
    "start_time": "2022-09-06T15:55:33.276Z"
   },
   {
    "duration": 8,
    "start_time": "2022-09-06T15:55:33.318Z"
   },
   {
    "duration": 6,
    "start_time": "2022-09-06T15:55:33.327Z"
   },
   {
    "duration": 700,
    "start_time": "2022-09-06T15:55:33.335Z"
   },
   {
    "duration": 190,
    "start_time": "2022-09-06T15:55:42.392Z"
   },
   {
    "duration": 10,
    "start_time": "2022-09-06T15:57:19.990Z"
   },
   {
    "duration": 9,
    "start_time": "2022-09-06T15:57:36.527Z"
   },
   {
    "duration": 16,
    "start_time": "2022-09-06T15:57:50.431Z"
   },
   {
    "duration": 20,
    "start_time": "2022-09-06T15:58:24.033Z"
   },
   {
    "duration": 6297,
    "start_time": "2022-09-06T15:59:15.192Z"
   },
   {
    "duration": 110,
    "start_time": "2022-09-06T16:01:02.723Z"
   },
   {
    "duration": 16,
    "start_time": "2022-09-06T16:03:16.990Z"
   },
   {
    "duration": 18,
    "start_time": "2022-09-06T16:03:26.519Z"
   },
   {
    "duration": 19,
    "start_time": "2022-09-06T16:03:45.283Z"
   },
   {
    "duration": 666,
    "start_time": "2022-09-06T16:04:10.263Z"
   },
   {
    "duration": 12,
    "start_time": "2022-09-06T16:05:31.897Z"
   },
   {
    "duration": 6,
    "start_time": "2022-09-06T16:05:44.598Z"
   },
   {
    "duration": 6,
    "start_time": "2022-09-06T16:06:04.515Z"
   },
   {
    "duration": 6,
    "start_time": "2022-09-06T16:06:33.553Z"
   },
   {
    "duration": 7,
    "start_time": "2022-09-06T16:06:48.765Z"
   },
   {
    "duration": 6,
    "start_time": "2022-09-06T16:07:02.028Z"
   },
   {
    "duration": 20,
    "start_time": "2022-09-06T16:08:13.138Z"
   },
   {
    "duration": 6,
    "start_time": "2022-09-06T16:08:15.388Z"
   },
   {
    "duration": 6,
    "start_time": "2022-09-06T16:09:08.817Z"
   },
   {
    "duration": 9,
    "start_time": "2022-09-06T16:16:11.091Z"
   },
   {
    "duration": 61,
    "start_time": "2022-09-06T16:17:41.260Z"
   },
   {
    "duration": 371,
    "start_time": "2022-09-06T16:19:23.622Z"
   },
   {
    "duration": 56,
    "start_time": "2022-09-06T16:19:23.995Z"
   },
   {
    "duration": 15,
    "start_time": "2022-09-06T16:19:24.054Z"
   },
   {
    "duration": 924,
    "start_time": "2022-09-06T16:19:24.070Z"
   },
   {
    "duration": 9,
    "start_time": "2022-09-06T16:19:24.997Z"
   },
   {
    "duration": 8,
    "start_time": "2022-09-06T16:19:25.007Z"
   },
   {
    "duration": 15,
    "start_time": "2022-09-06T16:19:25.016Z"
   },
   {
    "duration": 7,
    "start_time": "2022-09-06T16:19:25.032Z"
   },
   {
    "duration": 11,
    "start_time": "2022-09-06T16:19:25.040Z"
   },
   {
    "duration": 37,
    "start_time": "2022-09-06T16:19:25.052Z"
   },
   {
    "duration": 5,
    "start_time": "2022-09-06T16:19:25.090Z"
   },
   {
    "duration": 19,
    "start_time": "2022-09-06T16:19:25.097Z"
   },
   {
    "duration": 2,
    "start_time": "2022-09-06T16:19:25.117Z"
   },
   {
    "duration": 69,
    "start_time": "2022-09-06T16:19:25.122Z"
   },
   {
    "duration": 378,
    "start_time": "2022-09-06T16:20:25.963Z"
   },
   {
    "duration": 52,
    "start_time": "2022-09-06T16:20:26.343Z"
   },
   {
    "duration": 13,
    "start_time": "2022-09-06T16:20:26.397Z"
   },
   {
    "duration": 1015,
    "start_time": "2022-09-06T16:20:26.412Z"
   },
   {
    "duration": 3,
    "start_time": "2022-09-06T16:20:27.428Z"
   },
   {
    "duration": 6,
    "start_time": "2022-09-06T16:20:27.433Z"
   },
   {
    "duration": 6,
    "start_time": "2022-09-06T16:20:27.441Z"
   },
   {
    "duration": 6,
    "start_time": "2022-09-06T16:20:27.449Z"
   },
   {
    "duration": 9,
    "start_time": "2022-09-06T16:20:27.456Z"
   },
   {
    "duration": 48,
    "start_time": "2022-09-06T16:20:27.467Z"
   },
   {
    "duration": 5,
    "start_time": "2022-09-06T16:20:27.517Z"
   },
   {
    "duration": 12,
    "start_time": "2022-09-06T16:20:27.523Z"
   },
   {
    "duration": 2,
    "start_time": "2022-09-06T16:20:27.536Z"
   },
   {
    "duration": 76,
    "start_time": "2022-09-06T16:20:27.540Z"
   },
   {
    "duration": 52,
    "start_time": "2022-09-06T16:29:00.166Z"
   },
   {
    "duration": 50,
    "start_time": "2022-09-07T03:05:07.958Z"
   },
   {
    "duration": 386,
    "start_time": "2022-09-07T03:05:13.225Z"
   },
   {
    "duration": 98,
    "start_time": "2022-09-07T03:05:13.612Z"
   },
   {
    "duration": 19,
    "start_time": "2022-09-07T03:05:13.712Z"
   },
   {
    "duration": 1183,
    "start_time": "2022-09-07T03:05:13.733Z"
   },
   {
    "duration": 4,
    "start_time": "2022-09-07T03:05:14.918Z"
   },
   {
    "duration": 10,
    "start_time": "2022-09-07T03:05:14.923Z"
   },
   {
    "duration": 7,
    "start_time": "2022-09-07T03:05:14.934Z"
   },
   {
    "duration": 7,
    "start_time": "2022-09-07T03:05:14.942Z"
   },
   {
    "duration": 9,
    "start_time": "2022-09-07T03:05:14.951Z"
   },
   {
    "duration": 5,
    "start_time": "2022-09-07T03:05:14.962Z"
   },
   {
    "duration": 103,
    "start_time": "2022-09-07T03:05:15.003Z"
   },
   {
    "duration": 5,
    "start_time": "2022-09-07T03:05:15.108Z"
   },
   {
    "duration": 9,
    "start_time": "2022-09-07T03:05:15.115Z"
   },
   {
    "duration": 3,
    "start_time": "2022-09-07T03:05:15.126Z"
   },
   {
    "duration": 88,
    "start_time": "2022-09-07T03:05:15.130Z"
   },
   {
    "duration": 54,
    "start_time": "2022-09-07T03:05:15.220Z"
   },
   {
    "duration": 92,
    "start_time": "2022-09-07T03:09:04.950Z"
   },
   {
    "duration": 29,
    "start_time": "2022-09-07T03:09:13.546Z"
   },
   {
    "duration": 12,
    "start_time": "2022-09-07T03:09:52.055Z"
   },
   {
    "duration": 7,
    "start_time": "2022-09-07T03:09:54.886Z"
   },
   {
    "duration": 6,
    "start_time": "2022-09-07T03:11:18.984Z"
   },
   {
    "duration": 6,
    "start_time": "2022-09-07T03:11:20.084Z"
   },
   {
    "duration": 73,
    "start_time": "2022-09-07T03:11:40.185Z"
   },
   {
    "duration": 24,
    "start_time": "2022-09-07T03:11:46.916Z"
   },
   {
    "duration": 20,
    "start_time": "2022-09-07T03:12:30.759Z"
   },
   {
    "duration": 44,
    "start_time": "2022-09-07T10:25:33.775Z"
   },
   {
    "duration": 408,
    "start_time": "2022-09-07T10:25:42.728Z"
   },
   {
    "duration": 93,
    "start_time": "2022-09-07T10:25:43.139Z"
   },
   {
    "duration": 14,
    "start_time": "2022-09-07T10:25:43.233Z"
   },
   {
    "duration": 1098,
    "start_time": "2022-09-07T10:25:43.248Z"
   },
   {
    "duration": 5,
    "start_time": "2022-09-07T10:25:44.349Z"
   },
   {
    "duration": 18,
    "start_time": "2022-09-07T10:25:44.356Z"
   },
   {
    "duration": 8,
    "start_time": "2022-09-07T10:25:44.376Z"
   },
   {
    "duration": 10,
    "start_time": "2022-09-07T10:25:44.385Z"
   },
   {
    "duration": 12,
    "start_time": "2022-09-07T10:25:44.397Z"
   },
   {
    "duration": 5,
    "start_time": "2022-09-07T10:25:44.410Z"
   },
   {
    "duration": 83,
    "start_time": "2022-09-07T10:25:44.417Z"
   },
   {
    "duration": 5,
    "start_time": "2022-09-07T10:25:44.502Z"
   },
   {
    "duration": 8,
    "start_time": "2022-09-07T10:25:44.508Z"
   },
   {
    "duration": 1091,
    "start_time": "2022-09-07T10:25:44.518Z"
   },
   {
    "duration": 60,
    "start_time": "2022-09-07T10:25:45.611Z"
   },
   {
    "duration": 67,
    "start_time": "2022-09-07T10:25:45.672Z"
   },
   {
    "duration": 12,
    "start_time": "2022-09-07T10:26:52.954Z"
   },
   {
    "duration": 24,
    "start_time": "2022-09-07T10:28:17.938Z"
   },
   {
    "duration": 12,
    "start_time": "2022-09-07T10:28:20.784Z"
   },
   {
    "duration": 103,
    "start_time": "2022-09-07T10:41:44.283Z"
   },
   {
    "duration": 4,
    "start_time": "2022-09-07T10:42:25.521Z"
   },
   {
    "duration": 4,
    "start_time": "2022-09-07T10:43:26.857Z"
   },
   {
    "duration": 5,
    "start_time": "2022-09-07T10:43:28.054Z"
   },
   {
    "duration": 4,
    "start_time": "2022-09-07T10:44:15.383Z"
   },
   {
    "duration": 111,
    "start_time": "2022-09-07T10:44:43.850Z"
   },
   {
    "duration": 17,
    "start_time": "2022-09-07T10:45:20.221Z"
   },
   {
    "duration": 356,
    "start_time": "2022-09-07T10:45:33.982Z"
   },
   {
    "duration": 49,
    "start_time": "2022-09-07T10:45:34.340Z"
   },
   {
    "duration": 14,
    "start_time": "2022-09-07T10:45:34.391Z"
   },
   {
    "duration": 847,
    "start_time": "2022-09-07T10:45:34.406Z"
   },
   {
    "duration": 2,
    "start_time": "2022-09-07T10:45:35.256Z"
   },
   {
    "duration": 10,
    "start_time": "2022-09-07T10:45:35.260Z"
   },
   {
    "duration": 5,
    "start_time": "2022-09-07T10:45:35.271Z"
   },
   {
    "duration": 6,
    "start_time": "2022-09-07T10:45:35.277Z"
   },
   {
    "duration": 13,
    "start_time": "2022-09-07T10:45:35.284Z"
   },
   {
    "duration": 78,
    "start_time": "2022-09-07T10:45:35.298Z"
   },
   {
    "duration": 0,
    "start_time": "2022-09-07T10:45:35.379Z"
   },
   {
    "duration": 0,
    "start_time": "2022-09-07T10:45:35.380Z"
   },
   {
    "duration": 0,
    "start_time": "2022-09-07T10:45:35.381Z"
   },
   {
    "duration": 0,
    "start_time": "2022-09-07T10:45:35.382Z"
   },
   {
    "duration": 0,
    "start_time": "2022-09-07T10:45:35.382Z"
   },
   {
    "duration": 0,
    "start_time": "2022-09-07T10:45:35.383Z"
   },
   {
    "duration": 0,
    "start_time": "2022-09-07T10:45:35.384Z"
   },
   {
    "duration": 0,
    "start_time": "2022-09-07T10:45:35.385Z"
   },
   {
    "duration": 0,
    "start_time": "2022-09-07T10:45:35.386Z"
   },
   {
    "duration": 0,
    "start_time": "2022-09-07T10:45:35.387Z"
   },
   {
    "duration": 12,
    "start_time": "2022-09-07T10:46:19.808Z"
   },
   {
    "duration": 13,
    "start_time": "2022-09-07T10:47:39.816Z"
   },
   {
    "duration": 3,
    "start_time": "2022-09-07T10:48:09.788Z"
   },
   {
    "duration": 4,
    "start_time": "2022-09-07T10:56:55.287Z"
   },
   {
    "duration": 5,
    "start_time": "2022-09-07T10:57:48.214Z"
   },
   {
    "duration": 9,
    "start_time": "2022-09-07T10:57:58.498Z"
   },
   {
    "duration": 7,
    "start_time": "2022-09-07T11:07:44.690Z"
   },
   {
    "duration": 17,
    "start_time": "2022-09-07T11:07:53.288Z"
   },
   {
    "duration": 11,
    "start_time": "2022-09-07T11:08:53.649Z"
   },
   {
    "duration": 4,
    "start_time": "2022-09-07T11:11:09.809Z"
   },
   {
    "duration": 14,
    "start_time": "2022-09-07T11:11:20.322Z"
   },
   {
    "duration": 6,
    "start_time": "2022-09-07T11:12:48.183Z"
   },
   {
    "duration": 10,
    "start_time": "2022-09-07T11:12:49.652Z"
   },
   {
    "duration": 14,
    "start_time": "2022-09-07T11:14:47.152Z"
   },
   {
    "duration": 19,
    "start_time": "2022-09-07T11:15:12.434Z"
   },
   {
    "duration": 142,
    "start_time": "2022-09-07T11:15:24.184Z"
   },
   {
    "duration": 9,
    "start_time": "2022-09-07T11:15:28.094Z"
   },
   {
    "duration": 3,
    "start_time": "2022-09-07T11:17:17.724Z"
   },
   {
    "duration": 4,
    "start_time": "2022-09-07T11:17:21.614Z"
   },
   {
    "duration": 10,
    "start_time": "2022-09-07T11:17:29.372Z"
   },
   {
    "duration": 4,
    "start_time": "2022-09-07T11:21:56.927Z"
   },
   {
    "duration": 13,
    "start_time": "2022-09-07T11:22:03.289Z"
   },
   {
    "duration": 12,
    "start_time": "2022-09-07T11:22:58.500Z"
   },
   {
    "duration": 55,
    "start_time": "2022-09-07T11:31:54.726Z"
   },
   {
    "duration": 49,
    "start_time": "2022-09-07T11:32:02.842Z"
   },
   {
    "duration": 4,
    "start_time": "2022-09-07T11:32:09.245Z"
   },
   {
    "duration": 15,
    "start_time": "2022-09-07T11:33:12.096Z"
   },
   {
    "duration": 5,
    "start_time": "2022-09-07T11:34:07.545Z"
   },
   {
    "duration": 2,
    "start_time": "2022-09-07T11:34:17.829Z"
   },
   {
    "duration": 9,
    "start_time": "2022-09-07T11:34:19.247Z"
   },
   {
    "duration": 56,
    "start_time": "2022-09-07T11:34:51.778Z"
   },
   {
    "duration": 54,
    "start_time": "2022-09-07T11:35:31.679Z"
   },
   {
    "duration": 17,
    "start_time": "2022-09-07T11:36:02.837Z"
   },
   {
    "duration": 2,
    "start_time": "2022-09-07T11:36:23.530Z"
   },
   {
    "duration": 15,
    "start_time": "2022-09-07T11:36:53.027Z"
   },
   {
    "duration": 18,
    "start_time": "2022-09-07T11:37:19.044Z"
   },
   {
    "duration": 2,
    "start_time": "2022-09-07T11:37:40.222Z"
   },
   {
    "duration": 11,
    "start_time": "2022-09-07T11:38:19.119Z"
   },
   {
    "duration": 12,
    "start_time": "2022-09-07T11:38:53.682Z"
   },
   {
    "duration": 4,
    "start_time": "2022-09-07T11:40:04.224Z"
   },
   {
    "duration": 9,
    "start_time": "2022-09-07T11:40:09.116Z"
   },
   {
    "duration": 8,
    "start_time": "2022-09-07T11:42:12.424Z"
   },
   {
    "duration": 8,
    "start_time": "2022-09-07T11:42:21.664Z"
   },
   {
    "duration": 12,
    "start_time": "2022-09-07T11:44:04.591Z"
   },
   {
    "duration": 14,
    "start_time": "2022-09-07T11:44:10.915Z"
   },
   {
    "duration": 8,
    "start_time": "2022-09-07T11:47:48.317Z"
   },
   {
    "duration": 8,
    "start_time": "2022-09-07T11:48:10.285Z"
   },
   {
    "duration": 7,
    "start_time": "2022-09-07T11:48:51.051Z"
   },
   {
    "duration": 12,
    "start_time": "2022-09-07T11:48:54.287Z"
   },
   {
    "duration": 4,
    "start_time": "2022-09-07T11:48:55.145Z"
   },
   {
    "duration": 9,
    "start_time": "2022-09-07T11:48:56.276Z"
   },
   {
    "duration": 12,
    "start_time": "2022-09-07T11:49:39.848Z"
   },
   {
    "duration": 395,
    "start_time": "2022-09-07T11:56:06.034Z"
   },
   {
    "duration": 51,
    "start_time": "2022-09-07T11:56:06.430Z"
   },
   {
    "duration": 14,
    "start_time": "2022-09-07T11:56:06.482Z"
   },
   {
    "duration": 887,
    "start_time": "2022-09-07T11:56:06.498Z"
   },
   {
    "duration": 3,
    "start_time": "2022-09-07T11:56:07.386Z"
   },
   {
    "duration": 11,
    "start_time": "2022-09-07T11:56:07.390Z"
   },
   {
    "duration": 25,
    "start_time": "2022-09-07T11:56:07.403Z"
   },
   {
    "duration": 6,
    "start_time": "2022-09-07T11:56:07.430Z"
   },
   {
    "duration": 10,
    "start_time": "2022-09-07T11:56:07.437Z"
   },
   {
    "duration": 10,
    "start_time": "2022-09-07T11:56:07.449Z"
   },
   {
    "duration": 12,
    "start_time": "2022-09-07T11:56:07.460Z"
   },
   {
    "duration": 8,
    "start_time": "2022-09-07T11:56:07.473Z"
   },
   {
    "duration": 13,
    "start_time": "2022-09-07T11:56:07.482Z"
   },
   {
    "duration": 8,
    "start_time": "2022-09-07T11:56:07.497Z"
   },
   {
    "duration": 15,
    "start_time": "2022-09-07T11:56:07.506Z"
   },
   {
    "duration": 4,
    "start_time": "2022-09-07T11:56:07.522Z"
   },
   {
    "duration": 20,
    "start_time": "2022-09-07T11:56:07.527Z"
   },
   {
    "duration": 18,
    "start_time": "2022-09-07T11:56:07.548Z"
   },
   {
    "duration": 12,
    "start_time": "2022-09-07T11:56:07.568Z"
   },
   {
    "duration": 26,
    "start_time": "2022-09-07T11:56:07.581Z"
   },
   {
    "duration": 1112,
    "start_time": "2022-09-07T11:56:07.609Z"
   },
   {
    "duration": 57,
    "start_time": "2022-09-07T11:56:08.723Z"
   },
   {
    "duration": 45,
    "start_time": "2022-09-07T11:56:08.782Z"
   },
   {
    "duration": 10,
    "start_time": "2022-09-07T11:56:08.829Z"
   },
   {
    "duration": 133,
    "start_time": "2022-09-07T11:56:08.840Z"
   },
   {
    "duration": 396,
    "start_time": "2022-09-07T12:00:46.913Z"
   },
   {
    "duration": 60,
    "start_time": "2022-09-07T12:00:47.311Z"
   },
   {
    "duration": 13,
    "start_time": "2022-09-07T12:00:47.372Z"
   },
   {
    "duration": 951,
    "start_time": "2022-09-07T12:00:47.387Z"
   },
   {
    "duration": 6,
    "start_time": "2022-09-07T12:00:48.342Z"
   },
   {
    "duration": 11,
    "start_time": "2022-09-07T12:00:48.352Z"
   },
   {
    "duration": 14,
    "start_time": "2022-09-07T12:00:48.364Z"
   },
   {
    "duration": 6,
    "start_time": "2022-09-07T12:00:48.380Z"
   },
   {
    "duration": 11,
    "start_time": "2022-09-07T12:00:48.388Z"
   },
   {
    "duration": 14,
    "start_time": "2022-09-07T12:00:48.400Z"
   },
   {
    "duration": 12,
    "start_time": "2022-09-07T12:00:48.415Z"
   },
   {
    "duration": 19,
    "start_time": "2022-09-07T12:00:48.438Z"
   },
   {
    "duration": 19,
    "start_time": "2022-09-07T12:00:48.459Z"
   },
   {
    "duration": 7,
    "start_time": "2022-09-07T12:00:48.481Z"
   },
   {
    "duration": 11,
    "start_time": "2022-09-07T12:00:48.489Z"
   },
   {
    "duration": 3,
    "start_time": "2022-09-07T12:00:48.502Z"
   },
   {
    "duration": 12,
    "start_time": "2022-09-07T12:00:48.507Z"
   },
   {
    "duration": 38,
    "start_time": "2022-09-07T12:00:48.520Z"
   },
   {
    "duration": 12,
    "start_time": "2022-09-07T12:00:48.560Z"
   },
   {
    "duration": 9,
    "start_time": "2022-09-07T12:00:48.573Z"
   },
   {
    "duration": 1225,
    "start_time": "2022-09-07T12:00:48.583Z"
   },
   {
    "duration": 68,
    "start_time": "2022-09-07T12:00:49.810Z"
   },
   {
    "duration": 47,
    "start_time": "2022-09-07T12:00:49.880Z"
   },
   {
    "duration": 16,
    "start_time": "2022-09-07T12:00:49.929Z"
   },
   {
    "duration": 132,
    "start_time": "2022-09-07T12:00:49.948Z"
   },
   {
    "duration": 13,
    "start_time": "2022-09-07T12:02:07.785Z"
   },
   {
    "duration": 4,
    "start_time": "2022-09-07T12:02:08.735Z"
   },
   {
    "duration": 18,
    "start_time": "2022-09-07T12:03:00.082Z"
   },
   {
    "duration": 14,
    "start_time": "2022-09-07T12:03:27.375Z"
   },
   {
    "duration": 13,
    "start_time": "2022-09-07T12:03:31.817Z"
   },
   {
    "duration": 4,
    "start_time": "2022-09-07T12:04:27.960Z"
   },
   {
    "duration": 397,
    "start_time": "2022-09-07T12:04:39.970Z"
   },
   {
    "duration": 54,
    "start_time": "2022-09-07T12:04:40.370Z"
   },
   {
    "duration": 20,
    "start_time": "2022-09-07T12:04:40.426Z"
   },
   {
    "duration": 916,
    "start_time": "2022-09-07T12:04:40.448Z"
   },
   {
    "duration": 3,
    "start_time": "2022-09-07T12:04:41.366Z"
   },
   {
    "duration": 7,
    "start_time": "2022-09-07T12:04:41.370Z"
   },
   {
    "duration": 17,
    "start_time": "2022-09-07T12:04:41.378Z"
   },
   {
    "duration": 5,
    "start_time": "2022-09-07T12:04:41.397Z"
   },
   {
    "duration": 14,
    "start_time": "2022-09-07T12:04:41.404Z"
   },
   {
    "duration": 21,
    "start_time": "2022-09-07T12:04:41.420Z"
   },
   {
    "duration": 13,
    "start_time": "2022-09-07T12:04:41.443Z"
   },
   {
    "duration": 8,
    "start_time": "2022-09-07T12:04:41.457Z"
   },
   {
    "duration": 11,
    "start_time": "2022-09-07T12:04:41.466Z"
   },
   {
    "duration": 6,
    "start_time": "2022-09-07T12:04:41.480Z"
   },
   {
    "duration": 9,
    "start_time": "2022-09-07T12:04:41.488Z"
   },
   {
    "duration": 5,
    "start_time": "2022-09-07T12:04:41.499Z"
   },
   {
    "duration": 48,
    "start_time": "2022-09-07T12:04:41.505Z"
   },
   {
    "duration": 29,
    "start_time": "2022-09-07T12:04:41.554Z"
   },
   {
    "duration": 12,
    "start_time": "2022-09-07T12:04:41.585Z"
   },
   {
    "duration": 16,
    "start_time": "2022-09-07T12:04:41.598Z"
   },
   {
    "duration": 1189,
    "start_time": "2022-09-07T12:04:41.616Z"
   },
   {
    "duration": 61,
    "start_time": "2022-09-07T12:04:42.807Z"
   },
   {
    "duration": 48,
    "start_time": "2022-09-07T12:04:42.869Z"
   },
   {
    "duration": 22,
    "start_time": "2022-09-07T12:04:42.919Z"
   },
   {
    "duration": 106,
    "start_time": "2022-09-07T12:04:42.943Z"
   },
   {
    "duration": 13,
    "start_time": "2022-09-07T12:06:22.062Z"
   },
   {
    "duration": 11,
    "start_time": "2022-09-07T12:06:43.453Z"
   },
   {
    "duration": 9,
    "start_time": "2022-09-07T12:06:55.084Z"
   },
   {
    "duration": 3,
    "start_time": "2022-09-07T12:08:00.007Z"
   },
   {
    "duration": 10,
    "start_time": "2022-09-07T12:08:05.076Z"
   },
   {
    "duration": 8,
    "start_time": "2022-09-07T12:08:45.611Z"
   },
   {
    "duration": 389,
    "start_time": "2022-09-07T12:08:58.564Z"
   },
   {
    "duration": 62,
    "start_time": "2022-09-07T12:08:58.957Z"
   },
   {
    "duration": 18,
    "start_time": "2022-09-07T12:08:59.021Z"
   },
   {
    "duration": 987,
    "start_time": "2022-09-07T12:08:59.046Z"
   },
   {
    "duration": 10,
    "start_time": "2022-09-07T12:09:00.043Z"
   },
   {
    "duration": 16,
    "start_time": "2022-09-07T12:09:00.058Z"
   },
   {
    "duration": 38,
    "start_time": "2022-09-07T12:09:00.075Z"
   },
   {
    "duration": 12,
    "start_time": "2022-09-07T12:09:00.115Z"
   },
   {
    "duration": 50,
    "start_time": "2022-09-07T12:09:00.128Z"
   },
   {
    "duration": 23,
    "start_time": "2022-09-07T12:09:00.180Z"
   },
   {
    "duration": 17,
    "start_time": "2022-09-07T12:09:00.204Z"
   },
   {
    "duration": 7,
    "start_time": "2022-09-07T12:09:00.223Z"
   },
   {
    "duration": 18,
    "start_time": "2022-09-07T12:09:00.232Z"
   },
   {
    "duration": 22,
    "start_time": "2022-09-07T12:09:00.257Z"
   },
   {
    "duration": 17,
    "start_time": "2022-09-07T12:09:00.280Z"
   },
   {
    "duration": 22,
    "start_time": "2022-09-07T12:09:00.298Z"
   },
   {
    "duration": 21,
    "start_time": "2022-09-07T12:09:00.321Z"
   },
   {
    "duration": 43,
    "start_time": "2022-09-07T12:09:00.343Z"
   },
   {
    "duration": 19,
    "start_time": "2022-09-07T12:09:00.388Z"
   },
   {
    "duration": 19,
    "start_time": "2022-09-07T12:09:00.408Z"
   },
   {
    "duration": 44,
    "start_time": "2022-09-07T12:09:00.428Z"
   },
   {
    "duration": 1195,
    "start_time": "2022-09-07T12:09:00.474Z"
   },
   {
    "duration": 81,
    "start_time": "2022-09-07T12:09:01.671Z"
   },
   {
    "duration": 51,
    "start_time": "2022-09-07T12:09:01.757Z"
   },
   {
    "duration": 3,
    "start_time": "2022-09-07T12:09:01.810Z"
   },
   {
    "duration": 151,
    "start_time": "2022-09-07T12:09:01.814Z"
   },
   {
    "duration": 45,
    "start_time": "2022-09-07T14:26:29.492Z"
   },
   {
    "duration": 424,
    "start_time": "2022-09-07T14:26:36.708Z"
   },
   {
    "duration": 101,
    "start_time": "2022-09-07T14:26:37.135Z"
   },
   {
    "duration": 20,
    "start_time": "2022-09-07T14:26:37.238Z"
   },
   {
    "duration": 1130,
    "start_time": "2022-09-07T14:26:37.260Z"
   },
   {
    "duration": 3,
    "start_time": "2022-09-07T14:26:38.392Z"
   },
   {
    "duration": 8,
    "start_time": "2022-09-07T14:26:38.396Z"
   },
   {
    "duration": 32,
    "start_time": "2022-09-07T14:26:38.407Z"
   },
   {
    "duration": 9,
    "start_time": "2022-09-07T14:26:38.442Z"
   },
   {
    "duration": 8,
    "start_time": "2022-09-07T14:26:38.453Z"
   },
   {
    "duration": 6,
    "start_time": "2022-09-07T14:26:38.463Z"
   },
   {
    "duration": 94,
    "start_time": "2022-09-07T14:26:38.471Z"
   },
   {
    "duration": 11,
    "start_time": "2022-09-07T14:26:38.566Z"
   },
   {
    "duration": 11,
    "start_time": "2022-09-07T14:26:38.578Z"
   },
   {
    "duration": 7,
    "start_time": "2022-09-07T14:26:38.591Z"
   },
   {
    "duration": 42,
    "start_time": "2022-09-07T14:26:38.599Z"
   },
   {
    "duration": 5,
    "start_time": "2022-09-07T14:26:38.644Z"
   },
   {
    "duration": 18,
    "start_time": "2022-09-07T14:26:38.651Z"
   },
   {
    "duration": 19,
    "start_time": "2022-09-07T14:26:38.671Z"
   },
   {
    "duration": 57,
    "start_time": "2022-09-07T14:26:38.693Z"
   },
   {
    "duration": 12,
    "start_time": "2022-09-07T14:26:38.752Z"
   },
   {
    "duration": 12,
    "start_time": "2022-09-07T14:26:38.766Z"
   },
   {
    "duration": 1197,
    "start_time": "2022-09-07T14:26:38.780Z"
   },
   {
    "duration": 53,
    "start_time": "2022-09-07T14:26:39.979Z"
   },
   {
    "duration": 51,
    "start_time": "2022-09-07T14:26:40.034Z"
   },
   {
    "duration": 5,
    "start_time": "2022-09-07T14:26:40.087Z"
   },
   {
    "duration": 117,
    "start_time": "2022-09-07T14:26:40.094Z"
   },
   {
    "duration": 14,
    "start_time": "2022-09-07T14:46:17.267Z"
   },
   {
    "duration": 13,
    "start_time": "2022-09-07T14:46:27.705Z"
   },
   {
    "duration": 13,
    "start_time": "2022-09-07T14:47:04.454Z"
   },
   {
    "duration": 349,
    "start_time": "2022-09-07T14:47:12.091Z"
   },
   {
    "duration": 63,
    "start_time": "2022-09-07T14:47:12.442Z"
   },
   {
    "duration": 15,
    "start_time": "2022-09-07T14:47:12.507Z"
   },
   {
    "duration": 911,
    "start_time": "2022-09-07T14:47:12.524Z"
   },
   {
    "duration": 3,
    "start_time": "2022-09-07T14:47:13.438Z"
   },
   {
    "duration": 14,
    "start_time": "2022-09-07T14:47:13.443Z"
   },
   {
    "duration": 17,
    "start_time": "2022-09-07T14:47:13.458Z"
   },
   {
    "duration": 15,
    "start_time": "2022-09-07T14:47:13.476Z"
   },
   {
    "duration": 15,
    "start_time": "2022-09-07T14:47:13.493Z"
   },
   {
    "duration": 16,
    "start_time": "2022-09-07T14:47:13.510Z"
   },
   {
    "duration": 14,
    "start_time": "2022-09-07T14:47:13.528Z"
   },
   {
    "duration": 8,
    "start_time": "2022-09-07T14:47:13.544Z"
   },
   {
    "duration": 7,
    "start_time": "2022-09-07T14:47:13.553Z"
   },
   {
    "duration": 7,
    "start_time": "2022-09-07T14:47:13.563Z"
   },
   {
    "duration": 11,
    "start_time": "2022-09-07T14:47:13.572Z"
   },
   {
    "duration": 4,
    "start_time": "2022-09-07T14:47:13.584Z"
   },
   {
    "duration": 18,
    "start_time": "2022-09-07T14:47:13.589Z"
   },
   {
    "duration": 35,
    "start_time": "2022-09-07T14:47:13.609Z"
   },
   {
    "duration": 29,
    "start_time": "2022-09-07T14:47:13.646Z"
   },
   {
    "duration": 12,
    "start_time": "2022-09-07T14:47:13.677Z"
   },
   {
    "duration": 19,
    "start_time": "2022-09-07T14:47:13.691Z"
   },
   {
    "duration": 1204,
    "start_time": "2022-09-07T14:47:13.713Z"
   },
   {
    "duration": 76,
    "start_time": "2022-09-07T14:47:14.919Z"
   },
   {
    "duration": 58,
    "start_time": "2022-09-07T14:47:14.996Z"
   },
   {
    "duration": 3,
    "start_time": "2022-09-07T14:47:15.056Z"
   },
   {
    "duration": 105,
    "start_time": "2022-09-07T14:47:15.061Z"
   },
   {
    "duration": 14,
    "start_time": "2022-09-07T14:48:03.701Z"
   },
   {
    "duration": 4,
    "start_time": "2022-09-07T14:48:51.595Z"
   },
   {
    "duration": 9,
    "start_time": "2022-09-07T14:48:57.261Z"
   },
   {
    "duration": 15,
    "start_time": "2022-09-07T14:50:29.149Z"
   },
   {
    "duration": 26,
    "start_time": "2022-09-07T14:51:09.884Z"
   },
   {
    "duration": 8,
    "start_time": "2022-09-07T14:53:08.729Z"
   },
   {
    "duration": 50,
    "start_time": "2022-09-07T14:57:53.591Z"
   },
   {
    "duration": 204,
    "start_time": "2022-09-07T14:58:43.711Z"
   },
   {
    "duration": 291,
    "start_time": "2022-09-07T14:59:09.118Z"
   },
   {
    "duration": 206,
    "start_time": "2022-09-07T14:59:36.209Z"
   },
   {
    "duration": 8,
    "start_time": "2022-09-07T15:01:06.914Z"
   },
   {
    "duration": 455,
    "start_time": "2022-09-07T15:01:48.798Z"
   },
   {
    "duration": 417,
    "start_time": "2022-09-07T15:11:15.412Z"
   },
   {
    "duration": 53,
    "start_time": "2022-09-07T15:11:15.830Z"
   },
   {
    "duration": 14,
    "start_time": "2022-09-07T15:11:15.884Z"
   },
   {
    "duration": 919,
    "start_time": "2022-09-07T15:11:15.900Z"
   },
   {
    "duration": 3,
    "start_time": "2022-09-07T15:11:16.821Z"
   },
   {
    "duration": 15,
    "start_time": "2022-09-07T15:11:16.825Z"
   },
   {
    "duration": 9,
    "start_time": "2022-09-07T15:11:16.841Z"
   },
   {
    "duration": 7,
    "start_time": "2022-09-07T15:11:16.851Z"
   },
   {
    "duration": 9,
    "start_time": "2022-09-07T15:11:16.860Z"
   },
   {
    "duration": 9,
    "start_time": "2022-09-07T15:11:16.870Z"
   },
   {
    "duration": 12,
    "start_time": "2022-09-07T15:11:16.881Z"
   },
   {
    "duration": 8,
    "start_time": "2022-09-07T15:11:16.894Z"
   },
   {
    "duration": 10,
    "start_time": "2022-09-07T15:11:16.903Z"
   },
   {
    "duration": 23,
    "start_time": "2022-09-07T15:11:16.915Z"
   },
   {
    "duration": 10,
    "start_time": "2022-09-07T15:11:16.939Z"
   },
   {
    "duration": 5,
    "start_time": "2022-09-07T15:11:16.951Z"
   },
   {
    "duration": 12,
    "start_time": "2022-09-07T15:11:16.957Z"
   },
   {
    "duration": 16,
    "start_time": "2022-09-07T15:11:16.971Z"
   },
   {
    "duration": 20,
    "start_time": "2022-09-07T15:11:16.989Z"
   },
   {
    "duration": 31,
    "start_time": "2022-09-07T15:11:17.011Z"
   },
   {
    "duration": 18,
    "start_time": "2022-09-07T15:11:17.043Z"
   },
   {
    "duration": 907,
    "start_time": "2022-09-07T15:11:17.062Z"
   },
   {
    "duration": 89,
    "start_time": "2022-09-07T15:31:05.474Z"
   },
   {
    "duration": 7,
    "start_time": "2022-09-07T15:31:30.474Z"
   },
   {
    "duration": 11,
    "start_time": "2022-09-07T15:31:46.026Z"
   },
   {
    "duration": 283,
    "start_time": "2022-09-07T15:36:01.216Z"
   },
   {
    "duration": 384,
    "start_time": "2022-09-07T15:49:40.951Z"
   },
   {
    "duration": 103,
    "start_time": "2022-09-07T15:50:23.119Z"
   },
   {
    "duration": 127,
    "start_time": "2022-09-07T15:51:10.623Z"
   },
   {
    "duration": 84,
    "start_time": "2022-09-07T15:51:26.732Z"
   },
   {
    "duration": 103,
    "start_time": "2022-09-07T15:57:15.080Z"
   },
   {
    "duration": 105,
    "start_time": "2022-09-07T16:01:50.948Z"
   },
   {
    "duration": 88,
    "start_time": "2022-09-07T16:02:57.728Z"
   },
   {
    "duration": 112,
    "start_time": "2022-09-07T16:04:54.283Z"
   },
   {
    "duration": 114,
    "start_time": "2022-09-07T16:05:09.084Z"
   },
   {
    "duration": 95,
    "start_time": "2022-09-07T16:05:20.399Z"
   },
   {
    "duration": 119,
    "start_time": "2022-09-07T16:05:29.668Z"
   },
   {
    "duration": 185,
    "start_time": "2022-09-07T16:05:46.265Z"
   },
   {
    "duration": 105,
    "start_time": "2022-09-07T16:06:03.035Z"
   },
   {
    "duration": 92,
    "start_time": "2022-09-07T16:06:12.479Z"
   },
   {
    "duration": 110,
    "start_time": "2022-09-07T16:06:26.078Z"
   },
   {
    "duration": 100,
    "start_time": "2022-09-07T16:06:42.830Z"
   },
   {
    "duration": 99,
    "start_time": "2022-09-07T16:06:51.651Z"
   },
   {
    "duration": 100,
    "start_time": "2022-09-07T16:07:00.284Z"
   },
   {
    "duration": 99,
    "start_time": "2022-09-07T16:07:14.843Z"
   },
   {
    "duration": 101,
    "start_time": "2022-09-07T16:07:26.484Z"
   },
   {
    "duration": 98,
    "start_time": "2022-09-07T16:14:16.158Z"
   },
   {
    "duration": 97,
    "start_time": "2022-09-07T16:14:25.809Z"
   },
   {
    "duration": 85,
    "start_time": "2022-09-07T16:14:41.497Z"
   },
   {
    "duration": 104,
    "start_time": "2022-09-07T16:14:55.782Z"
   },
   {
    "duration": 95,
    "start_time": "2022-09-07T16:15:06.249Z"
   },
   {
    "duration": 209,
    "start_time": "2022-09-07T16:15:50.047Z"
   },
   {
    "duration": 81,
    "start_time": "2022-09-07T16:16:32.605Z"
   },
   {
    "duration": 151,
    "start_time": "2022-09-07T16:17:20.633Z"
   },
   {
    "duration": 147,
    "start_time": "2022-09-07T16:17:40.350Z"
   },
   {
    "duration": 138,
    "start_time": "2022-09-07T16:18:20.050Z"
   },
   {
    "duration": 83,
    "start_time": "2022-09-07T16:18:27.527Z"
   },
   {
    "duration": 87,
    "start_time": "2022-09-07T16:18:51.592Z"
   },
   {
    "duration": 85,
    "start_time": "2022-09-07T16:18:58.576Z"
   },
   {
    "duration": 90,
    "start_time": "2022-09-07T16:19:21.015Z"
   },
   {
    "duration": 104,
    "start_time": "2022-09-07T16:20:10.050Z"
   },
   {
    "duration": 91,
    "start_time": "2022-09-07T16:20:26.764Z"
   },
   {
    "duration": 105,
    "start_time": "2022-09-07T16:27:35.363Z"
   },
   {
    "duration": 9,
    "start_time": "2022-09-07T16:32:41.262Z"
   },
   {
    "duration": 1250,
    "start_time": "2022-09-07T16:33:18.866Z"
   },
   {
    "duration": 48,
    "start_time": "2022-09-08T02:58:12.449Z"
   },
   {
    "duration": 398,
    "start_time": "2022-09-08T02:58:19.831Z"
   },
   {
    "duration": 95,
    "start_time": "2022-09-08T02:58:20.231Z"
   },
   {
    "duration": 16,
    "start_time": "2022-09-08T02:58:20.327Z"
   },
   {
    "duration": 1217,
    "start_time": "2022-09-08T02:58:20.345Z"
   },
   {
    "duration": 4,
    "start_time": "2022-09-08T02:58:21.564Z"
   },
   {
    "duration": 8,
    "start_time": "2022-09-08T02:58:21.570Z"
   },
   {
    "duration": 29,
    "start_time": "2022-09-08T02:58:21.580Z"
   },
   {
    "duration": 6,
    "start_time": "2022-09-08T02:58:21.611Z"
   },
   {
    "duration": 5,
    "start_time": "2022-09-08T02:58:21.619Z"
   },
   {
    "duration": 5,
    "start_time": "2022-09-08T02:58:21.627Z"
   },
   {
    "duration": 91,
    "start_time": "2022-09-08T02:58:21.633Z"
   },
   {
    "duration": 8,
    "start_time": "2022-09-08T02:58:21.727Z"
   },
   {
    "duration": 9,
    "start_time": "2022-09-08T02:58:21.737Z"
   },
   {
    "duration": 7,
    "start_time": "2022-09-08T02:58:21.747Z"
   },
   {
    "duration": 9,
    "start_time": "2022-09-08T02:58:21.756Z"
   },
   {
    "duration": 4,
    "start_time": "2022-09-08T02:58:21.767Z"
   },
   {
    "duration": 13,
    "start_time": "2022-09-08T02:58:21.802Z"
   },
   {
    "duration": 11,
    "start_time": "2022-09-08T02:58:21.816Z"
   },
   {
    "duration": 21,
    "start_time": "2022-09-08T02:58:21.829Z"
   },
   {
    "duration": 12,
    "start_time": "2022-09-08T02:58:21.851Z"
   },
   {
    "duration": 10,
    "start_time": "2022-09-08T02:58:21.865Z"
   },
   {
    "duration": 968,
    "start_time": "2022-09-08T02:58:21.876Z"
   },
   {
    "duration": 7,
    "start_time": "2022-09-08T02:58:22.845Z"
   },
   {
    "duration": 379,
    "start_time": "2022-09-08T02:58:22.854Z"
   },
   {
    "duration": 203,
    "start_time": "2022-09-08T02:58:23.234Z"
   },
   {
    "duration": 114,
    "start_time": "2022-09-08T02:58:55.253Z"
   },
   {
    "duration": 119,
    "start_time": "2022-09-08T02:59:27.492Z"
   },
   {
    "duration": 120,
    "start_time": "2022-09-08T03:00:42.011Z"
   },
   {
    "duration": 12,
    "start_time": "2022-09-08T03:02:19.091Z"
   },
   {
    "duration": 114,
    "start_time": "2022-09-08T03:04:24.145Z"
   },
   {
    "duration": 120,
    "start_time": "2022-09-08T03:04:34.825Z"
   },
   {
    "duration": 9,
    "start_time": "2022-09-08T03:13:06.647Z"
   },
   {
    "duration": 22,
    "start_time": "2022-09-08T03:13:22.567Z"
   },
   {
    "duration": 6,
    "start_time": "2022-09-08T03:14:38.279Z"
   },
   {
    "duration": 116,
    "start_time": "2022-09-08T03:14:50.958Z"
   },
   {
    "duration": 116,
    "start_time": "2022-09-08T03:15:11.056Z"
   },
   {
    "duration": 120,
    "start_time": "2022-09-08T03:17:00.885Z"
   },
   {
    "duration": 399,
    "start_time": "2022-09-08T03:17:14.123Z"
   },
   {
    "duration": 56,
    "start_time": "2022-09-08T03:17:14.524Z"
   },
   {
    "duration": 15,
    "start_time": "2022-09-08T03:17:14.582Z"
   },
   {
    "duration": 990,
    "start_time": "2022-09-08T03:17:14.599Z"
   },
   {
    "duration": 3,
    "start_time": "2022-09-08T03:17:15.591Z"
   },
   {
    "duration": 12,
    "start_time": "2022-09-08T03:17:15.596Z"
   },
   {
    "duration": 11,
    "start_time": "2022-09-08T03:17:15.610Z"
   },
   {
    "duration": 6,
    "start_time": "2022-09-08T03:17:15.622Z"
   },
   {
    "duration": 6,
    "start_time": "2022-09-08T03:17:15.630Z"
   },
   {
    "duration": 12,
    "start_time": "2022-09-08T03:17:15.638Z"
   },
   {
    "duration": 16,
    "start_time": "2022-09-08T03:17:15.651Z"
   },
   {
    "duration": 9,
    "start_time": "2022-09-08T03:17:15.668Z"
   },
   {
    "duration": 31,
    "start_time": "2022-09-08T03:17:15.678Z"
   },
   {
    "duration": 7,
    "start_time": "2022-09-08T03:17:15.712Z"
   },
   {
    "duration": 14,
    "start_time": "2022-09-08T03:17:15.720Z"
   },
   {
    "duration": 5,
    "start_time": "2022-09-08T03:17:15.736Z"
   },
   {
    "duration": 14,
    "start_time": "2022-09-08T03:17:15.742Z"
   },
   {
    "duration": 12,
    "start_time": "2022-09-08T03:17:15.757Z"
   },
   {
    "duration": 43,
    "start_time": "2022-09-08T03:17:15.770Z"
   },
   {
    "duration": 12,
    "start_time": "2022-09-08T03:17:15.815Z"
   },
   {
    "duration": 8,
    "start_time": "2022-09-08T03:17:15.829Z"
   },
   {
    "duration": 1019,
    "start_time": "2022-09-08T03:17:15.839Z"
   },
   {
    "duration": 8,
    "start_time": "2022-09-08T03:17:16.860Z"
   },
   {
    "duration": 332,
    "start_time": "2022-09-08T03:17:16.869Z"
   },
   {
    "duration": 125,
    "start_time": "2022-09-08T03:17:17.203Z"
   },
   {
    "duration": 117,
    "start_time": "2022-09-08T03:17:42.955Z"
   },
   {
    "duration": 187,
    "start_time": "2022-09-08T03:18:31.959Z"
   },
   {
    "duration": 46,
    "start_time": "2022-09-08T03:18:53.363Z"
   },
   {
    "duration": 118,
    "start_time": "2022-09-08T03:19:04.509Z"
   },
   {
    "duration": 12,
    "start_time": "2022-09-08T03:19:36.467Z"
   },
   {
    "duration": 10,
    "start_time": "2022-09-08T03:19:56.447Z"
   },
   {
    "duration": 116,
    "start_time": "2022-09-08T03:20:08.169Z"
   },
   {
    "duration": 121,
    "start_time": "2022-09-08T03:22:20.615Z"
   },
   {
    "duration": 123,
    "start_time": "2022-09-08T04:04:02.500Z"
   },
   {
    "duration": 116,
    "start_time": "2022-09-08T04:05:44.832Z"
   },
   {
    "duration": 4,
    "start_time": "2022-09-08T04:07:24.265Z"
   },
   {
    "duration": 2669,
    "start_time": "2022-09-08T04:07:36.485Z"
   },
   {
    "duration": 2653,
    "start_time": "2022-09-08T04:08:00.764Z"
   },
   {
    "duration": 890,
    "start_time": "2022-09-08T04:08:25.541Z"
   },
   {
    "duration": 131,
    "start_time": "2022-09-08T04:10:39.311Z"
   },
   {
    "duration": 126,
    "start_time": "2022-09-08T04:11:54.787Z"
   },
   {
    "duration": 122,
    "start_time": "2022-09-08T04:12:17.373Z"
   },
   {
    "duration": 109,
    "start_time": "2022-09-08T04:14:36.055Z"
   },
   {
    "duration": 4,
    "start_time": "2022-09-08T04:39:18.940Z"
   },
   {
    "duration": 3,
    "start_time": "2022-09-08T04:39:23.435Z"
   },
   {
    "duration": 111,
    "start_time": "2022-09-08T04:49:59.069Z"
   },
   {
    "duration": 30,
    "start_time": "2022-09-08T04:50:45.163Z"
   },
   {
    "duration": 50,
    "start_time": "2022-09-08T10:21:16.891Z"
   },
   {
    "duration": 6,
    "start_time": "2022-09-08T10:21:50.984Z"
   },
   {
    "duration": 1615,
    "start_time": "2022-09-08T10:22:16.094Z"
   },
   {
    "duration": 8,
    "start_time": "2022-09-08T10:26:55.556Z"
   },
   {
    "duration": 56,
    "start_time": "2022-09-09T10:01:30.395Z"
   },
   {
    "duration": 61,
    "start_time": "2022-09-09T10:01:48.502Z"
   },
   {
    "duration": 44,
    "start_time": "2022-09-09T10:02:02.695Z"
   },
   {
    "duration": 373,
    "start_time": "2022-09-09T10:02:09.832Z"
   },
   {
    "duration": 100,
    "start_time": "2022-09-09T10:02:10.207Z"
   },
   {
    "duration": 13,
    "start_time": "2022-09-09T10:02:10.309Z"
   },
   {
    "duration": 993,
    "start_time": "2022-09-09T10:02:10.324Z"
   },
   {
    "duration": 2,
    "start_time": "2022-09-09T10:02:11.320Z"
   },
   {
    "duration": 14,
    "start_time": "2022-09-09T10:02:11.324Z"
   },
   {
    "duration": 18,
    "start_time": "2022-09-09T10:02:11.340Z"
   },
   {
    "duration": 6,
    "start_time": "2022-09-09T10:02:11.359Z"
   },
   {
    "duration": 6,
    "start_time": "2022-09-09T10:02:11.366Z"
   },
   {
    "duration": 6,
    "start_time": "2022-09-09T10:02:11.373Z"
   },
   {
    "duration": 14,
    "start_time": "2022-09-09T10:02:11.380Z"
   },
   {
    "duration": 55,
    "start_time": "2022-09-09T10:02:11.396Z"
   },
   {
    "duration": 9,
    "start_time": "2022-09-09T10:02:11.453Z"
   },
   {
    "duration": 14,
    "start_time": "2022-09-09T10:02:11.465Z"
   },
   {
    "duration": 12,
    "start_time": "2022-09-09T10:02:11.480Z"
   },
   {
    "duration": 3,
    "start_time": "2022-09-09T10:02:11.493Z"
   },
   {
    "duration": 15,
    "start_time": "2022-09-09T10:02:11.498Z"
   },
   {
    "duration": 10,
    "start_time": "2022-09-09T10:02:11.514Z"
   },
   {
    "duration": 18,
    "start_time": "2022-09-09T10:02:11.525Z"
   },
   {
    "duration": 12,
    "start_time": "2022-09-09T10:02:11.544Z"
   },
   {
    "duration": 21,
    "start_time": "2022-09-09T10:02:11.557Z"
   },
   {
    "duration": 846,
    "start_time": "2022-09-09T10:02:11.580Z"
   },
   {
    "duration": 6,
    "start_time": "2022-09-09T10:02:12.427Z"
   },
   {
    "duration": 328,
    "start_time": "2022-09-09T10:02:12.435Z"
   },
   {
    "duration": 118,
    "start_time": "2022-09-09T10:02:12.764Z"
   },
   {
    "duration": 0,
    "start_time": "2022-09-09T10:02:12.883Z"
   },
   {
    "duration": 0,
    "start_time": "2022-09-09T10:02:12.884Z"
   },
   {
    "duration": 1,
    "start_time": "2022-09-09T10:02:12.884Z"
   },
   {
    "duration": 0,
    "start_time": "2022-09-09T10:02:12.885Z"
   },
   {
    "duration": 3,
    "start_time": "2022-09-09T11:17:24.588Z"
   },
   {
    "duration": 2,
    "start_time": "2022-09-09T11:21:45.735Z"
   },
   {
    "duration": 104,
    "start_time": "2022-09-09T11:23:03.847Z"
   },
   {
    "duration": 6,
    "start_time": "2022-09-09T11:26:22.074Z"
   },
   {
    "duration": 234,
    "start_time": "2022-09-09T11:26:23.357Z"
   },
   {
    "duration": 9,
    "start_time": "2022-09-09T11:26:33.723Z"
   },
   {
    "duration": 6,
    "start_time": "2022-09-09T11:26:56.742Z"
   },
   {
    "duration": 227,
    "start_time": "2022-09-09T11:26:57.569Z"
   },
   {
    "duration": 3,
    "start_time": "2022-09-09T11:26:58.827Z"
   },
   {
    "duration": 12,
    "start_time": "2022-09-09T11:26:59.953Z"
   },
   {
    "duration": 22,
    "start_time": "2022-09-09T11:27:16.505Z"
   },
   {
    "duration": 96,
    "start_time": "2022-09-09T11:27:23.599Z"
   },
   {
    "duration": 3,
    "start_time": "2022-09-10T06:45:21.297Z"
   },
   {
    "duration": 428,
    "start_time": "2022-09-10T06:48:27.072Z"
   },
   {
    "duration": 92,
    "start_time": "2022-09-10T06:48:27.502Z"
   },
   {
    "duration": 13,
    "start_time": "2022-09-10T06:48:27.596Z"
   },
   {
    "duration": 1079,
    "start_time": "2022-09-10T06:48:27.611Z"
   },
   {
    "duration": 3,
    "start_time": "2022-09-10T06:48:28.692Z"
   },
   {
    "duration": 8,
    "start_time": "2022-09-10T06:48:28.696Z"
   },
   {
    "duration": 9,
    "start_time": "2022-09-10T06:48:28.706Z"
   },
   {
    "duration": 8,
    "start_time": "2022-09-10T06:48:28.716Z"
   },
   {
    "duration": 7,
    "start_time": "2022-09-10T06:48:28.725Z"
   },
   {
    "duration": 85,
    "start_time": "2022-09-10T06:48:28.735Z"
   },
   {
    "duration": 10,
    "start_time": "2022-09-10T06:48:28.821Z"
   },
   {
    "duration": 7,
    "start_time": "2022-09-10T06:48:28.832Z"
   },
   {
    "duration": 10,
    "start_time": "2022-09-10T06:48:28.841Z"
   },
   {
    "duration": 28,
    "start_time": "2022-09-10T06:48:28.852Z"
   },
   {
    "duration": 8,
    "start_time": "2022-09-10T06:48:28.881Z"
   },
   {
    "duration": 4,
    "start_time": "2022-09-10T06:48:28.890Z"
   },
   {
    "duration": 10,
    "start_time": "2022-09-10T06:48:28.896Z"
   },
   {
    "duration": 11,
    "start_time": "2022-09-10T06:48:28.907Z"
   },
   {
    "duration": 18,
    "start_time": "2022-09-10T06:48:28.919Z"
   },
   {
    "duration": 45,
    "start_time": "2022-09-10T06:48:28.938Z"
   },
   {
    "duration": 7,
    "start_time": "2022-09-10T06:48:28.985Z"
   },
   {
    "duration": 875,
    "start_time": "2022-09-10T06:48:28.994Z"
   },
   {
    "duration": 11,
    "start_time": "2022-09-10T06:48:29.870Z"
   },
   {
    "duration": 104,
    "start_time": "2022-09-10T06:48:29.883Z"
   },
   {
    "duration": 0,
    "start_time": "2022-09-10T06:48:29.989Z"
   },
   {
    "duration": 0,
    "start_time": "2022-09-10T06:48:29.990Z"
   },
   {
    "duration": 0,
    "start_time": "2022-09-10T06:48:29.991Z"
   },
   {
    "duration": 0,
    "start_time": "2022-09-10T06:48:29.993Z"
   },
   {
    "duration": 0,
    "start_time": "2022-09-10T06:48:29.994Z"
   },
   {
    "duration": 64,
    "start_time": "2022-09-10T06:56:31.872Z"
   },
   {
    "duration": 43,
    "start_time": "2022-09-10T06:56:49.213Z"
   },
   {
    "duration": 19,
    "start_time": "2022-09-10T06:57:01.431Z"
   },
   {
    "duration": 19,
    "start_time": "2022-09-10T06:58:05.193Z"
   },
   {
    "duration": 114,
    "start_time": "2022-09-10T06:58:32.666Z"
   },
   {
    "duration": 297,
    "start_time": "2022-09-10T06:59:00.091Z"
   },
   {
    "duration": 252,
    "start_time": "2022-09-10T06:59:29.607Z"
   },
   {
    "duration": 12,
    "start_time": "2022-09-10T07:04:42.805Z"
   },
   {
    "duration": 8,
    "start_time": "2022-09-10T07:05:00.085Z"
   },
   {
    "duration": 8,
    "start_time": "2022-09-10T07:05:33.015Z"
   },
   {
    "duration": 10,
    "start_time": "2022-09-10T07:06:37.055Z"
   },
   {
    "duration": 8,
    "start_time": "2022-09-10T07:07:19.096Z"
   },
   {
    "duration": 9,
    "start_time": "2022-09-10T07:11:43.431Z"
   },
   {
    "duration": 151,
    "start_time": "2022-09-10T07:11:54.756Z"
   },
   {
    "duration": 123,
    "start_time": "2022-09-10T07:12:23.912Z"
   },
   {
    "duration": 125,
    "start_time": "2022-09-10T07:12:43.497Z"
   },
   {
    "duration": 122,
    "start_time": "2022-09-10T07:13:30.817Z"
   },
   {
    "duration": 130,
    "start_time": "2022-09-10T07:14:16.653Z"
   },
   {
    "duration": 9,
    "start_time": "2022-09-10T07:14:29.757Z"
   },
   {
    "duration": 10,
    "start_time": "2022-09-10T07:22:28.333Z"
   },
   {
    "duration": 5,
    "start_time": "2022-09-10T07:25:23.678Z"
   },
   {
    "duration": 7,
    "start_time": "2022-09-10T07:25:31.178Z"
   },
   {
    "duration": 9,
    "start_time": "2022-09-10T07:26:47.889Z"
   },
   {
    "duration": 7,
    "start_time": "2022-09-10T07:28:02.101Z"
   },
   {
    "duration": 5,
    "start_time": "2022-09-10T07:28:21.799Z"
   },
   {
    "duration": 6,
    "start_time": "2022-09-10T07:28:32.619Z"
   },
   {
    "duration": 57,
    "start_time": "2022-09-10T07:30:08.509Z"
   },
   {
    "duration": 14,
    "start_time": "2022-09-10T07:37:34.630Z"
   },
   {
    "duration": 106,
    "start_time": "2022-09-10T07:37:53.421Z"
   },
   {
    "duration": 186,
    "start_time": "2022-09-10T07:46:50.657Z"
   },
   {
    "duration": 68,
    "start_time": "2022-09-10T07:47:08.742Z"
   },
   {
    "duration": 10,
    "start_time": "2022-09-10T07:47:37.623Z"
   },
   {
    "duration": 70,
    "start_time": "2022-09-10T07:47:58.477Z"
   },
   {
    "duration": 95,
    "start_time": "2022-09-10T07:53:21.744Z"
   },
   {
    "duration": 119,
    "start_time": "2022-09-10T07:53:47.324Z"
   },
   {
    "duration": 66,
    "start_time": "2022-09-10T07:53:55.543Z"
   },
   {
    "duration": 11,
    "start_time": "2022-09-10T07:54:08.264Z"
   },
   {
    "duration": 79,
    "start_time": "2022-09-10T07:54:27.009Z"
   },
   {
    "duration": 110,
    "start_time": "2022-09-10T07:54:46.585Z"
   },
   {
    "duration": 104,
    "start_time": "2022-09-10T07:55:47.834Z"
   },
   {
    "duration": 11,
    "start_time": "2022-09-10T07:56:07.744Z"
   },
   {
    "duration": 115,
    "start_time": "2022-09-10T07:56:44.379Z"
   },
   {
    "duration": 110,
    "start_time": "2022-09-10T07:56:50.784Z"
   },
   {
    "duration": 140,
    "start_time": "2022-09-10T07:56:55.184Z"
   },
   {
    "duration": 350,
    "start_time": "2022-09-10T07:57:04.522Z"
   },
   {
    "duration": 51,
    "start_time": "2022-09-10T07:57:04.874Z"
   },
   {
    "duration": 12,
    "start_time": "2022-09-10T07:57:04.926Z"
   },
   {
    "duration": 950,
    "start_time": "2022-09-10T07:57:04.940Z"
   },
   {
    "duration": 4,
    "start_time": "2022-09-10T07:57:05.892Z"
   },
   {
    "duration": 10,
    "start_time": "2022-09-10T07:57:05.897Z"
   },
   {
    "duration": 13,
    "start_time": "2022-09-10T07:57:05.909Z"
   },
   {
    "duration": 15,
    "start_time": "2022-09-10T07:57:05.924Z"
   },
   {
    "duration": 9,
    "start_time": "2022-09-10T07:57:05.940Z"
   },
   {
    "duration": 6,
    "start_time": "2022-09-10T07:57:05.950Z"
   },
   {
    "duration": 21,
    "start_time": "2022-09-10T07:57:05.957Z"
   },
   {
    "duration": 7,
    "start_time": "2022-09-10T07:57:05.980Z"
   },
   {
    "duration": 14,
    "start_time": "2022-09-10T07:57:05.988Z"
   },
   {
    "duration": 6,
    "start_time": "2022-09-10T07:57:06.005Z"
   },
   {
    "duration": 8,
    "start_time": "2022-09-10T07:57:06.013Z"
   },
   {
    "duration": 10,
    "start_time": "2022-09-10T07:57:06.022Z"
   },
   {
    "duration": 15,
    "start_time": "2022-09-10T07:57:06.033Z"
   },
   {
    "duration": 30,
    "start_time": "2022-09-10T07:57:06.049Z"
   },
   {
    "duration": 18,
    "start_time": "2022-09-10T07:57:06.081Z"
   },
   {
    "duration": 11,
    "start_time": "2022-09-10T07:57:06.101Z"
   },
   {
    "duration": 9,
    "start_time": "2022-09-10T07:57:06.114Z"
   },
   {
    "duration": 977,
    "start_time": "2022-09-10T07:57:06.124Z"
   },
   {
    "duration": 7,
    "start_time": "2022-09-10T07:57:07.103Z"
   },
   {
    "duration": 107,
    "start_time": "2022-09-10T07:57:07.112Z"
   },
   {
    "duration": 0,
    "start_time": "2022-09-10T07:57:07.220Z"
   },
   {
    "duration": 0,
    "start_time": "2022-09-10T07:57:07.221Z"
   },
   {
    "duration": 0,
    "start_time": "2022-09-10T07:57:07.223Z"
   },
   {
    "duration": 0,
    "start_time": "2022-09-10T07:57:07.224Z"
   },
   {
    "duration": 0,
    "start_time": "2022-09-10T07:57:07.225Z"
   },
   {
    "duration": 0,
    "start_time": "2022-09-10T07:57:07.226Z"
   },
   {
    "duration": 0,
    "start_time": "2022-09-10T07:57:07.227Z"
   },
   {
    "duration": 0,
    "start_time": "2022-09-10T07:57:07.228Z"
   },
   {
    "duration": 0,
    "start_time": "2022-09-10T07:57:07.229Z"
   },
   {
    "duration": 0,
    "start_time": "2022-09-10T07:57:07.230Z"
   },
   {
    "duration": 0,
    "start_time": "2022-09-10T07:57:07.232Z"
   },
   {
    "duration": 9,
    "start_time": "2022-09-10T07:57:19.237Z"
   },
   {
    "duration": 431,
    "start_time": "2022-09-10T11:08:36.418Z"
   },
   {
    "duration": 95,
    "start_time": "2022-09-10T11:08:36.851Z"
   },
   {
    "duration": 13,
    "start_time": "2022-09-10T11:08:36.948Z"
   },
   {
    "duration": 1114,
    "start_time": "2022-09-10T11:08:36.962Z"
   },
   {
    "duration": 3,
    "start_time": "2022-09-10T11:08:38.080Z"
   },
   {
    "duration": 33,
    "start_time": "2022-09-10T11:08:38.084Z"
   },
   {
    "duration": 27,
    "start_time": "2022-09-10T11:08:38.119Z"
   },
   {
    "duration": 30,
    "start_time": "2022-09-10T11:08:38.148Z"
   },
   {
    "duration": 29,
    "start_time": "2022-09-10T11:08:38.179Z"
   },
   {
    "duration": 39,
    "start_time": "2022-09-10T11:08:38.210Z"
   },
   {
    "duration": 40,
    "start_time": "2022-09-10T11:08:38.250Z"
   },
   {
    "duration": 69,
    "start_time": "2022-09-10T11:08:38.291Z"
   },
   {
    "duration": 41,
    "start_time": "2022-09-10T11:08:38.361Z"
   },
   {
    "duration": 41,
    "start_time": "2022-09-10T11:08:38.404Z"
   },
   {
    "duration": 53,
    "start_time": "2022-09-10T11:08:38.447Z"
   },
   {
    "duration": 37,
    "start_time": "2022-09-10T11:08:38.502Z"
   },
   {
    "duration": 48,
    "start_time": "2022-09-10T11:08:38.542Z"
   },
   {
    "duration": 44,
    "start_time": "2022-09-10T11:08:38.592Z"
   },
   {
    "duration": 59,
    "start_time": "2022-09-10T11:08:38.638Z"
   },
   {
    "duration": 27,
    "start_time": "2022-09-10T11:08:38.699Z"
   },
   {
    "duration": 47,
    "start_time": "2022-09-10T11:08:38.728Z"
   },
   {
    "duration": 923,
    "start_time": "2022-09-10T11:08:38.777Z"
   },
   {
    "duration": 7,
    "start_time": "2022-09-10T11:08:39.701Z"
   },
   {
    "duration": 113,
    "start_time": "2022-09-10T11:08:39.709Z"
   },
   {
    "duration": 0,
    "start_time": "2022-09-10T11:08:39.823Z"
   },
   {
    "duration": 0,
    "start_time": "2022-09-10T11:08:39.825Z"
   },
   {
    "duration": 0,
    "start_time": "2022-09-10T11:08:39.826Z"
   },
   {
    "duration": 0,
    "start_time": "2022-09-10T11:08:39.827Z"
   },
   {
    "duration": 0,
    "start_time": "2022-09-10T11:08:39.828Z"
   },
   {
    "duration": 0,
    "start_time": "2022-09-10T11:08:39.836Z"
   },
   {
    "duration": 0,
    "start_time": "2022-09-10T11:08:39.837Z"
   },
   {
    "duration": 0,
    "start_time": "2022-09-10T11:08:39.838Z"
   },
   {
    "duration": 0,
    "start_time": "2022-09-10T11:08:39.840Z"
   },
   {
    "duration": 0,
    "start_time": "2022-09-10T11:08:39.841Z"
   },
   {
    "duration": 0,
    "start_time": "2022-09-10T11:08:39.841Z"
   },
   {
    "duration": 231,
    "start_time": "2022-09-10T11:08:56.673Z"
   },
   {
    "duration": 22,
    "start_time": "2022-09-10T11:09:16.150Z"
   },
   {
    "duration": 272,
    "start_time": "2022-09-10T11:09:24.549Z"
   },
   {
    "duration": 118,
    "start_time": "2022-09-10T11:10:00.275Z"
   },
   {
    "duration": 9,
    "start_time": "2022-09-10T11:10:06.046Z"
   },
   {
    "duration": 51,
    "start_time": "2022-09-10T11:10:09.846Z"
   },
   {
    "duration": 6,
    "start_time": "2022-09-10T11:10:15.753Z"
   },
   {
    "duration": 68,
    "start_time": "2022-09-10T11:10:23.181Z"
   },
   {
    "duration": 13,
    "start_time": "2022-09-10T11:10:31.751Z"
   },
   {
    "duration": 98,
    "start_time": "2022-09-10T11:21:53.167Z"
   },
   {
    "duration": 99,
    "start_time": "2022-09-10T11:22:11.416Z"
   },
   {
    "duration": 71,
    "start_time": "2022-09-10T11:23:54.626Z"
   },
   {
    "duration": 96,
    "start_time": "2022-09-10T11:25:07.442Z"
   },
   {
    "duration": 138,
    "start_time": "2022-09-10T11:25:49.732Z"
   },
   {
    "duration": 891,
    "start_time": "2022-09-10T11:27:02.099Z"
   },
   {
    "duration": 143,
    "start_time": "2022-09-10T11:27:51.992Z"
   },
   {
    "duration": 148,
    "start_time": "2022-09-10T11:28:07.116Z"
   },
   {
    "duration": 145,
    "start_time": "2022-09-10T11:28:17.253Z"
   },
   {
    "duration": 992,
    "start_time": "2022-09-10T11:28:49.017Z"
   },
   {
    "duration": 58,
    "start_time": "2022-09-10T11:29:01.046Z"
   },
   {
    "duration": 15,
    "start_time": "2022-09-10T11:29:11.534Z"
   },
   {
    "duration": 14,
    "start_time": "2022-09-10T11:29:37.764Z"
   },
   {
    "duration": 10,
    "start_time": "2022-09-10T11:34:18.670Z"
   },
   {
    "duration": 13,
    "start_time": "2022-09-10T11:34:32.533Z"
   },
   {
    "duration": 10,
    "start_time": "2022-09-10T11:35:33.683Z"
   },
   {
    "duration": 12,
    "start_time": "2022-09-10T11:35:45.566Z"
   },
   {
    "duration": 194,
    "start_time": "2022-09-10T11:37:09.918Z"
   },
   {
    "duration": 11,
    "start_time": "2022-09-10T11:37:25.600Z"
   },
   {
    "duration": 16,
    "start_time": "2022-09-10T11:38:03.545Z"
   },
   {
    "duration": 139,
    "start_time": "2022-09-10T11:38:21.100Z"
   },
   {
    "duration": 81,
    "start_time": "2022-09-10T11:39:08.151Z"
   },
   {
    "duration": 48,
    "start_time": "2022-09-10T11:42:28.397Z"
   },
   {
    "duration": 7,
    "start_time": "2022-09-10T11:42:50.815Z"
   },
   {
    "duration": 7,
    "start_time": "2022-09-10T11:50:16.351Z"
   },
   {
    "duration": 22,
    "start_time": "2022-09-10T11:51:26.553Z"
   },
   {
    "duration": 17,
    "start_time": "2022-09-10T11:51:57.789Z"
   },
   {
    "duration": 10,
    "start_time": "2022-09-10T12:18:10.497Z"
   },
   {
    "duration": 12,
    "start_time": "2022-09-10T12:18:59.774Z"
   },
   {
    "duration": 11,
    "start_time": "2022-09-10T12:20:03.696Z"
   },
   {
    "duration": 162,
    "start_time": "2022-09-10T12:20:30.083Z"
   },
   {
    "duration": 415,
    "start_time": "2022-09-10T12:20:53.878Z"
   },
   {
    "duration": 60,
    "start_time": "2022-09-10T12:21:51.091Z"
   },
   {
    "duration": 48,
    "start_time": "2022-09-10T12:21:56.544Z"
   },
   {
    "duration": 270,
    "start_time": "2022-09-10T12:22:05.895Z"
   },
   {
    "duration": 137,
    "start_time": "2022-09-10T12:22:12.574Z"
   },
   {
    "duration": 80,
    "start_time": "2022-09-10T12:25:55.164Z"
   },
   {
    "duration": 173,
    "start_time": "2022-09-10T12:26:55.260Z"
   },
   {
    "duration": 17,
    "start_time": "2022-09-10T12:29:51.994Z"
   },
   {
    "duration": 104,
    "start_time": "2022-09-10T12:30:11.861Z"
   },
   {
    "duration": 85,
    "start_time": "2022-09-10T12:32:15.097Z"
   },
   {
    "duration": 84,
    "start_time": "2022-09-10T12:32:42.153Z"
   },
   {
    "duration": 8,
    "start_time": "2022-09-10T12:35:47.161Z"
   },
   {
    "duration": 90,
    "start_time": "2022-09-10T12:36:34.827Z"
   },
   {
    "duration": 83,
    "start_time": "2022-09-10T12:37:29.928Z"
   },
   {
    "duration": 92,
    "start_time": "2022-09-10T12:37:49.130Z"
   },
   {
    "duration": 90,
    "start_time": "2022-09-10T12:48:22.306Z"
   },
   {
    "duration": 87,
    "start_time": "2022-09-10T12:49:24.050Z"
   },
   {
    "duration": 86,
    "start_time": "2022-09-10T12:52:55.897Z"
   },
   {
    "duration": 87,
    "start_time": "2022-09-10T12:54:30.748Z"
   },
   {
    "duration": 83,
    "start_time": "2022-09-10T12:55:08.814Z"
   },
   {
    "duration": 48,
    "start_time": "2022-09-10T13:03:36.977Z"
   },
   {
    "duration": 399,
    "start_time": "2022-09-11T04:37:12.640Z"
   },
   {
    "duration": 198,
    "start_time": "2022-09-11T04:37:13.041Z"
   },
   {
    "duration": 17,
    "start_time": "2022-09-11T04:37:13.241Z"
   },
   {
    "duration": 1232,
    "start_time": "2022-09-11T04:37:13.260Z"
   },
   {
    "duration": 4,
    "start_time": "2022-09-11T04:37:14.496Z"
   },
   {
    "duration": 19,
    "start_time": "2022-09-11T04:37:14.502Z"
   },
   {
    "duration": 13,
    "start_time": "2022-09-11T04:37:14.523Z"
   },
   {
    "duration": 9,
    "start_time": "2022-09-11T04:37:14.538Z"
   },
   {
    "duration": 9,
    "start_time": "2022-09-11T04:37:14.548Z"
   },
   {
    "duration": 7,
    "start_time": "2022-09-11T04:37:14.559Z"
   },
   {
    "duration": 15,
    "start_time": "2022-09-11T04:37:14.568Z"
   },
   {
    "duration": 68,
    "start_time": "2022-09-11T04:37:14.592Z"
   },
   {
    "duration": 8,
    "start_time": "2022-09-11T04:37:14.662Z"
   },
   {
    "duration": 24,
    "start_time": "2022-09-11T04:37:14.673Z"
   },
   {
    "duration": 11,
    "start_time": "2022-09-11T04:37:14.699Z"
   },
   {
    "duration": 6,
    "start_time": "2022-09-11T04:37:14.712Z"
   },
   {
    "duration": 18,
    "start_time": "2022-09-11T04:37:14.719Z"
   },
   {
    "duration": 14,
    "start_time": "2022-09-11T04:37:14.739Z"
   },
   {
    "duration": 52,
    "start_time": "2022-09-11T04:37:14.755Z"
   },
   {
    "duration": 14,
    "start_time": "2022-09-11T04:37:14.809Z"
   },
   {
    "duration": 15,
    "start_time": "2022-09-11T04:37:14.824Z"
   },
   {
    "duration": 993,
    "start_time": "2022-09-11T04:37:14.841Z"
   },
   {
    "duration": 8,
    "start_time": "2022-09-11T04:37:15.835Z"
   },
   {
    "duration": 287,
    "start_time": "2022-09-11T04:37:15.845Z"
   },
   {
    "duration": 2,
    "start_time": "2022-09-11T04:37:16.134Z"
   },
   {
    "duration": 6,
    "start_time": "2022-09-11T04:37:16.138Z"
   },
   {
    "duration": 26,
    "start_time": "2022-09-11T04:37:16.145Z"
   },
   {
    "duration": 20,
    "start_time": "2022-09-11T04:37:16.173Z"
   },
   {
    "duration": 347,
    "start_time": "2022-09-11T04:37:16.195Z"
   },
   {
    "duration": 140,
    "start_time": "2022-09-11T04:37:16.544Z"
   },
   {
    "duration": 11,
    "start_time": "2022-09-11T04:37:16.686Z"
   },
   {
    "duration": 61,
    "start_time": "2022-09-11T04:37:16.699Z"
   },
   {
    "duration": 6,
    "start_time": "2022-09-11T04:37:16.762Z"
   },
   {
    "duration": 138,
    "start_time": "2022-09-11T04:37:16.770Z"
   },
   {
    "duration": 121,
    "start_time": "2022-09-11T04:37:16.910Z"
   },
   {
    "duration": 113,
    "start_time": "2022-09-11T04:37:17.033Z"
   },
   {
    "duration": 72,
    "start_time": "2022-09-11T04:37:17.150Z"
   },
   {
    "duration": 76,
    "start_time": "2022-09-11T04:39:04.191Z"
   },
   {
    "duration": 110,
    "start_time": "2022-09-11T04:39:15.595Z"
   },
   {
    "duration": 14,
    "start_time": "2022-09-11T04:39:27.212Z"
   },
   {
    "duration": 49,
    "start_time": "2022-09-11T08:16:19.733Z"
   },
   {
    "duration": 363,
    "start_time": "2022-09-11T08:16:41.475Z"
   },
   {
    "duration": 182,
    "start_time": "2022-09-11T08:16:41.840Z"
   },
   {
    "duration": 17,
    "start_time": "2022-09-11T08:16:42.024Z"
   },
   {
    "duration": 1013,
    "start_time": "2022-09-11T08:16:42.042Z"
   },
   {
    "duration": 3,
    "start_time": "2022-09-11T08:16:43.057Z"
   },
   {
    "duration": 13,
    "start_time": "2022-09-11T08:16:43.062Z"
   },
   {
    "duration": 12,
    "start_time": "2022-09-11T08:16:43.077Z"
   },
   {
    "duration": 6,
    "start_time": "2022-09-11T08:16:43.091Z"
   },
   {
    "duration": 8,
    "start_time": "2022-09-11T08:16:43.099Z"
   },
   {
    "duration": 7,
    "start_time": "2022-09-11T08:16:43.109Z"
   },
   {
    "duration": 14,
    "start_time": "2022-09-11T08:16:43.118Z"
   },
   {
    "duration": 87,
    "start_time": "2022-09-11T08:16:43.134Z"
   },
   {
    "duration": 9,
    "start_time": "2022-09-11T08:16:43.223Z"
   },
   {
    "duration": 22,
    "start_time": "2022-09-11T08:16:43.236Z"
   },
   {
    "duration": 10,
    "start_time": "2022-09-11T08:16:43.260Z"
   },
   {
    "duration": 10,
    "start_time": "2022-09-11T08:16:43.271Z"
   },
   {
    "duration": 15,
    "start_time": "2022-09-11T08:16:43.282Z"
   },
   {
    "duration": 12,
    "start_time": "2022-09-11T08:16:43.298Z"
   },
   {
    "duration": 18,
    "start_time": "2022-09-11T08:16:43.313Z"
   },
   {
    "duration": 11,
    "start_time": "2022-09-11T08:16:43.354Z"
   },
   {
    "duration": 9,
    "start_time": "2022-09-11T08:16:43.367Z"
   },
   {
    "duration": 798,
    "start_time": "2022-09-11T08:16:43.378Z"
   },
   {
    "duration": 7,
    "start_time": "2022-09-11T08:16:44.178Z"
   },
   {
    "duration": 239,
    "start_time": "2022-09-11T08:16:44.187Z"
   },
   {
    "duration": 2,
    "start_time": "2022-09-11T08:16:44.427Z"
   },
   {
    "duration": 6,
    "start_time": "2022-09-11T08:16:44.430Z"
   },
   {
    "duration": 34,
    "start_time": "2022-09-11T08:16:44.437Z"
   },
   {
    "duration": 3,
    "start_time": "2022-09-11T08:16:44.472Z"
   },
   {
    "duration": 282,
    "start_time": "2022-09-11T08:16:44.476Z"
   },
   {
    "duration": 113,
    "start_time": "2022-09-11T08:16:44.759Z"
   },
   {
    "duration": 11,
    "start_time": "2022-09-11T08:16:44.874Z"
   },
   {
    "duration": 55,
    "start_time": "2022-09-11T08:16:44.887Z"
   },
   {
    "duration": 7,
    "start_time": "2022-09-11T08:16:44.955Z"
   },
   {
    "duration": 112,
    "start_time": "2022-09-11T08:16:44.963Z"
   },
   {
    "duration": 94,
    "start_time": "2022-09-11T08:16:45.077Z"
   },
   {
    "duration": 97,
    "start_time": "2022-09-11T08:16:45.173Z"
   },
   {
    "duration": 103,
    "start_time": "2022-09-11T08:16:45.271Z"
   },
   {
    "duration": 9,
    "start_time": "2022-09-11T08:19:19.013Z"
   },
   {
    "duration": 6,
    "start_time": "2022-09-11T08:26:43.445Z"
   },
   {
    "duration": 9,
    "start_time": "2022-09-11T08:28:52.928Z"
   },
   {
    "duration": 4,
    "start_time": "2022-09-11T08:29:18.911Z"
   },
   {
    "duration": 4,
    "start_time": "2022-09-11T08:31:09.412Z"
   },
   {
    "duration": 352,
    "start_time": "2022-09-11T08:31:17.303Z"
   },
   {
    "duration": 49,
    "start_time": "2022-09-11T08:31:17.657Z"
   },
   {
    "duration": 14,
    "start_time": "2022-09-11T08:31:17.708Z"
   },
   {
    "duration": 863,
    "start_time": "2022-09-11T08:31:17.724Z"
   },
   {
    "duration": 3,
    "start_time": "2022-09-11T08:31:18.589Z"
   },
   {
    "duration": 7,
    "start_time": "2022-09-11T08:31:18.593Z"
   },
   {
    "duration": 10,
    "start_time": "2022-09-11T08:31:18.601Z"
   },
   {
    "duration": 5,
    "start_time": "2022-09-11T08:31:18.612Z"
   },
   {
    "duration": 8,
    "start_time": "2022-09-11T08:31:18.618Z"
   },
   {
    "duration": 7,
    "start_time": "2022-09-11T08:31:18.628Z"
   },
   {
    "duration": 25,
    "start_time": "2022-09-11T08:31:18.636Z"
   },
   {
    "duration": 7,
    "start_time": "2022-09-11T08:31:18.662Z"
   },
   {
    "duration": 9,
    "start_time": "2022-09-11T08:31:18.670Z"
   },
   {
    "duration": 6,
    "start_time": "2022-09-11T08:31:18.680Z"
   },
   {
    "duration": 8,
    "start_time": "2022-09-11T08:31:18.687Z"
   },
   {
    "duration": 9,
    "start_time": "2022-09-11T08:31:18.696Z"
   },
   {
    "duration": 3,
    "start_time": "2022-09-11T08:31:18.706Z"
   },
   {
    "duration": 9,
    "start_time": "2022-09-11T08:31:18.711Z"
   },
   {
    "duration": 10,
    "start_time": "2022-09-11T08:31:18.721Z"
   },
   {
    "duration": 38,
    "start_time": "2022-09-11T08:31:18.732Z"
   },
   {
    "duration": 10,
    "start_time": "2022-09-11T08:31:18.772Z"
   },
   {
    "duration": 6,
    "start_time": "2022-09-11T08:31:18.783Z"
   },
   {
    "duration": 859,
    "start_time": "2022-09-11T08:31:18.790Z"
   },
   {
    "duration": 9,
    "start_time": "2022-09-11T08:31:19.651Z"
   },
   {
    "duration": 228,
    "start_time": "2022-09-11T08:31:19.661Z"
   },
   {
    "duration": 2,
    "start_time": "2022-09-11T08:31:19.890Z"
   },
   {
    "duration": 6,
    "start_time": "2022-09-11T08:31:19.894Z"
   },
   {
    "duration": 22,
    "start_time": "2022-09-11T08:31:19.903Z"
   },
   {
    "duration": 2,
    "start_time": "2022-09-11T08:31:19.927Z"
   },
   {
    "duration": 293,
    "start_time": "2022-09-11T08:31:19.931Z"
   },
   {
    "duration": 109,
    "start_time": "2022-09-11T08:31:20.225Z"
   },
   {
    "duration": 8,
    "start_time": "2022-09-11T08:31:20.335Z"
   },
   {
    "duration": 61,
    "start_time": "2022-09-11T08:31:20.345Z"
   },
   {
    "duration": 5,
    "start_time": "2022-09-11T08:31:20.407Z"
   },
   {
    "duration": 100,
    "start_time": "2022-09-11T08:31:20.413Z"
   },
   {
    "duration": 91,
    "start_time": "2022-09-11T08:31:20.515Z"
   },
   {
    "duration": 98,
    "start_time": "2022-09-11T08:31:20.607Z"
   },
   {
    "duration": 5,
    "start_time": "2022-09-11T08:31:20.706Z"
   },
   {
    "duration": 14,
    "start_time": "2022-09-11T08:31:20.712Z"
   },
   {
    "duration": 8,
    "start_time": "2022-09-11T08:31:33.230Z"
   },
   {
    "duration": 4,
    "start_time": "2022-09-11T08:31:51.595Z"
   },
   {
    "duration": 86,
    "start_time": "2022-09-11T08:32:19.848Z"
   },
   {
    "duration": 7,
    "start_time": "2022-09-11T08:38:59.358Z"
   },
   {
    "duration": 7,
    "start_time": "2022-09-11T08:42:03.815Z"
   },
   {
    "duration": 6,
    "start_time": "2022-09-11T08:42:26.314Z"
   },
   {
    "duration": 7,
    "start_time": "2022-09-11T08:42:55.142Z"
   },
   {
    "duration": 5,
    "start_time": "2022-09-11T08:44:38.060Z"
   },
   {
    "duration": 8,
    "start_time": "2022-09-11T08:45:21.208Z"
   },
   {
    "duration": 8,
    "start_time": "2022-09-11T08:45:27.530Z"
   },
   {
    "duration": 3,
    "start_time": "2022-09-11T08:45:32.340Z"
   },
   {
    "duration": 11,
    "start_time": "2022-09-11T08:45:52.345Z"
   },
   {
    "duration": 4,
    "start_time": "2022-09-11T08:46:02.884Z"
   },
   {
    "duration": 14,
    "start_time": "2022-09-11T08:49:49.642Z"
   },
   {
    "duration": 84,
    "start_time": "2022-09-11T08:49:55.093Z"
   },
   {
    "duration": 8,
    "start_time": "2022-09-11T08:53:05.141Z"
   },
   {
    "duration": 7,
    "start_time": "2022-09-11T08:53:57.213Z"
   },
   {
    "duration": 16,
    "start_time": "2022-09-11T08:55:23.065Z"
   },
   {
    "duration": 7,
    "start_time": "2022-09-11T09:03:02.334Z"
   },
   {
    "duration": 8,
    "start_time": "2022-09-11T09:03:58.441Z"
   },
   {
    "duration": 4,
    "start_time": "2022-09-11T09:04:00.124Z"
   },
   {
    "duration": 103,
    "start_time": "2022-09-11T09:04:37.982Z"
   },
   {
    "duration": 16,
    "start_time": "2022-09-11T09:04:45.025Z"
   },
   {
    "duration": 7,
    "start_time": "2022-09-11T09:18:59.346Z"
   },
   {
    "duration": 7,
    "start_time": "2022-09-11T09:19:52.908Z"
   },
   {
    "duration": 3,
    "start_time": "2022-09-11T09:23:58.518Z"
   },
   {
    "duration": 6,
    "start_time": "2022-09-11T09:23:59.865Z"
   },
   {
    "duration": 74,
    "start_time": "2022-09-11T09:29:12.729Z"
   },
   {
    "duration": 88,
    "start_time": "2022-09-11T09:29:28.275Z"
   },
   {
    "duration": 3,
    "start_time": "2022-09-11T09:29:35.257Z"
   },
   {
    "duration": 75,
    "start_time": "2022-09-11T09:29:36.246Z"
   },
   {
    "duration": 4,
    "start_time": "2022-09-11T09:29:45.282Z"
   },
   {
    "duration": 12,
    "start_time": "2022-09-11T09:30:08.795Z"
   },
   {
    "duration": 113,
    "start_time": "2022-09-11T09:31:04.176Z"
   },
   {
    "duration": 75,
    "start_time": "2022-09-11T09:32:06.563Z"
   },
   {
    "duration": 7,
    "start_time": "2022-09-11T09:33:14.814Z"
   },
   {
    "duration": 1300,
    "start_time": "2022-09-11T09:38:24.448Z"
   },
   {
    "duration": 6240,
    "start_time": "2022-09-11T09:40:26.945Z"
   },
   {
    "duration": 352,
    "start_time": "2022-09-11T09:40:39.172Z"
   },
   {
    "duration": 48,
    "start_time": "2022-09-11T09:40:39.525Z"
   },
   {
    "duration": 13,
    "start_time": "2022-09-11T09:40:39.574Z"
   },
   {
    "duration": 936,
    "start_time": "2022-09-11T09:40:39.588Z"
   },
   {
    "duration": 3,
    "start_time": "2022-09-11T09:40:40.526Z"
   },
   {
    "duration": 7,
    "start_time": "2022-09-11T09:40:40.530Z"
   },
   {
    "duration": 17,
    "start_time": "2022-09-11T09:40:40.538Z"
   },
   {
    "duration": 5,
    "start_time": "2022-09-11T09:40:40.557Z"
   },
   {
    "duration": 7,
    "start_time": "2022-09-11T09:40:40.563Z"
   },
   {
    "duration": 5,
    "start_time": "2022-09-11T09:40:40.572Z"
   },
   {
    "duration": 9,
    "start_time": "2022-09-11T09:40:40.578Z"
   },
   {
    "duration": 7,
    "start_time": "2022-09-11T09:40:40.589Z"
   },
   {
    "duration": 7,
    "start_time": "2022-09-11T09:40:40.597Z"
   },
   {
    "duration": 6,
    "start_time": "2022-09-11T09:40:40.606Z"
   },
   {
    "duration": 41,
    "start_time": "2022-09-11T09:40:40.614Z"
   },
   {
    "duration": 4,
    "start_time": "2022-09-11T09:40:40.657Z"
   },
   {
    "duration": 11,
    "start_time": "2022-09-11T09:40:40.663Z"
   },
   {
    "duration": 10,
    "start_time": "2022-09-11T09:40:40.675Z"
   },
   {
    "duration": 20,
    "start_time": "2022-09-11T09:40:40.687Z"
   },
   {
    "duration": 11,
    "start_time": "2022-09-11T09:40:40.709Z"
   },
   {
    "duration": 34,
    "start_time": "2022-09-11T09:40:40.721Z"
   },
   {
    "duration": 850,
    "start_time": "2022-09-11T09:40:40.757Z"
   },
   {
    "duration": 8,
    "start_time": "2022-09-11T09:40:41.609Z"
   },
   {
    "duration": 232,
    "start_time": "2022-09-11T09:40:41.618Z"
   },
   {
    "duration": 2,
    "start_time": "2022-09-11T09:40:41.855Z"
   },
   {
    "duration": 6,
    "start_time": "2022-09-11T09:40:41.859Z"
   },
   {
    "duration": 25,
    "start_time": "2022-09-11T09:40:41.866Z"
   },
   {
    "duration": 3,
    "start_time": "2022-09-11T09:40:41.894Z"
   },
   {
    "duration": 296,
    "start_time": "2022-09-11T09:40:41.898Z"
   },
   {
    "duration": 114,
    "start_time": "2022-09-11T09:40:42.195Z"
   },
   {
    "duration": 8,
    "start_time": "2022-09-11T09:40:42.310Z"
   },
   {
    "duration": 56,
    "start_time": "2022-09-11T09:40:42.319Z"
   },
   {
    "duration": 6,
    "start_time": "2022-09-11T09:40:42.376Z"
   },
   {
    "duration": 93,
    "start_time": "2022-09-11T09:40:42.383Z"
   },
   {
    "duration": 90,
    "start_time": "2022-09-11T09:40:42.478Z"
   },
   {
    "duration": 96,
    "start_time": "2022-09-11T09:40:42.570Z"
   },
   {
    "duration": 3,
    "start_time": "2022-09-11T09:40:42.667Z"
   },
   {
    "duration": 12,
    "start_time": "2022-09-11T09:40:42.671Z"
   },
   {
    "duration": 1982,
    "start_time": "2022-09-11T09:40:42.684Z"
   },
   {
    "duration": 15,
    "start_time": "2022-09-11T09:41:35.773Z"
   },
   {
    "duration": 6,
    "start_time": "2022-09-11T09:42:02.705Z"
   },
   {
    "duration": 14,
    "start_time": "2022-09-11T09:42:08.526Z"
   },
   {
    "duration": 20,
    "start_time": "2022-09-11T09:42:46.725Z"
   },
   {
    "duration": 16,
    "start_time": "2022-09-11T09:43:35.027Z"
   },
   {
    "duration": 7,
    "start_time": "2022-09-11T09:43:39.402Z"
   },
   {
    "duration": 11,
    "start_time": "2022-09-11T09:44:35.686Z"
   },
   {
    "duration": 15,
    "start_time": "2022-09-11T09:44:50.425Z"
   },
   {
    "duration": 378,
    "start_time": "2022-09-11T09:44:58.445Z"
   },
   {
    "duration": 48,
    "start_time": "2022-09-11T09:44:58.825Z"
   },
   {
    "duration": 12,
    "start_time": "2022-09-11T09:44:58.875Z"
   },
   {
    "duration": 847,
    "start_time": "2022-09-11T09:44:58.889Z"
   },
   {
    "duration": 3,
    "start_time": "2022-09-11T09:44:59.738Z"
   },
   {
    "duration": 14,
    "start_time": "2022-09-11T09:44:59.742Z"
   },
   {
    "duration": 9,
    "start_time": "2022-09-11T09:44:59.757Z"
   },
   {
    "duration": 6,
    "start_time": "2022-09-11T09:44:59.767Z"
   },
   {
    "duration": 8,
    "start_time": "2022-09-11T09:44:59.774Z"
   },
   {
    "duration": 8,
    "start_time": "2022-09-11T09:44:59.784Z"
   },
   {
    "duration": 13,
    "start_time": "2022-09-11T09:44:59.793Z"
   },
   {
    "duration": 7,
    "start_time": "2022-09-11T09:44:59.807Z"
   },
   {
    "duration": 6,
    "start_time": "2022-09-11T09:44:59.815Z"
   },
   {
    "duration": 7,
    "start_time": "2022-09-11T09:44:59.822Z"
   },
   {
    "duration": 27,
    "start_time": "2022-09-11T09:44:59.830Z"
   },
   {
    "duration": 3,
    "start_time": "2022-09-11T09:44:59.858Z"
   },
   {
    "duration": 9,
    "start_time": "2022-09-11T09:44:59.863Z"
   },
   {
    "duration": 9,
    "start_time": "2022-09-11T09:44:59.873Z"
   },
   {
    "duration": 20,
    "start_time": "2022-09-11T09:44:59.883Z"
   },
   {
    "duration": 12,
    "start_time": "2022-09-11T09:44:59.904Z"
   },
   {
    "duration": 9,
    "start_time": "2022-09-11T09:44:59.917Z"
   },
   {
    "duration": 876,
    "start_time": "2022-09-11T09:44:59.927Z"
   },
   {
    "duration": 7,
    "start_time": "2022-09-11T09:45:00.804Z"
   },
   {
    "duration": 244,
    "start_time": "2022-09-11T09:45:00.812Z"
   },
   {
    "duration": 2,
    "start_time": "2022-09-11T09:45:01.057Z"
   },
   {
    "duration": 16,
    "start_time": "2022-09-11T09:45:01.060Z"
   },
   {
    "duration": 25,
    "start_time": "2022-09-11T09:45:01.078Z"
   },
   {
    "duration": 3,
    "start_time": "2022-09-11T09:45:01.106Z"
   },
   {
    "duration": 292,
    "start_time": "2022-09-11T09:45:01.110Z"
   },
   {
    "duration": 118,
    "start_time": "2022-09-11T09:45:01.404Z"
   },
   {
    "duration": 8,
    "start_time": "2022-09-11T09:45:01.524Z"
   },
   {
    "duration": 64,
    "start_time": "2022-09-11T09:45:01.533Z"
   },
   {
    "duration": 6,
    "start_time": "2022-09-11T09:45:01.598Z"
   },
   {
    "duration": 94,
    "start_time": "2022-09-11T09:45:01.605Z"
   },
   {
    "duration": 92,
    "start_time": "2022-09-11T09:45:01.700Z"
   },
   {
    "duration": 105,
    "start_time": "2022-09-11T09:45:01.794Z"
   },
   {
    "duration": 2,
    "start_time": "2022-09-11T09:45:01.901Z"
   },
   {
    "duration": 25,
    "start_time": "2022-09-11T09:45:01.904Z"
   },
   {
    "duration": 110,
    "start_time": "2022-09-11T09:45:01.930Z"
   },
   {
    "duration": 12,
    "start_time": "2022-09-11T09:46:48.344Z"
   },
   {
    "duration": 6,
    "start_time": "2022-09-11T09:47:58.469Z"
   },
   {
    "duration": 12,
    "start_time": "2022-09-11T09:48:09.524Z"
   },
   {
    "duration": 15,
    "start_time": "2022-09-11T09:49:17.542Z"
   },
   {
    "duration": 8,
    "start_time": "2022-09-11T09:51:07.492Z"
   },
   {
    "duration": 7,
    "start_time": "2022-09-11T09:51:14.656Z"
   },
   {
    "duration": 73,
    "start_time": "2022-09-11T09:54:18.278Z"
   },
   {
    "duration": 67,
    "start_time": "2022-09-11T09:54:18.859Z"
   },
   {
    "duration": 6,
    "start_time": "2022-09-11T09:58:09.674Z"
   },
   {
    "duration": 12,
    "start_time": "2022-09-11T09:58:33.538Z"
   },
   {
    "duration": 25,
    "start_time": "2022-09-11T10:02:05.841Z"
   },
   {
    "duration": 16,
    "start_time": "2022-09-11T10:03:28.866Z"
   },
   {
    "duration": 78,
    "start_time": "2022-09-11T10:05:09.165Z"
   },
   {
    "duration": 7,
    "start_time": "2022-09-11T10:05:46.641Z"
   },
   {
    "duration": 6,
    "start_time": "2022-09-11T10:07:35.274Z"
   },
   {
    "duration": 6,
    "start_time": "2022-09-11T10:08:22.941Z"
   },
   {
    "duration": 401,
    "start_time": "2022-09-11T12:31:20.909Z"
   },
   {
    "duration": 50,
    "start_time": "2022-09-11T12:31:21.312Z"
   },
   {
    "duration": 12,
    "start_time": "2022-09-11T12:31:21.363Z"
   },
   {
    "duration": 839,
    "start_time": "2022-09-11T12:31:21.377Z"
   },
   {
    "duration": 3,
    "start_time": "2022-09-11T12:31:22.217Z"
   },
   {
    "duration": 7,
    "start_time": "2022-09-11T12:31:22.221Z"
   },
   {
    "duration": 8,
    "start_time": "2022-09-11T12:31:22.229Z"
   },
   {
    "duration": 4,
    "start_time": "2022-09-11T12:31:22.239Z"
   },
   {
    "duration": 8,
    "start_time": "2022-09-11T12:31:22.245Z"
   },
   {
    "duration": 4,
    "start_time": "2022-09-11T12:31:22.255Z"
   },
   {
    "duration": 11,
    "start_time": "2022-09-11T12:31:22.260Z"
   },
   {
    "duration": 6,
    "start_time": "2022-09-11T12:31:22.272Z"
   },
   {
    "duration": 32,
    "start_time": "2022-09-11T12:31:22.279Z"
   },
   {
    "duration": 14,
    "start_time": "2022-09-11T12:31:22.312Z"
   },
   {
    "duration": 12,
    "start_time": "2022-09-11T12:31:22.327Z"
   },
   {
    "duration": 3,
    "start_time": "2022-09-11T12:31:22.341Z"
   },
   {
    "duration": 14,
    "start_time": "2022-09-11T12:31:22.345Z"
   },
   {
    "duration": 9,
    "start_time": "2022-09-11T12:31:22.360Z"
   },
   {
    "duration": 17,
    "start_time": "2022-09-11T12:31:22.371Z"
   },
   {
    "duration": 23,
    "start_time": "2022-09-11T12:31:22.390Z"
   },
   {
    "duration": 10,
    "start_time": "2022-09-11T12:31:22.414Z"
   },
   {
    "duration": 876,
    "start_time": "2022-09-11T12:31:22.425Z"
   },
   {
    "duration": 10,
    "start_time": "2022-09-11T12:31:23.303Z"
   },
   {
    "duration": 234,
    "start_time": "2022-09-11T12:31:23.314Z"
   },
   {
    "duration": 2,
    "start_time": "2022-09-11T12:31:23.549Z"
   },
   {
    "duration": 8,
    "start_time": "2022-09-11T12:31:23.553Z"
   },
   {
    "duration": 21,
    "start_time": "2022-09-11T12:31:23.563Z"
   },
   {
    "duration": 3,
    "start_time": "2022-09-11T12:31:23.587Z"
   },
   {
    "duration": 219,
    "start_time": "2022-09-11T12:31:23.591Z"
   },
   {
    "duration": 160,
    "start_time": "2022-09-11T12:31:23.811Z"
   },
   {
    "duration": 7,
    "start_time": "2022-09-11T12:31:23.972Z"
   },
   {
    "duration": 63,
    "start_time": "2022-09-11T12:31:23.981Z"
   },
   {
    "duration": 6,
    "start_time": "2022-09-11T12:31:24.045Z"
   },
   {
    "duration": 94,
    "start_time": "2022-09-11T12:31:24.052Z"
   },
   {
    "duration": 97,
    "start_time": "2022-09-11T12:31:24.148Z"
   },
   {
    "duration": 99,
    "start_time": "2022-09-11T12:31:24.246Z"
   },
   {
    "duration": 3,
    "start_time": "2022-09-11T12:31:24.346Z"
   },
   {
    "duration": 10,
    "start_time": "2022-09-11T12:31:24.350Z"
   },
   {
    "duration": 6,
    "start_time": "2022-09-11T12:31:24.361Z"
   },
   {
    "duration": 170,
    "start_time": "2022-09-11T12:55:13.521Z"
   },
   {
    "duration": 353,
    "start_time": "2022-09-11T12:55:30.548Z"
   },
   {
    "duration": 52,
    "start_time": "2022-09-11T12:55:30.902Z"
   },
   {
    "duration": 13,
    "start_time": "2022-09-11T12:55:30.955Z"
   },
   {
    "duration": 917,
    "start_time": "2022-09-11T12:55:30.969Z"
   },
   {
    "duration": 3,
    "start_time": "2022-09-11T12:55:31.888Z"
   },
   {
    "duration": 16,
    "start_time": "2022-09-11T12:55:31.893Z"
   },
   {
    "duration": 13,
    "start_time": "2022-09-11T12:55:31.910Z"
   },
   {
    "duration": 8,
    "start_time": "2022-09-11T12:55:31.925Z"
   },
   {
    "duration": 6,
    "start_time": "2022-09-11T12:55:31.934Z"
   },
   {
    "duration": 9,
    "start_time": "2022-09-11T12:55:31.941Z"
   },
   {
    "duration": 18,
    "start_time": "2022-09-11T12:55:31.951Z"
   },
   {
    "duration": 6,
    "start_time": "2022-09-11T12:55:31.971Z"
   },
   {
    "duration": 10,
    "start_time": "2022-09-11T12:55:31.979Z"
   },
   {
    "duration": 20,
    "start_time": "2022-09-11T12:55:31.991Z"
   },
   {
    "duration": 13,
    "start_time": "2022-09-11T12:55:32.012Z"
   },
   {
    "duration": 5,
    "start_time": "2022-09-11T12:55:32.027Z"
   },
   {
    "duration": 15,
    "start_time": "2022-09-11T12:55:32.033Z"
   },
   {
    "duration": 17,
    "start_time": "2022-09-11T12:55:32.050Z"
   },
   {
    "duration": 25,
    "start_time": "2022-09-11T12:55:32.068Z"
   },
   {
    "duration": 18,
    "start_time": "2022-09-11T12:55:32.094Z"
   },
   {
    "duration": 153,
    "start_time": "2022-09-11T12:55:32.114Z"
   },
   {
    "duration": 0,
    "start_time": "2022-09-11T12:55:32.269Z"
   },
   {
    "duration": 0,
    "start_time": "2022-09-11T12:55:32.270Z"
   },
   {
    "duration": 0,
    "start_time": "2022-09-11T12:55:32.271Z"
   },
   {
    "duration": 0,
    "start_time": "2022-09-11T12:55:32.272Z"
   },
   {
    "duration": 0,
    "start_time": "2022-09-11T12:55:32.273Z"
   },
   {
    "duration": 0,
    "start_time": "2022-09-11T12:55:32.274Z"
   },
   {
    "duration": 0,
    "start_time": "2022-09-11T12:55:32.276Z"
   },
   {
    "duration": 0,
    "start_time": "2022-09-11T12:55:32.276Z"
   },
   {
    "duration": 0,
    "start_time": "2022-09-11T12:55:32.277Z"
   },
   {
    "duration": 0,
    "start_time": "2022-09-11T12:55:32.278Z"
   },
   {
    "duration": 0,
    "start_time": "2022-09-11T12:55:32.279Z"
   },
   {
    "duration": 0,
    "start_time": "2022-09-11T12:55:32.280Z"
   },
   {
    "duration": 0,
    "start_time": "2022-09-11T12:55:32.281Z"
   },
   {
    "duration": 0,
    "start_time": "2022-09-11T12:55:32.282Z"
   },
   {
    "duration": 0,
    "start_time": "2022-09-11T12:55:32.309Z"
   },
   {
    "duration": 0,
    "start_time": "2022-09-11T12:55:32.310Z"
   },
   {
    "duration": 0,
    "start_time": "2022-09-11T12:55:32.311Z"
   },
   {
    "duration": 0,
    "start_time": "2022-09-11T12:55:32.312Z"
   },
   {
    "duration": 0,
    "start_time": "2022-09-11T12:55:32.312Z"
   },
   {
    "duration": 57,
    "start_time": "2022-09-11T12:56:15.085Z"
   },
   {
    "duration": 419,
    "start_time": "2022-09-11T12:56:24.885Z"
   },
   {
    "duration": 52,
    "start_time": "2022-09-11T12:56:25.306Z"
   },
   {
    "duration": 14,
    "start_time": "2022-09-11T12:56:25.359Z"
   },
   {
    "duration": 905,
    "start_time": "2022-09-11T12:56:25.374Z"
   },
   {
    "duration": 3,
    "start_time": "2022-09-11T12:56:26.281Z"
   },
   {
    "duration": 6,
    "start_time": "2022-09-11T12:56:26.285Z"
   },
   {
    "duration": 22,
    "start_time": "2022-09-11T12:56:26.292Z"
   },
   {
    "duration": 6,
    "start_time": "2022-09-11T12:56:26.315Z"
   },
   {
    "duration": 6,
    "start_time": "2022-09-11T12:56:26.322Z"
   },
   {
    "duration": 6,
    "start_time": "2022-09-11T12:56:26.329Z"
   },
   {
    "duration": 13,
    "start_time": "2022-09-11T12:56:26.336Z"
   },
   {
    "duration": 8,
    "start_time": "2022-09-11T12:56:26.351Z"
   },
   {
    "duration": 8,
    "start_time": "2022-09-11T12:56:26.361Z"
   },
   {
    "duration": 37,
    "start_time": "2022-09-11T12:56:26.372Z"
   },
   {
    "duration": 10,
    "start_time": "2022-09-11T12:56:26.410Z"
   },
   {
    "duration": 5,
    "start_time": "2022-09-11T12:56:26.422Z"
   },
   {
    "duration": 10,
    "start_time": "2022-09-11T12:56:26.428Z"
   },
   {
    "duration": 14,
    "start_time": "2022-09-11T12:56:26.440Z"
   },
   {
    "duration": 54,
    "start_time": "2022-09-11T12:56:26.456Z"
   },
   {
    "duration": 11,
    "start_time": "2022-09-11T12:56:26.512Z"
   },
   {
    "duration": 92,
    "start_time": "2022-09-11T12:56:26.524Z"
   },
   {
    "duration": 6,
    "start_time": "2022-09-11T12:56:26.618Z"
   },
   {
    "duration": 916,
    "start_time": "2022-09-11T12:56:26.626Z"
   },
   {
    "duration": 7,
    "start_time": "2022-09-11T12:56:27.543Z"
   },
   {
    "duration": 241,
    "start_time": "2022-09-11T12:56:27.551Z"
   },
   {
    "duration": 2,
    "start_time": "2022-09-11T12:56:27.793Z"
   },
   {
    "duration": 13,
    "start_time": "2022-09-11T12:56:27.796Z"
   },
   {
    "duration": 21,
    "start_time": "2022-09-11T12:56:27.810Z"
   },
   {
    "duration": 3,
    "start_time": "2022-09-11T12:56:27.832Z"
   },
   {
    "duration": 282,
    "start_time": "2022-09-11T12:56:27.836Z"
   },
   {
    "duration": 107,
    "start_time": "2022-09-11T12:56:28.120Z"
   },
   {
    "duration": 12,
    "start_time": "2022-09-11T12:56:28.229Z"
   },
   {
    "duration": 67,
    "start_time": "2022-09-11T12:56:28.243Z"
   },
   {
    "duration": 5,
    "start_time": "2022-09-11T12:56:28.311Z"
   },
   {
    "duration": 97,
    "start_time": "2022-09-11T12:56:28.318Z"
   },
   {
    "duration": 101,
    "start_time": "2022-09-11T12:56:28.416Z"
   },
   {
    "duration": 104,
    "start_time": "2022-09-11T12:56:28.519Z"
   },
   {
    "duration": 2,
    "start_time": "2022-09-11T12:56:28.625Z"
   },
   {
    "duration": 9,
    "start_time": "2022-09-11T12:56:28.629Z"
   },
   {
    "duration": 8,
    "start_time": "2022-09-11T12:56:28.639Z"
   },
   {
    "duration": 17,
    "start_time": "2022-09-11T13:00:59.657Z"
   },
   {
    "duration": 12,
    "start_time": "2022-09-11T13:01:12.388Z"
   },
   {
    "duration": 6,
    "start_time": "2022-09-11T13:15:48.004Z"
   },
   {
    "duration": 6,
    "start_time": "2022-09-11T13:16:02.932Z"
   },
   {
    "duration": 6,
    "start_time": "2022-09-11T13:17:31.236Z"
   },
   {
    "duration": 5,
    "start_time": "2022-09-11T13:18:19.088Z"
   },
   {
    "duration": 42,
    "start_time": "2022-09-12T02:57:46.772Z"
   },
   {
    "duration": 414,
    "start_time": "2022-09-12T02:57:55.994Z"
   },
   {
    "duration": 92,
    "start_time": "2022-09-12T02:57:56.410Z"
   },
   {
    "duration": 15,
    "start_time": "2022-09-12T02:57:56.503Z"
   },
   {
    "duration": 1066,
    "start_time": "2022-09-12T02:57:56.520Z"
   },
   {
    "duration": 3,
    "start_time": "2022-09-12T02:57:57.588Z"
   },
   {
    "duration": 9,
    "start_time": "2022-09-12T02:57:57.593Z"
   },
   {
    "duration": 18,
    "start_time": "2022-09-12T02:57:57.604Z"
   },
   {
    "duration": 6,
    "start_time": "2022-09-12T02:57:57.624Z"
   },
   {
    "duration": 6,
    "start_time": "2022-09-12T02:57:57.631Z"
   },
   {
    "duration": 6,
    "start_time": "2022-09-12T02:57:57.639Z"
   },
   {
    "duration": 12,
    "start_time": "2022-09-12T02:57:57.646Z"
   },
   {
    "duration": 84,
    "start_time": "2022-09-12T02:57:57.660Z"
   },
   {
    "duration": 9,
    "start_time": "2022-09-12T02:57:57.746Z"
   },
   {
    "duration": 7,
    "start_time": "2022-09-12T02:57:57.757Z"
   },
   {
    "duration": 12,
    "start_time": "2022-09-12T02:57:57.765Z"
   },
   {
    "duration": 4,
    "start_time": "2022-09-12T02:57:57.779Z"
   },
   {
    "duration": 16,
    "start_time": "2022-09-12T02:57:57.785Z"
   },
   {
    "duration": 32,
    "start_time": "2022-09-12T02:57:57.802Z"
   },
   {
    "duration": 27,
    "start_time": "2022-09-12T02:57:57.835Z"
   },
   {
    "duration": 10,
    "start_time": "2022-09-12T02:57:57.864Z"
   },
   {
    "duration": 78,
    "start_time": "2022-09-12T02:57:57.876Z"
   },
   {
    "duration": 6,
    "start_time": "2022-09-12T02:57:57.956Z"
   },
   {
    "duration": 860,
    "start_time": "2022-09-12T02:57:57.964Z"
   },
   {
    "duration": 7,
    "start_time": "2022-09-12T02:57:58.826Z"
   },
   {
    "duration": 345,
    "start_time": "2022-09-12T02:57:58.835Z"
   },
   {
    "duration": 3,
    "start_time": "2022-09-12T02:57:59.182Z"
   },
   {
    "duration": 7,
    "start_time": "2022-09-12T02:57:59.186Z"
   },
   {
    "duration": 30,
    "start_time": "2022-09-12T02:57:59.194Z"
   },
   {
    "duration": 3,
    "start_time": "2022-09-12T02:57:59.225Z"
   },
   {
    "duration": 295,
    "start_time": "2022-09-12T02:57:59.230Z"
   },
   {
    "duration": 114,
    "start_time": "2022-09-12T02:57:59.527Z"
   },
   {
    "duration": 8,
    "start_time": "2022-09-12T02:57:59.644Z"
   },
   {
    "duration": 67,
    "start_time": "2022-09-12T02:57:59.653Z"
   },
   {
    "duration": 6,
    "start_time": "2022-09-12T02:57:59.722Z"
   },
   {
    "duration": 101,
    "start_time": "2022-09-12T02:57:59.729Z"
   },
   {
    "duration": 95,
    "start_time": "2022-09-12T02:57:59.832Z"
   },
   {
    "duration": 102,
    "start_time": "2022-09-12T02:57:59.928Z"
   },
   {
    "duration": 3,
    "start_time": "2022-09-12T02:58:00.031Z"
   },
   {
    "duration": 23,
    "start_time": "2022-09-12T02:58:00.036Z"
   },
   {
    "duration": 23,
    "start_time": "2022-09-12T02:58:00.061Z"
   },
   {
    "duration": 11,
    "start_time": "2022-09-12T02:58:00.086Z"
   },
   {
    "duration": 11,
    "start_time": "2022-09-12T02:58:00.099Z"
   },
   {
    "duration": 52,
    "start_time": "2022-09-12T03:10:19.975Z"
   },
   {
    "duration": 55,
    "start_time": "2022-09-12T03:10:43.203Z"
   },
   {
    "duration": 53,
    "start_time": "2022-09-12T03:11:20.341Z"
   },
   {
    "duration": 70,
    "start_time": "2022-09-12T03:12:18.212Z"
   },
   {
    "duration": 50,
    "start_time": "2022-09-12T03:12:24.510Z"
   },
   {
    "duration": 50,
    "start_time": "2022-09-12T03:15:23.796Z"
   },
   {
    "duration": 55,
    "start_time": "2022-09-12T03:16:37.145Z"
   },
   {
    "duration": 54,
    "start_time": "2022-09-12T04:41:49.211Z"
   },
   {
    "duration": 4,
    "start_time": "2022-09-12T04:45:43.825Z"
   },
   {
    "duration": 7,
    "start_time": "2022-09-12T04:47:25.809Z"
   },
   {
    "duration": 107,
    "start_time": "2022-09-12T04:49:14.765Z"
   },
   {
    "duration": 4,
    "start_time": "2022-09-12T04:49:39.428Z"
   },
   {
    "duration": 2,
    "start_time": "2022-09-12T04:49:58.204Z"
   },
   {
    "duration": 49,
    "start_time": "2022-09-12T04:49:59.084Z"
   },
   {
    "duration": 14,
    "start_time": "2022-09-12T04:49:59.973Z"
   },
   {
    "duration": 696,
    "start_time": "2022-09-12T04:50:01.926Z"
   },
   {
    "duration": 4,
    "start_time": "2022-09-12T04:50:07.895Z"
   },
   {
    "duration": 5,
    "start_time": "2022-09-12T04:50:14.460Z"
   },
   {
    "duration": 10,
    "start_time": "2022-09-12T04:50:19.600Z"
   },
   {
    "duration": 7,
    "start_time": "2022-09-12T04:50:28.145Z"
   },
   {
    "duration": 4,
    "start_time": "2022-09-12T04:50:34.358Z"
   },
   {
    "duration": 4,
    "start_time": "2022-09-12T04:51:20.754Z"
   },
   {
    "duration": 5,
    "start_time": "2022-09-12T04:51:32.615Z"
   },
   {
    "duration": 4,
    "start_time": "2022-09-12T04:57:04.901Z"
   },
   {
    "duration": 4,
    "start_time": "2022-09-12T05:00:24.368Z"
   },
   {
    "duration": 16,
    "start_time": "2022-09-12T05:00:32.038Z"
   },
   {
    "duration": 4,
    "start_time": "2022-09-12T05:00:36.973Z"
   },
   {
    "duration": 5,
    "start_time": "2022-09-12T05:00:38.025Z"
   },
   {
    "duration": 10,
    "start_time": "2022-09-12T05:00:51.684Z"
   },
   {
    "duration": 4,
    "start_time": "2022-09-12T05:00:52.728Z"
   },
   {
    "duration": 9,
    "start_time": "2022-09-12T05:00:57.389Z"
   },
   {
    "duration": 49,
    "start_time": "2022-09-12T05:03:05.986Z"
   },
   {
    "duration": 4,
    "start_time": "2022-09-12T05:04:22.402Z"
   },
   {
    "duration": 4,
    "start_time": "2022-09-12T05:04:24.063Z"
   },
   {
    "duration": 9,
    "start_time": "2022-09-12T05:04:25.132Z"
   },
   {
    "duration": 6,
    "start_time": "2022-09-12T05:04:36.195Z"
   },
   {
    "duration": 9,
    "start_time": "2022-09-12T05:04:40.488Z"
   },
   {
    "duration": 424,
    "start_time": "2022-09-12T05:05:18.806Z"
   },
   {
    "duration": 55,
    "start_time": "2022-09-12T05:05:19.232Z"
   },
   {
    "duration": 13,
    "start_time": "2022-09-12T05:05:19.288Z"
   },
   {
    "duration": 862,
    "start_time": "2022-09-12T05:05:19.303Z"
   },
   {
    "duration": 4,
    "start_time": "2022-09-12T05:05:20.166Z"
   },
   {
    "duration": 19,
    "start_time": "2022-09-12T05:05:20.171Z"
   },
   {
    "duration": 13,
    "start_time": "2022-09-12T05:05:20.191Z"
   },
   {
    "duration": 16,
    "start_time": "2022-09-12T05:05:20.206Z"
   },
   {
    "duration": 19,
    "start_time": "2022-09-12T05:05:20.224Z"
   },
   {
    "duration": 17,
    "start_time": "2022-09-12T05:05:20.246Z"
   },
   {
    "duration": 26,
    "start_time": "2022-09-12T05:05:20.265Z"
   },
   {
    "duration": 6,
    "start_time": "2022-09-12T05:05:20.293Z"
   },
   {
    "duration": 28,
    "start_time": "2022-09-12T05:05:20.301Z"
   },
   {
    "duration": 8,
    "start_time": "2022-09-12T05:05:20.331Z"
   },
   {
    "duration": 21,
    "start_time": "2022-09-12T05:05:20.340Z"
   },
   {
    "duration": 26,
    "start_time": "2022-09-12T05:05:20.363Z"
   },
   {
    "duration": 22,
    "start_time": "2022-09-12T05:05:20.391Z"
   },
   {
    "duration": 7,
    "start_time": "2022-09-12T05:05:20.415Z"
   },
   {
    "duration": 28,
    "start_time": "2022-09-12T05:05:20.424Z"
   },
   {
    "duration": 22,
    "start_time": "2022-09-12T05:05:20.454Z"
   },
   {
    "duration": 21,
    "start_time": "2022-09-12T05:05:20.477Z"
   },
   {
    "duration": 13,
    "start_time": "2022-09-12T05:05:20.500Z"
   },
   {
    "duration": 78,
    "start_time": "2022-09-12T05:05:20.514Z"
   },
   {
    "duration": 30,
    "start_time": "2022-09-12T05:05:20.594Z"
   },
   {
    "duration": 916,
    "start_time": "2022-09-12T05:05:20.626Z"
   },
   {
    "duration": 7,
    "start_time": "2022-09-12T05:05:21.543Z"
   },
   {
    "duration": 251,
    "start_time": "2022-09-12T05:05:21.551Z"
   },
   {
    "duration": 2,
    "start_time": "2022-09-12T05:05:21.805Z"
   },
   {
    "duration": 13,
    "start_time": "2022-09-12T05:05:21.809Z"
   },
   {
    "duration": 27,
    "start_time": "2022-09-12T05:05:21.823Z"
   },
   {
    "duration": 2,
    "start_time": "2022-09-12T05:05:21.852Z"
   },
   {
    "duration": 294,
    "start_time": "2022-09-12T05:05:21.856Z"
   },
   {
    "duration": 122,
    "start_time": "2022-09-12T05:05:22.152Z"
   },
   {
    "duration": 7,
    "start_time": "2022-09-12T05:05:22.275Z"
   },
   {
    "duration": 60,
    "start_time": "2022-09-12T05:05:22.284Z"
   },
   {
    "duration": 5,
    "start_time": "2022-09-12T05:05:22.346Z"
   },
   {
    "duration": 102,
    "start_time": "2022-09-12T05:05:22.353Z"
   },
   {
    "duration": 98,
    "start_time": "2022-09-12T05:05:22.457Z"
   },
   {
    "duration": 101,
    "start_time": "2022-09-12T05:05:22.557Z"
   },
   {
    "duration": 2,
    "start_time": "2022-09-12T05:05:22.659Z"
   },
   {
    "duration": 11,
    "start_time": "2022-09-12T05:05:22.662Z"
   },
   {
    "duration": 7,
    "start_time": "2022-09-12T05:05:22.674Z"
   },
   {
    "duration": 8,
    "start_time": "2022-09-12T05:05:22.682Z"
   },
   {
    "duration": 32,
    "start_time": "2022-09-12T05:05:22.692Z"
   },
   {
    "duration": 9,
    "start_time": "2022-09-12T05:08:05.746Z"
   },
   {
    "duration": 5,
    "start_time": "2022-09-12T05:08:17.141Z"
   },
   {
    "duration": 5,
    "start_time": "2022-09-12T05:08:18.684Z"
   },
   {
    "duration": 9,
    "start_time": "2022-09-12T05:08:19.613Z"
   },
   {
    "duration": 6,
    "start_time": "2022-09-12T05:09:48.559Z"
   },
   {
    "duration": 5,
    "start_time": "2022-09-12T05:09:56.089Z"
   },
   {
    "duration": 5,
    "start_time": "2022-09-12T05:09:56.725Z"
   },
   {
    "duration": 10,
    "start_time": "2022-09-12T05:09:59.198Z"
   },
   {
    "duration": 7,
    "start_time": "2022-09-12T05:10:30.053Z"
   },
   {
    "duration": 5,
    "start_time": "2022-09-12T05:10:33.207Z"
   },
   {
    "duration": 5,
    "start_time": "2022-09-12T05:10:34.205Z"
   },
   {
    "duration": 11,
    "start_time": "2022-09-12T05:10:36.051Z"
   },
   {
    "duration": 5,
    "start_time": "2022-09-12T05:12:30.254Z"
   },
   {
    "duration": 5,
    "start_time": "2022-09-12T05:12:32.289Z"
   },
   {
    "duration": 4,
    "start_time": "2022-09-12T05:12:32.903Z"
   },
   {
    "duration": 9,
    "start_time": "2022-09-12T05:12:33.848Z"
   },
   {
    "duration": 354,
    "start_time": "2022-09-12T05:12:43.770Z"
   },
   {
    "duration": 50,
    "start_time": "2022-09-12T05:12:44.125Z"
   },
   {
    "duration": 14,
    "start_time": "2022-09-12T05:12:44.176Z"
   },
   {
    "duration": 882,
    "start_time": "2022-09-12T05:12:44.192Z"
   },
   {
    "duration": 3,
    "start_time": "2022-09-12T05:12:45.076Z"
   },
   {
    "duration": 11,
    "start_time": "2022-09-12T05:12:45.081Z"
   },
   {
    "duration": 14,
    "start_time": "2022-09-12T05:12:45.094Z"
   },
   {
    "duration": 14,
    "start_time": "2022-09-12T05:12:45.110Z"
   },
   {
    "duration": 6,
    "start_time": "2022-09-12T05:12:45.125Z"
   },
   {
    "duration": 7,
    "start_time": "2022-09-12T05:12:45.133Z"
   },
   {
    "duration": 11,
    "start_time": "2022-09-12T05:12:45.141Z"
   },
   {
    "duration": 4,
    "start_time": "2022-09-12T05:12:45.153Z"
   },
   {
    "duration": 15,
    "start_time": "2022-09-12T05:12:45.158Z"
   },
   {
    "duration": 4,
    "start_time": "2022-09-12T05:12:45.174Z"
   },
   {
    "duration": 7,
    "start_time": "2022-09-12T05:12:45.179Z"
   },
   {
    "duration": 8,
    "start_time": "2022-09-12T05:12:45.187Z"
   },
   {
    "duration": 27,
    "start_time": "2022-09-12T05:12:45.196Z"
   },
   {
    "duration": 3,
    "start_time": "2022-09-12T05:12:45.225Z"
   },
   {
    "duration": 12,
    "start_time": "2022-09-12T05:12:45.230Z"
   },
   {
    "duration": 12,
    "start_time": "2022-09-12T05:12:45.243Z"
   },
   {
    "duration": 24,
    "start_time": "2022-09-12T05:12:45.256Z"
   },
   {
    "duration": 11,
    "start_time": "2022-09-12T05:12:45.282Z"
   },
   {
    "duration": 80,
    "start_time": "2022-09-12T05:12:45.295Z"
   },
   {
    "duration": 7,
    "start_time": "2022-09-12T05:12:45.377Z"
   },
   {
    "duration": 912,
    "start_time": "2022-09-12T05:12:45.385Z"
   },
   {
    "duration": 8,
    "start_time": "2022-09-12T05:12:46.299Z"
   },
   {
    "duration": 251,
    "start_time": "2022-09-12T05:12:46.308Z"
   },
   {
    "duration": 2,
    "start_time": "2022-09-12T05:12:46.563Z"
   },
   {
    "duration": 10,
    "start_time": "2022-09-12T05:12:46.567Z"
   },
   {
    "duration": 31,
    "start_time": "2022-09-12T05:12:46.578Z"
   },
   {
    "duration": 3,
    "start_time": "2022-09-12T05:12:46.610Z"
   },
   {
    "duration": 302,
    "start_time": "2022-09-12T05:12:46.621Z"
   },
   {
    "duration": 116,
    "start_time": "2022-09-12T05:12:46.924Z"
   },
   {
    "duration": 9,
    "start_time": "2022-09-12T05:12:47.042Z"
   },
   {
    "duration": 71,
    "start_time": "2022-09-12T05:12:47.052Z"
   },
   {
    "duration": 6,
    "start_time": "2022-09-12T05:12:47.124Z"
   },
   {
    "duration": 98,
    "start_time": "2022-09-12T05:12:47.131Z"
   },
   {
    "duration": 94,
    "start_time": "2022-09-12T05:12:47.231Z"
   },
   {
    "duration": 99,
    "start_time": "2022-09-12T05:12:47.327Z"
   },
   {
    "duration": 2,
    "start_time": "2022-09-12T05:12:47.428Z"
   },
   {
    "duration": 13,
    "start_time": "2022-09-12T05:12:47.431Z"
   },
   {
    "duration": 6,
    "start_time": "2022-09-12T05:12:47.445Z"
   },
   {
    "duration": 11,
    "start_time": "2022-09-12T05:12:47.452Z"
   },
   {
    "duration": 10,
    "start_time": "2022-09-12T05:12:47.465Z"
   },
   {
    "duration": 8,
    "start_time": "2022-09-12T05:14:24.965Z"
   },
   {
    "duration": 4,
    "start_time": "2022-09-12T05:14:31.023Z"
   },
   {
    "duration": 6,
    "start_time": "2022-09-12T05:14:32.119Z"
   },
   {
    "duration": 13,
    "start_time": "2022-09-12T05:14:33.149Z"
   },
   {
    "duration": 99,
    "start_time": "2022-09-12T05:20:43.318Z"
   },
   {
    "duration": 8,
    "start_time": "2022-09-12T05:21:10.142Z"
   },
   {
    "duration": 5,
    "start_time": "2022-09-12T05:21:16.026Z"
   },
   {
    "duration": 5,
    "start_time": "2022-09-12T05:21:16.646Z"
   },
   {
    "duration": 9,
    "start_time": "2022-09-12T05:21:17.327Z"
   },
   {
    "duration": 10,
    "start_time": "2022-09-12T05:22:34.855Z"
   },
   {
    "duration": 6,
    "start_time": "2022-09-12T05:22:41.211Z"
   },
   {
    "duration": 5,
    "start_time": "2022-09-12T05:22:41.965Z"
   },
   {
    "duration": 25,
    "start_time": "2022-09-12T05:22:42.924Z"
   },
   {
    "duration": 9,
    "start_time": "2022-09-12T05:23:11.319Z"
   },
   {
    "duration": 6,
    "start_time": "2022-09-12T05:23:23.719Z"
   },
   {
    "duration": 5,
    "start_time": "2022-09-12T05:23:55.555Z"
   },
   {
    "duration": 4,
    "start_time": "2022-09-12T05:23:56.711Z"
   },
   {
    "duration": 9,
    "start_time": "2022-09-12T05:24:58.093Z"
   },
   {
    "duration": 6,
    "start_time": "2022-09-12T05:25:06.137Z"
   },
   {
    "duration": 6,
    "start_time": "2022-09-12T05:26:52.669Z"
   },
   {
    "duration": 9,
    "start_time": "2022-09-12T05:26:53.952Z"
   },
   {
    "duration": 6,
    "start_time": "2022-09-12T05:27:15.608Z"
   },
   {
    "duration": 9,
    "start_time": "2022-09-12T05:27:17.044Z"
   },
   {
    "duration": 10,
    "start_time": "2022-09-12T05:27:20.769Z"
   },
   {
    "duration": 415,
    "start_time": "2022-09-12T05:27:29.000Z"
   },
   {
    "duration": 52,
    "start_time": "2022-09-12T05:27:29.417Z"
   },
   {
    "duration": 14,
    "start_time": "2022-09-12T05:27:29.470Z"
   },
   {
    "duration": 879,
    "start_time": "2022-09-12T05:27:29.486Z"
   },
   {
    "duration": 4,
    "start_time": "2022-09-12T05:27:30.366Z"
   },
   {
    "duration": 13,
    "start_time": "2022-09-12T05:27:30.371Z"
   },
   {
    "duration": 22,
    "start_time": "2022-09-12T05:27:30.385Z"
   },
   {
    "duration": 16,
    "start_time": "2022-09-12T05:27:30.408Z"
   },
   {
    "duration": 32,
    "start_time": "2022-09-12T05:27:30.425Z"
   },
   {
    "duration": 12,
    "start_time": "2022-09-12T05:27:30.459Z"
   },
   {
    "duration": 22,
    "start_time": "2022-09-12T05:27:30.472Z"
   },
   {
    "duration": 11,
    "start_time": "2022-09-12T05:27:30.495Z"
   },
   {
    "duration": 26,
    "start_time": "2022-09-12T05:27:30.507Z"
   },
   {
    "duration": 16,
    "start_time": "2022-09-12T05:27:30.534Z"
   },
   {
    "duration": 8,
    "start_time": "2022-09-12T05:27:30.551Z"
   },
   {
    "duration": 16,
    "start_time": "2022-09-12T05:27:30.560Z"
   },
   {
    "duration": 32,
    "start_time": "2022-09-12T05:27:30.578Z"
   },
   {
    "duration": 9,
    "start_time": "2022-09-12T05:27:30.612Z"
   },
   {
    "duration": 17,
    "start_time": "2022-09-12T05:27:30.623Z"
   },
   {
    "duration": 13,
    "start_time": "2022-09-12T05:27:30.641Z"
   },
   {
    "duration": 20,
    "start_time": "2022-09-12T05:27:30.655Z"
   },
   {
    "duration": 10,
    "start_time": "2022-09-12T05:27:30.677Z"
   },
   {
    "duration": 78,
    "start_time": "2022-09-12T05:27:30.689Z"
   },
   {
    "duration": 7,
    "start_time": "2022-09-12T05:27:30.768Z"
   },
   {
    "duration": 956,
    "start_time": "2022-09-12T05:27:30.776Z"
   },
   {
    "duration": 7,
    "start_time": "2022-09-12T05:27:31.733Z"
   },
   {
    "duration": 259,
    "start_time": "2022-09-12T05:27:31.741Z"
   },
   {
    "duration": 2,
    "start_time": "2022-09-12T05:27:32.005Z"
   },
   {
    "duration": 14,
    "start_time": "2022-09-12T05:27:32.008Z"
   },
   {
    "duration": 27,
    "start_time": "2022-09-12T05:27:32.024Z"
   },
   {
    "duration": 3,
    "start_time": "2022-09-12T05:27:32.053Z"
   },
   {
    "duration": 307,
    "start_time": "2022-09-12T05:27:32.058Z"
   },
   {
    "duration": 116,
    "start_time": "2022-09-12T05:27:32.366Z"
   },
   {
    "duration": 8,
    "start_time": "2022-09-12T05:27:32.484Z"
   },
   {
    "duration": 68,
    "start_time": "2022-09-12T05:27:32.494Z"
   },
   {
    "duration": 6,
    "start_time": "2022-09-12T05:27:32.564Z"
   },
   {
    "duration": 102,
    "start_time": "2022-09-12T05:27:32.571Z"
   },
   {
    "duration": 103,
    "start_time": "2022-09-12T05:27:32.674Z"
   },
   {
    "duration": 101,
    "start_time": "2022-09-12T05:27:32.778Z"
   },
   {
    "duration": 3,
    "start_time": "2022-09-12T05:27:32.880Z"
   },
   {
    "duration": 22,
    "start_time": "2022-09-12T05:27:32.885Z"
   },
   {
    "duration": 18,
    "start_time": "2022-09-12T05:27:32.909Z"
   },
   {
    "duration": 7,
    "start_time": "2022-09-12T05:27:32.929Z"
   },
   {
    "duration": 21,
    "start_time": "2022-09-12T05:27:32.938Z"
   },
   {
    "duration": 7,
    "start_time": "2022-09-12T05:28:53.530Z"
   },
   {
    "duration": 6,
    "start_time": "2022-09-12T05:29:16.356Z"
   },
   {
    "duration": 12,
    "start_time": "2022-09-12T05:29:17.472Z"
   },
   {
    "duration": 8,
    "start_time": "2022-09-12T05:30:44.309Z"
   },
   {
    "duration": 4,
    "start_time": "2022-09-12T05:33:32.784Z"
   },
   {
    "duration": 5,
    "start_time": "2022-09-12T05:34:04.848Z"
   },
   {
    "duration": 4,
    "start_time": "2022-09-12T05:34:53.938Z"
   },
   {
    "duration": 5,
    "start_time": "2022-09-12T05:34:55.921Z"
   },
   {
    "duration": 45,
    "start_time": "2022-09-12T05:36:15.857Z"
   },
   {
    "duration": 5,
    "start_time": "2022-09-12T05:37:41.899Z"
   },
   {
    "duration": 5,
    "start_time": "2022-09-12T05:37:42.642Z"
   },
   {
    "duration": 3,
    "start_time": "2022-09-12T05:37:50.665Z"
   },
   {
    "duration": 5,
    "start_time": "2022-09-12T05:38:48.734Z"
   },
   {
    "duration": 5,
    "start_time": "2022-09-12T05:38:49.480Z"
   },
   {
    "duration": 5,
    "start_time": "2022-09-12T05:39:32.494Z"
   },
   {
    "duration": 363,
    "start_time": "2022-09-12T05:41:07.269Z"
   },
   {
    "duration": 50,
    "start_time": "2022-09-12T05:41:07.634Z"
   },
   {
    "duration": 12,
    "start_time": "2022-09-12T05:41:07.686Z"
   },
   {
    "duration": 863,
    "start_time": "2022-09-12T05:41:07.700Z"
   },
   {
    "duration": 4,
    "start_time": "2022-09-12T05:41:08.564Z"
   },
   {
    "duration": 9,
    "start_time": "2022-09-12T05:41:08.569Z"
   },
   {
    "duration": 11,
    "start_time": "2022-09-12T05:41:08.579Z"
   },
   {
    "duration": 12,
    "start_time": "2022-09-12T05:41:08.591Z"
   },
   {
    "duration": 6,
    "start_time": "2022-09-12T05:41:08.605Z"
   },
   {
    "duration": 3,
    "start_time": "2022-09-12T05:41:08.623Z"
   },
   {
    "duration": 8,
    "start_time": "2022-09-12T05:41:08.628Z"
   },
   {
    "duration": 12,
    "start_time": "2022-09-12T05:41:08.637Z"
   },
   {
    "duration": 4,
    "start_time": "2022-09-12T05:41:08.650Z"
   },
   {
    "duration": 4,
    "start_time": "2022-09-12T05:41:08.656Z"
   },
   {
    "duration": 8,
    "start_time": "2022-09-12T05:41:08.662Z"
   },
   {
    "duration": 15,
    "start_time": "2022-09-12T05:41:08.672Z"
   },
   {
    "duration": 5,
    "start_time": "2022-09-12T05:41:08.689Z"
   },
   {
    "duration": 33,
    "start_time": "2022-09-12T05:41:08.696Z"
   },
   {
    "duration": 19,
    "start_time": "2022-09-12T05:41:08.730Z"
   },
   {
    "duration": 20,
    "start_time": "2022-09-12T05:41:08.750Z"
   },
   {
    "duration": 10,
    "start_time": "2022-09-12T05:41:08.772Z"
   },
   {
    "duration": 92,
    "start_time": "2022-09-12T05:41:08.784Z"
   },
   {
    "duration": 11,
    "start_time": "2022-09-12T05:41:08.878Z"
   },
   {
    "duration": 925,
    "start_time": "2022-09-12T05:41:08.890Z"
   },
   {
    "duration": 10,
    "start_time": "2022-09-12T05:41:09.816Z"
   },
   {
    "duration": 245,
    "start_time": "2022-09-12T05:41:09.827Z"
   },
   {
    "duration": 2,
    "start_time": "2022-09-12T05:41:10.074Z"
   },
   {
    "duration": 4,
    "start_time": "2022-09-12T05:41:10.079Z"
   },
   {
    "duration": 25,
    "start_time": "2022-09-12T05:41:10.084Z"
   },
   {
    "duration": 3,
    "start_time": "2022-09-12T05:41:10.122Z"
   },
   {
    "duration": 320,
    "start_time": "2022-09-12T05:41:10.126Z"
   },
   {
    "duration": 122,
    "start_time": "2022-09-12T05:41:10.448Z"
   },
   {
    "duration": 8,
    "start_time": "2022-09-12T05:41:10.572Z"
   },
   {
    "duration": 67,
    "start_time": "2022-09-12T05:41:10.581Z"
   },
   {
    "duration": 5,
    "start_time": "2022-09-12T05:41:10.650Z"
   },
   {
    "duration": 92,
    "start_time": "2022-09-12T05:41:10.657Z"
   },
   {
    "duration": 103,
    "start_time": "2022-09-12T05:41:10.751Z"
   },
   {
    "duration": 104,
    "start_time": "2022-09-12T05:41:10.855Z"
   },
   {
    "duration": 3,
    "start_time": "2022-09-12T05:41:10.961Z"
   },
   {
    "duration": 12,
    "start_time": "2022-09-12T05:41:10.965Z"
   },
   {
    "duration": 9,
    "start_time": "2022-09-12T05:41:10.979Z"
   },
   {
    "duration": 7,
    "start_time": "2022-09-12T05:41:10.990Z"
   },
   {
    "duration": 24,
    "start_time": "2022-09-12T05:41:10.999Z"
   },
   {
    "duration": 105,
    "start_time": "2022-09-12T05:44:36.560Z"
   },
   {
    "duration": 15,
    "start_time": "2022-09-12T05:44:48.849Z"
   },
   {
    "duration": 5,
    "start_time": "2022-09-12T05:45:00.337Z"
   },
   {
    "duration": 49,
    "start_time": "2022-09-12T05:47:18.767Z"
   },
   {
    "duration": 9,
    "start_time": "2022-09-12T05:48:32.814Z"
   },
   {
    "duration": 12,
    "start_time": "2022-09-12T05:48:35.655Z"
   },
   {
    "duration": 26,
    "start_time": "2022-09-12T05:48:41.896Z"
   },
   {
    "duration": 5,
    "start_time": "2022-09-12T05:49:36.353Z"
   },
   {
    "duration": 12,
    "start_time": "2022-09-12T05:49:41.924Z"
   },
   {
    "duration": 58,
    "start_time": "2022-09-12T05:49:52.011Z"
   },
   {
    "duration": 7,
    "start_time": "2022-09-12T05:53:12.822Z"
   },
   {
    "duration": 397,
    "start_time": "2022-09-12T05:53:31.561Z"
   },
   {
    "duration": 53,
    "start_time": "2022-09-12T05:53:31.959Z"
   },
   {
    "duration": 15,
    "start_time": "2022-09-12T05:53:32.014Z"
   },
   {
    "duration": 888,
    "start_time": "2022-09-12T05:53:32.031Z"
   },
   {
    "duration": 3,
    "start_time": "2022-09-12T05:53:32.921Z"
   },
   {
    "duration": 14,
    "start_time": "2022-09-12T05:53:32.925Z"
   },
   {
    "duration": 87,
    "start_time": "2022-09-12T05:53:32.940Z"
   },
   {
    "duration": 0,
    "start_time": "2022-09-12T05:53:33.029Z"
   },
   {
    "duration": 0,
    "start_time": "2022-09-12T05:53:33.031Z"
   },
   {
    "duration": 0,
    "start_time": "2022-09-12T05:53:33.032Z"
   },
   {
    "duration": 0,
    "start_time": "2022-09-12T05:53:33.032Z"
   },
   {
    "duration": 0,
    "start_time": "2022-09-12T05:53:33.033Z"
   },
   {
    "duration": 0,
    "start_time": "2022-09-12T05:53:33.034Z"
   },
   {
    "duration": 0,
    "start_time": "2022-09-12T05:53:33.035Z"
   },
   {
    "duration": 0,
    "start_time": "2022-09-12T05:53:33.036Z"
   },
   {
    "duration": 0,
    "start_time": "2022-09-12T05:53:33.037Z"
   },
   {
    "duration": 0,
    "start_time": "2022-09-12T05:53:33.038Z"
   },
   {
    "duration": 0,
    "start_time": "2022-09-12T05:53:33.039Z"
   },
   {
    "duration": 0,
    "start_time": "2022-09-12T05:53:33.040Z"
   },
   {
    "duration": 0,
    "start_time": "2022-09-12T05:53:33.041Z"
   },
   {
    "duration": 0,
    "start_time": "2022-09-12T05:53:33.042Z"
   },
   {
    "duration": 0,
    "start_time": "2022-09-12T05:53:33.043Z"
   },
   {
    "duration": 0,
    "start_time": "2022-09-12T05:53:33.043Z"
   },
   {
    "duration": 0,
    "start_time": "2022-09-12T05:53:33.044Z"
   },
   {
    "duration": 0,
    "start_time": "2022-09-12T05:53:33.045Z"
   },
   {
    "duration": 0,
    "start_time": "2022-09-12T05:53:33.046Z"
   },
   {
    "duration": 0,
    "start_time": "2022-09-12T05:53:33.047Z"
   },
   {
    "duration": 0,
    "start_time": "2022-09-12T05:53:33.048Z"
   },
   {
    "duration": 0,
    "start_time": "2022-09-12T05:53:33.049Z"
   },
   {
    "duration": 0,
    "start_time": "2022-09-12T05:53:33.050Z"
   },
   {
    "duration": 0,
    "start_time": "2022-09-12T05:53:33.052Z"
   },
   {
    "duration": 0,
    "start_time": "2022-09-12T05:53:33.053Z"
   },
   {
    "duration": 0,
    "start_time": "2022-09-12T05:53:33.054Z"
   },
   {
    "duration": 0,
    "start_time": "2022-09-12T05:53:33.055Z"
   },
   {
    "duration": 0,
    "start_time": "2022-09-12T05:53:33.057Z"
   },
   {
    "duration": 0,
    "start_time": "2022-09-12T05:53:33.058Z"
   },
   {
    "duration": 0,
    "start_time": "2022-09-12T05:53:33.059Z"
   },
   {
    "duration": 0,
    "start_time": "2022-09-12T05:53:33.060Z"
   },
   {
    "duration": 0,
    "start_time": "2022-09-12T05:53:33.062Z"
   },
   {
    "duration": 0,
    "start_time": "2022-09-12T05:53:33.063Z"
   },
   {
    "duration": 0,
    "start_time": "2022-09-12T05:53:33.064Z"
   },
   {
    "duration": 0,
    "start_time": "2022-09-12T05:53:33.065Z"
   },
   {
    "duration": 2,
    "start_time": "2022-09-12T05:55:04.634Z"
   },
   {
    "duration": 14,
    "start_time": "2022-09-12T05:55:38.233Z"
   },
   {
    "duration": 403,
    "start_time": "2022-09-12T05:55:54.397Z"
   },
   {
    "duration": 62,
    "start_time": "2022-09-12T05:55:54.802Z"
   },
   {
    "duration": 16,
    "start_time": "2022-09-12T05:55:54.866Z"
   },
   {
    "duration": 982,
    "start_time": "2022-09-12T05:55:54.884Z"
   },
   {
    "duration": 3,
    "start_time": "2022-09-12T05:55:55.868Z"
   },
   {
    "duration": 13,
    "start_time": "2022-09-12T05:55:55.872Z"
   },
   {
    "duration": 16,
    "start_time": "2022-09-12T05:55:55.886Z"
   },
   {
    "duration": 9,
    "start_time": "2022-09-12T05:55:55.904Z"
   },
   {
    "duration": 9,
    "start_time": "2022-09-12T05:55:55.915Z"
   },
   {
    "duration": 8,
    "start_time": "2022-09-12T05:55:55.926Z"
   },
   {
    "duration": 5,
    "start_time": "2022-09-12T05:55:55.935Z"
   },
   {
    "duration": 16,
    "start_time": "2022-09-12T05:55:55.941Z"
   },
   {
    "duration": 5,
    "start_time": "2022-09-12T05:55:55.958Z"
   },
   {
    "duration": 7,
    "start_time": "2022-09-12T05:55:55.966Z"
   },
   {
    "duration": 11,
    "start_time": "2022-09-12T05:55:55.974Z"
   },
   {
    "duration": 4,
    "start_time": "2022-09-12T05:55:55.986Z"
   },
   {
    "duration": 33,
    "start_time": "2022-09-12T05:55:55.992Z"
   },
   {
    "duration": 12,
    "start_time": "2022-09-12T05:55:56.027Z"
   },
   {
    "duration": 5,
    "start_time": "2022-09-12T05:55:56.041Z"
   },
   {
    "duration": 82,
    "start_time": "2022-09-12T05:55:56.048Z"
   },
   {
    "duration": 0,
    "start_time": "2022-09-12T05:55:56.132Z"
   },
   {
    "duration": 0,
    "start_time": "2022-09-12T05:55:56.133Z"
   },
   {
    "duration": 0,
    "start_time": "2022-09-12T05:55:56.134Z"
   },
   {
    "duration": 0,
    "start_time": "2022-09-12T05:55:56.136Z"
   },
   {
    "duration": 0,
    "start_time": "2022-09-12T05:55:56.137Z"
   },
   {
    "duration": 0,
    "start_time": "2022-09-12T05:55:56.138Z"
   },
   {
    "duration": 0,
    "start_time": "2022-09-12T05:55:56.138Z"
   },
   {
    "duration": 0,
    "start_time": "2022-09-12T05:55:56.139Z"
   },
   {
    "duration": 0,
    "start_time": "2022-09-12T05:55:56.140Z"
   },
   {
    "duration": 0,
    "start_time": "2022-09-12T05:55:56.141Z"
   },
   {
    "duration": 0,
    "start_time": "2022-09-12T05:55:56.142Z"
   },
   {
    "duration": 0,
    "start_time": "2022-09-12T05:55:56.143Z"
   },
   {
    "duration": 0,
    "start_time": "2022-09-12T05:55:56.144Z"
   },
   {
    "duration": 0,
    "start_time": "2022-09-12T05:55:56.145Z"
   },
   {
    "duration": 0,
    "start_time": "2022-09-12T05:55:56.145Z"
   },
   {
    "duration": 0,
    "start_time": "2022-09-12T05:55:56.146Z"
   },
   {
    "duration": 0,
    "start_time": "2022-09-12T05:55:56.147Z"
   },
   {
    "duration": 0,
    "start_time": "2022-09-12T05:55:56.148Z"
   },
   {
    "duration": 0,
    "start_time": "2022-09-12T05:55:56.149Z"
   },
   {
    "duration": 0,
    "start_time": "2022-09-12T05:55:56.150Z"
   },
   {
    "duration": 0,
    "start_time": "2022-09-12T05:55:56.151Z"
   },
   {
    "duration": 0,
    "start_time": "2022-09-12T05:55:56.152Z"
   },
   {
    "duration": 6,
    "start_time": "2022-09-12T06:01:43.955Z"
   },
   {
    "duration": 127,
    "start_time": "2022-09-12T06:02:28.014Z"
   },
   {
    "duration": 15,
    "start_time": "2022-09-12T06:02:30.672Z"
   },
   {
    "duration": 29,
    "start_time": "2022-09-12T06:03:08.481Z"
   },
   {
    "duration": 11,
    "start_time": "2022-09-12T06:03:15.274Z"
   },
   {
    "duration": 54,
    "start_time": "2022-09-12T06:03:23.115Z"
   },
   {
    "duration": 952,
    "start_time": "2022-09-12T06:05:45.185Z"
   },
   {
    "duration": 8,
    "start_time": "2022-09-12T06:05:55.907Z"
   },
   {
    "duration": 121,
    "start_time": "2022-09-12T06:08:10.862Z"
   },
   {
    "duration": 157,
    "start_time": "2022-09-12T06:09:19.576Z"
   },
   {
    "duration": 198,
    "start_time": "2022-09-12T06:09:56.175Z"
   },
   {
    "duration": 132,
    "start_time": "2022-09-12T06:34:33.334Z"
   },
   {
    "duration": 17,
    "start_time": "2022-09-12T06:39:14.646Z"
   },
   {
    "duration": 15,
    "start_time": "2022-09-12T06:42:35.285Z"
   },
   {
    "duration": 8,
    "start_time": "2022-09-12T06:42:45.375Z"
   },
   {
    "duration": 13,
    "start_time": "2022-09-12T06:47:09.077Z"
   },
   {
    "duration": 7,
    "start_time": "2022-09-12T06:47:28.435Z"
   },
   {
    "duration": 233,
    "start_time": "2022-09-12T06:47:29.789Z"
   },
   {
    "duration": 9,
    "start_time": "2022-09-12T06:48:04.889Z"
   },
   {
    "duration": 21,
    "start_time": "2022-09-12T06:48:32.120Z"
   },
   {
    "duration": 31,
    "start_time": "2022-09-12T06:49:10.767Z"
   },
   {
    "duration": 5,
    "start_time": "2022-09-12T06:49:17.455Z"
   },
   {
    "duration": 11,
    "start_time": "2022-09-12T06:49:21.471Z"
   },
   {
    "duration": 220,
    "start_time": "2022-09-12T06:49:33.087Z"
   },
   {
    "duration": 208,
    "start_time": "2022-09-12T06:50:11.842Z"
   },
   {
    "duration": 206,
    "start_time": "2022-09-12T06:50:23.442Z"
   },
   {
    "duration": 10,
    "start_time": "2022-09-12T06:50:56.009Z"
   },
   {
    "duration": 125,
    "start_time": "2022-09-12T06:51:06.228Z"
   },
   {
    "duration": 12,
    "start_time": "2022-09-12T06:51:38.696Z"
   },
   {
    "duration": 79,
    "start_time": "2022-09-12T06:52:02.696Z"
   },
   {
    "duration": 6,
    "start_time": "2022-09-12T06:52:46.738Z"
   },
   {
    "duration": 204,
    "start_time": "2022-09-12T06:53:37.567Z"
   },
   {
    "duration": 112,
    "start_time": "2022-09-12T06:54:10.493Z"
   },
   {
    "duration": 105,
    "start_time": "2022-09-12T06:54:28.534Z"
   },
   {
    "duration": 90,
    "start_time": "2022-09-12T06:54:53.446Z"
   },
   {
    "duration": 13,
    "start_time": "2022-09-12T06:55:46.021Z"
   },
   {
    "duration": 7,
    "start_time": "2022-09-12T06:56:09.919Z"
   },
   {
    "duration": 3,
    "start_time": "2022-09-12T06:56:40.244Z"
   },
   {
    "duration": 7,
    "start_time": "2022-09-12T06:56:41.473Z"
   },
   {
    "duration": 10,
    "start_time": "2022-09-12T07:00:35.043Z"
   },
   {
    "duration": 11,
    "start_time": "2022-09-12T07:01:15.847Z"
   },
   {
    "duration": 9,
    "start_time": "2022-09-12T07:01:36.267Z"
   },
   {
    "duration": 124,
    "start_time": "2022-09-12T07:04:17.293Z"
   },
   {
    "duration": 7,
    "start_time": "2022-09-12T07:18:47.685Z"
   },
   {
    "duration": 3,
    "start_time": "2022-09-12T07:20:53.140Z"
   },
   {
    "duration": 111,
    "start_time": "2022-09-12T07:24:49.689Z"
   },
   {
    "duration": 9,
    "start_time": "2022-09-12T07:25:30.657Z"
   },
   {
    "duration": 10,
    "start_time": "2022-09-12T07:31:15.974Z"
   },
   {
    "duration": 372,
    "start_time": "2022-09-12T07:52:10.043Z"
   },
   {
    "duration": 50,
    "start_time": "2022-09-12T07:52:10.417Z"
   },
   {
    "duration": 13,
    "start_time": "2022-09-12T07:52:10.468Z"
   },
   {
    "duration": 870,
    "start_time": "2022-09-12T07:52:10.483Z"
   },
   {
    "duration": 2,
    "start_time": "2022-09-12T07:52:11.355Z"
   },
   {
    "duration": 11,
    "start_time": "2022-09-12T07:52:11.359Z"
   },
   {
    "duration": 26,
    "start_time": "2022-09-12T07:52:11.371Z"
   },
   {
    "duration": 14,
    "start_time": "2022-09-12T07:52:11.399Z"
   },
   {
    "duration": 13,
    "start_time": "2022-09-12T07:52:11.414Z"
   },
   {
    "duration": 17,
    "start_time": "2022-09-12T07:52:11.429Z"
   },
   {
    "duration": 19,
    "start_time": "2022-09-12T07:52:11.448Z"
   },
   {
    "duration": 39,
    "start_time": "2022-09-12T07:52:11.469Z"
   },
   {
    "duration": 6,
    "start_time": "2022-09-12T07:52:11.510Z"
   },
   {
    "duration": 30,
    "start_time": "2022-09-12T07:52:11.518Z"
   },
   {
    "duration": 30,
    "start_time": "2022-09-12T07:52:11.550Z"
   },
   {
    "duration": 9,
    "start_time": "2022-09-12T07:52:11.581Z"
   },
   {
    "duration": 26,
    "start_time": "2022-09-12T07:52:11.592Z"
   },
   {
    "duration": 18,
    "start_time": "2022-09-12T07:52:11.619Z"
   },
   {
    "duration": 24,
    "start_time": "2022-09-12T07:52:11.638Z"
   },
   {
    "duration": 10,
    "start_time": "2022-09-12T07:52:11.664Z"
   },
   {
    "duration": 73,
    "start_time": "2022-09-12T07:52:11.676Z"
   },
   {
    "duration": 6,
    "start_time": "2022-09-12T07:52:11.751Z"
   },
   {
    "duration": 890,
    "start_time": "2022-09-12T07:52:11.758Z"
   },
   {
    "duration": 6,
    "start_time": "2022-09-12T07:52:12.650Z"
   },
   {
    "duration": 220,
    "start_time": "2022-09-12T07:52:12.657Z"
   },
   {
    "duration": 21,
    "start_time": "2022-09-12T07:52:12.878Z"
   },
   {
    "duration": 4,
    "start_time": "2022-09-12T07:52:12.900Z"
   },
   {
    "duration": 270,
    "start_time": "2022-09-12T07:52:12.922Z"
   },
   {
    "duration": 229,
    "start_time": "2022-09-12T07:52:13.194Z"
   },
   {
    "duration": 117,
    "start_time": "2022-09-12T07:52:13.424Z"
   },
   {
    "duration": 120,
    "start_time": "2022-09-12T07:52:13.542Z"
   },
   {
    "duration": 9,
    "start_time": "2022-09-12T07:52:13.663Z"
   },
   {
    "duration": 124,
    "start_time": "2022-09-12T07:52:13.674Z"
   },
   {
    "duration": 7,
    "start_time": "2022-09-12T07:52:13.800Z"
   },
   {
    "duration": 14,
    "start_time": "2022-09-12T07:52:13.809Z"
   },
   {
    "duration": 82,
    "start_time": "2022-09-12T07:52:13.825Z"
   },
   {
    "duration": 85,
    "start_time": "2022-09-12T07:52:13.921Z"
   },
   {
    "duration": 96,
    "start_time": "2022-09-12T07:52:14.008Z"
   },
   {
    "duration": 16,
    "start_time": "2022-09-12T07:52:14.106Z"
   },
   {
    "duration": 25,
    "start_time": "2022-09-12T07:52:14.123Z"
   },
   {
    "duration": 35,
    "start_time": "2022-09-12T07:52:14.149Z"
   },
   {
    "duration": 27,
    "start_time": "2022-09-12T07:52:14.185Z"
   },
   {
    "duration": 108,
    "start_time": "2022-09-12T07:52:14.213Z"
   },
   {
    "duration": 1213,
    "start_time": "2022-09-12T07:54:03.757Z"
   },
   {
    "duration": 136,
    "start_time": "2022-09-12T07:54:26.391Z"
   },
   {
    "duration": 126,
    "start_time": "2022-09-12T07:54:42.415Z"
   },
   {
    "duration": 120,
    "start_time": "2022-09-12T07:56:19.905Z"
   },
   {
    "duration": 327,
    "start_time": "2022-09-12T07:57:33.721Z"
   },
   {
    "duration": 121,
    "start_time": "2022-09-12T08:20:13.869Z"
   },
   {
    "duration": 7,
    "start_time": "2022-09-12T08:27:51.059Z"
   },
   {
    "duration": 229,
    "start_time": "2022-09-12T08:30:09.422Z"
   },
   {
    "duration": 257,
    "start_time": "2022-09-12T08:31:02.022Z"
   },
   {
    "duration": 10,
    "start_time": "2022-09-12T08:31:40.941Z"
   },
   {
    "duration": 106,
    "start_time": "2022-09-12T08:31:52.505Z"
   },
   {
    "duration": 240,
    "start_time": "2022-09-12T08:32:05.893Z"
   },
   {
    "duration": 236,
    "start_time": "2022-09-12T08:32:20.252Z"
   },
   {
    "duration": 9,
    "start_time": "2022-09-12T08:33:30.675Z"
   },
   {
    "duration": 9,
    "start_time": "2022-09-12T08:34:07.783Z"
   },
   {
    "duration": 9,
    "start_time": "2022-09-12T08:38:39.928Z"
   },
   {
    "duration": 12,
    "start_time": "2022-09-12T08:39:17.605Z"
   },
   {
    "duration": 12,
    "start_time": "2022-09-12T08:39:26.676Z"
   },
   {
    "duration": 253,
    "start_time": "2022-09-12T08:40:00.960Z"
   },
   {
    "duration": 253,
    "start_time": "2022-09-12T08:40:22.919Z"
   },
   {
    "duration": 240,
    "start_time": "2022-09-12T08:40:39.068Z"
   },
   {
    "duration": 13,
    "start_time": "2022-09-12T08:41:09.026Z"
   },
   {
    "duration": 10,
    "start_time": "2022-09-12T08:41:11.888Z"
   },
   {
    "duration": 12,
    "start_time": "2022-09-12T08:41:33.562Z"
   },
   {
    "duration": 9,
    "start_time": "2022-09-12T08:41:40.910Z"
   },
   {
    "duration": 9,
    "start_time": "2022-09-12T08:41:55.367Z"
   },
   {
    "duration": 13,
    "start_time": "2022-09-12T08:46:03.362Z"
   },
   {
    "duration": 14,
    "start_time": "2022-09-12T08:46:56.432Z"
   },
   {
    "duration": 13,
    "start_time": "2022-09-12T08:47:04.834Z"
   },
   {
    "duration": 14,
    "start_time": "2022-09-12T08:47:14.838Z"
   },
   {
    "duration": 10,
    "start_time": "2022-09-12T08:48:11.507Z"
   },
   {
    "duration": 10,
    "start_time": "2022-09-12T08:51:07.493Z"
   },
   {
    "duration": 9,
    "start_time": "2022-09-12T08:51:09.366Z"
   },
   {
    "duration": 233,
    "start_time": "2022-09-12T08:56:59.293Z"
   },
   {
    "duration": 849,
    "start_time": "2022-09-12T09:05:32.561Z"
   },
   {
    "duration": 793,
    "start_time": "2022-09-12T09:06:00.882Z"
   },
   {
    "duration": 3781,
    "start_time": "2022-09-12T09:06:10.166Z"
   },
   {
    "duration": 552,
    "start_time": "2022-09-12T09:06:19.555Z"
   },
   {
    "duration": 352,
    "start_time": "2022-09-12T09:06:59.655Z"
   },
   {
    "duration": 353,
    "start_time": "2022-09-12T09:07:20.200Z"
   },
   {
    "duration": 188,
    "start_time": "2022-09-12T09:07:28.818Z"
   },
   {
    "duration": 137,
    "start_time": "2022-09-12T09:07:35.569Z"
   },
   {
    "duration": 362,
    "start_time": "2022-09-12T09:07:42.761Z"
   },
   {
    "duration": 451,
    "start_time": "2022-09-12T09:07:50.098Z"
   },
   {
    "duration": 223,
    "start_time": "2022-09-12T09:08:00.902Z"
   },
   {
    "duration": 184,
    "start_time": "2022-09-12T09:08:44.658Z"
   },
   {
    "duration": 244,
    "start_time": "2022-09-12T09:08:54.333Z"
   },
   {
    "duration": 7,
    "start_time": "2022-09-12T09:10:29.741Z"
   },
   {
    "duration": 228,
    "start_time": "2022-09-12T09:13:16.456Z"
   },
   {
    "duration": 8,
    "start_time": "2022-09-12T09:13:41.904Z"
   },
   {
    "duration": 229,
    "start_time": "2022-09-12T09:13:58.431Z"
   },
   {
    "duration": 223,
    "start_time": "2022-09-12T09:14:06.292Z"
   },
   {
    "duration": 322,
    "start_time": "2022-09-12T09:14:40.530Z"
   },
   {
    "duration": 193,
    "start_time": "2022-09-12T09:15:01.098Z"
   },
   {
    "duration": 212,
    "start_time": "2022-09-12T09:15:09.246Z"
   },
   {
    "duration": 87,
    "start_time": "2022-09-12T09:19:20.095Z"
   },
   {
    "duration": 217,
    "start_time": "2022-09-12T09:53:26.332Z"
   },
   {
    "duration": 211,
    "start_time": "2022-09-12T09:53:32.725Z"
   },
   {
    "duration": 361,
    "start_time": "2022-09-12T09:54:50.300Z"
   },
   {
    "duration": 236,
    "start_time": "2022-09-12T09:55:15.753Z"
   },
   {
    "duration": 236,
    "start_time": "2022-09-12T09:55:30.780Z"
   },
   {
    "duration": 233,
    "start_time": "2022-09-12T09:55:40.049Z"
   },
   {
    "duration": 249,
    "start_time": "2022-09-12T09:55:48.454Z"
   },
   {
    "duration": 378,
    "start_time": "2022-09-12T09:55:58.686Z"
   },
   {
    "duration": 89,
    "start_time": "2022-09-12T10:00:32.685Z"
   },
   {
    "duration": 91,
    "start_time": "2022-09-12T10:02:10.975Z"
   },
   {
    "duration": 93,
    "start_time": "2022-09-12T10:08:17.432Z"
   },
   {
    "duration": 19,
    "start_time": "2022-09-12T10:09:55.135Z"
   },
   {
    "duration": 17,
    "start_time": "2022-09-12T10:10:06.830Z"
   },
   {
    "duration": 17,
    "start_time": "2022-09-12T10:10:17.652Z"
   },
   {
    "duration": 116,
    "start_time": "2022-09-12T10:11:35.566Z"
   },
   {
    "duration": 111,
    "start_time": "2022-09-12T10:12:32.380Z"
   },
   {
    "duration": 86,
    "start_time": "2022-09-12T10:12:39.152Z"
   },
   {
    "duration": 130,
    "start_time": "2022-09-12T10:14:48.777Z"
   },
   {
    "duration": 107,
    "start_time": "2022-09-12T10:15:07.340Z"
   },
   {
    "duration": 8,
    "start_time": "2022-09-12T10:15:52.169Z"
   },
   {
    "duration": 5,
    "start_time": "2022-09-12T10:16:07.554Z"
   },
   {
    "duration": 109,
    "start_time": "2022-09-12T10:16:35.204Z"
   },
   {
    "duration": 5,
    "start_time": "2022-09-12T10:17:10.489Z"
   },
   {
    "duration": 8,
    "start_time": "2022-09-12T10:17:24.828Z"
   },
   {
    "duration": 5,
    "start_time": "2022-09-12T10:17:34.596Z"
   },
   {
    "duration": 109,
    "start_time": "2022-09-12T10:18:02.288Z"
   },
   {
    "duration": 87,
    "start_time": "2022-09-12T10:18:18.162Z"
   },
   {
    "duration": 52,
    "start_time": "2022-09-12T10:20:56.665Z"
   },
   {
    "duration": 86,
    "start_time": "2022-09-12T10:21:35.836Z"
   },
   {
    "duration": 7,
    "start_time": "2022-09-12T10:23:10.381Z"
   },
   {
    "duration": 12,
    "start_time": "2022-09-12T10:23:58.775Z"
   },
   {
    "duration": 97,
    "start_time": "2022-09-12T10:27:02.830Z"
   },
   {
    "duration": 80,
    "start_time": "2022-09-12T10:29:30.776Z"
   },
   {
    "duration": 10,
    "start_time": "2022-09-12T10:29:49.440Z"
   },
   {
    "duration": 164,
    "start_time": "2022-09-12T10:30:11.140Z"
   },
   {
    "duration": 85,
    "start_time": "2022-09-12T10:33:02.607Z"
   },
   {
    "duration": 183,
    "start_time": "2022-09-12T10:34:07.157Z"
   },
   {
    "duration": 112,
    "start_time": "2022-09-12T10:35:18.894Z"
   },
   {
    "duration": 87,
    "start_time": "2022-09-12T10:36:48.662Z"
   },
   {
    "duration": 150,
    "start_time": "2022-09-12T10:44:08.961Z"
   },
   {
    "duration": 117,
    "start_time": "2022-09-12T10:44:21.084Z"
   },
   {
    "duration": 17,
    "start_time": "2022-09-12T10:45:05.888Z"
   },
   {
    "duration": 95,
    "start_time": "2022-09-12T10:45:12.182Z"
   },
   {
    "duration": 118,
    "start_time": "2022-09-12T10:45:22.432Z"
   },
   {
    "duration": 112,
    "start_time": "2022-09-12T10:46:16.541Z"
   },
   {
    "duration": 111,
    "start_time": "2022-09-12T10:47:09.238Z"
   },
   {
    "duration": 129,
    "start_time": "2022-09-12T10:47:19.033Z"
   },
   {
    "duration": 404,
    "start_time": "2022-09-12T10:51:37.297Z"
   },
   {
    "duration": 51,
    "start_time": "2022-09-12T10:51:37.703Z"
   },
   {
    "duration": 14,
    "start_time": "2022-09-12T10:51:37.755Z"
   },
   {
    "duration": 866,
    "start_time": "2022-09-12T10:51:37.772Z"
   },
   {
    "duration": 3,
    "start_time": "2022-09-12T10:51:38.640Z"
   },
   {
    "duration": 7,
    "start_time": "2022-09-12T10:51:38.645Z"
   },
   {
    "duration": 13,
    "start_time": "2022-09-12T10:51:38.653Z"
   },
   {
    "duration": 8,
    "start_time": "2022-09-12T10:51:38.667Z"
   },
   {
    "duration": 5,
    "start_time": "2022-09-12T10:51:38.677Z"
   },
   {
    "duration": 6,
    "start_time": "2022-09-12T10:51:38.684Z"
   },
   {
    "duration": 5,
    "start_time": "2022-09-12T10:51:38.691Z"
   },
   {
    "duration": 39,
    "start_time": "2022-09-12T10:51:38.697Z"
   },
   {
    "duration": 6,
    "start_time": "2022-09-12T10:51:38.737Z"
   },
   {
    "duration": 11,
    "start_time": "2022-09-12T10:51:38.744Z"
   },
   {
    "duration": 13,
    "start_time": "2022-09-12T10:51:38.756Z"
   },
   {
    "duration": 4,
    "start_time": "2022-09-12T10:51:38.771Z"
   },
   {
    "duration": 11,
    "start_time": "2022-09-12T10:51:38.777Z"
   },
   {
    "duration": 46,
    "start_time": "2022-09-12T10:51:38.790Z"
   },
   {
    "duration": 27,
    "start_time": "2022-09-12T10:51:38.838Z"
   },
   {
    "duration": 15,
    "start_time": "2022-09-12T10:51:38.867Z"
   },
   {
    "duration": 93,
    "start_time": "2022-09-12T10:51:38.884Z"
   },
   {
    "duration": 10,
    "start_time": "2022-09-12T10:51:38.979Z"
   },
   {
    "duration": 942,
    "start_time": "2022-09-12T10:51:38.992Z"
   },
   {
    "duration": 8,
    "start_time": "2022-09-12T10:51:39.935Z"
   },
   {
    "duration": 217,
    "start_time": "2022-09-12T10:51:39.944Z"
   },
   {
    "duration": 22,
    "start_time": "2022-09-12T10:51:40.164Z"
   },
   {
    "duration": 3,
    "start_time": "2022-09-12T10:51:40.187Z"
   },
   {
    "duration": 292,
    "start_time": "2022-09-12T10:51:40.194Z"
   },
   {
    "duration": 213,
    "start_time": "2022-09-12T10:51:40.488Z"
   },
   {
    "duration": 229,
    "start_time": "2022-09-12T10:51:40.703Z"
   },
   {
    "duration": 255,
    "start_time": "2022-09-12T10:51:40.933Z"
   },
   {
    "duration": 10,
    "start_time": "2022-09-12T10:51:41.190Z"
   },
   {
    "duration": 11,
    "start_time": "2022-09-12T10:51:41.201Z"
   },
   {
    "duration": 14,
    "start_time": "2022-09-12T10:51:41.222Z"
   },
   {
    "duration": 20,
    "start_time": "2022-09-12T10:51:41.237Z"
   },
   {
    "duration": 19,
    "start_time": "2022-09-12T10:51:41.258Z"
   },
   {
    "duration": 247,
    "start_time": "2022-09-12T10:51:41.278Z"
   },
   {
    "duration": 99,
    "start_time": "2022-09-12T10:51:41.527Z"
   },
   {
    "duration": 103,
    "start_time": "2022-09-12T10:51:41.628Z"
   },
   {
    "duration": 95,
    "start_time": "2022-09-12T10:51:41.733Z"
   },
   {
    "duration": 55,
    "start_time": "2022-09-12T10:51:41.829Z"
   },
   {
    "duration": 0,
    "start_time": "2022-09-12T10:51:41.886Z"
   },
   {
    "duration": 0,
    "start_time": "2022-09-12T10:51:41.887Z"
   },
   {
    "duration": 0,
    "start_time": "2022-09-12T10:51:41.888Z"
   },
   {
    "duration": 0,
    "start_time": "2022-09-12T10:51:41.889Z"
   },
   {
    "duration": 0,
    "start_time": "2022-09-12T10:51:41.891Z"
   },
   {
    "duration": 0,
    "start_time": "2022-09-12T10:51:41.892Z"
   },
   {
    "duration": 0,
    "start_time": "2022-09-12T10:51:41.893Z"
   },
   {
    "duration": 0,
    "start_time": "2022-09-12T10:51:41.894Z"
   },
   {
    "duration": 150,
    "start_time": "2022-09-12T10:53:39.062Z"
   },
   {
    "duration": 109,
    "start_time": "2022-09-12T10:53:40.328Z"
   },
   {
    "duration": 187,
    "start_time": "2022-09-12T10:53:41.245Z"
   },
   {
    "duration": 3,
    "start_time": "2022-09-12T10:53:52.234Z"
   },
   {
    "duration": 9,
    "start_time": "2022-09-12T10:53:53.272Z"
   },
   {
    "duration": 6,
    "start_time": "2022-09-12T10:53:55.880Z"
   },
   {
    "duration": 9,
    "start_time": "2022-09-12T10:54:13.528Z"
   },
   {
    "duration": 284,
    "start_time": "2022-09-12T10:57:33.517Z"
   },
   {
    "duration": 292,
    "start_time": "2022-09-12T10:57:54.565Z"
   },
   {
    "duration": 328,
    "start_time": "2022-09-12T10:58:28.547Z"
   },
   {
    "duration": 294,
    "start_time": "2022-09-12T10:59:13.172Z"
   },
   {
    "duration": 330,
    "start_time": "2022-09-12T11:00:03.699Z"
   },
   {
    "duration": 384,
    "start_time": "2022-09-12T11:01:02.884Z"
   },
   {
    "duration": 54,
    "start_time": "2022-09-12T11:01:03.270Z"
   },
   {
    "duration": 15,
    "start_time": "2022-09-12T11:01:03.325Z"
   },
   {
    "duration": 975,
    "start_time": "2022-09-12T11:01:03.342Z"
   },
   {
    "duration": 3,
    "start_time": "2022-09-12T11:01:04.321Z"
   },
   {
    "duration": 7,
    "start_time": "2022-09-12T11:01:04.326Z"
   },
   {
    "duration": 10,
    "start_time": "2022-09-12T11:01:04.334Z"
   },
   {
    "duration": 8,
    "start_time": "2022-09-12T11:01:04.346Z"
   },
   {
    "duration": 5,
    "start_time": "2022-09-12T11:01:04.356Z"
   },
   {
    "duration": 5,
    "start_time": "2022-09-12T11:01:04.363Z"
   },
   {
    "duration": 6,
    "start_time": "2022-09-12T11:01:04.370Z"
   },
   {
    "duration": 20,
    "start_time": "2022-09-12T11:01:04.378Z"
   },
   {
    "duration": 5,
    "start_time": "2022-09-12T11:01:04.421Z"
   },
   {
    "duration": 8,
    "start_time": "2022-09-12T11:01:04.428Z"
   },
   {
    "duration": 13,
    "start_time": "2022-09-12T11:01:04.437Z"
   },
   {
    "duration": 4,
    "start_time": "2022-09-12T11:01:04.452Z"
   },
   {
    "duration": 15,
    "start_time": "2022-09-12T11:01:04.457Z"
   },
   {
    "duration": 14,
    "start_time": "2022-09-12T11:01:04.474Z"
   },
   {
    "duration": 38,
    "start_time": "2022-09-12T11:01:04.490Z"
   },
   {
    "duration": 10,
    "start_time": "2022-09-12T11:01:04.530Z"
   },
   {
    "duration": 81,
    "start_time": "2022-09-12T11:01:04.542Z"
   },
   {
    "duration": 440,
    "start_time": "2022-09-12T11:01:04.625Z"
   },
   {
    "duration": 0,
    "start_time": "2022-09-12T11:01:05.067Z"
   },
   {
    "duration": 0,
    "start_time": "2022-09-12T11:01:05.068Z"
   },
   {
    "duration": 0,
    "start_time": "2022-09-12T11:01:05.069Z"
   },
   {
    "duration": 0,
    "start_time": "2022-09-12T11:01:05.070Z"
   },
   {
    "duration": 0,
    "start_time": "2022-09-12T11:01:05.072Z"
   },
   {
    "duration": 0,
    "start_time": "2022-09-12T11:01:05.076Z"
   },
   {
    "duration": 0,
    "start_time": "2022-09-12T11:01:05.077Z"
   },
   {
    "duration": 0,
    "start_time": "2022-09-12T11:01:05.078Z"
   },
   {
    "duration": 0,
    "start_time": "2022-09-12T11:01:05.079Z"
   },
   {
    "duration": 0,
    "start_time": "2022-09-12T11:01:05.080Z"
   },
   {
    "duration": 0,
    "start_time": "2022-09-12T11:01:05.081Z"
   },
   {
    "duration": 0,
    "start_time": "2022-09-12T11:01:05.083Z"
   },
   {
    "duration": 0,
    "start_time": "2022-09-12T11:01:05.084Z"
   },
   {
    "duration": 0,
    "start_time": "2022-09-12T11:01:05.085Z"
   },
   {
    "duration": 0,
    "start_time": "2022-09-12T11:01:05.086Z"
   },
   {
    "duration": 0,
    "start_time": "2022-09-12T11:01:05.087Z"
   },
   {
    "duration": 0,
    "start_time": "2022-09-12T11:01:05.088Z"
   },
   {
    "duration": 0,
    "start_time": "2022-09-12T11:01:05.089Z"
   },
   {
    "duration": 0,
    "start_time": "2022-09-12T11:01:05.090Z"
   },
   {
    "duration": 0,
    "start_time": "2022-09-12T11:01:05.091Z"
   },
   {
    "duration": 0,
    "start_time": "2022-09-12T11:01:05.122Z"
   },
   {
    "duration": 0,
    "start_time": "2022-09-12T11:01:05.123Z"
   },
   {
    "duration": 0,
    "start_time": "2022-09-12T11:01:05.124Z"
   },
   {
    "duration": 0,
    "start_time": "2022-09-12T11:01:05.125Z"
   },
   {
    "duration": 0,
    "start_time": "2022-09-12T11:01:05.126Z"
   },
   {
    "duration": 0,
    "start_time": "2022-09-12T11:01:05.127Z"
   },
   {
    "duration": 0,
    "start_time": "2022-09-12T11:01:05.128Z"
   },
   {
    "duration": 315,
    "start_time": "2022-09-12T11:02:29.117Z"
   },
   {
    "duration": 323,
    "start_time": "2022-09-12T11:03:25.535Z"
   },
   {
    "duration": 376,
    "start_time": "2022-09-12T11:19:32.453Z"
   },
   {
    "duration": 49,
    "start_time": "2022-09-12T11:19:32.831Z"
   },
   {
    "duration": 14,
    "start_time": "2022-09-12T11:19:32.882Z"
   },
   {
    "duration": 881,
    "start_time": "2022-09-12T11:19:32.898Z"
   },
   {
    "duration": 3,
    "start_time": "2022-09-12T11:19:33.780Z"
   },
   {
    "duration": 14,
    "start_time": "2022-09-12T11:19:33.785Z"
   },
   {
    "duration": 17,
    "start_time": "2022-09-12T11:19:33.800Z"
   },
   {
    "duration": 10,
    "start_time": "2022-09-12T11:19:33.818Z"
   },
   {
    "duration": 7,
    "start_time": "2022-09-12T11:19:33.829Z"
   },
   {
    "duration": 11,
    "start_time": "2022-09-12T11:19:33.838Z"
   },
   {
    "duration": 6,
    "start_time": "2022-09-12T11:19:33.851Z"
   },
   {
    "duration": 14,
    "start_time": "2022-09-12T11:19:33.858Z"
   },
   {
    "duration": 5,
    "start_time": "2022-09-12T11:19:33.874Z"
   },
   {
    "duration": 6,
    "start_time": "2022-09-12T11:19:33.880Z"
   },
   {
    "duration": 13,
    "start_time": "2022-09-12T11:19:33.887Z"
   },
   {
    "duration": 21,
    "start_time": "2022-09-12T11:19:33.901Z"
   },
   {
    "duration": 13,
    "start_time": "2022-09-12T11:19:33.924Z"
   },
   {
    "duration": 13,
    "start_time": "2022-09-12T11:19:33.938Z"
   },
   {
    "duration": 19,
    "start_time": "2022-09-12T11:19:33.952Z"
   },
   {
    "duration": 14,
    "start_time": "2022-09-12T11:19:33.973Z"
   },
   {
    "duration": 104,
    "start_time": "2022-09-12T11:19:33.989Z"
   },
   {
    "duration": 396,
    "start_time": "2022-09-12T11:19:34.095Z"
   },
   {
    "duration": 7,
    "start_time": "2022-09-12T11:19:34.493Z"
   },
   {
    "duration": 862,
    "start_time": "2022-09-12T11:19:34.502Z"
   },
   {
    "duration": 7,
    "start_time": "2022-09-12T11:19:35.365Z"
   },
   {
    "duration": 221,
    "start_time": "2022-09-12T11:19:35.373Z"
   },
   {
    "duration": 32,
    "start_time": "2022-09-12T11:19:35.595Z"
   },
   {
    "duration": 3,
    "start_time": "2022-09-12T11:19:35.631Z"
   },
   {
    "duration": 287,
    "start_time": "2022-09-12T11:19:35.635Z"
   },
   {
    "duration": 216,
    "start_time": "2022-09-12T11:19:35.923Z"
   },
   {
    "duration": 243,
    "start_time": "2022-09-12T11:19:36.143Z"
   },
   {
    "duration": 258,
    "start_time": "2022-09-12T11:19:36.389Z"
   },
   {
    "duration": 10,
    "start_time": "2022-09-12T11:19:36.649Z"
   },
   {
    "duration": 16,
    "start_time": "2022-09-12T11:19:36.660Z"
   },
   {
    "duration": 10,
    "start_time": "2022-09-12T11:19:36.677Z"
   },
   {
    "duration": 8,
    "start_time": "2022-09-12T11:19:36.689Z"
   },
   {
    "duration": 33,
    "start_time": "2022-09-12T11:19:36.699Z"
   },
   {
    "duration": 245,
    "start_time": "2022-09-12T11:19:36.733Z"
   },
   {
    "duration": 98,
    "start_time": "2022-09-12T11:19:36.980Z"
   },
   {
    "duration": 106,
    "start_time": "2022-09-12T11:19:37.080Z"
   },
   {
    "duration": 98,
    "start_time": "2022-09-12T11:19:37.188Z"
   },
   {
    "duration": 207,
    "start_time": "2022-09-12T11:19:37.287Z"
   },
   {
    "duration": 128,
    "start_time": "2022-09-12T11:19:37.496Z"
   },
   {
    "duration": 119,
    "start_time": "2022-09-12T11:19:37.626Z"
   },
   {
    "duration": 3,
    "start_time": "2022-09-12T11:19:37.746Z"
   },
   {
    "duration": 14,
    "start_time": "2022-09-12T11:19:37.750Z"
   },
   {
    "duration": 13,
    "start_time": "2022-09-12T11:19:37.765Z"
   },
   {
    "duration": 9,
    "start_time": "2022-09-12T11:19:37.780Z"
   },
   {
    "duration": 100,
    "start_time": "2022-09-12T11:19:37.790Z"
   },
   {
    "duration": 8,
    "start_time": "2022-09-12T11:21:10.876Z"
   },
   {
    "duration": 5,
    "start_time": "2022-09-12T11:21:20.233Z"
   },
   {
    "duration": 5,
    "start_time": "2022-09-12T11:21:21.124Z"
   },
   {
    "duration": 8,
    "start_time": "2022-09-12T11:24:12.919Z"
   },
   {
    "duration": 8,
    "start_time": "2022-09-12T11:24:31.041Z"
   },
   {
    "duration": 5,
    "start_time": "2022-09-12T11:25:19.673Z"
   },
   {
    "duration": 425,
    "start_time": "2022-09-12T18:16:28.114Z"
   },
   {
    "duration": 92,
    "start_time": "2022-09-12T18:16:28.541Z"
   },
   {
    "duration": 16,
    "start_time": "2022-09-12T18:16:28.635Z"
   },
   {
    "duration": 1258,
    "start_time": "2022-09-12T18:16:28.653Z"
   },
   {
    "duration": 8,
    "start_time": "2022-09-12T18:16:29.913Z"
   },
   {
    "duration": 9,
    "start_time": "2022-09-12T18:16:29.923Z"
   },
   {
    "duration": 10,
    "start_time": "2022-09-12T18:16:29.934Z"
   },
   {
    "duration": 8,
    "start_time": "2022-09-12T18:16:29.945Z"
   },
   {
    "duration": 5,
    "start_time": "2022-09-12T18:16:29.955Z"
   },
   {
    "duration": 7,
    "start_time": "2022-09-12T18:16:29.963Z"
   },
   {
    "duration": 6,
    "start_time": "2022-09-12T18:16:29.972Z"
   },
   {
    "duration": 105,
    "start_time": "2022-09-12T18:16:29.980Z"
   },
   {
    "duration": 5,
    "start_time": "2022-09-12T18:16:30.086Z"
   },
   {
    "duration": 30,
    "start_time": "2022-09-12T18:16:30.092Z"
   },
   {
    "duration": 19,
    "start_time": "2022-09-12T18:16:30.124Z"
   },
   {
    "duration": 22,
    "start_time": "2022-09-12T18:16:30.145Z"
   },
   {
    "duration": 25,
    "start_time": "2022-09-12T18:16:30.169Z"
   },
   {
    "duration": 26,
    "start_time": "2022-09-12T18:16:30.196Z"
   },
   {
    "duration": 27,
    "start_time": "2022-09-12T18:16:30.223Z"
   },
   {
    "duration": 26,
    "start_time": "2022-09-12T18:16:30.252Z"
   },
   {
    "duration": 86,
    "start_time": "2022-09-12T18:16:30.280Z"
   },
   {
    "duration": 377,
    "start_time": "2022-09-12T18:16:30.367Z"
   },
   {
    "duration": 8,
    "start_time": "2022-09-12T18:16:30.746Z"
   },
   {
    "duration": 961,
    "start_time": "2022-09-12T18:16:30.755Z"
   },
   {
    "duration": 8,
    "start_time": "2022-09-12T18:16:31.719Z"
   },
   {
    "duration": 337,
    "start_time": "2022-09-12T18:16:31.728Z"
   },
   {
    "duration": 25,
    "start_time": "2022-09-12T18:16:32.066Z"
   },
   {
    "duration": 4,
    "start_time": "2022-09-12T18:16:32.094Z"
   },
   {
    "duration": 249,
    "start_time": "2022-09-12T18:16:32.100Z"
   },
   {
    "duration": 251,
    "start_time": "2022-09-12T18:16:32.351Z"
   },
   {
    "duration": 287,
    "start_time": "2022-09-12T18:16:32.603Z"
   },
   {
    "duration": 295,
    "start_time": "2022-09-12T18:16:32.891Z"
   },
   {
    "duration": 9,
    "start_time": "2022-09-12T18:16:33.188Z"
   },
   {
    "duration": 26,
    "start_time": "2022-09-12T18:16:33.199Z"
   },
   {
    "duration": 42,
    "start_time": "2022-09-12T18:16:33.227Z"
   },
   {
    "duration": 40,
    "start_time": "2022-09-12T18:16:33.271Z"
   },
   {
    "duration": 32,
    "start_time": "2022-09-12T18:16:33.313Z"
   },
   {
    "duration": 284,
    "start_time": "2022-09-12T18:16:33.347Z"
   },
   {
    "duration": 107,
    "start_time": "2022-09-12T18:16:33.633Z"
   },
   {
    "duration": 111,
    "start_time": "2022-09-12T18:16:33.741Z"
   },
   {
    "duration": 197,
    "start_time": "2022-09-12T18:16:33.854Z"
   },
   {
    "duration": 139,
    "start_time": "2022-09-12T18:16:34.053Z"
   },
   {
    "duration": 134,
    "start_time": "2022-09-12T18:16:34.193Z"
   },
   {
    "duration": 134,
    "start_time": "2022-09-12T18:16:34.328Z"
   },
   {
    "duration": 3,
    "start_time": "2022-09-12T18:16:34.464Z"
   },
   {
    "duration": 33,
    "start_time": "2022-09-12T18:16:34.468Z"
   },
   {
    "duration": 32,
    "start_time": "2022-09-12T18:16:34.503Z"
   },
   {
    "duration": 31,
    "start_time": "2022-09-12T18:16:34.536Z"
   },
   {
    "duration": 21,
    "start_time": "2022-09-12T18:16:34.568Z"
   },
   {
    "duration": 551,
    "start_time": "2022-09-12T18:29:54.404Z"
   },
   {
    "duration": 25,
    "start_time": "2022-09-12T18:35:50.370Z"
   },
   {
    "duration": 11,
    "start_time": "2022-09-12T18:57:28.244Z"
   },
   {
    "duration": 11,
    "start_time": "2022-09-12T18:57:33.392Z"
   },
   {
    "duration": 4,
    "start_time": "2022-09-12T19:01:10.832Z"
   },
   {
    "duration": 8,
    "start_time": "2022-09-12T19:01:18.792Z"
   },
   {
    "duration": 8,
    "start_time": "2022-09-12T19:01:38.019Z"
   },
   {
    "duration": 7,
    "start_time": "2022-09-12T19:01:47.203Z"
   },
   {
    "duration": 81,
    "start_time": "2022-09-13T05:56:45.049Z"
   },
   {
    "duration": 8,
    "start_time": "2022-09-13T05:57:23.439Z"
   },
   {
    "duration": 419,
    "start_time": "2022-09-13T05:57:33.314Z"
   },
   {
    "duration": 93,
    "start_time": "2022-09-13T05:57:33.734Z"
   },
   {
    "duration": 14,
    "start_time": "2022-09-13T05:57:33.828Z"
   },
   {
    "duration": 1179,
    "start_time": "2022-09-13T05:57:33.844Z"
   },
   {
    "duration": 4,
    "start_time": "2022-09-13T05:57:35.025Z"
   },
   {
    "duration": 12,
    "start_time": "2022-09-13T05:57:35.030Z"
   },
   {
    "duration": 11,
    "start_time": "2022-09-13T05:57:35.043Z"
   },
   {
    "duration": 7,
    "start_time": "2022-09-13T05:57:35.055Z"
   },
   {
    "duration": 4,
    "start_time": "2022-09-13T05:57:35.064Z"
   },
   {
    "duration": 5,
    "start_time": "2022-09-13T05:57:35.070Z"
   },
   {
    "duration": 32,
    "start_time": "2022-09-13T05:57:35.077Z"
   },
   {
    "duration": 10,
    "start_time": "2022-09-13T05:57:35.111Z"
   },
   {
    "duration": 48,
    "start_time": "2022-09-13T05:57:35.123Z"
   },
   {
    "duration": 5,
    "start_time": "2022-09-13T05:57:35.173Z"
   },
   {
    "duration": 30,
    "start_time": "2022-09-13T05:57:35.180Z"
   },
   {
    "duration": 4,
    "start_time": "2022-09-13T05:57:35.212Z"
   },
   {
    "duration": 10,
    "start_time": "2022-09-13T05:57:35.217Z"
   },
   {
    "duration": 15,
    "start_time": "2022-09-13T05:57:35.229Z"
   },
   {
    "duration": 28,
    "start_time": "2022-09-13T05:57:35.245Z"
   },
   {
    "duration": 36,
    "start_time": "2022-09-13T05:57:35.275Z"
   },
   {
    "duration": 66,
    "start_time": "2022-09-13T05:57:35.313Z"
   },
   {
    "duration": 348,
    "start_time": "2022-09-13T05:57:35.381Z"
   },
   {
    "duration": 9,
    "start_time": "2022-09-13T05:57:35.731Z"
   },
   {
    "duration": 1006,
    "start_time": "2022-09-13T05:57:35.742Z"
   },
   {
    "duration": 7,
    "start_time": "2022-09-13T05:57:36.750Z"
   },
   {
    "duration": 288,
    "start_time": "2022-09-13T05:57:36.759Z"
   },
   {
    "duration": 23,
    "start_time": "2022-09-13T05:57:37.049Z"
   },
   {
    "duration": 3,
    "start_time": "2022-09-13T05:57:37.073Z"
   },
   {
    "duration": 257,
    "start_time": "2022-09-13T05:57:37.078Z"
   },
   {
    "duration": 214,
    "start_time": "2022-09-13T05:57:37.336Z"
   },
   {
    "duration": 497,
    "start_time": "2022-09-13T05:57:37.552Z"
   },
   {
    "duration": 259,
    "start_time": "2022-09-13T05:57:38.050Z"
   },
   {
    "duration": 240,
    "start_time": "2022-09-13T05:57:38.310Z"
   },
   {
    "duration": 9,
    "start_time": "2022-09-13T05:57:38.552Z"
   },
   {
    "duration": 31,
    "start_time": "2022-09-13T05:57:38.563Z"
   },
   {
    "duration": 14,
    "start_time": "2022-09-13T05:57:38.597Z"
   },
   {
    "duration": 11,
    "start_time": "2022-09-13T05:57:38.612Z"
   },
   {
    "duration": 9,
    "start_time": "2022-09-13T05:57:38.625Z"
   },
   {
    "duration": 299,
    "start_time": "2022-09-13T05:57:38.635Z"
   },
   {
    "duration": 127,
    "start_time": "2022-09-13T05:57:38.936Z"
   },
   {
    "duration": 133,
    "start_time": "2022-09-13T05:57:39.068Z"
   },
   {
    "duration": 100,
    "start_time": "2022-09-13T05:57:39.209Z"
   },
   {
    "duration": 147,
    "start_time": "2022-09-13T05:57:39.311Z"
   },
   {
    "duration": 124,
    "start_time": "2022-09-13T05:57:39.460Z"
   },
   {
    "duration": 114,
    "start_time": "2022-09-13T05:57:39.586Z"
   },
   {
    "duration": 8,
    "start_time": "2022-09-13T05:57:39.702Z"
   },
   {
    "duration": 15,
    "start_time": "2022-09-13T05:57:39.711Z"
   },
   {
    "duration": 10,
    "start_time": "2022-09-13T05:57:39.728Z"
   },
   {
    "duration": 10,
    "start_time": "2022-09-13T05:57:39.740Z"
   },
   {
    "duration": 13,
    "start_time": "2022-09-13T05:57:39.752Z"
   },
   {
    "duration": 6,
    "start_time": "2022-09-13T05:58:08.195Z"
   },
   {
    "duration": 9,
    "start_time": "2022-09-13T05:58:24.974Z"
   },
   {
    "duration": 7,
    "start_time": "2022-09-13T05:58:29.977Z"
   },
   {
    "duration": 111,
    "start_time": "2022-09-13T05:58:48.158Z"
   },
   {
    "duration": 10,
    "start_time": "2022-09-13T05:59:02.545Z"
   },
   {
    "duration": 11,
    "start_time": "2022-09-13T05:59:23.527Z"
   },
   {
    "duration": 8,
    "start_time": "2022-09-13T05:59:36.637Z"
   },
   {
    "duration": 5,
    "start_time": "2022-09-13T06:08:01.900Z"
   },
   {
    "duration": 9,
    "start_time": "2022-09-13T06:08:21.180Z"
   },
   {
    "duration": 10,
    "start_time": "2022-09-13T06:09:56.297Z"
   },
   {
    "duration": 8,
    "start_time": "2022-09-13T06:10:02.641Z"
   },
   {
    "duration": 5,
    "start_time": "2022-09-13T06:10:15.958Z"
   },
   {
    "duration": 9,
    "start_time": "2022-09-13T06:10:18.876Z"
   },
   {
    "duration": 9,
    "start_time": "2022-09-13T06:22:34.227Z"
   },
   {
    "duration": 9,
    "start_time": "2022-09-13T06:22:57.061Z"
   },
   {
    "duration": 10,
    "start_time": "2022-09-13T06:23:10.492Z"
   },
   {
    "duration": 5,
    "start_time": "2022-09-13T06:23:26.732Z"
   },
   {
    "duration": 11,
    "start_time": "2022-09-13T06:23:29.081Z"
   },
   {
    "duration": 14,
    "start_time": "2022-09-13T06:25:34.400Z"
   },
   {
    "duration": 14,
    "start_time": "2022-09-13T06:25:36.751Z"
   },
   {
    "duration": 376,
    "start_time": "2022-09-13T06:25:46.460Z"
   },
   {
    "duration": 52,
    "start_time": "2022-09-13T06:25:46.837Z"
   },
   {
    "duration": 16,
    "start_time": "2022-09-13T06:25:46.890Z"
   },
   {
    "duration": 953,
    "start_time": "2022-09-13T06:25:46.909Z"
   },
   {
    "duration": 4,
    "start_time": "2022-09-13T06:25:47.864Z"
   },
   {
    "duration": 8,
    "start_time": "2022-09-13T06:25:47.869Z"
   },
   {
    "duration": 10,
    "start_time": "2022-09-13T06:25:47.878Z"
   },
   {
    "duration": 24,
    "start_time": "2022-09-13T06:25:47.889Z"
   },
   {
    "duration": 24,
    "start_time": "2022-09-13T06:25:47.914Z"
   },
   {
    "duration": 8,
    "start_time": "2022-09-13T06:25:47.940Z"
   },
   {
    "duration": 6,
    "start_time": "2022-09-13T06:25:47.950Z"
   },
   {
    "duration": 7,
    "start_time": "2022-09-13T06:25:47.957Z"
   },
   {
    "duration": 5,
    "start_time": "2022-09-13T06:25:47.965Z"
   },
   {
    "duration": 52,
    "start_time": "2022-09-13T06:25:47.972Z"
   },
   {
    "duration": 6,
    "start_time": "2022-09-13T06:25:48.025Z"
   },
   {
    "duration": 8,
    "start_time": "2022-09-13T06:25:48.033Z"
   },
   {
    "duration": 17,
    "start_time": "2022-09-13T06:25:48.043Z"
   },
   {
    "duration": 6,
    "start_time": "2022-09-13T06:25:48.062Z"
   },
   {
    "duration": 12,
    "start_time": "2022-09-13T06:25:48.069Z"
   },
   {
    "duration": 14,
    "start_time": "2022-09-13T06:25:48.113Z"
   },
   {
    "duration": 149,
    "start_time": "2022-09-13T06:25:48.129Z"
   },
   {
    "duration": 14,
    "start_time": "2022-09-13T06:25:48.280Z"
   },
   {
    "duration": 55,
    "start_time": "2022-09-13T06:25:48.296Z"
   },
   {
    "duration": 358,
    "start_time": "2022-09-13T06:25:48.353Z"
   },
   {
    "duration": 10,
    "start_time": "2022-09-13T06:25:48.713Z"
   },
   {
    "duration": 873,
    "start_time": "2022-09-13T06:25:48.724Z"
   },
   {
    "duration": 14,
    "start_time": "2022-09-13T06:25:49.598Z"
   },
   {
    "duration": 218,
    "start_time": "2022-09-13T06:25:49.617Z"
   },
   {
    "duration": 24,
    "start_time": "2022-09-13T06:25:49.836Z"
   },
   {
    "duration": 5,
    "start_time": "2022-09-13T06:25:49.861Z"
   },
   {
    "duration": 283,
    "start_time": "2022-09-13T06:25:49.867Z"
   },
   {
    "duration": 246,
    "start_time": "2022-09-13T06:25:50.152Z"
   },
   {
    "duration": 476,
    "start_time": "2022-09-13T06:25:50.400Z"
   },
   {
    "duration": 240,
    "start_time": "2022-09-13T06:25:50.878Z"
   },
   {
    "duration": 253,
    "start_time": "2022-09-13T06:25:51.120Z"
   },
   {
    "duration": 10,
    "start_time": "2022-09-13T06:25:51.374Z"
   },
   {
    "duration": 13,
    "start_time": "2022-09-13T06:25:51.385Z"
   },
   {
    "duration": 9,
    "start_time": "2022-09-13T06:25:51.409Z"
   },
   {
    "duration": 22,
    "start_time": "2022-09-13T06:25:51.420Z"
   },
   {
    "duration": 11,
    "start_time": "2022-09-13T06:25:51.444Z"
   },
   {
    "duration": 317,
    "start_time": "2022-09-13T06:25:51.456Z"
   },
   {
    "duration": 108,
    "start_time": "2022-09-13T06:25:51.775Z"
   },
   {
    "duration": 95,
    "start_time": "2022-09-13T06:25:51.884Z"
   },
   {
    "duration": 105,
    "start_time": "2022-09-13T06:25:51.980Z"
   },
   {
    "duration": 122,
    "start_time": "2022-09-13T06:25:52.087Z"
   },
   {
    "duration": 115,
    "start_time": "2022-09-13T06:25:52.210Z"
   },
   {
    "duration": 124,
    "start_time": "2022-09-13T06:25:52.328Z"
   },
   {
    "duration": 2,
    "start_time": "2022-09-13T06:25:52.454Z"
   },
   {
    "duration": 22,
    "start_time": "2022-09-13T06:25:52.458Z"
   },
   {
    "duration": 14,
    "start_time": "2022-09-13T06:25:52.482Z"
   },
   {
    "duration": 20,
    "start_time": "2022-09-13T06:25:52.497Z"
   },
   {
    "duration": 11,
    "start_time": "2022-09-13T06:25:52.519Z"
   },
   {
    "duration": 34,
    "start_time": "2022-09-13T06:26:20.116Z"
   },
   {
    "duration": 11,
    "start_time": "2022-09-13T06:26:21.365Z"
   },
   {
    "duration": 11,
    "start_time": "2022-09-13T06:27:14.388Z"
   },
   {
    "duration": 11,
    "start_time": "2022-09-13T06:27:16.873Z"
   },
   {
    "duration": 48,
    "start_time": "2022-09-13T06:28:52.916Z"
   },
   {
    "duration": 118,
    "start_time": "2022-09-13T06:29:03.686Z"
   },
   {
    "duration": 55,
    "start_time": "2022-09-13T06:29:31.852Z"
   },
   {
    "duration": 70,
    "start_time": "2022-09-13T06:29:56.697Z"
   },
   {
    "duration": 432,
    "start_time": "2022-09-13T06:30:02.410Z"
   },
   {
    "duration": 51,
    "start_time": "2022-09-13T06:30:02.844Z"
   },
   {
    "duration": 13,
    "start_time": "2022-09-13T06:30:02.897Z"
   },
   {
    "duration": 892,
    "start_time": "2022-09-13T06:30:02.912Z"
   },
   {
    "duration": 5,
    "start_time": "2022-09-13T06:30:03.805Z"
   },
   {
    "duration": 7,
    "start_time": "2022-09-13T06:30:03.811Z"
   },
   {
    "duration": 11,
    "start_time": "2022-09-13T06:30:03.820Z"
   },
   {
    "duration": 9,
    "start_time": "2022-09-13T06:30:03.833Z"
   },
   {
    "duration": 94,
    "start_time": "2022-09-13T06:30:03.844Z"
   },
   {
    "duration": 0,
    "start_time": "2022-09-13T06:30:03.941Z"
   },
   {
    "duration": 0,
    "start_time": "2022-09-13T06:30:03.943Z"
   },
   {
    "duration": 0,
    "start_time": "2022-09-13T06:30:03.945Z"
   },
   {
    "duration": 0,
    "start_time": "2022-09-13T06:30:03.946Z"
   },
   {
    "duration": 0,
    "start_time": "2022-09-13T06:30:03.947Z"
   },
   {
    "duration": 0,
    "start_time": "2022-09-13T06:30:03.948Z"
   },
   {
    "duration": 0,
    "start_time": "2022-09-13T06:30:03.950Z"
   },
   {
    "duration": 0,
    "start_time": "2022-09-13T06:30:03.951Z"
   },
   {
    "duration": 0,
    "start_time": "2022-09-13T06:30:03.953Z"
   },
   {
    "duration": 0,
    "start_time": "2022-09-13T06:30:03.954Z"
   },
   {
    "duration": 0,
    "start_time": "2022-09-13T06:30:03.956Z"
   },
   {
    "duration": 0,
    "start_time": "2022-09-13T06:30:03.957Z"
   },
   {
    "duration": 0,
    "start_time": "2022-09-13T06:30:03.958Z"
   },
   {
    "duration": 0,
    "start_time": "2022-09-13T06:30:03.959Z"
   },
   {
    "duration": 0,
    "start_time": "2022-09-13T06:30:03.961Z"
   },
   {
    "duration": 0,
    "start_time": "2022-09-13T06:30:03.962Z"
   },
   {
    "duration": 0,
    "start_time": "2022-09-13T06:30:03.964Z"
   },
   {
    "duration": 0,
    "start_time": "2022-09-13T06:30:03.965Z"
   },
   {
    "duration": 0,
    "start_time": "2022-09-13T06:30:03.966Z"
   },
   {
    "duration": 0,
    "start_time": "2022-09-13T06:30:03.967Z"
   },
   {
    "duration": 0,
    "start_time": "2022-09-13T06:30:03.969Z"
   },
   {
    "duration": 0,
    "start_time": "2022-09-13T06:30:03.970Z"
   },
   {
    "duration": 0,
    "start_time": "2022-09-13T06:30:03.972Z"
   },
   {
    "duration": 0,
    "start_time": "2022-09-13T06:30:03.973Z"
   },
   {
    "duration": 0,
    "start_time": "2022-09-13T06:30:03.974Z"
   },
   {
    "duration": 0,
    "start_time": "2022-09-13T06:30:03.975Z"
   },
   {
    "duration": 0,
    "start_time": "2022-09-13T06:30:03.976Z"
   },
   {
    "duration": 0,
    "start_time": "2022-09-13T06:30:03.977Z"
   },
   {
    "duration": 0,
    "start_time": "2022-09-13T06:30:03.978Z"
   },
   {
    "duration": 0,
    "start_time": "2022-09-13T06:30:03.979Z"
   },
   {
    "duration": 0,
    "start_time": "2022-09-13T06:30:04.009Z"
   },
   {
    "duration": 0,
    "start_time": "2022-09-13T06:30:04.011Z"
   },
   {
    "duration": 0,
    "start_time": "2022-09-13T06:30:04.013Z"
   },
   {
    "duration": 0,
    "start_time": "2022-09-13T06:30:04.014Z"
   },
   {
    "duration": 0,
    "start_time": "2022-09-13T06:30:04.015Z"
   },
   {
    "duration": 0,
    "start_time": "2022-09-13T06:30:04.016Z"
   },
   {
    "duration": 0,
    "start_time": "2022-09-13T06:30:04.018Z"
   },
   {
    "duration": 0,
    "start_time": "2022-09-13T06:30:04.019Z"
   },
   {
    "duration": 0,
    "start_time": "2022-09-13T06:30:04.021Z"
   },
   {
    "duration": 0,
    "start_time": "2022-09-13T06:30:04.022Z"
   },
   {
    "duration": 0,
    "start_time": "2022-09-13T06:30:04.023Z"
   },
   {
    "duration": 0,
    "start_time": "2022-09-13T06:30:04.025Z"
   },
   {
    "duration": 8,
    "start_time": "2022-09-13T06:31:44.655Z"
   },
   {
    "duration": 5,
    "start_time": "2022-09-13T06:32:23.674Z"
   },
   {
    "duration": 387,
    "start_time": "2022-09-13T06:32:50.753Z"
   },
   {
    "duration": 54,
    "start_time": "2022-09-13T06:32:51.142Z"
   },
   {
    "duration": 15,
    "start_time": "2022-09-13T06:32:51.198Z"
   },
   {
    "duration": 1317,
    "start_time": "2022-09-13T06:32:51.215Z"
   },
   {
    "duration": 3,
    "start_time": "2022-09-13T06:32:52.534Z"
   },
   {
    "duration": 8,
    "start_time": "2022-09-13T06:32:52.540Z"
   },
   {
    "duration": 13,
    "start_time": "2022-09-13T06:32:52.549Z"
   },
   {
    "duration": 9,
    "start_time": "2022-09-13T06:32:52.564Z"
   },
   {
    "duration": 5,
    "start_time": "2022-09-13T06:32:52.574Z"
   },
   {
    "duration": 30,
    "start_time": "2022-09-13T06:32:52.582Z"
   },
   {
    "duration": 4,
    "start_time": "2022-09-13T06:32:52.613Z"
   },
   {
    "duration": 12,
    "start_time": "2022-09-13T06:32:52.618Z"
   },
   {
    "duration": 4,
    "start_time": "2022-09-13T06:32:52.631Z"
   },
   {
    "duration": 14,
    "start_time": "2022-09-13T06:32:52.637Z"
   },
   {
    "duration": 10,
    "start_time": "2022-09-13T06:32:52.653Z"
   },
   {
    "duration": 4,
    "start_time": "2022-09-13T06:32:52.664Z"
   },
   {
    "duration": 45,
    "start_time": "2022-09-13T06:32:52.669Z"
   },
   {
    "duration": 12,
    "start_time": "2022-09-13T06:32:52.715Z"
   },
   {
    "duration": 20,
    "start_time": "2022-09-13T06:32:52.728Z"
   },
   {
    "duration": 11,
    "start_time": "2022-09-13T06:32:52.750Z"
   },
   {
    "duration": 91,
    "start_time": "2022-09-13T06:32:52.762Z"
   },
   {
    "duration": 382,
    "start_time": "2022-09-13T06:32:52.855Z"
   },
   {
    "duration": 8,
    "start_time": "2022-09-13T06:32:53.239Z"
   },
   {
    "duration": 838,
    "start_time": "2022-09-13T06:32:53.248Z"
   },
   {
    "duration": 8,
    "start_time": "2022-09-13T06:32:54.087Z"
   },
   {
    "duration": 248,
    "start_time": "2022-09-13T06:32:54.097Z"
   },
   {
    "duration": 41,
    "start_time": "2022-09-13T06:32:54.347Z"
   },
   {
    "duration": 9,
    "start_time": "2022-09-13T06:32:54.394Z"
   },
   {
    "duration": 410,
    "start_time": "2022-09-13T06:32:54.411Z"
   },
   {
    "duration": 253,
    "start_time": "2022-09-13T06:32:54.823Z"
   },
   {
    "duration": 583,
    "start_time": "2022-09-13T06:32:55.078Z"
   },
   {
    "duration": 252,
    "start_time": "2022-09-13T06:32:55.662Z"
   },
   {
    "duration": 272,
    "start_time": "2022-09-13T06:32:55.915Z"
   },
   {
    "duration": 11,
    "start_time": "2022-09-13T06:32:56.190Z"
   },
   {
    "duration": 13,
    "start_time": "2022-09-13T06:32:56.212Z"
   },
   {
    "duration": 12,
    "start_time": "2022-09-13T06:32:56.227Z"
   },
   {
    "duration": 14,
    "start_time": "2022-09-13T06:32:56.241Z"
   },
   {
    "duration": 23,
    "start_time": "2022-09-13T06:32:56.260Z"
   },
   {
    "duration": 361,
    "start_time": "2022-09-13T06:32:56.285Z"
   },
   {
    "duration": 112,
    "start_time": "2022-09-13T06:32:56.648Z"
   },
   {
    "duration": 110,
    "start_time": "2022-09-13T06:32:56.762Z"
   },
   {
    "duration": 102,
    "start_time": "2022-09-13T06:32:56.874Z"
   },
   {
    "duration": 133,
    "start_time": "2022-09-13T06:32:56.978Z"
   },
   {
    "duration": 125,
    "start_time": "2022-09-13T06:32:57.113Z"
   },
   {
    "duration": 138,
    "start_time": "2022-09-13T06:32:57.240Z"
   },
   {
    "duration": 2,
    "start_time": "2022-09-13T06:32:57.380Z"
   },
   {
    "duration": 27,
    "start_time": "2022-09-13T06:32:57.384Z"
   },
   {
    "duration": 7,
    "start_time": "2022-09-13T06:32:57.413Z"
   },
   {
    "duration": 10,
    "start_time": "2022-09-13T06:32:57.422Z"
   },
   {
    "duration": 43,
    "start_time": "2022-09-13T06:32:57.433Z"
   },
   {
    "duration": 566,
    "start_time": "2022-09-13T06:38:03.751Z"
   },
   {
    "duration": 300,
    "start_time": "2022-09-13T06:41:53.443Z"
   },
   {
    "duration": 331,
    "start_time": "2022-09-13T06:42:19.842Z"
   },
   {
    "duration": 10,
    "start_time": "2022-09-13T06:43:39.874Z"
   },
   {
    "duration": 10,
    "start_time": "2022-09-13T06:43:51.171Z"
   },
   {
    "duration": 9,
    "start_time": "2022-09-13T06:43:54.750Z"
   },
   {
    "duration": 14,
    "start_time": "2022-09-13T06:44:00.125Z"
   },
   {
    "duration": 11,
    "start_time": "2022-09-13T06:44:48.174Z"
   },
   {
    "duration": 12,
    "start_time": "2022-09-13T06:45:03.690Z"
   },
   {
    "duration": 7,
    "start_time": "2022-09-13T06:51:12.136Z"
   },
   {
    "duration": 8,
    "start_time": "2022-09-13T06:51:15.195Z"
   },
   {
    "duration": 6,
    "start_time": "2022-09-13T06:51:54.237Z"
   },
   {
    "duration": 9,
    "start_time": "2022-09-13T06:55:47.281Z"
   },
   {
    "duration": 7,
    "start_time": "2022-09-13T06:56:01.187Z"
   },
   {
    "duration": 6,
    "start_time": "2022-09-13T06:56:18.900Z"
   },
   {
    "duration": 10,
    "start_time": "2022-09-13T06:56:24.403Z"
   },
   {
    "duration": 7,
    "start_time": "2022-09-13T06:56:31.775Z"
   },
   {
    "duration": 5,
    "start_time": "2022-09-13T06:56:35.721Z"
   },
   {
    "duration": 8,
    "start_time": "2022-09-13T06:56:43.165Z"
   },
   {
    "duration": 6,
    "start_time": "2022-09-13T06:56:44.955Z"
   },
   {
    "duration": 355,
    "start_time": "2022-09-13T06:56:50.268Z"
   },
   {
    "duration": 53,
    "start_time": "2022-09-13T06:56:50.625Z"
   },
   {
    "duration": 14,
    "start_time": "2022-09-13T06:56:50.680Z"
   },
   {
    "duration": 907,
    "start_time": "2022-09-13T06:56:50.696Z"
   },
   {
    "duration": 6,
    "start_time": "2022-09-13T06:56:51.604Z"
   },
   {
    "duration": 28,
    "start_time": "2022-09-13T06:56:51.612Z"
   },
   {
    "duration": 21,
    "start_time": "2022-09-13T06:56:51.642Z"
   },
   {
    "duration": 9,
    "start_time": "2022-09-13T06:56:51.664Z"
   },
   {
    "duration": 5,
    "start_time": "2022-09-13T06:56:51.675Z"
   },
   {
    "duration": 8,
    "start_time": "2022-09-13T06:56:51.683Z"
   },
   {
    "duration": 3,
    "start_time": "2022-09-13T06:56:51.692Z"
   },
   {
    "duration": 20,
    "start_time": "2022-09-13T06:56:51.697Z"
   },
   {
    "duration": 8,
    "start_time": "2022-09-13T06:56:51.720Z"
   },
   {
    "duration": 36,
    "start_time": "2022-09-13T06:56:51.730Z"
   },
   {
    "duration": 41,
    "start_time": "2022-09-13T06:56:51.768Z"
   },
   {
    "duration": 6,
    "start_time": "2022-09-13T06:56:51.811Z"
   },
   {
    "duration": 54,
    "start_time": "2022-09-13T06:56:51.818Z"
   },
   {
    "duration": 23,
    "start_time": "2022-09-13T06:56:51.874Z"
   },
   {
    "duration": 28,
    "start_time": "2022-09-13T06:56:51.899Z"
   },
   {
    "duration": 15,
    "start_time": "2022-09-13T06:56:51.929Z"
   },
   {
    "duration": 86,
    "start_time": "2022-09-13T06:56:51.946Z"
   },
   {
    "duration": 372,
    "start_time": "2022-09-13T06:56:52.034Z"
   },
   {
    "duration": 9,
    "start_time": "2022-09-13T06:56:52.408Z"
   },
   {
    "duration": 823,
    "start_time": "2022-09-13T06:56:52.418Z"
   },
   {
    "duration": 8,
    "start_time": "2022-09-13T06:56:53.242Z"
   },
   {
    "duration": 241,
    "start_time": "2022-09-13T06:56:53.251Z"
   },
   {
    "duration": 27,
    "start_time": "2022-09-13T06:56:53.493Z"
   },
   {
    "duration": 2,
    "start_time": "2022-09-13T06:56:53.523Z"
   },
   {
    "duration": 538,
    "start_time": "2022-09-13T06:56:53.527Z"
   },
   {
    "duration": 532,
    "start_time": "2022-09-13T06:56:54.067Z"
   },
   {
    "duration": 326,
    "start_time": "2022-09-13T06:56:54.601Z"
   },
   {
    "duration": 266,
    "start_time": "2022-09-13T06:56:54.929Z"
   },
   {
    "duration": 24,
    "start_time": "2022-09-13T06:56:55.197Z"
   },
   {
    "duration": 12,
    "start_time": "2022-09-13T06:56:55.223Z"
   },
   {
    "duration": 12,
    "start_time": "2022-09-13T06:56:55.236Z"
   },
   {
    "duration": 32,
    "start_time": "2022-09-13T06:56:55.250Z"
   },
   {
    "duration": 13,
    "start_time": "2022-09-13T06:56:55.284Z"
   },
   {
    "duration": 322,
    "start_time": "2022-09-13T06:56:55.309Z"
   },
   {
    "duration": 102,
    "start_time": "2022-09-13T06:56:55.633Z"
   },
   {
    "duration": 102,
    "start_time": "2022-09-13T06:56:55.736Z"
   },
   {
    "duration": 106,
    "start_time": "2022-09-13T06:56:55.840Z"
   },
   {
    "duration": 176,
    "start_time": "2022-09-13T06:56:55.947Z"
   },
   {
    "duration": 166,
    "start_time": "2022-09-13T06:56:56.125Z"
   },
   {
    "duration": 199,
    "start_time": "2022-09-13T06:56:56.293Z"
   },
   {
    "duration": 6,
    "start_time": "2022-09-13T06:56:56.493Z"
   },
   {
    "duration": 22,
    "start_time": "2022-09-13T06:56:56.500Z"
   },
   {
    "duration": 25,
    "start_time": "2022-09-13T06:56:56.525Z"
   },
   {
    "duration": 12,
    "start_time": "2022-09-13T06:56:56.552Z"
   },
   {
    "duration": 25,
    "start_time": "2022-09-13T06:56:56.565Z"
   },
   {
    "duration": 12,
    "start_time": "2022-09-13T06:56:56.592Z"
   },
   {
    "duration": 6,
    "start_time": "2022-09-13T06:58:12.418Z"
   },
   {
    "duration": 9,
    "start_time": "2022-09-13T06:59:03.575Z"
   },
   {
    "duration": 6,
    "start_time": "2022-09-13T06:59:06.247Z"
   },
   {
    "duration": 9,
    "start_time": "2022-09-13T06:59:19.384Z"
   },
   {
    "duration": 7,
    "start_time": "2022-09-13T06:59:20.795Z"
   },
   {
    "duration": 7,
    "start_time": "2022-09-13T07:00:42.971Z"
   },
   {
    "duration": 5,
    "start_time": "2022-09-13T07:00:44.901Z"
   },
   {
    "duration": 8,
    "start_time": "2022-09-13T07:00:53.237Z"
   },
   {
    "duration": 5,
    "start_time": "2022-09-13T07:00:55.377Z"
   },
   {
    "duration": 390,
    "start_time": "2022-09-13T07:01:08.212Z"
   },
   {
    "duration": 59,
    "start_time": "2022-09-13T07:01:08.604Z"
   },
   {
    "duration": 14,
    "start_time": "2022-09-13T07:01:08.664Z"
   },
   {
    "duration": 1015,
    "start_time": "2022-09-13T07:01:08.679Z"
   },
   {
    "duration": 4,
    "start_time": "2022-09-13T07:01:09.697Z"
   },
   {
    "duration": 8,
    "start_time": "2022-09-13T07:01:09.709Z"
   },
   {
    "duration": 10,
    "start_time": "2022-09-13T07:01:09.718Z"
   },
   {
    "duration": 21,
    "start_time": "2022-09-13T07:01:09.729Z"
   },
   {
    "duration": 9,
    "start_time": "2022-09-13T07:01:09.751Z"
   },
   {
    "duration": 8,
    "start_time": "2022-09-13T07:01:09.761Z"
   },
   {
    "duration": 16,
    "start_time": "2022-09-13T07:01:09.770Z"
   },
   {
    "duration": 14,
    "start_time": "2022-09-13T07:01:09.787Z"
   },
   {
    "duration": 8,
    "start_time": "2022-09-13T07:01:09.802Z"
   },
   {
    "duration": 7,
    "start_time": "2022-09-13T07:01:09.814Z"
   },
   {
    "duration": 16,
    "start_time": "2022-09-13T07:01:09.822Z"
   },
   {
    "duration": 4,
    "start_time": "2022-09-13T07:01:09.840Z"
   },
   {
    "duration": 13,
    "start_time": "2022-09-13T07:01:09.845Z"
   },
   {
    "duration": 13,
    "start_time": "2022-09-13T07:01:09.860Z"
   },
   {
    "duration": 46,
    "start_time": "2022-09-13T07:01:09.874Z"
   },
   {
    "duration": 11,
    "start_time": "2022-09-13T07:01:09.922Z"
   },
   {
    "duration": 85,
    "start_time": "2022-09-13T07:01:09.935Z"
   },
   {
    "duration": 363,
    "start_time": "2022-09-13T07:01:10.022Z"
   },
   {
    "duration": 9,
    "start_time": "2022-09-13T07:01:10.387Z"
   },
   {
    "duration": 882,
    "start_time": "2022-09-13T07:01:10.398Z"
   },
   {
    "duration": 7,
    "start_time": "2022-09-13T07:01:11.282Z"
   },
   {
    "duration": 250,
    "start_time": "2022-09-13T07:01:11.290Z"
   },
   {
    "duration": 24,
    "start_time": "2022-09-13T07:01:11.543Z"
   },
   {
    "duration": 5,
    "start_time": "2022-09-13T07:01:11.568Z"
   },
   {
    "duration": 690,
    "start_time": "2022-09-13T07:01:11.575Z"
   },
   {
    "duration": 505,
    "start_time": "2022-09-13T07:01:12.267Z"
   },
   {
    "duration": 283,
    "start_time": "2022-09-13T07:01:12.773Z"
   },
   {
    "duration": 278,
    "start_time": "2022-09-13T07:01:13.058Z"
   },
   {
    "duration": 14,
    "start_time": "2022-09-13T07:01:13.337Z"
   },
   {
    "duration": 29,
    "start_time": "2022-09-13T07:01:13.353Z"
   },
   {
    "duration": 13,
    "start_time": "2022-09-13T07:01:13.384Z"
   },
   {
    "duration": 12,
    "start_time": "2022-09-13T07:01:13.408Z"
   },
   {
    "duration": 12,
    "start_time": "2022-09-13T07:01:13.422Z"
   },
   {
    "duration": 320,
    "start_time": "2022-09-13T07:01:13.435Z"
   },
   {
    "duration": 101,
    "start_time": "2022-09-13T07:01:13.756Z"
   },
   {
    "duration": 107,
    "start_time": "2022-09-13T07:01:13.859Z"
   },
   {
    "duration": 104,
    "start_time": "2022-09-13T07:01:13.971Z"
   },
   {
    "duration": 147,
    "start_time": "2022-09-13T07:01:14.078Z"
   },
   {
    "duration": 150,
    "start_time": "2022-09-13T07:01:14.227Z"
   },
   {
    "duration": 162,
    "start_time": "2022-09-13T07:01:14.391Z"
   },
   {
    "duration": 4,
    "start_time": "2022-09-13T07:01:14.555Z"
   },
   {
    "duration": 20,
    "start_time": "2022-09-13T07:01:14.561Z"
   },
   {
    "duration": 17,
    "start_time": "2022-09-13T07:01:14.583Z"
   },
   {
    "duration": 18,
    "start_time": "2022-09-13T07:01:14.603Z"
   },
   {
    "duration": 32,
    "start_time": "2022-09-13T07:01:14.624Z"
   },
   {
    "duration": 23,
    "start_time": "2022-09-13T07:01:14.659Z"
   },
   {
    "duration": 21,
    "start_time": "2022-09-13T07:01:14.684Z"
   },
   {
    "duration": 6,
    "start_time": "2022-09-13T07:04:15.347Z"
   },
   {
    "duration": 6,
    "start_time": "2022-09-13T07:27:50.554Z"
   },
   {
    "duration": 6,
    "start_time": "2022-09-13T07:27:55.220Z"
   },
   {
    "duration": 116,
    "start_time": "2022-09-13T07:28:13.195Z"
   },
   {
    "duration": 73,
    "start_time": "2022-09-13T07:28:37.753Z"
   },
   {
    "duration": 6,
    "start_time": "2022-09-13T07:33:06.884Z"
   },
   {
    "duration": 6,
    "start_time": "2022-09-13T07:33:55.716Z"
   },
   {
    "duration": 7,
    "start_time": "2022-09-13T07:36:16.115Z"
   },
   {
    "duration": 8,
    "start_time": "2022-09-13T07:36:39.105Z"
   },
   {
    "duration": 7,
    "start_time": "2022-09-13T07:36:48.452Z"
   },
   {
    "duration": 8,
    "start_time": "2022-09-13T07:37:26.939Z"
   },
   {
    "duration": 7,
    "start_time": "2022-09-13T07:37:45.166Z"
   },
   {
    "duration": 10,
    "start_time": "2022-09-13T07:38:05.973Z"
   },
   {
    "duration": 5,
    "start_time": "2022-09-13T07:38:12.699Z"
   },
   {
    "duration": 7,
    "start_time": "2022-09-13T07:38:20.209Z"
   },
   {
    "duration": 8,
    "start_time": "2022-09-13T07:41:00.942Z"
   },
   {
    "duration": 9,
    "start_time": "2022-09-13T07:41:13.234Z"
   },
   {
    "duration": 67,
    "start_time": "2022-09-13T07:41:22.842Z"
   },
   {
    "duration": 9,
    "start_time": "2022-09-13T07:41:29.486Z"
   },
   {
    "duration": 252,
    "start_time": "2022-09-13T07:41:59.868Z"
   },
   {
    "duration": 271,
    "start_time": "2022-09-13T07:42:16.426Z"
   },
   {
    "duration": 239,
    "start_time": "2022-09-13T07:42:30.331Z"
   },
   {
    "duration": 281,
    "start_time": "2022-09-13T07:42:46.234Z"
   },
   {
    "duration": 10,
    "start_time": "2022-09-13T07:43:05.448Z"
   },
   {
    "duration": 11,
    "start_time": "2022-09-13T07:43:14.558Z"
   },
   {
    "duration": 10,
    "start_time": "2022-09-13T07:43:31.755Z"
   },
   {
    "duration": 10,
    "start_time": "2022-09-13T07:43:40.539Z"
   },
   {
    "duration": 372,
    "start_time": "2022-09-13T08:01:51.446Z"
   },
   {
    "duration": 51,
    "start_time": "2022-09-13T08:01:51.820Z"
   },
   {
    "duration": 12,
    "start_time": "2022-09-13T08:01:51.873Z"
   },
   {
    "duration": 886,
    "start_time": "2022-09-13T08:01:51.887Z"
   },
   {
    "duration": 3,
    "start_time": "2022-09-13T08:01:52.775Z"
   },
   {
    "duration": 18,
    "start_time": "2022-09-13T08:01:52.779Z"
   },
   {
    "duration": 23,
    "start_time": "2022-09-13T08:01:52.798Z"
   },
   {
    "duration": 10,
    "start_time": "2022-09-13T08:01:52.823Z"
   },
   {
    "duration": 5,
    "start_time": "2022-09-13T08:01:52.835Z"
   },
   {
    "duration": 53,
    "start_time": "2022-09-13T08:01:52.842Z"
   },
   {
    "duration": 4,
    "start_time": "2022-09-13T08:01:52.897Z"
   },
   {
    "duration": 12,
    "start_time": "2022-09-13T08:01:52.902Z"
   },
   {
    "duration": 4,
    "start_time": "2022-09-13T08:01:52.915Z"
   },
   {
    "duration": 9,
    "start_time": "2022-09-13T08:01:52.920Z"
   },
   {
    "duration": 13,
    "start_time": "2022-09-13T08:01:52.931Z"
   },
   {
    "duration": 4,
    "start_time": "2022-09-13T08:01:52.945Z"
   },
   {
    "duration": 10,
    "start_time": "2022-09-13T08:01:52.950Z"
   },
   {
    "duration": 12,
    "start_time": "2022-09-13T08:01:52.961Z"
   },
   {
    "duration": 43,
    "start_time": "2022-09-13T08:01:52.974Z"
   },
   {
    "duration": 12,
    "start_time": "2022-09-13T08:01:53.018Z"
   },
   {
    "duration": 89,
    "start_time": "2022-09-13T08:01:53.032Z"
   },
   {
    "duration": 349,
    "start_time": "2022-09-13T08:01:53.123Z"
   },
   {
    "duration": 10,
    "start_time": "2022-09-13T08:01:53.474Z"
   },
   {
    "duration": 854,
    "start_time": "2022-09-13T08:01:53.487Z"
   },
   {
    "duration": 8,
    "start_time": "2022-09-13T08:01:54.342Z"
   },
   {
    "duration": 292,
    "start_time": "2022-09-13T08:01:54.352Z"
   },
   {
    "duration": 28,
    "start_time": "2022-09-13T08:01:54.646Z"
   },
   {
    "duration": 3,
    "start_time": "2022-09-13T08:01:54.678Z"
   },
   {
    "duration": 590,
    "start_time": "2022-09-13T08:01:54.683Z"
   },
   {
    "duration": 522,
    "start_time": "2022-09-13T08:01:55.275Z"
   },
   {
    "duration": 268,
    "start_time": "2022-09-13T08:01:55.799Z"
   },
   {
    "duration": 296,
    "start_time": "2022-09-13T08:01:56.068Z"
   },
   {
    "duration": 14,
    "start_time": "2022-09-13T08:01:56.366Z"
   },
   {
    "duration": 31,
    "start_time": "2022-09-13T08:01:56.381Z"
   },
   {
    "duration": 25,
    "start_time": "2022-09-13T08:01:56.413Z"
   },
   {
    "duration": 14,
    "start_time": "2022-09-13T08:01:56.439Z"
   },
   {
    "duration": 6,
    "start_time": "2022-09-13T08:01:56.454Z"
   },
   {
    "duration": 329,
    "start_time": "2022-09-13T08:01:56.462Z"
   },
   {
    "duration": 101,
    "start_time": "2022-09-13T08:01:56.793Z"
   },
   {
    "duration": 97,
    "start_time": "2022-09-13T08:01:56.896Z"
   },
   {
    "duration": 100,
    "start_time": "2022-09-13T08:01:56.994Z"
   },
   {
    "duration": 138,
    "start_time": "2022-09-13T08:01:57.109Z"
   },
   {
    "duration": 150,
    "start_time": "2022-09-13T08:01:57.249Z"
   },
   {
    "duration": 132,
    "start_time": "2022-09-13T08:01:57.400Z"
   },
   {
    "duration": 2,
    "start_time": "2022-09-13T08:01:57.534Z"
   },
   {
    "duration": 15,
    "start_time": "2022-09-13T08:01:57.538Z"
   },
   {
    "duration": 8,
    "start_time": "2022-09-13T08:01:57.554Z"
   },
   {
    "duration": 11,
    "start_time": "2022-09-13T08:01:57.563Z"
   },
   {
    "duration": 24,
    "start_time": "2022-09-13T08:01:57.575Z"
   },
   {
    "duration": 3,
    "start_time": "2022-09-13T08:03:23.808Z"
   },
   {
    "duration": 412,
    "start_time": "2022-09-13T08:04:24.310Z"
   },
   {
    "duration": 49,
    "start_time": "2022-09-13T08:04:24.723Z"
   },
   {
    "duration": 13,
    "start_time": "2022-09-13T08:04:24.774Z"
   },
   {
    "duration": 878,
    "start_time": "2022-09-13T08:04:24.789Z"
   },
   {
    "duration": 2,
    "start_time": "2022-09-13T08:04:25.669Z"
   },
   {
    "duration": 7,
    "start_time": "2022-09-13T08:04:25.673Z"
   },
   {
    "duration": 13,
    "start_time": "2022-09-13T08:04:25.681Z"
   },
   {
    "duration": 18,
    "start_time": "2022-09-13T08:04:25.695Z"
   },
   {
    "duration": 4,
    "start_time": "2022-09-13T08:04:25.715Z"
   },
   {
    "duration": 14,
    "start_time": "2022-09-13T08:04:25.721Z"
   },
   {
    "duration": 13,
    "start_time": "2022-09-13T08:04:25.737Z"
   },
   {
    "duration": 13,
    "start_time": "2022-09-13T08:04:25.752Z"
   },
   {
    "duration": 5,
    "start_time": "2022-09-13T08:04:25.767Z"
   },
   {
    "duration": 8,
    "start_time": "2022-09-13T08:04:25.774Z"
   },
   {
    "duration": 14,
    "start_time": "2022-09-13T08:04:25.783Z"
   },
   {
    "duration": 13,
    "start_time": "2022-09-13T08:04:25.798Z"
   },
   {
    "duration": 11,
    "start_time": "2022-09-13T08:04:25.812Z"
   },
   {
    "duration": 13,
    "start_time": "2022-09-13T08:04:25.824Z"
   },
   {
    "duration": 19,
    "start_time": "2022-09-13T08:04:25.839Z"
   },
   {
    "duration": 14,
    "start_time": "2022-09-13T08:04:25.860Z"
   },
   {
    "duration": 81,
    "start_time": "2022-09-13T08:04:25.875Z"
   },
   {
    "duration": 373,
    "start_time": "2022-09-13T08:04:25.957Z"
   },
   {
    "duration": 7,
    "start_time": "2022-09-13T08:04:26.331Z"
   },
   {
    "duration": 820,
    "start_time": "2022-09-13T08:04:26.340Z"
   },
   {
    "duration": 6,
    "start_time": "2022-09-13T08:04:27.162Z"
   },
   {
    "duration": 245,
    "start_time": "2022-09-13T08:04:27.170Z"
   },
   {
    "duration": 21,
    "start_time": "2022-09-13T08:04:27.417Z"
   },
   {
    "duration": 547,
    "start_time": "2022-09-13T08:04:27.442Z"
   },
   {
    "duration": 477,
    "start_time": "2022-09-13T08:04:27.991Z"
   },
   {
    "duration": 245,
    "start_time": "2022-09-13T08:04:28.469Z"
   },
   {
    "duration": 260,
    "start_time": "2022-09-13T08:04:28.716Z"
   },
   {
    "duration": 11,
    "start_time": "2022-09-13T08:04:28.978Z"
   },
   {
    "duration": 24,
    "start_time": "2022-09-13T08:04:28.990Z"
   },
   {
    "duration": 9,
    "start_time": "2022-09-13T08:04:29.016Z"
   },
   {
    "duration": 9,
    "start_time": "2022-09-13T08:04:29.026Z"
   },
   {
    "duration": 15,
    "start_time": "2022-09-13T08:04:29.037Z"
   },
   {
    "duration": 310,
    "start_time": "2022-09-13T08:04:29.053Z"
   },
   {
    "duration": 98,
    "start_time": "2022-09-13T08:04:29.364Z"
   },
   {
    "duration": 102,
    "start_time": "2022-09-13T08:04:29.463Z"
   },
   {
    "duration": 99,
    "start_time": "2022-09-13T08:04:29.567Z"
   },
   {
    "duration": 137,
    "start_time": "2022-09-13T08:04:29.668Z"
   },
   {
    "duration": 136,
    "start_time": "2022-09-13T08:04:29.809Z"
   },
   {
    "duration": 128,
    "start_time": "2022-09-13T08:04:29.946Z"
   },
   {
    "duration": 3,
    "start_time": "2022-09-13T08:04:30.075Z"
   },
   {
    "duration": 44,
    "start_time": "2022-09-13T08:04:30.080Z"
   },
   {
    "duration": 38,
    "start_time": "2022-09-13T08:04:30.126Z"
   },
   {
    "duration": 28,
    "start_time": "2022-09-13T08:04:30.166Z"
   },
   {
    "duration": 24,
    "start_time": "2022-09-13T08:04:30.196Z"
   },
   {
    "duration": 362,
    "start_time": "2022-09-13T08:13:27.966Z"
   },
   {
    "duration": 55,
    "start_time": "2022-09-13T08:13:28.330Z"
   },
   {
    "duration": 15,
    "start_time": "2022-09-13T08:13:28.387Z"
   },
   {
    "duration": 928,
    "start_time": "2022-09-13T08:13:28.404Z"
   },
   {
    "duration": 4,
    "start_time": "2022-09-13T08:13:29.333Z"
   },
   {
    "duration": 10,
    "start_time": "2022-09-13T08:13:29.338Z"
   },
   {
    "duration": 13,
    "start_time": "2022-09-13T08:13:29.349Z"
   },
   {
    "duration": 9,
    "start_time": "2022-09-13T08:13:29.364Z"
   },
   {
    "duration": 6,
    "start_time": "2022-09-13T08:13:29.374Z"
   },
   {
    "duration": 28,
    "start_time": "2022-09-13T08:13:29.382Z"
   },
   {
    "duration": 4,
    "start_time": "2022-09-13T08:13:29.411Z"
   },
   {
    "duration": 21,
    "start_time": "2022-09-13T08:13:29.416Z"
   },
   {
    "duration": 6,
    "start_time": "2022-09-13T08:13:29.438Z"
   },
   {
    "duration": 16,
    "start_time": "2022-09-13T08:13:29.445Z"
   },
   {
    "duration": 19,
    "start_time": "2022-09-13T08:13:29.463Z"
   },
   {
    "duration": 30,
    "start_time": "2022-09-13T08:13:29.483Z"
   },
   {
    "duration": 25,
    "start_time": "2022-09-13T08:13:29.514Z"
   },
   {
    "duration": 18,
    "start_time": "2022-09-13T08:13:29.541Z"
   },
   {
    "duration": 26,
    "start_time": "2022-09-13T08:13:29.560Z"
   },
   {
    "duration": 10,
    "start_time": "2022-09-13T08:13:29.588Z"
   },
   {
    "duration": 60,
    "start_time": "2022-09-13T08:13:29.599Z"
   },
   {
    "duration": 358,
    "start_time": "2022-09-13T08:13:29.660Z"
   },
   {
    "duration": 7,
    "start_time": "2022-09-13T08:13:30.020Z"
   },
   {
    "duration": 797,
    "start_time": "2022-09-13T08:13:30.028Z"
   },
   {
    "duration": 7,
    "start_time": "2022-09-13T08:13:30.827Z"
   },
   {
    "duration": 220,
    "start_time": "2022-09-13T08:13:30.835Z"
   },
   {
    "duration": 19,
    "start_time": "2022-09-13T08:13:31.056Z"
   },
   {
    "duration": 541,
    "start_time": "2022-09-13T08:13:31.078Z"
   },
   {
    "duration": 478,
    "start_time": "2022-09-13T08:13:31.621Z"
   },
   {
    "duration": 246,
    "start_time": "2022-09-13T08:13:32.101Z"
   },
   {
    "duration": 247,
    "start_time": "2022-09-13T08:13:32.348Z"
   },
   {
    "duration": 17,
    "start_time": "2022-09-13T08:13:32.597Z"
   },
   {
    "duration": 15,
    "start_time": "2022-09-13T08:13:32.616Z"
   },
   {
    "duration": 18,
    "start_time": "2022-09-13T08:13:32.633Z"
   },
   {
    "duration": 19,
    "start_time": "2022-09-13T08:13:32.653Z"
   },
   {
    "duration": 10,
    "start_time": "2022-09-13T08:13:32.673Z"
   },
   {
    "duration": 293,
    "start_time": "2022-09-13T08:13:32.685Z"
   },
   {
    "duration": 93,
    "start_time": "2022-09-13T08:13:32.980Z"
   },
   {
    "duration": 96,
    "start_time": "2022-09-13T08:13:33.075Z"
   },
   {
    "duration": 94,
    "start_time": "2022-09-13T08:13:33.173Z"
   },
   {
    "duration": 142,
    "start_time": "2022-09-13T08:13:33.269Z"
   },
   {
    "duration": 130,
    "start_time": "2022-09-13T08:13:33.412Z"
   },
   {
    "duration": 137,
    "start_time": "2022-09-13T08:13:33.543Z"
   },
   {
    "duration": 2,
    "start_time": "2022-09-13T08:13:33.682Z"
   },
   {
    "duration": 10,
    "start_time": "2022-09-13T08:13:33.686Z"
   },
   {
    "duration": 14,
    "start_time": "2022-09-13T08:13:33.698Z"
   },
   {
    "duration": 24,
    "start_time": "2022-09-13T08:13:33.713Z"
   },
   {
    "duration": 17,
    "start_time": "2022-09-13T08:13:33.739Z"
   },
   {
    "duration": 390,
    "start_time": "2022-09-13T19:09:24.051Z"
   },
   {
    "duration": 107,
    "start_time": "2022-09-13T19:09:24.443Z"
   },
   {
    "duration": 15,
    "start_time": "2022-09-13T19:09:24.552Z"
   },
   {
    "duration": 1056,
    "start_time": "2022-09-13T19:09:24.570Z"
   },
   {
    "duration": 4,
    "start_time": "2022-09-13T19:09:25.628Z"
   },
   {
    "duration": 7,
    "start_time": "2022-09-13T19:09:25.633Z"
   },
   {
    "duration": 11,
    "start_time": "2022-09-13T19:09:25.641Z"
   },
   {
    "duration": 9,
    "start_time": "2022-09-13T19:09:25.653Z"
   },
   {
    "duration": 4,
    "start_time": "2022-09-13T19:09:25.663Z"
   },
   {
    "duration": 8,
    "start_time": "2022-09-13T19:09:25.668Z"
   },
   {
    "duration": 32,
    "start_time": "2022-09-13T19:09:25.677Z"
   },
   {
    "duration": 10,
    "start_time": "2022-09-13T19:09:25.710Z"
   },
   {
    "duration": 48,
    "start_time": "2022-09-13T19:09:25.721Z"
   },
   {
    "duration": 10,
    "start_time": "2022-09-13T19:09:25.772Z"
   },
   {
    "duration": 11,
    "start_time": "2022-09-13T19:09:25.784Z"
   },
   {
    "duration": 3,
    "start_time": "2022-09-13T19:09:25.809Z"
   },
   {
    "duration": 11,
    "start_time": "2022-09-13T19:09:25.814Z"
   },
   {
    "duration": 17,
    "start_time": "2022-09-13T19:09:25.826Z"
   },
   {
    "duration": 19,
    "start_time": "2022-09-13T19:09:25.844Z"
   },
   {
    "duration": 9,
    "start_time": "2022-09-13T19:09:25.865Z"
   },
   {
    "duration": 75,
    "start_time": "2022-09-13T19:09:25.875Z"
   },
   {
    "duration": 318,
    "start_time": "2022-09-13T19:09:25.952Z"
   },
   {
    "duration": 8,
    "start_time": "2022-09-13T19:09:26.271Z"
   },
   {
    "duration": 857,
    "start_time": "2022-09-13T19:09:26.280Z"
   },
   {
    "duration": 7,
    "start_time": "2022-09-13T19:09:27.138Z"
   },
   {
    "duration": 269,
    "start_time": "2022-09-13T19:09:27.146Z"
   },
   {
    "duration": 19,
    "start_time": "2022-09-13T19:09:27.416Z"
   },
   {
    "duration": 473,
    "start_time": "2022-09-13T19:09:27.436Z"
   },
   {
    "duration": 474,
    "start_time": "2022-09-13T19:09:27.910Z"
   },
   {
    "duration": 238,
    "start_time": "2022-09-13T19:09:28.385Z"
   },
   {
    "duration": 251,
    "start_time": "2022-09-13T19:09:28.625Z"
   },
   {
    "duration": 10,
    "start_time": "2022-09-13T19:09:28.877Z"
   },
   {
    "duration": 22,
    "start_time": "2022-09-13T19:09:28.888Z"
   },
   {
    "duration": 10,
    "start_time": "2022-09-13T19:09:28.912Z"
   },
   {
    "duration": 9,
    "start_time": "2022-09-13T19:09:28.923Z"
   },
   {
    "duration": 5,
    "start_time": "2022-09-13T19:09:28.933Z"
   },
   {
    "duration": 306,
    "start_time": "2022-09-13T19:09:28.940Z"
   },
   {
    "duration": 99,
    "start_time": "2022-09-13T19:09:29.247Z"
   },
   {
    "duration": 90,
    "start_time": "2022-09-13T19:09:29.348Z"
   },
   {
    "duration": 93,
    "start_time": "2022-09-13T19:09:29.439Z"
   },
   {
    "duration": 137,
    "start_time": "2022-09-13T19:09:29.536Z"
   },
   {
    "duration": 124,
    "start_time": "2022-09-13T19:09:29.674Z"
   },
   {
    "duration": 125,
    "start_time": "2022-09-13T19:09:29.800Z"
   },
   {
    "duration": 3,
    "start_time": "2022-09-13T19:09:29.926Z"
   },
   {
    "duration": 10,
    "start_time": "2022-09-13T19:09:29.930Z"
   },
   {
    "duration": 7,
    "start_time": "2022-09-13T19:09:29.942Z"
   },
   {
    "duration": 7,
    "start_time": "2022-09-13T19:09:29.950Z"
   },
   {
    "duration": 5,
    "start_time": "2022-09-13T19:09:29.959Z"
   },
   {
    "duration": 384,
    "start_time": "2022-09-13T19:20:39.464Z"
   },
   {
    "duration": 49,
    "start_time": "2022-09-13T19:20:39.850Z"
   },
   {
    "duration": 13,
    "start_time": "2022-09-13T19:20:39.900Z"
   },
   {
    "duration": 865,
    "start_time": "2022-09-13T19:20:39.914Z"
   },
   {
    "duration": 4,
    "start_time": "2022-09-13T19:20:40.780Z"
   },
   {
    "duration": 10,
    "start_time": "2022-09-13T19:20:40.785Z"
   },
   {
    "duration": 15,
    "start_time": "2022-09-13T19:20:40.796Z"
   },
   {
    "duration": 8,
    "start_time": "2022-09-13T19:20:40.812Z"
   },
   {
    "duration": 5,
    "start_time": "2022-09-13T19:20:40.821Z"
   },
   {
    "duration": 11,
    "start_time": "2022-09-13T19:20:40.827Z"
   },
   {
    "duration": 4,
    "start_time": "2022-09-13T19:20:40.840Z"
   },
   {
    "duration": 11,
    "start_time": "2022-09-13T19:20:40.845Z"
   },
   {
    "duration": 4,
    "start_time": "2022-09-13T19:20:40.857Z"
   },
   {
    "duration": 6,
    "start_time": "2022-09-13T19:20:40.864Z"
   },
   {
    "duration": 40,
    "start_time": "2022-09-13T19:20:40.871Z"
   },
   {
    "duration": 5,
    "start_time": "2022-09-13T19:20:40.913Z"
   },
   {
    "duration": 13,
    "start_time": "2022-09-13T19:20:40.919Z"
   },
   {
    "duration": 15,
    "start_time": "2022-09-13T19:20:40.933Z"
   },
   {
    "duration": 19,
    "start_time": "2022-09-13T19:20:40.950Z"
   },
   {
    "duration": 10,
    "start_time": "2022-09-13T19:20:40.970Z"
   },
   {
    "duration": 79,
    "start_time": "2022-09-13T19:20:40.981Z"
   },
   {
    "duration": 348,
    "start_time": "2022-09-13T19:20:41.062Z"
   },
   {
    "duration": 7,
    "start_time": "2022-09-13T19:20:41.412Z"
   },
   {
    "duration": 827,
    "start_time": "2022-09-13T19:20:41.420Z"
   },
   {
    "duration": 7,
    "start_time": "2022-09-13T19:20:42.248Z"
   },
   {
    "duration": 209,
    "start_time": "2022-09-13T19:20:42.256Z"
   },
   {
    "duration": 19,
    "start_time": "2022-09-13T19:20:42.466Z"
   },
   {
    "duration": 534,
    "start_time": "2022-09-13T19:20:42.487Z"
   },
   {
    "duration": 503,
    "start_time": "2022-09-13T19:20:43.022Z"
   },
   {
    "duration": 7,
    "start_time": "2022-09-13T19:20:43.526Z"
   },
   {
    "duration": 248,
    "start_time": "2022-09-13T19:20:43.534Z"
   },
   {
    "duration": 263,
    "start_time": "2022-09-13T19:20:43.783Z"
   },
   {
    "duration": 10,
    "start_time": "2022-09-13T19:20:44.047Z"
   },
   {
    "duration": 17,
    "start_time": "2022-09-13T19:20:44.058Z"
   },
   {
    "duration": 9,
    "start_time": "2022-09-13T19:20:44.076Z"
   },
   {
    "duration": 23,
    "start_time": "2022-09-13T19:20:44.087Z"
   },
   {
    "duration": 8,
    "start_time": "2022-09-13T19:20:44.112Z"
   },
   {
    "duration": 352,
    "start_time": "2022-09-13T19:20:44.121Z"
   },
   {
    "duration": 146,
    "start_time": "2022-09-13T19:20:44.475Z"
   },
   {
    "duration": 214,
    "start_time": "2022-09-13T19:20:44.623Z"
   },
   {
    "duration": 190,
    "start_time": "2022-09-13T19:20:44.840Z"
   },
   {
    "duration": 289,
    "start_time": "2022-09-13T19:20:45.032Z"
   },
   {
    "duration": 304,
    "start_time": "2022-09-13T19:20:45.322Z"
   },
   {
    "duration": 287,
    "start_time": "2022-09-13T19:20:45.628Z"
   },
   {
    "duration": 2,
    "start_time": "2022-09-13T19:20:45.917Z"
   },
   {
    "duration": 24,
    "start_time": "2022-09-13T19:20:45.921Z"
   },
   {
    "duration": 7,
    "start_time": "2022-09-13T19:20:45.947Z"
   },
   {
    "duration": 59,
    "start_time": "2022-09-13T19:20:45.956Z"
   },
   {
    "duration": 8,
    "start_time": "2022-09-13T19:20:46.017Z"
   },
   {
    "duration": 4,
    "start_time": "2022-09-13T19:25:12.598Z"
   },
   {
    "duration": 3,
    "start_time": "2022-09-13T19:26:57.444Z"
   },
   {
    "duration": 50,
    "start_time": "2022-09-14T05:16:47.636Z"
   },
   {
    "duration": 417,
    "start_time": "2022-09-14T05:16:59.236Z"
   },
   {
    "duration": 189,
    "start_time": "2022-09-14T05:16:59.655Z"
   },
   {
    "duration": 16,
    "start_time": "2022-09-14T05:16:59.846Z"
   },
   {
    "duration": 1215,
    "start_time": "2022-09-14T05:16:59.863Z"
   },
   {
    "duration": 9,
    "start_time": "2022-09-14T05:17:01.081Z"
   },
   {
    "duration": 25,
    "start_time": "2022-09-14T05:17:01.092Z"
   },
   {
    "duration": 22,
    "start_time": "2022-09-14T05:17:01.119Z"
   },
   {
    "duration": 22,
    "start_time": "2022-09-14T05:17:01.143Z"
   },
   {
    "duration": 22,
    "start_time": "2022-09-14T05:17:01.167Z"
   },
   {
    "duration": 35,
    "start_time": "2022-09-14T05:17:01.191Z"
   },
   {
    "duration": 19,
    "start_time": "2022-09-14T05:17:01.228Z"
   },
   {
    "duration": 26,
    "start_time": "2022-09-14T05:17:01.249Z"
   },
   {
    "duration": 65,
    "start_time": "2022-09-14T05:17:01.277Z"
   },
   {
    "duration": 25,
    "start_time": "2022-09-14T05:17:01.345Z"
   },
   {
    "duration": 44,
    "start_time": "2022-09-14T05:17:01.372Z"
   },
   {
    "duration": 9,
    "start_time": "2022-09-14T05:17:01.418Z"
   },
   {
    "duration": 46,
    "start_time": "2022-09-14T05:17:01.429Z"
   },
   {
    "duration": 20,
    "start_time": "2022-09-14T05:17:01.477Z"
   },
   {
    "duration": 30,
    "start_time": "2022-09-14T05:17:01.499Z"
   },
   {
    "duration": 12,
    "start_time": "2022-09-14T05:17:01.531Z"
   },
   {
    "duration": 78,
    "start_time": "2022-09-14T05:17:01.545Z"
   },
   {
    "duration": 408,
    "start_time": "2022-09-14T05:17:01.625Z"
   },
   {
    "duration": 8,
    "start_time": "2022-09-14T05:17:02.036Z"
   },
   {
    "duration": 959,
    "start_time": "2022-09-14T05:17:02.046Z"
   },
   {
    "duration": 83,
    "start_time": "2022-09-14T05:17:03.007Z"
   },
   {
    "duration": 224,
    "start_time": "2022-09-14T05:17:03.092Z"
   },
   {
    "duration": 21,
    "start_time": "2022-09-14T05:17:03.318Z"
   },
   {
    "duration": 577,
    "start_time": "2022-09-14T05:17:03.341Z"
   },
   {
    "duration": 557,
    "start_time": "2022-09-14T05:17:03.920Z"
   },
   {
    "duration": 14,
    "start_time": "2022-09-14T05:17:04.479Z"
   },
   {
    "duration": 303,
    "start_time": "2022-09-14T05:17:04.495Z"
   },
   {
    "duration": 333,
    "start_time": "2022-09-14T05:17:04.800Z"
   },
   {
    "duration": 11,
    "start_time": "2022-09-14T05:17:05.135Z"
   },
   {
    "duration": 13,
    "start_time": "2022-09-14T05:17:05.148Z"
   },
   {
    "duration": 30,
    "start_time": "2022-09-14T05:17:05.163Z"
   },
   {
    "duration": 16,
    "start_time": "2022-09-14T05:17:05.195Z"
   },
   {
    "duration": 8,
    "start_time": "2022-09-14T05:17:05.213Z"
   },
   {
    "duration": 14,
    "start_time": "2022-09-14T05:17:05.222Z"
   },
   {
    "duration": 390,
    "start_time": "2022-09-14T05:17:05.237Z"
   },
   {
    "duration": 113,
    "start_time": "2022-09-14T05:17:05.629Z"
   },
   {
    "duration": 111,
    "start_time": "2022-09-14T05:17:05.746Z"
   },
   {
    "duration": 110,
    "start_time": "2022-09-14T05:17:05.859Z"
   },
   {
    "duration": 167,
    "start_time": "2022-09-14T05:17:05.971Z"
   },
   {
    "duration": 149,
    "start_time": "2022-09-14T05:17:06.140Z"
   },
   {
    "duration": 155,
    "start_time": "2022-09-14T05:17:06.291Z"
   },
   {
    "duration": 3,
    "start_time": "2022-09-14T05:17:06.447Z"
   },
   {
    "duration": 14,
    "start_time": "2022-09-14T05:17:06.452Z"
   },
   {
    "duration": 9,
    "start_time": "2022-09-14T05:17:06.468Z"
   },
   {
    "duration": 9,
    "start_time": "2022-09-14T05:17:06.488Z"
   },
   {
    "duration": 8,
    "start_time": "2022-09-14T05:17:06.498Z"
   },
   {
    "duration": 272,
    "start_time": "2022-09-14T05:18:24.398Z"
   },
   {
    "duration": 12,
    "start_time": "2022-09-14T05:19:49.637Z"
   },
   {
    "duration": 12,
    "start_time": "2022-09-14T05:20:06.523Z"
   },
   {
    "duration": 10,
    "start_time": "2022-09-14T05:20:57.923Z"
   },
   {
    "duration": 10,
    "start_time": "2022-09-14T05:21:08.015Z"
   },
   {
    "duration": 9,
    "start_time": "2022-09-14T05:21:27.145Z"
   },
   {
    "duration": 10,
    "start_time": "2022-09-14T05:21:47.053Z"
   },
   {
    "duration": 4,
    "start_time": "2022-09-14T05:23:00.821Z"
   },
   {
    "duration": 5,
    "start_time": "2022-09-14T05:23:04.572Z"
   },
   {
    "duration": 4,
    "start_time": "2022-09-14T05:24:49.975Z"
   },
   {
    "duration": 5,
    "start_time": "2022-09-14T05:25:40.259Z"
   },
   {
    "duration": 442,
    "start_time": "2022-09-14T05:26:54.510Z"
   },
   {
    "duration": 52,
    "start_time": "2022-09-14T05:26:54.954Z"
   },
   {
    "duration": 15,
    "start_time": "2022-09-14T05:26:55.008Z"
   },
   {
    "duration": 982,
    "start_time": "2022-09-14T05:26:55.026Z"
   },
   {
    "duration": 4,
    "start_time": "2022-09-14T05:26:56.010Z"
   },
   {
    "duration": 8,
    "start_time": "2022-09-14T05:26:56.015Z"
   },
   {
    "duration": 11,
    "start_time": "2022-09-14T05:26:56.024Z"
   },
   {
    "duration": 14,
    "start_time": "2022-09-14T05:26:56.037Z"
   },
   {
    "duration": 7,
    "start_time": "2022-09-14T05:26:56.053Z"
   },
   {
    "duration": 31,
    "start_time": "2022-09-14T05:26:56.063Z"
   },
   {
    "duration": 8,
    "start_time": "2022-09-14T05:26:56.096Z"
   },
   {
    "duration": 17,
    "start_time": "2022-09-14T05:26:56.105Z"
   },
   {
    "duration": 5,
    "start_time": "2022-09-14T05:26:56.124Z"
   },
   {
    "duration": 11,
    "start_time": "2022-09-14T05:26:56.131Z"
   },
   {
    "duration": 16,
    "start_time": "2022-09-14T05:26:56.144Z"
   },
   {
    "duration": 4,
    "start_time": "2022-09-14T05:26:56.162Z"
   },
   {
    "duration": 12,
    "start_time": "2022-09-14T05:26:56.188Z"
   },
   {
    "duration": 14,
    "start_time": "2022-09-14T05:26:56.202Z"
   },
   {
    "duration": 29,
    "start_time": "2022-09-14T05:26:56.218Z"
   },
   {
    "duration": 12,
    "start_time": "2022-09-14T05:26:56.249Z"
   },
   {
    "duration": 80,
    "start_time": "2022-09-14T05:26:56.264Z"
   },
   {
    "duration": 445,
    "start_time": "2022-09-14T05:26:56.347Z"
   },
   {
    "duration": 8,
    "start_time": "2022-09-14T05:26:56.794Z"
   },
   {
    "duration": 935,
    "start_time": "2022-09-14T05:26:56.803Z"
   },
   {
    "duration": 6,
    "start_time": "2022-09-14T05:26:57.740Z"
   },
   {
    "duration": 242,
    "start_time": "2022-09-14T05:26:57.748Z"
   },
   {
    "duration": 22,
    "start_time": "2022-09-14T05:26:57.992Z"
   },
   {
    "duration": 627,
    "start_time": "2022-09-14T05:26:58.017Z"
   },
   {
    "duration": 531,
    "start_time": "2022-09-14T05:26:58.646Z"
   },
   {
    "duration": 4,
    "start_time": "2022-09-14T05:26:59.179Z"
   },
   {
    "duration": 19,
    "start_time": "2022-09-14T05:26:59.188Z"
   },
   {
    "duration": 280,
    "start_time": "2022-09-14T05:26:59.209Z"
   },
   {
    "duration": 284,
    "start_time": "2022-09-14T05:26:59.491Z"
   },
   {
    "duration": 13,
    "start_time": "2022-09-14T05:26:59.777Z"
   },
   {
    "duration": 9,
    "start_time": "2022-09-14T05:26:59.791Z"
   },
   {
    "duration": 10,
    "start_time": "2022-09-14T05:26:59.802Z"
   },
   {
    "duration": 10,
    "start_time": "2022-09-14T05:26:59.813Z"
   },
   {
    "duration": 6,
    "start_time": "2022-09-14T05:26:59.824Z"
   },
   {
    "duration": 9,
    "start_time": "2022-09-14T05:26:59.832Z"
   },
   {
    "duration": 375,
    "start_time": "2022-09-14T05:26:59.843Z"
   },
   {
    "duration": 110,
    "start_time": "2022-09-14T05:27:00.220Z"
   },
   {
    "duration": 111,
    "start_time": "2022-09-14T05:27:00.332Z"
   },
   {
    "duration": 109,
    "start_time": "2022-09-14T05:27:00.445Z"
   },
   {
    "duration": 145,
    "start_time": "2022-09-14T05:27:00.556Z"
   },
   {
    "duration": 142,
    "start_time": "2022-09-14T05:27:00.703Z"
   },
   {
    "duration": 126,
    "start_time": "2022-09-14T05:27:00.847Z"
   },
   {
    "duration": 14,
    "start_time": "2022-09-14T05:27:00.975Z"
   },
   {
    "duration": 20,
    "start_time": "2022-09-14T05:27:00.991Z"
   },
   {
    "duration": 28,
    "start_time": "2022-09-14T05:27:01.013Z"
   },
   {
    "duration": 33,
    "start_time": "2022-09-14T05:27:01.043Z"
   },
   {
    "duration": 26,
    "start_time": "2022-09-14T05:27:01.077Z"
   },
   {
    "duration": 9,
    "start_time": "2022-09-14T05:30:59.781Z"
   },
   {
    "duration": 262,
    "start_time": "2022-09-14T05:31:05.138Z"
   },
   {
    "duration": 7,
    "start_time": "2022-09-14T05:32:05.801Z"
   },
   {
    "duration": 90,
    "start_time": "2022-09-14T05:33:02.592Z"
   },
   {
    "duration": 98,
    "start_time": "2022-09-14T05:33:17.757Z"
   },
   {
    "duration": 96,
    "start_time": "2022-09-14T05:34:07.194Z"
   },
   {
    "duration": 157,
    "start_time": "2022-09-14T05:36:04.264Z"
   },
   {
    "duration": 240,
    "start_time": "2022-09-14T05:36:05.638Z"
   },
   {
    "duration": 131,
    "start_time": "2022-09-14T05:36:07.454Z"
   },
   {
    "duration": 6,
    "start_time": "2022-09-14T05:37:01.621Z"
   },
   {
    "duration": 11,
    "start_time": "2022-09-14T05:37:46.494Z"
   },
   {
    "duration": 7,
    "start_time": "2022-09-14T05:38:11.322Z"
   },
   {
    "duration": 4,
    "start_time": "2022-09-14T05:38:15.353Z"
   },
   {
    "duration": 414,
    "start_time": "2022-09-14T05:38:28.114Z"
   },
   {
    "duration": 53,
    "start_time": "2022-09-14T05:38:28.530Z"
   },
   {
    "duration": 30,
    "start_time": "2022-09-14T05:38:28.585Z"
   },
   {
    "duration": 1114,
    "start_time": "2022-09-14T05:38:28.617Z"
   },
   {
    "duration": 3,
    "start_time": "2022-09-14T05:38:29.734Z"
   },
   {
    "duration": 17,
    "start_time": "2022-09-14T05:38:29.739Z"
   },
   {
    "duration": 27,
    "start_time": "2022-09-14T05:38:29.757Z"
   },
   {
    "duration": 28,
    "start_time": "2022-09-14T05:38:29.785Z"
   },
   {
    "duration": 12,
    "start_time": "2022-09-14T05:38:29.816Z"
   },
   {
    "duration": 10,
    "start_time": "2022-09-14T05:38:29.830Z"
   },
   {
    "duration": 10,
    "start_time": "2022-09-14T05:38:29.841Z"
   },
   {
    "duration": 12,
    "start_time": "2022-09-14T05:38:29.853Z"
   },
   {
    "duration": 4,
    "start_time": "2022-09-14T05:38:29.867Z"
   },
   {
    "duration": 9,
    "start_time": "2022-09-14T05:38:29.874Z"
   },
   {
    "duration": 17,
    "start_time": "2022-09-14T05:38:29.885Z"
   },
   {
    "duration": 11,
    "start_time": "2022-09-14T05:38:29.904Z"
   },
   {
    "duration": 14,
    "start_time": "2022-09-14T05:38:29.916Z"
   },
   {
    "duration": 13,
    "start_time": "2022-09-14T05:38:29.932Z"
   },
   {
    "duration": 24,
    "start_time": "2022-09-14T05:38:29.947Z"
   },
   {
    "duration": 30,
    "start_time": "2022-09-14T05:38:29.973Z"
   },
   {
    "duration": 80,
    "start_time": "2022-09-14T05:38:30.005Z"
   },
   {
    "duration": 474,
    "start_time": "2022-09-14T05:38:30.090Z"
   },
   {
    "duration": 7,
    "start_time": "2022-09-14T05:38:30.566Z"
   },
   {
    "duration": 1029,
    "start_time": "2022-09-14T05:38:30.574Z"
   },
   {
    "duration": 7,
    "start_time": "2022-09-14T05:38:31.608Z"
   },
   {
    "duration": 314,
    "start_time": "2022-09-14T05:38:31.616Z"
   },
   {
    "duration": 27,
    "start_time": "2022-09-14T05:38:31.932Z"
   },
   {
    "duration": 697,
    "start_time": "2022-09-14T05:38:31.961Z"
   },
   {
    "duration": 579,
    "start_time": "2022-09-14T05:38:32.660Z"
   },
   {
    "duration": 7,
    "start_time": "2022-09-14T05:38:33.240Z"
   },
   {
    "duration": 302,
    "start_time": "2022-09-14T05:38:33.248Z"
   },
   {
    "duration": 324,
    "start_time": "2022-09-14T05:38:33.552Z"
   },
   {
    "duration": 19,
    "start_time": "2022-09-14T05:38:33.877Z"
   },
   {
    "duration": 27,
    "start_time": "2022-09-14T05:38:33.899Z"
   },
   {
    "duration": 10,
    "start_time": "2022-09-14T05:38:33.927Z"
   },
   {
    "duration": 13,
    "start_time": "2022-09-14T05:38:33.939Z"
   },
   {
    "duration": 4,
    "start_time": "2022-09-14T05:38:33.954Z"
   },
   {
    "duration": 7,
    "start_time": "2022-09-14T05:38:33.960Z"
   },
   {
    "duration": 399,
    "start_time": "2022-09-14T05:38:33.969Z"
   },
   {
    "duration": 106,
    "start_time": "2022-09-14T05:38:34.369Z"
   },
   {
    "duration": 115,
    "start_time": "2022-09-14T05:38:34.479Z"
   },
   {
    "duration": 127,
    "start_time": "2022-09-14T05:38:34.598Z"
   },
   {
    "duration": 158,
    "start_time": "2022-09-14T05:38:34.727Z"
   },
   {
    "duration": 152,
    "start_time": "2022-09-14T05:38:34.889Z"
   },
   {
    "duration": 156,
    "start_time": "2022-09-14T05:38:35.042Z"
   },
   {
    "duration": 7,
    "start_time": "2022-09-14T05:38:35.203Z"
   },
   {
    "duration": 15,
    "start_time": "2022-09-14T05:38:35.212Z"
   },
   {
    "duration": 11,
    "start_time": "2022-09-14T05:38:35.229Z"
   },
   {
    "duration": 17,
    "start_time": "2022-09-14T05:38:35.242Z"
   },
   {
    "duration": 6,
    "start_time": "2022-09-14T05:38:35.261Z"
   },
   {
    "duration": 25,
    "start_time": "2022-09-14T05:38:35.268Z"
   },
   {
    "duration": 4,
    "start_time": "2022-09-14T05:40:43.478Z"
   },
   {
    "duration": 460,
    "start_time": "2022-09-14T05:41:07.900Z"
   },
   {
    "duration": 64,
    "start_time": "2022-09-14T05:41:08.362Z"
   },
   {
    "duration": 13,
    "start_time": "2022-09-14T05:41:08.428Z"
   },
   {
    "duration": 1066,
    "start_time": "2022-09-14T05:41:08.443Z"
   },
   {
    "duration": 4,
    "start_time": "2022-09-14T05:41:09.511Z"
   },
   {
    "duration": 18,
    "start_time": "2022-09-14T05:41:09.516Z"
   },
   {
    "duration": 14,
    "start_time": "2022-09-14T05:41:09.535Z"
   },
   {
    "duration": 13,
    "start_time": "2022-09-14T05:41:09.551Z"
   },
   {
    "duration": 5,
    "start_time": "2022-09-14T05:41:09.565Z"
   },
   {
    "duration": 5,
    "start_time": "2022-09-14T05:41:09.572Z"
   },
   {
    "duration": 12,
    "start_time": "2022-09-14T05:41:09.579Z"
   },
   {
    "duration": 16,
    "start_time": "2022-09-14T05:41:09.595Z"
   },
   {
    "duration": 5,
    "start_time": "2022-09-14T05:41:09.612Z"
   },
   {
    "duration": 10,
    "start_time": "2022-09-14T05:41:09.618Z"
   },
   {
    "duration": 10,
    "start_time": "2022-09-14T05:41:09.629Z"
   },
   {
    "duration": 4,
    "start_time": "2022-09-14T05:41:09.641Z"
   },
   {
    "duration": 10,
    "start_time": "2022-09-14T05:41:09.646Z"
   },
   {
    "duration": 49,
    "start_time": "2022-09-14T05:41:09.658Z"
   },
   {
    "duration": 21,
    "start_time": "2022-09-14T05:41:09.709Z"
   },
   {
    "duration": 11,
    "start_time": "2022-09-14T05:41:09.732Z"
   },
   {
    "duration": 89,
    "start_time": "2022-09-14T05:41:09.745Z"
   },
   {
    "duration": 476,
    "start_time": "2022-09-14T05:41:09.836Z"
   },
   {
    "duration": 7,
    "start_time": "2022-09-14T05:41:10.315Z"
   },
   {
    "duration": 957,
    "start_time": "2022-09-14T05:41:10.323Z"
   },
   {
    "duration": 11,
    "start_time": "2022-09-14T05:41:11.281Z"
   },
   {
    "duration": 273,
    "start_time": "2022-09-14T05:41:11.295Z"
   },
   {
    "duration": 40,
    "start_time": "2022-09-14T05:41:11.570Z"
   },
   {
    "duration": 756,
    "start_time": "2022-09-14T05:41:11.615Z"
   },
   {
    "duration": 565,
    "start_time": "2022-09-14T05:41:12.373Z"
   },
   {
    "duration": 7,
    "start_time": "2022-09-14T05:41:12.940Z"
   },
   {
    "duration": 294,
    "start_time": "2022-09-14T05:41:12.948Z"
   },
   {
    "duration": 311,
    "start_time": "2022-09-14T05:41:13.243Z"
   },
   {
    "duration": 9,
    "start_time": "2022-09-14T05:41:13.556Z"
   },
   {
    "duration": 27,
    "start_time": "2022-09-14T05:41:13.566Z"
   },
   {
    "duration": 17,
    "start_time": "2022-09-14T05:41:13.595Z"
   },
   {
    "duration": 11,
    "start_time": "2022-09-14T05:41:13.613Z"
   },
   {
    "duration": 9,
    "start_time": "2022-09-14T05:41:13.626Z"
   },
   {
    "duration": 15,
    "start_time": "2022-09-14T05:41:13.637Z"
   },
   {
    "duration": 382,
    "start_time": "2022-09-14T05:41:13.654Z"
   },
   {
    "duration": 110,
    "start_time": "2022-09-14T05:41:14.037Z"
   },
   {
    "duration": 115,
    "start_time": "2022-09-14T05:41:14.149Z"
   },
   {
    "duration": 131,
    "start_time": "2022-09-14T05:41:14.266Z"
   },
   {
    "duration": 154,
    "start_time": "2022-09-14T05:41:14.400Z"
   },
   {
    "duration": 139,
    "start_time": "2022-09-14T05:41:14.556Z"
   },
   {
    "duration": 140,
    "start_time": "2022-09-14T05:41:14.698Z"
   },
   {
    "duration": 2,
    "start_time": "2022-09-14T05:41:14.840Z"
   },
   {
    "duration": 11,
    "start_time": "2022-09-14T05:41:14.843Z"
   },
   {
    "duration": 9,
    "start_time": "2022-09-14T05:41:14.856Z"
   },
   {
    "duration": 8,
    "start_time": "2022-09-14T05:41:14.867Z"
   },
   {
    "duration": 13,
    "start_time": "2022-09-14T05:41:14.890Z"
   },
   {
    "duration": 390,
    "start_time": "2022-09-14T14:32:58.822Z"
   },
   {
    "duration": 57,
    "start_time": "2022-09-14T14:32:59.213Z"
   },
   {
    "duration": 13,
    "start_time": "2022-09-14T14:32:59.272Z"
   },
   {
    "duration": 925,
    "start_time": "2022-09-14T14:32:59.287Z"
   },
   {
    "duration": 3,
    "start_time": "2022-09-14T14:33:00.213Z"
   },
   {
    "duration": 8,
    "start_time": "2022-09-14T14:33:00.218Z"
   },
   {
    "duration": 9,
    "start_time": "2022-09-14T14:33:00.228Z"
   },
   {
    "duration": 11,
    "start_time": "2022-09-14T14:33:00.238Z"
   },
   {
    "duration": 5,
    "start_time": "2022-09-14T14:33:00.250Z"
   },
   {
    "duration": 7,
    "start_time": "2022-09-14T14:33:00.257Z"
   },
   {
    "duration": 9,
    "start_time": "2022-09-14T14:33:00.265Z"
   },
   {
    "duration": 12,
    "start_time": "2022-09-14T14:33:00.276Z"
   },
   {
    "duration": 11,
    "start_time": "2022-09-14T14:33:00.309Z"
   },
   {
    "duration": 35,
    "start_time": "2022-09-14T14:33:00.321Z"
   },
   {
    "duration": 16,
    "start_time": "2022-09-14T14:33:00.357Z"
   },
   {
    "duration": 4,
    "start_time": "2022-09-14T14:33:00.374Z"
   },
   {
    "duration": 32,
    "start_time": "2022-09-14T14:33:00.380Z"
   },
   {
    "duration": 18,
    "start_time": "2022-09-14T14:33:00.414Z"
   },
   {
    "duration": 40,
    "start_time": "2022-09-14T14:33:00.433Z"
   },
   {
    "duration": 10,
    "start_time": "2022-09-14T14:33:00.474Z"
   },
   {
    "duration": 51,
    "start_time": "2022-09-14T14:33:00.485Z"
   },
   {
    "duration": 345,
    "start_time": "2022-09-14T14:33:00.538Z"
   },
   {
    "duration": 6,
    "start_time": "2022-09-14T14:33:00.885Z"
   },
   {
    "duration": 833,
    "start_time": "2022-09-14T14:33:00.892Z"
   },
   {
    "duration": 8,
    "start_time": "2022-09-14T14:33:01.726Z"
   },
   {
    "duration": 230,
    "start_time": "2022-09-14T14:33:01.736Z"
   },
   {
    "duration": 19,
    "start_time": "2022-09-14T14:33:01.968Z"
   },
   {
    "duration": 541,
    "start_time": "2022-09-14T14:33:01.990Z"
   },
   {
    "duration": 465,
    "start_time": "2022-09-14T14:33:02.532Z"
   },
   {
    "duration": 13,
    "start_time": "2022-09-14T14:33:02.999Z"
   },
   {
    "duration": 258,
    "start_time": "2022-09-14T14:33:03.013Z"
   },
   {
    "duration": 253,
    "start_time": "2022-09-14T14:33:03.272Z"
   },
   {
    "duration": 8,
    "start_time": "2022-09-14T14:33:03.527Z"
   },
   {
    "duration": 11,
    "start_time": "2022-09-14T14:33:03.536Z"
   },
   {
    "duration": 8,
    "start_time": "2022-09-14T14:33:03.548Z"
   },
   {
    "duration": 16,
    "start_time": "2022-09-14T14:33:03.558Z"
   },
   {
    "duration": 8,
    "start_time": "2022-09-14T14:33:03.575Z"
   },
   {
    "duration": 26,
    "start_time": "2022-09-14T14:33:03.584Z"
   },
   {
    "duration": 317,
    "start_time": "2022-09-14T14:33:03.611Z"
   },
   {
    "duration": 88,
    "start_time": "2022-09-14T14:33:03.929Z"
   },
   {
    "duration": 98,
    "start_time": "2022-09-14T14:33:04.019Z"
   },
   {
    "duration": 98,
    "start_time": "2022-09-14T14:33:04.119Z"
   },
   {
    "duration": 124,
    "start_time": "2022-09-14T14:33:04.219Z"
   },
   {
    "duration": 143,
    "start_time": "2022-09-14T14:33:04.345Z"
   },
   {
    "duration": 148,
    "start_time": "2022-09-14T14:33:04.491Z"
   },
   {
    "duration": 3,
    "start_time": "2022-09-14T14:33:04.641Z"
   },
   {
    "duration": 19,
    "start_time": "2022-09-14T14:33:04.646Z"
   },
   {
    "duration": 17,
    "start_time": "2022-09-14T14:33:04.666Z"
   },
   {
    "duration": 24,
    "start_time": "2022-09-14T14:33:04.684Z"
   },
   {
    "duration": 13,
    "start_time": "2022-09-14T14:33:04.710Z"
   },
   {
    "duration": 90,
    "start_time": "2023-01-05T08:48:05.387Z"
   },
   {
    "duration": 461,
    "start_time": "2023-01-05T08:51:20.929Z"
   },
   {
    "duration": 187,
    "start_time": "2023-01-05T08:51:21.393Z"
   },
   {
    "duration": 16,
    "start_time": "2023-01-05T08:51:21.582Z"
   },
   {
    "duration": 1206,
    "start_time": "2023-01-05T08:51:21.600Z"
   },
   {
    "duration": 5,
    "start_time": "2023-01-05T08:51:22.808Z"
   },
   {
    "duration": 10,
    "start_time": "2023-01-05T08:51:22.815Z"
   },
   {
    "duration": 24,
    "start_time": "2023-01-05T08:51:22.828Z"
   },
   {
    "duration": 11,
    "start_time": "2023-01-05T08:51:22.854Z"
   },
   {
    "duration": 5,
    "start_time": "2023-01-05T08:51:22.867Z"
   },
   {
    "duration": 88,
    "start_time": "2023-01-05T08:51:22.875Z"
   },
   {
    "duration": 4,
    "start_time": "2023-01-05T08:51:22.965Z"
   },
   {
    "duration": 22,
    "start_time": "2023-01-05T08:51:22.970Z"
   },
   {
    "duration": 5,
    "start_time": "2023-01-05T08:51:22.994Z"
   },
   {
    "duration": 8,
    "start_time": "2023-01-05T08:51:23.001Z"
   },
   {
    "duration": 16,
    "start_time": "2023-01-05T08:51:23.011Z"
   },
   {
    "duration": 22,
    "start_time": "2023-01-05T08:51:23.029Z"
   },
   {
    "duration": 9,
    "start_time": "2023-01-05T08:51:23.052Z"
   },
   {
    "duration": 16,
    "start_time": "2023-01-05T08:51:23.063Z"
   },
   {
    "duration": 26,
    "start_time": "2023-01-05T08:51:23.081Z"
   },
   {
    "duration": 12,
    "start_time": "2023-01-05T08:51:23.108Z"
   },
   {
    "duration": 80,
    "start_time": "2023-01-05T08:51:23.122Z"
   },
   {
    "duration": 380,
    "start_time": "2023-01-05T08:51:23.204Z"
   },
   {
    "duration": 7,
    "start_time": "2023-01-05T08:51:23.586Z"
   },
   {
    "duration": 1062,
    "start_time": "2023-01-05T08:51:23.594Z"
   },
   {
    "duration": 9,
    "start_time": "2023-01-05T08:51:24.658Z"
   },
   {
    "duration": 365,
    "start_time": "2023-01-05T08:51:24.669Z"
   },
   {
    "duration": 32,
    "start_time": "2023-01-05T08:51:25.036Z"
   },
   {
    "duration": 588,
    "start_time": "2023-01-05T08:51:25.072Z"
   },
   {
    "duration": 580,
    "start_time": "2023-01-05T08:51:25.661Z"
   },
   {
    "duration": 12,
    "start_time": "2023-01-05T08:51:26.243Z"
   },
   {
    "duration": 300,
    "start_time": "2023-01-05T08:51:26.258Z"
   },
   {
    "duration": 311,
    "start_time": "2023-01-05T08:51:26.560Z"
   },
   {
    "duration": 11,
    "start_time": "2023-01-05T08:51:26.873Z"
   },
   {
    "duration": 26,
    "start_time": "2023-01-05T08:51:26.886Z"
   },
   {
    "duration": 22,
    "start_time": "2023-01-05T08:51:26.914Z"
   },
   {
    "duration": 17,
    "start_time": "2023-01-05T08:51:26.938Z"
   },
   {
    "duration": 12,
    "start_time": "2023-01-05T08:51:26.956Z"
   },
   {
    "duration": 26,
    "start_time": "2023-01-05T08:51:26.969Z"
   },
   {
    "duration": 359,
    "start_time": "2023-01-05T08:51:26.996Z"
   },
   {
    "duration": 108,
    "start_time": "2023-01-05T08:51:27.356Z"
   },
   {
    "duration": 106,
    "start_time": "2023-01-05T08:51:27.466Z"
   },
   {
    "duration": 112,
    "start_time": "2023-01-05T08:51:27.574Z"
   },
   {
    "duration": 151,
    "start_time": "2023-01-05T08:51:27.688Z"
   },
   {
    "duration": 141,
    "start_time": "2023-01-05T08:51:27.841Z"
   },
   {
    "duration": 138,
    "start_time": "2023-01-05T08:51:27.983Z"
   },
   {
    "duration": 2,
    "start_time": "2023-01-05T08:51:28.123Z"
   },
   {
    "duration": 24,
    "start_time": "2023-01-05T08:51:28.127Z"
   },
   {
    "duration": 11,
    "start_time": "2023-01-05T08:51:28.153Z"
   },
   {
    "duration": 10,
    "start_time": "2023-01-05T08:51:28.166Z"
   },
   {
    "duration": 408,
    "start_time": "2023-01-05T08:54:28.487Z"
   },
   {
    "duration": 54,
    "start_time": "2023-01-05T08:54:28.897Z"
   },
   {
    "duration": 16,
    "start_time": "2023-01-05T08:54:28.952Z"
   },
   {
    "duration": 1156,
    "start_time": "2023-01-05T08:54:28.970Z"
   },
   {
    "duration": 4,
    "start_time": "2023-01-05T08:54:30.128Z"
   },
   {
    "duration": 18,
    "start_time": "2023-01-05T08:54:30.133Z"
   },
   {
    "duration": 13,
    "start_time": "2023-01-05T08:54:30.153Z"
   },
   {
    "duration": 15,
    "start_time": "2023-01-05T08:54:30.168Z"
   },
   {
    "duration": 6,
    "start_time": "2023-01-05T08:54:30.185Z"
   },
   {
    "duration": 11,
    "start_time": "2023-01-05T08:54:30.193Z"
   },
   {
    "duration": 7,
    "start_time": "2023-01-05T08:54:30.206Z"
   },
   {
    "duration": 36,
    "start_time": "2023-01-05T08:54:30.215Z"
   },
   {
    "duration": 5,
    "start_time": "2023-01-05T08:54:30.253Z"
   },
   {
    "duration": 17,
    "start_time": "2023-01-05T08:54:30.261Z"
   },
   {
    "duration": 31,
    "start_time": "2023-01-05T08:54:30.280Z"
   },
   {
    "duration": 14,
    "start_time": "2023-01-05T08:54:30.312Z"
   },
   {
    "duration": 19,
    "start_time": "2023-01-05T08:54:30.328Z"
   },
   {
    "duration": 21,
    "start_time": "2023-01-05T08:54:30.349Z"
   },
   {
    "duration": 29,
    "start_time": "2023-01-05T08:54:30.372Z"
   },
   {
    "duration": 13,
    "start_time": "2023-01-05T08:54:30.403Z"
   },
   {
    "duration": 435,
    "start_time": "2023-01-05T08:54:30.418Z"
   },
   {
    "duration": 8,
    "start_time": "2023-01-05T08:54:30.855Z"
   },
   {
    "duration": 1015,
    "start_time": "2023-01-05T08:54:30.864Z"
   },
   {
    "duration": 7,
    "start_time": "2023-01-05T08:54:31.881Z"
   },
   {
    "duration": 269,
    "start_time": "2023-01-05T08:54:31.890Z"
   },
   {
    "duration": 29,
    "start_time": "2023-01-05T08:54:32.161Z"
   },
   {
    "duration": 656,
    "start_time": "2023-01-05T08:54:32.192Z"
   },
   {
    "duration": 305,
    "start_time": "2023-01-05T08:54:32.850Z"
   },
   {
    "duration": 303,
    "start_time": "2023-01-05T08:54:33.157Z"
   },
   {
    "duration": 9,
    "start_time": "2023-01-05T08:54:33.462Z"
   },
   {
    "duration": 14,
    "start_time": "2023-01-05T08:54:33.473Z"
   },
   {
    "duration": 9,
    "start_time": "2023-01-05T08:54:33.489Z"
   },
   {
    "duration": 15,
    "start_time": "2023-01-05T08:54:33.499Z"
   },
   {
    "duration": 36,
    "start_time": "2023-01-05T08:54:33.516Z"
   },
   {
    "duration": 281,
    "start_time": "2023-01-05T08:54:33.554Z"
   },
   {
    "duration": 103,
    "start_time": "2023-01-05T08:54:33.837Z"
   },
   {
    "duration": 113,
    "start_time": "2023-01-05T08:54:33.941Z"
   },
   {
    "duration": 117,
    "start_time": "2023-01-05T08:54:34.056Z"
   },
   {
    "duration": 251,
    "start_time": "2023-01-05T08:54:34.175Z"
   },
   {
    "duration": 150,
    "start_time": "2023-01-05T08:54:34.428Z"
   },
   {
    "duration": 144,
    "start_time": "2023-01-05T08:54:34.583Z"
   },
   {
    "duration": 3,
    "start_time": "2023-01-05T08:54:34.728Z"
   },
   {
    "duration": 19,
    "start_time": "2023-01-05T08:54:34.733Z"
   },
   {
    "duration": 14,
    "start_time": "2023-01-05T08:54:34.754Z"
   }
  ],
  "kernelspec": {
   "display_name": "Python 3 (ipykernel)",
   "language": "python",
   "name": "python3"
  },
  "language_info": {
   "codemirror_mode": {
    "name": "ipython",
    "version": 3
   },
   "file_extension": ".py",
   "mimetype": "text/x-python",
   "name": "python",
   "nbconvert_exporter": "python",
   "pygments_lexer": "ipython3",
   "version": "3.9.5"
  },
  "toc": {
   "base_numbering": 1,
   "nav_menu": {},
   "number_sections": true,
   "sideBar": true,
   "skip_h1_title": true,
   "title_cell": "Table of Contents",
   "title_sidebar": "Contents",
   "toc_cell": false,
   "toc_position": {
    "height": "calc(100% - 180px)",
    "left": "10px",
    "top": "150px",
    "width": "291.65625px"
   },
   "toc_section_display": true,
   "toc_window_display": true
  }
 },
 "nbformat": 4,
 "nbformat_minor": 2
}
